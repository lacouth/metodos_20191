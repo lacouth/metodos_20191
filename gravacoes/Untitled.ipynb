{
 "cells": [
  {
   "cell_type": "code",
   "execution_count": 1,
   "metadata": {},
   "outputs": [],
   "source": [
    "import numpy as np\n",
    "from scipy.linalg import solve_triangular\n",
    "np.set_printoptions(formatter={'float': lambda x: \"{:.4f}\".format(x)})"
   ]
  },
  {
   "cell_type": "code",
   "execution_count": 2,
   "metadata": {},
   "outputs": [],
   "source": [
    "def lu(M):\n",
    "    L = np.zeros(M.shape)\n",
    "    U = M.copy()\n",
    "    P = np.identity(M.shape[0])\n",
    "    \n",
    "    passos = M.shape[0]-1\n",
    "    for p in range(passos):\n",
    "        pos = np.argmax(abs(U[p:,p]))+p\n",
    "        \n",
    "        if pos > p:\n",
    "            U[[p,pos],:] = U[[pos,p],:]\n",
    "            P[[p,pos],:] = P[[pos,p],:]\n",
    "            L[[p,pos],:] = L[[pos,p],:]\n",
    "        \n",
    "        pivo = U[p,p]\n",
    "        print(L)\n",
    "        for i in range(p+1,U.shape[0]):\n",
    "            m = U[i,p]/pivo\n",
    "            U[i] = U[i] - U[p]*m\n",
    "            L[i,p] = m\n",
    "            \n",
    "    for i in range(M.shape[0]):\n",
    "        L[i,i] = 1\n",
    "            \n",
    "    return L,U,P"
   ]
  },
  {
   "cell_type": "code",
   "execution_count": 3,
   "metadata": {},
   "outputs": [
    {
     "name": "stdout",
     "output_type": "stream",
     "text": [
      "[[0.0000 0.0000 0.0000]\n",
      " [0.0000 0.0000 0.0000]\n",
      " [0.0000 0.0000 0.0000]]\n",
      "[[0.0000 0.0000 0.0000]\n",
      " [0.1736 0.0000 0.0000]\n",
      " [0.4444 0.0000 0.0000]]\n",
      "[[1.0000 0.0000 0.0000]\n",
      " [0.1736 1.0000 0.0000]\n",
      " [0.4444 0.9143 1.0000]]\n"
     ]
    },
    {
     "data": {
      "text/plain": [
       "array([[144.0000, 12.0000, 1.0000],\n",
       "       [25.0000, 5.0000, 1.0000],\n",
       "       [64.0000, 8.0000, 1.0000]])"
      ]
     },
     "execution_count": 3,
     "metadata": {},
     "output_type": "execute_result"
    }
   ],
   "source": [
    "A = np.array([[25,5,1],[64,8,1],[144,12,1]],dtype = float)\n",
    "l,u,p = lu(A)\n",
    "print(l)\n",
    "np.dot(l,u)"
   ]
  },
  {
   "cell_type": "code",
   "execution_count": null,
   "metadata": {},
   "outputs": [],
   "source": [
    "def solve_lu(A,B):\n",
    "    L,U,P = lu(A)\n",
    "    Z = np.zeros(B.shape)\n",
    "    X = np.zeros(B.shape)\n",
    "    Z = solve_triangular(L,np.dot(P,B), lower = True)\n",
    "    X = solve_triangular(U,Z)\n",
    "    return X"
   ]
  },
  {
   "cell_type": "code",
   "execution_count": null,
   "metadata": {},
   "outputs": [],
   "source": [
    "A = np.array([[25,5,1],[64,8,1],[144,12,1]],dtype = float)\n",
    "B = np.array([106.8,177.2,279.2])\n",
    "solve_lu(A,B)"
   ]
  },
  {
   "cell_type": "code",
   "execution_count": null,
   "metadata": {},
   "outputs": [],
   "source": [
    "A[:,0]"
   ]
  },
  {
   "cell_type": "code",
   "execution_count": null,
   "metadata": {},
   "outputs": [],
   "source": [
    "np.argmax(A[:,0])"
   ]
  },
  {
   "cell_type": "code",
   "execution_count": null,
   "metadata": {},
   "outputs": [],
   "source": [
    "def inv_lu(M):\n",
    "    L,U,P = lu(M)\n",
    "    Z = np.zeros(M.shape[0])\n",
    "    M_inv = np.zeros(M.shape)\n",
    "    for i in range(M.shape[0]):\n",
    "        Z = solve_triangular(L,P[:,i], lower=True)\n",
    "        M_inv[:,i] = solve_triangular(U,Z)\n",
    "    return M_inv"
   ]
  },
  {
   "cell_type": "code",
   "execution_count": null,
   "metadata": {},
   "outputs": [],
   "source": [
    "A = np.array([[25,5,1],[64,8,1],[144,12,1]],dtype = np.float)\n",
    "A_inv = inv_lu(A)\n",
    "print(A_inv)"
   ]
  },
  {
   "cell_type": "code",
   "execution_count": null,
   "metadata": {},
   "outputs": [],
   "source": [
    "np.dot(A,A_inv)"
   ]
  },
  {
   "cell_type": "code",
   "execution_count": null,
   "metadata": {},
   "outputs": [],
   "source": [
    "def gauss_seidel(A,B,chutes,tolerancia, max_it):\n",
    "    X = np.array(chutes,dtype=float)\n",
    "    erros = np.zeros(A.shape[0])\n",
    "    for k in range(max_it):\n",
    "        X_ant = X.copy()\n",
    "        for i in range(A.shape[0]):\n",
    "            X[i] = B[i]\n",
    "            for j in range(A.shape[1]):\n",
    "                if j!=i:\n",
    "                    X[i] -= A[i,j]*X[j]\n",
    "            X[i] /= A[i,i]\n",
    "            erros[i] = abs((X[i]-X_ant[i])/X[i])*100\n",
    "        if max(erros) < tolerancia:\n",
    "            return X\n",
    "    return X    "
   ]
  },
  {
   "cell_type": "code",
   "execution_count": null,
   "metadata": {},
   "outputs": [],
   "source": [
    "A = np.array([[12,3,-5],[1,5,3],[3,7,13]], dtype=float)\n",
    "B = np.array([1,28,76])\n",
    "gauss_seidel(A,B,[0,0,0],0.0001,100)"
   ]
  },
  {
   "cell_type": "markdown",
   "metadata": {},
   "source": []
  }
 ],
 "metadata": {
  "kernelspec": {
   "display_name": "Python 3",
   "language": "python",
   "name": "python3"
  },
  "language_info": {
   "codemirror_mode": {
    "name": "ipython",
    "version": 3
   },
   "file_extension": ".py",
   "mimetype": "text/x-python",
   "name": "python",
   "nbconvert_exporter": "python",
   "pygments_lexer": "ipython3",
   "version": "3.7.2"
  }
 },
 "nbformat": 4,
 "nbformat_minor": 2
}
