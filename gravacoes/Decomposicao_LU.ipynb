{
 "cells": [
  {
   "cell_type": "markdown",
   "metadata": {
    "graffitiCellId": "id_qe1qyfb"
   },
   "source": [
    "[![Binder](https://mybinder.org/badge_logo.svg)](https://mybinder.org/v2/gh/lacouth/metodos_20191/master)"
   ]
  },
  {
   "cell_type": "code",
   "execution_count": null,
   "metadata": {
    "graffitiCellId": "id_5xhujfj"
   },
   "outputs": [],
   "source": [
    "# NO CANTO SUPERIOR CLICK EM \"NOT TRUSTED\" PARA HABILITAR OS JS DO NOTEBOOK\n",
    "\n",
    "import jupytergraffiti #NÃO EXECUTAR ESSA CÉLULA NO GOOGLE COLAB"
   ]
  },
  {
   "cell_type": "markdown",
   "metadata": {
    "graffitiCellId": "id_rh7iqpp"
   },
   "source": [
    "# <span class=\"graffiti-highlight graffiti-id_rh7iqpp-id_fydf14x\"><i></i>A Decomposição LU</span>"
   ]
  },
  {
   "cell_type": "markdown",
   "metadata": {
    "graffitiCellId": "id_r5gwm3l"
   },
   "source": [
    "## Teoria"
   ]
  },
  {
   "cell_type": "markdown",
   "metadata": {
    "graffitiCellId": "id_n853e3j"
   },
   "source": [
    "Um sistema de equações lineares pode ser escrito como: \n",
    "\n",
    "$$ [A]_{n \\times n} [X]_{n \\times 1} = [B]_{n \\times 1} $$\n",
    "\n",
    "Podemos decompor $[A]$ como:\n",
    "\n",
    "$$ [A] = [L][U] $$\n",
    "\n",
    "onde $[L]$ é uma matriz triangular inferior e $[U]$ é uma matriz triangular superior.\n",
    "\n",
    "Teremos então:\n",
    "\n",
    "$$ [L][U][X] = [B] $$\n",
    "\n",
    "multiplicando os dois lados por $[L]^{-1}$ obtemos:\n",
    "\n",
    "$$ [L]^{-1} [L][U][X] = [L]^{-1}[B] $$\n",
    "\n",
    "Sabemos que qualquer matriz multiplicada pela sua inversa é igual a matriz identidade, logo:\n",
    "\n",
    "$$ [I][U][X] = [L]^{-1}[B] $$\n",
    "\n",
    "sabemos também que qualquer matriz multiplicada pela matriz identidade é a própria matriz, então:\n",
    "\n",
    "$$ [U][X] = [L]^{-1}[B] $$\n",
    "\n",
    "fazendo $[Z] = [L]^{-1}[B] $, temos:\n",
    "\n",
    "$$ [U][X] = [Z] $$\n",
    "\n",
    "Sabemos que $ [L]^{-1}[B] = [Z] $, multiplicamos os dos lados da equação por $[L]$ para obter:\n",
    "\n",
    "$$ [L][L]^{-1}[B] = [L] [Z] $$\n",
    "$$ [I][B] = [L][Z] $$\n",
    "$$ [B] = [L][Z] $$\n",
    "\n",
    "Ficamos com dois sistemas:\n",
    "\n",
    "$$ [L][Z] = [B] $$\n",
    "$$ [U][X] = [Z] $$\n",
    "\n",
    "Expandindo: \n",
    "\n",
    "$$\\begin{bmatrix}\\times & 0 & 0\\\\\n",
    "\\times &\\times  & 0\\\\\n",
    "\\times &\\times  &\\times\n",
    "\\end{bmatrix}\n",
    "\\begin{bmatrix}\n",
    "z_1\\\\\n",
    "z_2\\\\\n",
    "z_3\n",
    "\\end{bmatrix}\n",
    "=\n",
    "\\begin{bmatrix}\n",
    "b_1\\\\\n",
    "b_2\\\\\n",
    "b_3\n",
    "\\end{bmatrix}$$\n",
    "\n",
    "$$\\begin{bmatrix}\n",
    "\\times & \\times & \\times \\\\ \n",
    "0 &\\times  & \\times\\\\ \n",
    "0 &0  &\\times \n",
    "\\end{bmatrix}\n",
    "\\begin{bmatrix}\n",
    "x_1\\\\\n",
    "x_2\\\\\n",
    "x_3\n",
    "\\end{bmatrix}\n",
    "=\n",
    "\\begin{bmatrix}\n",
    "z_1\\\\\n",
    "z_2\\\\\n",
    "z_3\n",
    "\\end{bmatrix}$$"
   ]
  },
  {
   "cell_type": "markdown",
   "metadata": {
    "graffitiCellId": "id_mntiqbu"
   },
   "source": [
    "## <span class=\"graffiti-highlight graffiti-id_mntiqbu-id_0pn8c4m\"><i></i>A Decomposição LU : Decompondo a matriz [A]</span>\n",
    "\n",
    "$$ [A] = \\begin{bmatrix}25 & 5 & 1\\\\\n",
    "64 & 8  & 1\\\\\n",
    "144 & 12  & 1\n",
    "\\end{bmatrix}$$\n",
    "\n",
    "$$ [A] = [L][U] $$"
   ]
  },
  {
   "cell_type": "code",
   "execution_count": null,
   "metadata": {
    "graffitiCellId": "id_k0rba6z"
   },
   "outputs": [],
   "source": [
    "import numpy as np\n",
    "np.set_printoptions(formatter={'float': lambda x: \"{:.3f}\".format(x)})"
   ]
  },
  {
   "cell_type": "code",
   "execution_count": null,
   "metadata": {
    "graffitiCellId": "id_ij1a8ww"
   },
   "outputs": [],
   "source": [
    "A = np.array([[25,5,1],[64,8,1],[144,12,1]],dtype = float)"
   ]
  },
  {
   "cell_type": "markdown",
   "metadata": {
    "graffitiCellId": "id_12xb54z"
   },
   "source": [
    "# <span class=\"graffiti-highlight graffiti-id_12xb54z-id_uoiiol1\"><i></i>Encontrando a matriz inversa : Teoria</span>"
   ]
  },
  {
   "cell_type": "markdown",
   "metadata": {
    "graffitiCellId": "id_nkrtf84"
   },
   "source": [
    "Vamos supor que alguém pede para você encontrar a inversa de uma matriz quadrada $[A]_{n\\times n}$. O que você basicamente tem que encontrar é uma matriz de mesma ordem que multiplicada pela matriz $[A]$ resulte em uma matriz identidade:\n",
    "\n",
    "$$[A]_{n\\times n} [X]_{n\\times n} = [I]_{n\\times n} $$\n",
    "\n",
    "$$\\begin{bmatrix}\n",
    "a_{11} & a_{12} & a_{13} & \\ldots & a_{1n} \\\\\n",
    "a_{21} & a_{22} & a_{23} & \\ldots & a_{2n} \\\\\n",
    "\\vdots & &\\ddots & & \\vdots \\\\\n",
    "a_{n1} & a_{n2} & a_{n3} & \\ldots & a_{nn} \\\\\n",
    "\\end{bmatrix}\n",
    "\\begin{bmatrix}\n",
    "x_{11} & x_{12} & x_{13} & \\ldots & x_{1n} \\\\\n",
    "x_{21} & x_{22} & x_{23} & \\ldots & x_{2n} \\\\\n",
    "\\vdots & &\\ddots & &\\vdots \\\\\n",
    "x_{n1} & x_{n2} & x_{n3} & \\ldots & x_{nn} \\\\\n",
    "\\end{bmatrix}\n",
    "=\n",
    "\\begin{bmatrix}\n",
    "1 & 0 & 0 & \\ldots & 0 \\\\\n",
    "0 & 1 & 0 & \\ldots & 0 \\\\\n",
    "\\vdots & &\\ddots & &\\vdots \\\\\n",
    "0 & 0 & 0 & \\ldots & 1 \\\\\n",
    "\\end{bmatrix}\n",
    "$$\n",
    "\n",
    "Essa relação resulta em uma série de sistemas lineares. Por exemplo, para encontrar a primeira coluna da matriz $[X]$ você pode resolver o seguinte sistema:\n",
    "\n",
    "$$\\begin{bmatrix}\n",
    "a_{11} & a_{12} & a_{13} & \\ldots & a_{1n} \\\\\n",
    "a_{21} & a_{22} & a_{23} & \\ldots & a_{2n} \\\\\n",
    "\\vdots & &\\ddots & & \\vdots \\\\\n",
    "a_{n1} & a_{n2} & a_{n3} & \\ldots & a_{nn} \\\\\n",
    "\\end{bmatrix}\n",
    "\\begin{bmatrix}\n",
    "x_{11}\\\\\n",
    "x_{21}\\\\\n",
    "x_{31}\\\\\n",
    "\\vdots\\\\\n",
    "x_{n1}\n",
    "\\end{bmatrix}\n",
    "=\n",
    "\\begin{bmatrix}\n",
    "1\\\\\n",
    "0\\\\\n",
    "0\\\\\n",
    "\\vdots\\\\\n",
    "0\n",
    "\\end{bmatrix}$$\n",
    "\n",
    "Para encontrar a segunda coluna da matriz $[X]$ então resolvemos o sistema agora para a segunda coluna da matriz identidade:\n",
    "\n",
    "$$\\begin{bmatrix}\n",
    "a_{11} & a_{12} & a_{13} & \\ldots & a_{1n} \\\\\n",
    "a_{21} & a_{22} & a_{23} & \\ldots & a_{2n} \\\\\n",
    "\\vdots & &\\ddots & & \\vdots \\\\\n",
    "a_{n1} & a_{n2} & a_{n3} & \\ldots & a_{nn} \\\\\n",
    "\\end{bmatrix}\n",
    "\\begin{bmatrix}\n",
    "x_{12}\\\\\n",
    "x_{22}\\\\\n",
    "x_{32}\\\\\n",
    "\\vdots\\\\\n",
    "x_{n2}\n",
    "\\end{bmatrix}\n",
    "=\n",
    "\\begin{bmatrix}\n",
    "0\\\\\n",
    "1\\\\\n",
    "0\\\\\n",
    "\\vdots\\\\\n",
    "0\n",
    "\\end{bmatrix}$$\n",
    "\n",
    "Montamos sucessivos sistemas até a coluna $n$:\n",
    "\n",
    "$$\\begin{bmatrix}\n",
    "a_{11} & a_{12} & a_{13} & \\ldots & a_{1n} \\\\\n",
    "a_{21} & a_{22} & a_{23} & \\ldots & a_{2n} \\\\\n",
    "\\vdots & &\\ddots & & \\vdots \\\\\n",
    "a_{n1} & a_{n2} & a_{n3} & \\ldots & a_{nn} \\\\\n",
    "\\end{bmatrix}\n",
    "\\begin{bmatrix}\n",
    "x_{1n}\\\\\n",
    "x_{2n}\\\\\n",
    "x_{3n}\\\\\n",
    "\\vdots\\\\\n",
    "x_{nn}\n",
    "\\end{bmatrix}\n",
    "=\n",
    "\\begin{bmatrix}\n",
    "0\\\\\n",
    "0\\\\\n",
    "0\\\\\n",
    "\\vdots\\\\\n",
    "n\n",
    "\\end{bmatrix}$$\n",
    "\n",
    "## <span class=\"graffiti-highlight graffiti-id_nkrtf84-id_43iyt1v\"><i></i>Utilizando a decomposição LU</span>\n",
    "\n",
    "Para evitar ter que aplicar o passo da eliminação de Gauss em todos os sistemas, podemos decompor $[A]$ em duas matrizes $[L][U]$ e para cada sistema resolver apenas os passos de substituição.\n",
    "\n",
    "Então para encontrar a primeira coluna da matriz inversa, fazemos primeiro:\n",
    "\n",
    "$$\\begin{bmatrix}\n",
    "\\times & 0 & 0\\\\\n",
    "\\times &\\times & 0\\\\\n",
    "\\times &\\times & \\times\n",
    "\\end{bmatrix}\n",
    "\\begin{bmatrix}\n",
    "z_{1}\\\\\n",
    "z_{2}\\\\\n",
    "z_{3}\\\\\n",
    "\\end{bmatrix}\n",
    "=\n",
    "\\begin{bmatrix}\n",
    "1\\\\\n",
    "0\\\\\n",
    "0\n",
    "\\end{bmatrix}$$\n",
    "\n",
    "e depois com os valores de $[Z]$ resolvemos:\n",
    "\n",
    "$$\\begin{bmatrix}\n",
    "\\times & \\times & \\times \\\\ \n",
    "0 &\\times  & \\times\\\\ \n",
    "0 &0  &\\times \n",
    "\\end{bmatrix}\n",
    "\\begin{bmatrix}\n",
    "x_{11}\\\\\n",
    "x_{21}\\\\\n",
    "x_{31}\n",
    "\\end{bmatrix}\n",
    "=\n",
    "\\begin{bmatrix}\n",
    "z_{1}\\\\\n",
    "z_{2}\\\\\n",
    "z_{3}\\\\\n",
    "\\end{bmatrix}$$\n",
    "\n",
    "Agora para encontrar a segunda coluna apenas trocamos a matriz de termos independentes do primeiro sistema:\n",
    "\n",
    "$$\\begin{bmatrix}\n",
    "\\times & 0 & 0\\\\\n",
    "\\times &\\times & 0\\\\\n",
    "\\times &\\times & \\times\n",
    "\\end{bmatrix}\n",
    "\\begin{bmatrix}\n",
    "z_{1}\\\\\n",
    "z_{2}\\\\\n",
    "z_{3}\\\\\n",
    "\\end{bmatrix}\n",
    "=\n",
    "\\begin{bmatrix}\n",
    "0\\\\\n",
    "1\\\\\n",
    "0\n",
    "\\end{bmatrix}$$\n",
    "\n",
    "e depois com os valores de $[Z]$ resolvemos:\n",
    "\n",
    "$$\\begin{bmatrix}\n",
    "\\times & \\times & \\times \\\\ \n",
    "0 &\\times  & \\times\\\\ \n",
    "0 &0  &\\times \n",
    "\\end{bmatrix}\n",
    "\\begin{bmatrix}\n",
    "x_{12}\\\\\n",
    "x_{22}\\\\\n",
    "x_{32}\n",
    "\\end{bmatrix}\n",
    "=\n",
    "\\begin{bmatrix}\n",
    "z_{1}\\\\\n",
    "z_{2}\\\\\n",
    "z_{3}\\\\\n",
    "\\end{bmatrix}$$\n",
    "\n",
    "Resolvemos da mesma maneira até a coluna $n$ de $[X]$ mas apenas realizando as substituições diretas e reversas dos sistemas sem a necessidade dos passos de eliminação:\n",
    "\n",
    "$$[L]\n",
    "\\begin{bmatrix}\n",
    "z_{1}\\\\\n",
    "z_{2}\\\\\n",
    "z_{3}\\\\\n",
    "\\vdots\\\\\n",
    "z_{n1}\n",
    "\\end{bmatrix}\n",
    "=\n",
    "\\begin{bmatrix}\n",
    "0\\\\\n",
    "0\\\\\n",
    "0\\\\\n",
    "\\vdots\\\\\n",
    "1\n",
    "\\end{bmatrix}$$\n",
    "\n",
    "e depois com os valores de $[Z]$ resolvemos:\n",
    "\n",
    "$$[U]\n",
    "\\begin{bmatrix}\n",
    "x_{1n}\\\\\n",
    "x_{2n}\\\\\n",
    "x_{3n}\\\\\n",
    "\\vdots\\\\\n",
    "x_{nn}\n",
    "\\end{bmatrix}\n",
    "=\n",
    "\\begin{bmatrix}\n",
    "z_{1}\\\\\n",
    "z_{2}\\\\\n",
    "z_{3}\\\\\n",
    "\\vdots\\\\\n",
    "z_{n1}\n",
    "\\end{bmatrix}$$\n",
    "\n",
    "Dessa forma evitamos o passo mais complicado que é a eliminação de Gauss."
   ]
  },
  {
   "cell_type": "markdown",
   "metadata": {
    "graffitiCellId": "id_uoot1cg"
   },
   "source": [
    "# <span class=\"graffiti-highlight graffiti-id_uoot1cg-id_37o8gx8\"><i></i>Decomposição LU: Exemplo</span>\n",
    "\n",
    "Encontrar a matriz inversa de:\n",
    "$$ [A] = \\begin{bmatrix}25 & 5 & 1\\\\\n",
    "64 & 8  & 1\\\\\n",
    "144 & 12  & 1\n",
    "\\end{bmatrix}$$\n",
    "\n",
    "sabendo que:\n",
    "\n",
    "$$[A][A]^{-1} = [I]$$\n"
   ]
  },
  {
   "cell_type": "code",
   "execution_count": null,
   "metadata": {
    "graffitiCellId": "id_mx5jm2s"
   },
   "outputs": [],
   "source": [
    "from scipy.linalg import solve_triangular\n",
    "import numpy as np\n",
    "np.set_printoptions(formatter={'float': lambda x: \"{:.3f}\".format(x)})"
   ]
  },
  {
   "cell_type": "code",
   "execution_count": null,
   "metadata": {
    "graffitiCellId": "id_wwv0hyt"
   },
   "outputs": [],
   "source": [
    "A = np.array([[25,5,1],[64,8,1],[144,12,1]],dtype = float)\n",
    "A"
   ]
  },
  {
   "cell_type": "markdown",
   "metadata": {
    "graffitiCellId": "id_yma0rts"
   },
   "source": [
    "# Exercícios\n",
    "\n",
    "1. Calcule a decomposição LU de cada uma das matrizes abaixo:\n",
    "\n",
    "    a. \n",
    "$$ A = \\begin{bmatrix}2 & 1 \\\\-4 & -6\\end{bmatrix}$$\n",
    "    b.\n",
    "$$ A = \\begin{bmatrix}2 & 1 & -4 \\\\2 & 2 & -2\\\\6&3&-11\\end{bmatrix}$$\n",
    "    c.\n",
    "$$ A = \\begin{bmatrix}1 & 3 & 2 \\\\2 & 8 & 5\\\\1&11&4\\end{bmatrix}$$\n",
    "\n",
    "2. Encontre as matrizes inversas de cada um dos itens anteriores"
   ]
  },
  {
   "cell_type": "code",
   "execution_count": null,
   "metadata": {
    "graffitiCellId": "id_796j0nm"
   },
   "outputs": [],
   "source": []
  }
 ],
 "metadata": {
  "graffiti": {
   "firstAuthorId": "dev",
   "id": "id_vk4r509",
   "language": "EN"
  },
  "kernelspec": {
   "display_name": "Python 3",
   "language": "python",
   "name": "python3"
  },
  "language_info": {
   "codemirror_mode": {
    "name": "ipython",
    "version": 3
   },
   "file_extension": ".py",
   "mimetype": "text/x-python",
   "name": "python",
   "nbconvert_exporter": "python",
   "pygments_lexer": "ipython3",
   "version": "3.7.1"
  }
 },
 "nbformat": 4,
 "nbformat_minor": 2
}
