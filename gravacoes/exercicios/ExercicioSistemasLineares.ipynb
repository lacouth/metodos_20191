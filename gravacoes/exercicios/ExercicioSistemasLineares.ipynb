{
 "cells": [
  {
   "cell_type": "markdown",
   "metadata": {},
   "source": [
    "# Lista de Sistemas Lineares"
   ]
  },
  {
   "cell_type": "markdown",
   "metadata": {},
   "source": [
    "1. Resolva o sistema abaixo utilizando o método de Gauss ingênuo e o método de Gauss com pivotação parcial.\n",
    "\n",
    "Compare com a solução exata X = [10 1]\n",
    "\n",
    "$$0.003x_1 + 59.14x_2 = 59.17$$\n",
    "$$-5.291x_1 - 6.130x_2 = 49.78 $$"
   ]
  },
  {
   "cell_type": "markdown",
   "metadata": {},
   "source": [
    "2. Resolva os sistemas utilizando um método direto e o método de Gauss-Seidel\n",
    "\n",
    "a. \n",
    "    $$8.7x_1 + 3x_2 + 9.3x_3 + 11x_4 = 16.4$$\n",
    "    $$24.5x_1 - 8.8x_2 + 11.5x_3 - 45.1x_4 = -49.7$$\n",
    "    $$52.3x_1 - 84x_2 - 23.5x_3 + 11.4x_4 = -80.8$$\n",
    "    $$21x_1 - 81x_2 - 13.2x_3 + 21.5x_4 = -106.3$$\n",
    "       "
   ]
  },
  {
   "cell_type": "markdown",
   "metadata": {},
   "source": [
    "b.\n",
    "\n",
    "$$3x_1 + 7x_2 + 13x_3 = 76$$\n",
    "$$12x_1 + 3x_2 - 5x_3 = 1$$\n",
    "$$x_1 + 5x_2 + 3x_3 = 28$$\n"
   ]
  },
  {
   "cell_type": "markdown",
   "metadata": {},
   "source": [
    "c.\n",
    "    $$1x_2 + 3x_3 + 2x_4 + 4x_5 = 3$$\n",
    "    $$8x_1 - 2x_2 + 9x_3 - 1x_4 + 2x_5 = -5$$\n",
    "    $$5x_1 + x_2 + x_3 + 7x_4 + 2x_5 = 6$$\n",
    "    $$-2x_1 + 4x_2 + 5x_3 + 1x_4 = -1$$\n",
    "    $$7x_1 - 3x_2 + 2x_3 - 4x_4 + 1x_5 = -5$$\n"
   ]
  },
  {
   "cell_type": "markdown",
   "metadata": {},
   "source": [
    "3. Calcule a inversa das matrizes abaixo utilizando dois métodos de resolução de sistemas lineares\n",
    "\n",
    "    a.\n",
    "    \n",
    "    $$A = \\begin{bmatrix}\n",
    "        8 & 5 & 1 \\\\\n",
    "        3 & 7 & 4\\\\\n",
    "        2 & 3 & 9 \n",
    "    \\end{bmatrix}$$"
   ]
  },
  {
   "cell_type": "markdown",
   "metadata": {},
   "source": [
    "b.\n",
    "$$A = \\begin{bmatrix}\n",
    "        1 & 6 & 4 \\\\\n",
    "        2 & -3 & 1\\\\\n",
    "        5 & 5 & 8 \n",
    "    \\end{bmatrix}$$"
   ]
  },
  {
   "cell_type": "markdown",
   "metadata": {},
   "source": [
    "4. \n",
    "\n",
    "    Uma barra linear de metal de um metro de comprimento é mantida a 0 graus Celsius em um extremo e a 128 graus Celsius no outro. Desejamos determinar a temperatura da barra a cada 20cm . Denominando de T0 = 0 a temperatura de um extremo, de T5 = 128 a temperatura no outro extremo e de T1, T2, T3 e T4 a temperatura nos pontos interiores e sabendo que a temperatura em cada ponto interior é igual a média aritmética da temperatura de seus dois pontos vizinhos.\n",
    "\n",
    "    Determine através de um método de resolução de sistemas lineares os valores de T1, T2, T3 e T4"
   ]
  },
  {
   "cell_type": "code",
   "execution_count": null,
   "metadata": {},
   "outputs": [],
   "source": []
  }
 ],
 "metadata": {
  "kernelspec": {
   "display_name": "Python 3",
   "language": "python",
   "name": "python3"
  },
  "language_info": {
   "codemirror_mode": {
    "name": "ipython",
    "version": 3
   },
   "file_extension": ".py",
   "mimetype": "text/x-python",
   "name": "python",
   "nbconvert_exporter": "python",
   "pygments_lexer": "ipython3",
   "version": "3.7.2"
  }
 },
 "nbformat": 4,
 "nbformat_minor": 2
}
