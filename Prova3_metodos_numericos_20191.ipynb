{
  "nbformat": 4,
  "nbformat_minor": 0,
  "metadata": {
    "colab": {
      "name": "Prova3_metodos_numericos_20191.ipynb",
      "version": "0.3.2",
      "provenance": [],
      "include_colab_link": true
    },
    "kernelspec": {
      "name": "python3",
      "display_name": "Python 3"
    }
  },
  "cells": [
    {
      "cell_type": "markdown",
      "metadata": {
        "id": "view-in-github",
        "colab_type": "text"
      },
      "source": [
        "<a href=\"https://colab.research.google.com/github/lacouth/metodos_20191/blob/master/Prova3_metodos_numericos_20191.ipynb\" target=\"_parent\"><img src=\"https://colab.research.google.com/assets/colab-badge.svg\" alt=\"Open In Colab\"/></a>"
      ]
    },
    {
      "cell_type": "code",
      "metadata": {
        "id": "wiSJKdIx6DkO",
        "colab_type": "code",
        "colab": {}
      },
      "source": [
        "import numpy as np\n",
        "from scipy.linalg import solve_triangular\n",
        "import matplotlib.pyplot as plot\n",
        "np.set_printoptions(formatter={'float': lambda x: \"{:.4f}\".format(x)})"
      ],
      "execution_count": 0,
      "outputs": []
    },
    {
      "cell_type": "code",
      "metadata": {
        "id": "G9ct_LE4JAOe",
        "colab_type": "code",
        "cellView": "both",
        "colab": {}
      },
      "source": [
        "#@title 3ª Prova métodos numéricos 2019.1\n",
        "nome = \"\" #@param {type:\"string\"}\n",
        "matricula = \"\" #@param {type:\"string\"}"
      ],
      "execution_count": 0,
      "outputs": []
    },
    {
      "cell_type": "markdown",
      "metadata": {
        "id": "PKwVPhb8QxDG",
        "colab_type": "text"
      },
      "source": [
        "### Formulário de entrega: https://forms.gle/dW2abz429GgjDzJS7"
      ]
    },
    {
      "cell_type": "code",
      "metadata": {
        "id": "SOolasis5p_7",
        "colab_type": "code",
        "colab": {
          "base_uri": "https://localhost:8080/",
          "height": 34
        },
        "outputId": "229d7dc6-31ff-47e9-83e1-9189e9d85812"
      },
      "source": [
        "print(f'{nome} - {matricula} - 3ª Prova de Métodos Numéricos 2019.1')"
      ],
      "execution_count": 2,
      "outputs": [
        {
          "output_type": "stream",
          "text": [
            " -  - 3ª Prova de Métodos Numéricos 2019.1\n"
          ],
          "name": "stdout"
        }
      ]
    },
    {
      "cell_type": "markdown",
      "metadata": {
        "id": "l8eCAJ6wLq73",
        "colab_type": "text"
      },
      "source": [
        "# Questões"
      ]
    },
    {
      "cell_type": "markdown",
      "metadata": {
        "id": "5yuqHAJW6mRx",
        "colab_type": "text"
      },
      "source": [
        "### 1. Utilizando diferenças finitas, calcule $f'(2.36)$ e $f'(2.39)$ a partir dos seguintes dados:\n",
        "\n",
        "x|$f(x)$\n",
        "--|--\n",
        "2.36|0.85866\n",
        "2.37|0.86289\n",
        "2.38|0.86710\n",
        "2.39|0.87129"
      ]
    },
    {
      "cell_type": "code",
      "metadata": {
        "id": "shpbRN9a9lt8",
        "colab_type": "code",
        "colab": {}
      },
      "source": [
        ""
      ],
      "execution_count": 0,
      "outputs": []
    },
    {
      "cell_type": "code",
      "metadata": {
        "id": "XmSFld8rKhoU",
        "colab_type": "code",
        "colab": {}
      },
      "source": [
        ""
      ],
      "execution_count": 0,
      "outputs": []
    },
    {
      "cell_type": "code",
      "metadata": {
        "id": "oA_aO-3bKhvg",
        "colab_type": "code",
        "colab": {}
      },
      "source": [
        ""
      ],
      "execution_count": 0,
      "outputs": []
    },
    {
      "cell_type": "code",
      "metadata": {
        "id": "beOoJ-5yKiby",
        "colab_type": "code",
        "colab": {}
      },
      "source": [
        ""
      ],
      "execution_count": 0,
      "outputs": []
    },
    {
      "cell_type": "code",
      "metadata": {
        "id": "_c27SnyRLziH",
        "colab_type": "code",
        "colab": {}
      },
      "source": [
        ""
      ],
      "execution_count": 0,
      "outputs": []
    },
    {
      "cell_type": "code",
      "metadata": {
        "id": "nGi5IsFqLzk4",
        "colab_type": "code",
        "colab": {}
      },
      "source": [
        ""
      ],
      "execution_count": 0,
      "outputs": []
    },
    {
      "cell_type": "markdown",
      "metadata": {
        "id": "5Kwa1-XT-_mx",
        "colab_type": "text"
      },
      "source": [
        "### 2.Estime $f'(1)$ e $f''(1)$ o mais preciso possível a partir dos dados:\n",
        "\n",
        "\n",
        "x|$f(x)\n",
        "--|--\n",
        "0.97|0.85040\n",
        "1.00|0.84147\n",
        "1.05|0.82612\n",
        "\n",
        "Justifique a escolha do método."
      ]
    },
    {
      "cell_type": "code",
      "metadata": {
        "id": "OvL16c97BkhK",
        "colab_type": "code",
        "colab": {}
      },
      "source": [
        ""
      ],
      "execution_count": 0,
      "outputs": []
    },
    {
      "cell_type": "code",
      "metadata": {
        "id": "SpCRYEk2Kj_E",
        "colab_type": "code",
        "colab": {}
      },
      "source": [
        ""
      ],
      "execution_count": 0,
      "outputs": []
    },
    {
      "cell_type": "code",
      "metadata": {
        "id": "u9vKL8TxKkB5",
        "colab_type": "code",
        "colab": {}
      },
      "source": [
        ""
      ],
      "execution_count": 0,
      "outputs": []
    },
    {
      "cell_type": "code",
      "metadata": {
        "id": "bGD8G45AU-gl",
        "colab_type": "code",
        "colab": {}
      },
      "source": [
        ""
      ],
      "execution_count": 0,
      "outputs": []
    },
    {
      "cell_type": "code",
      "metadata": {
        "id": "BNMZ78CGKkP4",
        "colab_type": "code",
        "colab": {}
      },
      "source": [
        ""
      ],
      "execution_count": 0,
      "outputs": []
    },
    {
      "cell_type": "code",
      "metadata": {
        "id": "C_lkv92qKlj2",
        "colab_type": "code",
        "colab": {}
      },
      "source": [
        ""
      ],
      "execution_count": 0,
      "outputs": []
    },
    {
      "cell_type": "markdown",
      "metadata": {
        "id": "bkVT21BVBpwZ",
        "colab_type": "text"
      },
      "source": [
        "### 3. Calcule $f'$ e $f''$ para $x=0$\n",
        "\n",
        "x|$f(x)$\n",
        "--|--\n",
        "-2.2|15.180\n",
        "-0.3|10.962\n",
        "0.8|1.920\n",
        "0.9|-2.040\n",
        "\n",
        "Justifique a escolha do método utilizado para obter as soluções"
      ]
    },
    {
      "cell_type": "markdown",
      "metadata": {
        "id": "thlOCbdWSA3e",
        "colab_type": "text"
      },
      "source": [
        "### Justificativa:\n",
        "\n"
      ]
    },
    {
      "cell_type": "code",
      "metadata": {
        "id": "TTC8eSw_KeIF",
        "colab_type": "code",
        "colab": {}
      },
      "source": [
        ""
      ],
      "execution_count": 0,
      "outputs": []
    },
    {
      "cell_type": "code",
      "metadata": {
        "id": "wXzVBmrtKmwm",
        "colab_type": "code",
        "colab": {}
      },
      "source": [
        ""
      ],
      "execution_count": 0,
      "outputs": []
    },
    {
      "cell_type": "code",
      "metadata": {
        "id": "htsibBelKmzR",
        "colab_type": "code",
        "colab": {}
      },
      "source": [
        ""
      ],
      "execution_count": 0,
      "outputs": []
    },
    {
      "cell_type": "code",
      "metadata": {
        "id": "_7UnoxUuKm16",
        "colab_type": "code",
        "colab": {}
      },
      "source": [
        ""
      ],
      "execution_count": 0,
      "outputs": []
    },
    {
      "cell_type": "code",
      "metadata": {
        "id": "knN6ZQ9iL7LA",
        "colab_type": "code",
        "colab": {}
      },
      "source": [
        ""
      ],
      "execution_count": 0,
      "outputs": []
    },
    {
      "cell_type": "markdown",
      "metadata": {
        "id": "nytJg_BGPZ-g",
        "colab_type": "text"
      },
      "source": [
        "### 4 Resolva numericamente a integral $I = \\int_{-3}^5(4x-3)^3dx = 2056$ "
      ]
    },
    {
      "cell_type": "code",
      "metadata": {
        "id": "hQaXRwZuQExz",
        "colab_type": "code",
        "colab": {}
      },
      "source": [
        ""
      ],
      "execution_count": 0,
      "outputs": []
    },
    {
      "cell_type": "code",
      "metadata": {
        "id": "MKkosqADQGrX",
        "colab_type": "code",
        "colab": {}
      },
      "source": [
        ""
      ],
      "execution_count": 0,
      "outputs": []
    },
    {
      "cell_type": "code",
      "metadata": {
        "id": "ZcXF9-3ZQG9H",
        "colab_type": "code",
        "colab": {}
      },
      "source": [
        ""
      ],
      "execution_count": 0,
      "outputs": []
    },
    {
      "cell_type": "code",
      "metadata": {
        "id": "a02FbKGnQHIa",
        "colab_type": "code",
        "colab": {}
      },
      "source": [
        ""
      ],
      "execution_count": 0,
      "outputs": []
    },
    {
      "cell_type": "markdown",
      "metadata": {
        "id": "-JZnipy8QIZj",
        "colab_type": "text"
      },
      "source": [
        "### 5 Usando a regra dos Trapézios e APENAS os valores da tabela mostre que é possível obter $I = \\int_0^\\pi f(x) = 2.00$\n",
        "\n",
        "x | $f(x)$\n",
        "---|---\n",
        "0|0\n",
        "$\\frac{\\pi}{4}$|0.707\n",
        "$\\frac{\\pi}{2}$|1\n",
        "$\\frac{3\\pi}{4}$|0.707\n",
        "$\\pi$|0"
      ]
    },
    {
      "cell_type": "code",
      "metadata": {
        "id": "QF58BvP_QuPB",
        "colab_type": "code",
        "colab": {}
      },
      "source": [
        ""
      ],
      "execution_count": 0,
      "outputs": []
    },
    {
      "cell_type": "code",
      "metadata": {
        "id": "XJVnh7y4RExD",
        "colab_type": "code",
        "colab": {}
      },
      "source": [
        ""
      ],
      "execution_count": 0,
      "outputs": []
    },
    {
      "cell_type": "code",
      "metadata": {
        "id": "yxpEOciNRE36",
        "colab_type": "code",
        "colab": {}
      },
      "source": [
        ""
      ],
      "execution_count": 0,
      "outputs": []
    },
    {
      "cell_type": "code",
      "metadata": {
        "id": "cVpJW44VRFLL",
        "colab_type": "code",
        "colab": {}
      },
      "source": [
        ""
      ],
      "execution_count": 0,
      "outputs": []
    },
    {
      "cell_type": "markdown",
      "metadata": {
        "id": "6mUeYbY8XcDZ",
        "colab_type": "text"
      },
      "source": [
        "### 6 Calcule a integral dupla abaixo aplicando as DUAS regras de Simpson com a mesma quantidade de intervalos\n",
        "\n",
        "$$\\int_{-2}^2\\int_{0}^4 (x^2-3y^2+xy^3)dxdy$$"
      ]
    },
    {
      "cell_type": "code",
      "metadata": {
        "id": "CEUx7UiaRE03",
        "colab_type": "code",
        "colab": {}
      },
      "source": [
        ""
      ],
      "execution_count": 0,
      "outputs": []
    },
    {
      "cell_type": "code",
      "metadata": {
        "id": "Uc2vA_GEXZXS",
        "colab_type": "code",
        "colab": {}
      },
      "source": [
        ""
      ],
      "execution_count": 0,
      "outputs": []
    },
    {
      "cell_type": "code",
      "metadata": {
        "id": "XbSspK4_XaeA",
        "colab_type": "code",
        "colab": {}
      },
      "source": [
        ""
      ],
      "execution_count": 0,
      "outputs": []
    },
    {
      "cell_type": "code",
      "metadata": {
        "id": "OtYCxjPIXakw",
        "colab_type": "code",
        "colab": {}
      },
      "source": [
        ""
      ],
      "execution_count": 0,
      "outputs": []
    },
    {
      "cell_type": "code",
      "metadata": {
        "id": "1jBFYUP7Xaq_",
        "colab_type": "code",
        "colab": {}
      },
      "source": [
        ""
      ],
      "execution_count": 0,
      "outputs": []
    },
    {
      "cell_type": "code",
      "metadata": {
        "id": "xPwwdIwkXah5",
        "colab_type": "code",
        "colab": {}
      },
      "source": [
        ""
      ],
      "execution_count": 0,
      "outputs": []
    },
    {
      "cell_type": "markdown",
      "metadata": {
        "id": "mDtgxR30RGMe",
        "colab_type": "text"
      },
      "source": [
        "### 7  Resolva o seguinte problema de valor inicial no intervalo de x = -1 a 1 em que y(-1) = 1/e.\n",
        "$$\\frac{dy}{dx} = e^{2x+1}+3x^2+y$$\n",
        "\n",
        "#### a. Usando um método de segunda ordem com h=0.01\n",
        "#### b. Usando RK4 com h=0.05"
      ]
    },
    {
      "cell_type": "code",
      "metadata": {
        "id": "zylJIwssYIM3",
        "colab_type": "code",
        "colab": {}
      },
      "source": [
        ""
      ],
      "execution_count": 0,
      "outputs": []
    },
    {
      "cell_type": "code",
      "metadata": {
        "id": "92_cLjQQYIYV",
        "colab_type": "code",
        "colab": {}
      },
      "source": [
        ""
      ],
      "execution_count": 0,
      "outputs": []
    },
    {
      "cell_type": "code",
      "metadata": {
        "id": "FTnTV1fUYIe7",
        "colab_type": "code",
        "colab": {}
      },
      "source": [
        ""
      ],
      "execution_count": 0,
      "outputs": []
    },
    {
      "cell_type": "code",
      "metadata": {
        "id": "bRB8J-ucYIje",
        "colab_type": "code",
        "colab": {}
      },
      "source": [
        ""
      ],
      "execution_count": 0,
      "outputs": []
    },
    {
      "cell_type": "code",
      "metadata": {
        "id": "GUUdv1ZKYIcF",
        "colab_type": "code",
        "colab": {}
      },
      "source": [
        ""
      ],
      "execution_count": 0,
      "outputs": []
    },
    {
      "cell_type": "markdown",
      "metadata": {
        "id": "XlFwv8WOYJ4n",
        "colab_type": "text"
      },
      "source": [
        "### 8 Dado o problema de valor inicial abaixo:\n",
        "$$y'(x) = \\frac{1}{x}(2y+x+1)$$\n",
        "$$y(1) = 0.5$$\n",
        "\n",
        "### Calcule y(100) usando o método de Heun com h=0.2"
      ]
    }
  ]
}