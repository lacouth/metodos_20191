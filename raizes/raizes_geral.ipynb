{
 "cells": [
  {
   "cell_type": "markdown",
   "metadata": {
    "slideshow": {
     "slide_type": "slide"
    }
   },
   "source": [
    "# Métodos Numéricos\n",
    "## Patric Lacouth\n",
    "### lacouth@gmail.com"
   ]
  },
  {
   "cell_type": "markdown",
   "metadata": {
    "slideshow": {
     "slide_type": "slide"
    }
   },
   "source": [
    "# Raízes - Principais Métodos\n",
    "\n",
    "1. Busca Incremental\n",
    "2. Bisseção\n",
    "3. Newton-Raphson\n",
    "4. Secante"
   ]
  },
  {
   "cell_type": "markdown",
   "metadata": {
    "slideshow": {
     "slide_type": "slide"
    }
   },
   "source": [
    "## Busca Incremental\n",
    "\n",
    "* Dado um intervalo, se $f(x)$ mudar de sinal então existem pelo menos uma raiz\n",
    "$$ f(x_1)f(x_2) < 0 $$\n",
    "* Determinar subintervalos com raízes\n",
    "* Lento\n",
    "* Pode não encontrar todos os subintervalos"
   ]
  },
  {
   "cell_type": "code",
   "execution_count": 1,
   "metadata": {
    "slideshow": {
     "slide_type": "skip"
    }
   },
   "outputs": [],
   "source": [
    "import numpy as np\n",
    "import matplotlib.pyplot as plt\n",
    "%matplotlib inline"
   ]
  },
  {
   "cell_type": "code",
   "execution_count": 2,
   "metadata": {
    "slideshow": {
     "slide_type": "subslide"
    }
   },
   "outputs": [
    {
     "data": {
      "image/png": "[encoded data removed]",
      "text/plain": [
       "<Figure size 432x288 with 1 Axes>"
      ]
     },
     "metadata": {
      "needs_background": "light"
     },
     "output_type": "display_data"
    }
   ],
   "source": [
    "\n",
    "x = np.arange(3,6,0.001) # de 3 até 6 com incremento de 0.01\n",
    "fx = np.sin(10*x)+np.cos(3*x)\n",
    "plt.plot(x,fx)\n",
    "plt.grid(True)\n",
    "plt.show()"
   ]
  },
  {
   "cell_type": "markdown",
   "metadata": {
    "slideshow": {
     "slide_type": "subslide"
    }
   },
   "source": [
    "## BI - Implementação"
   ]
  },
  {
   "cell_type": "code",
   "execution_count": 3,
   "metadata": {},
   "outputs": [],
   "source": [
    "def busca_incremental(funcao, xmin, xmax, passo = 0.1):\n",
    "    x = np.arange(xmin, xmax, passo)\n",
    "    subintervalos = []\n",
    "    for xi in x:\n",
    "        if funcao(xi)*funcao(xi+passo) < 0:\n",
    "            subintervalos.append([xi,xi+passo])\n",
    "    return subintervalos  "
   ]
  },
  {
   "cell_type": "markdown",
   "metadata": {
    "slideshow": {
     "slide_type": "subslide"
    }
   },
   "source": [
    "## Aplicando o algoritmo"
   ]
  },
  {
   "cell_type": "code",
   "execution_count": 4,
   "metadata": {},
   "outputs": [],
   "source": [
    "def sen10_cos3(x):\n",
    "    return np.sin(10*x)+np.cos(3*x)"
   ]
  },
  {
   "cell_type": "code",
   "execution_count": 5,
   "metadata": {},
   "outputs": [
    {
     "name": "stdout",
     "output_type": "stream",
     "text": [
      "Foram encontrados 9 subintervalos: \n"
     ]
    },
    {
     "data": {
      "text/plain": [
       "[[3.2599999999999945, 3.2699999999999942],\n",
       " [3.3599999999999923, 3.369999999999992],\n",
       " [3.7399999999999842, 3.749999999999984],\n",
       " [4.219999999999974, 4.229999999999974],\n",
       " [4.259999999999973, 4.269999999999973],\n",
       " [4.7099999999999635, 4.719999999999963],\n",
       " [5.159999999999954, 5.169999999999954],\n",
       " [5.189999999999953, 5.199999999999953],\n",
       " [5.669999999999943, 5.679999999999943]]"
      ]
     },
     "execution_count": 5,
     "metadata": {},
     "output_type": "execute_result"
    }
   ],
   "source": [
    "intervalos = busca_incremental(sen10_cos3,3,6,0.01)\n",
    "print('Foram encontrados {} subintervalos: '.format(len(intervalos)))\n",
    "intervalos"
   ]
  },
  {
   "cell_type": "markdown",
   "metadata": {
    "slideshow": {
     "slide_type": "subslide"
    }
   },
   "source": [
    "# Bisseção\n",
    "\n",
    "* Método Intervalar\n",
    "* Sempre converge\n",
    "* Simples - Busca Binária\n",
    "* Equação de atualização:\n",
    "\n",
    "$$  x_{meio} = \\frac{(x_{max}+x_{min})}{2} $$"
   ]
  },
  {
   "cell_type": "markdown",
   "metadata": {
    "slideshow": {
     "slide_type": "subslide"
    }
   },
   "source": [
    "# Como calcular o erro de aproximação?\n",
    "\n",
    "* Podemos fazer uma estimativa através de :\n",
    "\n",
    "$$ | \\varepsilon_a | = \\left | \\frac{x^{novo}_r - x^{velho}_r }{x^{novo}_r} \\right| \\times 100% $$\n",
    "\n",
    "* O erro de aproximação estima o quanto o estimativa do algoritmo está se \"movendo\" ao longo das iterações.\n",
    "* Não indica o quanto estamos próximos da resposta real.\n",
    "* $ \\varepsilon_a <= 5 \\% $ indica que o primeiro dígito significativo já foi estimado.\n",
    "* $ \\varepsilon_a <= 0.5 \\%$ indica que os dois primeiros dígitos significativos já foram estimados\n",
    "* $ \\varepsilon_a <= 0.05 \\%$ indica que os três primeiros dígitos significativos já foram estimados\n",
    "* ...\n"
   ]
  },
  {
   "cell_type": "markdown",
   "metadata": {
    "slideshow": {
     "slide_type": "subslide"
    }
   },
   "source": [
    "## A implementação"
   ]
  },
  {
   "cell_type": "code",
   "execution_count": 6,
   "metadata": {},
   "outputs": [],
   "source": [
    "def x3_20(x):\n",
    "    return x**3-20"
   ]
  },
  {
   "cell_type": "code",
   "execution_count": 7,
   "metadata": {},
   "outputs": [],
   "source": [
    "def bissecao(funcao,xmin, xmax, tol = 0.0001, max_it = 100):\n",
    "    raiz = []\n",
    "    erro = []\n",
    "    if funcao(xmin) * funcao(xmax) > 0 :\n",
    "        print(\"A raiz não está isolada\")\n",
    "        return\n",
    "    else:\n",
    "        for i in range(max_it):\n",
    "            raiz.append((xmin+xmax)/2);\n",
    "            \n",
    "            if funcao(raiz[i]) * funcao(xmax) < 0 :\n",
    "                xmin = raiz[i]\n",
    "            elif funcao(raiz[i]) * funcao(xmin) < 0 :\n",
    "                xmax = raiz[i]\n",
    "            else:\n",
    "                break       \n",
    "            \n",
    "            if i > 0:\n",
    "                erro.append(abs((raiz[i] - raiz[i-1])/raiz[i])*100)\n",
    "                if erro[-1] < tol:\n",
    "                    break\n",
    "        return raiz, erro"
   ]
  },
  {
   "cell_type": "code",
   "execution_count": 8,
   "metadata": {},
   "outputs": [
    {
     "data": {
      "text/plain": [
       "2.7144179344177246"
      ]
     },
     "execution_count": 8,
     "metadata": {},
     "output_type": "execute_result"
    }
   ],
   "source": [
    "raizes, erros = bissecao(x3_20, 1,4.0, 0.0001)\n",
    "raizes[-1]"
   ]
  },
  {
   "cell_type": "markdown",
   "metadata": {
    "slideshow": {
     "slide_type": "subslide"
    }
   },
   "source": [
    "## Erro x Iteração"
   ]
  },
  {
   "cell_type": "code",
   "execution_count": 9,
   "metadata": {
    "slideshow": {
     "slide_type": "skip"
    }
   },
   "outputs": [],
   "source": [
    "r = 20**(1/3) ## Resposta exata\n",
    "erro_real = []\n",
    "for raiz in raizes:\n",
    "    erro_real.append(abs((raiz-r)/raiz)*100)"
   ]
  },
  {
   "cell_type": "code",
   "execution_count": 10,
   "metadata": {
    "slideshow": {
     "slide_type": "skip"
    }
   },
   "outputs": [],
   "source": [
    "it = np.arange(0,len(raizes))\n",
    "it2 = np.arange(0,len(erros))"
   ]
  },
  {
   "cell_type": "code",
   "execution_count": 11,
   "metadata": {},
   "outputs": [
    {
     "data": {
      "image/png": "[encoded data removed]",
      "text/plain": [
       "<Figure size 432x288 with 1 Axes>"
      ]
     },
     "metadata": {
      "needs_background": "light"
     },
     "output_type": "display_data"
    }
   ],
   "source": [
    "fig, ax = plt.subplots()\n",
    "ax.plot(it, erro_real, label='Erro real')\n",
    "ax.plot(it2, erros, label='Erro de aproximação')\n",
    "legend = ax.legend(loc='upper center', shadow=True)\n",
    "plt.grid(True)\n",
    "plt.show()"
   ]
  },
  {
   "cell_type": "markdown",
   "metadata": {},
   "source": [
    "# Método das Cordas - (Falsa Posição)\n",
    "\n",
    "* Método Intervalar\n",
    "* Convergência garantida, quando houver uma raiz no intervalo\n",
    "* A aproximação da raiz é dada pela raiz da reta secante entre dois pontos. \n",
    "* Menos iterações quando a raiz estiver próxima dos extremos do intervalo\n",
    "* Pode ser mais lento que o método da bisseção quando a raiz estiver próxima do centro do intervalo"
   ]
  },
  {
   "cell_type": "markdown",
   "metadata": {},
   "source": [
    "![False_position_method.png](False_position_method.png)"
   ]
  },
  {
   "cell_type": "markdown",
   "metadata": {},
   "source": [
    "# Método das cordas \n",
    "\n",
    "## Equação de atualização:\n",
    "\n",
    "$$ x_m = b + \\frac{f(b)}{f(a) - f(b)}(b-a) $$"
   ]
  },
  {
   "cell_type": "markdown",
   "metadata": {
    "slideshow": {
     "slide_type": "subslide"
    }
   },
   "source": [
    "# Newton - Raphson\n",
    "\n",
    "* Método aberto\n",
    "* Precisa de um \"chute\" inicial $x_0$\n",
    "* Mais rápido\n",
    "* Sem convergência garantida\n",
    "* Precisa da derivada da função $f(x)$"
   ]
  },
  {
   "cell_type": "markdown",
   "metadata": {
    "slideshow": {
     "slide_type": "subslide"
    }
   },
   "source": [
    "# Newton - Raphson\n",
    "\n",
    "## Equação de atualização:\n",
    "\n",
    "$$ x_{i+1} = x_i - \\frac{f(x_i)}{f'(x_i)} $$"
   ]
  },
  {
   "cell_type": "markdown",
   "metadata": {
    "slideshow": {
     "slide_type": "subslide"
    }
   },
   "source": [
    "# Secante\n",
    "\n",
    "* Método aberto\n",
    "* Precisa de DOIS \"chutes\" iniciais $x_0$ e $x_1$\n",
    "* Similar ao Newton-Raphson mas sem a necessidade da derivada analítica"
   ]
  },
  {
   "cell_type": "markdown",
   "metadata": {
    "slideshow": {
     "slide_type": "subslide"
    }
   },
   "source": [
    "# Secante\n",
    "\n",
    "## Equação de atualização:\n",
    "\n",
    "$$ x_{i+1} = x_i - \\frac{f(x_i)(x_i-x_{i-1})}{f(x_i)-f(x_i-1)} $$"
   ]
  },
  {
   "cell_type": "markdown",
   "metadata": {},
   "source": [
    "# Go code!"
   ]
  },
  {
   "cell_type": "code",
   "execution_count": null,
   "metadata": {},
   "outputs": [],
   "source": []
  }
 ],
 "metadata": {
  "celltoolbar": "Slideshow",
  "kernelspec": {
   "display_name": "Python 3",
   "language": "python",
   "name": "python3"
  },
  "language_info": {
   "codemirror_mode": {
    "name": "ipython",
    "version": 3
   },
   "file_extension": ".py",
   "mimetype": "text/x-python",
   "name": "python",
   "nbconvert_exporter": "python",
   "pygments_lexer": "ipython3",
   "version": "3.7.4"
  }
 },
 "nbformat": 4,
 "nbformat_minor": 2
}
