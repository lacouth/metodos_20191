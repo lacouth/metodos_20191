{
  "nbformat": 4,
  "nbformat_minor": 0,
  "metadata": {
    "kernelspec": {
      "display_name": "Python 3",
      "language": "python",
      "name": "python3"
    },
    "language_info": {
      "codemirror_mode": {
        "name": "ipython",
        "version": 3
      },
      "file_extension": ".py",
      "mimetype": "text/x-python",
      "name": "python",
      "nbconvert_exporter": "python",
      "pygments_lexer": "ipython3",
      "version": "3.7.2"
    },
    "colab": {
      "name": "exercicio_bissecao.ipynb",
      "provenance": [],
      "include_colab_link": true
    }
  },
  "cells": [
    {
      "cell_type": "markdown",
      "metadata": {
        "id": "view-in-github",
        "colab_type": "text"
      },
      "source": [
        "<a href=\"https://colab.research.google.com/github/lacouth/metodos_numericos/blob/master/raizes/exercicio_bissecao.ipynb\" target=\"_parent\"><img src=\"https://colab.research.google.com/assets/colab-badge.svg\" alt=\"Open In Colab\"/></a>"
      ]
    },
    {
      "cell_type": "markdown",
      "metadata": {
        "id": "toHthGPf-b-4",
        "colab_type": "text"
      },
      "source": [
        "# Exercícios de revisão\n",
        "\n",
        "## Raízes"
      ]
    },
    {
      "cell_type": "markdown",
      "metadata": {
        "id": "mUyfqMhT-b-9",
        "colab_type": "text"
      },
      "source": [
        "### 1. Dada a função $f(x) = sen(10x) + cos(3x) $ encontre através do método da bisseção a raiz entre o intervalo [5.5 , 6.0], utilize como critério de parada um tolerância $\\varepsilon_s = 0.001 %$. Mostre o gráfico da evolução do erro ao longo das iterações."
      ]
    },
    {
      "cell_type": "code",
      "metadata": {
        "id": "ENIu2mPw-b-_",
        "colab_type": "code",
        "colab": {}
      },
      "source": [
        ""
      ],
      "execution_count": 0,
      "outputs": []
    }
  ]
}