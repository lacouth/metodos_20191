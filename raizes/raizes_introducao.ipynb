{
  "nbformat": 4,
  "nbformat_minor": 0,
  "metadata": {
    "celltoolbar": "Slideshow",
    "kernelspec": {
      "display_name": "Python 3",
      "language": "python",
      "name": "python3"
    },
    "language_info": {
      "codemirror_mode": {
        "name": "ipython",
        "version": 3
      },
      "file_extension": ".py",
      "mimetype": "text/x-python",
      "name": "python",
      "nbconvert_exporter": "python",
      "pygments_lexer": "ipython3",
      "version": "3.7.2"
    },
    "colab": {
      "name": "raizes_introducao.ipynb",
      "provenance": [],
      "include_colab_link": true
    }
  },
  "cells": [
    {
      "cell_type": "markdown",
      "metadata": {
        "id": "view-in-github",
        "colab_type": "text"
      },
      "source": [
        "<a href=\"https://colab.research.google.com/github/lacouth/metodos_numericos/blob/master/raizes/raizes_introducao.ipynb\" target=\"_parent\"><img src=\"https://colab.research.google.com/assets/colab-badge.svg\" alt=\"Open In Colab\"/></a>"
      ]
    },
    {
      "cell_type": "markdown",
      "metadata": {
        "id": "VgbyyIidTmhT",
        "colab_type": "text"
      },
      "source": [
        "# Métodos Numéricos\n",
        "## Patric Lacouth\n",
        "### lacouth@gmail.com"
      ]
    },
    {
      "cell_type": "markdown",
      "metadata": {
        "id": "t-WPWBbzTmhV",
        "colab_type": "text"
      },
      "source": [
        "## Raízes\n",
        "\n",
        "Há muito tempo,  você aprendeu a usar a fórmula quadrática\n",
        "\n",
        "$$ x = \\frac{-b \\pm \\sqrt{b^2 - 4ac}}{2a} $$\n",
        "\n",
        "para resolver\n",
        "\n",
        "$$ f(x) = ax^2 + bx + c = 0 $$\n",
        "\n",
        "Os valores calculados na primeira equação são chamados \"raízes\" e representam os valores de x que tornam a segunda  igual a zero."
      ]
    },
    {
      "cell_type": "markdown",
      "metadata": {
        "id": "HUSnz9muTmhX",
        "colab_type": "text"
      },
      "source": [
        "## Objetivos\n",
        "\n",
        "* Traçar gráficos das funções.\n",
        "* Aprender o método da busca incremental e suas deficiências.\n",
        "* Aprender o método da bisseção."
      ]
    },
    {
      "cell_type": "markdown",
      "metadata": {
        "id": "0e1fjDqUTmhZ",
        "colab_type": "text"
      },
      "source": [
        "# Gráficos no jupyter notebook\n",
        "\n",
        "1. Importando as bibliotecas"
      ]
    },
    {
      "cell_type": "code",
      "metadata": {
        "id": "2-FgPNLmTmha",
        "colab_type": "code",
        "colab": {}
      },
      "source": [
        "import numpy as np\n",
        "import matplotlib.pyplot as plt\n",
        "%matplotlib inline"
      ],
      "execution_count": 0,
      "outputs": []
    },
    {
      "cell_type": "markdown",
      "metadata": {
        "id": "K-7FSvw1Tmhg",
        "colab_type": "text"
      },
      "source": [
        "2. Criando a faixa de valores onde a função será calculada"
      ]
    },
    {
      "cell_type": "code",
      "metadata": {
        "id": "f1Om0Uk-Tmhh",
        "colab_type": "code",
        "colab": {},
        "outputId": "cb07acf9-522e-4fd6-84c5-54b11c11bca7"
      },
      "source": [
        "x = np.arange(3,6,0.1) # de 3 até 6 com incremento de 0.1\n",
        "x"
      ],
      "execution_count": 0,
      "outputs": [
        {
          "output_type": "execute_result",
          "data": {
            "text/plain": [
              "array([3. , 3.1, 3.2, 3.3, 3.4, 3.5, 3.6, 3.7, 3.8, 3.9, 4. , 4.1, 4.2,\n",
              "       4.3, 4.4, 4.5, 4.6, 4.7, 4.8, 4.9, 5. , 5.1, 5.2, 5.3, 5.4, 5.5,\n",
              "       5.6, 5.7, 5.8, 5.9])"
            ]
          },
          "metadata": {
            "tags": []
          },
          "execution_count": 2
        }
      ]
    },
    {
      "cell_type": "markdown",
      "metadata": {
        "id": "Lk3XFaU4Tmhn",
        "colab_type": "text"
      },
      "source": [
        "3. Gerando os valores da função\n",
        "$$ f(x) = sen(10x) + cos(3x) $$"
      ]
    },
    {
      "cell_type": "code",
      "metadata": {
        "id": "uSYzAd8dTmho",
        "colab_type": "code",
        "colab": {},
        "outputId": "4b5f7860-b7de-457b-8db7-6dc37f9160bf"
      },
      "source": [
        "fx = np.sin(10*x)+np.cos(3*x)\n",
        "fx"
      ],
      "execution_count": 0,
      "outputs": [
        {
          "output_type": "execute_result",
          "data": {
            "text/plain": [
              "array([-1.89916189, -1.39626297, -0.43326117,  0.11072071, -0.18518297,\n",
              "       -0.9037196 , -1.18610876, -0.53930211,  0.68985945,  1.61139172,\n",
              "        1.58896712,  0.80610995,  0.08291304,  0.1130853 ,  0.82358588,\n",
              "        1.44582419,  1.23260323,  0.16073151, -1.02807202, -1.48733704,\n",
              "       -1.02206277, -0.2477016 , -0.00755003, -0.58569239, -1.44016154,\n",
              "       -1.70215223, -0.98222959,  0.25835568,  1.11381625,  1.04563075])"
            ]
          },
          "metadata": {
            "tags": []
          },
          "execution_count": 3
        }
      ]
    },
    {
      "cell_type": "code",
      "metadata": {
        "scrolled": true,
        "id": "ovLooUHiTmht",
        "colab_type": "code",
        "colab": {},
        "outputId": "dc8a4294-61be-4817-95f9-4bb01b47757e"
      },
      "source": [
        "plt.plot(x,fx)\n",
        "plt.grid(True)\n",
        "plt.show()"
      ],
      "execution_count": 0,
      "outputs": [
        {
          "output_type": "display_data",
          "data": {
            "image/png": "[encoded data removed]",
            "text/plain": [
              "<Figure size 432x288 with 1 Axes>"
            ]
          },
          "metadata": {
            "tags": [],
            "needs_background": "light"
          }
        }
      ]
    },
    {
      "cell_type": "markdown",
      "metadata": {
        "id": "ixJcYrnCTmhz",
        "colab_type": "text"
      },
      "source": [
        "# Como determinar quantas raízes existem ?"
      ]
    },
    {
      "cell_type": "markdown",
      "metadata": {
        "id": "kEbzai74Tmh0",
        "colab_type": "text"
      },
      "source": [
        "## A busca incremental\n",
        "\n",
        "1. Dado um intervalo, se $f(x)$ mudar de sinal então existem pelo menos uma raiz\n",
        "$$ f(x_1)f(x_2) < 0 $$\n",
        "\n",
        "2. Se o \"incremento\" da busca for muito grande existe a possibilidade de que as raízes sejam perdidas\n",
        "3. Se o \"incremento\" da busca for muito pequeno a busca pode demorar muito\n"
      ]
    },
    {
      "cell_type": "markdown",
      "metadata": {
        "id": "DolEMzYMTmh2",
        "colab_type": "text"
      },
      "source": [
        "## O algoritmo\n",
        "\n",
        "* Dado um intervalo e um \"incremento\"/passo, a cada troca de sinal o subintervalo é salvo em um *array*"
      ]
    },
    {
      "cell_type": "code",
      "metadata": {
        "scrolled": true,
        "id": "KAFQnF3STmh3",
        "colab_type": "code",
        "colab": {},
        "outputId": "c7ae5e3a-96e3-4453-b1dc-cc1ea950e28a"
      },
      "source": [
        "plt.plot(x,fx)\n",
        "plt.grid(True)\n",
        "plt.show()"
      ],
      "execution_count": 0,
      "outputs": [
        {
          "output_type": "display_data",
          "data": {
            "image/png": "[encoded data removed]",
            "text/plain": [
              "<Figure size 432x288 with 1 Axes>"
            ]
          },
          "metadata": {
            "tags": [],
            "needs_background": "light"
          }
        }
      ]
    },
    {
      "cell_type": "markdown",
      "metadata": {
        "id": "wGWQiLNqTmh8",
        "colab_type": "text"
      },
      "source": [
        "## Definindo a função"
      ]
    },
    {
      "cell_type": "code",
      "metadata": {
        "id": "po-_bACyTmh-",
        "colab_type": "code",
        "colab": {}
      },
      "source": [
        "def sen10_cos3(x):\n",
        "    return np.sin(10*x)+np.cos(3*x)"
      ],
      "execution_count": 0,
      "outputs": []
    },
    {
      "cell_type": "markdown",
      "metadata": {
        "id": "-KC1-X_GTmiC",
        "colab_type": "text"
      },
      "source": [
        "## A busca incremental"
      ]
    },
    {
      "cell_type": "code",
      "metadata": {
        "id": "Wphr5Wu0TmiE",
        "colab_type": "code",
        "colab": {}
      },
      "source": [
        "def busca_incremental(funcao, xmin, xmax, passo = 0.1):\n",
        "    x = np.arange(xmin, xmax, passo)\n",
        "    subintervalos = []\n",
        "    for xi in x:\n",
        "        if funcao(xi)*funcao(xi+passo) < 0:\n",
        "            subintervalos.append([xi,xi+passo])\n",
        "    return subintervalos   "
      ],
      "execution_count": 0,
      "outputs": []
    },
    {
      "cell_type": "markdown",
      "metadata": {
        "id": "5QJBt7FWTmiJ",
        "colab_type": "text"
      },
      "source": [
        "## Aplicando o algoritmo"
      ]
    },
    {
      "cell_type": "code",
      "metadata": {
        "id": "nkizOs6KTmiL",
        "colab_type": "code",
        "colab": {},
        "outputId": "36cdce27-4364-4cee-ccd6-c890e15bee7d"
      },
      "source": [
        "intervalos = busca_incremental(sen10_cos3,3,6,1)\n",
        "print('Foram encontrados {} subintervalos: '.format(len(intervalos)))\n",
        "intervalos"
      ],
      "execution_count": 0,
      "outputs": [
        {
          "output_type": "stream",
          "text": [
            "Foram encontrados 3 subintervalos: \n"
          ],
          "name": "stdout"
        },
        {
          "output_type": "execute_result",
          "data": {
            "text/plain": [
              "[[3, 4], [4, 5], [5, 6]]"
            ]
          },
          "metadata": {
            "tags": []
          },
          "execution_count": 8
        }
      ]
    },
    {
      "cell_type": "markdown",
      "metadata": {
        "id": "e5VyVf3BTmiP",
        "colab_type": "text"
      },
      "source": [
        "# Método da Bisseção\n",
        "\n",
        "* É uma variação do método da busca incremental\n",
        "* O intervalo é sempre dividido ao meio (busca binária)\n",
        "\n",
        "$$ x_{meio} = \\frac{(x_{max}+x_{min})}{2} $$"
      ]
    },
    {
      "cell_type": "code",
      "metadata": {
        "id": "VZPprNmATmiR",
        "colab_type": "code",
        "colab": {}
      },
      "source": [
        "x = np.arange(5.5, 6, 0.001)\n",
        "fx = sen10_cos3(x)\n",
        "plt.plot(x,fx)\n",
        "plt.grid(True)\n",
        "plt.show()"
      ],
      "execution_count": 0,
      "outputs": []
    },
    {
      "cell_type": "markdown",
      "metadata": {
        "id": "WsxW_la5TmiV",
        "colab_type": "text"
      },
      "source": [
        "# Critérios de parada\n",
        "\n",
        "* Número de iterações\n",
        "* Estimativa de erro"
      ]
    },
    {
      "cell_type": "markdown",
      "metadata": {
        "id": "SdFBBgliTmiW",
        "colab_type": "text"
      },
      "source": [
        "## Erro de aproximação\n",
        "\n",
        "$$ | \\varepsilon_a | = \\left | \\frac{x^{novo}_r - x^{velho}_r }{x^{novo}_r} \\right| 100% $$\n",
        "\n",
        "onde $ x^{novo}_r $ é a raiz da iteração atual e $x^{velho}_r$ é a raiz da iteração prévia. Quando $|\\varepsilon_a|$ torna-se menor que um critério de parada pré-especificado, $|\\varepsilon_s|$, param-se os cálculos."
      ]
    },
    {
      "cell_type": "markdown",
      "metadata": {
        "id": "QsTuwf_QTmiX",
        "colab_type": "text"
      },
      "source": [
        "### A função bissecao"
      ]
    },
    {
      "cell_type": "code",
      "metadata": {
        "id": "QRprypsmTmiZ",
        "colab_type": "code",
        "colab": {}
      },
      "source": [
        "def bissecao(funcao,xmin, xmax, tol = 0.0001, max_it = 100):\n",
        "    raiz = []\n",
        "    erro = []\n",
        "    if funcao(xmin) * funcao(xmax) > 0 :\n",
        "        print(\"A raiz não está isolada\")\n",
        "        return\n",
        "    else:"
      ],
      "execution_count": 0,
      "outputs": []
    },
    {
      "cell_type": "markdown",
      "metadata": {
        "id": "IhfKwaQJTmid",
        "colab_type": "text"
      },
      "source": [
        "# Now go code!"
      ]
    }
  ]
}