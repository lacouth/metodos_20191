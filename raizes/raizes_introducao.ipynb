{
 "cells": [
  {
   "cell_type": "markdown",
   "metadata": {
    "slideshow": {
     "slide_type": "slide"
    }
   },
   "source": [
    "# Métodos Numéricos 2019.1\n",
    "## Patric Lacouth\n",
    "### lacouth@gmail.com"
   ]
  },
  {
   "cell_type": "markdown",
   "metadata": {
    "slideshow": {
     "slide_type": "slide"
    }
   },
   "source": [
    "## Raízes\n",
    "\n",
    "Há muito tempo,  você aprendeu a usar a fórmula quadrática\n",
    "\n",
    "$$ x = \\frac{-b \\pm \\sqrt{b^2 - 4ac}}{2a} $$\n",
    "\n",
    "para resolver\n",
    "\n",
    "$$ f(x) = ax^2 + bx + c = 0 $$\n",
    "\n",
    "Os valores calculados na primeira equação são chamados \"raízes\" e representam os valores de x que tornam a segunda  igual a zero."
   ]
  },
  {
   "cell_type": "markdown",
   "metadata": {
    "slideshow": {
     "slide_type": "subslide"
    }
   },
   "source": [
    "## Objetivos\n",
    "\n",
    "* Traçar gráficos das funções.\n",
    "* Aprender o método da busca incremental e suas deficiências.\n",
    "* Aprender o método da bisseção."
   ]
  },
  {
   "cell_type": "markdown",
   "metadata": {
    "slideshow": {
     "slide_type": "subslide"
    }
   },
   "source": [
    "# Gráficos no jupyter notebook\n",
    "\n",
    "1. Importando as bibliotecas"
   ]
  },
  {
   "cell_type": "code",
   "execution_count": null,
   "metadata": {
    "slideshow": {
     "slide_type": "-"
    }
   },
   "outputs": [],
   "source": [
    "import numpy as np\n",
    "import matplotlib.pyplot as plt\n",
    "%matplotlib inline"
   ]
  },
  {
   "cell_type": "markdown",
   "metadata": {
    "slideshow": {
     "slide_type": "subslide"
    }
   },
   "source": [
    "2. Criando a faixa de valores onde a função será calculada"
   ]
  },
  {
   "cell_type": "code",
   "execution_count": null,
   "metadata": {},
   "outputs": [],
   "source": [
    "x = np.arange(3,6,0.1) # de 3 até 6 com incremento de 0.1\n",
    "x"
   ]
  },
  {
   "cell_type": "markdown",
   "metadata": {
    "slideshow": {
     "slide_type": "subslide"
    }
   },
   "source": [
    "3. Gerando os valores da função\n",
    "$$ f(x) = sen(10x) + cos(3x) $$"
   ]
  },
  {
   "cell_type": "code",
   "execution_count": null,
   "metadata": {},
   "outputs": [],
   "source": [
    "fx = np.sin(10*x)+np.cos(3*x)\n",
    "fx"
   ]
  },
  {
   "cell_type": "code",
   "execution_count": null,
   "metadata": {
    "scrolled": true,
    "slideshow": {
     "slide_type": "subslide"
    }
   },
   "outputs": [],
   "source": [
    "plt.plot(x,fx)\n",
    "plt.grid(True)\n",
    "plt.show()"
   ]
  },
  {
   "cell_type": "markdown",
   "metadata": {
    "slideshow": {
     "slide_type": "subslide"
    }
   },
   "source": [
    "# Como determinar quantas raízes existem ?"
   ]
  },
  {
   "cell_type": "markdown",
   "metadata": {
    "slideshow": {
     "slide_type": "subslide"
    }
   },
   "source": [
    "## A busca incremental\n",
    "\n",
    "1. Dado um intervalo, se $f(x)$ mudar de sinal então existem pelo menos uma raiz\n",
    "$$ f(x_1)f(x_2) < 0 $$\n",
    "\n",
    "2. Se o \"incremento\" da busca for muito grande existe a possibilidade de que as raízes sejam perdidas\n",
    "3. Se o \"incremento\" da busca for muito pequeno a busca pode demorar muito\n"
   ]
  },
  {
   "cell_type": "markdown",
   "metadata": {
    "slideshow": {
     "slide_type": "subslide"
    }
   },
   "source": [
    "## O algoritmo\n",
    "\n",
    "* Dado um intervalo e um \"incremento\"/passo, a cada troca de sinal o subintervalo é salvo em um *array*"
   ]
  },
  {
   "cell_type": "code",
   "execution_count": null,
   "metadata": {
    "scrolled": true,
    "slideshow": {
     "slide_type": "-"
    }
   },
   "outputs": [],
   "source": [
    "plt.plot(x,fx)\n",
    "plt.grid(True)\n",
    "plt.show()"
   ]
  },
  {
   "cell_type": "markdown",
   "metadata": {
    "slideshow": {
     "slide_type": "subslide"
    }
   },
   "source": [
    "## Definindo a função"
   ]
  },
  {
   "cell_type": "code",
   "execution_count": null,
   "metadata": {
    "slideshow": {
     "slide_type": "-"
    }
   },
   "outputs": [],
   "source": [
    "def sen10_cos3(x):\n",
    "    return np.sin(10*x)+np.cos(3*x)"
   ]
  },
  {
   "cell_type": "markdown",
   "metadata": {
    "slideshow": {
     "slide_type": "subslide"
    }
   },
   "source": [
    "## A busca incremental"
   ]
  },
  {
   "cell_type": "code",
   "execution_count": null,
   "metadata": {
    "slideshow": {
     "slide_type": "-"
    }
   },
   "outputs": [],
   "source": [
    "def busca_incremental(funcao, xmin, xmax, passo = 0.1):\n",
    "    x = np.arange(xmin, xmax, passo)\n",
    "    subintervalos = []\n",
    "    for xi in x:\n",
    "        if funcao(xi)*funcao(xi+passo) < 0:\n",
    "            subintervalos.append([xi,xi+passo])\n",
    "    return subintervalos   "
   ]
  },
  {
   "cell_type": "markdown",
   "metadata": {
    "slideshow": {
     "slide_type": "subslide"
    }
   },
   "source": [
    "## Aplicando o algoritmo"
   ]
  },
  {
   "cell_type": "code",
   "execution_count": null,
   "metadata": {
    "slideshow": {
     "slide_type": "-"
    }
   },
   "outputs": [],
   "source": [
    "intervalos = busca_incremental(sen10_cos3,3,6,1)\n",
    "print('Foram encontrados {} subintervalos: '.format(len(intervalos)))\n",
    "intervalos"
   ]
  },
  {
   "cell_type": "markdown",
   "metadata": {
    "slideshow": {
     "slide_type": "subslide"
    }
   },
   "source": [
    "# Método da Bisseção\n",
    "\n",
    "* É uma variação do método da busca incremental\n",
    "* O intervalo é sempre dividido ao meio (busca binária)\n",
    "\n",
    "$$ x_{meio} = \\frac{(x_{max}+x_{min})}{2} $$"
   ]
  },
  {
   "cell_type": "code",
   "execution_count": null,
   "metadata": {
    "slideshow": {
     "slide_type": "subslide"
    }
   },
   "outputs": [],
   "source": [
    "x = np.arange(5.5, 6, 0.001)\n",
    "fx = sen10_cos3(x)\n",
    "plt.plot(x,fx)\n",
    "plt.grid(True)\n",
    "plt.show()"
   ]
  },
  {
   "cell_type": "markdown",
   "metadata": {
    "slideshow": {
     "slide_type": "subslide"
    }
   },
   "source": [
    "# Critérios de parada\n",
    "\n",
    "* Número de iterações\n",
    "* Estimativa de erro"
   ]
  },
  {
   "cell_type": "markdown",
   "metadata": {
    "slideshow": {
     "slide_type": "subslide"
    }
   },
   "source": [
    "## Erro de aproximação\n",
    "\n",
    "$$ | \\varepsilon_a | = \\left | \\frac{x^{novo}_r - x^{velho}_r }{x^{novo}_r} \\right| 100% $$\n",
    "\n",
    "onde $ x^{novo}_r $ é a raiz da iteração atual e $x^{velho}_r$ é a raiz da iteração prévia. Quando $|\\varepsilon_a|$ torna-se menor que um critério de parada pré-especificado, $|\\varepsilon_s|$, param-se os cálculos."
   ]
  },
  {
   "cell_type": "markdown",
   "metadata": {
    "slideshow": {
     "slide_type": "subslide"
    }
   },
   "source": [
    "### A função bissecao"
   ]
  },
  {
   "cell_type": "code",
   "execution_count": null,
   "metadata": {},
   "outputs": [],
   "source": [
    "def bissecao(funcao,xmin, xmax, tol = 0.0001, max_it = 100):\n",
    "    raiz = []\n",
    "    erro = []\n",
    "    if funcao(xmin) * funcao(xmax) > 0 :\n",
    "        print(\"A raiz não está isolada\")\n",
    "        return\n",
    "    else:"
   ]
  },
  {
   "cell_type": "markdown",
   "metadata": {
    "slideshow": {
     "slide_type": "subslide"
    }
   },
   "source": [
    "# Now go code!"
   ]
  }
 ],
 "metadata": {
  "celltoolbar": "Slideshow",
  "kernelspec": {
   "display_name": "Python 3",
   "language": "python",
   "name": "python3"
  },
  "language_info": {
   "codemirror_mode": {
    "name": "ipython",
    "version": 3
   },
   "file_extension": ".py",
   "mimetype": "text/x-python",
   "name": "python",
   "nbconvert_exporter": "python",
   "pygments_lexer": "ipython3",
   "version": "3.7.2"
  }
 },
 "nbformat": 4,
 "nbformat_minor": 2
}
