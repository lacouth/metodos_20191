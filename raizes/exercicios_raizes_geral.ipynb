{
  "nbformat": 4,
  "nbformat_minor": 0,
  "metadata": {
    "kernelspec": {
      "display_name": "Python 3",
      "language": "python",
      "name": "python3"
    },
    "language_info": {
      "codemirror_mode": {
        "name": "ipython",
        "version": 3
      },
      "file_extension": ".py",
      "mimetype": "text/x-python",
      "name": "python",
      "nbconvert_exporter": "python",
      "pygments_lexer": "ipython3",
      "version": "3.7.4"
    },
    "colab": {
      "name": "exercicios_raizes_geral.ipynb",
      "provenance": [],
      "include_colab_link": true
    }
  },
  "cells": [
    {
      "cell_type": "markdown",
      "metadata": {
        "id": "view-in-github",
        "colab_type": "text"
      },
      "source": [
        "<a href=\"https://colab.research.google.com/github/lacouth/metodos_numericos/blob/master/raizes/exercicios_raizes_geral.ipynb\" target=\"_parent\"><img src=\"https://colab.research.google.com/assets/colab-badge.svg\" alt=\"Open In Colab\"/></a>"
      ]
    },
    {
      "cell_type": "markdown",
      "metadata": {
        "id": "t_g4Upc7K6D1",
        "colab_type": "text"
      },
      "source": [
        "# Exercícios"
      ]
    },
    {
      "cell_type": "markdown",
      "metadata": {
        "id": "TYWIT8mmK6D5",
        "colab_type": "text"
      },
      "source": [
        "1. Dada a função abaixo, encontre a raiz através do método da bisseção no intervalo [1,4], com $\\varepsilon_s = 0.01 \\%$ ou o máximo de 100 iterações, mostre o gráfico do erro vs iterações."
      ]
    },
    {
      "cell_type": "code",
      "metadata": {
        "id": "uMQRFrJxK6D6",
        "colab_type": "code",
        "colab": {}
      },
      "source": [
        "def x3_20(x):\n",
        "    return x**3-20"
      ],
      "execution_count": 0,
      "outputs": []
    },
    {
      "cell_type": "code",
      "metadata": {
        "id": "5y8atrrJK6EB",
        "colab_type": "code",
        "colab": {}
      },
      "source": [
        ""
      ],
      "execution_count": 0,
      "outputs": []
    },
    {
      "cell_type": "markdown",
      "metadata": {
        "id": "aiTUvKk2K6EG",
        "colab_type": "text"
      },
      "source": [
        "2. Utilizando a mesma função, encontre a raiz através do método de Newton-Raphson com $x_0 = 3.0$ com $\\varepsilon_s = 0.01\\%$ ou o máximo de 100 iterações, mostre o gráfico do erro vs iterações."
      ]
    },
    {
      "cell_type": "code",
      "metadata": {
        "id": "FAe5ZszvK6EI",
        "colab_type": "code",
        "colab": {}
      },
      "source": [
        ""
      ],
      "execution_count": 0,
      "outputs": []
    },
    {
      "cell_type": "markdown",
      "metadata": {
        "id": "iRVAwRmwK6EN",
        "colab_type": "text"
      },
      "source": [
        "3. Utilizando a mesma função, encontre a raiz através do método da secante com $x_0 = 4.0$ e $x_1 = 5.5$ com $\\varepsilon_s = 0.01\\%$ ou o máximo de 100 iterações, mostre o gráfico do erro vs iterações."
      ]
    },
    {
      "cell_type": "code",
      "metadata": {
        "id": "9Y8-peXYK6EO",
        "colab_type": "code",
        "colab": {}
      },
      "source": [
        ""
      ],
      "execution_count": 0,
      "outputs": []
    },
    {
      "cell_type": "markdown",
      "metadata": {
        "id": "vHsFXNcQK6ET",
        "colab_type": "text"
      },
      "source": [
        "4. Determine a raiz de $f(x) = x^3-6x^2+11x-6.1$, considerando sempre $\\varepsilon = 0.01 \\%$ :\n",
        "\n",
        "    a. Graficamente\n",
        "\n",
        "    b. Usando o método da bisseção, [-2.5, 10]\n",
        "    \n",
        "    c. Usando o método das cordas, [-2.5, 10]\n",
        "    \n",
        "    d. Usando o método de Newton-Raphson, $x_i = 3.5$\n",
        "    \n",
        "    e. Usando o método da secante, $x_{i-1} = 2.5$ e $x_i = 3.5$\n",
        "    \n",
        "    f. De acordo com os resultados qual método você considera o mais eficiente?"
      ]
    },
    {
      "cell_type": "code",
      "metadata": {
        "id": "-J_fApJNK6EV",
        "colab_type": "code",
        "colab": {}
      },
      "source": [
        ""
      ],
      "execution_count": 0,
      "outputs": []
    },
    {
      "cell_type": "markdown",
      "metadata": {
        "id": "xFUp7xX4K6Ea",
        "colab_type": "text"
      },
      "source": [
        "5. O polinômio $f(x) = 0.0074x^4 - 0.284x^3 + 3.355x^2-12.183x + 5$ tem uma raiz entre 15 e 20. Aplique o método de Newton-Raphson para essa função utilizando uma aproximação inicial de $x_0=16.15$"
      ]
    },
    {
      "cell_type": "code",
      "metadata": {
        "id": "TEGTKm8GK6Ec",
        "colab_type": "code",
        "colab": {}
      },
      "source": [
        ""
      ],
      "execution_count": 0,
      "outputs": []
    },
    {
      "cell_type": "markdown",
      "metadata": {
        "id": "drTW4B0UK6Eg",
        "colab_type": "text"
      },
      "source": [
        "6. Segundo estudos médicos, as chances de um saltador de *bungee jumping* sofrer uma lesão nas vértebras aumentam se a velocidade, $v(t)$ da queda exceder 36 m/s após $t = 4 s$ de queda livre. Determine a massa, $m$ na qual esse critério é execedido, dado um coeficiente de arrasto $c_d = 0.25 kg/m $. Você pode usar a solução analítica a seguir para prever a velocidade de queda em função do tempo:\n",
        "\n",
        "$$ v(t) = \\sqrt{\\frac{gm}{c_d}}tanh\\left(\\sqrt{\\frac{gc_d}{m}}t\\right)$$\n",
        "onde $g = 9.81$\n",
        "\n",
        "Uma maneira alternativa de olhar para o problema envolve a subtração de $v(t) de ambos os lados para fornecer uma nova função:\n",
        "\n",
        "$$  f(m) = \\sqrt{\\frac{gm}{c_d}}tanh\\left(\\sqrt{\\frac{gc_d}{m}}t\\right)-v(t)$$\n",
        "\n",
        "Agora, podemos ver que a resposta para o problema é o valor de $m$ que torna a função igual a zero.\n",
        "\n",
        "Escolha dois métodos para resolver esse problema, para um $\\varepsilon_s = 0.05\\%$ ou o máximo de 100 iterações dentro do intervalo [40, 200].\n",
        "\n",
        "Compare os seus resultados com o valor exato da raiz $m = 142.7376$"
      ]
    },
    {
      "cell_type": "code",
      "metadata": {
        "id": "sPndi5RUK6Ei",
        "colab_type": "code",
        "colab": {}
      },
      "source": [
        ""
      ],
      "execution_count": 0,
      "outputs": []
    }
  ]
}