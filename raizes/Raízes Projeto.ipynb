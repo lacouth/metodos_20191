{
 "cells": [
  {
   "cell_type": "markdown",
   "metadata": {},
   "source": [
    "# Projeto Raízes\n",
    "\n",
    "## Descrição do problema\n",
    "\n",
    "Os termistores são dispositivos de medição de temperatura baseados no princípio de que o material do termistor exibe uma alteração na resistência elétrica com uma alteração na temperatura. Medindo a resistência do material do termistor, pode-se determinar a temperatura. Para um termistor 10K3A Betatherm, a relação entre a resistência $R$ do termistor e a temperatura é dada por:\n",
    "\n",
    "$$\\frac{1}{T} = 1.129241\\times 10^{-3} + 2.341077\\times 10^{-4} ln(R) +8.775468\\times 10^{-8} \\times (ln(R))^3 $$ \n",
    "\n",
    "onde $T$ é a temperatura em Kelvin e $R$ a resistência em ohms."
   ]
  },
  {
   "cell_type": "code",
   "execution_count": 1,
   "metadata": {},
   "outputs": [],
   "source": [
    "import numpy as np\n",
    "import matplotlib.pyplot as plt"
   ]
  },
  {
   "cell_type": "code",
   "execution_count": 7,
   "metadata": {},
   "outputs": [],
   "source": [
    "def equacao(R,T):\n",
    "    return 1.129247e-3+2.341077e-4*np.log(R) + 8.775468e-8*np.log(R)**3-1/(T+273.15)"
   ]
  },
  {
   "cell_type": "code",
   "execution_count": 8,
   "metadata": {},
   "outputs": [
    {
     "data": {
      "text/plain": [
       "5000"
      ]
     },
     "execution_count": 8,
     "metadata": {},
     "output_type": "execute_result"
    }
   ],
   "source": [
    "r = np.arange(10000,15000,1)\n",
    "len(x)"
   ]
  },
  {
   "cell_type": "code",
   "execution_count": 9,
   "metadata": {},
   "outputs": [
    {
     "data": {
      "text/plain": [
       "5000"
      ]
     },
     "execution_count": 9,
     "metadata": {},
     "output_type": "execute_result"
    }
   ],
   "source": [
    "t = equacao(x,19)\n",
    "len(x)"
   ]
  },
  {
   "cell_type": "code",
   "execution_count": 10,
   "metadata": {},
   "outputs": [
    {
     "data": {
      "text/plain": [
       "<function matplotlib.pyplot.show(*args, **kw)>"
      ]
     },
     "execution_count": 10,
     "metadata": {},
     "output_type": "execute_result"
    },
    {
     "data": {
      "image/png": "[encoded data removed]",
      "text/plain": [
       "<Figure size 432x288 with 1 Axes>"
      ]
     },
     "metadata": {
      "needs_background": "light"
     },
     "output_type": "display_data"
    }
   ],
   "source": [
    "plt.plot(r,t)\n",
    "plt.grid(True)\n",
    "plt.show"
   ]
  },
  {
   "cell_type": "code",
   "execution_count": null,
   "metadata": {},
   "outputs": [],
   "source": [
    "def bissecao(fnc, a, b, es, max_it=100):\n",
    "    xm = []\n",
    "    erro = []\n",
    "    for i in range(max_it):\n",
    "        xm.append((a+b)/2)\n",
    "        if fnc(a)"
   ]
  }
 ],
 "metadata": {
  "kernelspec": {
   "display_name": "Python 3",
   "language": "python",
   "name": "python3"
  },
  "language_info": {
   "codemirror_mode": {
    "name": "ipython",
    "version": 3
   },
   "file_extension": ".py",
   "mimetype": "text/x-python",
   "name": "python",
   "nbconvert_exporter": "python",
   "pygments_lexer": "ipython3",
   "version": "3.7.4"
  }
 },
 "nbformat": 4,
 "nbformat_minor": 2
}
