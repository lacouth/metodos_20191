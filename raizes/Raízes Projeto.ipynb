{
 "cells": [
  {
   "cell_type": "markdown",
   "metadata": {},
   "source": [
    "# Projeto de Resolução de Equações não-lineares\n",
    "\n",
    "## Descrição do problema\n",
    "\n",
    "![](thermistor.jpeg)\n",
    "\n",
    "Os termistores são dispositivos de medição de temperatura baseados no princípio de que o material do termistor exibe uma alteração na resistência elétrica com uma alteração na temperatura. Medindo a resistência do material do termistor, pode-se determinar a temperatura. Para um termistor 10K3A Betatherm, a relação entre a resistência $R$ do termistor e a temperatura é dada por:\n",
    "\n",
    "$$\\frac{1}{T} = 1.129241\\times 10^{-3} + 2.341077\\times 10^{-4} ln(R) +8.775468\\times 10^{-8} \\times (ln(R))^3 $$ \n",
    "\n",
    "onde $T$ é a temperatura em Kelvin e $R$ a resistência em Ohms.\n",
    "\n",
    "Podemos reescrever a equação acima na forma $f(x) = 0$:\n",
    "\n",
    "$$1.129241\\times 10^{-3} + 2.341077\\times 10^{-4} ln(R) +8.775468\\times 10^{-8} \\times (ln(R))^3 - \\frac{1}{T} = 0$$\n",
    "\n",
    "Dessa forma dada um temperatura T, podemos descobrir o valor de R correspondente através de um método de solução de equações não lineares (Bisseção, Cordas, Newton-Raphson, Secante)"
   ]
  },
  {
   "cell_type": "code",
   "execution_count": 1,
   "metadata": {},
   "outputs": [],
   "source": [
    "import numpy as np\n",
    "import matplotlib.pyplot as plt"
   ]
  },
  {
   "cell_type": "markdown",
   "metadata": {},
   "source": [
    "# Resolução\n",
    "\n",
    "O primeiro passo para poder resolver esse problema vamos definir uma função que modela o thermistor para uma determinada Temperatura."
   ]
  },
  {
   "cell_type": "code",
   "execution_count": 2,
   "metadata": {},
   "outputs": [],
   "source": [
    "def equacao(R,T=19): # A Temperatura é fixa em 19°C para essa análise\n",
    "    return 1.129247e-3+2.341077e-4*np.log(R) + 8.775468e-8*np.log(R)**3-1/(T+273.15)"
   ]
  },
  {
   "cell_type": "markdown",
   "metadata": {},
   "source": [
    "Uma observação importante é a conversão da unidade da Temperatura de Kelvin para Celsius, onde basta somar $273.15$ "
   ]
  },
  {
   "cell_type": "markdown",
   "metadata": {},
   "source": [
    "# Análise Gráfica\n",
    "\n",
    "Sabendo que o thermistor opera próximo da faixa de 10K Ohms, traçamos um gráfico entre 8K e 15K para analisar o comportamento da função"
   ]
  },
  {
   "cell_type": "code",
   "execution_count": 3,
   "metadata": {},
   "outputs": [],
   "source": [
    "r = np.arange(8000,15000,1)\n",
    "y = equacao(r,19) # A temperatura é fixa em 19º C"
   ]
  },
  {
   "cell_type": "code",
   "execution_count": 4,
   "metadata": {},
   "outputs": [
    {
     "data": {
      "text/plain": [
       "<function matplotlib.pyplot.show(*args, **kw)>"
      ]
     },
     "execution_count": 4,
     "metadata": {},
     "output_type": "execute_result"
    },
    {
     "data": {
      "image/png": "[encoded data removed]",
      "text/plain": [
       "<Figure size 432x288 with 1 Axes>"
      ]
     },
     "metadata": {
      "needs_background": "light"
     },
     "output_type": "display_data"
    }
   ],
   "source": [
    "plt.plot(r,y)\n",
    "plt.grid(True)\n",
    "plt.xlabel(\"Resistência em Ohms\")\n",
    "plt.show"
   ]
  },
  {
   "cell_type": "markdown",
   "metadata": {},
   "source": [
    "# Análise através de um método intervalar\n",
    "\n",
    "Como método intervalar foi escolhido o método da bisseção pois ele possui a garantia de convergência quando ao menos uma raiz está isolada no intervalo "
   ]
  },
  {
   "cell_type": "code",
   "execution_count": 5,
   "metadata": {},
   "outputs": [],
   "source": [
    "def bissecao(fnc, a, b, es, max_it=100):\n",
    "    xm = []\n",
    "    erro = []\n",
    "    for i in range(max_it):\n",
    "        xm.append((a+b)/2)\n",
    "        if fnc(a)*fnc(xm[-1]) < 0:\n",
    "            b = xm[-1]\n",
    "        else:\n",
    "            a = xm[-1]\n",
    "        if i!=0:\n",
    "            erro.append(np.abs((xm[i]-xm[i-1])/xm[i])*100)\n",
    "            if erro[-1] <= es:\n",
    "                return xm, erro\n",
    "        "
   ]
  },
  {
   "cell_type": "code",
   "execution_count": 6,
   "metadata": {},
   "outputs": [
    {
     "data": {
      "text/plain": [
       "14"
      ]
     },
     "execution_count": 6,
     "metadata": {},
     "output_type": "execute_result"
    }
   ],
   "source": [
    "raiz, e = bissecao(equacao,8000, 15000, 0.005, 1000)\n",
    "len(raiz)"
   ]
  },
  {
   "cell_type": "markdown",
   "metadata": {},
   "source": [
    "Após 14 iterações o método convergiu para um erro de aproximação menor do que o estipulado de $0.005$"
   ]
  },
  {
   "cell_type": "code",
   "execution_count": 7,
   "metadata": {},
   "outputs": [
    {
     "data": {
      "text/plain": [
       "[11500.0,\n",
       " 13250.0,\n",
       " 12375.0,\n",
       " 12812.5,\n",
       " 13031.25,\n",
       " 13140.625,\n",
       " 13085.9375,\n",
       " 13058.59375,\n",
       " 13072.265625,\n",
       " 13065.4296875,\n",
       " 13068.84765625,\n",
       " 13070.556640625,\n",
       " 13071.4111328125,\n",
       " 13071.83837890625]"
      ]
     },
     "execution_count": 7,
     "metadata": {},
     "output_type": "execute_result"
    }
   ],
   "source": [
    "raiz"
   ]
  },
  {
   "cell_type": "markdown",
   "metadata": {},
   "source": [
    "O método encontrou o valor de $R = 13071.8383$ Ohms para a temperatura de 19°C. Podemos conferir se o valor está correto substituindo de volta na equação e verificando se o valor se aproxima de zero."
   ]
  },
  {
   "cell_type": "code",
   "execution_count": 8,
   "metadata": {},
   "outputs": [
    {
     "data": {
      "text/plain": [
       "-6.7127105896416794e-09"
      ]
     },
     "execution_count": 8,
     "metadata": {},
     "output_type": "execute_result"
    }
   ],
   "source": [
    "equacao(raiz[-1])"
   ]
  },
  {
   "cell_type": "markdown",
   "metadata": {},
   "source": [
    "### Trançando o gráfico do erro"
   ]
  },
  {
   "cell_type": "code",
   "execution_count": 9,
   "metadata": {},
   "outputs": [
    {
     "data": {
      "image/png": "[encoded data removed]",
      "text/plain": [
       "<Figure size 432x288 with 1 Axes>"
      ]
     },
     "metadata": {
      "needs_background": "light"
     },
     "output_type": "display_data"
    }
   ],
   "source": [
    "plt.plot(raiz)\n",
    "plt.title(\"Erro do método da bisseção ao longo das iterações\")\n",
    "plt.grid(True)"
   ]
  },
  {
   "cell_type": "markdown",
   "metadata": {},
   "source": [
    "# Análise através de um método aberto\n",
    "\n",
    "Para a análise utilizando um método aberto foi escolhido o método da **secante** pois possui uma rápida convergência similar ao método de Newton sem a necessidade do cálculo simbólico da derivada da função"
   ]
  },
  {
   "cell_type": "code",
   "execution_count": 10,
   "metadata": {},
   "outputs": [],
   "source": [
    "def secante(f,x0,x1,es=0.005,max_it=100):\n",
    "    x = []\n",
    "    erro = []\n",
    "    x.append(x0)\n",
    "    x.append(x1)\n",
    "    for i in range(1,max_it):\n",
    "        xn = x[i] - f(x[i])*(x[i]-x[i-1])/(f(x[i])-f(x[i-1]))\n",
    "        x.append(xn)\n",
    "        erro.append(np.abs((x[-1]-x[-2])/x[-1])*100)\n",
    "        if erro[-1] <= es:\n",
    "            return x,erro"
   ]
  },
  {
   "cell_type": "markdown",
   "metadata": {},
   "source": [
    "Utilizando como $x_0 = 8000$ e $x_1 = 15000$ e os mesmo critérios de parada do método anterior foi possível, após 6 iterações obter o resultado abaixo "
   ]
  },
  {
   "cell_type": "code",
   "execution_count": 11,
   "metadata": {},
   "outputs": [
    {
     "data": {
      "text/plain": [
       "6"
      ]
     },
     "execution_count": 11,
     "metadata": {},
     "output_type": "execute_result"
    }
   ],
   "source": [
    "raiz_secante, erro_secante = secante(equacao,8000, 15000,0.005,1000)\n",
    "len(raiz_secante)"
   ]
  },
  {
   "cell_type": "code",
   "execution_count": 12,
   "metadata": {},
   "outputs": [
    {
     "data": {
      "text/plain": [
       "[8000,\n",
       " 15000,\n",
       " 13460.912504549442,\n",
       " 13044.868606523172,\n",
       " 13072.575167592257,\n",
       " 13072.179214614003]"
      ]
     },
     "execution_count": 12,
     "metadata": {},
     "output_type": "execute_result"
    }
   ],
   "source": [
    "raiz_secante"
   ]
  },
  {
   "cell_type": "markdown",
   "metadata": {},
   "source": [
    "O método encontrou o valor de $R = 13072.1792$ Ohms para a temperatura de 19°C. Podemos conferir se o valor está correto substituindo de volta na equação e verificando se o valor se aproxima de zero."
   ]
  },
  {
   "cell_type": "code",
   "execution_count": 13,
   "metadata": {},
   "outputs": [
    {
     "data": {
      "text/plain": [
       "8.00870871356385e-12"
      ]
     },
     "execution_count": 13,
     "metadata": {},
     "output_type": "execute_result"
    }
   ],
   "source": [
    "equacao(raiz_secante[-1])"
   ]
  },
  {
   "cell_type": "markdown",
   "metadata": {},
   "source": [
    "### Trançando o gráfico do erro"
   ]
  },
  {
   "cell_type": "code",
   "execution_count": 14,
   "metadata": {},
   "outputs": [
    {
     "data": {
      "image/png": "[encoded data removed]",
      "text/plain": [
       "<Figure size 432x288 with 1 Axes>"
      ]
     },
     "metadata": {
      "needs_background": "light"
     },
     "output_type": "display_data"
    }
   ],
   "source": [
    "plt.plot(erro_secante)\n",
    "plt.title(\"Erro do método da secante ao longo das iterações\")\n",
    "plt.grid(True)"
   ]
  },
  {
   "cell_type": "markdown",
   "metadata": {},
   "source": [
    "# Conclusão\n",
    "\n",
    "Através dos métodos de resolução de equações não lineares (bisseção e secante) foi possível criar um modelo de confiança para obter o valor de resistência de um thermistor para um temperatura específica a partir de uma equação fornecida pelo fabricante. A facilidade dos métodos evita a necessidade de manipular e resolver uma equação complexa para a obtenção dos resultados. "
   ]
  }
 ],
 "metadata": {
  "kernelspec": {
   "display_name": "Python 3",
   "language": "python",
   "name": "python3"
  },
  "language_info": {
   "codemirror_mode": {
    "name": "ipython",
    "version": 3
   },
   "file_extension": ".py",
   "mimetype": "text/x-python",
   "name": "python",
   "nbconvert_exporter": "python",
   "pygments_lexer": "ipython3",
   "version": "3.7.4"
  }
 },
 "nbformat": 4,
 "nbformat_minor": 2
}
