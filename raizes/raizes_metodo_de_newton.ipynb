{
 "cells": [
  {
   "cell_type": "markdown",
   "metadata": {
    "colab_type": "text",
    "id": "view-in-github"
   },
   "source": [
    "<a href=\"https://colab.research.google.com/github/lacouth/metodos_numericos/blob/master/raizes/raizes_introducao.ipynb\" target=\"_parent\"><img src=\"https://colab.research.google.com/assets/colab-badge.svg\" alt=\"Open In Colab\"/></a>"
   ]
  },
  {
   "cell_type": "markdown",
   "metadata": {
    "colab_type": "text",
    "id": "VgbyyIidTmhT",
    "slideshow": {
     "slide_type": "slide"
    }
   },
   "source": [
    "# Métodos Numéricos\n",
    "\n",
    "## Raízes: Método de Newton\n",
    "\n",
    "### Patric Lacouth"
   ]
  },
  {
   "cell_type": "markdown",
   "metadata": {
    "cell_style": "center",
    "colab_type": "text",
    "id": "e5VyVf3BTmiP",
    "slideshow": {
     "slide_type": "slide"
    }
   },
   "source": [
    "# Método de Newton\n",
    "\n",
    "* É um método aberto"
   ]
  },
  {
   "cell_type": "markdown",
   "metadata": {
    "colab_type": "text",
    "id": "e5VyVf3BTmiP",
    "slideshow": {
     "slide_type": "fragment"
    }
   },
   "source": [
    "\n",
    "* É um método **iterativo**\n"
   ]
  },
  {
   "cell_type": "markdown",
   "metadata": {
    "cell_style": "center",
    "slideshow": {
     "slide_type": "slide"
    }
   },
   "source": [
    "<img src = \"imagens/intervalar_vs_aberto.png\" width = 50% style = \"display:block;margin-left:auto;margin-right:auto;\" />"
   ]
  },
  {
   "cell_type": "markdown",
   "metadata": {
    "cell_style": "split",
    "slideshow": {
     "slide_type": "slide"
    }
   },
   "source": [
    "##### O Algoritmo \n",
    "\n",
    "<img src = \"imagens/newton.png\" width = 90% style = \"display:block;margin-left:auto;margin-right:auto;\" />"
   ]
  },
  {
   "cell_type": "markdown",
   "metadata": {
    "cell_style": "split",
    "slideshow": {
     "slide_type": "-"
    }
   },
   "source": [
    "##### Equação de atualização\n",
    "\n",
    "$$f'(x_i) = \\frac{f(x_i) - 0}{x_i - x_{i+1}}$$\n",
    "\n",
    "$$x_{i+1} = x_i - \\frac{f(x_i)}{f'(x_i)}$$\n"
   ]
  },
  {
   "cell_type": "markdown",
   "metadata": {
    "colab_type": "text",
    "id": "WsxW_la5TmiV",
    "slideshow": {
     "slide_type": "slide"
    }
   },
   "source": [
    "# Critérios de parada\n",
    "\n",
    "* Número de iterações\n",
    "* Estimativa do erro de aproximação"
   ]
  },
  {
   "cell_type": "markdown",
   "metadata": {
    "colab_type": "text",
    "id": "SdFBBgliTmiW",
    "slideshow": {
     "slide_type": "slide"
    }
   },
   "source": [
    "### Erro de aproximação\n",
    "\n",
    "$$ | \\varepsilon_a | = \\left | \\frac{x^{novo}_r - x^{velho}_r }{x^{novo}_r} \\right| 100% $$\n"
   ]
  },
  {
   "cell_type": "markdown",
   "metadata": {
    "slideshow": {
     "slide_type": "slide"
    }
   },
   "source": [
    "### Sempre melhor?"
   ]
  },
  {
   "cell_type": "markdown",
   "metadata": {
    "slideshow": {
     "slide_type": "slide"
    }
   },
   "source": [
    "\n",
    "<img src = \"imagens/newton_convergencia.png\" width = 30% style = \"display:block;margin-left:auto;margin-right:auto;\"/>"
   ]
  },
  {
   "cell_type": "markdown",
   "metadata": {
    "slideshow": {
     "slide_type": "slide"
    }
   },
   "source": [
    "# Exemplo 1\n",
    "\n",
    " Encontrar a raiz da função $f(x) = x^3 - 20$ utilizando $x_0 = 1$"
   ]
  },
  {
   "cell_type": "markdown",
   "metadata": {
    "slideshow": {
     "slide_type": "slide"
    }
   },
   "source": [
    "### Importar as bibliotecas"
   ]
  },
  {
   "cell_type": "code",
   "execution_count": 1,
   "metadata": {},
   "outputs": [],
   "source": [
    "import numpy as np\n",
    "import matplotlib.pyplot as plt"
   ]
  },
  {
   "cell_type": "markdown",
   "metadata": {
    "slideshow": {
     "slide_type": "slide"
    }
   },
   "source": [
    "### Definir a função $f(x) = x^3 - 20$"
   ]
  },
  {
   "cell_type": "code",
   "execution_count": 4,
   "metadata": {},
   "outputs": [],
   "source": [
    "def f(x):\n",
    "    return x ** 3 - 20"
   ]
  },
  {
   "cell_type": "code",
   "execution_count": 5,
   "metadata": {},
   "outputs": [
    {
     "data": {
      "text/plain": [
       "-19"
      ]
     },
     "execution_count": 5,
     "metadata": {},
     "output_type": "execute_result"
    }
   ],
   "source": [
    "f(1)"
   ]
  },
  {
   "cell_type": "markdown",
   "metadata": {
    "slideshow": {
     "slide_type": "slide"
    }
   },
   "source": [
    "### Definir a derivada da função $f(x) = x^3 - 20$"
   ]
  },
  {
   "cell_type": "code",
   "execution_count": 6,
   "metadata": {},
   "outputs": [],
   "source": [
    "def derivada_f(x):\n",
    "    return 3 * x ** 2"
   ]
  },
  {
   "cell_type": "markdown",
   "metadata": {
    "slideshow": {
     "slide_type": "slide"
    }
   },
   "source": [
    "### Traçar o gráfico da função"
   ]
  },
  {
   "cell_type": "code",
   "execution_count": 7,
   "metadata": {},
   "outputs": [
    {
     "data": {
      "image/png": "[encoded data removed]",
      "text/plain": [
       "<Figure size 432x288 with 1 Axes>"
      ]
     },
     "metadata": {
      "needs_background": "light"
     },
     "output_type": "display_data"
    }
   ],
   "source": [
    "x = np.arange(0,5,0.01)\n",
    "y = f(x)\n",
    "plt.plot(x,y)\n",
    "plt.grid(True)"
   ]
  },
  {
   "cell_type": "markdown",
   "metadata": {
    "colab_type": "text",
    "id": "QsTuwf_QTmiX",
    "slideshow": {
     "slide_type": "slide"
    }
   },
   "source": [
    "#### Implementar a função newton"
   ]
  },
  {
   "cell_type": "code",
   "execution_count": 8,
   "metadata": {
    "colab": {},
    "colab_type": "code",
    "id": "QRprypsmTmiZ",
    "slideshow": {
     "slide_type": "slide"
    }
   },
   "outputs": [],
   "source": [
    "def newton(funcao,derivada, x0,tol,max_it):\n",
    "    raizes = [x0]\n",
    "    erros = []\n",
    "    for i in range(max_it):\n",
    "        x_novo = raizes[-1] - funcao(raizes[-1]) / derivada(raizes[-1])\n",
    "        raizes.append(x_novo)\n",
    "        erro = np.abs((raizes[-1] - raizes[-2]) / raizes[-1]) * 100\n",
    "        erros.append(erro)\n",
    "        if erro < tol:\n",
    "            return raizes,erros\n",
    "    return raizes,erros"
   ]
  },
  {
   "cell_type": "markdown",
   "metadata": {
    "slideshow": {
     "slide_type": "slide"
    }
   },
   "source": [
    "### Utilizado a função newton"
   ]
  },
  {
   "cell_type": "code",
   "execution_count": 10,
   "metadata": {},
   "outputs": [
    {
     "data": {
      "text/plain": [
       "3.552713678800501e-15"
      ]
     },
     "execution_count": 10,
     "metadata": {},
     "output_type": "execute_result"
    }
   ],
   "source": [
    "raizes,erros = newton(f,derivada_f,1,0.0001,100)\n",
    "x_raiz = raizes[-1]\n",
    "f(x_raiz)"
   ]
  },
  {
   "cell_type": "code",
   "execution_count": 11,
   "metadata": {},
   "outputs": [
    {
     "data": {
      "text/plain": [
       "9"
      ]
     },
     "execution_count": 11,
     "metadata": {},
     "output_type": "execute_result"
    }
   ],
   "source": [
    "len(raizes)"
   ]
  },
  {
   "cell_type": "markdown",
   "metadata": {
    "slideshow": {
     "slide_type": "slide"
    }
   },
   "source": [
    "### Mostrando a evolução do erro de aproximação"
   ]
  },
  {
   "cell_type": "code",
   "execution_count": 12,
   "metadata": {},
   "outputs": [
    {
     "data": {
      "image/png": "[encoded data removed]",
      "text/plain": [
       "<Figure size 432x288 with 1 Axes>"
      ]
     },
     "metadata": {
      "needs_background": "light"
     },
     "output_type": "display_data"
    }
   ],
   "source": [
    "plt.plot(erros)\n",
    "plt.grid(True)"
   ]
  },
  {
   "cell_type": "markdown",
   "metadata": {
    "colab_type": "text",
    "id": "IhfKwaQJTmid",
    "slideshow": {
     "slide_type": "slide"
    }
   },
   "source": [
    "# Now, go code!"
   ]
  }
 ],
 "metadata": {
  "celltoolbar": "Slideshow",
  "colab": {
   "include_colab_link": true,
   "name": "raizes_introducao.ipynb",
   "provenance": []
  },
  "kernelspec": {
   "display_name": "Python 3",
   "language": "python",
   "name": "python3"
  },
  "language_info": {
   "codemirror_mode": {
    "name": "ipython",
    "version": 3
   },
   "file_extension": ".py",
   "mimetype": "text/x-python",
   "name": "python",
   "nbconvert_exporter": "python",
   "pygments_lexer": "ipython3",
   "version": "3.7.4"
  },
  "rise": {
   "enable_chalkboard": true
  }
 },
 "nbformat": 4,
 "nbformat_minor": 1
}
