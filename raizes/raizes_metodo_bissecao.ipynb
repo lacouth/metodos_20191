{
 "cells": [
  {
   "cell_type": "markdown",
   "metadata": {
    "colab_type": "text",
    "id": "view-in-github"
   },
   "source": [
    "<a href=\"https://colab.research.google.com/github/lacouth/metodos_numericos/blob/master/raizes/raizes_introducao.ipynb\" target=\"_parent\"><img src=\"https://colab.research.google.com/assets/colab-badge.svg\" alt=\"Open In Colab\"/></a>"
   ]
  },
  {
   "cell_type": "markdown",
   "metadata": {
    "colab_type": "text",
    "id": "VgbyyIidTmhT",
    "slideshow": {
     "slide_type": "slide"
    }
   },
   "source": [
    "# Métodos Numéricos\n",
    "\n",
    "## Raízes: Método da Bisseção\n",
    "\n",
    "### Patric Lacouth"
   ]
  },
  {
   "cell_type": "markdown",
   "metadata": {
    "colab_type": "text",
    "id": "e5VyVf3BTmiP",
    "slideshow": {
     "slide_type": "slide"
    }
   },
   "source": [
    "# Método da Bisseção\n",
    "\n",
    "* É um método intervalar\n",
    "$$ f(x_i)f(x_f) < 0 $$"
   ]
  },
  {
   "cell_type": "markdown",
   "metadata": {
    "colab_type": "text",
    "id": "e5VyVf3BTmiP",
    "slideshow": {
     "slide_type": "fragment"
    }
   },
   "source": [
    "\n",
    "* É um método **iterativo**\n"
   ]
  },
  {
   "cell_type": "markdown",
   "metadata": {
    "slideshow": {
     "slide_type": "slide"
    }
   },
   "source": [
    "### O Algoritmo \n",
    "\n",
    "<img src = \"imagens/bissecao.png\" width = 50% style = \"display:block;margin-left:auto;margin-right:auto;\" />"
   ]
  },
  {
   "cell_type": "markdown",
   "metadata": {
    "slideshow": {
     "slide_type": "slide"
    }
   },
   "source": [
    "### Equação de atualização\n",
    "\n",
    "$$x_r = \\frac{x_l + x_u}{2}$$\n",
    "\n",
    "<img src=\"imagens/bissecao.png\" width = 25% style = \"display:block;margin-left:auto;margin-right:auto;\"/>"
   ]
  },
  {
   "cell_type": "markdown",
   "metadata": {
    "colab_type": "text",
    "id": "WsxW_la5TmiV",
    "slideshow": {
     "slide_type": "slide"
    }
   },
   "source": [
    "# Critérios de parada\n",
    "\n",
    "* Número de iterações\n",
    "* Estimativa do erro de aproximação"
   ]
  },
  {
   "cell_type": "markdown",
   "metadata": {
    "colab_type": "text",
    "id": "SdFBBgliTmiW",
    "slideshow": {
     "slide_type": "slide"
    }
   },
   "source": [
    "### Erro de aproximação\n",
    "\n",
    "$$ | \\varepsilon_a | = \\left | \\frac{x^{novo}_r - x^{velho}_r }{x^{novo}_r} \\right| 100% $$\n",
    "\n",
    "<img src=\"imagens/bissecao.png\" width = 25% style = \"display:block;margin-left:auto;margin-right:auto;\"/>\n"
   ]
  },
  {
   "cell_type": "markdown",
   "metadata": {
    "slideshow": {
     "slide_type": "slide"
    }
   },
   "source": [
    "### Erro de aproximação (convenção)\n",
    "\n",
    "* $|\\varepsilon_a|$ < 5% - 1 dígito significativo\n",
    "* $|\\varepsilon_a|$ < 0,5% - 2 dígitos significativos\n",
    "* $|\\varepsilon_a|$ < 0,05% - 3 dígitos significativos"
   ]
  },
  {
   "cell_type": "markdown",
   "metadata": {
    "slideshow": {
     "slide_type": "slide"
    }
   },
   "source": [
    "# Exemplo 1\n",
    "\n",
    " Encontrar a raiz da função $f(x) = x^3 - 20$ no intervalo $1 \\leq x \\leq 4$"
   ]
  },
  {
   "cell_type": "markdown",
   "metadata": {
    "slideshow": {
     "slide_type": "slide"
    }
   },
   "source": [
    "### Importar as bibliotecas"
   ]
  },
  {
   "cell_type": "code",
   "execution_count": 1,
   "metadata": {},
   "outputs": [],
   "source": [
    "import numpy as np\n",
    "import matplotlib.pyplot as plt"
   ]
  },
  {
   "cell_type": "markdown",
   "metadata": {
    "slideshow": {
     "slide_type": "slide"
    }
   },
   "source": [
    "### Definir a função $f(x) = x^3 - 20$"
   ]
  },
  {
   "cell_type": "code",
   "execution_count": 2,
   "metadata": {},
   "outputs": [],
   "source": [
    "def f(x):\n",
    "    return x**3 - 20"
   ]
  },
  {
   "cell_type": "code",
   "execution_count": 3,
   "metadata": {},
   "outputs": [
    {
     "data": {
      "text/plain": [
       "-19"
      ]
     },
     "execution_count": 3,
     "metadata": {},
     "output_type": "execute_result"
    }
   ],
   "source": [
    "f(1)"
   ]
  },
  {
   "cell_type": "markdown",
   "metadata": {
    "slideshow": {
     "slide_type": "slide"
    }
   },
   "source": [
    "### Traçar o gráfico da função"
   ]
  },
  {
   "cell_type": "code",
   "execution_count": 4,
   "metadata": {},
   "outputs": [
    {
     "data": {
      "image/png": "[encoded data removed]",
      "text/plain": [
       "<Figure size 432x288 with 1 Axes>"
      ]
     },
     "metadata": {
      "needs_background": "light"
     },
     "output_type": "display_data"
    }
   ],
   "source": [
    "x = np.arange(0,5,0.01)\n",
    "fx = f(x)\n",
    "plt.plot(x,fx)\n",
    "plt.grid(True)"
   ]
  },
  {
   "cell_type": "markdown",
   "metadata": {
    "colab_type": "text",
    "id": "QsTuwf_QTmiX",
    "slideshow": {
     "slide_type": "slide"
    }
   },
   "source": [
    "#### Implementar a função da bisseção"
   ]
  },
  {
   "cell_type": "code",
   "execution_count": 11,
   "metadata": {
    "colab": {},
    "colab_type": "code",
    "id": "QRprypsmTmiZ",
    "slideshow": {
     "slide_type": "slide"
    }
   },
   "outputs": [],
   "source": [
    "def bissecao(funcao,xmin,xmax,tol,max_it):\n",
    "    if funcao(xmin) * funcao(xmax) > 0:\n",
    "        print(\"Não há garantias de raiz dentro do intervalo\")\n",
    "    raizes = []\n",
    "    erros = []\n",
    "    for i in range(max_it):\n",
    "        xr = (xmin + xmax) / 2\n",
    "        raizes.append(xr)\n",
    "        if funcao(xmin) * funcao(xr) < 0:\n",
    "            xmax = xr\n",
    "        else:\n",
    "            xmin = xr\n",
    "        if i > 0:\n",
    "            erro = np.abs((raizes[-1] - raizes[-2]) / raizes[-1]) * 100\n",
    "            erros.append(erro)\n",
    "            if erro < tol:\n",
    "                return raizes,erros\n",
    "    return raizes,erros"
   ]
  },
  {
   "cell_type": "markdown",
   "metadata": {
    "slideshow": {
     "slide_type": "slide"
    }
   },
   "source": [
    "### Utilizado a função bisseção"
   ]
  },
  {
   "cell_type": "code",
   "execution_count": 12,
   "metadata": {},
   "outputs": [
    {
     "data": {
      "text/plain": [
       "7.025216458345085e-06"
      ]
     },
     "execution_count": 12,
     "metadata": {},
     "output_type": "execute_result"
    }
   ],
   "source": [
    "raizes, erros = bissecao(f,1,4,0.0001,100)\n",
    "x_raiz = raizes[-1]\n",
    "f(x_raiz)"
   ]
  },
  {
   "cell_type": "code",
   "execution_count": 13,
   "metadata": {},
   "outputs": [
    {
     "data": {
      "text/plain": [
       "21"
      ]
     },
     "execution_count": 13,
     "metadata": {},
     "output_type": "execute_result"
    }
   ],
   "source": [
    "len(raizes)"
   ]
  },
  {
   "cell_type": "markdown",
   "metadata": {
    "slideshow": {
     "slide_type": "slide"
    }
   },
   "source": [
    "### Mostrando a evolução do erro de aproximação"
   ]
  },
  {
   "cell_type": "code",
   "execution_count": 14,
   "metadata": {},
   "outputs": [
    {
     "data": {
      "image/png": "[encoded data removed]",
      "text/plain": [
       "<Figure size 432x288 with 1 Axes>"
      ]
     },
     "metadata": {
      "needs_background": "light"
     },
     "output_type": "display_data"
    }
   ],
   "source": [
    "plt.plot(erros)\n",
    "plt.grid(True)"
   ]
  },
  {
   "cell_type": "markdown",
   "metadata": {
    "colab_type": "text",
    "id": "IhfKwaQJTmid",
    "slideshow": {
     "slide_type": "slide"
    }
   },
   "source": [
    "# Now go code!"
   ]
  }
 ],
 "metadata": {
  "celltoolbar": "Slideshow",
  "colab": {
   "include_colab_link": true,
   "name": "raizes_introducao.ipynb",
   "provenance": []
  },
  "kernelspec": {
   "display_name": "Python 3",
   "language": "python",
   "name": "python3"
  },
  "language_info": {
   "codemirror_mode": {
    "name": "ipython",
    "version": 3
   },
   "file_extension": ".py",
   "mimetype": "text/x-python",
   "name": "python",
   "nbconvert_exporter": "python",
   "pygments_lexer": "ipython3",
   "version": "3.7.4"
  },
  "rise": {
   "enable_chalkboard": true
  }
 },
 "nbformat": 4,
 "nbformat_minor": 1
}
