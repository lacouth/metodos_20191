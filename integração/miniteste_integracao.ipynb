{
 "cells": [
  {
   "cell_type": "markdown",
   "metadata": {},
   "source": [
    "# Mini teste Integração\n",
    "\n",
    "1. Resolva a seguinte integral:\n",
    "\n",
    "$$\\int_{-2}^4 (1-x-4x^3+2x^5) dx$$\n",
    "\n",
    "    1.1. Analiticamente\n",
    "    1.2. Aplicação simples da regra do trapézio\n",
    "    1.3. Aplicação da regra composta do trapézio com n=2 até n=8\n",
    "    1.4. Aplicação simples da regra de 1/3 de Simpson\n",
    "    1.5. Aplicação da regra composta de de Simpson de n=2 até n=8\n",
    "\n",
    "Para todos os itens o erro relativo percentual baseado em 1.1"
   ]
  },
  {
   "cell_type": "code",
   "execution_count": null,
   "metadata": {},
   "outputs": [],
   "source": []
  }
 ],
 "metadata": {
  "kernelspec": {
   "display_name": "Python 3",
   "language": "python",
   "name": "python3"
  },
  "language_info": {
   "codemirror_mode": {
    "name": "ipython",
    "version": 3
   },
   "file_extension": ".py",
   "mimetype": "text/x-python",
   "name": "python",
   "nbconvert_exporter": "python",
   "pygments_lexer": "ipython3",
   "version": "3.7.4"
  }
 },
 "nbformat": 4,
 "nbformat_minor": 2
}
