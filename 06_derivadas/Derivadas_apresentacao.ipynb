{
 "cells": [
  {
   "cell_type": "code",
   "execution_count": null,
   "metadata": {
    "slideshow": {
     "slide_type": "skip"
    }
   },
   "outputs": [],
   "source": [
    "import numpy as np\n",
    "import matplotlib.pyplot as plt\n",
    "%matplotlib inline\n",
    "plt.rcParams[\"figure.figsize\"] = (15,10) #configurando tamanho e fonte dos gráficos\n",
    "plt.rcParams.update({'font.size': 22})"
   ]
  },
  {
   "cell_type": "markdown",
   "metadata": {
    "slideshow": {
     "slide_type": "slide"
    }
   },
   "source": [
    "# Diferenciação Numérica\n",
    "## Patric Lacouth"
   ]
  },
  {
   "cell_type": "markdown",
   "metadata": {
    "slideshow": {
     "slide_type": "slide"
    }
   },
   "source": [
    "# Derivada\n",
    "A derivada de uma função $f(x)$ em $x = a$ é o limite\n",
    "\n",
    "$$ f'(a) = \\lim_{h \\to 0} \\frac{f(a+h) - f(a)}{h}$$\n",
    "\n"
   ]
  },
  {
   "cell_type": "markdown",
   "metadata": {
    "slideshow": {
     "slide_type": "slide"
    }
   },
   "source": [
    "# Diferenças divididas\n",
    "Existem 3 fórmulas principais para aproximar numericamente uma derivada.\n",
    "\n",
    "A fórmula da diferença _progressiva_ :\n",
    "\n",
    "$$ f'(a) \\approx \\frac{f(a + h) - f(a)}{h} $$"
   ]
  },
  {
   "cell_type": "markdown",
   "metadata": {
    "slideshow": {
     "slide_type": "slide"
    }
   },
   "source": [
    "A fórmula da diferença _regressiva_ :\n",
    "\n",
    "$$ f'(a) \\approx \\frac{f(a) - f(a - h)}{h} $$"
   ]
  },
  {
   "cell_type": "markdown",
   "metadata": {
    "slideshow": {
     "slide_type": "slide"
    }
   },
   "source": [
    "A fórmula da diferença central, que é a média das diferenças progressiva e regressiva:\n",
    "\n",
    "$$f'(a) \\approx \\frac{1}{2} \\left( \\frac{f(a+h) - f(a)}{h} + \\frac{f(a) - f(a - h)}{h} \\right) = \\frac{f(a+h) - f(a-h)}{2h} $$"
   ]
  },
  {
   "cell_type": "markdown",
   "metadata": {
    "slideshow": {
     "slide_type": "slide"
    }
   },
   "source": [
    "# Implementando em python\n",
    "importando as bibliotecas"
   ]
  },
  {
   "cell_type": "code",
   "execution_count": 1,
   "metadata": {},
   "outputs": [],
   "source": [
    "import numpy as np\n",
    "import matplotlib.pyplot as plt"
   ]
  },
  {
   "cell_type": "markdown",
   "metadata": {
    "slideshow": {
     "slide_type": "slide"
    }
   },
   "source": [
    "# criando uma função"
   ]
  },
  {
   "cell_type": "code",
   "execution_count": 2,
   "metadata": {},
   "outputs": [],
   "source": [
    "def derivada(f,a,h,metodo = 'central'):\n",
    "    if metodo == 'progressiva':\n",
    "        return (f(a+h) - f(a)) / h\n",
    "    elif metodo == 'regressiva':\n",
    "        return (f(a) - f(a - h)) / h\n",
    "    elif metodo == 'central':\n",
    "        return (f(a+h) - f(a-h)) / (2*h)"
   ]
  },
  {
   "cell_type": "markdown",
   "metadata": {
    "slideshow": {
     "slide_type": "slide"
    }
   },
   "source": [
    "# testando a função\n",
    "\n",
    "vamos testar com uma função conhecida. Por exemplo:\n",
    "\n",
    "$$ \\left. \\frac{d}{dx}(cos x) \\right|_{x = 0} = -sin(0) = 0 $$\n"
   ]
  },
  {
   "cell_type": "code",
   "execution_count": 8,
   "metadata": {},
   "outputs": [
    {
     "data": {
      "text/plain": [
       "0.0"
      ]
     },
     "execution_count": 8,
     "metadata": {},
     "output_type": "execute_result"
    }
   ],
   "source": [
    "derivada(np.cos,0,0.01,'central')"
   ]
  },
  {
   "cell_type": "markdown",
   "metadata": {
    "slideshow": {
     "slide_type": "slide"
    }
   },
   "source": [
    "# testando a função\n",
    "\n",
    "vamos testar com outra função conhecida. Por exemplo:\n",
    "\n",
    "$$ \\left. \\frac{d}{dx}(e^x) \\right|_{x = 0} = e^0 = 1 $$"
   ]
  },
  {
   "cell_type": "code",
   "execution_count": 12,
   "metadata": {},
   "outputs": [
    {
     "data": {
      "text/plain": [
       "1.000005000006965"
      ]
     },
     "execution_count": 12,
     "metadata": {},
     "output_type": "execute_result"
    }
   ],
   "source": [
    "derivada(np.exp,0,0.00001,'progressiva')"
   ]
  },
  {
   "cell_type": "markdown",
   "metadata": {
    "slideshow": {
     "slide_type": "slide"
    }
   },
   "source": [
    "# comparando com um gráfico\n",
    "\n",
    "Observe que a nossa função pode receber um vetor de valores e retornar a derivada para cada ponto "
   ]
  },
  {
   "cell_type": "code",
   "execution_count": 15,
   "metadata": {},
   "outputs": [
    {
     "data": {
      "image/png": "[encoded data removed]",
      "text/plain": [
       "<Figure size 432x288 with 1 Axes>"
      ]
     },
     "metadata": {
      "needs_background": "light"
     },
     "output_type": "display_data"
    }
   ],
   "source": [
    "x = np.linspace(0,5*np.pi,100)\n",
    "dydx = derivada(np.cos,x,0.1,'regressiva')\n",
    "\n",
    "DyDx = -np.sin(x)\n",
    "\n",
    "plt.scatter(x,dydx,c = 'red')\n",
    "plt.plot(x,DyDx)\n",
    "plt.grid(True)"
   ]
  },
  {
   "cell_type": "markdown",
   "metadata": {
    "slideshow": {
     "slide_type": "slide"
    }
   },
   "source": [
    "# now, go code!"
   ]
  }
 ],
 "metadata": {
  "celltoolbar": "Slideshow",
  "kernelspec": {
   "display_name": "Python 3",
   "language": "python",
   "name": "python3"
  },
  "language_info": {
   "codemirror_mode": {
    "name": "ipython",
    "version": 3
   },
   "file_extension": ".py",
   "mimetype": "text/x-python",
   "name": "python",
   "nbconvert_exporter": "python",
   "pygments_lexer": "ipython3",
   "version": "3.9.1"
  }
 },
 "nbformat": 4,
 "nbformat_minor": 4
}
