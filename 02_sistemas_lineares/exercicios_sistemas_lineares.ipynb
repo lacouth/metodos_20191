{
 "cells": [
  {
   "cell_type": "markdown",
   "metadata": {
    "colab_type": "text",
    "id": "view-in-github"
   },
   "source": [
    "<a href=\"https://colab.research.google.com/github/lacouth/metodos_numericos/blob/master/sistemas_lineares/exercicios_sistemas_lineares.ipynb\" target=\"_parent\"><img src=\"https://colab.research.google.com/assets/colab-badge.svg\" alt=\"Open In Colab\"/></a>"
   ]
  },
  {
   "cell_type": "markdown",
   "metadata": {
    "colab_type": "text",
    "id": "RmEtHuIZ8EUd"
   },
   "source": [
    "# Sistemas Lineares - Exercícios"
   ]
  },
  {
   "cell_type": "code",
   "execution_count": 0,
   "metadata": {
    "colab": {},
    "colab_type": "code",
    "id": "DoH5eWb48EUg"
   },
   "outputs": [],
   "source": [
    "import numpy as np\n",
    "np.set_printoptions(formatter={'float': lambda x: \"{:.4f}\".format(x)}) # configura a impressão dos floats"
   ]
  },
  {
   "cell_type": "markdown",
   "metadata": {
    "colab_type": "text",
    "id": "TtN-vS9H8EUj"
   },
   "source": [
    "## Dicas Numpy\n",
    "\n",
    "### Criar um matriz"
   ]
  },
  {
   "cell_type": "code",
   "execution_count": 0,
   "metadata": {
    "colab": {},
    "colab_type": "code",
    "id": "b7d2qvph8EUk",
    "outputId": "cf7d08be-8b69-4214-848d-998bf33ae9bc"
   },
   "outputs": [
    {
     "data": {
      "text/plain": [
       "array([[1.0000, 2.0000, 3.0000, 4.0000],\n",
       "       [5.0000, 6.0000, 7.0000, 8.0000],\n",
       "       [9.0000, 10.0000, 11.0000, 12.0000],\n",
       "       [13.0000, 14.0000, 15.0000, 16.0000]])"
      ]
     },
     "execution_count": 2,
     "metadata": {
      "tags": []
     },
     "output_type": "execute_result"
    }
   ],
   "source": [
    "M = np.array([[1,2,3,4],[5,6,7,8],[9,10,11,12],[13,14,15,16]], dtype=float)\n",
    "M"
   ]
  },
  {
   "cell_type": "markdown",
   "metadata": {
    "colab_type": "text",
    "id": "AzOerPCM8EUo"
   },
   "source": [
    "### Selecionar apenas uma linha"
   ]
  },
  {
   "cell_type": "code",
   "execution_count": 0,
   "metadata": {
    "colab": {},
    "colab_type": "code",
    "id": "5d2ozLLN8EUp",
    "outputId": "93762974-fe2f-4cb6-a019-e8e6998633ac"
   },
   "outputs": [
    {
     "data": {
      "text/plain": [
       "array([5.0000, 6.0000, 7.0000, 8.0000])"
      ]
     },
     "execution_count": 3,
     "metadata": {
      "tags": []
     },
     "output_type": "execute_result"
    }
   ],
   "source": [
    "M[1]"
   ]
  },
  {
   "cell_type": "markdown",
   "metadata": {
    "colab_type": "text",
    "id": "x8Jth2x58EUr"
   },
   "source": [
    "### Selecionar apenas uma coluna"
   ]
  },
  {
   "cell_type": "code",
   "execution_count": 0,
   "metadata": {
    "colab": {},
    "colab_type": "code",
    "id": "4sWnWIVP8EUs",
    "outputId": "b398f316-b0c4-4562-c947-be299c8948fa"
   },
   "outputs": [
    {
     "data": {
      "text/plain": [
       "array([2.0000, 6.0000, 10.0000, 14.0000])"
      ]
     },
     "execution_count": 4,
     "metadata": {
      "tags": []
     },
     "output_type": "execute_result"
    }
   ],
   "source": [
    "M[:,1]"
   ]
  },
  {
   "cell_type": "markdown",
   "metadata": {
    "colab_type": "text",
    "id": "MnG_wJJq8EUu"
   },
   "source": [
    "### Selecionar a última linha ou coluna"
   ]
  },
  {
   "cell_type": "code",
   "execution_count": 0,
   "metadata": {
    "colab": {},
    "colab_type": "code",
    "id": "BdMu0kTZ8EUu",
    "outputId": "a327e8ae-2a8e-47dd-bd26-8d5ea61b550a"
   },
   "outputs": [
    {
     "data": {
      "text/plain": [
       "array([13.0000, 14.0000, 15.0000, 16.0000])"
      ]
     },
     "execution_count": 5,
     "metadata": {
      "tags": []
     },
     "output_type": "execute_result"
    }
   ],
   "source": [
    "M[-1]"
   ]
  },
  {
   "cell_type": "code",
   "execution_count": 0,
   "metadata": {
    "colab": {},
    "colab_type": "code",
    "id": "g0J1dS2K8EUw",
    "outputId": "b955defb-d575-49f4-a7b7-3a7a1bef9cfe"
   },
   "outputs": [
    {
     "data": {
      "text/plain": [
       "array([4.0000, 8.0000, 12.0000, 16.0000])"
      ]
     },
     "execution_count": 6,
     "metadata": {
      "tags": []
     },
     "output_type": "execute_result"
    }
   ],
   "source": [
    "M[:,-1]"
   ]
  },
  {
   "cell_type": "markdown",
   "metadata": {
    "colab_type": "text",
    "id": "LcSlDdHN8EUy"
   },
   "source": [
    "### Selecionar um trecho de uma linha ou coluna"
   ]
  },
  {
   "cell_type": "code",
   "execution_count": 0,
   "metadata": {
    "colab": {},
    "colab_type": "code",
    "id": "A3tH4-Ew8EUz",
    "outputId": "e2086bca-659a-4f7b-966c-ad2ecf44f944"
   },
   "outputs": [
    {
     "data": {
      "text/plain": [
       "array([[1.0000, 2.0000, 3.0000, 4.0000],\n",
       "       [5.0000, 6.0000, 7.0000, 8.0000],\n",
       "       [9.0000, 10.0000, 11.0000, 12.0000],\n",
       "       [13.0000, 14.0000, 15.0000, 16.0000]])"
      ]
     },
     "execution_count": 7,
     "metadata": {
      "tags": []
     },
     "output_type": "execute_result"
    }
   ],
   "source": [
    "M"
   ]
  },
  {
   "cell_type": "code",
   "execution_count": 0,
   "metadata": {
    "colab": {},
    "colab_type": "code",
    "id": "rQVGq9MI8EU1",
    "outputId": "bed752f4-e977-4404-d1a4-ac856222605b"
   },
   "outputs": [
    {
     "data": {
      "text/plain": [
       "array([6.0000, 7.0000])"
      ]
     },
     "execution_count": 8,
     "metadata": {
      "tags": []
     },
     "output_type": "execute_result"
    }
   ],
   "source": [
    "M[1,1:3]"
   ]
  },
  {
   "cell_type": "code",
   "execution_count": 0,
   "metadata": {
    "colab": {},
    "colab_type": "code",
    "id": "MRvh8pVp8EU3",
    "outputId": "52ab848c-9dcf-4fec-95e2-4095912ab0c0"
   },
   "outputs": [
    {
     "data": {
      "text/plain": [
       "array([6.0000, 10.0000])"
      ]
     },
     "execution_count": 9,
     "metadata": {
      "tags": []
     },
     "output_type": "execute_result"
    }
   ],
   "source": [
    "M[1:3,1]"
   ]
  },
  {
   "cell_type": "markdown",
   "metadata": {
    "colab_type": "text",
    "id": "1Vj6ODBL8EU5"
   },
   "source": [
    "### Multiplicar uma linha por uma constante"
   ]
  },
  {
   "cell_type": "code",
   "execution_count": 0,
   "metadata": {
    "colab": {},
    "colab_type": "code",
    "id": "9P0DkV2b8EU5",
    "outputId": "fd7bceb7-8a23-4449-c6b8-ad5d580fe223"
   },
   "outputs": [
    {
     "data": {
      "text/plain": [
       "array([[1.0000, 2.0000, 3.0000, 4.0000],\n",
       "       [5.0000, 6.0000, 7.0000, 8.0000],\n",
       "       [9.0000, 10.0000, 11.0000, 12.0000],\n",
       "       [13.0000, 14.0000, 15.0000, 16.0000]])"
      ]
     },
     "execution_count": 10,
     "metadata": {
      "tags": []
     },
     "output_type": "execute_result"
    }
   ],
   "source": [
    "M"
   ]
  },
  {
   "cell_type": "code",
   "execution_count": 0,
   "metadata": {
    "colab": {},
    "colab_type": "code",
    "id": "TqMkXiel8EU7",
    "outputId": "f218bf48-4e7f-43e4-8765-1140252d2b21"
   },
   "outputs": [
    {
     "data": {
      "text/plain": [
       "array([2.0000, 4.0000, 6.0000, 8.0000])"
      ]
     },
     "execution_count": 11,
     "metadata": {
      "tags": []
     },
     "output_type": "execute_result"
    }
   ],
   "source": [
    "l = M[0]*2\n",
    "l"
   ]
  },
  {
   "cell_type": "markdown",
   "metadata": {},
   "source": [
    "### Multiplicar uma coluna por uma constante"
   ]
  },
  {
   "cell_type": "code",
   "execution_count": 0,
   "metadata": {
    "colab": {},
    "colab_type": "code",
    "id": "aVoMRCTU8EU-",
    "outputId": "caaf3cdc-5267-4c74-860c-ddfcbf0d19a7"
   },
   "outputs": [
    {
     "data": {
      "text/plain": [
       "array([2.0000, 10.0000, 18.0000, 26.0000])"
      ]
     },
     "execution_count": 12,
     "metadata": {
      "tags": []
     },
     "output_type": "execute_result"
    }
   ],
   "source": [
    "c = M[:,0]*2\n",
    "c"
   ]
  },
  {
   "cell_type": "markdown",
   "metadata": {
    "colab_type": "text",
    "id": "hEh6tzKT8EVA"
   },
   "source": [
    "### Subtrair um linha pela outra"
   ]
  },
  {
   "cell_type": "code",
   "execution_count": 0,
   "metadata": {
    "colab": {},
    "colab_type": "code",
    "id": "uG9saM5D8EVA",
    "outputId": "9b385a02-2e95-4482-d7be-6e42d6ab316d"
   },
   "outputs": [
    {
     "data": {
      "text/plain": [
       "array([[1.0000, 2.0000, 3.0000, 4.0000],\n",
       "       [5.0000, 6.0000, 7.0000, 8.0000],\n",
       "       [9.0000, 10.0000, 11.0000, 12.0000],\n",
       "       [13.0000, 14.0000, 15.0000, 16.0000]])"
      ]
     },
     "execution_count": 13,
     "metadata": {
      "tags": []
     },
     "output_type": "execute_result"
    }
   ],
   "source": [
    "M"
   ]
  },
  {
   "cell_type": "code",
   "execution_count": 0,
   "metadata": {
    "colab": {},
    "colab_type": "code",
    "id": "eWCudM8j8EVC",
    "outputId": "41abbc84-e3f2-40d2-ea9e-ff045eee51d4"
   },
   "outputs": [
    {
     "data": {
      "text/plain": [
       "array([4.0000, 4.0000, 4.0000, 4.0000])"
      ]
     },
     "execution_count": 14,
     "metadata": {
      "tags": []
     },
     "output_type": "execute_result"
    }
   ],
   "source": [
    "linha = M[2]-M[1]\n",
    "linha"
   ]
  },
  {
   "cell_type": "markdown",
   "metadata": {},
   "source": [
    "### Subtrair uma coluna pela outra"
   ]
  },
  {
   "cell_type": "code",
   "execution_count": 0,
   "metadata": {
    "colab": {},
    "colab_type": "code",
    "id": "I0cPbdkf8EVE",
    "outputId": "5a64143e-74f4-492e-b490-2c408154cb70"
   },
   "outputs": [
    {
     "data": {
      "text/plain": [
       "array([1.0000, 1.0000, 1.0000, 1.0000])"
      ]
     },
     "execution_count": 15,
     "metadata": {
      "tags": []
     },
     "output_type": "execute_result"
    }
   ],
   "source": [
    "coluna = M[:,2]-M[:,1]\n",
    "coluna"
   ]
  },
  {
   "cell_type": "markdown",
   "metadata": {
    "colab_type": "text",
    "id": "M6YwtTFL8EVG"
   },
   "source": [
    "### Encontrar o maior valor em uma linha/coluna"
   ]
  },
  {
   "cell_type": "code",
   "execution_count": 0,
   "metadata": {
    "colab": {},
    "colab_type": "code",
    "id": "mSfFx0ye8EVG",
    "outputId": "82d5f1c2-e189-41ce-944d-e803518e6975"
   },
   "outputs": [
    {
     "data": {
      "text/plain": [
       "4.0"
      ]
     },
     "execution_count": 16,
     "metadata": {
      "tags": []
     },
     "output_type": "execute_result"
    }
   ],
   "source": [
    "np.max(M[0])"
   ]
  },
  {
   "cell_type": "code",
   "execution_count": 0,
   "metadata": {
    "colab": {},
    "colab_type": "code",
    "id": "rtOvQVx68EVI",
    "outputId": "ae3a381f-b69e-478f-a2da-e256760d0363"
   },
   "outputs": [
    {
     "data": {
      "text/plain": [
       "13.0"
      ]
     },
     "execution_count": 17,
     "metadata": {
      "tags": []
     },
     "output_type": "execute_result"
    }
   ],
   "source": [
    "np.max(M[:,0])"
   ]
  },
  {
   "cell_type": "markdown",
   "metadata": {
    "colab_type": "text",
    "id": "aogFTm-18EVJ"
   },
   "source": [
    "### Encontrar o *índice* do maior elemento em uma linha"
   ]
  },
  {
   "cell_type": "code",
   "execution_count": 0,
   "metadata": {
    "colab": {},
    "colab_type": "code",
    "id": "7r7ncCES8EVK",
    "outputId": "37a49967-3901-4c3d-eb2f-272af873bd8e"
   },
   "outputs": [
    {
     "data": {
      "text/plain": [
       "array([[1.0000, 2.0000, 3.0000, 4.0000],\n",
       "       [5.0000, 6.0000, 7.0000, 8.0000],\n",
       "       [9.0000, 10.0000, 11.0000, 12.0000],\n",
       "       [13.0000, 14.0000, 15.0000, 16.0000]])"
      ]
     },
     "execution_count": 18,
     "metadata": {
      "tags": []
     },
     "output_type": "execute_result"
    }
   ],
   "source": [
    "M"
   ]
  },
  {
   "cell_type": "code",
   "execution_count": 0,
   "metadata": {
    "colab": {},
    "colab_type": "code",
    "id": "ocd_Xm_68EVO",
    "outputId": "5c57629d-95a3-4f23-e456-0ec54218a55e"
   },
   "outputs": [
    {
     "data": {
      "text/plain": [
       "3"
      ]
     },
     "execution_count": 19,
     "metadata": {
      "tags": []
     },
     "output_type": "execute_result"
    }
   ],
   "source": [
    "np.argmax(M[0])"
   ]
  },
  {
   "cell_type": "markdown",
   "metadata": {},
   "source": [
    "### Encontrar o *índice* do maior elemento em uma coluna"
   ]
  },
  {
   "cell_type": "code",
   "execution_count": 0,
   "metadata": {
    "colab": {},
    "colab_type": "code",
    "id": "tdTvLKJ08EVR",
    "outputId": "d86a2a3f-4158-428b-8fcf-ae21645a1178"
   },
   "outputs": [
    {
     "data": {
      "text/plain": [
       "3"
      ]
     },
     "execution_count": 20,
     "metadata": {
      "tags": []
     },
     "output_type": "execute_result"
    }
   ],
   "source": [
    "np.argmax(M[:,0])"
   ]
  },
  {
   "cell_type": "markdown",
   "metadata": {
    "colab_type": "text",
    "id": "TP7Bdxuv8EVS"
   },
   "source": [
    "## Exercício 1\n",
    "### Encontre a solução do seguinte sistema\n",
    "\n",
    "$$ 25x_1+5x_2+x_3 = 106.8$$\n",
    "$$ 64x_1+8x_2+x_3 = 177.2$$\n",
    "$$ 144x_1+12x_2+x_3 = 279.2$$\n",
    "\n",
    "utilizando o método de Gauss ingênuo"
   ]
  },
  {
   "cell_type": "code",
   "execution_count": 0,
   "metadata": {
    "colab": {},
    "colab_type": "code",
    "id": "uyrLBQt48EVT"
   },
   "outputs": [],
   "source": []
  },
  {
   "cell_type": "markdown",
   "metadata": {
    "colab_type": "text",
    "id": "5ItHchiS8EVU"
   },
   "source": [
    "## Exercício 2\n",
    "### Encontre a solução do seguinte sistema\n",
    "\n",
    "$$      2x_2+3x_3 = 8$$\n",
    "$$ 4x_1+6x_2+7x_3 = -3$$\n",
    "$$ 2x_1+3x_2+6x_3 = 5$$\n",
    "\n",
    "utilizando o método de Gauss ingênuo"
   ]
  },
  {
   "cell_type": "markdown",
   "metadata": {
    "colab_type": "text",
    "id": "Zg_vbfqR8EVV"
   },
   "source": [
    "## Exercício 3\n",
    "### Encontre a solução do seguinte sistema\n",
    "\n",
    "$$      2x_2+3x_3 = 8$$\n",
    "$$ 4x_1+6x_2+7x_3 = -3$$\n",
    "$$ 2x_1+3x_2+6x_3 = 5$$\n",
    "\n",
    "utilizando o método de Gauss com pivotação parcial"
   ]
  },
  {
   "cell_type": "code",
   "execution_count": 0,
   "metadata": {
    "colab": {},
    "colab_type": "code",
    "id": "jRSb2rml8EVV"
   },
   "outputs": [],
   "source": []
  },
  {
   "cell_type": "markdown",
   "metadata": {
    "colab_type": "text",
    "id": "l5zq1eQ48EVX"
   },
   "source": [
    "## Exercício 4\n",
    "Dado o sistema\n",
    "\n",
    "$$\\begin{bmatrix}\n",
    "10x_1-x_2-2x_3=6\\\\\n",
    "-x_1+11x_2-x_3+3x_4=25\\\\\n",
    "2x_1-x_2+10x_3-x_4=-11\\\\\n",
    "3x_2-x_3+8x_4 = 15\n",
    "\\end{bmatrix}$$\n",
    "\n",
    "a. Verifique se a convergência pode ser garantida através do método de Gauss-Seidel.\n",
    "\n",
    "b. Resolva o sistema utilizando Gauss-Seidel se  a convergência for garantida.\n",
    "\n",
    "c. Resolva pelo método de Gauss com pivotação\n",
    "\n",
    "comente sobre o resultado"
   ]
  },
  {
   "cell_type": "code",
   "execution_count": 0,
   "metadata": {
    "colab": {},
    "colab_type": "code",
    "id": "qAO70lof8EVX"
   },
   "outputs": [],
   "source": []
  },
  {
   "cell_type": "markdown",
   "metadata": {
    "colab_type": "text",
    "id": "CapSYfjQ8EVZ"
   },
   "source": [
    "## Exercício 5\n",
    "Resolva os sistemas utilizando um método direto e o método de Gauss-Seidel\n",
    "\n",
    "a. \n",
    "    $$8.7x_1 + 3x_2 + 9.3x_3 + 11x_4 = 16.4$$\n",
    "    $$24.5x_1 - 8.8x_2 + 11.5x_3 - 45.1x_4 = -49.7$$\n",
    "    $$52.3x_1 - 84x_2 - 23.5x_3 + 11.4x_4 = -80.8$$\n",
    "    $$21x_1 - 81x_2 - 13.2x_3 + 21.5x_4 = -106.3$$"
   ]
  },
  {
   "cell_type": "code",
   "execution_count": 0,
   "metadata": {
    "colab": {},
    "colab_type": "code",
    "id": "ryL3RZeG8EVZ"
   },
   "outputs": [],
   "source": []
  },
  {
   "cell_type": "markdown",
   "metadata": {
    "colab_type": "text",
    "id": "_Spikpre8EVa"
   },
   "source": [
    "b.\n",
    "\n",
    "$$3x_1 + 7x_2 + 13x_3 = 76$$\n",
    "$$12x_1 + 3x_2 - 5x_3 = 1$$\n",
    "$$x_1 + 5x_2 + 3x_3 = 28$$"
   ]
  },
  {
   "cell_type": "code",
   "execution_count": 0,
   "metadata": {
    "colab": {},
    "colab_type": "code",
    "id": "1tU6stms8EVb"
   },
   "outputs": [],
   "source": []
  },
  {
   "cell_type": "markdown",
   "metadata": {
    "colab_type": "text",
    "id": "myhhRE2x8EVc"
   },
   "source": [
    "c.\n",
    "    $$1x_2 + 3x_3 + 2x_4 + 4x_5 = 3$$\n",
    "    $$8x_1 - 2x_2 + 9x_3 - 1x_4 + 2x_5 = -5$$\n",
    "    $$5x_1 + x_2 + x_3 + 7x_4 + 2x_5 = 6$$\n",
    "    $$-2x_1 + 4x_2 + 5x_3 + 1x_4 = -1$$\n",
    "    $$7x_1 - 3x_2 + 2x_3 - 4x_4 + 1x_5 = -5$$\n"
   ]
  },
  {
   "cell_type": "code",
   "execution_count": 0,
   "metadata": {
    "colab": {},
    "colab_type": "code",
    "id": "V60HXhmA8EVd"
   },
   "outputs": [],
   "source": []
  },
  {
   "cell_type": "markdown",
   "metadata": {
    "colab_type": "text",
    "id": "CR-HIOdv8EVf"
   },
   "source": [
    "## Exercício 6\n",
    "\n",
    "Uma barra linear de metal de um metro de comprimento é mantida a 0 graus Celsius em um extremo e a 128 graus Celsius no outro. Desejamos determinar a temperatura da barra a cada 20cm . Denominando de T0 = 0 a temperatura de um extremo, de T5 = 128 a temperatura no outro extremo e de T1, T2, T3 e T4 a temperatura nos pontos interiores e sabendo que a temperatura em cada ponto interior é igual a média aritmética da temperatura de seus dois pontos vizinhos.\n",
    "\n",
    "    Determine através de um método de resolução de sistemas lineares os valores de T1, T2, T3 e T4"
   ]
  },
  {
   "cell_type": "code",
   "execution_count": 0,
   "metadata": {
    "colab": {},
    "colab_type": "code",
    "id": "hY5kq5sO8EVf"
   },
   "outputs": [],
   "source": []
  },
  {
   "cell_type": "markdown",
   "metadata": {
    "colab_type": "text",
    "id": "cHW_J4y-8EVh"
   },
   "source": [
    "## Exercício 7\n",
    "\n",
    "Calcule a inversa das matrizes abaixo utilizando dois métodos de resolução de sistemas lineares\n",
    "\n",
    "a.\n",
    "\n",
    "$$A = \\begin{bmatrix}\n",
    "    8 & 5 & 1 \\\\\n",
    "    3 & 7 & 4\\\\\n",
    "    2 & 3 & 9 \n",
    "\\end{bmatrix}$$"
   ]
  },
  {
   "cell_type": "code",
   "execution_count": 0,
   "metadata": {
    "colab": {},
    "colab_type": "code",
    "id": "IoSADFO-8EVh"
   },
   "outputs": [],
   "source": []
  },
  {
   "cell_type": "markdown",
   "metadata": {
    "colab_type": "text",
    "id": "a_NKbsuR8EVj"
   },
   "source": [
    "b.\n",
    "$$A = \\begin{bmatrix}\n",
    "        1 & 6 & 4 \\\\\n",
    "        2 & -3 & 1\\\\\n",
    "        5 & 5 & 8 \n",
    "\\end{bmatrix}$$"
   ]
  },
  {
   "cell_type": "markdown",
   "metadata": {
    "colab_type": "text",
    "id": "dn0qR2WY8EVk"
   },
   "source": [
    "## Exercício 8\n",
    "\n",
    "Calcular as tensões nos nós do circuito elétrico abaixo:\n",
    "\n",
    "![](https://github.com/lacouth/metodos_numericos/blob/master/sistemas_lineares/circuito.png?raw=1)\n",
    "\n",
    "## Modelagem matemática\n",
    "\n",
    "Pela lei de *Kirchhoff*, a soma das correntes que passam em cada nó do circuito é nula. Pela lei de *Ohm* a corrente elétrica que flui do nó *j* para o nó *k* de um circuito é \n",
    "\n",
    "$$I_{jk} = \\frac{V_j-V_k}{R_{jk}}$$\n",
    "\n",
    "sendo $V_j$ e $V_k$ as tensões nos nós $j$  e $k$, respectivamente, e $R_{jk}$ a resistência no arco _jk_. A corrente $I$ é expressa em ampères e a resistência $R$, em ohms. As duas leis combinadas permitem o cálculo da tensão em cada nó do circuito.\n",
    "\n",
    "No nó 1, pela lei de _Kirchoff_,\n",
    "\n",
    "$$I_{A1} + I_{21} + I_{31} + I_{41} = 0 $$\n",
    "\n",
    "Utilizando a lei de _Ohm_, \n",
    "\n",
    "$$ \\frac{0-V_1}{1} + \\frac{V_2-V_1}{1} + \\frac{V_3-V_1}{2} + \\frac{V_4-V_1}{2} = 0 $$\n",
    "\n",
    "simplificando:\n",
    "\n",
    "$$ -6V_1 + 2V_2 + V_3 + V_4 = 0$$\n",
    "\n",
    "\n",
    "Determinando as equações dos nós 2, 3 e 4, constrói-se um sistema de equações lineares. O vetor solução fornece a tensão em cada nó do circuito elétrico.\n",
    "\n",
    "Construa o resto do sistema e utilizando dois métodos de resolução numérica encontre as tensões em cada um dos nós."
   ]
  },
  {
   "cell_type": "code",
   "execution_count": 0,
   "metadata": {
    "colab": {},
    "colab_type": "code",
    "id": "4ims2b2L8EVk"
   },
   "outputs": [],
   "source": []
  }
 ],
 "metadata": {
  "colab": {
   "include_colab_link": true,
   "name": "exercicios_sistemas_lineares.ipynb",
   "provenance": []
  },
  "kernelspec": {
   "display_name": "Python 3",
   "language": "python",
   "name": "python3"
  },
  "language_info": {
   "codemirror_mode": {
    "name": "ipython",
    "version": 3
   },
   "file_extension": ".py",
   "mimetype": "text/x-python",
   "name": "python",
   "nbconvert_exporter": "python",
   "pygments_lexer": "ipython3",
   "version": "3.7.4"
  }
 },
 "nbformat": 4,
 "nbformat_minor": 1
}
