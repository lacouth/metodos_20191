{
  "nbformat": 4,
  "nbformat_minor": 0,
  "metadata": {
    "colab": {
      "name": "projeto_sistemas_lineares.ipynb",
      "provenance": [],
      "collapsed_sections": []
    },
    "kernelspec": {
      "name": "python3",
      "display_name": "Python 3"
    }
  },
  "cells": [
    {
      "cell_type": "markdown",
      "metadata": {
        "id": "QZigGJv5tPia"
      },
      "source": [
        "## PROJETO DE SISTEMAS LINEARES\n",
        "\n",
        "*Projeto desenvolvido pela aluna Ana Beatriz de Souza Nogueira para a disciplina de Métodos Numéricos referente ao conteúdo de resoluções de Sistemas Lineares.*\n",
        "\n",
        "# ***Dieta Alimentar Equilibrada***\n",
        "## *PROBLEMA*\n",
        "\n",
        "Uma jovem estudante de Engenharia Elétrica do IFPB está fazendo seus projetos e se sente muito cansada. Decide então pesquisar no Google (erradíssimo) uma dieta com quilocalorias, lipídeos e proteínas suficientes para as atividades acadêmicas, afinal, a graduação consome todas as energias existentes no seu corpo.\n",
        "\n",
        "A dieta diz que a estudante precisa consumir diariamente 2072Kcal (quilocalorias), 220g de proteínas e 19,3g de lipídeos. Dito isto, ela teve a brilhante ideia de fazer essa dieta a base dos alimentos preferidos dela: lasanha de frango, risoto de limão e temaki.\n",
        "\n",
        "Na tabela abaixo contém a quantidade das substâncias encontradas em cada alimento.\n",
        "\n",
        "![alt text](https://i.ibb.co/NCh0DMg/tabelinha.png)\n",
        "\n",
        "Para a estudante saber quantos gramas de cada um destes alimentos ela deve ingerir diariamente, montou o sistema abaixo, Sendo Kcal (quilocalorias), prot (proteínas) e lip (lipídeos).\n",
        "\n",
        "$$ kcal(lasanha) + kcal(risoto) + kcal(temaki) = kcal(total) $$\n",
        "$$ prot(lasanha) + prot(risoto) + prot(temaki) = prot(total) $$\n",
        "$$ lip(lasanha) + lip(risoto) + lip(temaki) = lip(total) $$\n",
        "\n",
        "Tendo isso em vista, ela substituiu os valores contidos na tabela no sistema, ficando assim, sendo l (lasanha), r (risoto) e t (temaki):\n",
        "\n",
        "$$ 128(l) + 159(r) + 63(t) = 2072 $$\n",
        "$$ 2.5(l) + 32(r) + 0.2(t) = 220 $$\n",
        "$$ 0.2(l) + 2.5(r) + 4.2(t) = 19.3 $$\n",
        "\n",
        "Logo, para saber quantas porções de 100g de cada alimento ela deve comer, basta resolver o sistema. E como ela estudou em Métodos Numéricos como resolver sistemas lineares, essa tarefa será izi pizi heheheh.\n",
        "\n",
        "\n"
      ]
    },
    {
      "cell_type": "markdown",
      "metadata": {
        "id": "XA8DgsQGSkcA"
      },
      "source": [
        "## ***Resolvendo o Sistema utilizando Gauss Ingênuo***\n"
      ]
    },
    {
      "cell_type": "markdown",
      "metadata": {
        "id": "N7w29f4UPHdN"
      },
      "source": [
        "A resolução de sistemas lineares utilizando o método de Gauss Ingênuo é bem simples e intuitiva.\n"
      ]
    },
    {
      "cell_type": "code",
      "metadata": {
        "id": "KlVch9K5bOXS"
      },
      "source": [
        "#Incluindo bibliotecas\n",
        "\n",
        "import numpy as np\n",
        "np.set_printoptions(formatter={'float': lambda x: \"{:.2f}\".format(x)})"
      ],
      "execution_count": null,
      "outputs": []
    },
    {
      "cell_type": "code",
      "metadata": {
        "id": "yEQgsh4cbjcX"
      },
      "source": [
        "#Matriz Gauss Ingênuo\n",
        "\n",
        "m_gi = np.array([[128, 159, 63, 2072], [2.5, 32, 0.2, 220], [0.2, 2.5, 4.2, 19.3]])"
      ],
      "execution_count": null,
      "outputs": []
    },
    {
      "cell_type": "code",
      "metadata": {
        "id": "QRBBRkYrbza7",
        "outputId": "bbc57054-ae51-4dd1-9d54-ebc19b40413a",
        "colab": {
          "base_uri": "https://localhost:8080/",
          "height": 34
        }
      },
      "source": [
        "#Primeiro pivô\n",
        "\n",
        "pivo1_gi = m_gi[0,0]\n",
        "pivo1_gi"
      ],
      "execution_count": null,
      "outputs": [
        {
          "output_type": "execute_result",
          "data": {
            "text/plain": [
              "128.0"
            ]
          },
          "metadata": {
            "tags": []
          },
          "execution_count": 61
        }
      ]
    },
    {
      "cell_type": "code",
      "metadata": {
        "id": "iOCHNMWXb6pw",
        "outputId": "5226a89e-ed40-4cc9-dd36-40cf80c25f7d",
        "colab": {
          "base_uri": "https://localhost:8080/",
          "height": 34
        }
      },
      "source": [
        "#Primeiro multiplicador\n",
        "\n",
        "m1_gi = m_gi[1,0]/pivo1_gi\n",
        "m1_gi"
      ],
      "execution_count": null,
      "outputs": [
        {
          "output_type": "execute_result",
          "data": {
            "text/plain": [
              "0.01953125"
            ]
          },
          "metadata": {
            "tags": []
          },
          "execution_count": 62
        }
      ]
    },
    {
      "cell_type": "code",
      "metadata": {
        "id": "nE-ACjufb9w-",
        "outputId": "031d2de7-20d5-47ae-f3f4-5ff8eba5c69f",
        "colab": {
          "base_uri": "https://localhost:8080/",
          "height": 34
        }
      },
      "source": [
        "#Zerando o primeiro elemento abaixo do pivô\n",
        "\n",
        "m_gi[1,:] = m_gi[1,:] - m_gi[0,:]*m1_gi\n",
        "m_gi[1,:]"
      ],
      "execution_count": null,
      "outputs": [
        {
          "output_type": "execute_result",
          "data": {
            "text/plain": [
              "array([0.00, 28.89, -1.03, 179.53])"
            ]
          },
          "metadata": {
            "tags": []
          },
          "execution_count": 63
        }
      ]
    },
    {
      "cell_type": "code",
      "metadata": {
        "id": "0OETHILec3En",
        "outputId": "7c44d606-4861-4e6e-8964-85387a777740",
        "colab": {
          "base_uri": "https://localhost:8080/",
          "height": 34
        }
      },
      "source": [
        "#Segundo multiplicador\n",
        "\n",
        "m2_gi = m_gi[2,0]/pivo1_gi\n",
        "m2_gi"
      ],
      "execution_count": null,
      "outputs": [
        {
          "output_type": "execute_result",
          "data": {
            "text/plain": [
              "0.0015625"
            ]
          },
          "metadata": {
            "tags": []
          },
          "execution_count": 64
        }
      ]
    },
    {
      "cell_type": "code",
      "metadata": {
        "id": "IJp_8CuDdoa4",
        "outputId": "f0334521-ac2a-4cc4-c477-808d885c423e",
        "colab": {
          "base_uri": "https://localhost:8080/",
          "height": 34
        }
      },
      "source": [
        "#Zerando o segundo elemento abaixo do pivô\n",
        "\n",
        "m_gi[2,:] = m_gi[2,:] - m_gi[0,:]*m2_gi\n",
        "m_gi[2,:]"
      ],
      "execution_count": null,
      "outputs": [
        {
          "output_type": "execute_result",
          "data": {
            "text/plain": [
              "array([0.00, 2.25, 4.10, 16.06])"
            ]
          },
          "metadata": {
            "tags": []
          },
          "execution_count": 65
        }
      ]
    },
    {
      "cell_type": "code",
      "metadata": {
        "id": "UHd-TW_3d9z5",
        "outputId": "2bde3227-b53f-47b3-f1bc-0b96fab37089",
        "colab": {
          "base_uri": "https://localhost:8080/",
          "height": 68
        }
      },
      "source": [
        "m_gi"
      ],
      "execution_count": null,
      "outputs": [
        {
          "output_type": "execute_result",
          "data": {
            "text/plain": [
              "array([[128.00, 159.00, 63.00, 2072.00],\n",
              "       [0.00, 28.89, -1.03, 179.53],\n",
              "       [0.00, 2.25, 4.10, 16.06]])"
            ]
          },
          "metadata": {
            "tags": []
          },
          "execution_count": 66
        }
      ]
    },
    {
      "cell_type": "code",
      "metadata": {
        "id": "bAxapCX7eAkz",
        "outputId": "05ca93a3-5950-4617-9127-e093f49d0a50",
        "colab": {
          "base_uri": "https://localhost:8080/",
          "height": 34
        }
      },
      "source": [
        "#Segundo pivô\n",
        "\n",
        "pivo2_gi = m_gi[1,1]\n",
        "pivo2_gi"
      ],
      "execution_count": null,
      "outputs": [
        {
          "output_type": "execute_result",
          "data": {
            "text/plain": [
              "28.89453125"
            ]
          },
          "metadata": {
            "tags": []
          },
          "execution_count": 67
        }
      ]
    },
    {
      "cell_type": "code",
      "metadata": {
        "id": "OgcQmw8ueQVu",
        "outputId": "ee09d94e-548c-4b3d-897e-794112b9ab54",
        "colab": {
          "base_uri": "https://localhost:8080/",
          "height": 34
        }
      },
      "source": [
        "#Terceiro multiplicador\n",
        "\n",
        "m3_gi = m_gi[2,1]/pivo2_gi\n",
        "m3_gi"
      ],
      "execution_count": null,
      "outputs": [
        {
          "output_type": "execute_result",
          "data": {
            "text/plain": [
              "0.07792348249290253"
            ]
          },
          "metadata": {
            "tags": []
          },
          "execution_count": 68
        }
      ]
    },
    {
      "cell_type": "code",
      "metadata": {
        "id": "J3HSnBbqeWY2",
        "outputId": "d3e9a380-bdb9-4989-d315-deffd4594b52",
        "colab": {
          "base_uri": "https://localhost:8080/",
          "height": 34
        }
      },
      "source": [
        "#Zerando o primeiro elemento abaixo do segundo pivô\n",
        "\n",
        "m_gi[2,:] = m_gi[2,:] - m_gi[1,:]*m3_gi\n",
        "m_gi[2,:]"
      ],
      "execution_count": null,
      "outputs": [
        {
          "output_type": "execute_result",
          "data": {
            "text/plain": [
              "array([0.00, 0.00, 4.18, 2.07])"
            ]
          },
          "metadata": {
            "tags": []
          },
          "execution_count": 69
        }
      ]
    },
    {
      "cell_type": "code",
      "metadata": {
        "id": "4hy-n0lueggs",
        "outputId": "adae9d2a-aa78-4f8b-e4f4-5fe8879b9146",
        "colab": {
          "base_uri": "https://localhost:8080/",
          "height": 68
        }
      },
      "source": [
        "m_gi"
      ],
      "execution_count": null,
      "outputs": [
        {
          "output_type": "execute_result",
          "data": {
            "text/plain": [
              "array([[128.00, 159.00, 63.00, 2072.00],\n",
              "       [0.00, 28.89, -1.03, 179.53],\n",
              "       [0.00, 0.00, 4.18, 2.07]])"
            ]
          },
          "metadata": {
            "tags": []
          },
          "execution_count": 70
        }
      ]
    },
    {
      "cell_type": "code",
      "metadata": {
        "id": "K2lpe2Moeo68"
      },
      "source": [
        "#Porções de cada alimento\n",
        "p_gi = np.zeros(3)"
      ],
      "execution_count": null,
      "outputs": []
    },
    {
      "cell_type": "code",
      "metadata": {
        "id": "yOxhUPsWerer"
      },
      "source": [
        "p_gi[2] = m_gi[2,3]/m_gi[2,2]"
      ],
      "execution_count": null,
      "outputs": []
    },
    {
      "cell_type": "code",
      "metadata": {
        "id": "mzKn_XqyetuE"
      },
      "source": [
        "p_gi[1] = (m_gi[1,3] - m_gi[1,2]*p_gi[2])/m_gi[1,1]"
      ],
      "execution_count": null,
      "outputs": []
    },
    {
      "cell_type": "code",
      "metadata": {
        "id": "KfzLeKrXe5K-"
      },
      "source": [
        "p_gi[0] = (m_gi[0,3] - m_gi[0,2]*p_gi[2] - m_gi[0,1]*p_gi[1])/m_gi[0,0]"
      ],
      "execution_count": null,
      "outputs": []
    },
    {
      "cell_type": "code",
      "metadata": {
        "id": "hIkKZGq4fBeB",
        "outputId": "ef398b94-db26-4599-9d7b-9ea7d415bb16",
        "colab": {
          "base_uri": "https://localhost:8080/",
          "height": 34
        }
      },
      "source": [
        "p_gi"
      ],
      "execution_count": null,
      "outputs": [
        {
          "output_type": "execute_result",
          "data": {
            "text/plain": [
              "array([8.20, 6.23, 0.50])"
            ]
          },
          "metadata": {
            "tags": []
          },
          "execution_count": 75
        }
      ]
    },
    {
      "cell_type": "markdown",
      "metadata": {
        "id": "6_0M1ywpgkKr"
      },
      "source": [
        "## ***Resolvendo o Sistema utilizando Gauss com Pivotação Parcial***"
      ]
    },
    {
      "cell_type": "markdown",
      "metadata": {
        "id": "er7nUgKPdFCw"
      },
      "source": [
        "O método de Gauss com pivotação parcial é utilizado quando o elemento [0,0] é muito próximo ou igual a zero. Basta trocar a linha do maior elemento da primeira coluna com a linha 0, evitando assim, divisões por 0."
      ]
    },
    {
      "cell_type": "code",
      "metadata": {
        "id": "OXgoLCwPg5mq"
      },
      "source": [
        "#Matriz Gauss com Pivotação Parcial\n",
        "\n",
        "m_gp = np.array([[128, 159, 63, 2072], [2.5, 32, 0.2, 220], [0.2, 2.5, 4.2, 19.3]])"
      ],
      "execution_count": null,
      "outputs": []
    },
    {
      "cell_type": "code",
      "metadata": {
        "id": "bXztUKnsACPV",
        "outputId": "305afb25-6523-4d06-e4c9-6bc85ce2e061",
        "colab": {
          "base_uri": "https://localhost:8080/",
          "height": 34
        }
      },
      "source": [
        "#Indice com maior valor na coluna 0\n",
        "\n",
        "np.argmax(np.abs(m_gp[:,0]))"
      ],
      "execution_count": null,
      "outputs": [
        {
          "output_type": "execute_result",
          "data": {
            "text/plain": [
              "0"
            ]
          },
          "metadata": {
            "tags": []
          },
          "execution_count": 94
        }
      ]
    },
    {
      "cell_type": "markdown",
      "metadata": {
        "id": "wOGlz1ioVW4O"
      },
      "source": [
        "O índice que tem maior valor na primeira coluna é o índice 0, não será necessário utilizar o método da pivotação parcial, logo, a resolução será idêntica ao método de Gauss Ingênuo."
      ]
    },
    {
      "cell_type": "code",
      "metadata": {
        "id": "D1efdsuG-OtC",
        "outputId": "b9f97a50-0836-4cc9-809f-969033d52045",
        "colab": {
          "base_uri": "https://localhost:8080/",
          "height": 34
        }
      },
      "source": [
        "#Primeiro pivô\n",
        "\n",
        "pivo1_gp = m_gp[0,0]\n",
        "pivo1_gp"
      ],
      "execution_count": null,
      "outputs": [
        {
          "output_type": "execute_result",
          "data": {
            "text/plain": [
              "128.0"
            ]
          },
          "metadata": {
            "tags": []
          },
          "execution_count": 95
        }
      ]
    },
    {
      "cell_type": "code",
      "metadata": {
        "id": "SNDMt-k6-RLN",
        "outputId": "9082e43b-da4d-42de-8ab7-c53f2e337413",
        "colab": {
          "base_uri": "https://localhost:8080/",
          "height": 34
        }
      },
      "source": [
        "#Primeiro multiplicador\n",
        "\n",
        "m1_gp = m_gp[1,0]/pivo1_gp\n",
        "m1_gp"
      ],
      "execution_count": null,
      "outputs": [
        {
          "output_type": "execute_result",
          "data": {
            "text/plain": [
              "0.01953125"
            ]
          },
          "metadata": {
            "tags": []
          },
          "execution_count": 96
        }
      ]
    },
    {
      "cell_type": "code",
      "metadata": {
        "id": "i8e4S3Xb-TwE",
        "outputId": "653fa29b-5bcc-40ad-fd38-16831e05971a",
        "colab": {
          "base_uri": "https://localhost:8080/",
          "height": 34
        }
      },
      "source": [
        "#Zerando o elemento abaixo do pivô\n",
        "\n",
        "m_gp[1,:] = m_gp[1,:] - m_gp[0,:]*m1_gp\n",
        "m_gp[1,:]"
      ],
      "execution_count": null,
      "outputs": [
        {
          "output_type": "execute_result",
          "data": {
            "text/plain": [
              "array([0.00, 28.89, -1.03, 179.53])"
            ]
          },
          "metadata": {
            "tags": []
          },
          "execution_count": 97
        }
      ]
    },
    {
      "cell_type": "code",
      "metadata": {
        "id": "nFvHnR5u-XxM",
        "outputId": "85777516-2d37-4094-a4b8-b715daa2b83f",
        "colab": {
          "base_uri": "https://localhost:8080/",
          "height": 34
        }
      },
      "source": [
        "\n",
        "#Segundo multiplicador\n",
        "\n",
        "m2_gp = m_gp[2,0]/pivo1_gp\n",
        "m2_gp"
      ],
      "execution_count": null,
      "outputs": [
        {
          "output_type": "execute_result",
          "data": {
            "text/plain": [
              "0.0015625"
            ]
          },
          "metadata": {
            "tags": []
          },
          "execution_count": 98
        }
      ]
    },
    {
      "cell_type": "code",
      "metadata": {
        "id": "VKsaKzYf-Z63",
        "outputId": "477df5d4-a729-42d4-8228-b84b67107660",
        "colab": {
          "base_uri": "https://localhost:8080/",
          "height": 34
        }
      },
      "source": [
        "#Zerando o segundo elemneto abaixo do pivô\n",
        "\n",
        "m_gp[2,:] = m_gp[2,:] - m_gp[0,:]*m2_gp\n",
        "m_gp[2,:]"
      ],
      "execution_count": null,
      "outputs": [
        {
          "output_type": "execute_result",
          "data": {
            "text/plain": [
              "array([0.00, 2.25, 4.10, 16.06])"
            ]
          },
          "metadata": {
            "tags": []
          },
          "execution_count": 99
        }
      ]
    },
    {
      "cell_type": "code",
      "metadata": {
        "id": "BKWAzSGT-cis",
        "outputId": "5c4f9b00-3c09-4f65-d3b7-091a32102765",
        "colab": {
          "base_uri": "https://localhost:8080/",
          "height": 68
        }
      },
      "source": [
        "m_gp"
      ],
      "execution_count": null,
      "outputs": [
        {
          "output_type": "execute_result",
          "data": {
            "text/plain": [
              "array([[128.00, 159.00, 63.00, 2072.00],\n",
              "       [0.00, 28.89, -1.03, 179.53],\n",
              "       [0.00, 2.25, 4.10, 16.06]])"
            ]
          },
          "metadata": {
            "tags": []
          },
          "execution_count": 100
        }
      ]
    },
    {
      "cell_type": "code",
      "metadata": {
        "id": "nAWv8HNa-f52",
        "outputId": "3212ecae-8bd0-46ff-91d7-41050803b518",
        "colab": {
          "base_uri": "https://localhost:8080/",
          "height": 34
        }
      },
      "source": [
        "#Segundo pivô\n",
        "\n",
        "pivo2_gp = m_gp[1,1]\n",
        "pivo2_gp"
      ],
      "execution_count": null,
      "outputs": [
        {
          "output_type": "execute_result",
          "data": {
            "text/plain": [
              "28.89453125"
            ]
          },
          "metadata": {
            "tags": []
          },
          "execution_count": 101
        }
      ]
    },
    {
      "cell_type": "code",
      "metadata": {
        "id": "l3ewK_Pd-iAk",
        "outputId": "93eb90e1-cebd-42c3-a166-c5701e018409",
        "colab": {
          "base_uri": "https://localhost:8080/",
          "height": 34
        }
      },
      "source": [
        "#Terceito multiplicador\n",
        "\n",
        "m3_gp = m_gp[2,1]/pivo2_gp\n",
        "m3_gp"
      ],
      "execution_count": null,
      "outputs": [
        {
          "output_type": "execute_result",
          "data": {
            "text/plain": [
              "0.07792348249290253"
            ]
          },
          "metadata": {
            "tags": []
          },
          "execution_count": 102
        }
      ]
    },
    {
      "cell_type": "code",
      "metadata": {
        "id": "eWMH35k3-kOF",
        "outputId": "da110390-f3fb-4119-8197-7f8ff59d183e",
        "colab": {
          "base_uri": "https://localhost:8080/",
          "height": 34
        }
      },
      "source": [
        "#Zerando o elemento abaixo do segundo pivô\n",
        "\n",
        "m_gp[2,:] = m_gp[2,:] - m_gp[1,:]*m3_gp\n",
        "m_gp[2,:]"
      ],
      "execution_count": null,
      "outputs": [
        {
          "output_type": "execute_result",
          "data": {
            "text/plain": [
              "array([0.00, 0.00, 4.18, 2.07])"
            ]
          },
          "metadata": {
            "tags": []
          },
          "execution_count": 103
        }
      ]
    },
    {
      "cell_type": "code",
      "metadata": {
        "id": "Tcm-8os5-mNc",
        "outputId": "d66e5cc3-9cbe-46f5-a89d-f4b6f7380f14",
        "colab": {
          "base_uri": "https://localhost:8080/",
          "height": 68
        }
      },
      "source": [
        "m_gp"
      ],
      "execution_count": null,
      "outputs": [
        {
          "output_type": "execute_result",
          "data": {
            "text/plain": [
              "array([[128.00, 159.00, 63.00, 2072.00],\n",
              "       [0.00, 28.89, -1.03, 179.53],\n",
              "       [0.00, 0.00, 4.18, 2.07]])"
            ]
          },
          "metadata": {
            "tags": []
          },
          "execution_count": 104
        }
      ]
    },
    {
      "cell_type": "code",
      "metadata": {
        "id": "hctKATe8-orm"
      },
      "source": [
        "#Porções de cada alimento\n",
        "\n",
        "p_gp = np.zeros(3)"
      ],
      "execution_count": null,
      "outputs": []
    },
    {
      "cell_type": "code",
      "metadata": {
        "id": "_ALcD5Tc-qnG"
      },
      "source": [
        "p_gp[2] = m_gp[2,3]/m_gp[2,2]"
      ],
      "execution_count": null,
      "outputs": []
    },
    {
      "cell_type": "code",
      "metadata": {
        "id": "N1d16fpZ-tI1"
      },
      "source": [
        "p_gp[1] = (m_gp[1,3] - m_gp[1,2]*p_gp[2])/m_gp[1,1]"
      ],
      "execution_count": null,
      "outputs": []
    },
    {
      "cell_type": "code",
      "metadata": {
        "id": "SkAPlyfv-vUP"
      },
      "source": [
        "p_gp[0] = (m_gp[0,3] - m_gp[0,2]*p_gp[2] - m_gp[0,1]*p_gp[1])/m_gp[0,0]"
      ],
      "execution_count": null,
      "outputs": []
    },
    {
      "cell_type": "code",
      "metadata": {
        "id": "5f0EyA1R-xXO",
        "outputId": "2feb0edc-bae2-41c9-d11a-e0701c71d8ba",
        "colab": {
          "base_uri": "https://localhost:8080/",
          "height": 34
        }
      },
      "source": [
        "p_gp"
      ],
      "execution_count": null,
      "outputs": [
        {
          "output_type": "execute_result",
          "data": {
            "text/plain": [
              "array([8.20, 6.23, 0.50])"
            ]
          },
          "metadata": {
            "tags": []
          },
          "execution_count": 109
        }
      ]
    },
    {
      "cell_type": "markdown",
      "metadata": {
        "id": "MyulvduoAfdg"
      },
      "source": [
        "## ***Resolvendo o Sistema utilizando Gauss Seidel***\n",
        "\n",
        "\n"
      ]
    },
    {
      "cell_type": "markdown",
      "metadata": {
        "id": "Ch55_csbWhXs"
      },
      "source": [
        "O método de Gauss Seidel é um método iterativo para a resolução de sistemas lineares. Esse método, SEM DÚVIDAS, foi o método que a estudante mais gostou."
      ]
    },
    {
      "cell_type": "code",
      "metadata": {
        "id": "egY-lvIoAlRa",
        "outputId": "5fd92424-5b0f-49b0-cd93-c7222c87275c",
        "colab": {
          "base_uri": "https://localhost:8080/",
          "height": 153
        }
      },
      "source": [
        "max_it = 100 #Número de iterações máximas\n",
        "tolerancia = 0.0001 #Tolerância do erro\n",
        "p_gs = np.zeros(3) #Começando todos os valores das porções sendo 0\n",
        "\n",
        "for i in range(max_it):\n",
        "    p_gs_anterior = p_gs.copy() #Representando cada coeficiente em função dos outros\n",
        "    p_gs[0] = (2072 - 159*p_gs[1] - 63*p_gs[2])/128\n",
        "    p_gs[1] = (220 - 2.5*p_gs[0] - 0.2*p_gs[2])/32\n",
        "    p_gs[2] = (19.3 - 0.2*p_gs[0] - 2.5*p_gs[1])/4.2\n",
        "    \n",
        "    erros = np.abs(np.divide(p_gs - p_gs_anterior, p_gs))*100\n",
        "    print(i , p_gs, np.max(erros))\n",
        "    if np.max(erros) < tolerancia:\n",
        "        break\n",
        "\n",
        "\n",
        "#Iteração #Porções #Erro"
      ],
      "execution_count": null,
      "outputs": [
        {
          "output_type": "stream",
          "text": [
            "0 [16.19 5.61 0.48] 100.0\n",
            "1 [8.98 6.17 0.49] 80.26721541082958\n",
            "2 [8.28 6.23 0.50] 8.461822270989032\n",
            "3 [8.21 6.23 0.50] 0.8319926566837964\n",
            "4 [8.20 6.23 0.50] 0.08120525048549926\n",
            "5 [8.20 6.23 0.50] 0.007920137622719033\n",
            "6 [8.20 6.23 0.50] 0.0007724144466977479\n",
            "7 [8.20 6.23 0.50] 7.532948937214735e-05\n"
          ],
          "name": "stdout"
        }
      ]
    },
    {
      "cell_type": "markdown",
      "metadata": {
        "id": "Hi7hFOMCDnXK"
      },
      "source": [
        "## ***Resolvendo o Sistema utilizando Decomposição LU***"
      ]
    },
    {
      "cell_type": "markdown",
      "metadata": {
        "id": "4kuV-eLVXac7"
      },
      "source": [
        "Esse método a estudante não entendeu muito bem, mas não custa nada tentar, não é mesmo?!"
      ]
    },
    {
      "cell_type": "code",
      "metadata": {
        "id": "yjfZANvrHirf"
      },
      "source": [
        "from scipy.linalg import solve_triangular"
      ],
      "execution_count": null,
      "outputs": []
    },
    {
      "cell_type": "code",
      "metadata": {
        "id": "VKY74Xv2L35W",
        "outputId": "7be07f64-4b03-4ea1-aaeb-342a9c181416",
        "colab": {
          "base_uri": "https://localhost:8080/",
          "height": 68
        }
      },
      "source": [
        "m_lu = np.array([[128, 159, 63], [2.5, 32, 0.2], [0.2, 2.5, 4.2]], dtype = float)\n",
        "m_lu"
      ],
      "execution_count": null,
      "outputs": [
        {
          "output_type": "execute_result",
          "data": {
            "text/plain": [
              "array([[128.00, 159.00, 63.00],\n",
              "       [2.50, 32.00, 0.20],\n",
              "       [0.20, 2.50, 0.20]])"
            ]
          },
          "metadata": {
            "tags": []
          },
          "execution_count": 50
        }
      ]
    },
    {
      "cell_type": "code",
      "metadata": {
        "id": "3YDI-PhTMVAS"
      },
      "source": [
        "def eliminacao_LU (matriz):\n",
        "\n",
        "    L = np.identity(matriz.shape[0])\n",
        "    U = matriz.copy()\n",
        "\n",
        "    passos = matriz.shape[0]-1\n",
        "    for p in range(passos):\n",
        "        pivo = U[p,p]\n",
        "        for i in range(p+1,U.shape[0]):\n",
        "            m = U[i,p]/pivo\n",
        "            U[i] = U[i] - U[p]*m\n",
        "            L[i,p] = m\n",
        "            \n",
        "    return L,U"
      ],
      "execution_count": null,
      "outputs": []
    },
    {
      "cell_type": "code",
      "metadata": {
        "id": "Pqlb-4Y-Mszv",
        "outputId": "1566d6f4-54c6-4522-8e68-d04b0e4a9156",
        "colab": {
          "base_uri": "https://localhost:8080/",
          "height": 68
        }
      },
      "source": [
        "l,u = eliminacao_LU(m_lu)\n",
        "l"
      ],
      "execution_count": null,
      "outputs": [
        {
          "output_type": "execute_result",
          "data": {
            "text/plain": [
              "array([[1.00, 0.00, 0.00],\n",
              "       [0.02, 1.00, 0.00],\n",
              "       [0.00, 0.08, 1.00]])"
            ]
          },
          "metadata": {
            "tags": []
          },
          "execution_count": 52
        }
      ]
    },
    {
      "cell_type": "code",
      "metadata": {
        "id": "Z74iHVlcMzxO",
        "outputId": "f7e2dbe4-63c7-47f6-f807-e4c0e9269ec0",
        "colab": {
          "base_uri": "https://localhost:8080/",
          "height": 68
        }
      },
      "source": [
        "u"
      ],
      "execution_count": null,
      "outputs": [
        {
          "output_type": "execute_result",
          "data": {
            "text/plain": [
              "array([[128.00, 159.00, 63.00],\n",
              "       [0.00, 28.89, -1.03],\n",
              "       [0.00, 0.00, 0.18]])"
            ]
          },
          "metadata": {
            "tags": []
          },
          "execution_count": 53
        }
      ]
    },
    {
      "cell_type": "code",
      "metadata": {
        "id": "WyMQuxijM1ci",
        "outputId": "30b88a38-02b7-4411-b2be-06a84c56c7e0",
        "colab": {
          "base_uri": "https://localhost:8080/",
          "height": 68
        }
      },
      "source": [
        "np.dot(l,u)"
      ],
      "execution_count": null,
      "outputs": [
        {
          "output_type": "execute_result",
          "data": {
            "text/plain": [
              "array([[128.00, 159.00, 63.00],\n",
              "       [2.50, 32.00, 0.20],\n",
              "       [0.20, 2.50, 0.20]])"
            ]
          },
          "metadata": {
            "tags": []
          },
          "execution_count": 54
        }
      ]
    },
    {
      "cell_type": "code",
      "metadata": {
        "id": "VA04l5xSM5TA",
        "outputId": "13cb3b2e-ae79-41de-d876-e85fe2736b92",
        "colab": {
          "base_uri": "https://localhost:8080/",
          "height": 68
        }
      },
      "source": [
        "m_lu_inv = np.zeros(m_lu.shape)\n",
        "z = np.zeros(m_lu.shape[0])\n",
        "i = np.identity(m_lu.shape[0])\n",
        "i"
      ],
      "execution_count": null,
      "outputs": [
        {
          "output_type": "execute_result",
          "data": {
            "text/plain": [
              "array([[1.00, 0.00, 0.00],\n",
              "       [0.00, 1.00, 0.00],\n",
              "       [0.00, 0.00, 1.00]])"
            ]
          },
          "metadata": {
            "tags": []
          },
          "execution_count": 55
        }
      ]
    },
    {
      "cell_type": "code",
      "metadata": {
        "id": "j42M8ROxNE6U",
        "outputId": "2c5923b7-f3b7-4994-e989-056e9689536b",
        "colab": {
          "base_uri": "https://localhost:8080/",
          "height": 68
        }
      },
      "source": [
        "z = solve_triangular(l,i[:,0], lower = True)\n",
        "m_lu_inv[:,0] = solve_triangular(u,z)\n",
        "m_lu_inv"
      ],
      "execution_count": null,
      "outputs": [
        {
          "output_type": "execute_result",
          "data": {
            "text/plain": [
              "array([[0.01, 0.00, 0.00],\n",
              "       [-0.00, 0.00, 0.00],\n",
              "       [-0.00, 0.00, 0.00]])"
            ]
          },
          "metadata": {
            "tags": []
          },
          "execution_count": 56
        }
      ]
    },
    {
      "cell_type": "code",
      "metadata": {
        "id": "liaWhusbNP5V",
        "outputId": "a1495871-5bf8-4369-a35b-fd7d4c6509e5",
        "colab": {
          "base_uri": "https://localhost:8080/",
          "height": 68
        }
      },
      "source": [
        "z = solve_triangular(l,i[:,1], lower = True)\n",
        "m_lu_inv[:,1] = solve_triangular(u,z)\n",
        "\n",
        "z = solve_triangular(l, i[:,2], lower = True)\n",
        "m_lu_inv[:,2] = solve_triangular(u,z)\n",
        "m_lu_inv"
      ],
      "execution_count": null,
      "outputs": [
        {
          "output_type": "execute_result",
          "data": {
            "text/plain": [
              "array([[0.01, 0.19, -2.95],\n",
              "       [-0.00, 0.02, 0.20],\n",
              "       [-0.00, -0.43, 5.50]])"
            ]
          },
          "metadata": {
            "tags": []
          },
          "execution_count": 57
        }
      ]
    },
    {
      "cell_type": "code",
      "metadata": {
        "id": "pKcthB7ROGYY",
        "outputId": "4f43c4a5-9d3e-4853-fcd3-3ce06a0f9e39",
        "colab": {
          "base_uri": "https://localhost:8080/",
          "height": 68
        }
      },
      "source": [
        "np.dot(m_lu,m_lu_inv)"
      ],
      "execution_count": null,
      "outputs": [
        {
          "output_type": "execute_result",
          "data": {
            "text/plain": [
              "array([[1.00, 0.00, 0.00],\n",
              "       [-0.00, 1.00, 0.00],\n",
              "       [-0.00, -0.00, 1.00]])"
            ]
          },
          "metadata": {
            "tags": []
          },
          "execution_count": 58
        }
      ]
    },
    {
      "cell_type": "markdown",
      "metadata": {
        "id": "PQa047-6d4XS"
      },
      "source": [
        "## *CONCLUSÃO*\n",
        "\n",
        "Por fim, após a análise utilizando todos os métodos, foi definido que a estudante deve ingerir 8.2 porções de 100g de lasanha de frango, 6.23 porções de 100g de risoto de limão e 0.5 porções de 100g de temaki, ou seja, 820g de lasanha, 623g de risoto e 50g de temaki por dia.\n",
        "\n",
        "Em relação aos métodos para resolução do sistema linear, a estudante preferiu o método de Gauss Seidel, pois é um método iterativo e não é necessário fazer tudo na \"força-bruta\", o pior método para resolução é o da Decomposição LU, pois ele é TOTALMENTE DESNECESSÁRIO. Além disso, é muito importante saber essas ferramentas numéricas, pois se aplicam ao dia a dia de cada pessoa.\n",
        "\n",
        "### ***Observação 1: Todos os valores referentes as informações nutricionais dos alimentos são fictícios***\n",
        "### ***Observação 2: Não é recomendado pesquisar dietas no Google, procure um nutricionista.***"
      ]
    }
  ]
}