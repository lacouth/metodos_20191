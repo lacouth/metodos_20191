{
  "nbformat": 4,
  "nbformat_minor": 0,
  "metadata": {
    "colab": {
      "name": "Projeto_Sistemas_Lineares_Mickael_Yoshua (1).ipynb",
      "provenance": [],
      "collapsed_sections": []
    },
    "kernelspec": {
      "name": "python3",
      "display_name": "Python 3"
    }
  },
  "cells": [
    {
      "cell_type": "markdown",
      "metadata": {
        "id": "b8k2EZ-UBri3"
      },
      "source": [
        "<center>\n",
        "  <h1>Projeto Sistemas Lineares - Gato no Labirinto</h1>\n",
        "  <h2>Discente: Mickael Yoshua Cardoso Reis</h2>\n",
        "  <h2>Docente: Patric Lacouth</h2>\n",
        "  <h2>Matrícula: 20182610010</h2>\n",
        "  \n",
        "  <h3>Contextualização</h3>\n",
        "</center>\n",
        "\n",
        "<p>Um gato está perdido em um labirinto quadrado de corredores como mostra a <i>Figura 1</i>. Ao andar pelo labirinto o gato encontra interseções e escolhe aleatoriamente qual direção tomar, ao chegar nas próximas interseções faz a mesma coisa.</p>\n",
        "\n",
        "<center>\n",
        "  <figure>\n",
        "    <img src=\"https://github.com/mickaelyoshua/Metodos_Numericos/blob/master/Sistemas%20Lineares/Captura%20de%20tela%202019-10-25%2010.25.36.png?raw=true\">\n",
        "    <figcaption>Figura 1 - Labirinto</figcaption>\n",
        "  </figure>\n",
        "\n",
        "  <h3>Problema</h3>\n",
        "</center>\n",
        "\n",
        "<p>O gato estando na interseção $i$, com $i$ variando de 1 a 9, qual seria a probabilidade dele sair pelo lado sul?</p>\n",
        "<p>Sendo $P_1$ a probabilidade do gato que está na interseção 1 sair pelo lado sul, $P_2, P_3, ..., P_9$ definidas do mesmo modo e que ao chegar em uma saída sua jornada acabe, através da teoria das probabilidade obtemos o seguinte sistema de equações lineares para $P_i$ e saída sul:</p>\n",
        "\n",
        "$$P_1=(0+0+P_2+P_4)/4$$\n",
        "$$P_2=(0+P_1+P_3+P_5)/4$$\n",
        "$$P_3=(0+P_2+0+P_6)/4$$\n",
        "$$P_4=(P_1+0+P_5+P_7)/4$$\n",
        "$$P_5=(P_2+P_4+P_6+P_8)/4$$\n",
        "$$P_6=(P_3+P_5+0+P_9)/4$$\n",
        "$$P_7=(P_4+0+P_8+1)/4$$\n",
        "$$P_8=(P_5+P_7+P_9+1)/4$$\n",
        "$$P_9=(P_6+P_8+0+1)/4$$\n",
        "\n",
        "<p>Reorganizando temos:</p>\n",
        "\n",
        "$$4P_1-P_2-P_4=0$$\n",
        "$$-P_1+4P_2-P_3-P_5=0$$\n",
        "$$-P_2+4P_3-P_6=0$$\n",
        "$$-P_1+4P_4-P_5-P_7=0$$\n",
        "$$-P_2-P_4+4P_5-P_6-P_8=0$$\n",
        "$$-P_3-P_5+4P_6-P_9=0$$\n",
        "$$-P_4+4P_7-P_8=1$$\n",
        "$$-P_5-P_7+4P_8-P_9=1$$\n",
        "$$-P_6-P_8+4P_9=1$$"
      ]
    },
    {
      "cell_type": "code",
      "metadata": {
        "id": "LvrQixipDYPt"
      },
      "source": [
        "import numpy as np\n",
        "import matplotlib.pyplot as plt\n",
        "\n",
        "np.set_printoptions(formatter={'float': lambda x: \"{:.3f}\".format(x)})\n",
        "#Configurações de print foram colacadas para 3 casas decimais para melhor vizualização do print das matrizes."
      ],
      "execution_count": null,
      "outputs": []
    },
    {
      "cell_type": "code",
      "metadata": {
        "id": "whQaGEg-Dbtz",
        "outputId": "321bff75-7c83-45c4-f5f6-57c784d91e7a",
        "colab": {
          "base_uri": "https://localhost:8080/",
          "height": 170
        }
      },
      "source": [
        "P=np.array([[4,-1,0,-1,0,0,0,0,0,0],\n",
        "            [-1,4,-1,0,-1,0,0,0,0,0],\n",
        "            [0,-1,4,0,0,-1,0,0,0,0],\n",
        "            [-1,0,0,4,-1,0,-1,0,0,0],\n",
        "            [0,-1,0,-1,4,-1,0,-1,0,0],\n",
        "            [0,0,-1,0,-1,4,0,0,-1,0],\n",
        "            [0,0,0,-1,0,0,4,-1,0,1],\n",
        "            [0,0,0,0,-1,0,-1,4,-1,1],\n",
        "            [0,0,0,0,0,-1,0,-1,4,1]], dtype=float)\n",
        "\n",
        "print(P)"
      ],
      "execution_count": null,
      "outputs": [
        {
          "output_type": "stream",
          "text": [
            "[[4.000 -1.000 0.000 -1.000 0.000 0.000 0.000 0.000 0.000 0.000]\n",
            " [-1.000 4.000 -1.000 0.000 -1.000 0.000 0.000 0.000 0.000 0.000]\n",
            " [0.000 -1.000 4.000 0.000 0.000 -1.000 0.000 0.000 0.000 0.000]\n",
            " [-1.000 0.000 0.000 4.000 -1.000 0.000 -1.000 0.000 0.000 0.000]\n",
            " [0.000 -1.000 0.000 -1.000 4.000 -1.000 0.000 -1.000 0.000 0.000]\n",
            " [0.000 0.000 -1.000 0.000 -1.000 4.000 0.000 0.000 -1.000 0.000]\n",
            " [0.000 0.000 0.000 -1.000 0.000 0.000 4.000 -1.000 0.000 1.000]\n",
            " [0.000 0.000 0.000 0.000 -1.000 0.000 -1.000 4.000 -1.000 1.000]\n",
            " [0.000 0.000 0.000 0.000 0.000 -1.000 0.000 -1.000 4.000 1.000]]\n"
          ],
          "name": "stdout"
        }
      ]
    },
    {
      "cell_type": "markdown",
      "metadata": {
        "id": "_aXrNwirGXjM"
      },
      "source": [
        "<center>\n",
        "  <h2>Resolução</h2>\n",
        "  <h3>Método de Gauss Ingênuo</h3>\n",
        "</center>\n",
        "<p>O método de Gauss Ingênuo se encaixa perfeitamente neste caso, pois nenhum de seus pivôs são nulos, evitando uma divisão por 0. Isso demonstra não ser necessária a utilização de pivotação parcial.</p>"
      ]
    },
    {
      "cell_type": "code",
      "metadata": {
        "id": "edeyIyJ3FZLR"
      },
      "source": [
        "def trian_sup(M):                        #Foi feita uma função a parte para deixar a matriz na forma de triângulo superior\n",
        "  for j in range(M.shape[0]-1):\n",
        "    for i in range(M.shape[0]-1):\n",
        "      if i==j:\n",
        "        pivo=M[i,j]                      #Definição do pivô\n",
        "      mul=M[i+1,j]/pivo                  #Cálculo do multiplicador\n",
        "      M[i+1,:]=M[i+1,:]-M[j,:]*mul       #Subtração e substituição das linhas zerando a coluna abaixo do pivô\n",
        "  return M\n",
        "\n",
        "def gauss_ingenuo(A):\n",
        "  M=A.copy()                             #Tirada a cópia da matriz\n",
        "  x=np.zeros(M.shape[0])                 #Matriz das raizes nulas\n",
        "  M=trian_sup(M)                         #Retorna uma triângulo superior\n",
        "  for j in range(M.shape[0]-1, -1, -1):  #Obtenção das raízes através da fórmula apresentada no método de Gauss Seidel\n",
        "    independente=M[j,-1]\n",
        "    soma=0.0\n",
        "    for i in range(M.shape[0]):\n",
        "      if j!=i:\n",
        "        soma+=M[j,i]*x[i]\n",
        "    x[j]=(independente-soma)/M[j,j]\n",
        "    \n",
        "  return x"
      ],
      "execution_count": null,
      "outputs": []
    },
    {
      "cell_type": "code",
      "metadata": {
        "id": "nUk_m_r9F7eN",
        "outputId": "de285382-267a-44a5-fbb4-ed85e7f70e5f",
        "colab": {
          "base_uri": "https://localhost:8080/",
          "height": 34
        }
      },
      "source": [
        "print(gauss_ingenuo(P))                 #Raizes de Pi em ordem crescente de i entre 1 e 9"
      ],
      "execution_count": null,
      "outputs": [
        {
          "output_type": "stream",
          "text": [
            "[0.071 0.098 0.071 0.188 0.250 0.188 0.429 0.527 0.429]\n"
          ],
          "name": "stdout"
        }
      ]
    },
    {
      "cell_type": "markdown",
      "metadata": {
        "id": "RUx7AryhJUXi"
      },
      "source": [
        "<center>\n",
        "  <h3>Método de Gauss com Pivotação Parcial</h3>\n",
        "</center>\n",
        "<p>Não se faz necessário o uso do método de Gauss com Pivotação Parcial, pois não há nenhum risco de divisão por 0 neste sistema de equações utilizando este método. Porém seu resultado continua correto.</p>"
      ]
    },
    {
      "cell_type": "code",
      "metadata": {
        "id": "d3ezXmpPF_Wc"
      },
      "source": [
        "def gauss_piv(A):\n",
        "  M=A.copy()\n",
        "  x=np.zeros(M.shape[0])\n",
        "  \n",
        "  for j in range(M.shape[0]-1):         #Loop para pivotação parcial\n",
        "    indice=np.argmax(M[j:,j])+j\n",
        "    M[[indice,j]]=M[[j,indice]]\n",
        "    \n",
        "    for i in range(M.shape[0]-1):       #Gera a matriz triangular superior\n",
        "      if i==j:\n",
        "        pivo=M[i,j]\n",
        "      mul=M[i+1,j]/pivo\n",
        "      M[i+1,:]=M[i+1,:]-M[j,:]*mul\n",
        "      \n",
        "  for j in range(M.shape[0]-1, -1, -1): #Obtém as raízes\n",
        "    x[j]=M[j,-1]/M[j,j]\n",
        "    for i in range(j):\n",
        "      M[i,-1]=M[i,-1]-x[j]*M[i,j]\n",
        "      M[i,j]=0.0\n",
        "  return x"
      ],
      "execution_count": null,
      "outputs": []
    },
    {
      "cell_type": "code",
      "metadata": {
        "id": "dnAFyNKNGeVe",
        "outputId": "1c739956-7d1a-435f-c273-c47b4bf2a170",
        "colab": {
          "base_uri": "https://localhost:8080/",
          "height": 34
        }
      },
      "source": [
        "print(gauss_piv(P))             #Raizes de Pi em ordem crescente de i entre 1 e 9"
      ],
      "execution_count": null,
      "outputs": [
        {
          "output_type": "stream",
          "text": [
            "[0.071 0.098 0.071 0.187 0.250 0.188 0.429 0.527 0.429]\n"
          ],
          "name": "stdout"
        }
      ]
    },
    {
      "cell_type": "markdown",
      "metadata": {
        "id": "xTNvBPJLNExV"
      },
      "source": [
        "<center>\n",
        "  <h3>Método de Gauss Seidel</h3>\n",
        "</center>\n",
        "<p>Pelo método de Gauss Seidel ser um método iterativo corre o risco de não convergir caso o elemento da diagonal principal em módulo seja igual ou menor que a soma dos módulos dos outros elementos de sua linha.</p>\n",
        "<p>Mesmo se a condição citada a cima for verdadeira ainda existe a chance do sistema convergir.</p>\n",
        "<p>Continua sendo favorável usar o método de Gauss Ingênuo, por ser um método direto com convergência garantida caso o sistema linear possua solução.</p>"
      ]
    },
    {
      "cell_type": "code",
      "metadata": {
        "id": "WxCmYzc_GhGE"
      },
      "source": [
        "def gauss_seidel(A, it_max, tol):\n",
        "  M=A.copy()\n",
        "  erro=np.zeros(M.shape[0])        #Matriz de erros\n",
        "  x=np.zeros(M.shape[0])           #Matriz das raizes atuais\n",
        "  x_ant=np.zeros(M.shape[0])       #Matriz das raizes anteriores\n",
        "  test=0                           #Variáveis test e count para testar convergência do sistema\n",
        "  count=0\n",
        "  \n",
        "  for l in range(M.shape[0]):      #Teste da convergência\n",
        "    for c in range(M.shape[0]-1):\n",
        "      if l!=c:\n",
        "        test+=abs(M[l,c])\n",
        "    if abs(M[l,l])<=test:\n",
        "      count+=1\n",
        "      \n",
        "  if count>0:\n",
        "    print(\"Sistema linear pode não convergir.\")\n",
        "\n",
        "  for it in range(it_max):        #Defini o limite de iterações pela quantidade especificada\n",
        "    for i in range(M.shape[0]):   #Obtenção das raízes\n",
        "      independente=M[i,-1]\n",
        "      soma=0.0\n",
        "\n",
        "      for j in range(M.shape[0]):\n",
        "        if j!=i:\n",
        "          soma+=M[i,j]*x[j]\n",
        "      x[i]=(independente-soma)/M[i,i]\n",
        "\n",
        "    erro[i]=abs((x[i]-x_ant[i])/x[i])*100  #Cálculo do erro\n",
        "    x_ant=x.copy()\n",
        "\n",
        "    if erro.max()<=tol:                    #Verificação do erro de maior valor\n",
        "      break                                #Causa a parada quando o valor máximo do erro entre as 3 raízes chega ao limite de tolerância\n",
        "\n",
        "  return x, erro"
      ],
      "execution_count": null,
      "outputs": []
    },
    {
      "cell_type": "code",
      "metadata": {
        "id": "3XA8fjJsHdZm",
        "outputId": "d564f6e6-09d0-4d3c-d7a6-50db7b4fa475",
        "colab": {
          "base_uri": "https://localhost:8080/",
          "height": 51
        }
      },
      "source": [
        "x, erro = gauss_seidel(P,200,0.0005)      #Raizes de Pi em ordem crescente de i entre 1 e 9\n",
        "print(x)"
      ],
      "execution_count": null,
      "outputs": [
        {
          "output_type": "stream",
          "text": [
            "Sistema linear pode não convergir.\n",
            "[0.071 0.098 0.071 0.187 0.250 0.187 0.429 0.527 0.429]\n"
          ],
          "name": "stdout"
        }
      ]
    },
    {
      "cell_type": "markdown",
      "metadata": {
        "id": "uR3oXuwkQdBV"
      },
      "source": [
        "<p>Se for obsevada a linha 5 da matriz P nota-se que a condição de convergência não se aplica a ela:</p>"
      ]
    },
    {
      "cell_type": "code",
      "metadata": {
        "id": "kOTnlEVFQyvU",
        "outputId": "b6f6b765-0274-450e-f81c-9ce790dbcdd5",
        "colab": {
          "base_uri": "https://localhost:8080/",
          "height": 34
        }
      },
      "source": [
        "print(P[4,:])"
      ],
      "execution_count": null,
      "outputs": [
        {
          "output_type": "stream",
          "text": [
            "[0.000 -1.000 0.000 -1.000 4.000 -1.000 0.000 -1.000 0.000 0.000]\n"
          ],
          "name": "stdout"
        }
      ]
    },
    {
      "cell_type": "markdown",
      "metadata": {
        "id": "N5FBEBdwQ43h"
      },
      "source": [
        "<p>No entanto os valores obtidos neste método convergiram, provando que mesmo o teste dando negativo ainda existe a chance de convergir, o jeito mais seguro de ter certeza seria comparando o resultado com outro método.</p>"
      ]
    },
    {
      "cell_type": "markdown",
      "metadata": {
        "id": "NLEcGyYNRMze"
      },
      "source": [
        "<center>\n",
        "  <h3>Método da Decomposição LU</h3>\n",
        "</center>\n",
        "<p>Este método é dividido em 2 grandes partes, a decomposição da matriz dos coeficientes dependentes chamada a seguir de A em duas outras chamdas L e U e a obtenção das raízes do sistema linear.</p>\n",
        "<p>Esse método não é muito recomendado pois exige um trabalho extra para obtenção das raizes. Caso mudássemos o lado que o gato saia para uma das outras 3 (Norte, Leste ou Oeste) não só os termos indepenentes mudariam como todo o sistema também mudaria exigindo que a decomposição seja feita novamente, sendo assim um trabalho desnecessário se comparado com outros métodos.</p>"
      ]
    },
    {
      "cell_type": "code",
      "metadata": {
        "id": "UusZvcriHi_u",
        "outputId": "5d82ce73-7451-4e4b-c489-0db0d6a3a568",
        "colab": {
          "base_uri": "https://localhost:8080/",
          "height": 323
        }
      },
      "source": [
        "A=np.array([[4,-1,0,-1,0,0,0,0,0],\n",
        "            [-1,4,-1,0,-1,0,0,0,0],\n",
        "            [0,-1,4,0,0,-1,0,0,0],\n",
        "            [-1,0,0,4,-1,0,-1,0,0],\n",
        "            [0,-1,0,-1,4,-1,0,-1,0],\n",
        "            [0,0,-1,0,-1,4,0,0,-1],\n",
        "            [0,0,0,-1,0,0,4,-1,0],\n",
        "            [0,0,0,0,-1,0,-1,4,-1],\n",
        "            [0,0,0,0,0,-1,0,-1,4]], dtype=float)                  #Matriz dos coeficientes\n",
        "\n",
        "B=np.array([[0],[0],[0],[0],[0],[0],[1],[1],[1]], dtype=float)    #Matriz dos termos independentes\n",
        "\n",
        "print(A)\n",
        "print(B)"
      ],
      "execution_count": null,
      "outputs": [
        {
          "output_type": "stream",
          "text": [
            "[[4.000 -1.000 0.000 -1.000 0.000 0.000 0.000 0.000 0.000]\n",
            " [-1.000 4.000 -1.000 0.000 -1.000 0.000 0.000 0.000 0.000]\n",
            " [0.000 -1.000 4.000 0.000 0.000 -1.000 0.000 0.000 0.000]\n",
            " [-1.000 0.000 0.000 4.000 -1.000 0.000 -1.000 0.000 0.000]\n",
            " [0.000 -1.000 0.000 -1.000 4.000 -1.000 0.000 -1.000 0.000]\n",
            " [0.000 0.000 -1.000 0.000 -1.000 4.000 0.000 0.000 -1.000]\n",
            " [0.000 0.000 0.000 -1.000 0.000 0.000 4.000 -1.000 0.000]\n",
            " [0.000 0.000 0.000 0.000 -1.000 0.000 -1.000 4.000 -1.000]\n",
            " [0.000 0.000 0.000 0.000 0.000 -1.000 0.000 -1.000 4.000]]\n",
            "[[0.000]\n",
            " [0.000]\n",
            " [0.000]\n",
            " [0.000]\n",
            " [0.000]\n",
            " [0.000]\n",
            " [1.000]\n",
            " [1.000]\n",
            " [1.000]]\n"
          ],
          "name": "stdout"
        }
      ]
    },
    {
      "cell_type": "code",
      "metadata": {
        "id": "zugkd_17IyMN",
        "outputId": "2ba4f35c-0158-4f24-c7ed-0c4d33bb04ac",
        "colab": {
          "base_uri": "https://localhost:8080/",
          "height": 170
        }
      },
      "source": [
        "def calcular_LU(M):\n",
        "  U=M.copy()\n",
        "  L=np.identity(U.shape[0])\n",
        "  \n",
        "  for j in range(U.shape[0]-1):\n",
        "    for i in range(j+1,U.shape[0]):\n",
        "        mul=U[i,j]/U[j,j]\n",
        "        U[i,:]=U[i,:]-U[j,:]*mul     #Transformação em triangular superior\n",
        "        L[i,j]=mul                   #Transformação em triangular inferior colocando os múltiplos na matriz\n",
        "        \n",
        "  return L, U\n",
        "\n",
        "L, U = calcular_LU(A)\n",
        "\n",
        "print(L.dot(U))                       #Ao multiplicar as matrizes L e U obtemos a matriz A original indicando que a decomposição está correta"
      ],
      "execution_count": null,
      "outputs": [
        {
          "output_type": "stream",
          "text": [
            "[[4.000 -1.000 0.000 -1.000 0.000 0.000 0.000 0.000 0.000]\n",
            " [-1.000 4.000 -1.000 0.000 -1.000 0.000 0.000 0.000 0.000]\n",
            " [0.000 -1.000 4.000 0.000 0.000 -1.000 0.000 0.000 0.000]\n",
            " [-1.000 0.000 0.000 4.000 -1.000 0.000 -1.000 0.000 0.000]\n",
            " [0.000 -1.000 0.000 -1.000 4.000 -1.000 0.000 -1.000 0.000]\n",
            " [0.000 0.000 -1.000 -0.000 -1.000 4.000 0.000 0.000 -1.000]\n",
            " [0.000 0.000 0.000 -1.000 0.000 -0.000 4.000 -1.000 0.000]\n",
            " [0.000 0.000 0.000 0.000 -1.000 -0.000 -1.000 4.000 -1.000]\n",
            " [0.000 0.000 0.000 0.000 0.000 -1.000 0.000 -1.000 4.000]]\n"
          ],
          "name": "stdout"
        }
      ]
    },
    {
      "cell_type": "code",
      "metadata": {
        "id": "yk2TDMOQH8OR"
      },
      "source": [
        "def calcular_Z(L,B):                        #Cálculo da matriz z dos resultados transitórios\n",
        "  Z=np.zeros(L.shape[0])\n",
        "\n",
        "  for i in range(L.shape[0]):\n",
        "    Z[i]=B[i]\n",
        "    \n",
        "    for j in range(i):\n",
        "      Z[i]=Z[i]-L[i,j]*Z[j]\n",
        "      \n",
        "  return Z\n",
        "\n",
        "def calcular_X(U,Z):                       #Cálculo das raizes do sitema linear\n",
        "  X=np.zeros(U.shape[0])\n",
        "\n",
        "  for i in range(U.shape[0]-1, -1, -1):\n",
        "    X[i]=Z[i]\n",
        "    \n",
        "    for j in range(i+1, U.shape[0]):\n",
        "      X[i]=X[i]-U[i,j]*X[j]\n",
        "    X[i]=X[i]/U[i,i]\n",
        "    \n",
        "  return X"
      ],
      "execution_count": null,
      "outputs": []
    },
    {
      "cell_type": "code",
      "metadata": {
        "id": "Q2kfJROuKPMb",
        "outputId": "2cd1e60f-58c9-463c-83c7-5120f4814f48",
        "colab": {
          "base_uri": "https://localhost:8080/",
          "height": 34
        }
      },
      "source": [
        "Z=calcular_Z(L,B)\n",
        "X=calcular_X(U,Z)\n",
        "print(X)                                 #Raizes de Pi em ordem crescente de i entre 1 e 9"
      ],
      "execution_count": null,
      "outputs": [
        {
          "output_type": "stream",
          "text": [
            "[0.071 0.098 0.071 0.188 0.250 0.188 0.429 0.527 0.429]\n"
          ],
          "name": "stdout"
        }
      ]
    },
    {
      "cell_type": "markdown",
      "metadata": {
        "id": "IO3mT38tXPlo"
      },
      "source": [
        "<center>\n",
        "  <h2>Análise dos Resutados</h2>\n",
        "</center>\n",
        "<p>Primeiro coloquemos os resultados em um gráfico de barras para melhor visualização dos resultados e traremos a <i>Figura 1</i> novamente.</p>\n",
        "\n",
        "<center>\n",
        "  <figure>\n",
        "    <img src=\"https://github.com/mickaelyoshua/Metodos_Numericos/blob/master/Sistemas%20Lineares/Captura%20de%20tela%202019-10-25%2010.25.36.png?raw=true\">\n",
        "    <figcaption>Figura 1 - Labirinto</figcaption>\n",
        "  </figure>\n",
        "</center>\n"
      ]
    },
    {
      "cell_type": "code",
      "metadata": {
        "id": "9VR6iK_oKXn6",
        "outputId": "7c0332ed-8cc1-4a4d-b819-c45de3c3c839",
        "colab": {
          "base_uri": "https://localhost:8080/",
          "height": 265
        }
      },
      "source": [
        "a=np.arange(9)\n",
        "plt.bar(a,X)\n",
        "plt.xticks(a, ('P1', 'P2', 'P3', 'P4', 'P5', 'P6', 'P7', 'P8', 'P9'))\n",
        "plt.show()"
      ],
      "execution_count": null,
      "outputs": [
        {
          "output_type": "display_data",
          "data": {
            "image/png": "[encoded data removed]",
            "text/plain": [
              "<Figure size 432x288 with 1 Axes>"
            ]
          },
          "metadata": {
            "tags": []
          }
        }
      ]
    },
    {
      "cell_type": "markdown",
      "metadata": {
        "id": "_U1dBKn0awlq"
      },
      "source": [
        "<p>A análise será feita das interseções que possuem menos chance do gato sair pelo lado sul até as que possuem mais chances e será feita de 3 em 3.</p>\n",
        "\n",
        "<h3>Interseções 1, 2 e 3:</h3>\n",
        "<p>São as 3 interseções com menor probabilidade do gato sair pelo lado sul do labirindo por serem as mais distantes, as 1 e 3 pussuem mesma probabilidade, pois estão em mesmas condições onde existem duas saídas para o lado errado e outras duas para outras interseções dando novas possibilidades. Diferente das 1 e 3, a 2 possui apenas uma saída para o lado errado lhe dando aumento de probabilidade.</p>\n",
        "\n",
        "<h3>Interseções 4, 5, e 6:</h3>\n",
        "<p>Possuem mais probabilidade do que as anteriores por estarem mais próximas do lado sul. As 4 e 6 possuem mesmas probabiliades por também estarem nas mesmas condições onde possuem uma saída para o lado errado, enquanto a de número 5 não possue nenhuma saída para o lado errado ou certo lhe dando um aumento de probabilidade.</p>\n",
        "\n",
        "<h3>Interseções 7, 8, e 9:</h3>\n",
        "<p>São as com maiores chances do gato sair pelo lado sul do labirinto por estarem mais próximas do mesmo lado. As chanches das 7 e 9 são iguais, pois possuem uma saída para o lado errado porém uma para o lado certo, mesmo a de número 8 possuindo também apenas uma saída para o lado desejado, suas outras levam para outras interseções dando um aumento de suas chances tornando-se a interseção com maior probabilidade.</p>"
      ]
    },
    {
      "cell_type": "markdown",
      "metadata": {
        "id": "6VeHEx7bfRCm"
      },
      "source": [
        "<center>\n",
        "  <h2>Conclusão</h2>\n",
        "</center>\n",
        "<p>Ao ser feita a observação dos resultados e as devidas análises conclui-se que quanto mais perto do centro do labirinto e quanto mais próximo do lado desejado, no nosso caso o sul, o gato estiver, maiores serão suas chances.</p>"
      ]
    },
    {
      "cell_type": "markdown",
      "metadata": {
        "id": "GbNPX3Fvf1fT"
      },
      "source": [
        "<center>\n",
        "  <h2>Referências</h2>\n",
        "</center>\n",
        "<p>FRANCO, Neide Maria Bertoldi. Cálculo Numérico. Universidade de São Paulo\n",
        "Instituto de Ciências Matemáticas e de Computação.</p>"
      ]
    }
  ]
}