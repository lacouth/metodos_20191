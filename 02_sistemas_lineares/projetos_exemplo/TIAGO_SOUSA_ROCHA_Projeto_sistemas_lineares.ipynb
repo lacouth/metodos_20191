{
  "nbformat": 4,
  "nbformat_minor": 0,
  "metadata": {
    "kernelspec": {
      "display_name": "Python 3",
      "language": "python",
      "name": "python3"
    },
    "language_info": {
      "codemirror_mode": {
        "name": "ipython",
        "version": 3
      },
      "file_extension": ".py",
      "mimetype": "text/x-python",
      "name": "python",
      "nbconvert_exporter": "python",
      "pygments_lexer": "ipython3",
      "version": "3.7.4"
    },
    "colab": {
      "name": "TIAGO_SOUSA_ROCHA_Projeto_sistemas_lineares.ipynb",
      "provenance": [],
      "collapsed_sections": []
    }
  },
  "cells": [
    {
      "cell_type": "code",
      "metadata": {
        "id": "2bh8cvfrAFj3"
      },
      "source": [
        "import numpy as np\n",
        "#import matplotlib.pyplot as plt\n",
        "#from scipy.linalg import lu, solve_triangular, solve\n",
        "\n",
        "np.set_printoptions(formatter={'float': lambda x: \"{:.3f}\".format(x)})"
      ],
      "execution_count": null,
      "outputs": []
    },
    {
      "cell_type": "markdown",
      "metadata": {
        "id": "E6Q7U_ReAFkK"
      },
      "source": [
        "# Projeto de Sistemas Lineares\n",
        "\n",
        "[Fonte - Problema 4](http://www.mtm.ufsc.br/~daniel/7105/Maria_Regina_Nunes_Lamin.PDF)\n",
        "\n",
        "Parabéns, o **Instituto Federal de Ciência e Tecnologia do Estado da Paraíba - IFPB** nomeou você para ser o tesoureiro das barracas de salgados durante a Gincana Estudantil que ocorrerá em **12/10/2019**. \n",
        "\n",
        "Estará sob sua responsabilidade 3 barracas de salgados que terão o mesmo cardápio, com os seguintes itens: *Cachorro-quente*, *Pastéis* e *Porções de batatas fritas*. O preço de cada item será o mesmo em qualquer uma das barracas de salgados.\n",
        "\n",
        "Após o evento, você terá de fazer um balanço sobre o consumo dos itens, e prestar contas dos rendimentos dos salgados.\n",
        "\n",
        "## O Problema\n",
        "\n",
        "Você não foi informado do preço de cada item disponível no cardápio. Os dados que te passaram foram as quantidades dos itens que foram vendidos em cada barraca, e o montante arrecadado em cada barraca.\n",
        "\n",
        "Precisamos saber o valor de cada item para passar a informação correta e completa para a organização do evento e para os responsáveis pela instituição de ensino **IFPB**.\n",
        "\n",
        "#### Dados:\n",
        "\n",
        "* Barraca de João Henrique foram vendidos 28 cachorros-quentes, 42 pastéis e 48 porções de batatas-fritas, com uma arrecadação total de 102,00 R$.\n",
        "\n",
        "* Barraca de Lucimara Alves foram consumidos 23 cachorros-quentes, 50 pastéis e 45 porções de batatas-fritas, com arrecadação total de 95,00 R$.\n",
        "\n",
        "* Barraca de Bianca Pachêco foram consumidos 30 cachorros-quentes, 45 pastéis e 60 porções de batatas-fritas, com arrecadação total de 117,00 R$.\n",
        "\n",
        "Para facilitar nossa análise faremos a substituição dos itens por siglas, tal que:\n",
        "\n",
        "* **$x_1$** - representará a quantidade de cachorros-quentes consumidos;\n",
        "* **$x_2$** - representará a quantidade de pastéis consumidos;\n",
        "* **$x_3$** - representará a quantidade de porções de batatas-fritas consumidas.\n",
        "\n",
        "Com isso, para resolvermos o nosso cálculo montaremos nosso sistema de equações lineares da seguinte forma:\n",
        "\n",
        "Barraca de João Henrique:  $ 28x_1 + 42x_2 + 48x_3 = 102,00 R$  $\n",
        "\n",
        "Barraca de Lucimara Alves: $ 23x_1 + 50x_2 + 45x_3 = 95,00 R$  $\n",
        "\n",
        "Barraca da Bianca: $ 30x_1 + 45x_2 + 60x_3 = 117,00 R$  $\n",
        "\n",
        "#### Sistema:\n",
        "\n",
        "\n",
        "$$ 28x_1 + 42x_2 + 48x_3 = 102,00 R$  $$\n",
        "$$ 23x_1 + 50x_2 + 45x_3 = 95,00 R$  $$\n",
        "$$ 30x_1 + 45x_2 + 60x_3 = 117,00 R$  $$\n",
        "\n"
      ]
    },
    {
      "cell_type": "markdown",
      "metadata": {
        "id": "9JNuo9BOAFkq"
      },
      "source": [
        "## Resolvendo o sistema utilizando Gauss Ingênuo\n",
        "\n",
        "\n",
        "#### Função: sistemalinear_gaussingenuo_etapa_eliminação ( matriz )\n",
        "\n",
        "Esta função fará a etapa de eliminação, transformando a matriz em uma matriz diagonal superior.\n"
      ]
    },
    {
      "cell_type": "code",
      "metadata": {
        "id": "lSbV7yX6gurk"
      },
      "source": [
        "def sistemalinear_gaussingenuo_etapa_eliminacao(matriz):\n",
        "  row = 0\n",
        "  col = 0\n",
        "  rowPivo = 0\n",
        "  colPivo = 0\n",
        "  posPivo = 0\n",
        "  \n",
        "  # Laço para a posição do pivô  \n",
        "  for posPivo in range (0, np.shape(matriz)[0] - 1 ):  \n",
        "    # Coleta o pivô\n",
        "    pivo = matriz[posPivo, posPivo]  \n",
        "    \n",
        "    # Percorre as linhas da matriz abaixo do pivo para calcular o multiplixador\n",
        "    for row in range (1+posPivo, np.shape(matriz)[0] ):\n",
        "      # Calcula o multiplicador M\n",
        "      multiply = matriz[row, posPivo] / pivo\n",
        "      \n",
        "      # Percorre as colunas da linha após a posição do pivô\n",
        "      for col in range (posPivo, np.shape(matriz)[1]):\n",
        "        # Calcula o valor da nova linha\n",
        "        matriz[row, col] = (matriz[row, col] - (matriz[posPivo, col] * multiply)) \n",
        "  # Retorna a matriz após a etapa de eliminação      \n",
        "  return matriz\n",
        "\n",
        "def imprimeResultados(matriz):\n",
        "  print(\"Preço dos itens:\")\n",
        "  print(\"Cachorro-quente = {}\".format(np.around(matriz[0], decimals=3)))\n",
        "  print(\"Pastel = {}\".format(np.around(matriz[1], decimals=3)))\n",
        "  print(\"Batatas-fritas = {}\".format(np.around(matriz[2], decimals=3)))"
      ],
      "execution_count": null,
      "outputs": []
    },
    {
      "cell_type": "markdown",
      "metadata": {
        "id": "N5OmcgiKg2nr"
      },
      "source": [
        "#### Função: sistemalinear_etapa_substituicao ( matriz )\n",
        "\n",
        "Essa função fará a substituição dos valores de X, resolvendo o sistema linear.\n",
        "\n",
        "**Observação**: Este método pode ser (e será) aplicado, isto é, re-utilizado, a outras metodologias, como por exemplo: Pivotação Parcial."
      ]
    },
    {
      "cell_type": "code",
      "metadata": {
        "id": "rEsbyuPDg3pL"
      },
      "source": [
        "def sistemalinear_etapa_substituicao(matriz):\n",
        "  x = []\n",
        "  sum = []\n",
        "  row = 0\n",
        "  col = 0\n",
        "  \n",
        "  # Popula o array X de acordo com o tamanho da matriz do sistema \n",
        "  for idx in range(0, np.shape(matriz)[0]):\n",
        "    x.append(0)\n",
        "    sum.append(0)\n",
        "  \n",
        "  # Percorre as linhas de forma decrescente\n",
        "  for row in range (np.shape(matriz)[0]-1, -1, -1):\n",
        "    # Faz o somatorio\n",
        "    sum[row] = 0\n",
        "    for col in range (np.shape(matriz)[0]):\n",
        "      #print(\"[{}, {}] Somatorio: {} += {} * {} \".format(row, col, sum[row], matriz[row, col], x[col]))\n",
        "      sum[row] += matriz[row, col] * x[col]\n",
        "      \n",
        "      \n",
        "    # Calcula o X\n",
        "    #print(\"\")\n",
        "    #print(\"[{}, {}] {} = ( ( {} - {} ) / {})\".format(row, col, x[row], matriz[row,(np.shape(matriz)[1] - 1)], sum[row], matriz[row,row]))\n",
        "    x[row] = (matriz[row,(np.shape(matriz)[1] - 1)] - sum[row]) / matriz[row,row]\n",
        "  \n",
        "  return x;"
      ],
      "execution_count": null,
      "outputs": []
    },
    {
      "cell_type": "markdown",
      "metadata": {
        "id": "jqwqKF8yhujt"
      },
      "source": [
        "#### Função: sistemalinear_calcula_por_gaussingenuo ()\n",
        "\n",
        "Esta função realiza as duas etapas, eliminação e substituição, utilizando o método Gauss Ingênuo, retornando os valores de $x_{1}, x_{2},...,x_{n}$"
      ]
    },
    {
      "cell_type": "code",
      "metadata": {
        "id": "xMYq8d6Ahwwb"
      },
      "source": [
        "def sistemalinear_calcula_por_gaussingenuo(matriz):\n",
        "  novamatriz = sistemalinear_gaussingenuo_etapa_eliminacao(matriz)\n",
        "  resultado = sistemalinear_etapa_substituicao(novamatriz)\n",
        "  return resultado;"
      ],
      "execution_count": null,
      "outputs": []
    },
    {
      "cell_type": "markdown",
      "metadata": {
        "id": "vwrJxD5wg7YI"
      },
      "source": [
        "### Resolução:"
      ]
    },
    {
      "cell_type": "code",
      "metadata": {
        "id": "Fz6W0sZxAFkv",
        "outputId": "79e86d1e-f872-4e03-a799-b0cafe433c5c",
        "colab": {
          "base_uri": "https://localhost:8080/",
          "height": 85
        }
      },
      "source": [
        "gaussing_matriz = np.array([[28,42,48,102],[23,50,45,95],[30,45,60,117]], dtype=float)\n",
        "gaussing_resultado = sistemalinear_calcula_por_gaussingenuo(gaussing_matriz)\n",
        "\n",
        "print(\"Preço dos itens:\")\n",
        "print(\"Cachorro-quente = {}\".format(np.around(gaussing_resultado[0], decimals=4)))\n",
        "print(\"Pastel = {}\".format(np.around(gaussing_resultado[1], decimals=4)))\n",
        "print(\"Batatas-fritas = {}\".format(np.around(gaussing_resultado[2], decimals=4)))"
      ],
      "execution_count": null,
      "outputs": [
        {
          "output_type": "stream",
          "text": [
            "Preço dos itens:\n",
            "Cachorro-quente = 1.5\n",
            "Pastel = 0.4\n",
            "Batatas-fritas = 0.9\n"
          ],
          "name": "stdout"
        }
      ]
    },
    {
      "cell_type": "markdown",
      "metadata": {
        "id": "psG0juVcAFmA"
      },
      "source": [
        "## Resolvendo o sistema utilizando Gauss com pivotação parcial\n",
        "\n",
        "#### Função: sistemalinear_pivotacaoparcial_etapa_eliminacao ( matriz )\n",
        "\n",
        "Essa função realiza a etapa de substituição utilizando o método da pivotação parcial.\n"
      ]
    },
    {
      "cell_type": "code",
      "metadata": {
        "id": "pgabF-nYUXiJ"
      },
      "source": [
        "def sistemalinear_pivotacaoparcial_etapa_eliminacao(matriz):\n",
        "  row = 0\n",
        "  col = 0\n",
        "  posPivo = 0\n",
        "  \n",
        "  # Reposiciona as equações para eliminar divisão por zero\n",
        "  for iPivo in range ( np.shape(matriz)[0] - 1 ):\n",
        "    # Encontra o maior número absoluto na linha para definir o pivo\n",
        "    if (np.argmax( np.abs( matriz[iPivo:,iPivo] ) ) != 0):\n",
        "      # Reposiciona\n",
        "      idxMax = iPivo + np.argmax( np.abs( matriz[iPivo:,iPivo] ) )\n",
        "      matriz[[iPivo,idxMax]] = matriz[[idxMax,iPivo]] \n",
        "      \n",
        "    pivo = matriz[iPivo, iPivo]  \n",
        "    \n",
        "    # Percorre as linhas\n",
        "    for row in range (iPivo + 1, np.shape(matriz)[0] ):\n",
        "      multiply = matriz[row, iPivo] / pivo\n",
        "      # Percorre as colunas da linha\n",
        "      for col in range (np.shape(matriz)[1]):\n",
        "        # Processa a linha\n",
        "        matriz[row, col] = matriz[row, col] - (matriz[iPivo, col] * multiply)    \n",
        "  \n",
        "  return matriz"
      ],
      "execution_count": null,
      "outputs": []
    },
    {
      "cell_type": "markdown",
      "metadata": {
        "id": "JfNRVe3qUWhn"
      },
      "source": [
        "#### Função: sistemalinear_calcula_por_pivotacaoparcial ()\n",
        "\n",
        "Esta função realiza as duas etapas, eliminação e substituição, utilizando o método da Pivotação Parcial, retornando os valores de $x_{1}, x_{2},...,x_{n}$"
      ]
    },
    {
      "cell_type": "code",
      "metadata": {
        "id": "FSECqUQwUees"
      },
      "source": [
        "def sistemalinear_calcula_por_pivotacaoparcial(matriz):\n",
        "  novamatriz = sistemalinear_pivotacaoparcial_etapa_eliminacao(matriz)\n",
        "  resultado = sistemalinear_etapa_substituicao(novamatriz)\n",
        "  return resultado"
      ],
      "execution_count": null,
      "outputs": []
    },
    {
      "cell_type": "markdown",
      "metadata": {
        "id": "0LIhNlGjU7tm"
      },
      "source": [
        "### Resolução:"
      ]
    },
    {
      "cell_type": "code",
      "metadata": {
        "id": "oPJuKLqiAFmF",
        "outputId": "d5b365c2-e6f5-4cf6-f931-e8833af4601a",
        "colab": {
          "base_uri": "https://localhost:8080/",
          "height": 85
        }
      },
      "source": [
        "pivotacao_matriz = np.array([[28,42,48,102],[23,50,45,95],[30,45,60,117]], dtype=float)\n",
        "pivotacao_resultado = sistemalinear_calcula_por_pivotacaoparcial(pivotacao_matriz)\n",
        "imprimeResultados(pivotacao_resultado)\n"
      ],
      "execution_count": null,
      "outputs": [
        {
          "output_type": "stream",
          "text": [
            "Preço dos itens:\n",
            "Cachorro-quente = 1.5\n",
            "Pastel = 0.4\n",
            "Batatas-fritas = 0.9\n"
          ],
          "name": "stdout"
        }
      ]
    },
    {
      "cell_type": "markdown",
      "metadata": {
        "id": "HTz6LmytAFmU"
      },
      "source": [
        "## Resolvendo o sistema utilizando Gauss-Seidel\n",
        "\n",
        "\n",
        "#### Função: sistemaslineares_verificaconvergencia_gaussseidel( matriz ) \n",
        "\n",
        "Essa função verifica se há convergência no sistema representado pela matriz passa como parâmetro.\n",
        "\n",
        "##### Retorno: \n",
        "\n",
        "* **1**: se há convergância \n",
        "* **0**: se não há.\n",
        "\n"
      ]
    },
    {
      "cell_type": "code",
      "metadata": {
        "id": "9fNzN7JqAFmZ"
      },
      "source": [
        "def sistemaslineares_verificaconvergencia_gaussseidel(matriz):\n",
        "  qty_itens_verdadeiro = 0\n",
        "  for row in range (0, np.shape(matriz)[0]):\n",
        "    somatorio_colunas = 0\n",
        "    diagonal = 0\n",
        "    \n",
        "    for col in range (0, np.shape(matriz)[1]):\n",
        "      if (row != col):\n",
        "        somatorio_colunas += np.abs(matriz[row, col])\n",
        "      else:\n",
        "        diagonal = matriz[row, col]\n",
        "    if (diagonal > somatorio_colunas):\n",
        "      qty_itens_verdadeiro += 1\n",
        "    \n",
        "  if (qty_itens_verdadeiro == np.shape(matriz)[0]):\n",
        "    return 1\n",
        "  \n",
        "  return 0"
      ],
      "execution_count": null,
      "outputs": []
    },
    {
      "cell_type": "markdown",
      "metadata": {
        "id": "Hp_V5SWpZgHG"
      },
      "source": [
        "#### Função: sistemaslineares_calcula_por_gaussseidel( matriz ) \n",
        "\n",
        "Essa função calcula um sistema linear utilizando o método iterativo Gauss-Seidel.\n",
        "\n",
        "##### Parâmetros:\n",
        "\n",
        "1. **matriz_coeficiente** - Matriz contendo os coeficientes do sistema linear\n",
        "2. **matriz_resultado** - Matriz contendo o resultado de cada sistema linear\n",
        "3. **xInicial** - Matriz com o chute inicial\n",
        "4. **ea** - Erro de Aproximação\n",
        "5. **maxiterations** - Número máximo de iterações\n",
        "\n",
        "##### Retornos:\n",
        "\n",
        "1. **x** - Array com os valores de X\n",
        "2. **erros** - Array com os erros de aproximação\n",
        "3. **iteracoes** - Número de iterações para tentar resolver o sistema"
      ]
    },
    {
      "cell_type": "code",
      "metadata": {
        "id": "wCSTIQLHZgnD"
      },
      "source": [
        "def sistemaslineares_calcula_por_gaussseidel(matriz_coeficientes, matriz_resultados, xInicial, ea=0.0001, maxiterations=100):\n",
        "  x = []\n",
        "  xPrevior = []\n",
        "  erro_ap = []\n",
        "  erros = []\n",
        "  positionMaxError = 0.0\n",
        "\n",
        "  # Popula o valor de X com valores iniciais \n",
        "  for idx in range(0, np.shape(matriz_coeficientes)[0]):\n",
        "    x.append(0)\n",
        "    xPrevior.append(0)\n",
        "    erro_ap.append(0)  \n",
        "  \n",
        "  # Atribui o primeiro chute\n",
        "  x[0] = xInicial\n",
        "  \n",
        "  for n in range (0, maxiterations):\n",
        "    for row in range (0, np.shape(matriz_coeficientes)[0]):\n",
        "      somatorio = 0;\n",
        "      xPrevior[row] = x[row]\n",
        "      for col in range (0, np.shape(matriz_coeficientes)[1]):\n",
        "        if (col != row):\n",
        "          somatorio += (matriz_coeficientes[row, col] * x[col])\n",
        "          \n",
        "      x[row] =  ( matriz_resultados[row] - ( somatorio ) ) / matriz_coeficientes[row, row]\n",
        "      erro_ap[row] = np.abs((x[row] - xPrevior[row])/x[row])*100\n",
        "      \n",
        "      positionMaxError = np.argmax( np.abs( erro_ap[0:] ) )\n",
        "      erros.append(erro_ap[positionMaxError])\n",
        "      if ( (erro_ap[positionMaxError] <= ea) | (n >= maxiterations) ):\n",
        "        return x, erros, n\n",
        "        \n",
        "  return x, erros, n"
      ],
      "execution_count": null,
      "outputs": []
    },
    {
      "cell_type": "markdown",
      "metadata": {
        "id": "0ZnTQ4cGaPYU"
      },
      "source": [
        "### Resolução:\n"
      ]
    },
    {
      "cell_type": "code",
      "metadata": {
        "id": "r0R_ZGvgaTgx",
        "outputId": "48bae7c2-d03d-4150-8a17-65584ceb8e39",
        "colab": {
          "base_uri": "https://localhost:8080/",
          "height": 85
        }
      },
      "source": [
        "gaussseidel_matriz_coef = np.array([[28,42,48],[23,50,45],[30,45,60]], dtype=float)\n",
        "gaussseidel_matriz_constantes = np.array([102,95,117], dtype=float)\n",
        "gaussseidel_resultado, erros, n = sistemaslineares_calcula_por_gaussseidel(gaussseidel_matriz_coef, gaussseidel_matriz_constantes, 1, 0.00001, 100)\n",
        "imprimeResultados(gaussseidel_resultado)"
      ],
      "execution_count": null,
      "outputs": [
        {
          "output_type": "stream",
          "text": [
            "Preço dos itens:\n",
            "Cachorro-quente = 1.5\n",
            "Pastel = 0.4\n",
            "Batatas-fritas = 0.9\n"
          ],
          "name": "stdout"
        }
      ]
    },
    {
      "cell_type": "markdown",
      "metadata": {
        "id": "3Fkt_aJPAFmo"
      },
      "source": [
        "# Mais trabalho para o novo tesoureiro\n",
        "\n",
        "Muito satisfeito com o trabalho que você apresentou a diretoria do **IFPB** solicitou, com o propósito de validar a metodologia utilizada para o cálculo, que você encontrasse o valor de cada salgado caso o montante arrecadado por cada barraca fosse conforme tabela abaixo:\n",
        "\n",
        "Situação|Barraca do João|Barraca da Lucimara|Barraca da Bianca\n",
        "-----|-----|-----|-----\n",
        "1|150,00|108,00|215,00\n",
        "2|65,00|72,00|48,00\n",
        "3|123,00|76,00|49,00\n",
        "\n",
        "\n",
        "\n",
        "\n",
        "## Situação 1:\n",
        "\n",
        "Barraca|Arrecadação\n",
        "-----|-----\n",
        "João|150,00\n",
        "Lucimara|108,00\n",
        "Bianca|215,00\n",
        "\n",
        "## Situação 2:\n",
        "\n",
        "Barraca|Arrecadação\n",
        "-----|-----\n",
        "João|65,00\n",
        "Lucimara|72,00\n",
        "Bianca|48,00\n",
        "\n",
        "\n",
        "## Situação 3:\n",
        "\n",
        "Barraca|Arrecadação\n",
        "-----|-----\n",
        "João|123,00\n",
        "Lucimara|76,00\n",
        "Bianca|49,00\n",
        "\n",
        "\n",
        "# Análise\n",
        "\n",
        "Olhando os dados você percebe que quando você escreve o sistema de equações que a matriz de coeficientes é a mesma para todos as barracas, conforme solicitação da instituição, logo você lembra dos ensinamentos da disciplina de Cálculo Numérico, em especial, quando cursou com o professor @lacouth, e decide resolver os sistemas utilizando **Decomposição LU** \n",
        "\n",
        "\n",
        "Analisando os dados que a diretoria da instituição passou, você se lembra dos excelentes ensinamentos da disciplina de Cálculo Numérico, em especial, quando cursou com o professor @lacouth, e decide resolver os sistemas utilizando **Decomposição LU**, dessa forma agiliria bastante o processo para resolução desse sistema.\n",
        "\n",
        "## A Decomposição LU\n",
        "\n",
        "\n",
        "Deforma geral teremos um sistema da seguinte forma: $ [A].[X] = [B] $\n",
        "\n",
        "Para utilizarmos a metodologia da **Decomposição LU**, primeiramente iremos transformar a matriz de coeficientes do nosso sistema em duas matrizes: uma matriz triangular superior e a outra uma triangular inferior com os elementos da diagonal com valor 1.\n",
        "\n",
        "Chamaremos a matriz triangular superior de **U**, e a inferior de **L**.\n",
        "\n",
        "Então, teremos: $ [L].[U].[X] = [B] $\n",
        "\n",
        "Para resolvermos o sistema teremos duas partes:\n",
        "\n",
        "* A primeira parte é a decomposição propriamente dita.\n",
        "* A segunda parte é a resolução do seguinte sistema: \n",
        "$ \\left\\{\\begin{array}\n",
        "{rrr}\n",
        "[L].[Z] & = & [B] \\\\\n",
        "[U].[X] & = & [Z]\n",
        "\\end{array}\n",
        "\\right\\}\n",
        "$\n",
        "\n",
        "\n",
        "A primeira equação conseguiremos encontrar a matriz [Z] e com ela encontraremos a matriz [X] na segunda equação.\n",
        "\n"
      ]
    },
    {
      "cell_type": "markdown",
      "metadata": {
        "id": "1V9MH0EDRprv"
      },
      "source": [
        "#### Função: geraMatrizIdentidade(ordem):\n",
        "\n",
        "Essa função gera uma matriz identidade de ordem X, fundamental para a decomposição LU."
      ]
    },
    {
      "cell_type": "code",
      "metadata": {
        "id": "HubZiRW7RqGm"
      },
      "source": [
        "def geraMatrizIdentidade(ordem):\n",
        "  I = np.ones((ordem, ordem))\n",
        "  for linha in range (0, ordem):\n",
        "    for coluna in range (0, ordem):\n",
        "      if (linha == coluna):\n",
        "        I[linha, coluna] = 1\n",
        "      else:\n",
        "        I[linha, coluna] = 0\n",
        "  return I"
      ],
      "execution_count": null,
      "outputs": []
    },
    {
      "cell_type": "markdown",
      "metadata": {
        "id": "A6FkN4quQ6or"
      },
      "source": [
        "#### Função: sistemalinear_decomporLU(matriz):\n",
        "\n",
        "Esta função espera receber uma matriz de coeficientes e retornará duas matrizes: a primeira é uma matriz U do sistema, e a segunda é a matriz L."
      ]
    },
    {
      "cell_type": "code",
      "metadata": {
        "id": "KWI8cYo_AFmt"
      },
      "source": [
        "def sistemalinear_decomporLU(matriz):\n",
        "  posPivo = 0\n",
        "  row = 0\n",
        "  col = 0\n",
        "  multiply = []\n",
        "  idxMultiply = 0;\n",
        "  \n",
        "  #rowPivo = 0\n",
        "  #colPivo = 0\n",
        "  \n",
        "  # Prepara a matriz L\n",
        "  matriz_l = geraMatrizIdentidade(np.shape(matriz)[0])\n",
        "  \n",
        "  \n",
        "  # Laço para a posição do pivô  \n",
        "  for posPivo in range (0, np.shape(matriz)[0] - 1 ):  \n",
        "    # Coleta o pivô\n",
        "    pivo = matriz[posPivo, posPivo]  \n",
        "    #print(\"Pivô: {}\".format(pivo))\n",
        "    \n",
        "    # Percorre as linhas da matriz abaixo do pivo para calcular o multiplixador\n",
        "    for row in range (1+posPivo, np.shape(matriz)[0] ):\n",
        "      # Calcula o multiplicador M\n",
        "      multiply.append(matriz[row, posPivo] / pivo)\n",
        "      #print(\"Multiplicador[{}]: {}\".format(idxMultiply, multiply[idxMultiply]))\n",
        "      #print(\"Linha:{} e Coluna: {}\".format(row, col))\n",
        "      \n",
        "      \n",
        "      # Percorre as colunas da linha após a posição do pivô\n",
        "      for col in range (posPivo, np.shape(matriz)[1]):\n",
        "        # Calcula o valor da nova linha\n",
        "        matriz[row, col] = (matriz[row, col] - (matriz[posPivo, col] * multiply[idxMultiply])) \n",
        "      \n",
        "      idxMultiply += 1\n",
        "  \n",
        "  # Monta a matriz L\n",
        "  idxMultiply = 0;\n",
        "  for linha in range(1, len(multiply)):\n",
        "    for coluna in range(0, linha):\n",
        "      #print(\"Coloca multiplicador em: [{}, {}]\".format(linha, coluna))\n",
        "      matriz_l[linha, coluna] = multiply[idxMultiply]\n",
        "      idxMultiply += 1\n",
        "      \n",
        "  # Retorna a matriz após a etapa de eliminação      \n",
        "  return matriz, matriz_l\n"
      ],
      "execution_count": null,
      "outputs": []
    },
    {
      "cell_type": "markdown",
      "metadata": {
        "id": "PDh6c_6dRiXn"
      },
      "source": [
        "#### Função: sistemalinear_substituicao_LU(matriz):\n",
        "\n",
        "Esta função espera receber duas matrizes: uma matriz de coeficientes (L ou U) e uma matriz de constantes e retornará uma matriz com os valores para o X do sistema de equações lineares.\n",
        "\n",
        "**Parâmetros**:\n",
        "\n",
        "* **matrizcoef**: É a matriz de coeficiente (podendo ser L ou U)\n",
        "* **matrizconst**: É a matriz de constantes\n",
        "* **etapaU**: É um booleano para definir se a matriz de coeficiente é uma matriz L ou U. (verdadeiro significa que é U)"
      ]
    },
    {
      "cell_type": "code",
      "metadata": {
        "id": "Iz4h-h__Rjso"
      },
      "source": [
        "def sistemalinear_substituicao_LU(matrizcoef, matrizconst, etapaU=True):\n",
        "  x = []\n",
        "  sum = []\n",
        "  row = 0\n",
        "  col = 0\n",
        "  \n",
        "  # Popula o array X de acordo com o tamanho da matriz do sistema \n",
        "  for idx in range(0, np.shape(matrizcoef)[0]):\n",
        "    x.append(0)\n",
        "    sum.append(0)\n",
        "  if (etapaU==True):\n",
        "    #print(\"Etapa U\")\n",
        "    # Percorre as linhas de forma decrescente\n",
        "    for linha in range (np.shape(matrizcoef)[0]-1, -1, -1):\n",
        "      # Faz o somatorio\n",
        "      sum[linha] = 0\n",
        "      for coluna in range (np.shape(matrizcoef)[0]):\n",
        "        sum[linha] += matrizcoef[linha, coluna] * x[coluna]\n",
        "        \n",
        "      # Calcula o X\n",
        "      #sum[linha] += matrizconst[linha]\n",
        "      x[linha] = ( matrizconst[linha] - sum[linha] ) / matrizcoef[linha,linha]\n",
        "  else:\n",
        "    #print(\"Etapa L\")\n",
        "    # Percorre as linhas de forma decrescente\n",
        "    for linha in range (0, np.shape(matrizcoef)[0]):\n",
        "      # Faz o somatorio\n",
        "      sum[linha] = 0\n",
        "      for coluna in range (np.shape(matrizcoef)[0]):\n",
        "        sum[linha] += matrizcoef[linha, coluna] * x[coluna]\n",
        "        \n",
        "      # Calcula o X\n",
        "      #sum[linha] += matrizconst[linha]\n",
        "      x[linha] = ( matrizconst[linha] - sum[linha] ) / matrizcoef[linha,linha]\n",
        "      \n",
        "  return x;"
      ],
      "execution_count": null,
      "outputs": []
    },
    {
      "cell_type": "markdown",
      "metadata": {
        "id": "0397e-zVSyG9"
      },
      "source": [
        "### Primeira Parte\n",
        "\n",
        "Faremos a decomposição em duas matrizes: L e U, a partir da matriz de coeficiente."
      ]
    },
    {
      "cell_type": "code",
      "metadata": {
        "id": "moREJbCHUTc7",
        "outputId": "cf4518c1-c4c0-41ac-a450-43018b433418",
        "colab": {
          "base_uri": "https://localhost:8080/",
          "height": 170
        }
      },
      "source": [
        "# Define a matriz de coeficientes\n",
        "coeficientes = np.array([[28,42,48],[23,50,45],[30,45,60]], dtype=float)\n",
        "#\n",
        "matrizU, matrizL = sistemalinear_decomporLU(coeficientes)\n",
        "\n",
        "print(\"Matriz L:\")\n",
        "print(matrizL)\n",
        "print(\"\")\n",
        "print(\"Matriz U\")\n",
        "print(matrizU)"
      ],
      "execution_count": null,
      "outputs": [
        {
          "output_type": "stream",
          "text": [
            "Matriz L:\n",
            "[[1.000 0.000 0.000]\n",
            " [0.821 1.000 0.000]\n",
            " [1.071 0.000 1.000]]\n",
            "\n",
            "Matriz U\n",
            "[[28.000 42.000 48.000]\n",
            " [0.000 15.500 5.571]\n",
            " [0.000 0.000 8.571]]\n"
          ],
          "name": "stdout"
        }
      ]
    },
    {
      "cell_type": "markdown",
      "metadata": {
        "id": "tsqDny3lQ0Me"
      },
      "source": [
        "### Segunda Parte\n",
        "\n",
        "Iremos utilizar as matrizes L e U para encontrar a matriz Z e X para cada matriz de constantes contidas na tabela que foi passada pela instituição **IFPB**."
      ]
    },
    {
      "cell_type": "markdown",
      "metadata": {
        "id": "ifs3UEH2WEsW"
      },
      "source": [
        "### Situação 1:\n",
        "\n",
        "Barraca|Arrecadação\n",
        "-----|-----\n",
        "João|415,00\n",
        "Lucimara|392,00\n",
        "Bianca|487,50"
      ]
    },
    {
      "cell_type": "code",
      "metadata": {
        "id": "L03NCJFaAFm9",
        "outputId": "926ccb3b-0d94-4c20-ad82-b99889196a79",
        "colab": {
          "base_uri": "https://localhost:8080/",
          "height": 85
        }
      },
      "source": [
        "# Matriz de Constantes para a Situação 1\n",
        "matriz_situacao_1 = np.array([415,392,487,5], dtype=float)\n",
        "\n",
        "# Calcula a matriz Z\n",
        "matriz_Z = sistemalinear_substituicao_LU(matrizL, matriz_situacao_1, False)\n",
        "# Calcula a matriz X\n",
        "matriz_X = sistemalinear_substituicao_LU(matrizU, matriz_Z, True)\n",
        "imprimeResultados(matriz_X)"
      ],
      "execution_count": null,
      "outputs": [
        {
          "output_type": "stream",
          "text": [
            "Preço dos itens:\n",
            "Cachorro-quente = 4.069\n",
            "Pastel = 1.521\n",
            "Batatas-fritas = 4.942\n"
          ],
          "name": "stdout"
        }
      ]
    },
    {
      "cell_type": "markdown",
      "metadata": {
        "id": "xhwpA1GjQ4Nl"
      },
      "source": [
        "\n",
        "### Situação 2:\n",
        "\n",
        "Barraca|Arrecadação\n",
        "-----|-----\n",
        "João|504,00\n",
        "Lucimara|484,00\n",
        "Bianca|600,00\n",
        "\n",
        "\n"
      ]
    },
    {
      "cell_type": "code",
      "metadata": {
        "id": "RLNTz2cUAFnO",
        "outputId": "f4df7fe7-1c28-4efb-c3a9-87ff6e97ab6b",
        "colab": {
          "base_uri": "https://localhost:8080/",
          "height": 85
        }
      },
      "source": [
        "# Matriz de Constantes para a Situação 2\n",
        "matriz_situacao_2 = np.array([504,484,600], dtype=float)\n",
        "\n",
        "# Calcula a matriz Z\n",
        "matriz_Z = sistemalinear_substituicao_LU(matrizL, matriz_situacao_2, False)\n",
        "# Calcula a matriz X\n",
        "matriz_X = sistemalinear_substituicao_LU(matrizU, matriz_Z, True)\n",
        "imprimeResultados(matriz_X)"
      ],
      "execution_count": null,
      "outputs": [
        {
          "output_type": "stream",
          "text": [
            "Preço dos itens:\n",
            "Cachorro-quente = 3.0\n",
            "Pastel = 2.0\n",
            "Batatas-fritas = 7.0\n"
          ],
          "name": "stdout"
        }
      ]
    },
    {
      "cell_type": "markdown",
      "metadata": {
        "id": "16z0-hLfaJ0c"
      },
      "source": [
        "## Situação 3:\n",
        "\n",
        "Barraca|Arrecadação\n",
        "-----|-----\n",
        "João|408,00\n",
        "Lucimara|378,50\n",
        "Bianca|480,00"
      ]
    },
    {
      "cell_type": "code",
      "metadata": {
        "id": "Vot87_tLAFne",
        "outputId": "d8e564c4-ef81-455c-9f69-bce3373c342c",
        "colab": {
          "base_uri": "https://localhost:8080/",
          "height": 85
        }
      },
      "source": [
        "# Matriz de Constantes para a Situação 3\n",
        "matriz_situacao_3 = np.array([408,378.5,480], dtype=float)\n",
        "\n",
        "# Calcula a matriz Z\n",
        "matriz_Z = sistemalinear_substituicao_LU(matrizL, matriz_situacao_3, False)\n",
        "# Calcula a matriz X\n",
        "matriz_X = sistemalinear_substituicao_LU(matrizU, matriz_Z, True)\n",
        "imprimeResultados(matriz_X)"
      ],
      "execution_count": null,
      "outputs": [
        {
          "output_type": "stream",
          "text": [
            "Preço dos itens:\n",
            "Cachorro-quente = 4.5\n",
            "Pastel = 1.0\n",
            "Batatas-fritas = 5.0\n"
          ],
          "name": "stdout"
        }
      ]
    },
    {
      "cell_type": "markdown",
      "metadata": {
        "id": "BZC4Q9awAFsA"
      },
      "source": [
        "# Conclusão\n",
        "\n",
        "Todos os métodos utilizados na resolução desse sistema de equações lineares se mostraram competentes, porém, no quesito eficiência o método da decomposição LU se mostrou melhor que os demais, pois, re-utiliza a decomposição feita na primeira vez em todas as demais vezes que se precisar resolver o mesmo sistema com novos valores para a matriz de constantes.\n",
        "\n",
        "Com base na suposição que a diretoria do **IFPB** trouxe para os valores arrecadados em cada barraca conforme tabela supra citada, o método da decomposição LU apenas precisou executar a etapa de substituição. Isso o torna mais eficiente se tivermos que fazer essa operação para n vezes."
      ]
    }
  ]
}