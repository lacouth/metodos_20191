{
  "nbformat": 4,
  "nbformat_minor": 0,
  "metadata": {
    "colab": {
      "name": "Projeto_Sistemas_Lineares.ipynb",
      "provenance": [],
      "collapsed_sections": [
        "e8Qtf8oufxaR",
        "nypLK8pXgGwa",
        "_GJQF066gSkS",
        "ghD_sboHgtUS",
        "5w_gdJxpg4ub",
        "WuElm3WyjQqN"
      ]
    },
    "kernelspec": {
      "name": "python3",
      "display_name": "Python 3"
    }
  },
  "cells": [
    {
      "cell_type": "markdown",
      "metadata": {
        "id": "kbz1TpV7EzQk"
      },
      "source": [
        "#Análise das concentrações de componentes químicos em um sistema de reatores estacionários:\n",
        "<p align=\"justify\">Na química, define-se um sistema de reatores como sendo um grupo de recipientes, ligados entre si, onde ocorrem reações de troca de massa e calor. Chamasse um sistema de estacionário quando não há aumento e nem diminuição na massa nos reatores, ou seja, a soma das massas dos reagentes é igual a soma das massas dos produtos.</p>\n",
        "<p align=\"justify\"> As relações de entrada e saida de reatores podem ser descritas através de equações lineares, o que em casos simples são resolvidos facilmente, mas no mundo real, essas relações podem ser tão complexas que se torna impossivel  analisar-las manualmente. Isso torna a analise computacional uma ferramenta de grande valor para a engenharia química, nesse sentido, este projeto tem como objetivo analisar um sistemas de reatores estacionares e encontrar as concentrações de diversos elementos utilizados e produzidos nos reatores. </p> \n",
        "\n",
        "<h3 align=\"left\"> <b> Métodos utilizados: </b> </h3>\n",
        "<p align=\"justify\"> - Gauss ingênuo; </p>\n",
        "<p align=\"justify\"> - Gauss ingênuo com pivotamento; </p>\n",
        "<p align=\"justify\"> - Decomposição lu;</p>\n",
        "<p align=\"justify\"> - Gauss-Seidel. </p>\n",
        "\n",
        "<h3 align=\"left\"> <b> Sistema utilizado: </b> </h3>\n",
        "\n",
        "\n",
        "<figure>\n",
        "<center>\n",
        "<img src=' data:image/png;base64,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'\n",
        "</figure>\n",
        "  \n",
        "<p align=\"justify\">As informações disponiveis para a analise são as vazões de cada tubo de ligação e as concetrações dos primeiros recipientes. Podemos então criar um sistema, utilizando a ideia da conservação da massa de reatores estacionarios, e associar todas essas informações. Abaixo estão todas as equações encontradas: \n",
        "</p>\n",
        "\n",
        "<p align=\"left\"> <b>Reator 1: </b> </p>\n",
        "$$ q_{0}c_{0} + q_{31}c_{3} = q_{12}c_{1} + q_{15}c_{1}\\\\\n",
        "  50+c_3= 3c_1 + 3c_1\\\\\n",
        "  -6c_1+c_3=-50\n",
        "$$\n",
        "<p align=\"left\"> <b>Reator 2: </b> \n",
        "</p>\n",
        "$$\n",
        "  q_{12}c_3=q_{25}c_2+q_{24}c_2+q_{23}c_2 \\\\\n",
        "3c_1=c_2+c_2+c_2 \\\\\n",
        "3c_1-3c_2=0\n",
        "$$\n",
        "\n",
        "<p align=\"left\"> <b>Reator 3: </b> </p>\n",
        "$$\n",
        "  q_{03}c_0 + q_{23}c_2 = q_{31}c_3 + q_{34}c_3 \\\\\n",
        "  160 + c_2 =c_3 + 8c_3 \\\\\n",
        "  c_2 - 9c_3 = -160\n",
        "$$\n",
        "<p align=\"left\"> <b>Reator 4: </b> </p>\n",
        "$$ q_{24}c_2 + q_{34}c_3 + q_{54}c_5 = q_{44}c_4 \\\\\n",
        "c_2 + 8c_3 + 2c_5 = 11c_4 \\\\\n",
        "c_2 + 8c_3 - 11c_4 + 2c_5 =0\n",
        "$$\n",
        "<p align=\"left\"> <b>Reator 5: </b> </p>\n",
        "$$ q_{15}c_{1} + q_{25}c_{2} = q_{55}c_{5} + q_{54}c_{5}\\\\\n",
        "  3c_1+c_2= 2c_5 + 2c_5\\\\\n",
        "  6c_1+c_2-4c_5=0\n",
        "$$\n",
        "\n",
        "\n",
        "<p align=\"left\"> <b> Resultando no sistema:</b> </p>\n",
        "\n",
        "$$\n",
        "  \\begin{bmatrix}-6c_1+c_3=-50\\\\\n",
        "  3c_1-3c_2=0 \\\\\n",
        "  c_2 - 9c_3 = -160 \\\\\n",
        "  c_2 + 8c_3 - 11c_4 + 2c_5 =0 \\\\\n",
        "  3c_1+c_2-4c_5=0\\end{bmatrix}\n",
        "$$"
      ]
    },
    {
      "cell_type": "markdown",
      "metadata": {
        "id": "UbtHBSTOekwH"
      },
      "source": [
        "##Funções:\n",
        "\n"
      ]
    },
    {
      "cell_type": "markdown",
      "metadata": {
        "id": "e8Qtf8oufxaR"
      },
      "source": [
        "### Teste:\n",
        "\n",
        "Função que multiplica o resultado obtido pela matriz A e verifica se o vetor resultante se aproximou do vetor B. "
      ]
    },
    {
      "cell_type": "code",
      "metadata": {
        "id": "o66P2s3gf4Ez"
      },
      "source": [
        "import numpy as np\n",
        "\n",
        "def test(ab,x,tol=.1):\n",
        "  b= ab[:,-1]\n",
        "  a= ab[:,:-1]\n",
        "  b_encontrado=np.dot(a,x)\n",
        "  b_encontrado-=b\n",
        "  for i in b_encontrado:\n",
        "    if abs(i)>tol:\n",
        "      return \"Errado!\"\n",
        "  return \"Correto!!\"\n",
        "\n",
        "def test_lu(a,b,x,tol=.1):  \n",
        "  b_encontrado=np.dot(a,x)\n",
        "  b_encontrado-=b\n",
        "  for i in b_encontrado:\n",
        "    if abs(i)>tol:\n",
        "      return \"Errado!\"\n",
        "  return \"Correto!!\"\n"
      ],
      "execution_count": null,
      "outputs": []
    },
    {
      "cell_type": "markdown",
      "metadata": {
        "id": "nypLK8pXgGwa"
      },
      "source": [
        "###Gauss Ingênuo:\n",
        "\n",
        "Implementação do método gauss ingênuo."
      ]
    },
    {
      "cell_type": "code",
      "metadata": {
        "id": "5Qdt_vGvgQwV"
      },
      "source": [
        "def gauss_ingenuo(ab):  \n",
        "  linhas=ab.shape[0]\n",
        "  x= np.zeros(linhas)\n",
        "  for i in range(linhas-1):\n",
        "    pivo=ab[i,i]\n",
        "    for j in range(i+1,linhas):\n",
        "        taxa=ab[j,i]/ab[i,i]\n",
        "        ab[j,:]-=taxa*ab[i,:]\n",
        "  for i in range(linhas-1,-1,-1): \n",
        "    ab[i,-1]/=ab[i,i]\n",
        "    x[i]=ab[i,-1]\n",
        "    ab[i,i]=1.0\n",
        "    for j in range(i):\n",
        "      ab[j,-1]-=x[i]*ab[j,i]\n",
        "      ab[j,i]=0\n",
        "  return x"
      ],
      "execution_count": null,
      "outputs": []
    },
    {
      "cell_type": "markdown",
      "metadata": {
        "id": "_GJQF066gSkS"
      },
      "source": [
        "### Pivoteamento:\n",
        "\n",
        "Implementação do método do pivoteamento e de funções auxiliares."
      ]
    },
    {
      "cell_type": "code",
      "metadata": {
        "id": "SDoYe16wgdsB"
      },
      "source": [
        "\n",
        "def pivotear(ab,i):\n",
        "  indice_pivo=np.argmax(ab[i:,i])+i\n",
        "  ab[[indice_pivo,i]]=ab[[i,indice_pivo]]\n",
        "  \n",
        "def pivoteamento(ab):  \n",
        "  linhas=ab.shape[0]\n",
        "  x= np.zeros(linhas)\n",
        "  for i in range(linhas-1):\n",
        "    pivotear(ab,i)\n",
        "    pivo=ab[i,i] \n",
        "    for j in range(i+1,linhas):\n",
        "        taxa=ab[j,i]/ab[i,i]\n",
        "        ab[j,:]-=taxa*ab[i,:]\n",
        "  for i in range(linhas-1,-1,-1): \n",
        "    ab[i,-1]/=ab[i,i]\n",
        "    x[i]=ab[i,-1]\n",
        "    ab[i,i]=1.0\n",
        "    for j in range(i):\n",
        "      ab[j,-1]-=x[i]*ab[j,i]\n",
        "      ab[j,i]=0\n",
        "  return x"
      ],
      "execution_count": null,
      "outputs": []
    },
    {
      "cell_type": "markdown",
      "metadata": {
        "id": "ghD_sboHgtUS"
      },
      "source": [
        "### Gauss-Seidel:\n",
        "\n",
        "Implementação do método de gauss seidel e de funções auxiliares, como a de calculo de erro."
      ]
    },
    {
      "cell_type": "code",
      "metadata": {
        "id": "ttY2K1nGgz42"
      },
      "source": [
        "def calc_error(x,x_ant):\n",
        "  error=np.zeros(len(x))\n",
        "  for i in range(len(x)):\n",
        "    error[i]=((x[i]-x_ant[i])*100/x[i])\n",
        "  return error\n",
        "\n",
        "def gauss_seidel(ab,tol=.001,it_max=100):\n",
        "  linhas=ab.shape[0]\n",
        "  error=np.zeros(linhas)\n",
        "  x=np.zeros(linhas)\n",
        "  for it in range(it_max):\n",
        "    x_ant=x.copy()\n",
        "    for i in range(linhas):\n",
        "      x[i]=ab[i,-1]\n",
        "      for j in range(linhas):\n",
        "        if j!=i:\n",
        "          x[i]-=ab[i,j]*x[j]\n",
        "      x[i]/=ab[i,i]\n",
        "    if it:\n",
        "      error=calc_error(x,x_ant)\n",
        "      if error.max()<tol:\n",
        "        break\n",
        "  return x"
      ],
      "execution_count": null,
      "outputs": []
    },
    {
      "cell_type": "markdown",
      "metadata": {
        "id": "5w_gdJxpg4ub"
      },
      "source": [
        "####Verificação de convergência e modifcação da matriz para o método de gauss-seidel:\n",
        "\n",
        "Funções utilizadas para verificar a o critério de convergencia para o método de gauss seidel. Uma função verifica apenas se é diagonal dominante, outra verifica se há a possibilidade de torna-la caso ainda não seja e a ultima função é responsavel por transformar a matriz em uma diagonal dominante."
      ]
    },
    {
      "cell_type": "code",
      "metadata": {
        "id": "eZhoNY4sjMiA"
      },
      "source": [
        "def verificar_dd(ab):\n",
        "  a=np.abs(ab[:,:-1].copy())\n",
        "  dim=a.shape[0]\n",
        "\n",
        "  for i in range(dim):\n",
        "    for j in range(dim):\n",
        "      if j!=i:\n",
        "        a[i,i]-=a[i,j]\n",
        "    if a[i,i]<=0:\n",
        "      return False\n",
        "  return True\n",
        "\n",
        "def Verificar_Convergencia(ab):\n",
        "  a=np.abs(ab[:,:-1].copy())\n",
        "  dim=a.shape[0]\n",
        "  aux=np.zeros(dim);\n",
        "  for i in range(dim):\n",
        "    for j in range (dim): \n",
        "      number=a[i,j]\n",
        "      for k in range(dim):\n",
        "        if k!=j:\n",
        "          number-=a[i,k]\n",
        "      if number>0:\n",
        "        aux[j]+=1\n",
        "        break\n",
        "  for it in aux:\n",
        "    if it!=1:\n",
        "      return False\n",
        "  mod_matriz(ab)\n",
        "  return True\n",
        "\n",
        "\n",
        "def mod_matriz(ab):\n",
        "  a=np.abs(ab[:,:-1].copy())\n",
        "  aux=ab.copy()\n",
        "  dim=a.shape[0]\n",
        "  for i in range(dim):\n",
        "    for j in range (dim):\n",
        "      number=a[i,j]\n",
        "      for k in range(dim):\n",
        "        if k!=j:\n",
        "          number-=a[i,k]\n",
        "      if number>0:\n",
        "        ab[j,:]=aux[i,:]\n",
        "        break"
      ],
      "execution_count": null,
      "outputs": []
    },
    {
      "cell_type": "markdown",
      "metadata": {
        "id": "WuElm3WyjQqN"
      },
      "source": [
        "###Decomposição LU:\n",
        "\n",
        "Implementação do método da decomposição LU."
      ]
    },
    {
      "cell_type": "code",
      "metadata": {
        "id": "LgO06oMOEgao"
      },
      "source": [
        "def calc_lu(a):\n",
        "  u=a.copy()\n",
        "  dim=u.shape[0]\n",
        "  l=np.identity(dim)\n",
        "  for i in range(dim-1):\n",
        "    pivo=u[i,i]\n",
        "    for j in range(i+1,dim):\n",
        "        taxa=u[j,i]/u[i,i]\n",
        "        u[j,:]-=taxa*u[i,:]\n",
        "        l[j,i]=taxa\n",
        "  return l,u\n",
        "\n",
        "def calc_d(l,b):\n",
        "  dim=l.shape[0]\n",
        "  d=np.zeros(dim)\n",
        "  for i in range(dim):\n",
        "    d[i]=b[i]\n",
        "    for k in range(i):\n",
        "      d[i]-=l[i,k]*d[k]\n",
        "  return d\n",
        "\n",
        "def calc_x(u,d):\n",
        "  dim=u.shape[0]\n",
        "  x=np.zeros(dim)\n",
        "  for i in range(dim-1,-1,-1):\n",
        "    x[i]=d[i]\n",
        "    for k in range(i+1,dim):\n",
        "      x[i]-=u[i,k]*x[k]\n",
        "    x[i]/=u[i,i]\n",
        "  return x"
      ],
      "execution_count": null,
      "outputs": []
    },
    {
      "cell_type": "markdown",
      "metadata": {
        "id": "ZewrNpuOjeVy"
      },
      "source": [
        "## Solução do sistema:"
      ]
    },
    {
      "cell_type": "markdown",
      "metadata": {
        "id": "f4-4BPharEG8"
      },
      "source": [
        "#### Método direto:"
      ]
    },
    {
      "cell_type": "code",
      "metadata": {
        "id": "J1Vyi5Qgjpnp",
        "outputId": "7e369a90-5f74-4712-f080-9a06c7863d2e",
        "colab": {
          "base_uri": "https://localhost:8080/",
          "height": 52
        }
      },
      "source": [
        "ab=np.array([[-6,0,1,0,0,-50],[3,-3,0,0,0,0],[0,1,-9,0,0,-160],[0,1,8,-11,2,0],[3,1,0,0,-4,0]],dtype=float)\n",
        "x_gi=gauss_ingenuo(ab)\n",
        "print(x_gi)\n",
        "print(test(ab, x_gi))"
      ],
      "execution_count": null,
      "outputs": [
        {
          "output_type": "stream",
          "text": [
            "[11.50943396 11.50943396 19.05660377 16.99828473 11.50943396]\n",
            "Correto!!\n"
          ],
          "name": "stdout"
        }
      ]
    },
    {
      "cell_type": "markdown",
      "metadata": {
        "id": "XonLFK-Oryon"
      },
      "source": [
        "A solução foi encontrada e verificada pela função teste, já que não houve nehum erro de divisão por zero, não é necesserario fazer o calculo com pivoteamento."
      ]
    },
    {
      "cell_type": "markdown",
      "metadata": {
        "id": "M4NmpsWorXQg"
      },
      "source": [
        "#### Método Iterativo:\n",
        "\n"
      ]
    },
    {
      "cell_type": "code",
      "metadata": {
        "id": "86ma36jmtNeC",
        "outputId": "0c3249b9-5fdb-4243-c360-34e32844c8b6",
        "colab": {
          "base_uri": "https://localhost:8080/",
          "height": 52
        }
      },
      "source": [
        "ab=np.array([[-6,0,1,0,0,-50],[3,-3,0,0,0,0],[0,1,-9,0,0,-160],[0,1,8,-11,2,0],[3,1,0,0,-4,0]],dtype=float)\n",
        "x_gs=gauss_seidel(ab)\n",
        "print(x_gs)\n",
        "print(test(ab,x_gs))"
      ],
      "execution_count": null,
      "outputs": [
        {
          "output_type": "stream",
          "text": [
            "[11.50943396 11.50943396 19.05660377 16.99828467 11.50943396]\n",
            "Correto!!\n"
          ],
          "name": "stdout"
        }
      ]
    },
    {
      "cell_type": "markdown",
      "metadata": {
        "id": "rLzXlkoRvQ-G"
      },
      "source": [
        "O método de gauss seidel convergiu e atingiu o resultado com a precisão necessária."
      ]
    },
    {
      "cell_type": "markdown",
      "metadata": {
        "id": "3JTJz8bOv7EI"
      },
      "source": [
        "####Método direto x Método Iterativo: \n",
        "\n",
        "Nenhum dos métodos apresentou erros de execução, como também chegaram ao resultado com precisão semelhante. Para esse sistema ambos os métodos tiveram bom desempenho."
      ]
    },
    {
      "cell_type": "markdown",
      "metadata": {
        "id": "nQR3WvLdx8Dt"
      },
      "source": [
        "### Utilizando Decomposição LU para multiplos casos de entrada:\n",
        "\n"
      ]
    },
    {
      "cell_type": "code",
      "metadata": {
        "id": "G0SLSLMQyTLe",
        "outputId": "1b4a3e51-7652-4820-826f-ba564e34652f",
        "colab": {
          "base_uri": "https://localhost:8080/",
          "height": 590
        }
      },
      "source": [
        "a=np.array([[-6,0,1,0,0],[3,-3,0,0,0],[0,1,-9,0,0],[0,1,8,-11,2],[3,1,0,0,-4]],dtype=float)\n",
        "b=np.array([[-50,0,160,0,0],[-30,0,120,0,0],[-25,0,80,0,0]],dtype=float)\n",
        "\n",
        "l,u=calc_lu(a)\n",
        "\n",
        "for i in range(3):\n",
        "  d=calc_d(l,b[i])\n",
        "  print(\"Calculo do X[{}]:\".format(i))\n",
        "  print(\"\\nArray B[{}]:\".format(i))\n",
        "  print(b[i])\n",
        "  print(\"\\nX[{}]:\".format(i))\n",
        "  x=calc_x(u,d)\n",
        "  print(x)\n",
        "  print(\"\\nResultado:\"+test_lu(a,b[i],x)+'\\n\\n')\n",
        "\n",
        "\n"
      ],
      "execution_count": null,
      "outputs": [
        {
          "output_type": "stream",
          "text": [
            "Calculo do X[0]:\n",
            "\n",
            "Array B[0]:\n",
            "[-50.   0. 160.   0.   0.]\n",
            "\n",
            "X[0]\n",
            "[  5.47169811   5.47169811 -17.16981132 -10.9948542    5.47169811]\n",
            "\n",
            "Resultado:Correto!!\n",
            "\n",
            "\n",
            "Calculo do X[1]:\n",
            "\n",
            "Array B[1]:\n",
            "[-30.   0. 120.   0.   0.]\n",
            "\n",
            "X[1]\n",
            "[  2.83018868   2.83018868 -13.01886792  -8.69639794   2.83018868]\n",
            "\n",
            "Resultado:Correto!!\n",
            "\n",
            "\n",
            "Calculo do X[2]:\n",
            "\n",
            "Array B[2]:\n",
            "[-25.   0.  80.   0.   0.]\n",
            "\n",
            "X[2]\n",
            "[ 2.73584906  2.73584906 -8.58490566 -5.4974271   2.73584906]\n",
            "\n",
            "Resultado:Correto!!\n",
            "\n",
            "\n"
          ],
          "name": "stdout"
        }
      ]
    },
    {
      "cell_type": "markdown",
      "metadata": {
        "id": "IAM_aGrO3FP1"
      },
      "source": [
        "#### Resultado Decomposição LU:\n",
        "\n",
        "<p align=\"justify\">O metodo da decomposição LU atigiu seu objetivo de calcular corretamente sistemas que compartilham a mesma matriz A mas que possui arrays b diferentes. O grande beneficio deste método em relação aos outros é que para situações como a acima a decomposição lu é mais eficiente já que reaproveita parte dos calculos, assim economizando parte do gasto computacional necessario para encontrar os resultados. </p>"
      ]
    }
  ]
}