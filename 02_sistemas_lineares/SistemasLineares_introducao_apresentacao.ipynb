{
 "cells": [
  {
   "cell_type": "code",
   "execution_count": 1,
   "metadata": {
    "slideshow": {
     "slide_type": "skip"
    }
   },
   "outputs": [],
   "source": [
    "import matplotlib.pyplot as plt \n",
    "plt.rcParams[\"figure.figsize\"] = (15,10) #configurando tamanho e fonte dos gráficos\n",
    "plt.rcParams.update({'font.size': 22})"
   ]
  },
  {
   "cell_type": "markdown",
   "metadata": {
    "slideshow": {
     "slide_type": "slide"
    }
   },
   "source": [
    "# Métodos Numéricos\n",
    "\n",
    "## Resolução de Sistemas Lineares\n",
    "\n",
    "### Patric Lacouth"
   ]
  },
  {
   "cell_type": "markdown",
   "metadata": {
    "slideshow": {
     "slide_type": "slide"
    }
   },
   "source": [
    "No módulo anterior, nós determinamos o valor de $x$ que satisfaz uma simples equação \n",
    "\n",
    "$$f(x) = 0$$"
   ]
  },
  {
   "cell_type": "markdown",
   "metadata": {
    "slideshow": {
     "slide_type": "slide"
    }
   },
   "source": [
    "Agora, vamos tratar o caso de determinar os valores de $x_1, x_2, \\dots , x_n$ que simultaneamente satisfaça o conjunto de equações:\n",
    "\n",
    "$$f_1(x_1, x_2, \\dots , x_n) = 0$$\n",
    "$$f_2(x_1, x_2, \\dots , x_n) = 0$$\n",
    "$$\\vdots$$\n",
    "$$f_n(x_1, x_2, \\dots , x_n) = 0$$"
   ]
  },
  {
   "cell_type": "markdown",
   "metadata": {
    "slideshow": {
     "slide_type": "slide"
    }
   },
   "source": [
    "# Exemplos de sistemas\n",
    "\n",
    "<img src = \"imagens/exemplo_sistemas.png\" width = 50% style = \"display:block; margin-left:auto;margin-right:auto;\" />\n",
    "<p> Copyright The McGraw-Hill Inc. Permissão para reprodução</p>"
   ]
  },
  {
   "cell_type": "markdown",
   "metadata": {
    "slideshow": {
     "slide_type": "slide"
    }
   },
   "source": [
    "# Montando um sistema"
   ]
  },
  {
   "cell_type": "markdown",
   "metadata": {
    "slideshow": {
     "slide_type": "slide"
    }
   },
   "source": [
    "<img src = \"imagens/falcon.jpg\" width = 50% style = \"display : block; margin-left : auto; margin-right : auto\"/>\n",
    "\n",
    "Parabéns, você foi contratado(a) como estagiário(a) da SpaceX (https://www.spacex.com), e o seu primeiro trabalho é monitorar a velocidade de lançamento do foguete durante um determinado estágio. "
   ]
  },
  {
   "cell_type": "markdown",
   "metadata": {
    "slideshow": {
     "slide_type": "slide"
    }
   },
   "source": [
    "## O Problema\n",
    "\n",
    "Apesar de ser uma empresa milionária você só tem um equipamento simples para medir a velocidade, que só faz medição em três instantes de tempo específicos.\n",
    "\n",
    "No primeiro lançamento você obtém os seguintes dados:\n",
    "\n",
    "tempo, t | velocidade, v\n",
    "-----|------\n",
    "(s)|(m/s)\n",
    "5|106.8\n",
    "8|177.2\n",
    "12|279.2"
   ]
  },
  {
   "cell_type": "markdown",
   "metadata": {
    "slideshow": {
     "slide_type": "slide"
    }
   },
   "source": [
    "Você então apresenta para o [Elon Musk](https://pt.wikipedia.org/wiki/Elon_Musk) o gráfico abaixo:"
   ]
  },
  {
   "cell_type": "code",
   "execution_count": 12,
   "metadata": {},
   "outputs": [
    {
     "data": {
      "image/png": "[encoded data removed]",
      "text/plain": [
       "<Figure size 1080x720 with 1 Axes>"
      ]
     },
     "metadata": {
      "needs_background": "light"
     },
     "output_type": "display_data"
    }
   ],
   "source": [
    "t = [5,8,12]\n",
    "v = [106.8, 177.2, 279.2]\n",
    "plt.xlabel('Tempo - s')\n",
    "plt.ylabel('Velocidade - m/s')\n",
    "plt.scatter(t,v,s=150) #s indica o tamanho dos pontos\n",
    "plt.grid(True)"
   ]
  },
  {
   "cell_type": "markdown",
   "metadata": {
    "cell_style": "center",
    "slideshow": {
     "slide_type": "slide"
    }
   },
   "source": [
    "Utilizando os seus conhecimento de cálculo numérico você resolve aproximar a velocidade por um polinômio de segundo grau:\n",
    "\n",
    "$$v(t) = at^2 + bt + c$$\n",
    "\n",
    "O problema passa a ser determinar os valores de $a$,$b$ e $c$. "
   ]
  },
  {
   "cell_type": "markdown",
   "metadata": {
    "cell_style": "center",
    "slideshow": {
     "slide_type": "slide"
    }
   },
   "source": [
    "Para resolver isso você escreve o polinômio utilizando os três pontos medidos $(t_1, v_1)$, $(t_2, v_2)$ e $(t_3, v_3)$ resultado em\n",
    "\n",
    "$$v(t_1) = v_1 = at^2_1 +bt_1 + c$$\n",
    "$$v(t_2) = v_2 = at^2_2 +bt_2 + c$$\n",
    "$$v(t_3) = v_3 = at^2_3 +bt_3 + c$$"
   ]
  },
  {
   "cell_type": "markdown",
   "metadata": {
    "cell_style": "split",
    "slideshow": {
     "slide_type": "slide"
    }
   },
   "source": [
    "Com os dados da tabela e o polinômio desejado\n",
    "\n",
    "tempo, t | velocidade, v\n",
    "-----|------\n",
    "(s)|(m/s)\n",
    "5|106.8\n",
    "8|177.2\n",
    "12|279.2\n",
    "\n",
    "$$v(t) = at^2 + bt + c$$"
   ]
  },
  {
   "cell_type": "markdown",
   "metadata": {
    "cell_style": "split",
    "slideshow": {
     "slide_type": "-"
    }
   },
   "source": [
    "após a substituição dos valores:\n",
    "\n",
    "$$25a + 5b + c = 106.8$$\n",
    "$$64a + 8b + c = 177.2$$\n",
    "$$144a + 12b + c = 279.2$$\n",
    "\n",
    "Logo você percebe que para determinar os coeficientes do polinômio basta resolver o sistema acima.\n"
   ]
  },
  {
   "cell_type": "markdown",
   "metadata": {
    "cell_style": "center",
    "slideshow": {
     "slide_type": "slide"
    }
   },
   "source": [
    "Com o sistema final\n",
    "\n",
    "$$25a + 5b + c = 106.8$$\n",
    "$$64a + 8b + c = 177.2$$\n",
    "$$144a + 12b + c = 279.2$$\n",
    "\n",
    "Basta agora saber como representar esse sistema de forma matricial e aplicar um método para encontrar os coeficientes (a,b,c)\n"
   ]
  },
  {
   "cell_type": "markdown",
   "metadata": {
    "slideshow": {
     "slide_type": "slide"
    }
   },
   "source": [
    "# Now, go code!"
   ]
  }
 ],
 "metadata": {
  "celltoolbar": "Slideshow",
  "kernelspec": {
   "display_name": "Python 3",
   "language": "python",
   "name": "python3"
  },
  "language_info": {
   "codemirror_mode": {
    "name": "ipython",
    "version": 3
   },
   "file_extension": ".py",
   "mimetype": "text/x-python",
   "name": "python",
   "nbconvert_exporter": "python",
   "pygments_lexer": "ipython3",
   "version": "3.7.4"
  },
  "rise": {
   "enable_chalkboard": true
  }
 },
 "nbformat": 4,
 "nbformat_minor": 2
}
