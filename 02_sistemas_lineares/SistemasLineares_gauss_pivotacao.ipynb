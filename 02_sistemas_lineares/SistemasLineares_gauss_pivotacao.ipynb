{
  "nbformat": 4,
  "nbformat_minor": 0,
  "metadata": {
    "celltoolbar": "Slideshow",
    "kernelspec": {
      "display_name": "Python 3",
      "language": "python",
      "name": "python3"
    },
    "language_info": {
      "codemirror_mode": {
        "name": "ipython",
        "version": 3
      },
      "file_extension": ".py",
      "mimetype": "text/x-python",
      "name": "python",
      "nbconvert_exporter": "python",
      "pygments_lexer": "ipython3",
      "version": "3.7.4"
    },
    "rise": {
      "enable_chalkboard": true
    },
    "colab": {
      "name": "SistemasLineares_gauss_pivotacao.ipynb",
      "provenance": [],
      "include_colab_link": true
    }
  },
  "cells": [
    {
      "cell_type": "markdown",
      "metadata": {
        "id": "view-in-github",
        "colab_type": "text"
      },
      "source": [
        "<a href=\"https://colab.research.google.com/github/lacouth/metodos_numericos/blob/master/02_sistemas_lineares/SistemasLineares_gauss_pivotacao.ipynb\" target=\"_parent\"><img src=\"https://colab.research.google.com/assets/colab-badge.svg\" alt=\"Open In Colab\"/></a>"
      ]
    },
    {
      "cell_type": "markdown",
      "metadata": {
        "id": "ZBh2hCLpiQMw",
        "colab_type": "text"
      },
      "source": [
        "# Métodos Numéricos\n",
        "\n",
        "## Resolução de Sistemas Lineares\n",
        "## O método de Gauss com pivotação\n",
        "\n",
        "### Patric Lacouth"
      ]
    },
    {
      "cell_type": "markdown",
      "metadata": {
        "cell_style": "split",
        "id": "WRG963AViQMy",
        "colab_type": "text"
      },
      "source": [
        "## O problema\n",
        "\n",
        "tempo, t | velocidade, v\n",
        "-----|------\n",
        "(s)|(m/s)\n",
        "5|106.8\n",
        "8|177.2\n",
        "12|279.2\n",
        "\n",
        "$$v(t) = at^2 + bt + c$$"
      ]
    },
    {
      "cell_type": "markdown",
      "metadata": {
        "cell_style": "split",
        "id": "rmQ72L5aiQMz",
        "colab_type": "text"
      },
      "source": [
        "## O sistema\n",
        "\n",
        "$$\\left\\{\\begin{matrix}\n",
        "25a & + & 5b & + & c & = & 106.8 \\\\ \n",
        "64a & + & 8b & + & c & = & 177.2 \\\\ \n",
        "144a & + & 12b & + & c & = & 279.2 \n",
        "\\end{matrix}\\right.$$"
      ]
    },
    {
      "cell_type": "markdown",
      "metadata": {
        "id": "j9d1peViiQM0",
        "colab_type": "text"
      },
      "source": [
        "## Sistemas Equivalentes"
      ]
    },
    {
      "cell_type": "markdown",
      "metadata": {
        "cell_style": "split",
        "id": "hl2NdyZziQM1",
        "colab_type": "text"
      },
      "source": [
        "$$\\left\\{\\begin{matrix}\n",
        "25a & + & 5b & + & c & = & 106.8 \\\\ \n",
        "64a & + & 8b & + & c & = & 177.2 \\\\ \n",
        "144a & + & 12b & + & c & = & 279.2 \n",
        "\\end{matrix}\\right.$$"
      ]
    },
    {
      "cell_type": "markdown",
      "metadata": {
        "cell_style": "split",
        "id": "2ZftkHnqiQM2",
        "colab_type": "text"
      },
      "source": [
        "$$\\left\\{\\begin{matrix}\n",
        "25a & + & 5b & + & c & = & 106.8 \\\\ \n",
        " &  & 4.80b & - & 1.56c & = & -96.21 \\\\ \n",
        " &  &  &  & 0.70c & = & 0.76 \n",
        "\\end{matrix}\\right.$$"
      ]
    },
    {
      "cell_type": "markdown",
      "metadata": {
        "id": "21xFAgXJiQM3",
        "colab_type": "text"
      },
      "source": [
        "# Operações elementares"
      ]
    },
    {
      "cell_type": "markdown",
      "metadata": {
        "id": "HGLZm9SZiQM4",
        "colab_type": "text"
      },
      "source": [
        "1. multiplicação de um linha por uma constante não nula."
      ]
    },
    {
      "cell_type": "markdown",
      "metadata": {
        "id": "Ay4uXfxkiQM5",
        "colab_type": "text"
      },
      "source": [
        "2. somar linhas."
      ]
    },
    {
      "cell_type": "markdown",
      "metadata": {
        "id": "Oa65JY-wiQM6",
        "colab_type": "text"
      },
      "source": [
        "3. permutação de duas linhas."
      ]
    },
    {
      "cell_type": "markdown",
      "metadata": {
        "id": "sCoM6Rm1iQM7",
        "colab_type": "text"
      },
      "source": [
        "# Implementando Gauss com pivotação em Python"
      ]
    },
    {
      "cell_type": "markdown",
      "metadata": {
        "id": "606B2UN7iQM8",
        "colab_type": "text"
      },
      "source": [
        "## Importando as bibliotecas"
      ]
    },
    {
      "cell_type": "code",
      "metadata": {
        "id": "5K15NZLmiQM9",
        "colab_type": "code",
        "colab": {}
      },
      "source": [
        "import numpy as np"
      ],
      "execution_count": null,
      "outputs": []
    },
    {
      "cell_type": "markdown",
      "metadata": {
        "id": "CW8gSjTuiQNE",
        "colab_type": "text"
      },
      "source": [
        "## Representando o sistema no python"
      ]
    },
    {
      "cell_type": "markdown",
      "metadata": {
        "id": "Lktk1I7_iQNF",
        "colab_type": "text"
      },
      "source": [
        "$$[AB] = \\left[ \\begin{matrix}\n",
        "25 & 5 & 1 & 106.8\\\\\n",
        "64 & 8 & 1 & 177.2\\\\\n",
        "144 & 12 & 1 & 279.2\n",
        "\\end{matrix} \\right]$$"
      ]
    },
    {
      "cell_type": "code",
      "metadata": {
        "id": "0LCgT0XUiQNG",
        "colab_type": "code",
        "colab": {},
        "outputId": "c58ed2ab-a5a9-457c-e2d7-6de1f156a4ba"
      },
      "source": [
        "AB = np.array([[25,5,1,106.8],[64,8,1,177.2],[144,12,1,279.2]], dtype = float)\n",
        "AB"
      ],
      "execution_count": null,
      "outputs": [
        {
          "output_type": "execute_result",
          "data": {
            "text/plain": [
              "array([[ 25. ,   5. ,   1. , 106.8],\n",
              "       [ 64. ,   8. ,   1. , 177.2],\n",
              "       [144. ,  12. ,   1. , 279.2]])"
            ]
          },
          "metadata": {
            "tags": []
          },
          "execution_count": 2
        }
      ]
    },
    {
      "cell_type": "markdown",
      "metadata": {
        "cell_style": "split",
        "id": "vNUMBkLtiQNM",
        "colab_type": "text"
      },
      "source": [
        "### Selecionando o primeiro pivô\n",
        "\n",
        "Vamos selecionar o elemento com maior valor absoluto na primeira coluna e trocar as linhas de posição"
      ]
    },
    {
      "cell_type": "markdown",
      "metadata": {
        "cell_style": "split",
        "id": "vGizjYwPiQNO",
        "colab_type": "text"
      },
      "source": [
        "$$[AB] = \\left[ \\begin{matrix}\n",
        "25 & 5 & 1 & 106.8\\\\\n",
        "64 & 8 & 1 & 177.2\\\\\n",
        "144 & 12 & 1 & 279.2\n",
        "\\end{matrix} \\right]$$"
      ]
    },
    {
      "cell_type": "code",
      "metadata": {
        "id": "39VWnb3piQNP",
        "colab_type": "code",
        "colab": {},
        "outputId": "fb0e1dfa-31f2-40c2-f1b9-223892a09123"
      },
      "source": [
        "idx = np.argmax(np.abs(AB[:,0]))\n",
        "idx"
      ],
      "execution_count": null,
      "outputs": [
        {
          "output_type": "execute_result",
          "data": {
            "text/plain": [
              "2"
            ]
          },
          "metadata": {
            "tags": []
          },
          "execution_count": 5
        }
      ]
    },
    {
      "cell_type": "code",
      "metadata": {
        "id": "aY5Sbq9uiQNU",
        "colab_type": "code",
        "colab": {},
        "outputId": "71f9d930-85f1-4ab2-ceab-4c524b099a8f"
      },
      "source": [
        "AB[[0,idx]] = AB[[idx,0]]\n",
        "AB"
      ],
      "execution_count": null,
      "outputs": [
        {
          "output_type": "execute_result",
          "data": {
            "text/plain": [
              "array([[144. ,  12. ,   1. , 279.2],\n",
              "       [ 64. ,   8. ,   1. , 177.2],\n",
              "       [ 25. ,   5. ,   1. , 106.8]])"
            ]
          },
          "metadata": {
            "tags": []
          },
          "execution_count": 6
        }
      ]
    },
    {
      "cell_type": "code",
      "metadata": {
        "id": "hecTjcdaiQNZ",
        "colab_type": "code",
        "colab": {},
        "outputId": "0572fce9-ad3a-45db-d8ac-9844d4871ad0"
      },
      "source": [
        "pivo = AB[0,0]\n",
        "pivo"
      ],
      "execution_count": null,
      "outputs": [
        {
          "output_type": "execute_result",
          "data": {
            "text/plain": [
              "144.0"
            ]
          },
          "metadata": {
            "tags": []
          },
          "execution_count": 7
        }
      ]
    },
    {
      "cell_type": "markdown",
      "metadata": {
        "cell_style": "split",
        "id": "ln7dmzt4iQNf",
        "colab_type": "text"
      },
      "source": [
        "Determinamos o primeiro multiplicador **m1** como sendo o elemento que queremos eliminar dividido pelo nosso pivô"
      ]
    },
    {
      "cell_type": "markdown",
      "metadata": {
        "cell_style": "split",
        "id": "ZGwE9vftiQNg",
        "colab_type": "text"
      },
      "source": [
        "$$[AB] = \\left[ \\begin{matrix}\n",
        "25 & 5 & 1 & 106.8\\\\\n",
        "64 & 8 & 1 & 177.2\\\\\n",
        "144 & 12 & 1 & 279.2\n",
        "\\end{matrix} \\right]$$"
      ]
    },
    {
      "cell_type": "code",
      "metadata": {
        "id": "LRJVw2Q8iQNh",
        "colab_type": "code",
        "colab": {},
        "outputId": "fe17da86-bbc6-4eda-8e79-50a3be3ce319"
      },
      "source": [
        "m1 = AB[1,0] / pivo\n",
        "m1"
      ],
      "execution_count": null,
      "outputs": [
        {
          "output_type": "execute_result",
          "data": {
            "text/plain": [
              "0.4444444444444444"
            ]
          },
          "metadata": {
            "tags": []
          },
          "execution_count": 8
        }
      ]
    },
    {
      "cell_type": "markdown",
      "metadata": {
        "cell_style": "split",
        "id": "eYWx74zEiQNl",
        "colab_type": "text"
      },
      "source": [
        "Para zerar o elemento abaixo do pivô iremos subtrair a sua linha pela linha do pivô multiplicada por **m1**"
      ]
    },
    {
      "cell_type": "markdown",
      "metadata": {
        "cell_style": "split",
        "id": "mtUdUEoLiQNm",
        "colab_type": "text"
      },
      "source": [
        "$$[AB] = \\left[ \\begin{matrix}\n",
        "25 & 5 & 1 & 106.8\\\\\n",
        "64 & 8 & 1 & 177.2\\\\\n",
        "144 & 12 & 1 & 279.2\n",
        "\\end{matrix} \\right]$$"
      ]
    },
    {
      "cell_type": "code",
      "metadata": {
        "id": "7Kta-lqNiQNn",
        "colab_type": "code",
        "colab": {}
      },
      "source": [
        "AB[1] = AB[1] - AB[0] * m1"
      ],
      "execution_count": null,
      "outputs": []
    },
    {
      "cell_type": "code",
      "metadata": {
        "id": "pB0ylzKMiQNr",
        "colab_type": "code",
        "colab": {},
        "outputId": "4ac8d37d-ea74-4e16-d217-ea36f0368e44"
      },
      "source": [
        "AB"
      ],
      "execution_count": null,
      "outputs": [
        {
          "output_type": "execute_result",
          "data": {
            "text/plain": [
              "array([[144.        ,  12.        ,   1.        , 279.2       ],\n",
              "       [  0.        ,   2.66666667,   0.55555556,  53.11111111],\n",
              "       [ 25.        ,   5.        ,   1.        , 106.8       ]])"
            ]
          },
          "metadata": {
            "tags": []
          },
          "execution_count": 10
        }
      ]
    },
    {
      "cell_type": "markdown",
      "metadata": {
        "id": "mgGc-PcRiQNx",
        "colab_type": "text"
      },
      "source": [
        "Para zerar o próximo elemento da coluna, precisamos de um novo multiplicador, **m2**, que será o próprio elemento dividido pelo pivô"
      ]
    },
    {
      "cell_type": "code",
      "metadata": {
        "id": "KxX5YmMliQNy",
        "colab_type": "code",
        "colab": {},
        "outputId": "5e6eae69-6e80-43ff-c0c0-19558601dd5d"
      },
      "source": [
        "AB"
      ],
      "execution_count": null,
      "outputs": [
        {
          "output_type": "execute_result",
          "data": {
            "text/plain": [
              "array([[144.        ,  12.        ,   1.        , 279.2       ],\n",
              "       [  0.        ,   2.66666667,   0.55555556,  53.11111111],\n",
              "       [ 25.        ,   5.        ,   1.        , 106.8       ]])"
            ]
          },
          "metadata": {
            "tags": []
          },
          "execution_count": 11
        }
      ]
    },
    {
      "cell_type": "code",
      "metadata": {
        "id": "ELZ0mTB5iQN2",
        "colab_type": "code",
        "colab": {},
        "outputId": "35059279-b11d-4cab-8226-1be0676f1429"
      },
      "source": [
        "m2 = AB[2,0] / pivo\n",
        "m2"
      ],
      "execution_count": null,
      "outputs": [
        {
          "output_type": "execute_result",
          "data": {
            "text/plain": [
              "0.1736111111111111"
            ]
          },
          "metadata": {
            "tags": []
          },
          "execution_count": 12
        }
      ]
    },
    {
      "cell_type": "markdown",
      "metadata": {
        "id": "0ALKcERziQN6",
        "colab_type": "text"
      },
      "source": [
        "Repetimos o processo de subtrair a linha na qual desejamos zerar o elemento pela linha do pivô multiplicada por **m2**"
      ]
    },
    {
      "cell_type": "code",
      "metadata": {
        "id": "T8t72vReiQN7",
        "colab_type": "code",
        "colab": {},
        "outputId": "a060f6cc-935b-4af1-8ce1-39ae91f2b03d"
      },
      "source": [
        "AB"
      ],
      "execution_count": null,
      "outputs": [
        {
          "output_type": "execute_result",
          "data": {
            "text/plain": [
              "array([[144.        ,  12.        ,   1.        , 279.2       ],\n",
              "       [  0.        ,   2.66666667,   0.55555556,  53.11111111],\n",
              "       [ 25.        ,   5.        ,   1.        , 106.8       ]])"
            ]
          },
          "metadata": {
            "tags": []
          },
          "execution_count": 13
        }
      ]
    },
    {
      "cell_type": "code",
      "metadata": {
        "id": "aKj1MZ2ciQOA",
        "colab_type": "code",
        "colab": {},
        "outputId": "aced949e-1875-472e-a9e2-d9aac4c62e3c"
      },
      "source": [
        "AB[2] = AB[2] - AB[0]*m2\n",
        "AB"
      ],
      "execution_count": null,
      "outputs": [
        {
          "output_type": "execute_result",
          "data": {
            "text/plain": [
              "array([[144.        ,  12.        ,   1.        , 279.2       ],\n",
              "       [  0.        ,   2.66666667,   0.55555556,  53.11111111],\n",
              "       [  0.        ,   2.91666667,   0.82638889,  58.32777778]])"
            ]
          },
          "metadata": {
            "tags": []
          },
          "execution_count": 14
        }
      ]
    },
    {
      "cell_type": "markdown",
      "metadata": {
        "id": "8E68xO5aiQOE",
        "colab_type": "text"
      },
      "source": [
        "## Selecionando o segundo pivô\n",
        "\n",
        "Vamos selecionar o elemento com maior valor absoluto na segunda coluna, desconsiderando as linhas dos pivôs anteriores, e trocar as linhas de posição"
      ]
    },
    {
      "cell_type": "code",
      "metadata": {
        "id": "_vgZgcEQiQOF",
        "colab_type": "code",
        "colab": {},
        "outputId": "bcf8e8a0-2c40-4d51-f142-d47827da6a00"
      },
      "source": [
        "AB"
      ],
      "execution_count": null,
      "outputs": [
        {
          "output_type": "execute_result",
          "data": {
            "text/plain": [
              "array([[144.        ,  12.        ,   1.        , 279.2       ],\n",
              "       [  0.        ,   2.66666667,   0.55555556,  53.11111111],\n",
              "       [  0.        ,   2.91666667,   0.82638889,  58.32777778]])"
            ]
          },
          "metadata": {
            "tags": []
          },
          "execution_count": 15
        }
      ]
    },
    {
      "cell_type": "code",
      "metadata": {
        "id": "wEWzVP_xiQOJ",
        "colab_type": "code",
        "colab": {},
        "outputId": "e7499a32-0748-4906-cb99-39dccd2fa75f"
      },
      "source": [
        "idx = np.argmax(np.abs(AB[1:,1])) + 1\n",
        "idx"
      ],
      "execution_count": null,
      "outputs": [
        {
          "output_type": "execute_result",
          "data": {
            "text/plain": [
              "2"
            ]
          },
          "metadata": {
            "tags": []
          },
          "execution_count": 18
        }
      ]
    },
    {
      "cell_type": "code",
      "metadata": {
        "id": "b4DI0giOiQOQ",
        "colab_type": "code",
        "colab": {},
        "outputId": "e4361156-a348-41f5-aeaa-218b8c573742"
      },
      "source": [
        "AB[[1,idx]] = AB[[idx,1]]\n",
        "pivo = AB[1,1]\n",
        "pivo"
      ],
      "execution_count": null,
      "outputs": [
        {
          "output_type": "execute_result",
          "data": {
            "text/plain": [
              "2.916666666666667"
            ]
          },
          "metadata": {
            "tags": []
          },
          "execution_count": 21
        }
      ]
    },
    {
      "cell_type": "markdown",
      "metadata": {
        "id": "v6H1tR6liQOU",
        "colab_type": "text"
      },
      "source": [
        "Nesta coluna temos que realizar apenas a eliminação de um elemento abaixo do pivô, repetimos o mesmo processo anterior, calculamos um multiplicador **m3** a partir da divisão do elemento a ser zerado pelo pivô"
      ]
    },
    {
      "cell_type": "code",
      "metadata": {
        "id": "RPVFCpaXiQOV",
        "colab_type": "code",
        "colab": {},
        "outputId": "7b69bc92-a582-4950-9130-05237c3fe5ed"
      },
      "source": [
        "AB"
      ],
      "execution_count": null,
      "outputs": [
        {
          "output_type": "execute_result",
          "data": {
            "text/plain": [
              "array([[144.        ,  12.        ,   1.        , 279.2       ],\n",
              "       [  0.        ,   2.91666667,   0.82638889,  58.32777778],\n",
              "       [  0.        ,   2.66666667,   0.55555556,  53.11111111]])"
            ]
          },
          "metadata": {
            "tags": []
          },
          "execution_count": 22
        }
      ]
    },
    {
      "cell_type": "code",
      "metadata": {
        "id": "lTgReE6yiQOZ",
        "colab_type": "code",
        "colab": {}
      },
      "source": [
        "m3 = AB[2,1] / pivo"
      ],
      "execution_count": null,
      "outputs": []
    },
    {
      "cell_type": "code",
      "metadata": {
        "id": "ly8O1Iz0iQOd",
        "colab_type": "code",
        "colab": {},
        "outputId": "ffbae5a0-b661-47ff-9ac4-7b9a82c22c2c"
      },
      "source": [
        "m3"
      ],
      "execution_count": null,
      "outputs": [
        {
          "output_type": "execute_result",
          "data": {
            "text/plain": [
              "0.9142857142857143"
            ]
          },
          "metadata": {
            "tags": []
          },
          "execution_count": 24
        }
      ]
    },
    {
      "cell_type": "markdown",
      "metadata": {
        "id": "dyPicoP7iQOh",
        "colab_type": "text"
      },
      "source": [
        "Com o multiplicador realizamos a operação na linha a ser modificada"
      ]
    },
    {
      "cell_type": "code",
      "metadata": {
        "id": "LA4ZXY5CiQOi",
        "colab_type": "code",
        "colab": {}
      },
      "source": [
        "AB[2] = AB[2] - AB[1]*m3"
      ],
      "execution_count": null,
      "outputs": []
    },
    {
      "cell_type": "code",
      "metadata": {
        "id": "LtmV3oRIiQOm",
        "colab_type": "code",
        "colab": {},
        "outputId": "095fccb2-4188-4254-b319-7ab4a3d64825"
      },
      "source": [
        "print(AB)"
      ],
      "execution_count": null,
      "outputs": [
        {
          "output_type": "stream",
          "text": [
            "[[ 1.44000000e+02  1.20000000e+01  1.00000000e+00  2.79200000e+02]\n",
            " [ 0.00000000e+00  2.91666667e+00  8.26388889e-01  5.83277778e+01]\n",
            " [ 0.00000000e+00  0.00000000e+00 -2.00000000e-01 -2.17142857e-01]]\n"
          ],
          "name": "stdout"
        }
      ]
    },
    {
      "cell_type": "markdown",
      "metadata": {
        "id": "BG7SNnQEiQOr",
        "colab_type": "text"
      },
      "source": [
        "## Substituição: encontrando os valores de x\n",
        "\n",
        "Para encontrar $x_3$ precisamos apenas resolver a equação representada pela última linha do sistema"
      ]
    },
    {
      "cell_type": "code",
      "metadata": {
        "id": "pO0dOsIUiQOr",
        "colab_type": "code",
        "colab": {},
        "outputId": "1153d93c-534d-4b15-e435-580ffd5d0d7f"
      },
      "source": [
        "x = np.zeros(3)\n",
        "print(AB)"
      ],
      "execution_count": null,
      "outputs": [
        {
          "output_type": "stream",
          "text": [
            "[[ 1.44000000e+02  1.20000000e+01  1.00000000e+00  2.79200000e+02]\n",
            " [ 0.00000000e+00  2.91666667e+00  8.26388889e-01  5.83277778e+01]\n",
            " [ 0.00000000e+00  0.00000000e+00 -2.00000000e-01 -2.17142857e-01]]\n"
          ],
          "name": "stdout"
        }
      ]
    },
    {
      "cell_type": "code",
      "metadata": {
        "id": "UaYOb8TsiQOw",
        "colab_type": "code",
        "colab": {},
        "outputId": "ab1bedc7-da8d-45be-b7f7-8512a5f0de36"
      },
      "source": [
        "x[2] = AB[2,3] / AB[2,2]\n",
        "x"
      ],
      "execution_count": null,
      "outputs": [
        {
          "output_type": "execute_result",
          "data": {
            "text/plain": [
              "array([0.        , 0.        , 1.08571429])"
            ]
          },
          "metadata": {
            "tags": []
          },
          "execution_count": 32
        }
      ]
    },
    {
      "cell_type": "markdown",
      "metadata": {
        "id": "5Lh4DutxiQOz",
        "colab_type": "text"
      },
      "source": [
        "### Encontrando o valor de $x_2$\n",
        "Com o valor de $x_3$ definido podemos encontrar $x_2$"
      ]
    },
    {
      "cell_type": "code",
      "metadata": {
        "id": "zYSCRcAIiQO0",
        "colab_type": "code",
        "colab": {},
        "outputId": "fd934767-7e36-425b-8af1-c0c1e76e3add"
      },
      "source": [
        "print(AB)"
      ],
      "execution_count": null,
      "outputs": [
        {
          "output_type": "stream",
          "text": [
            "[[ 1.44000000e+02  1.20000000e+01  1.00000000e+00  2.79200000e+02]\n",
            " [ 0.00000000e+00  2.91666667e+00  8.26388889e-01  5.83277778e+01]\n",
            " [ 0.00000000e+00  0.00000000e+00 -2.00000000e-01 -2.17142857e-01]]\n"
          ],
          "name": "stdout"
        }
      ]
    },
    {
      "cell_type": "code",
      "metadata": {
        "id": "1wYSRvfJiQO4",
        "colab_type": "code",
        "colab": {},
        "outputId": "d4308824-c3de-4694-b378-c859de74dc68"
      },
      "source": [
        "x[1] = (AB[1,3] - AB[1,2] * x[2]) / AB[1,1]\n",
        "x"
      ],
      "execution_count": null,
      "outputs": [
        {
          "output_type": "execute_result",
          "data": {
            "text/plain": [
              "array([ 0.        , 19.69047619,  1.08571429])"
            ]
          },
          "metadata": {
            "tags": []
          },
          "execution_count": 34
        }
      ]
    },
    {
      "cell_type": "markdown",
      "metadata": {
        "id": "OwswAzGtiQO7",
        "colab_type": "text"
      },
      "source": [
        "Agora com os dois valores de x podemos encontrar $x_1$"
      ]
    },
    {
      "cell_type": "code",
      "metadata": {
        "id": "eJxXyVXBiQO8",
        "colab_type": "code",
        "colab": {},
        "outputId": "5c91097d-ca1c-437a-8e20-1a9d8a2f574c"
      },
      "source": [
        "print(AB)"
      ],
      "execution_count": null,
      "outputs": [
        {
          "output_type": "stream",
          "text": [
            "[[ 1.44000000e+02  1.20000000e+01  1.00000000e+00  2.79200000e+02]\n",
            " [ 0.00000000e+00  2.91666667e+00  8.26388889e-01  5.83277778e+01]\n",
            " [ 0.00000000e+00  0.00000000e+00 -2.00000000e-01 -2.17142857e-01]]\n"
          ],
          "name": "stdout"
        }
      ]
    },
    {
      "cell_type": "code",
      "metadata": {
        "id": "ZGNe4SJNiQPB",
        "colab_type": "code",
        "colab": {},
        "outputId": "8ce54f3e-c95f-43f5-c8f9-afc8b6108096"
      },
      "source": [
        "x[0] = (AB[0,3] - AB[0,2] * x[2] - AB[0,1] * x[1]) / AB[0,0]\n",
        "x"
      ],
      "execution_count": null,
      "outputs": [
        {
          "output_type": "execute_result",
          "data": {
            "text/plain": [
              "array([ 0.29047619, 19.69047619,  1.08571429])"
            ]
          },
          "metadata": {
            "tags": []
          },
          "execution_count": 37
        }
      ]
    },
    {
      "cell_type": "markdown",
      "metadata": {
        "cell_style": "split",
        "id": "_FS84jgziQPF",
        "colab_type": "text"
      },
      "source": [
        "## Verificando a resposta\n",
        "\n",
        "Uma forma de testar se a resposta obtida está correta é fazer o produto de cada linha da matriz de coeficientes com o vetor de icógnitas e verificar se o resultado é igual ao vetor de constantes. \n"
      ]
    },
    {
      "cell_type": "markdown",
      "metadata": {
        "cell_style": "split",
        "id": "Evpvg1wliQPG",
        "colab_type": "text"
      },
      "source": [
        "$$\\left[ \\begin{matrix}\n",
        "25 & 5 & 1 \\\\\n",
        "64 & 8 & 1\\\\\n",
        "144 & 12 & 1\n",
        "\\end{matrix} \\right]\n",
        "\\left[ \\begin{matrix}\n",
        "x_{1}\\\\\n",
        "x_{2}\\\\\n",
        "x_{3}\n",
        "\\end{matrix} \\right]\n",
        "=\n",
        "\\left[ \\begin{matrix}\n",
        "106.8\\\\\n",
        "177.2\\\\\n",
        "279.2\n",
        "\\end{matrix} \\right]\n",
        "$$\n",
        "\n",
        "$$[A][x] = [b]$$"
      ]
    },
    {
      "cell_type": "code",
      "metadata": {
        "id": "X-cDgZ3kiQPG",
        "colab_type": "code",
        "colab": {},
        "outputId": "b4f0f0a9-fe72-4f28-c887-49006d5322c7"
      },
      "source": [
        "A = np.array([[25,5,1],[64,8,1],[144,12,1]])\n",
        "x"
      ],
      "execution_count": null,
      "outputs": [
        {
          "output_type": "execute_result",
          "data": {
            "text/plain": [
              "array([ 0.29047619, 19.69047619,  1.08571429])"
            ]
          },
          "metadata": {
            "tags": []
          },
          "execution_count": 40
        }
      ]
    },
    {
      "cell_type": "code",
      "metadata": {
        "id": "T9H0SzeyiQPK",
        "colab_type": "code",
        "colab": {},
        "outputId": "8e1f9f5d-9535-4f02-ea71-9471fc022d27"
      },
      "source": [
        "np.dot(A,x)"
      ],
      "execution_count": null,
      "outputs": [
        {
          "output_type": "execute_result",
          "data": {
            "text/plain": [
              "array([106.8, 177.2, 279.2])"
            ]
          },
          "metadata": {
            "tags": []
          },
          "execution_count": 39
        }
      ]
    },
    {
      "cell_type": "markdown",
      "metadata": {
        "id": "WfXk6M5ViQPO",
        "colab_type": "text"
      },
      "source": [
        "# Now, go code!"
      ]
    }
  ]
}