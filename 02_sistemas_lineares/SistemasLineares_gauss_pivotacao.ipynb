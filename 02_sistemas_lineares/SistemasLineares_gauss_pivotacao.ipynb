{
 "cells": [
  {
   "cell_type": "markdown",
   "metadata": {
    "slideshow": {
     "slide_type": "slide"
    }
   },
   "source": [
    "# Métodos Numéricos\n",
    "\n",
    "## Resolução de Sistemas Lineares\n",
    "## O método de Gauss com pivotação\n",
    "\n",
    "### Patric Lacouth"
   ]
  },
  {
   "cell_type": "markdown",
   "metadata": {
    "cell_style": "split",
    "slideshow": {
     "slide_type": "slide"
    }
   },
   "source": [
    "## O problema\n",
    "\n",
    "tempo, t | velocidade, v\n",
    "-----|------\n",
    "(s)|(m/s)\n",
    "5|106.8\n",
    "8|177.2\n",
    "12|279.2\n",
    "\n",
    "$$v(t) = at^2 + bt + c$$"
   ]
  },
  {
   "cell_type": "markdown",
   "metadata": {
    "cell_style": "split",
    "slideshow": {
     "slide_type": "fragment"
    }
   },
   "source": [
    "## O sistema\n",
    "\n",
    "$$\\left\\{\\begin{matrix}\n",
    "25a & + & 5b & + & c & = & 106.8 \\\\ \n",
    "64a & + & 8b & + & c & = & 177.2 \\\\ \n",
    "144a & + & 12b & + & c & = & 279.2 \n",
    "\\end{matrix}\\right.$$"
   ]
  },
  {
   "cell_type": "markdown",
   "metadata": {
    "slideshow": {
     "slide_type": "slide"
    }
   },
   "source": [
    "## Sistemas Equivalentes"
   ]
  },
  {
   "cell_type": "markdown",
   "metadata": {
    "cell_style": "split",
    "slideshow": {
     "slide_type": "fragment"
    }
   },
   "source": [
    "$$\\left\\{\\begin{matrix}\n",
    "25a & + & 5b & + & c & = & 106.8 \\\\ \n",
    "64a & + & 8b & + & c & = & 177.2 \\\\ \n",
    "144a & + & 12b & + & c & = & 279.2 \n",
    "\\end{matrix}\\right.$$"
   ]
  },
  {
   "cell_type": "markdown",
   "metadata": {
    "cell_style": "split",
    "slideshow": {
     "slide_type": "fragment"
    }
   },
   "source": [
    "$$\\left\\{\\begin{matrix}\n",
    "25a & + & 5b & + & c & = & 106.8 \\\\ \n",
    " &  & 4.80b & - & 1.56c & = & -96.21 \\\\ \n",
    " &  &  &  & 0.70c & = & 0.76 \n",
    "\\end{matrix}\\right.$$"
   ]
  },
  {
   "cell_type": "markdown",
   "metadata": {
    "slideshow": {
     "slide_type": "slide"
    }
   },
   "source": [
    "# Operações elementares"
   ]
  },
  {
   "cell_type": "markdown",
   "metadata": {
    "slideshow": {
     "slide_type": "fragment"
    }
   },
   "source": [
    "1. multiplicação de um linha por uma constante não nula."
   ]
  },
  {
   "cell_type": "markdown",
   "metadata": {
    "slideshow": {
     "slide_type": "fragment"
    }
   },
   "source": [
    "2. somar linhas."
   ]
  },
  {
   "cell_type": "markdown",
   "metadata": {
    "slideshow": {
     "slide_type": "fragment"
    }
   },
   "source": [
    "3. permutação de duas linhas."
   ]
  },
  {
   "cell_type": "markdown",
   "metadata": {
    "slideshow": {
     "slide_type": "slide"
    }
   },
   "source": [
    "# Implementando Gauss com pivotação em Python"
   ]
  },
  {
   "cell_type": "markdown",
   "metadata": {
    "slideshow": {
     "slide_type": "slide"
    }
   },
   "source": [
    "## Importando as bibliotecas"
   ]
  },
  {
   "cell_type": "code",
   "execution_count": 1,
   "metadata": {
    "slideshow": {
     "slide_type": "-"
    }
   },
   "outputs": [],
   "source": [
    "import numpy as np"
   ]
  },
  {
   "cell_type": "markdown",
   "metadata": {
    "slideshow": {
     "slide_type": "slide"
    }
   },
   "source": [
    "## Representando o sistema no python"
   ]
  },
  {
   "cell_type": "markdown",
   "metadata": {
    "slideshow": {
     "slide_type": "-"
    }
   },
   "source": [
    "$$[AB] = \\left[ \\begin{matrix}\n",
    "25 & 5 & 1 & 106.8\\\\\n",
    "64 & 8 & 1 & 177.2\\\\\n",
    "144 & 12 & 1 & 279.2\n",
    "\\end{matrix} \\right]$$"
   ]
  },
  {
   "cell_type": "code",
   "execution_count": 2,
   "metadata": {
    "slideshow": {
     "slide_type": "-"
    }
   },
   "outputs": [
    {
     "data": {
      "text/plain": [
       "array([[ 25. ,   5. ,   1. , 106.8],\n",
       "       [ 64. ,   8. ,   1. , 177.2],\n",
       "       [144. ,  12. ,   1. , 279.2]])"
      ]
     },
     "execution_count": 2,
     "metadata": {},
     "output_type": "execute_result"
    }
   ],
   "source": [
    "AB = np.array([[25,5,1,106.8],[64,8,1,177.2],[144,12,1,279.2]], dtype = float)\n",
    "AB"
   ]
  },
  {
   "cell_type": "markdown",
   "metadata": {
    "cell_style": "split",
    "slideshow": {
     "slide_type": "slide"
    }
   },
   "source": [
    "### Selecionando o primeiro pivô\n",
    "\n",
    "Vamos selecionar o elemento com maior valor absoluto na primeira coluna e trocar as linhas de posição"
   ]
  },
  {
   "cell_type": "markdown",
   "metadata": {
    "cell_style": "split",
    "slideshow": {
     "slide_type": "-"
    }
   },
   "source": [
    "$$[AB] = \\left[ \\begin{matrix}\n",
    "25 & 5 & 1 & 106.8\\\\\n",
    "64 & 8 & 1 & 177.2\\\\\n",
    "144 & 12 & 1 & 279.2\n",
    "\\end{matrix} \\right]$$"
   ]
  },
  {
   "cell_type": "code",
   "execution_count": 5,
   "metadata": {},
   "outputs": [
    {
     "data": {
      "text/plain": [
       "2"
      ]
     },
     "execution_count": 5,
     "metadata": {},
     "output_type": "execute_result"
    }
   ],
   "source": [
    "idx = np.argmax(np.abs(AB[:,0]))\n",
    "idx"
   ]
  },
  {
   "cell_type": "code",
   "execution_count": 6,
   "metadata": {},
   "outputs": [
    {
     "data": {
      "text/plain": [
       "array([[144. ,  12. ,   1. , 279.2],\n",
       "       [ 64. ,   8. ,   1. , 177.2],\n",
       "       [ 25. ,   5. ,   1. , 106.8]])"
      ]
     },
     "execution_count": 6,
     "metadata": {},
     "output_type": "execute_result"
    }
   ],
   "source": [
    "AB[[0,idx]] = AB[[idx,0]]\n",
    "AB"
   ]
  },
  {
   "cell_type": "code",
   "execution_count": 7,
   "metadata": {},
   "outputs": [
    {
     "data": {
      "text/plain": [
       "144.0"
      ]
     },
     "execution_count": 7,
     "metadata": {},
     "output_type": "execute_result"
    }
   ],
   "source": [
    "pivo = AB[0,0]\n",
    "pivo"
   ]
  },
  {
   "cell_type": "markdown",
   "metadata": {
    "cell_style": "split",
    "slideshow": {
     "slide_type": "slide"
    }
   },
   "source": [
    "Determinamos o primeiro multiplicador **m1** como sendo o elemento que queremos eliminar dividido pelo nosso pivô"
   ]
  },
  {
   "cell_type": "markdown",
   "metadata": {
    "cell_style": "split",
    "slideshow": {
     "slide_type": "-"
    }
   },
   "source": [
    "$$[AB] = \\left[ \\begin{matrix}\n",
    "25 & 5 & 1 & 106.8\\\\\n",
    "64 & 8 & 1 & 177.2\\\\\n",
    "144 & 12 & 1 & 279.2\n",
    "\\end{matrix} \\right]$$"
   ]
  },
  {
   "cell_type": "code",
   "execution_count": 8,
   "metadata": {},
   "outputs": [
    {
     "data": {
      "text/plain": [
       "0.4444444444444444"
      ]
     },
     "execution_count": 8,
     "metadata": {},
     "output_type": "execute_result"
    }
   ],
   "source": [
    "m1 = AB[1,0] / pivo\n",
    "m1"
   ]
  },
  {
   "cell_type": "markdown",
   "metadata": {
    "cell_style": "split",
    "slideshow": {
     "slide_type": "slide"
    }
   },
   "source": [
    "Para zerar o elemento abaixo do pivô iremos subtrair a sua linha pela linha do pivô multiplicada por **m1**"
   ]
  },
  {
   "cell_type": "markdown",
   "metadata": {
    "cell_style": "split",
    "slideshow": {
     "slide_type": "-"
    }
   },
   "source": [
    "$$[AB] = \\left[ \\begin{matrix}\n",
    "25 & 5 & 1 & 106.8\\\\\n",
    "64 & 8 & 1 & 177.2\\\\\n",
    "144 & 12 & 1 & 279.2\n",
    "\\end{matrix} \\right]$$"
   ]
  },
  {
   "cell_type": "code",
   "execution_count": 9,
   "metadata": {},
   "outputs": [],
   "source": [
    "AB[1] = AB[1] - AB[0] * m1"
   ]
  },
  {
   "cell_type": "code",
   "execution_count": 10,
   "metadata": {},
   "outputs": [
    {
     "data": {
      "text/plain": [
       "array([[144.        ,  12.        ,   1.        , 279.2       ],\n",
       "       [  0.        ,   2.66666667,   0.55555556,  53.11111111],\n",
       "       [ 25.        ,   5.        ,   1.        , 106.8       ]])"
      ]
     },
     "execution_count": 10,
     "metadata": {},
     "output_type": "execute_result"
    }
   ],
   "source": [
    "AB"
   ]
  },
  {
   "cell_type": "markdown",
   "metadata": {
    "slideshow": {
     "slide_type": "slide"
    }
   },
   "source": [
    "Para zerar o próximo elemento da coluna, precisamos de um novo multiplicador, **m2**, que será o próprio elemento dividido pelo pivô"
   ]
  },
  {
   "cell_type": "code",
   "execution_count": 11,
   "metadata": {},
   "outputs": [
    {
     "data": {
      "text/plain": [
       "array([[144.        ,  12.        ,   1.        , 279.2       ],\n",
       "       [  0.        ,   2.66666667,   0.55555556,  53.11111111],\n",
       "       [ 25.        ,   5.        ,   1.        , 106.8       ]])"
      ]
     },
     "execution_count": 11,
     "metadata": {},
     "output_type": "execute_result"
    }
   ],
   "source": [
    "AB"
   ]
  },
  {
   "cell_type": "code",
   "execution_count": 12,
   "metadata": {},
   "outputs": [
    {
     "data": {
      "text/plain": [
       "0.1736111111111111"
      ]
     },
     "execution_count": 12,
     "metadata": {},
     "output_type": "execute_result"
    }
   ],
   "source": [
    "m2 = AB[2,0] / pivo\n",
    "m2"
   ]
  },
  {
   "cell_type": "markdown",
   "metadata": {
    "slideshow": {
     "slide_type": "slide"
    }
   },
   "source": [
    "Repetimos o processo de subtrair a linha na qual desejamos zerar o elemento pela linha do pivô multiplicada por **m2**"
   ]
  },
  {
   "cell_type": "code",
   "execution_count": 13,
   "metadata": {},
   "outputs": [
    {
     "data": {
      "text/plain": [
       "array([[144.        ,  12.        ,   1.        , 279.2       ],\n",
       "       [  0.        ,   2.66666667,   0.55555556,  53.11111111],\n",
       "       [ 25.        ,   5.        ,   1.        , 106.8       ]])"
      ]
     },
     "execution_count": 13,
     "metadata": {},
     "output_type": "execute_result"
    }
   ],
   "source": [
    "AB"
   ]
  },
  {
   "cell_type": "code",
   "execution_count": 14,
   "metadata": {},
   "outputs": [
    {
     "data": {
      "text/plain": [
       "array([[144.        ,  12.        ,   1.        , 279.2       ],\n",
       "       [  0.        ,   2.66666667,   0.55555556,  53.11111111],\n",
       "       [  0.        ,   2.91666667,   0.82638889,  58.32777778]])"
      ]
     },
     "execution_count": 14,
     "metadata": {},
     "output_type": "execute_result"
    }
   ],
   "source": [
    "AB[2] = AB[2] - AB[0]*m2\n",
    "AB"
   ]
  },
  {
   "cell_type": "markdown",
   "metadata": {
    "slideshow": {
     "slide_type": "slide"
    }
   },
   "source": [
    "## Selecionando o segundo pivô\n",
    "\n",
    "Vamos selecionar o elemento com maior valor absoluto na segunda coluna, desconsiderando as linhas dos pivôs anteriores, e trocar as linhas de posição"
   ]
  },
  {
   "cell_type": "code",
   "execution_count": 15,
   "metadata": {},
   "outputs": [
    {
     "data": {
      "text/plain": [
       "array([[144.        ,  12.        ,   1.        , 279.2       ],\n",
       "       [  0.        ,   2.66666667,   0.55555556,  53.11111111],\n",
       "       [  0.        ,   2.91666667,   0.82638889,  58.32777778]])"
      ]
     },
     "execution_count": 15,
     "metadata": {},
     "output_type": "execute_result"
    }
   ],
   "source": [
    "AB"
   ]
  },
  {
   "cell_type": "code",
   "execution_count": 18,
   "metadata": {},
   "outputs": [
    {
     "data": {
      "text/plain": [
       "2"
      ]
     },
     "execution_count": 18,
     "metadata": {},
     "output_type": "execute_result"
    }
   ],
   "source": [
    "idx = np.argmax(np.abs(AB[1:,1])) + 1\n",
    "idx"
   ]
  },
  {
   "cell_type": "code",
   "execution_count": 21,
   "metadata": {},
   "outputs": [
    {
     "data": {
      "text/plain": [
       "2.916666666666667"
      ]
     },
     "execution_count": 21,
     "metadata": {},
     "output_type": "execute_result"
    }
   ],
   "source": [
    "AB[[1,idx]] = AB[[idx,1]]\n",
    "pivo = AB[1,1]\n",
    "pivo"
   ]
  },
  {
   "cell_type": "markdown",
   "metadata": {
    "slideshow": {
     "slide_type": "slide"
    }
   },
   "source": [
    "Nesta coluna temos que realizar apenas a eliminação de um elemento abaixo do pivô, repetimos o mesmo processo anterior, calculamos um multiplicador **m3** a partir da divisão do elemento a ser zerado pelo pivô"
   ]
  },
  {
   "cell_type": "code",
   "execution_count": 22,
   "metadata": {},
   "outputs": [
    {
     "data": {
      "text/plain": [
       "array([[144.        ,  12.        ,   1.        , 279.2       ],\n",
       "       [  0.        ,   2.91666667,   0.82638889,  58.32777778],\n",
       "       [  0.        ,   2.66666667,   0.55555556,  53.11111111]])"
      ]
     },
     "execution_count": 22,
     "metadata": {},
     "output_type": "execute_result"
    }
   ],
   "source": [
    "AB"
   ]
  },
  {
   "cell_type": "code",
   "execution_count": 23,
   "metadata": {},
   "outputs": [],
   "source": [
    "m3 = AB[2,1] / pivo"
   ]
  },
  {
   "cell_type": "code",
   "execution_count": 24,
   "metadata": {},
   "outputs": [
    {
     "data": {
      "text/plain": [
       "0.9142857142857143"
      ]
     },
     "execution_count": 24,
     "metadata": {},
     "output_type": "execute_result"
    }
   ],
   "source": [
    "m3"
   ]
  },
  {
   "cell_type": "markdown",
   "metadata": {
    "slideshow": {
     "slide_type": "slide"
    }
   },
   "source": [
    "Com o multiplicador realizamos a operação na linha a ser modificada"
   ]
  },
  {
   "cell_type": "code",
   "execution_count": 25,
   "metadata": {},
   "outputs": [],
   "source": [
    "AB[2] = AB[2] - AB[1]*m3"
   ]
  },
  {
   "cell_type": "code",
   "execution_count": 27,
   "metadata": {},
   "outputs": [
    {
     "name": "stdout",
     "output_type": "stream",
     "text": [
      "[[ 1.44000000e+02  1.20000000e+01  1.00000000e+00  2.79200000e+02]\n",
      " [ 0.00000000e+00  2.91666667e+00  8.26388889e-01  5.83277778e+01]\n",
      " [ 0.00000000e+00  0.00000000e+00 -2.00000000e-01 -2.17142857e-01]]\n"
     ]
    }
   ],
   "source": [
    "print(AB)"
   ]
  },
  {
   "cell_type": "markdown",
   "metadata": {
    "slideshow": {
     "slide_type": "slide"
    }
   },
   "source": [
    "## Substituição: encontrando os valores de x\n",
    "\n",
    "Para encontrar $x_3$ precisamos apenas resolver a equação representada pela última linha do sistema"
   ]
  },
  {
   "cell_type": "code",
   "execution_count": 31,
   "metadata": {},
   "outputs": [
    {
     "name": "stdout",
     "output_type": "stream",
     "text": [
      "[[ 1.44000000e+02  1.20000000e+01  1.00000000e+00  2.79200000e+02]\n",
      " [ 0.00000000e+00  2.91666667e+00  8.26388889e-01  5.83277778e+01]\n",
      " [ 0.00000000e+00  0.00000000e+00 -2.00000000e-01 -2.17142857e-01]]\n"
     ]
    }
   ],
   "source": [
    "x = np.zeros(3)\n",
    "print(AB)"
   ]
  },
  {
   "cell_type": "code",
   "execution_count": 32,
   "metadata": {},
   "outputs": [
    {
     "data": {
      "text/plain": [
       "array([0.        , 0.        , 1.08571429])"
      ]
     },
     "execution_count": 32,
     "metadata": {},
     "output_type": "execute_result"
    }
   ],
   "source": [
    "x[2] = AB[2,3] / AB[2,2]\n",
    "x"
   ]
  },
  {
   "cell_type": "markdown",
   "metadata": {
    "slideshow": {
     "slide_type": "slide"
    }
   },
   "source": [
    "### Encontrando o valor de $x_2$\n",
    "Com o valor de $x_3$ definido podemos encontrar $x_2$"
   ]
  },
  {
   "cell_type": "code",
   "execution_count": 33,
   "metadata": {},
   "outputs": [
    {
     "name": "stdout",
     "output_type": "stream",
     "text": [
      "[[ 1.44000000e+02  1.20000000e+01  1.00000000e+00  2.79200000e+02]\n",
      " [ 0.00000000e+00  2.91666667e+00  8.26388889e-01  5.83277778e+01]\n",
      " [ 0.00000000e+00  0.00000000e+00 -2.00000000e-01 -2.17142857e-01]]\n"
     ]
    }
   ],
   "source": [
    "print(AB)"
   ]
  },
  {
   "cell_type": "code",
   "execution_count": 34,
   "metadata": {},
   "outputs": [
    {
     "data": {
      "text/plain": [
       "array([ 0.        , 19.69047619,  1.08571429])"
      ]
     },
     "execution_count": 34,
     "metadata": {},
     "output_type": "execute_result"
    }
   ],
   "source": [
    "x[1] = (AB[1,3] - AB[1,2] * x[2]) / AB[1,1]\n",
    "x"
   ]
  },
  {
   "cell_type": "markdown",
   "metadata": {
    "slideshow": {
     "slide_type": "slide"
    }
   },
   "source": [
    "Agora com os dois valores de x podemos encontrar $x_1$"
   ]
  },
  {
   "cell_type": "code",
   "execution_count": 36,
   "metadata": {},
   "outputs": [
    {
     "name": "stdout",
     "output_type": "stream",
     "text": [
      "[[ 1.44000000e+02  1.20000000e+01  1.00000000e+00  2.79200000e+02]\n",
      " [ 0.00000000e+00  2.91666667e+00  8.26388889e-01  5.83277778e+01]\n",
      " [ 0.00000000e+00  0.00000000e+00 -2.00000000e-01 -2.17142857e-01]]\n"
     ]
    }
   ],
   "source": [
    "print(AB)"
   ]
  },
  {
   "cell_type": "code",
   "execution_count": 37,
   "metadata": {},
   "outputs": [
    {
     "data": {
      "text/plain": [
       "array([ 0.29047619, 19.69047619,  1.08571429])"
      ]
     },
     "execution_count": 37,
     "metadata": {},
     "output_type": "execute_result"
    }
   ],
   "source": [
    "x[0] = (AB[0,3] - AB[0,2] * x[2] - AB[0,1] * x[1]) / AB[0,0]\n",
    "x"
   ]
  },
  {
   "cell_type": "markdown",
   "metadata": {
    "cell_style": "split",
    "slideshow": {
     "slide_type": "slide"
    }
   },
   "source": [
    "## Verificando a resposta\n",
    "\n",
    "Uma forma de testar se a resposta obtida está correta é fazer o produto de cada linha da matriz de coeficientes com o vetor de icógnitas e verificar se o resultado é igual ao vetor de constantes. \n"
   ]
  },
  {
   "cell_type": "markdown",
   "metadata": {
    "cell_style": "split"
   },
   "source": [
    "$$\\left[ \\begin{matrix}\n",
    "25 & 5 & 1 \\\\\n",
    "64 & 8 & 1\\\\\n",
    "144 & 12 & 1\n",
    "\\end{matrix} \\right]\n",
    "\\left[ \\begin{matrix}\n",
    "x_{1}\\\\\n",
    "x_{2}\\\\\n",
    "x_{3}\n",
    "\\end{matrix} \\right]\n",
    "=\n",
    "\\left[ \\begin{matrix}\n",
    "106.8\\\\\n",
    "177.2\\\\\n",
    "279.2\n",
    "\\end{matrix} \\right]\n",
    "$$\n",
    "\n",
    "$$[A][x] = [b]$$"
   ]
  },
  {
   "cell_type": "code",
   "execution_count": 40,
   "metadata": {},
   "outputs": [
    {
     "data": {
      "text/plain": [
       "array([ 0.29047619, 19.69047619,  1.08571429])"
      ]
     },
     "execution_count": 40,
     "metadata": {},
     "output_type": "execute_result"
    }
   ],
   "source": [
    "A = np.array([[25,5,1],[64,8,1],[144,12,1]])\n",
    "x"
   ]
  },
  {
   "cell_type": "code",
   "execution_count": 39,
   "metadata": {},
   "outputs": [
    {
     "data": {
      "text/plain": [
       "array([106.8, 177.2, 279.2])"
      ]
     },
     "execution_count": 39,
     "metadata": {},
     "output_type": "execute_result"
    }
   ],
   "source": [
    "np.dot(A,x)"
   ]
  },
  {
   "cell_type": "markdown",
   "metadata": {
    "slideshow": {
     "slide_type": "slide"
    }
   },
   "source": [
    "# Now, go code!"
   ]
  }
 ],
 "metadata": {
  "celltoolbar": "Slideshow",
  "kernelspec": {
   "display_name": "Python 3",
   "language": "python",
   "name": "python3"
  },
  "language_info": {
   "codemirror_mode": {
    "name": "ipython",
    "version": 3
   },
   "file_extension": ".py",
   "mimetype": "text/x-python",
   "name": "python",
   "nbconvert_exporter": "python",
   "pygments_lexer": "ipython3",
   "version": "3.7.4"
  },
  "rise": {
   "enable_chalkboard": true
  }
 },
 "nbformat": 4,
 "nbformat_minor": 2
}
