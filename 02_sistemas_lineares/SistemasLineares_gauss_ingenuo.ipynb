{
 "cells": [
  {
   "cell_type": "markdown",
   "metadata": {
    "slideshow": {
     "slide_type": "slide"
    }
   },
   "source": [
    "# Métodos Numéricos\n",
    "\n",
    "## Resolução de Sistemas Lineares\n",
    "## O método de Gauss Ingênuo\n",
    "\n",
    "### Patric Lacouth"
   ]
  },
  {
   "cell_type": "markdown",
   "metadata": {
    "cell_style": "split",
    "slideshow": {
     "slide_type": "slide"
    }
   },
   "source": [
    "## O problema\n",
    "\n",
    "tempo, t | velocidade, v\n",
    "-----|------\n",
    "(s)|(m/s)\n",
    "5|106.8\n",
    "8|177.2\n",
    "12|279.2\n",
    "\n",
    "$$v(t) = at^2 + bt + c$$"
   ]
  },
  {
   "cell_type": "markdown",
   "metadata": {
    "cell_style": "split",
    "slideshow": {
     "slide_type": "fragment"
    }
   },
   "source": [
    "## O sistema\n",
    "\n",
    "$$\\left\\{\\begin{matrix}\n",
    "25a & + & 5b & + & c & = & 106.8 \\\\ \n",
    "64a & + & 8b & + & c & = & 177.2 \\\\ \n",
    "144a & + & 12b & + & c & = & 279.2 \n",
    "\\end{matrix}\\right.$$"
   ]
  },
  {
   "cell_type": "markdown",
   "metadata": {
    "slideshow": {
     "slide_type": "slide"
    }
   },
   "source": [
    "## Sistemas Equivalentes"
   ]
  },
  {
   "cell_type": "markdown",
   "metadata": {
    "cell_style": "split",
    "slideshow": {
     "slide_type": "fragment"
    }
   },
   "source": [
    "$$\\left\\{\\begin{matrix}\n",
    "25a & + & 5b & + & c & = & 106.8 \\\\ \n",
    "64a & + & 8b & + & c & = & 177.2 \\\\ \n",
    "144a & + & 12b & + & c & = & 279.2 \n",
    "\\end{matrix}\\right.$$"
   ]
  },
  {
   "cell_type": "markdown",
   "metadata": {
    "cell_style": "split",
    "slideshow": {
     "slide_type": "fragment"
    }
   },
   "source": [
    "$$\\left\\{\\begin{matrix}\n",
    "25a & + & 5b & + & c & = & 106.8 \\\\ \n",
    " &  & 4.80b & - & 1.56c & = & -96.21 \\\\ \n",
    " &  &  &  & 0.70c & = & 0.76 \n",
    "\\end{matrix}\\right.$$"
   ]
  },
  {
   "cell_type": "markdown",
   "metadata": {
    "cell_style": "center",
    "slideshow": {
     "slide_type": "slide"
    }
   },
   "source": [
    "# Método de Gauss Ingênuo"
   ]
  },
  {
   "cell_type": "markdown",
   "metadata": {
    "slideshow": {
     "slide_type": "fragment"
    }
   },
   "source": [
    "* Método **direto**"
   ]
  },
  {
   "cell_type": "markdown",
   "metadata": {
    "slideshow": {
     "slide_type": "fragment"
    }
   },
   "source": [
    "* Método matricial"
   ]
  },
  {
   "cell_type": "markdown",
   "metadata": {
    "slideshow": {
     "slide_type": "slide"
    }
   },
   "source": [
    "# As etapas"
   ]
  },
  {
   "cell_type": "markdown",
   "metadata": {
    "slideshow": {
     "slide_type": "fragment"
    }
   },
   "source": [
    "* Eliminação progressiva"
   ]
  },
  {
   "cell_type": "markdown",
   "metadata": {
    "cell_style": "split",
    "slideshow": {
     "slide_type": "fragment"
    }
   },
   "source": [
    " * Substituição retroativa"
   ]
  },
  {
   "cell_type": "markdown",
   "metadata": {
    "cell_style": "split",
    "slideshow": {
     "slide_type": "fragment"
    }
   },
   "source": [
    "<img src = \"imagens/exemplo_eliminacao.png\" width = 50% style = \"display : block; margin-right : auto; margin-left : auto;\" />"
   ]
  },
  {
   "cell_type": "markdown",
   "metadata": {
    "slideshow": {
     "slide_type": "slide"
    }
   },
   "source": [
    "# Operações elementares"
   ]
  },
  {
   "cell_type": "markdown",
   "metadata": {
    "slideshow": {
     "slide_type": "fragment"
    }
   },
   "source": [
    "1. multiplicação de um linha por uma constante não nula."
   ]
  },
  {
   "cell_type": "markdown",
   "metadata": {
    "slideshow": {
     "slide_type": "fragment"
    }
   },
   "source": [
    "2. somar linhas."
   ]
  },
  {
   "cell_type": "markdown",
   "metadata": {
    "slideshow": {
     "slide_type": "fragment"
    }
   },
   "source": [
    "3. permutação de duas linhas."
   ]
  },
  {
   "cell_type": "markdown",
   "metadata": {
    "slideshow": {
     "slide_type": "slide"
    }
   },
   "source": [
    "# Representação Matricial"
   ]
  },
  {
   "cell_type": "markdown",
   "metadata": {
    "cell_style": "split"
   },
   "source": [
    "$$\\left\\{\\begin{matrix}\n",
    "25x_1 & + & 5x_2 & + & x_3 & = & 106.8 \\\\ \n",
    "64x_1 & + & 8x_2 & + & x_3 & = & 177.2 \\\\ \n",
    "144x_1 & + & 12x_2 & + & x_3 & = & 279.2 \n",
    "\\end{matrix}\\right.$$"
   ]
  },
  {
   "cell_type": "markdown",
   "metadata": {
    "cell_style": "split",
    "slideshow": {
     "slide_type": "fragment"
    }
   },
   "source": [
    "$$\\left[ \\begin{matrix}\n",
    "25 & 5 & 1 \\\\\n",
    "64 & 8 & 1\\\\\n",
    "144 & 12 & 1\n",
    "\\end{matrix} \\right]\n",
    "\\left[ \\begin{matrix}\n",
    "x_{1}\\\\\n",
    "x_{2}\\\\\n",
    "x_{3}\n",
    "\\end{matrix} \\right]\n",
    "=\n",
    "\\left[ \\begin{matrix}\n",
    "106.8\\\\\n",
    "177.2\\\\\n",
    "279.2\n",
    "\\end{matrix} \\right]\n",
    "$$\n",
    "\n",
    "$$[A][x] = [b]$$"
   ]
  },
  {
   "cell_type": "markdown",
   "metadata": {
    "slideshow": {
     "slide_type": "slide"
    }
   },
   "source": [
    "# Matriz Estendida"
   ]
  },
  {
   "cell_type": "markdown",
   "metadata": {
    "slideshow": {
     "slide_type": "-"
    }
   },
   "source": [
    "como vamos fazer operações com as matrizes $[A]$ e $[b]$ no python podemos representar as duas matrizes através de uma matriz estendida que contém todos os valores\n",
    "\n"
   ]
  },
  {
   "cell_type": "markdown",
   "metadata": {
    "cell_style": "split",
    "slideshow": {
     "slide_type": "fragment"
    }
   },
   "source": [
    "$$\\left[ \\begin{matrix}\n",
    "25 & 5 & 1 \\\\\n",
    "64 & 8 & 1\\\\\n",
    "144 & 12 & 1\n",
    "\\end{matrix} \\right]\n",
    "\\left[ \\begin{matrix}\n",
    "x_{1}\\\\\n",
    "x_{2}\\\\\n",
    "x_{3}\n",
    "\\end{matrix} \\right]\n",
    "=\n",
    "\\left[ \\begin{matrix}\n",
    "106.8\\\\\n",
    "177.2\\\\\n",
    "279.2\n",
    "\\end{matrix} \\right]\n",
    "$$"
   ]
  },
  {
   "cell_type": "markdown",
   "metadata": {
    "cell_style": "split",
    "slideshow": {
     "slide_type": "fragment"
    }
   },
   "source": [
    "$$[AB] = \\left[ \\begin{matrix}\n",
    "25 & 5 & 1 & 106.8\\\\\n",
    "64 & 8 & 1 & 177.2\\\\\n",
    "144 & 12 & 1 & 279.2\n",
    "\\end{matrix} \\right]$$"
   ]
  },
  {
   "cell_type": "markdown",
   "metadata": {
    "slideshow": {
     "slide_type": "slide"
    }
   },
   "source": [
    "# O algoritmo da eliminação progressiva"
   ]
  },
  {
   "cell_type": "markdown",
   "metadata": {
    "cell_style": "split",
    "slideshow": {
     "slide_type": "-"
    }
   },
   "source": [
    "1. Determinar o **pivô**"
   ]
  },
  {
   "cell_type": "markdown",
   "metadata": {
    "cell_style": "split",
    "slideshow": {
     "slide_type": "-"
    }
   },
   "source": [
    "$$[AB] = \\left[ \\begin{matrix}\n",
    "25 & 5 & 1 & 106.8\\\\\n",
    "64 & 8 & 1 & 177.2\\\\\n",
    "144 & 12 & 1 & 279.2\n",
    "\\end{matrix} \\right]$$"
   ]
  },
  {
   "cell_type": "markdown",
   "metadata": {
    "slideshow": {
     "slide_type": "fragment"
    }
   },
   "source": [
    "2. Criar o multiplicador, **$m_x$** , para escalonar a linha"
   ]
  },
  {
   "cell_type": "markdown",
   "metadata": {
    "slideshow": {
     "slide_type": "fragment"
    }
   },
   "source": [
    "3. Subtrair a linha do elemento a ser zerado pela linha do pivô escalonada pelo multiplicador."
   ]
  },
  {
   "cell_type": "markdown",
   "metadata": {
    "slideshow": {
     "slide_type": "fragment"
    }
   },
   "source": [
    "4. Repetir o processo para todos os valores a serem eliminados"
   ]
  },
  {
   "cell_type": "markdown",
   "metadata": {
    "slideshow": {
     "slide_type": "slide"
    }
   },
   "source": [
    "# Implementando Gauss Ingênuo em Python"
   ]
  },
  {
   "cell_type": "markdown",
   "metadata": {
    "slideshow": {
     "slide_type": "slide"
    }
   },
   "source": [
    "## Importando as bibliotecas"
   ]
  },
  {
   "cell_type": "code",
   "execution_count": 12,
   "metadata": {
    "slideshow": {
     "slide_type": "-"
    }
   },
   "outputs": [],
   "source": [
    "import numpy as np"
   ]
  },
  {
   "cell_type": "markdown",
   "metadata": {
    "slideshow": {
     "slide_type": "slide"
    }
   },
   "source": [
    "## Representando o sistema no python"
   ]
  },
  {
   "cell_type": "markdown",
   "metadata": {
    "slideshow": {
     "slide_type": "-"
    }
   },
   "source": [
    "$$[AB] = \\left[ \\begin{matrix}\n",
    "25 & 5 & 1 & 106.8\\\\\n",
    "64 & 8 & 1 & 177.2\\\\\n",
    "144 & 12 & 1 & 279.2\n",
    "\\end{matrix} \\right]$$"
   ]
  },
  {
   "cell_type": "code",
   "execution_count": 13,
   "metadata": {
    "slideshow": {
     "slide_type": "-"
    }
   },
   "outputs": [
    {
     "data": {
      "text/plain": [
       "array([[ 25. ,   5. ,   1. , 106.8],\n",
       "       [ 64. ,   8. ,   1. , 177.2],\n",
       "       [144. ,  12. ,   1. , 279.2]])"
      ]
     },
     "execution_count": 13,
     "metadata": {},
     "output_type": "execute_result"
    }
   ],
   "source": [
    "AB = np.array([[25,5,1,106.8],[64,8,1,177.2],[144,12,1,279.2]], dtype = float)\n",
    "AB"
   ]
  },
  {
   "cell_type": "markdown",
   "metadata": {
    "cell_style": "split",
    "slideshow": {
     "slide_type": "slide"
    }
   },
   "source": [
    "### Selecionando o primeiro pivô\n",
    "\n",
    "Precisamos \"zerar\" os elementos abaixo do primeiro elemento da primeira coluna, para isso escolhemos o elemento $a_{11}$ como sendo o pivô que irá gerar o multiplicadores"
   ]
  },
  {
   "cell_type": "markdown",
   "metadata": {
    "cell_style": "split",
    "slideshow": {
     "slide_type": "-"
    }
   },
   "source": [
    "$$[AB] = \\left[ \\begin{matrix}\n",
    "25 & 5 & 1 & 106.8\\\\\n",
    "64 & 8 & 1 & 177.2\\\\\n",
    "144 & 12 & 1 & 279.2\n",
    "\\end{matrix} \\right]$$"
   ]
  },
  {
   "cell_type": "code",
   "execution_count": 14,
   "metadata": {},
   "outputs": [
    {
     "data": {
      "text/plain": [
       "25.0"
      ]
     },
     "execution_count": 14,
     "metadata": {},
     "output_type": "execute_result"
    }
   ],
   "source": [
    "pivo = AB[0,0]\n",
    "pivo"
   ]
  },
  {
   "cell_type": "markdown",
   "metadata": {
    "cell_style": "split",
    "slideshow": {
     "slide_type": "slide"
    }
   },
   "source": [
    "Determinamos o primeiro multiplicador **m1** como sendo o elemento que queremos eliminar dividido pelo nosso pivô"
   ]
  },
  {
   "cell_type": "markdown",
   "metadata": {
    "cell_style": "split",
    "slideshow": {
     "slide_type": "-"
    }
   },
   "source": [
    "$$[AB] = \\left[ \\begin{matrix}\n",
    "25 & 5 & 1 & 106.8\\\\\n",
    "64 & 8 & 1 & 177.2\\\\\n",
    "144 & 12 & 1 & 279.2\n",
    "\\end{matrix} \\right]$$"
   ]
  },
  {
   "cell_type": "code",
   "execution_count": 15,
   "metadata": {},
   "outputs": [
    {
     "data": {
      "text/plain": [
       "2.56"
      ]
     },
     "execution_count": 15,
     "metadata": {},
     "output_type": "execute_result"
    }
   ],
   "source": [
    "m1 = AB[1,0] / pivo\n",
    "m1"
   ]
  },
  {
   "cell_type": "markdown",
   "metadata": {
    "cell_style": "split",
    "slideshow": {
     "slide_type": "slide"
    }
   },
   "source": [
    "Para zerar o elemento abaixo do pivô iremos subtrair a sua linha pela linha do pivô multiplicada por **m1**"
   ]
  },
  {
   "cell_type": "markdown",
   "metadata": {
    "cell_style": "split",
    "slideshow": {
     "slide_type": "-"
    }
   },
   "source": [
    "$$[AB] = \\left[ \\begin{matrix}\n",
    "25 & 5 & 1 & 106.8\\\\\n",
    "64 & 8 & 1 & 177.2\\\\\n",
    "144 & 12 & 1 & 279.2\n",
    "\\end{matrix} \\right]$$"
   ]
  },
  {
   "cell_type": "code",
   "execution_count": 16,
   "metadata": {},
   "outputs": [],
   "source": [
    "AB[1,:] = AB[1,:] - AB[0,:]*m1"
   ]
  },
  {
   "cell_type": "code",
   "execution_count": 17,
   "metadata": {},
   "outputs": [
    {
     "data": {
      "text/plain": [
       "array([[ 25.   ,   5.   ,   1.   , 106.8  ],\n",
       "       [  0.   ,  -4.8  ,  -1.56 , -96.208],\n",
       "       [144.   ,  12.   ,   1.   , 279.2  ]])"
      ]
     },
     "execution_count": 17,
     "metadata": {},
     "output_type": "execute_result"
    }
   ],
   "source": [
    "AB"
   ]
  },
  {
   "cell_type": "markdown",
   "metadata": {
    "slideshow": {
     "slide_type": "slide"
    }
   },
   "source": [
    "Para zerar o próximo elemento da coluna, precisamos de um novo multiplicador, **m2**, que será o próprio elemento dividido pelo pivô"
   ]
  },
  {
   "cell_type": "code",
   "execution_count": 18,
   "metadata": {},
   "outputs": [
    {
     "data": {
      "text/plain": [
       "array([[ 25.   ,   5.   ,   1.   , 106.8  ],\n",
       "       [  0.   ,  -4.8  ,  -1.56 , -96.208],\n",
       "       [144.   ,  12.   ,   1.   , 279.2  ]])"
      ]
     },
     "execution_count": 18,
     "metadata": {},
     "output_type": "execute_result"
    }
   ],
   "source": [
    "AB"
   ]
  },
  {
   "cell_type": "code",
   "execution_count": 19,
   "metadata": {},
   "outputs": [
    {
     "data": {
      "text/plain": [
       "5.76"
      ]
     },
     "execution_count": 19,
     "metadata": {},
     "output_type": "execute_result"
    }
   ],
   "source": [
    "m2 = AB[2,0] / pivo\n",
    "m2"
   ]
  },
  {
   "cell_type": "markdown",
   "metadata": {
    "slideshow": {
     "slide_type": "slide"
    }
   },
   "source": [
    "Repetimos o processo de subtrair a linha na qual desejamos zerar o elemento pela linha do pivô multiplicada por **m2**"
   ]
  },
  {
   "cell_type": "code",
   "execution_count": 20,
   "metadata": {},
   "outputs": [],
   "source": [
    "AB[2,:] = AB[2,:] - AB[0,:] * m2"
   ]
  },
  {
   "cell_type": "code",
   "execution_count": 21,
   "metadata": {},
   "outputs": [
    {
     "data": {
      "text/plain": [
       "array([[  25.   ,    5.   ,    1.   ,  106.8  ],\n",
       "       [   0.   ,   -4.8  ,   -1.56 ,  -96.208],\n",
       "       [   0.   ,  -16.8  ,   -4.76 , -335.968]])"
      ]
     },
     "execution_count": 21,
     "metadata": {},
     "output_type": "execute_result"
    }
   ],
   "source": [
    "AB"
   ]
  },
  {
   "cell_type": "markdown",
   "metadata": {
    "slideshow": {
     "slide_type": "slide"
    }
   },
   "source": [
    "## Selecionando o segundo pivô\n",
    "\n",
    "Depois de \"eliminar\" os elementos da primeira coluna temos que continuar a eliminação na segunda coluna. O pivô agora passa a ser o elemento $a_{22}$ "
   ]
  },
  {
   "cell_type": "code",
   "execution_count": 22,
   "metadata": {},
   "outputs": [
    {
     "data": {
      "text/plain": [
       "array([[  25.   ,    5.   ,    1.   ,  106.8  ],\n",
       "       [   0.   ,   -4.8  ,   -1.56 ,  -96.208],\n",
       "       [   0.   ,  -16.8  ,   -4.76 , -335.968]])"
      ]
     },
     "execution_count": 22,
     "metadata": {},
     "output_type": "execute_result"
    }
   ],
   "source": [
    "AB"
   ]
  },
  {
   "cell_type": "code",
   "execution_count": 23,
   "metadata": {},
   "outputs": [
    {
     "data": {
      "text/plain": [
       "-4.800000000000001"
      ]
     },
     "execution_count": 23,
     "metadata": {},
     "output_type": "execute_result"
    }
   ],
   "source": [
    "pivo = AB[1,1]\n",
    "pivo"
   ]
  },
  {
   "cell_type": "markdown",
   "metadata": {
    "slideshow": {
     "slide_type": "slide"
    }
   },
   "source": [
    "Nesta coluna temos que realizar apenas a eliminação de um elemento abaixo do pivô, repetimos o mesmo processo anterior, calculamos um multiplicador **m3** a partir da divisão do elemento a ser zerado pelo pivô"
   ]
  },
  {
   "cell_type": "code",
   "execution_count": 24,
   "metadata": {},
   "outputs": [
    {
     "data": {
      "text/plain": [
       "array([[  25.   ,    5.   ,    1.   ,  106.8  ],\n",
       "       [   0.   ,   -4.8  ,   -1.56 ,  -96.208],\n",
       "       [   0.   ,  -16.8  ,   -4.76 , -335.968]])"
      ]
     },
     "execution_count": 24,
     "metadata": {},
     "output_type": "execute_result"
    }
   ],
   "source": [
    "AB"
   ]
  },
  {
   "cell_type": "code",
   "execution_count": 25,
   "metadata": {},
   "outputs": [],
   "source": [
    "m3 = AB[2,1] / pivo"
   ]
  },
  {
   "cell_type": "code",
   "execution_count": 26,
   "metadata": {},
   "outputs": [
    {
     "data": {
      "text/plain": [
       "3.499999999999999"
      ]
     },
     "execution_count": 26,
     "metadata": {},
     "output_type": "execute_result"
    }
   ],
   "source": [
    "m3"
   ]
  },
  {
   "cell_type": "markdown",
   "metadata": {
    "slideshow": {
     "slide_type": "slide"
    }
   },
   "source": [
    "Com o multiplicador realizamos a operação na linha a ser modificada"
   ]
  },
  {
   "cell_type": "code",
   "execution_count": 27,
   "metadata": {},
   "outputs": [],
   "source": [
    "AB[2,:] = AB[2,:] - AB[1,:] * m3"
   ]
  },
  {
   "cell_type": "code",
   "execution_count": 28,
   "metadata": {},
   "outputs": [
    {
     "data": {
      "text/plain": [
       "array([[ 25.   ,   5.   ,   1.   , 106.8  ],\n",
       "       [  0.   ,  -4.8  ,  -1.56 , -96.208],\n",
       "       [  0.   ,   0.   ,   0.7  ,   0.76 ]])"
      ]
     },
     "execution_count": 28,
     "metadata": {},
     "output_type": "execute_result"
    }
   ],
   "source": [
    "AB"
   ]
  },
  {
   "cell_type": "markdown",
   "metadata": {
    "slideshow": {
     "slide_type": "slide"
    }
   },
   "source": [
    "## Substituição: encontrando os valores de x\n",
    "\n",
    "Para encontrar $x_3$ precisamos apenas resolver a equação representada pela última linha do sistema"
   ]
  },
  {
   "cell_type": "code",
   "execution_count": 30,
   "metadata": {},
   "outputs": [
    {
     "data": {
      "text/plain": [
       "array([[ 25.   ,   5.   ,   1.   , 106.8  ],\n",
       "       [  0.   ,  -4.8  ,  -1.56 , -96.208],\n",
       "       [  0.   ,   0.   ,   0.7  ,   0.76 ]])"
      ]
     },
     "execution_count": 30,
     "metadata": {},
     "output_type": "execute_result"
    }
   ],
   "source": [
    "x = np.zeros(3)\n",
    "AB"
   ]
  },
  {
   "cell_type": "code",
   "execution_count": 31,
   "metadata": {},
   "outputs": [
    {
     "data": {
      "text/plain": [
       "array([0.        , 0.        , 1.08571429])"
      ]
     },
     "execution_count": 31,
     "metadata": {},
     "output_type": "execute_result"
    }
   ],
   "source": [
    "x[2] = AB[2,3] / AB[2,2]\n",
    "x"
   ]
  },
  {
   "cell_type": "markdown",
   "metadata": {
    "slideshow": {
     "slide_type": "slide"
    }
   },
   "source": [
    "### Encontrando o valor de $x_2$\n",
    "Com o valor de $x_3$ definido podemos encontrar $x_2$"
   ]
  },
  {
   "cell_type": "code",
   "execution_count": 32,
   "metadata": {},
   "outputs": [
    {
     "data": {
      "text/plain": [
       "array([[ 25.   ,   5.   ,   1.   , 106.8  ],\n",
       "       [  0.   ,  -4.8  ,  -1.56 , -96.208],\n",
       "       [  0.   ,   0.   ,   0.7  ,   0.76 ]])"
      ]
     },
     "execution_count": 32,
     "metadata": {},
     "output_type": "execute_result"
    }
   ],
   "source": [
    "AB"
   ]
  },
  {
   "cell_type": "code",
   "execution_count": 33,
   "metadata": {},
   "outputs": [
    {
     "data": {
      "text/plain": [
       "array([ 0.        , 19.69047619,  1.08571429])"
      ]
     },
     "execution_count": 33,
     "metadata": {},
     "output_type": "execute_result"
    }
   ],
   "source": [
    "x[1] = (AB[1,3] - AB[1,2] * x[2]) / AB[1,1]\n",
    "x"
   ]
  },
  {
   "cell_type": "markdown",
   "metadata": {
    "slideshow": {
     "slide_type": "slide"
    }
   },
   "source": [
    "Agora com os dois valores de x podemos encontrar $x_1$"
   ]
  },
  {
   "cell_type": "code",
   "execution_count": 34,
   "metadata": {},
   "outputs": [
    {
     "data": {
      "text/plain": [
       "array([[ 25.   ,   5.   ,   1.   , 106.8  ],\n",
       "       [  0.   ,  -4.8  ,  -1.56 , -96.208],\n",
       "       [  0.   ,   0.   ,   0.7  ,   0.76 ]])"
      ]
     },
     "execution_count": 34,
     "metadata": {},
     "output_type": "execute_result"
    }
   ],
   "source": [
    "AB"
   ]
  },
  {
   "cell_type": "code",
   "execution_count": 35,
   "metadata": {},
   "outputs": [
    {
     "data": {
      "text/plain": [
       "array([ 0.29047619, 19.69047619,  1.08571429])"
      ]
     },
     "execution_count": 35,
     "metadata": {},
     "output_type": "execute_result"
    }
   ],
   "source": [
    "x[0] = (AB[0,3] - AB[0,2] * x[2] - AB[0,1] * x[1]) / AB[0,0]\n",
    "x"
   ]
  },
  {
   "cell_type": "markdown",
   "metadata": {
    "cell_style": "split",
    "slideshow": {
     "slide_type": "slide"
    }
   },
   "source": [
    "## Verificando a resposta\n",
    "\n",
    "Uma forma de testar se a resposta obtida está correta é fazer o produto de cada linha da matriz de coeficientes com o vetor de icógnitas e verificar se o resultado é igual ao vetor de constantes. \n",
    "\n",
    "**Primeira linha**"
   ]
  },
  {
   "cell_type": "markdown",
   "metadata": {
    "cell_style": "split"
   },
   "source": [
    "$$\\left[ \\begin{matrix}\n",
    "25 & 5 & 1 \\\\\n",
    "64 & 8 & 1\\\\\n",
    "144 & 12 & 1\n",
    "\\end{matrix} \\right]\n",
    "\\left[ \\begin{matrix}\n",
    "x_{1}\\\\\n",
    "x_{2}\\\\\n",
    "x_{3}\n",
    "\\end{matrix} \\right]\n",
    "=\n",
    "\\left[ \\begin{matrix}\n",
    "106.8\\\\\n",
    "177.2\\\\\n",
    "279.2\n",
    "\\end{matrix} \\right]\n",
    "$$\n",
    "\n",
    "$$[A][x] = [b]$$"
   ]
  },
  {
   "cell_type": "code",
   "execution_count": 36,
   "metadata": {},
   "outputs": [
    {
     "data": {
      "text/plain": [
       "array([[ 25,   5,   1],\n",
       "       [ 64,   8,   1],\n",
       "       [144,  12,   1]])"
      ]
     },
     "execution_count": 36,
     "metadata": {},
     "output_type": "execute_result"
    }
   ],
   "source": [
    "A = np.array([[25,5,1],[64,8,1],[144,12,1]])\n",
    "A"
   ]
  },
  {
   "cell_type": "code",
   "execution_count": 40,
   "metadata": {},
   "outputs": [
    {
     "data": {
      "text/plain": [
       "array([106.8, 177.2, 279.2])"
      ]
     },
     "execution_count": 40,
     "metadata": {},
     "output_type": "execute_result"
    }
   ],
   "source": [
    "B = np.dot(A,x)\n",
    "B"
   ]
  },
  {
   "cell_type": "markdown",
   "metadata": {
    "slideshow": {
     "slide_type": "slide"
    }
   },
   "source": [
    "# Por que ingênuo?"
   ]
  },
  {
   "cell_type": "markdown",
   "metadata": {
    "slideshow": {
     "slide_type": "fragment"
    }
   },
   "source": [
    "$$[AB] = \\left[ \\begin{matrix}\n",
    "0 & 5 & 1 & 106.8\\\\\n",
    "64 & 8 & 1 & 177.2\\\\\n",
    "144 & 12 & 1 & 279.2\n",
    "\\end{matrix} \\right]$$"
   ]
  },
  {
   "cell_type": "markdown",
   "metadata": {
    "slideshow": {
     "slide_type": "slide"
    }
   },
   "source": [
    "# Now, go code!"
   ]
  }
 ],
 "metadata": {
  "celltoolbar": "Slideshow",
  "kernelspec": {
   "display_name": "Python 3",
   "language": "python",
   "name": "python3"
  },
  "language_info": {
   "codemirror_mode": {
    "name": "ipython",
    "version": 3
   },
   "file_extension": ".py",
   "mimetype": "text/x-python",
   "name": "python",
   "nbconvert_exporter": "python",
   "pygments_lexer": "ipython3",
   "version": "3.7.4"
  },
  "rise": {
   "enable_chalkboard": true
  }
 },
 "nbformat": 4,
 "nbformat_minor": 2
}
