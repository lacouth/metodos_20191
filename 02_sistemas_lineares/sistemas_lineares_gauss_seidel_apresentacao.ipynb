{
 "cells": [
  {
   "cell_type": "markdown",
   "metadata": {
    "slideshow": {
     "slide_type": "slide"
    }
   },
   "source": [
    "# Métodos Numéricos\n",
    "\n",
    "## Resolução de Sistemas Lineares\n",
    "## Método de Gauss - Seidel\n",
    "\n",
    "### Patric Lacouth"
   ]
  },
  {
   "cell_type": "markdown",
   "metadata": {
    "slideshow": {
     "slide_type": "slide"
    }
   },
   "source": [
    "# Método de Gauss - Seidel"
   ]
  },
  {
   "cell_type": "markdown",
   "metadata": {
    "slideshow": {
     "slide_type": "fragment"
    }
   },
   "source": [
    "* Método iterativo"
   ]
  },
  {
   "cell_type": "markdown",
   "metadata": {
    "slideshow": {
     "slide_type": "fragment"
    }
   },
   "source": [
    "* Valores iniciais"
   ]
  },
  {
   "cell_type": "markdown",
   "metadata": {
    "slideshow": {
     "slide_type": "slide"
    }
   },
   "source": [
    "# Condição suficiente"
   ]
  },
  {
   "cell_type": "markdown",
   "metadata": {
    "slideshow": {
     "slide_type": "-"
    }
   },
   "source": [
    "> \"Uma condição suficiente porém não necessária para que o método de Gauss-Seidel convirja é a que a matriz [A] seja **estritamente diagonal dominante**.\""
   ]
  },
  {
   "cell_type": "markdown",
   "metadata": {
    "cell_style": "center",
    "slideshow": {
     "slide_type": "slide"
    }
   },
   "source": [
    "# Diagonal dominante\n",
    "\n",
    "Uma matriz  é estritamente diagonal dominante quando:"
   ]
  },
  {
   "cell_type": "markdown",
   "metadata": {
    "cell_style": "split"
   },
   "source": [
    "$$ |a_{ii} | > \\sum\\limits_{\\substack{j=1 \\\\ j\\neq i }}^n |a_{ij}| $$"
   ]
  },
  {
   "cell_type": "markdown",
   "metadata": {
    "cell_style": "split"
   },
   "source": [
    "$$\\begin{bmatrix}\n",
    "a_{11} & a_{12} & a_{13}\\\\\n",
    "a_{21} & a_{22} & a_{23}\\\\\n",
    "a_{31} & a_{32} & a_{33}\\\\\n",
    "\\end{bmatrix}\n",
    "\\begin{bmatrix}\n",
    "x_{1}\\\\\n",
    "x_{2}\\\\\n",
    "x_{3}\n",
    "\\end{bmatrix}\n",
    "=\n",
    "\\begin{bmatrix}\n",
    "b_{1}\\\\\n",
    "b_{2}\\\\\n",
    "b_{3}\n",
    "\\end{bmatrix}$$"
   ]
  },
  {
   "cell_type": "markdown",
   "metadata": {
    "cell_style": "center",
    "slideshow": {
     "slide_type": "slide"
    }
   },
   "source": [
    "# O algoritmo\n",
    "\n",
    "Dado um sistema 3 x 3 : \n",
    "\n",
    "$$\\left\\{\\begin{matrix}\n",
    "a_{11}x_1 & + & a_{12}x_2 & + & a_{13}x_3 & = & b_1 \\\\ \n",
    "a_{21}x_1 & + & a_{22}x_2 & + & a_{23}x_3 & = & b_2 \\\\\n",
    "a_{31}x_1 & + & a_{32}x_2 & + & a_{33}x_3 & = & b_3 \\\\\n",
    "\\end{matrix}\\right.$$"
   ]
  },
  {
   "cell_type": "markdown",
   "metadata": {
    "slideshow": {
     "slide_type": "slide"
    }
   },
   "source": [
    "é possível isolar $x_1$ na primeira equação, $x_2$ na segunda equação e $x_3$ na terceira para obter:\n",
    "\n",
    "$$x^n_1 = \\frac{b_1 - a_{12}x_2^{n-1} - a_{13}x_3^{n-1}}{a_{11}}$$\n",
    "\n",
    "$$x^n_2 = \\frac{b_2 - a_{21}x_1^{n} - a_{23}x_3^{n-1}}{a_{22}}$$\n",
    "\n",
    "$$x^n_3 = \\frac{b_3 - a_{31}x_1^{n} - a_{32}x_2^{n}}{a_{33}}$$\n",
    "\n",
    "onde $n$ e $n-1$ representam a iteração atual e a anterior."
   ]
  },
  {
   "cell_type": "markdown",
   "metadata": {
    "slideshow": {
     "slide_type": "slide"
    }
   },
   "source": [
    "De maneira geral podemos reescrever as equações como:\n",
    "\n",
    "$$ x^n_i = \\frac{b_i - \\sum\\limits_{\\substack{j=1 \\\\ j\\neq i }}^n a_{ij}x_j}{a_{ii}} $$"
   ]
  },
  {
   "cell_type": "markdown",
   "metadata": {
    "slideshow": {
     "slide_type": "slide"
    }
   },
   "source": [
    "A convergência é verificada usando-se o critério de que para todo $i$: \n",
    "\n",
    "$$\\epsilon_{a,i} = \\left|\\frac{x_i^j - x_i^{j-1}}{x_i^j}\\right| \\times 100\\ $$\n",
    "\n",
    "$$max(\\epsilon_{a,i})\\leq \\epsilon_s $$"
   ]
  },
  {
   "cell_type": "markdown",
   "metadata": {
    "slideshow": {
     "slide_type": "slide"
    }
   },
   "source": [
    "# Gauss - Seidel em Python (simples)"
   ]
  },
  {
   "cell_type": "markdown",
   "metadata": {
    "slideshow": {
     "slide_type": "-"
    }
   },
   "source": [
    "Dado o sistema abaixo resolva utilizando o método de Gauss-Seidel com as condições iniciais x = [0,0], $\\epsilon_a < 0.001$ e no máximo 100 iterações : \n",
    "\n",
    "$$\\left\\{\\begin{matrix}\n",
    "10x_1 & + & x_2 & = & 23 \\\\ \n",
    "x_1 & + & 8x_2 & = & 26 \\\\\n",
    "\\end{matrix}\\right.$$"
   ]
  },
  {
   "cell_type": "markdown",
   "metadata": {
    "slideshow": {
     "slide_type": "slide"
    }
   },
   "source": [
    "# importando as bibliotecas"
   ]
  },
  {
   "cell_type": "code",
   "execution_count": 1,
   "metadata": {},
   "outputs": [],
   "source": [
    "import numpy as np"
   ]
  },
  {
   "cell_type": "markdown",
   "metadata": {
    "cell_style": "center",
    "slideshow": {
     "slide_type": "slide"
    }
   },
   "source": [
    "Resolvendo o sistema\n",
    "$$\\left\\{\\begin{matrix}\n",
    "10x_1 & + & x_2 & = & 23 \\\\ \n",
    "x_1 & + & 8x_2 & = & 26 \\\\\n",
    "\\end{matrix}\\right.$$\n",
    "\n",
    "$$x^0 = [0,0]$$\n",
    "\n",
    "$$\\epsilon_a < 0.001$$"
   ]
  },
  {
   "cell_type": "code",
   "execution_count": 10,
   "metadata": {
    "cell_style": "center",
    "slideshow": {
     "slide_type": "-"
    }
   },
   "outputs": [],
   "source": [
    "x = np.array([0,0], dtype = 'float')\n",
    "erros = []\n",
    "for i in range(100):\n",
    "    x_anterior = x.copy()\n",
    "    x[0] = (23 - x[1]) / 10\n",
    "    x[1] = (26 - x[0]) / 8\n",
    "    erro = np.max(np.abs((x - x_anterior) / x) * 100)\n",
    "    erros.append(erro)\n",
    "    if erro < 0.1:\n",
    "        break\n"
   ]
  },
  {
   "cell_type": "code",
   "execution_count": 11,
   "metadata": {
    "slideshow": {
     "slide_type": "-"
    }
   },
   "outputs": [
    {
     "data": {
      "text/plain": [
       "array([2.00000059, 2.99999993])"
      ]
     },
     "execution_count": 11,
     "metadata": {},
     "output_type": "execute_result"
    }
   ],
   "source": [
    "x"
   ]
  },
  {
   "cell_type": "markdown",
   "metadata": {
    "slideshow": {
     "slide_type": "slide"
    }
   },
   "source": [
    "## Testando a resposta\n",
    "$$\\left\\{\\begin{matrix}\n",
    "10x_1 & + & x_2 & = & 23 \\\\ \n",
    "x_1 & + & 8x_2 & = & 26 \\\\\n",
    "\\end{matrix}\\right.$$"
   ]
  },
  {
   "cell_type": "code",
   "execution_count": 12,
   "metadata": {
    "slideshow": {
     "slide_type": "-"
    }
   },
   "outputs": [
    {
     "data": {
      "text/plain": [
       "array([23.00000579, 26.        ])"
      ]
     },
     "execution_count": 12,
     "metadata": {},
     "output_type": "execute_result"
    }
   ],
   "source": [
    "A = np.array([[10,1],[1,8]])\n",
    "np.dot(A,x)"
   ]
  },
  {
   "cell_type": "code",
   "execution_count": 13,
   "metadata": {},
   "outputs": [
    {
     "data": {
      "text/plain": [
       "4"
      ]
     },
     "execution_count": 13,
     "metadata": {},
     "output_type": "execute_result"
    }
   ],
   "source": [
    "len(erros)"
   ]
  },
  {
   "cell_type": "markdown",
   "metadata": {
    "slideshow": {
     "slide_type": "slide"
    }
   },
   "source": [
    "# Now, go code!"
   ]
  }
 ],
 "metadata": {
  "celltoolbar": "Slideshow",
  "graffiti": {
   "firstAuthorId": "dev",
   "id": "id_4lwv4s2",
   "language": "EN"
  },
  "kernelspec": {
   "display_name": "Python 3",
   "language": "python",
   "name": "python3"
  },
  "language_info": {
   "codemirror_mode": {
    "name": "ipython",
    "version": 3
   },
   "file_extension": ".py",
   "mimetype": "text/x-python",
   "name": "python",
   "nbconvert_exporter": "python",
   "pygments_lexer": "ipython3",
   "version": "3.7.4"
  },
  "rise": {
   "enable_chalkboard": true
  }
 },
 "nbformat": 4,
 "nbformat_minor": 2
}
