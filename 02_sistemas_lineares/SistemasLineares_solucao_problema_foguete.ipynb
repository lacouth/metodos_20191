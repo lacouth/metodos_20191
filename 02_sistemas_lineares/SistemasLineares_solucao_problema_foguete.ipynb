{
 "cells": [
  {
   "cell_type": "code",
   "execution_count": 1,
   "metadata": {},
   "outputs": [],
   "source": [
    "import numpy as np\n",
    "import matplotlib.pyplot as plt"
   ]
  },
  {
   "cell_type": "markdown",
   "metadata": {
    "slideshow": {
     "slide_type": "slide"
    }
   },
   "source": [
    "# Métodos Numéricos\n",
    "\n",
    "## Resolução de Sistemas Lineares\n",
    "## Solução final do problema do foguete\n",
    "\n",
    "### Patric Lacouth"
   ]
  },
  {
   "cell_type": "markdown",
   "metadata": {
    "cell_style": "split",
    "slideshow": {
     "slide_type": "slide"
    }
   },
   "source": [
    "## O problema\n",
    "\n",
    "tempo, t | velocidade, v\n",
    "-----|------\n",
    "(s)|(m/s)\n",
    "5|106.8\n",
    "8|177.2\n",
    "12|279.2\n",
    "\n",
    "$$v(t) = at^2 + bt + c$$"
   ]
  },
  {
   "cell_type": "markdown",
   "metadata": {
    "cell_style": "split",
    "slideshow": {
     "slide_type": "fragment"
    }
   },
   "source": [
    "## O sistema\n",
    "\n",
    "$$\\left\\{\\begin{matrix}\n",
    "25a & + & 5b & + & c & = & 106.8 \\\\ \n",
    "64a & + & 8b & + & c & = & 177.2 \\\\ \n",
    "144a & + & 12b & + & c & = & 279.2 \n",
    "\\end{matrix}\\right.$$"
   ]
  },
  {
   "cell_type": "markdown",
   "metadata": {
    "cell_style": "split",
    "slideshow": {
     "slide_type": "fragment"
    }
   },
   "source": [
    "$$a = 0.29047619$$\n",
    "\n",
    "$$b = 19.69047619$$\n",
    "\n",
    "$$c = 1.08571429$$"
   ]
  },
  {
   "cell_type": "markdown",
   "metadata": {
    "slideshow": {
     "slide_type": "slide"
    }
   },
   "source": [
    "## Criando um função para o polinômio"
   ]
  },
  {
   "cell_type": "markdown",
   "metadata": {
    "cell_style": "center",
    "slideshow": {
     "slide_type": "-"
    }
   },
   "source": [
    "$$v(t) = at^2 + bt + c$$\n",
    "$$a = 0.29047619 ; b = 19.69047619; c = 1.08571429$$"
   ]
  },
  {
   "cell_type": "code",
   "execution_count": 2,
   "metadata": {
    "cell_style": "center",
    "slideshow": {
     "slide_type": "-"
    }
   },
   "outputs": [],
   "source": [
    "def velocidade_foguete(tempo):\n",
    "    return 0.29047619 * tempo**2 + 19.69047619 * tempo + 1.08571429"
   ]
  },
  {
   "cell_type": "markdown",
   "metadata": {
    "slideshow": {
     "slide_type": "slide"
    }
   },
   "source": [
    "## Gerando o gráfico"
   ]
  },
  {
   "cell_type": "markdown",
   "metadata": {
    "cell_style": "split"
   },
   "source": [
    "tempo, t | velocidade, v\n",
    "-----|------\n",
    "(s)|(m/s)\n",
    "5|106.8\n",
    "8|177.2\n",
    "12|279.2"
   ]
  },
  {
   "cell_type": "code",
   "execution_count": 4,
   "metadata": {
    "cell_style": "split",
    "slideshow": {
     "slide_type": "-"
    }
   },
   "outputs": [
    {
     "data": {
      "image/png": "[encoded data removed]",
      "text/plain": [
       "<Figure size 432x288 with 1 Axes>"
      ]
     },
     "metadata": {
      "needs_background": "light"
     },
     "output_type": "display_data"
    }
   ],
   "source": [
    "pt_x = np.array([5,8,12])\n",
    "pt_y = np.array([106.8,177.2,279.2])\n",
    "\n",
    "x = np.arange(5,12,0.01)\n",
    "y = velocidade_foguete(x)\n",
    "\n",
    "plt.plot(x,y)\n",
    "plt.scatter(pt_x,pt_y,s=50)\n",
    "plt.grid(True)"
   ]
  },
  {
   "cell_type": "markdown",
   "metadata": {
    "slideshow": {
     "slide_type": "slide"
    }
   },
   "source": [
    "## Criando uma interface"
   ]
  },
  {
   "cell_type": "code",
   "execution_count": 6,
   "metadata": {
    "slideshow": {
     "slide_type": "-"
    }
   },
   "outputs": [
    {
     "name": "stdout",
     "output_type": "stream",
     "text": [
      "Informe o tempo desejado: 8\n",
      "A velocidade é de 177.20 m/s\n"
     ]
    }
   ],
   "source": [
    "tempo = float(input('Informe o tempo desejado: '))\n",
    "velocidade = velocidade_foguete(tempo)\n",
    "print(f'A velocidade é de {velocidade:.2f} m/s')"
   ]
  },
  {
   "cell_type": "markdown",
   "metadata": {
    "slideshow": {
     "slide_type": "slide"
    }
   },
   "source": [
    "# Now, go code!"
   ]
  }
 ],
 "metadata": {
  "celltoolbar": "Slideshow",
  "kernelspec": {
   "display_name": "Python 3",
   "language": "python",
   "name": "python3"
  },
  "language_info": {
   "codemirror_mode": {
    "name": "ipython",
    "version": 3
   },
   "file_extension": ".py",
   "mimetype": "text/x-python",
   "name": "python",
   "nbconvert_exporter": "python",
   "pygments_lexer": "ipython3",
   "version": "3.7.4"
  },
  "rise": {
   "enable_chalkboard": true
  }
 },
 "nbformat": 4,
 "nbformat_minor": 2
}
