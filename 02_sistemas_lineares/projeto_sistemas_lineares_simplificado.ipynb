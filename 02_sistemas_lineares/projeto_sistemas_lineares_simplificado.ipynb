{
 "cells": [
  {
   "cell_type": "code",
   "execution_count": 0,
   "metadata": {
    "colab": {},
    "colab_type": "code",
    "id": "2bh8cvfrAFj3"
   },
   "outputs": [],
   "source": [
    "import numpy as np\n",
    "import matplotlib.pyplot as plt\n",
    "from scipy.linalg import lu, solve_triangular, solve"
   ]
  },
  {
   "cell_type": "markdown",
   "metadata": {
    "colab_type": "text",
    "id": "E6Q7U_ReAFkK"
   },
   "source": [
    "# Projeto de Sistemas Lineares\n",
    "\n",
    "![](https://github.com/lacouth/metodos_numericos/blob/master/sistemas_lineares/imagens/falcon.jpg?raw=1)\n",
    "\n",
    "Parabéns, você foi contratado(a) como estagiário(a) da SpaceX (https://www.spacex.com), e o seu primeiro trabalho é monitorar a velocidade de lançamento do foguete durante o um determinado estágio. \n",
    "\n",
    "## O Problema\n",
    "\n",
    "Apesar de ser uma empresa milionária você só tem um equipamento simples para medir a velocidade, que só faz medição em três instantes de tempo específicos.\n",
    "\n",
    "No primeiro lançamento você obtém os seguintes dados:\n",
    "\n",
    "tempo, t | velocidade, v\n",
    "-----|------\n",
    "(s)|(m/s)\n",
    "5|106.8\n",
    "8|177.2\n",
    "12|279.2\n",
    "\n",
    "Você então apresenta para o [Elon Musk](https://pt.wikipedia.org/wiki/Elon_Musk) o gráfico abaixo:\n"
   ]
  },
  {
   "cell_type": "code",
   "execution_count": 0,
   "metadata": {
    "colab": {},
    "colab_type": "code",
    "id": "nbSg1uMTAFkR",
    "outputId": "14878af8-6b15-4999-b22b-7d22ca001eca"
   },
   "outputs": [
    {
     "data": {
      "image/png": "[encoded data removed]",
      "text/plain": [
       "<Figure size 432x288 with 1 Axes>"
      ]
     },
     "metadata": {
      "needs_background": "light",
      "tags": []
     },
     "output_type": "display_data"
    }
   ],
   "source": [
    "t = [5,8,12]\n",
    "v = [106.8, 177.2, 279.2]\n",
    "plt.xlabel('Tempo - s')\n",
    "plt.ylabel('Velocidade - m/s')\n",
    "plt.scatter(t,v)\n",
    "plt.grid(True)"
   ]
  },
  {
   "cell_type": "markdown",
   "metadata": {
    "colab_type": "text",
    "id": "7KHnXQHJAFkl"
   },
   "source": [
    "Apesar do bom trabalho Elon pede que você crie uma forma de obter qualquer valor da velocidade entre 5 e 12 segundos.\n",
    "\n",
    "Utilizando os seus conhecimento de cálculo numérico você resolve aproximar a velocidade por um polinômio de segundo grau:\n",
    "\n",
    "$$v(t) = at^2 + bt + c$$\n",
    "\n",
    "O problema passa a ser determinar os valores de $a$,$b$ e $c$. Para resolver isso você escreve o polinômio utilizando os três pontos medidos $(t_1, v_1)$, $(t_2, v_2)$ e $(t_3, v_3)$ resultado em\n",
    "\n",
    "$$v(t_1) = v_1 = at^2_1 +bt_1 + c$$\n",
    "$$v(t_2) = v_2 = at^2_2 +bt_2 + c$$\n",
    "$$v(t_3) = v_3 = at^2_3 +bt_3 + c$$\n",
    "\n",
    "ou após a substituição dos valores:\n",
    "\n",
    "$$25a + 5b + c = 106.8$$\n",
    "$$64a + 8b + c = 177.2$$\n",
    "$$144a + 12b + c = 279.2$$\n",
    "\n",
    "Logo você percebe que para determinar os coeficientes do polinômio basta resolver o sistema acima."
   ]
  },
  {
   "cell_type": "markdown",
   "metadata": {
    "colab_type": "text",
    "id": "9JNuo9BOAFkq"
   },
   "source": [
    "## Resolvendo o sistema utilizando Gauss Ingênuo\n",
    "\n",
    "***No seu projeto você deve fazer a sua própria implementação dos métodos, as funções utilizadas neste template não devem ser utilizadas no seu projeto.*** \n",
    "\n",
    "***Este template apresenta apenas a implementação de um método mas no seu projeto você OBRIGATORIAMENTE deve utilizar todos os métodos apresentados na disciplina.***\n",
    "\n",
    "\n",
    "Inicialmente você decide resolver o sistema utilizando apenas o método de Gauss ingênuo para verificar se a sua premissa está correta.\n"
   ]
  },
  {
   "cell_type": "code",
   "execution_count": 0,
   "metadata": {
    "colab": {},
    "colab_type": "code",
    "id": "Fz6W0sZxAFkv",
    "outputId": "e21253a6-ab80-4a24-b551-be993b6b8c03"
   },
   "outputs": [
    {
     "data": {
      "text/plain": [
       "array([ 0.29047619, 19.69047619,  1.08571429])"
      ]
     },
     "execution_count": 3,
     "metadata": {
      "tags": []
     },
     "output_type": "execute_result"
    }
   ],
   "source": [
    "A1 = np.array([[25,5,1],[64,8,1],[144,12,1]])\n",
    "b1 = np.array([106.8,177.2,279.2])\n",
    "coef = solve(A1,b1)\n",
    "coef"
   ]
  },
  {
   "cell_type": "markdown",
   "metadata": {
    "colab_type": "text",
    "id": "epyNbxGpAFk_"
   },
   "source": [
    "Você define uma função em Python para testar a sua aproximação polinomial"
   ]
  },
  {
   "cell_type": "code",
   "execution_count": 0,
   "metadata": {
    "colab": {},
    "colab_type": "code",
    "id": "oypxVkrJAFlE"
   },
   "outputs": [],
   "source": [
    "def polinomio(coeficientes,x):\n",
    "    return coeficientes[0]*x**2+coeficientes[1]*x+coeficientes[2]"
   ]
  },
  {
   "cell_type": "markdown",
   "metadata": {
    "colab_type": "text",
    "id": "72Tvogw4AFlU"
   },
   "source": [
    "Agora o seu supervisor pode estimar a velocidade do foguete em qualquer instante de tempo entre 5 e 12 segundos. "
   ]
  },
  {
   "cell_type": "code",
   "execution_count": 0,
   "metadata": {
    "colab": {},
    "colab_type": "code",
    "id": "CWZnNyxQAFla",
    "outputId": "5c78aba3-57cb-48bd-d535-96bad5dd5091"
   },
   "outputs": [
    {
     "name": "stdout",
     "output_type": "stream",
     "text": [
      "A velocidade no instante t=6s é de 129.68571428571428 m/s\n"
     ]
    }
   ],
   "source": [
    "t = 6\n",
    "v = polinomio(coef,t)\n",
    "print(f'A velocidade no instante t={t}s é de {v} m/s')"
   ]
  },
  {
   "cell_type": "markdown",
   "metadata": {
    "colab_type": "text",
    "id": "N1SWGxOhAFlr"
   },
   "source": [
    "Criando o gráfico utilizando mais de três pontos."
   ]
  },
  {
   "cell_type": "code",
   "execution_count": 0,
   "metadata": {
    "colab": {},
    "colab_type": "code",
    "id": "H3cnlKPHAFlw",
    "outputId": "a1391093-4676-4443-e32f-284247e801dd"
   },
   "outputs": [
    {
     "data": {
      "text/plain": [
       "Text(0, 0.5, 'Velocidade - m/s')"
      ]
     },
     "execution_count": 6,
     "metadata": {
      "tags": []
     },
     "output_type": "execute_result"
    },
    {
     "data": {
      "image/png": "[encoded data removed]",
      "text/plain": [
       "<Figure size 432x288 with 1 Axes>"
      ]
     },
     "metadata": {
      "needs_background": "light",
      "tags": []
     },
     "output_type": "display_data"
    }
   ],
   "source": [
    "t_gi = np.arange(5,12,0.1)\n",
    "v_gi = polinomio(coef,t_gi)\n",
    "\n",
    "t = [5,8,12]\n",
    "v = [106.8, 177.2, 279.2]\n",
    "\n",
    "plt.scatter(t,v)\n",
    "plt.grid(True)\n",
    "\n",
    "plt.plot(t_gi,v_gi)\n",
    "plt.grid(True)\n",
    "\n",
    "plt.xlabel('Tempo - s')\n",
    "plt.ylabel('Velocidade - m/s')"
   ]
  },
  {
   "cell_type": "markdown",
   "metadata": {
    "colab_type": "text",
    "id": "psG0juVcAFmA"
   },
   "source": [
    "## Resolvendo o sistema utilizando Gauss com pivotação parcial\n",
    "\n",
    "***No seu projeto você deve fazer a sua própria dos métodos, as funções utilizadas neste template não devem ser utilizadas no seu projeto.***\n",
    "\n",
    "\n",
    "Para verificar se é possível melhorar o seu resultado você decide testar com outros métodos\n"
   ]
  },
  {
   "cell_type": "code",
   "execution_count": 0,
   "metadata": {
    "colab": {},
    "colab_type": "code",
    "id": "oPJuKLqiAFmF"
   },
   "outputs": [],
   "source": []
  },
  {
   "cell_type": "markdown",
   "metadata": {
    "colab_type": "text",
    "id": "HTz6LmytAFmU"
   },
   "source": [
    "## Resolvendo o sistema utilizando Gauss-Seidel\n",
    "\n",
    "\n",
    "***No seu projeto você deve fazer a sua própria dos métodos, as funções utilizadas neste template não devem ser utilizadas no seu projeto.***\n",
    "\n"
   ]
  },
  {
   "cell_type": "code",
   "execution_count": 0,
   "metadata": {
    "colab": {},
    "colab_type": "code",
    "id": "9fNzN7JqAFmZ"
   },
   "outputs": [],
   "source": []
  },
  {
   "cell_type": "markdown",
   "metadata": {
    "colab_type": "text",
    "id": "3Fkt_aJPAFmo"
   },
   "source": [
    "# Mais trabalho pro estagiário\n",
    "\n",
    "Muito satisfeito com o trabalho que você apresentou Elon resolve passar mais trabalho para você. Agora você é o responsável por criar os modelos de outros 3 foguetes.\n",
    "\n",
    "Após as medições iniciais você obtém dados abaixo:\n",
    "\n",
    "## Foguete 2:\n",
    "\n",
    "tempo, t | velocidade, v\n",
    "-----|------\n",
    "(s)|(m/s)\n",
    "5|88.2\n",
    "8|102.8\n",
    "12|200\n",
    "\n",
    "## Foguete 3:\n",
    "\n",
    "tempo, t | velocidade, v\n",
    "-----|------\n",
    "(s)|(m/s)\n",
    "5|122\n",
    "8|203\n",
    "12|250\n",
    "\n",
    "## Foguete 4:\n",
    "\n",
    "tempo, t | velocidade, v\n",
    "-----|------\n",
    "(s)|(m/s)\n",
    "5|133\n",
    "8|210.8\n",
    "12|290\n",
    "\n",
    "\n",
    "# A Análise\n",
    "\n",
    "Olhando os dados você percebe que quando você escreve os sistemas de equações que a matriz de coeficientes é a mesma para todos os foguetes, logo você lembra dos ensinamentos da disciplina de Cálculo Numérico e decide resolver os sistemas utilizando **Decomposição LU** \n",
    "\n"
   ]
  },
  {
   "cell_type": "code",
   "execution_count": 0,
   "metadata": {
    "colab": {},
    "colab_type": "code",
    "id": "KWI8cYo_AFmt"
   },
   "outputs": [],
   "source": [
    "A = np.array([[25,5,1],[64,8,1],[144,12,1]])\n",
    "P,L,U = lu(A)"
   ]
  },
  {
   "cell_type": "code",
   "execution_count": 0,
   "metadata": {
    "colab": {},
    "colab_type": "code",
    "id": "L03NCJFaAFm9",
    "outputId": "29446b83-50cb-4f12-ba94-683b86b850f0"
   },
   "outputs": [
    {
     "data": {
      "text/plain": [
       "array([[1.        , 0.        , 0.        ],\n",
       "       [0.17361111, 1.        , 0.        ],\n",
       "       [0.44444444, 0.91428571, 1.        ]])"
      ]
     },
     "execution_count": 8,
     "metadata": {
      "tags": []
     },
     "output_type": "execute_result"
    }
   ],
   "source": [
    "L"
   ]
  },
  {
   "cell_type": "code",
   "execution_count": 0,
   "metadata": {
    "colab": {},
    "colab_type": "code",
    "id": "RLNTz2cUAFnO",
    "outputId": "b62aaeaa-fd1c-48bf-edcb-894ec53505af"
   },
   "outputs": [
    {
     "data": {
      "text/plain": [
       "array([[144.        ,  12.        ,   1.        ],\n",
       "       [  0.        ,   2.91666667,   0.82638889],\n",
       "       [  0.        ,   0.        ,  -0.2       ]])"
      ]
     },
     "execution_count": 9,
     "metadata": {
      "tags": []
     },
     "output_type": "execute_result"
    }
   ],
   "source": [
    "U"
   ]
  },
  {
   "cell_type": "code",
   "execution_count": 0,
   "metadata": {
    "colab": {},
    "colab_type": "code",
    "id": "Vot87_tLAFne",
    "outputId": "f56020e9-7ae6-48d9-ec2f-0a23d5d8f9b2"
   },
   "outputs": [
    {
     "data": {
      "text/plain": [
       "array([[0., 1., 0.],\n",
       "       [0., 0., 1.],\n",
       "       [1., 0., 0.]])"
      ]
     },
     "execution_count": 10,
     "metadata": {
      "tags": []
     },
     "output_type": "execute_result"
    }
   ],
   "source": [
    "P"
   ]
  },
  {
   "cell_type": "markdown",
   "metadata": {
    "colab_type": "text",
    "id": "xE3cmzOUAFnv"
   },
   "source": [
    "### Segunda parte\n",
    "Com as matrizes [L][U] e [P] basta resolver os sistemas:\n",
    "\n",
    "$$[L][Z]=[P][B]$$\n",
    "$$[U][X]=[Z]$$"
   ]
  },
  {
   "cell_type": "markdown",
   "metadata": {
    "colab_type": "text",
    "id": "-cWQ7paZAFn1"
   },
   "source": [
    "### Resolvendo para os dados do foguete #2\n",
    "\n",
    "* Obtendo [Z]"
   ]
  },
  {
   "cell_type": "code",
   "execution_count": 0,
   "metadata": {
    "colab": {},
    "colab_type": "code",
    "id": "F7o1X0XeAFn6",
    "outputId": "6f247163-6367-4c71-98d4-14789c9feea8"
   },
   "outputs": [
    {
     "data": {
      "text/plain": [
       "array([200.        ,  53.47777778, -34.98285714])"
      ]
     },
     "execution_count": 11,
     "metadata": {
      "tags": []
     },
     "output_type": "execute_result"
    }
   ],
   "source": [
    "B2 = np.array([88.2, 102.8, 200])\n",
    "Z2 = solve_triangular(L,np.dot(B2,P),lower=True)\n",
    "Z2"
   ]
  },
  {
   "cell_type": "markdown",
   "metadata": {
    "colab_type": "text",
    "id": "Dw28y86IAFoM"
   },
   "source": [
    "* Obtendo [X]"
   ]
  },
  {
   "cell_type": "code",
   "execution_count": 0,
   "metadata": {
    "colab": {},
    "colab_type": "code",
    "id": "_xtEORjMAFoR",
    "outputId": "0a662d60-c77f-40e8-f6c4-e73a8358dc22"
   },
   "outputs": [
    {
     "data": {
      "text/plain": [
       "array([  2.77619048, -31.22380952, 174.91428571])"
      ]
     },
     "execution_count": 12,
     "metadata": {
      "tags": []
     },
     "output_type": "execute_result"
    }
   ],
   "source": [
    "X2 = solve_triangular(U,Z2)\n",
    "X2"
   ]
  },
  {
   "cell_type": "code",
   "execution_count": 0,
   "metadata": {
    "colab": {},
    "colab_type": "code",
    "id": "7XeaTSSnAFok",
    "outputId": "98bc001d-a77a-4d61-831c-7a8614ef256d"
   },
   "outputs": [
    {
     "data": {
      "text/plain": [
       "Text(0, 0.5, 'Velocidade - m/s')"
      ]
     },
     "execution_count": 13,
     "metadata": {
      "tags": []
     },
     "output_type": "execute_result"
    },
    {
     "data": {
      "image/png": "[encoded data removed]",
      "text/plain": [
       "<Figure size 432x288 with 1 Axes>"
      ]
     },
     "metadata": {
      "needs_background": "light",
      "tags": []
     },
     "output_type": "display_data"
    }
   ],
   "source": [
    "t_f2 = np.arange(5,12,0.1)\n",
    "v_f2 = polinomio(X2,t_f2)\n",
    "\n",
    "t = [5,8,12]\n",
    "v = B2\n",
    "\n",
    "plt.scatter(t,v)\n",
    "plt.grid(True)\n",
    "\n",
    "plt.plot(t_f2,v_f2)\n",
    "plt.grid(True)\n",
    "\n",
    "plt.xlabel('Tempo - s')\n",
    "plt.ylabel('Velocidade - m/s')"
   ]
  },
  {
   "cell_type": "markdown",
   "metadata": {
    "colab_type": "text",
    "id": "svhCMpQIAFo0"
   },
   "source": [
    "### Resolvendo para os dados do foguete #3\n",
    "\n",
    "* Obtendo [Z]"
   ]
  },
  {
   "cell_type": "code",
   "execution_count": 0,
   "metadata": {
    "colab": {},
    "colab_type": "code",
    "id": "ywUsg4vBAFo6",
    "outputId": "9df91b4d-be67-4b91-8c1e-159df2b48c8d"
   },
   "outputs": [
    {
     "data": {
      "text/plain": [
       "array([250.        ,  78.59722222,  20.02857143])"
      ]
     },
     "execution_count": 14,
     "metadata": {
      "tags": []
     },
     "output_type": "execute_result"
    }
   ],
   "source": [
    "B3 = np.array([122, 203, 250])\n",
    "Z3 = solve_triangular(L,np.dot(B3,P),lower=True)\n",
    "Z3"
   ]
  },
  {
   "cell_type": "markdown",
   "metadata": {
    "colab_type": "text",
    "id": "PpTRD819AFpP"
   },
   "source": [
    "* Obtendo [X]"
   ]
  },
  {
   "cell_type": "code",
   "execution_count": 0,
   "metadata": {
    "colab": {},
    "colab_type": "code",
    "id": "XyXLsZW_AFpZ",
    "outputId": "bd7949f2-7566-4d4f-e94b-7b896dadb7fa"
   },
   "outputs": [
    {
     "data": {
      "text/plain": [
       "array([  -2.17857143,   55.32142857, -100.14285714])"
      ]
     },
     "execution_count": 15,
     "metadata": {
      "tags": []
     },
     "output_type": "execute_result"
    }
   ],
   "source": [
    "X3 = solve_triangular(U,Z3)\n",
    "X3"
   ]
  },
  {
   "cell_type": "code",
   "execution_count": 0,
   "metadata": {
    "colab": {},
    "colab_type": "code",
    "id": "Z4_TZ-BjAFp3",
    "outputId": "9a3d7e27-41fa-4729-9145-85c10b62d712"
   },
   "outputs": [
    {
     "data": {
      "text/plain": [
       "Text(0, 0.5, 'Velocidade - m/s')"
      ]
     },
     "execution_count": 16,
     "metadata": {
      "tags": []
     },
     "output_type": "execute_result"
    },
    {
     "data": {
      "image/png": "[encoded data removed]",
      "text/plain": [
       "<Figure size 432x288 with 1 Axes>"
      ]
     },
     "metadata": {
      "needs_background": "light",
      "tags": []
     },
     "output_type": "display_data"
    }
   ],
   "source": [
    "t_f3 = np.arange(5,12,0.1)\n",
    "v_f3 = polinomio(X3,t_f3)\n",
    "\n",
    "t = [5,8,12]\n",
    "v = B3\n",
    "\n",
    "plt.scatter(t,v)\n",
    "plt.grid(True)\n",
    "\n",
    "plt.plot(t_f3,v_f3)\n",
    "plt.grid(True)\n",
    "\n",
    "plt.xlabel('Tempo - s')\n",
    "plt.ylabel('Velocidade - m/s')"
   ]
  },
  {
   "cell_type": "code",
   "execution_count": 0,
   "metadata": {
    "colab": {},
    "colab_type": "code",
    "id": "Bf-jk_RyAFqH"
   },
   "outputs": [],
   "source": []
  },
  {
   "cell_type": "markdown",
   "metadata": {
    "colab_type": "text",
    "id": "ykRa3S8yAFqT"
   },
   "source": [
    "### Resolvendo para os dados do foguete #4\n",
    "\n",
    "* Obtendo [Z]"
   ]
  },
  {
   "cell_type": "code",
   "execution_count": 0,
   "metadata": {
    "colab": {},
    "colab_type": "code",
    "id": "6iIA4KyOAFqX",
    "outputId": "48790284-a715-48ac-919c-51f20f7ab8b1"
   },
   "outputs": [
    {
     "data": {
      "text/plain": [
       "array([290.        ,  82.65277778,  56.34285714])"
      ]
     },
     "execution_count": 17,
     "metadata": {
      "tags": []
     },
     "output_type": "execute_result"
    }
   ],
   "source": [
    "B4 = np.array([133, 260.8, 290])\n",
    "Z4 = solve_triangular(L,np.dot(B4,P),lower=True)\n",
    "Z4"
   ]
  },
  {
   "cell_type": "markdown",
   "metadata": {
    "colab_type": "text",
    "id": "mPVdAorJAFqn"
   },
   "source": [
    "* Obtendo [X]"
   ]
  },
  {
   "cell_type": "code",
   "execution_count": 0,
   "metadata": {
    "colab": {},
    "colab_type": "code",
    "id": "ialWbUotAFqt",
    "outputId": "5a8fcca2-d7f4-43f2-ed00-e8e8da0d4815"
   },
   "outputs": [
    {
     "data": {
      "text/plain": [
       "array([  -5.04285714,  108.15714286, -281.71428571])"
      ]
     },
     "execution_count": 18,
     "metadata": {
      "tags": []
     },
     "output_type": "execute_result"
    }
   ],
   "source": [
    "X4 = solve_triangular(U,Z4)\n",
    "X4"
   ]
  },
  {
   "cell_type": "code",
   "execution_count": 0,
   "metadata": {
    "colab": {},
    "colab_type": "code",
    "id": "ntd4ZwCaAFq7",
    "outputId": "19cd7224-da84-438f-be4b-314735486fba"
   },
   "outputs": [
    {
     "data": {
      "text/plain": [
       "Text(0, 0.5, 'Velocidade - m/s')"
      ]
     },
     "execution_count": 19,
     "metadata": {
      "tags": []
     },
     "output_type": "execute_result"
    },
    {
     "data": {
      "image/png": "[encoded data removed]",
      "text/plain": [
       "<Figure size 432x288 with 1 Axes>"
      ]
     },
     "metadata": {
      "needs_background": "light",
      "tags": []
     },
     "output_type": "display_data"
    }
   ],
   "source": [
    "t_f4 = np.arange(5,12,0.1)\n",
    "v_f4 = polinomio(X4,t_f4)\n",
    "\n",
    "t = [5,8,12]\n",
    "v = B4\n",
    "\n",
    "plt.scatter(t,v)\n",
    "plt.grid(True)\n",
    "\n",
    "plt.plot(t_f4,v_f4)\n",
    "plt.grid(True)\n",
    "\n",
    "plt.xlabel('Tempo - s')\n",
    "plt.ylabel('Velocidade - m/s')"
   ]
  },
  {
   "cell_type": "markdown",
   "metadata": {
    "colab_type": "text",
    "id": "ZRU3EE-uAFrI"
   },
   "source": [
    "## Sistema para comparar as velocidades dos foguetes\n",
    "\n",
    "Com os cálculos realizados, é possível montar um pequeno sistema de estimativa de velocidade dos foguetes."
   ]
  },
  {
   "cell_type": "code",
   "execution_count": 0,
   "metadata": {
    "colab": {},
    "colab_type": "code",
    "id": "7j9Z_9_9AFrM",
    "outputId": "a5c276f6-449d-478e-84f6-a70958ad6fcb"
   },
   "outputs": [
    {
     "name": "stdout",
     "output_type": "stream",
     "text": [
      "Informe o instante de tempo desejado 5<t<12: 9\n"
     ]
    }
   ],
   "source": [
    "tempo = int(input(\"Informe o instante de tempo desejado 5<t<12: \"))"
   ]
  },
  {
   "cell_type": "code",
   "execution_count": 0,
   "metadata": {
    "colab": {},
    "colab_type": "code",
    "id": "Y-cZHSpZAFrg"
   },
   "outputs": [],
   "source": [
    "foguete_1 = polinomio(coef, tempo)\n",
    "foguete_2 = polinomio(X2,tempo)\n",
    "foguete_3 = polinomio(X3,tempo)\n",
    "foguete_4 = polinomio(X4,tempo)"
   ]
  },
  {
   "cell_type": "code",
   "execution_count": 0,
   "metadata": {
    "colab": {},
    "colab_type": "code",
    "id": "HqAgimLAAFru",
    "outputId": "8fa529e8-ff8e-4e85-adb1-4096ae74d208"
   },
   "outputs": [
    {
     "name": "stdout",
     "output_type": "stream",
     "text": [
      "No instante de tempo 9s \n",
      "As velocidades dos 4 foguetes foram, respectivamente:\n",
      "201.82857142857145 m/s, 118.77142857142857 m/s, 221.28571428571433 m/s, 283.2285714285714 m/s, \n"
     ]
    }
   ],
   "source": [
    "print(f'No instante de tempo {tempo}s ')\n",
    "print(f'As velocidades dos 4 foguetes foram, respectivamente:')\n",
    "print(f'{foguete_1} m/s, {foguete_2} m/s, {foguete_3} m/s, {foguete_4} m/s, ')"
   ]
  },
  {
   "cell_type": "markdown",
   "metadata": {
    "colab_type": "text",
    "id": "BZC4Q9awAFsA"
   },
   "source": [
    "# Conclusão\n",
    "\n",
    "Na conclusão você deve contextualizar os resultados obtidos enfatizando as comparações entre os métodos e justificando o resultados obtidos de cada um."
   ]
  }
 ],
 "metadata": {
  "colab": {
   "name": "Projeto_sistemas_lineares.ipynb",
   "provenance": []
  },
  "kernelspec": {
   "display_name": "Python 3",
   "language": "python",
   "name": "python3"
  },
  "language_info": {
   "codemirror_mode": {
    "name": "ipython",
    "version": 3
   },
   "file_extension": ".py",
   "mimetype": "text/x-python",
   "name": "python",
   "nbconvert_exporter": "python",
   "pygments_lexer": "ipython3",
   "version": "3.7.4"
  }
 },
 "nbformat": 4,
 "nbformat_minor": 1
}
