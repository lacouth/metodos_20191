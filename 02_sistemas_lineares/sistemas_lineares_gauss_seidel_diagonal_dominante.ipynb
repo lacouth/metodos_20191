{
 "cells": [
  {
   "cell_type": "markdown",
   "metadata": {
    "slideshow": {
     "slide_type": "slide"
    }
   },
   "source": [
    "# Métodos Numéricos\n",
    "\n",
    "## Resolução de Sistemas Lineares\n",
    "## Método de Gauss - Seidel (teste da diagonal dominante)\n",
    "\n",
    "### Patric Lacouth"
   ]
  },
  {
   "cell_type": "markdown",
   "metadata": {
    "slideshow": {
     "slide_type": "slide"
    }
   },
   "source": [
    "# importando as bibliotecas"
   ]
  },
  {
   "cell_type": "code",
   "execution_count": 1,
   "metadata": {},
   "outputs": [],
   "source": [
    "import numpy as np"
   ]
  },
  {
   "cell_type": "markdown",
   "metadata": {
    "slideshow": {
     "slide_type": "slide"
    }
   },
   "source": [
    "Dado o sistema abaixo resolva utilizando o método de Gauss-Seidel com as condições iniciais x = [0,0,0], $\\epsilon_a < 0.001$ e no máximo 100 iterações : \n",
    "\n",
    "$$\\left\\{\\begin{matrix}\n",
    "25x_1 & + & 5x_2 & + & x_3 & = & 106.8 \\\\ \n",
    "64x_1 & + & 8x_2 & + & x_3 & = & 177.2 \\\\ \n",
    "144x_1 & + & 12x_2 & + & x_3 & = & 279.2 \n",
    "\\end{matrix}\\right.$$"
   ]
  },
  {
   "cell_type": "code",
   "execution_count": 2,
   "metadata": {
    "cell_style": "center",
    "slideshow": {
     "slide_type": "-"
    }
   },
   "outputs": [],
   "source": [
    "x = np.array([0,0,0], dtype = 'float')\n",
    "erros = []\n",
    "for i in range(100):\n",
    "    x_anterior = x.copy()\n",
    "    x[0] = (106.8 - 5 * x[1] - x[2] ) / 25\n",
    "    x[1] = (177.2 - 64 * x[0] - x[2]) / 8\n",
    "    x[2] = (279.2 - 144 * x[0] - 12*x[1]) / 1\n",
    "    erro = np.max(np.abs((x - x_anterior) / x) * 100)\n",
    "    erros.append(erro)\n",
    "    if erro < 0.001:\n",
    "        break"
   ]
  },
  {
   "cell_type": "code",
   "execution_count": 3,
   "metadata": {
    "slideshow": {
     "slide_type": "-"
    }
   },
   "outputs": [
    {
     "data": {
      "text/plain": [
       "array([ 5.35230124e+61, -3.07145993e+62, -4.02156187e+63])"
      ]
     },
     "execution_count": 3,
     "metadata": {},
     "output_type": "execute_result"
    }
   ],
   "source": [
    "x"
   ]
  },
  {
   "cell_type": "markdown",
   "metadata": {
    "slideshow": {
     "slide_type": "slide"
    }
   },
   "source": [
    "## Analisando o erro"
   ]
  },
  {
   "cell_type": "code",
   "execution_count": 4,
   "metadata": {
    "slideshow": {
     "slide_type": "-"
    }
   },
   "outputs": [
    {
     "name": "stdout",
     "output_type": "stream",
     "text": [
      "[100.0, 82.47973645887298, 77.82583797158112, 76.46198280081241, 76.07037114997655, 75.96175895858617, 75.93252471109473, 75.92483510936093, 75.92284730722305, 75.92234020216463, 75.92221215476253, 75.92218008228413, 75.92217210081952, 75.92217012497778, 75.92216963795141, 75.92216951833043, 75.92216948903669, 75.92216948188077, 75.92216948013638, 75.92216947971188, 75.92216947960875, 75.92216947958372, 75.92216947957765, 75.9221694795762, 75.92216947957584, 75.92216947957576, 75.92216947957574, 75.92216947957571, 75.92216947957571, 75.92216947957571, 75.9221694795757, 75.92216947957571, 75.9221694795757, 75.92216947957571, 75.92216947957573, 75.92216947957571, 75.92216947957571, 75.92216947957571, 75.92216947957571, 75.92216947957571, 75.92216947957571, 75.92216947957571, 75.92216947957571, 75.92216947957571, 75.92216947957571, 75.92216947957571, 75.92216947957571, 75.92216947957571, 75.92216947957571, 75.92216947957573, 75.92216947957571, 75.92216947957571, 75.92216947957571, 75.9221694795757, 75.92216947957573, 75.92216947957571, 75.92216947957573, 75.92216947957571, 75.92216947957571, 75.92216947957571, 75.92216947957571, 75.92216947957573, 75.92216947957571, 75.92216947957571, 75.92216947957571, 75.92216947957571, 75.92216947957571, 75.9221694795757, 75.92216947957571, 75.92216947957571, 75.92216947957571, 75.92216947957571, 75.92216947957571, 75.92216947957571, 75.92216947957571, 75.92216947957571, 75.92216947957571, 75.92216947957571, 75.92216947957573, 75.92216947957571, 75.92216947957573, 75.92216947957571, 75.92216947957571, 75.92216947957571, 75.92216947957573, 75.92216947957573, 75.92216947957571, 75.92216947957573, 75.92216947957571, 75.92216947957571, 75.92216947957571, 75.92216947957571, 75.92216947957571, 75.92216947957571, 75.92216947957571, 75.92216947957571, 75.92216947957571, 75.92216947957571, 75.92216947957571, 75.92216947957571]\n"
     ]
    }
   ],
   "source": [
    "print(erros)"
   ]
  },
  {
   "cell_type": "code",
   "execution_count": 5,
   "metadata": {},
   "outputs": [
    {
     "data": {
      "text/plain": [
       "100"
      ]
     },
     "execution_count": 5,
     "metadata": {},
     "output_type": "execute_result"
    }
   ],
   "source": [
    "len(erros)"
   ]
  },
  {
   "cell_type": "markdown",
   "metadata": {
    "slideshow": {
     "slide_type": "slide"
    }
   },
   "source": [
    "## Verificando a dominância da diagonal\n",
    "$$\\left[ \\begin{matrix}\n",
    "25 & 5 & 1 \\\\\n",
    "64 & 8 & 1\\\\\n",
    "144 & 12 & 1\n",
    "\\end{matrix} \\right]\n",
    "\\left[ \\begin{matrix}\n",
    "x_{1}\\\\\n",
    "x_{2}\\\\\n",
    "x_{3}\n",
    "\\end{matrix} \\right]\n",
    "=\n",
    "\\left[ \\begin{matrix}\n",
    "106.8\\\\\n",
    "177.2\\\\\n",
    "279.2\n",
    "\\end{matrix} \\right]\n",
    "$$"
   ]
  },
  {
   "cell_type": "code",
   "execution_count": 7,
   "metadata": {
    "slideshow": {
     "slide_type": "-"
    }
   },
   "outputs": [
    {
     "data": {
      "text/plain": [
       "array([[ 25.,   5.,   1.],\n",
       "       [ 64.,   8.,   1.],\n",
       "       [144.,  12.,   1.]])"
      ]
     },
     "execution_count": 7,
     "metadata": {},
     "output_type": "execute_result"
    }
   ],
   "source": [
    "A = np.array([[25,5,1],[64,8,1],[144,12,1]], dtype = 'float')\n",
    "A"
   ]
  },
  {
   "cell_type": "markdown",
   "metadata": {
    "slideshow": {
     "slide_type": "slide"
    }
   },
   "source": [
    "### Extraindo a diagonal"
   ]
  },
  {
   "cell_type": "code",
   "execution_count": 11,
   "metadata": {},
   "outputs": [
    {
     "data": {
      "text/plain": [
       "array([25.,  8.,  1.])"
      ]
     },
     "execution_count": 11,
     "metadata": {},
     "output_type": "execute_result"
    }
   ],
   "source": [
    "diag = np.diag(np.abs(A))\n",
    "diag"
   ]
  },
  {
   "cell_type": "markdown",
   "metadata": {
    "slideshow": {
     "slide_type": "slide"
    }
   },
   "source": [
    "### Somando as linhas e subtraindo o elemento da diagonal"
   ]
  },
  {
   "cell_type": "code",
   "execution_count": 12,
   "metadata": {},
   "outputs": [
    {
     "data": {
      "text/plain": [
       "array([[ 25.,   5.,   1.],\n",
       "       [ 64.,   8.,   1.],\n",
       "       [144.,  12.,   1.]])"
      ]
     },
     "execution_count": 12,
     "metadata": {},
     "output_type": "execute_result"
    }
   ],
   "source": [
    "A"
   ]
  },
  {
   "cell_type": "code",
   "execution_count": 17,
   "metadata": {},
   "outputs": [
    {
     "data": {
      "text/plain": [
       "array([  6.,  65., 156.])"
      ]
     },
     "execution_count": 17,
     "metadata": {},
     "output_type": "execute_result"
    }
   ],
   "source": [
    "soma = np.sum(np.abs(A),axis = 1) - diag\n",
    "soma"
   ]
  },
  {
   "cell_type": "markdown",
   "metadata": {
    "slideshow": {
     "slide_type": "slide"
    }
   },
   "source": [
    "### Comparando os elementos da diagonal com a soma"
   ]
  },
  {
   "cell_type": "code",
   "execution_count": 18,
   "metadata": {},
   "outputs": [
    {
     "data": {
      "text/plain": [
       "array([[ 25.,   5.,   1.],\n",
       "       [ 64.,   8.,   1.],\n",
       "       [144.,  12.,   1.]])"
      ]
     },
     "execution_count": 18,
     "metadata": {},
     "output_type": "execute_result"
    }
   ],
   "source": [
    "A"
   ]
  },
  {
   "cell_type": "code",
   "execution_count": 20,
   "metadata": {},
   "outputs": [
    {
     "data": {
      "text/plain": [
       "False"
      ]
     },
     "execution_count": 20,
     "metadata": {},
     "output_type": "execute_result"
    }
   ],
   "source": [
    "np.all(diag > soma)"
   ]
  },
  {
   "cell_type": "markdown",
   "metadata": {
    "slideshow": {
     "slide_type": "slide"
    }
   },
   "source": [
    "### Juntando tudo em uma função"
   ]
  },
  {
   "cell_type": "code",
   "execution_count": 21,
   "metadata": {},
   "outputs": [],
   "source": [
    "def diagonal_dominante(matriz):\n",
    "    diag = np.diag(np.abs(matriz))\n",
    "    soma = np.sum(np.abs(matriz),axis = 1) - diag\n",
    "    resultado = diag > soma\n",
    "    if np.all(resultado) == True:\n",
    "        print(\"A matriz possui diagonal dominante\")\n",
    "        return True\n",
    "    else:\n",
    "        print(\"A matriz não possui diagonal dominante\")\n",
    "        return False"
   ]
  },
  {
   "cell_type": "markdown",
   "metadata": {
    "slideshow": {
     "slide_type": "slide"
    }
   },
   "source": [
    "### Testando a função\n",
    "\n",
    "$$\\left[ \\begin{matrix}\n",
    "25 & 5 & 1 \\\\\n",
    "64 & 8 & 1\\\\\n",
    "144 & 12 & 1\n",
    "\\end{matrix} \\right]$$"
   ]
  },
  {
   "cell_type": "code",
   "execution_count": 22,
   "metadata": {},
   "outputs": [
    {
     "name": "stdout",
     "output_type": "stream",
     "text": [
      "A matriz não possui diagonal dominante\n"
     ]
    },
    {
     "data": {
      "text/plain": [
       "False"
      ]
     },
     "execution_count": 22,
     "metadata": {},
     "output_type": "execute_result"
    }
   ],
   "source": [
    "diagonal_dominante(A)"
   ]
  },
  {
   "cell_type": "markdown",
   "metadata": {
    "slideshow": {
     "slide_type": "slide"
    }
   },
   "source": [
    "### Testando a função\n",
    "\n",
    "$$\\left[ \\begin{matrix}\n",
    "5 & 1 & 1 \\\\\n",
    "-1 & 3 & 1\\\\\n",
    "1 & 2 & 10\n",
    "\\end{matrix} \\right]$$"
   ]
  },
  {
   "cell_type": "code",
   "execution_count": 23,
   "metadata": {},
   "outputs": [
    {
     "name": "stdout",
     "output_type": "stream",
     "text": [
      "A matriz possui diagonal dominante\n"
     ]
    },
    {
     "data": {
      "text/plain": [
       "True"
      ]
     },
     "execution_count": 23,
     "metadata": {},
     "output_type": "execute_result"
    }
   ],
   "source": [
    "M = np.array([[5,1,1],[-1,3,1],[1,2,10]], dtype = 'float')\n",
    "diagonal_dominante(M)"
   ]
  },
  {
   "cell_type": "markdown",
   "metadata": {
    "slideshow": {
     "slide_type": "slide"
    }
   },
   "source": [
    "# Now, go code!"
   ]
  }
 ],
 "metadata": {
  "celltoolbar": "Slideshow",
  "graffiti": {
   "firstAuthorId": "dev",
   "id": "id_4lwv4s2",
   "language": "EN"
  },
  "kernelspec": {
   "display_name": "Python 3",
   "language": "python",
   "name": "python3"
  },
  "language_info": {
   "codemirror_mode": {
    "name": "ipython",
    "version": 3
   },
   "file_extension": ".py",
   "mimetype": "text/x-python",
   "name": "python",
   "nbconvert_exporter": "python",
   "pygments_lexer": "ipython3",
   "version": "3.7.4"
  },
  "rise": {
   "enable_chalkboard": true
  }
 },
 "nbformat": 4,
 "nbformat_minor": 2
}
