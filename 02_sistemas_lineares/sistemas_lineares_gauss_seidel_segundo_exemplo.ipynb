{
 "cells": [
  {
   "cell_type": "markdown",
   "metadata": {
    "slideshow": {
     "slide_type": "slide"
    }
   },
   "source": [
    "# Métodos Numéricos\n",
    "\n",
    "## Resolução de Sistemas Lineares\n",
    "## Método de Gauss - Seidel (segundo exemplo)\n",
    "### Patric Lacouth"
   ]
  },
  {
   "cell_type": "markdown",
   "metadata": {
    "slideshow": {
     "slide_type": "slide"
    }
   },
   "source": [
    "Dado o sistema abaixo resolva utilizando o método de Gauss-Seidel com as condições iniciais x = [0,0,0], $\\epsilon_a < 0.01$ e no máximo 100 iterações : \n",
    "\n",
    "$$\\left\\{\\begin{matrix}\n",
    "x_1 & + & 10x_2 & + & 3x_3 & = & 27 \\\\ \n",
    "&  & 4x_1 & + & x_3 & = & 6 \\\\ \n",
    "2x_1 & + & x_2 & + & 4x_3 & = & 12 \n",
    "\\end{matrix}\\right.$$"
   ]
  },
  {
   "cell_type": "markdown",
   "metadata": {
    "slideshow": {
     "slide_type": "slide"
    }
   },
   "source": [
    "# importando as bibliotecas"
   ]
  },
  {
   "cell_type": "code",
   "execution_count": 1,
   "metadata": {},
   "outputs": [],
   "source": [
    "import numpy as np"
   ]
  },
  {
   "cell_type": "markdown",
   "metadata": {
    "slideshow": {
     "slide_type": "slide"
    }
   },
   "source": [
    "## definindo a função que testa a diagonal principal"
   ]
  },
  {
   "cell_type": "code",
   "execution_count": 2,
   "metadata": {},
   "outputs": [],
   "source": [
    "def diagonal_principal(matriz):\n",
    "    diag = np.diag(np.abs(matriz))\n",
    "    soma = np.sum(np.abs(matriz),axis=1) - diag\n",
    "    r = np.all(diag > soma)\n",
    "    if r == True:\n",
    "        print('Matriz com diagonal dominante')\n",
    "        return True\n",
    "    else:\n",
    "        print('Matriz sem diagonal dominante')\n",
    "        return False"
   ]
  },
  {
   "cell_type": "markdown",
   "metadata": {
    "slideshow": {
     "slide_type": "slide"
    }
   },
   "source": [
    "## testando a matriz A\n",
    "$$\\left[ \\begin{matrix}\n",
    "1 & 10 & 3 \\\\\n",
    "4 & 0 & 1\\\\\n",
    "2 & 1 & 4\n",
    "\\end{matrix} \\right]\n",
    "\\left[ \\begin{matrix}\n",
    "x_{1}\\\\\n",
    "x_{2}\\\\\n",
    "x_{3}\n",
    "\\end{matrix} \\right]\n",
    "=\n",
    "\\left[ \\begin{matrix}\n",
    "27\\\\\n",
    "6\\\\\n",
    "12\n",
    "\\end{matrix} \\right]\n",
    "$$"
   ]
  },
  {
   "cell_type": "code",
   "execution_count": 3,
   "metadata": {},
   "outputs": [
    {
     "data": {
      "text/plain": [
       "array([[ 1., 10.,  3.],\n",
       "       [ 4.,  0.,  1.],\n",
       "       [ 2.,  1.,  4.]])"
      ]
     },
     "execution_count": 3,
     "metadata": {},
     "output_type": "execute_result"
    }
   ],
   "source": [
    "A = np.array([[1,10,3],[4,0,1],[2,1,4]],dtype = 'float')\n",
    "A"
   ]
  },
  {
   "cell_type": "code",
   "execution_count": 4,
   "metadata": {},
   "outputs": [
    {
     "name": "stdout",
     "output_type": "stream",
     "text": [
      "Matriz sem diagonal dominante\n"
     ]
    },
    {
     "data": {
      "text/plain": [
       "False"
      ]
     },
     "execution_count": 4,
     "metadata": {},
     "output_type": "execute_result"
    }
   ],
   "source": [
    "diagonal_principal(A)"
   ]
  },
  {
   "cell_type": "markdown",
   "metadata": {
    "slideshow": {
     "slide_type": "slide"
    }
   },
   "source": [
    "## trocando as linhas\n",
    "$$\\left[ \\begin{matrix}\n",
    "4 & 0 & 1\\\\\n",
    "1 & 10 & 3 \\\\\n",
    "2 & 1 & 4\n",
    "\\end{matrix} \\right]\n",
    "\\left[ \\begin{matrix}\n",
    "x_{1}\\\\\n",
    "x_{2}\\\\\n",
    "x_{3}\n",
    "\\end{matrix} \\right]\n",
    "=\n",
    "\\left[ \\begin{matrix}\n",
    "6\\\\\n",
    "27\\\\\n",
    "12\n",
    "\\end{matrix} \\right]\n",
    "$$"
   ]
  },
  {
   "cell_type": "code",
   "execution_count": 5,
   "metadata": {},
   "outputs": [
    {
     "data": {
      "text/plain": [
       "array([[ 4.,  0.,  1.],\n",
       "       [ 1., 10.,  3.],\n",
       "       [ 2.,  1.,  4.]])"
      ]
     },
     "execution_count": 5,
     "metadata": {},
     "output_type": "execute_result"
    }
   ],
   "source": [
    "A[[0,1]] = A[[1,0]]\n",
    "A"
   ]
  },
  {
   "cell_type": "code",
   "execution_count": 6,
   "metadata": {},
   "outputs": [
    {
     "name": "stdout",
     "output_type": "stream",
     "text": [
      "Matriz com diagonal dominante\n"
     ]
    },
    {
     "data": {
      "text/plain": [
       "True"
      ]
     },
     "execution_count": 6,
     "metadata": {},
     "output_type": "execute_result"
    }
   ],
   "source": [
    "diagonal_principal(A)"
   ]
  },
  {
   "cell_type": "markdown",
   "metadata": {
    "slideshow": {
     "slide_type": "slide"
    }
   },
   "source": [
    "Dado o sistema abaixo resolva utilizando o método de Gauss-Seidel com as condições iniciais x = [0,0,0], $\\epsilon_a < 0.01$ e no máximo 100 iterações : \n",
    "\n",
    "$$\\left\\{\\begin{matrix}\n",
    "&  & 4x_1 & + & x_3 & = & 6 \\\\\n",
    "x_1 & + & 10x_2 & + & 3x_3 & = & 27 \\\\  \n",
    "2x_1 & + & x_2 & + & 4x_3 & = & 12 \n",
    "\\end{matrix}\\right.$$"
   ]
  },
  {
   "cell_type": "code",
   "execution_count": 32,
   "metadata": {},
   "outputs": [
    {
     "data": {
      "text/plain": [
       "array([1., 2., 2.])"
      ]
     },
     "execution_count": 32,
     "metadata": {},
     "output_type": "execute_result"
    }
   ],
   "source": [
    "x = np.array([0,0,0], dtype = 'float')\n",
    "erros = []\n",
    "for i in range(100):\n",
    "    x_anterior = x.copy()\n",
    "    x[0] = (6 - x[2]) / 4\n",
    "    x[1] = (27 - x[0] - 3 * x[2]) / 10\n",
    "    x[2] = (12 - 2 * x[0] - x[2]) / 4\n",
    "    erro = np.max(np.abs((x - x_anterior) / x) * 100)\n",
    "    erros.append(erro)\n",
    "    if erro < 0.0000001:\n",
    "        break\n",
    "x"
   ]
  },
  {
   "cell_type": "markdown",
   "metadata": {
    "slideshow": {
     "slide_type": "slide"
    }
   },
   "source": [
    "## analisando o erro"
   ]
  },
  {
   "cell_type": "code",
   "execution_count": 33,
   "metadata": {},
   "outputs": [
    {
     "data": {
      "text/plain": [
       "[100.0,\n",
       " 60.0,\n",
       " 6.976744186046512,\n",
       " 0.8797653958944283,\n",
       " 0.10984987184181619,\n",
       " 0.01373311970702678,\n",
       " 0.0017166104953565686,\n",
       " 0.00021457677235049542,\n",
       " 2.6822089349565224e-05,\n",
       " 3.3527612811057317e-06,\n",
       " 4.1909515838180894e-07,\n",
       " 5.2386894825169985e-08]"
      ]
     },
     "execution_count": 33,
     "metadata": {},
     "output_type": "execute_result"
    }
   ],
   "source": [
    "erros"
   ]
  },
  {
   "cell_type": "code",
   "execution_count": 34,
   "metadata": {},
   "outputs": [
    {
     "data": {
      "text/plain": [
       "12"
      ]
     },
     "execution_count": 34,
     "metadata": {},
     "output_type": "execute_result"
    }
   ],
   "source": [
    "len(erros)"
   ]
  },
  {
   "cell_type": "markdown",
   "metadata": {
    "slideshow": {
     "slide_type": "slide"
    }
   },
   "source": [
    "## verificando a resposta\n",
    "\n",
    "$$\\left[ \\begin{matrix}\n",
    "4 & 0 & 1\\\\\n",
    "1 & 10 & 3 \\\\\n",
    "2 & 1 & 4\n",
    "\\end{matrix} \\right]\n",
    "\\left[ \\begin{matrix}\n",
    "x_{1}\\\\\n",
    "x_{2}\\\\\n",
    "x_{3}\n",
    "\\end{matrix} \\right]\n",
    "=\n",
    "\\left[ \\begin{matrix}\n",
    "6\\\\\n",
    "27\\\\\n",
    "12\n",
    "\\end{matrix} \\right]\n",
    "$$\n",
    "\n",
    "$$[A][x] = [b]$$"
   ]
  },
  {
   "cell_type": "code",
   "execution_count": 35,
   "metadata": {},
   "outputs": [
    {
     "data": {
      "text/plain": [
       "array([ 6., 27., 12.])"
      ]
     },
     "execution_count": 35,
     "metadata": {},
     "output_type": "execute_result"
    }
   ],
   "source": [
    "np.dot(A,x)"
   ]
  },
  {
   "cell_type": "markdown",
   "metadata": {
    "slideshow": {
     "slide_type": "slide"
    }
   },
   "source": [
    "# now, go code!"
   ]
  }
 ],
 "metadata": {
  "celltoolbar": "Slideshow",
  "graffiti": {
   "firstAuthorId": "dev",
   "id": "id_4lwv4s2",
   "language": "EN"
  },
  "kernelspec": {
   "display_name": "Python 3",
   "language": "python",
   "name": "python3"
  },
  "language_info": {
   "codemirror_mode": {
    "name": "ipython",
    "version": 3
   },
   "file_extension": ".py",
   "mimetype": "text/x-python",
   "name": "python",
   "nbconvert_exporter": "python",
   "pygments_lexer": "ipython3",
   "version": "3.7.4"
  },
  "rise": {
   "enable_chalkboard": true
  }
 },
 "nbformat": 4,
 "nbformat_minor": 2
}
