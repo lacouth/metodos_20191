{
 "cells": [
  {
   "cell_type": "markdown",
   "metadata": {
    "slideshow": {
     "slide_type": "slide"
    }
   },
   "source": [
    "# Métodos Numéricos\n",
    "\n",
    "## Resolução de Sistemas Lineares\n",
    "## Método de Gauss - Seidel (segundo exemplo)\n",
    "### Patric Lacouth"
   ]
  },
  {
   "cell_type": "markdown",
   "metadata": {
    "slideshow": {
     "slide_type": "slide"
    }
   },
   "source": [
    "Dado o sistema abaixo resolva utilizando o método de Gauss-Seidel com as condições iniciais x = [0,0,0], $\\epsilon_a < 0.01$ e no máximo 100 iterações : \n",
    "\n",
    "$$\\left\\{\\begin{matrix}\n",
    "x_1 & + & 10x_2 & + & 3x_3 & = & 27 \\\\ \n",
    "&  & 4x_1 & + & x_3 & = & 6 \\\\ \n",
    "2x_1 & + & x_2 & + & 4x_3 & = & 12 \n",
    "\\end{matrix}\\right.$$"
   ]
  },
  {
   "cell_type": "markdown",
   "metadata": {
    "slideshow": {
     "slide_type": "slide"
    }
   },
   "source": [
    "# importando as bibliotecas"
   ]
  },
  {
   "cell_type": "code",
   "execution_count": 5,
   "metadata": {},
   "outputs": [],
   "source": [
    "import numpy as np"
   ]
  },
  {
   "cell_type": "markdown",
   "metadata": {
    "slideshow": {
     "slide_type": "slide"
    }
   },
   "source": [
    "## definindo a função que testa a diagonal principal"
   ]
  },
  {
   "cell_type": "code",
   "execution_count": 6,
   "metadata": {},
   "outputs": [],
   "source": [
    "def diagonal_dominante(matriz):\n",
    "    diag = np.diag(np.abs(matriz))\n",
    "    soma = np.sum(np.abs(matriz),axis=1) - diag\n",
    "    r = np.all(diag > soma)\n",
    "    if r == True:\n",
    "        print('Matriz com diagonal dominante')\n",
    "        return True\n",
    "    else:\n",
    "        print('Matriz sem diagonal dominante')\n",
    "        return False"
   ]
  },
  {
   "cell_type": "markdown",
   "metadata": {
    "slideshow": {
     "slide_type": "slide"
    }
   },
   "source": [
    "## testando a matriz A\n",
    "$$\\left[ \\begin{matrix}\n",
    "1 & 10 & 3 \\\\\n",
    "4 & 0 & 1\\\\\n",
    "2 & 1 & 4\n",
    "\\end{matrix} \\right]\n",
    "\\left[ \\begin{matrix}\n",
    "x_{1}\\\\\n",
    "x_{2}\\\\\n",
    "x_{3}\n",
    "\\end{matrix} \\right]\n",
    "=\n",
    "\\left[ \\begin{matrix}\n",
    "27\\\\\n",
    "6\\\\\n",
    "12\n",
    "\\end{matrix} \\right]\n",
    "$$"
   ]
  },
  {
   "cell_type": "code",
   "execution_count": 7,
   "metadata": {},
   "outputs": [
    {
     "data": {
      "text/plain": [
       "array([[ 1., 10.,  3.],\n",
       "       [ 4.,  0.,  1.],\n",
       "       [ 2.,  1.,  4.]])"
      ]
     },
     "execution_count": 7,
     "metadata": {},
     "output_type": "execute_result"
    }
   ],
   "source": [
    "A = np.array([[1,10,3],[4,0,1],[2,1,4]], dtype = 'float')\n",
    "A"
   ]
  },
  {
   "cell_type": "code",
   "execution_count": 8,
   "metadata": {},
   "outputs": [
    {
     "name": "stdout",
     "output_type": "stream",
     "text": [
      "Matriz sem diagonal dominante\n"
     ]
    },
    {
     "data": {
      "text/plain": [
       "False"
      ]
     },
     "execution_count": 8,
     "metadata": {},
     "output_type": "execute_result"
    }
   ],
   "source": [
    "diagonal_dominante(A)"
   ]
  },
  {
   "cell_type": "markdown",
   "metadata": {
    "slideshow": {
     "slide_type": "slide"
    }
   },
   "source": [
    "## trocando as linhas\n",
    "$$\\left[ \\begin{matrix}\n",
    "4 & 0 & 1\\\\\n",
    "1 & 10 & 3 \\\\\n",
    "2 & 1 & 4\n",
    "\\end{matrix} \\right]\n",
    "\\left[ \\begin{matrix}\n",
    "x_{1}\\\\\n",
    "x_{2}\\\\\n",
    "x_{3}\n",
    "\\end{matrix} \\right]\n",
    "=\n",
    "\\left[ \\begin{matrix}\n",
    "6\\\\\n",
    "27\\\\\n",
    "12\n",
    "\\end{matrix} \\right]\n",
    "$$"
   ]
  },
  {
   "cell_type": "code",
   "execution_count": 9,
   "metadata": {},
   "outputs": [
    {
     "data": {
      "text/plain": [
       "array([[ 4.,  0.,  1.],\n",
       "       [ 1., 10.,  3.],\n",
       "       [ 2.,  1.,  4.]])"
      ]
     },
     "execution_count": 9,
     "metadata": {},
     "output_type": "execute_result"
    }
   ],
   "source": [
    "A[[0,1]] = A[[1,0]]\n",
    "A"
   ]
  },
  {
   "cell_type": "code",
   "execution_count": 10,
   "metadata": {},
   "outputs": [
    {
     "name": "stdout",
     "output_type": "stream",
     "text": [
      "Matriz com diagonal dominante\n"
     ]
    },
    {
     "data": {
      "text/plain": [
       "True"
      ]
     },
     "execution_count": 10,
     "metadata": {},
     "output_type": "execute_result"
    }
   ],
   "source": [
    "diagonal_dominante(A)"
   ]
  },
  {
   "cell_type": "markdown",
   "metadata": {
    "slideshow": {
     "slide_type": "slide"
    }
   },
   "source": [
    "Com o sistema reescrito encontre a solução utilizando o método de Gauss-Seidel com as condições iniciais x = [0,0,0], $\\epsilon_a < 0.01$ e no máximo 100 iterações : \n",
    "\n",
    "$$\\left\\{\\begin{matrix}\n",
    "&  & 4x_1 & + & x_3 & = & 6 \\\\\n",
    "x_1 & + & 10x_2 & + & 3x_3 & = & 27 \\\\  \n",
    "2x_1 & + & x_2 & + & 4x_3 & = & 12 \n",
    "\\end{matrix}\\right.$$"
   ]
  },
  {
   "cell_type": "code",
   "execution_count": 15,
   "metadata": {},
   "outputs": [
    {
     "data": {
      "text/plain": [
       "array([1.00000001, 2.00000001, 1.99999999])"
      ]
     },
     "execution_count": 15,
     "metadata": {},
     "output_type": "execute_result"
    }
   ],
   "source": [
    "x = np.array([0,0,0], dtype = 'float')\n",
    "erros = []\n",
    "for i in range(100):\n",
    "    x_anterior = x.copy()\n",
    "    x[0] = (6 - x[2]) / 4\n",
    "    x[1] = (27 - x[0] - 3 * x[2]) / 10\n",
    "    x[2] = (12 - 2 * x[0] - x[1]) / 4\n",
    "    erro = np.max(np.abs((x - x_anterior) / x) * 100)\n",
    "    erros.append(erro)\n",
    "    if erro < 0.00001:\n",
    "        break\n",
    "\n",
    "x"
   ]
  },
  {
   "cell_type": "markdown",
   "metadata": {
    "slideshow": {
     "slide_type": "slide"
    }
   },
   "source": [
    "## analisando o erro"
   ]
  },
  {
   "cell_type": "code",
   "execution_count": 16,
   "metadata": {},
   "outputs": [
    {
     "data": {
      "text/plain": [
       "[100.0,\n",
       " 36.75213675213675,\n",
       " 7.666647495255077,\n",
       " 1.5078101596111981,\n",
       " 0.2929941663623924,\n",
       " 0.05679986366331927,\n",
       " 0.011006184812482897,\n",
       " 0.0021324937817447285,\n",
       " 0.00041317237734621196,\n",
       " 8.005221218018869e-05,\n",
       " 1.551011852207151e-05,\n",
       " 3.0050855586751917e-06]"
      ]
     },
     "execution_count": 16,
     "metadata": {},
     "output_type": "execute_result"
    }
   ],
   "source": [
    "erros"
   ]
  },
  {
   "cell_type": "code",
   "execution_count": 17,
   "metadata": {},
   "outputs": [
    {
     "data": {
      "text/plain": [
       "12"
      ]
     },
     "execution_count": 17,
     "metadata": {},
     "output_type": "execute_result"
    }
   ],
   "source": [
    "len(erros)"
   ]
  },
  {
   "cell_type": "markdown",
   "metadata": {
    "slideshow": {
     "slide_type": "slide"
    }
   },
   "source": [
    "## verificando a resposta\n",
    "\n",
    "$$\\left[ \\begin{matrix}\n",
    "4 & 0 & 1\\\\\n",
    "1 & 10 & 3 \\\\\n",
    "2 & 1 & 4\n",
    "\\end{matrix} \\right]\n",
    "\\left[ \\begin{matrix}\n",
    "x_{1}\\\\\n",
    "x_{2}\\\\\n",
    "x_{3}\n",
    "\\end{matrix} \\right]\n",
    "=\n",
    "\\left[ \\begin{matrix}\n",
    "6\\\\\n",
    "27\\\\\n",
    "12\n",
    "\\end{matrix} \\right]\n",
    "$$\n",
    "\n",
    "$$[A][x] = [b]$$"
   ]
  },
  {
   "cell_type": "code",
   "execution_count": 18,
   "metadata": {},
   "outputs": [
    {
     "data": {
      "text/plain": [
       "array([ 6.00000002, 27.00000007, 12.        ])"
      ]
     },
     "execution_count": 18,
     "metadata": {},
     "output_type": "execute_result"
    }
   ],
   "source": [
    "np.dot(A,x)"
   ]
  },
  {
   "cell_type": "markdown",
   "metadata": {
    "slideshow": {
     "slide_type": "slide"
    }
   },
   "source": [
    "# now, go code!"
   ]
  }
 ],
 "metadata": {
  "celltoolbar": "Slideshow",
  "graffiti": {
   "firstAuthorId": "dev",
   "id": "id_4lwv4s2",
   "language": "EN"
  },
  "kernelspec": {
   "display_name": "Python 3",
   "language": "python",
   "name": "python3"
  },
  "language_info": {
   "codemirror_mode": {
    "name": "ipython",
    "version": 3
   },
   "file_extension": ".py",
   "mimetype": "text/x-python",
   "name": "python",
   "nbconvert_exporter": "python",
   "pygments_lexer": "ipython3",
   "version": "3.7.4"
  },
  "rise": {
   "enable_chalkboard": true
  }
 },
 "nbformat": 4,
 "nbformat_minor": 2
}
