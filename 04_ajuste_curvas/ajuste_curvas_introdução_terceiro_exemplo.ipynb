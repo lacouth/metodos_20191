{
 "cells": [
  {
   "cell_type": "code",
   "execution_count": 12,
   "metadata": {
    "slideshow": {
     "slide_type": "skip"
    }
   },
   "outputs": [],
   "source": [
    "import numpy as np\n",
    "import matplotlib.pyplot as plt\n",
    "plt.rcParams[\"figure.figsize\"] = (15,10) #configurando tamanho e fonte dos gráficos\n",
    "plt.rcParams.update({'font.size': 22})"
   ]
  },
  {
   "cell_type": "markdown",
   "metadata": {
    "slideshow": {
     "slide_type": "slide"
    }
   },
   "source": [
    "# Métodos Numéricos\n",
    "\n",
    "## Ajuste de curvas - terceiro exemplo\n",
    "\n",
    "### Patric Lacouth"
   ]
  },
  {
   "cell_type": "markdown",
   "metadata": {
    "slideshow": {
     "slide_type": "slide"
    }
   },
   "source": [
    "# o problema \n",
    "\n",
    "A população em milhões dos Estados Unidos de 1920 a 2000 pode ser tabulada como\n",
    "\n",
    "Data|População\n",
    "-------|------\n",
    "1920|106,46\n",
    "1930|123,08\n",
    "1940|132,12\n",
    "1950|152,27\n",
    "1960|180,67\n",
    "1970|205,05\n",
    "1980|227,23\n",
    "1990|249,46\n",
    "2000|281,42\n",
    "\n",
    "Ajuste um polinômio de sétimo grau aos 8 primeiros pontos (1920 a 1990). Use-o para calcular a população em 2000 "
   ]
  },
  {
   "cell_type": "markdown",
   "metadata": {
    "slideshow": {
     "slide_type": "slide"
    }
   },
   "source": [
    "# implementando em Python\n",
    "## importando as bibliotecas"
   ]
  },
  {
   "cell_type": "code",
   "execution_count": 2,
   "metadata": {},
   "outputs": [],
   "source": [
    "import numpy as np\n",
    "import matplotlib.pyplot as plt"
   ]
  },
  {
   "cell_type": "markdown",
   "metadata": {
    "slideshow": {
     "slide_type": "slide"
    }
   },
   "source": [
    "criando os pontos\n",
    "\n",
    "Data|População\n",
    "-------|------\n",
    "1920|106,46\n",
    "1930|123,08\n",
    "1940|132,12\n",
    "1950|152,27\n",
    "1960|180,67\n",
    "1970|205,05\n",
    "1980|227,23\n",
    "1990|249,46"
   ]
  },
  {
   "cell_type": "code",
   "execution_count": 3,
   "metadata": {},
   "outputs": [
    {
     "data": {
      "text/plain": [
       "(array([1920, 1930, 1940, 1950, 1960, 1970, 1980, 1990]),\n",
       " array([106.46, 123.08, 132.12, 152.27, 180.65, 205.05, 227.23, 249.46]))"
      ]
     },
     "execution_count": 3,
     "metadata": {},
     "output_type": "execute_result"
    }
   ],
   "source": [
    "xi = np.array([1920,1930,1940,1950,1960,1970,1980,1990])\n",
    "yi = np.array([106.46,123.08,132.12,152.27,180.65,205.05,227.23,249.46])\n",
    "xi,yi"
   ]
  },
  {
   "cell_type": "markdown",
   "metadata": {
    "slideshow": {
     "slide_type": "slide"
    }
   },
   "source": [
    "## montando o sistema\n",
    "\n",
    "$$\\left[ \\begin{matrix}\n",
    "N & \\sum_{i=1}^N x_i & \\sum_{i=1}^N x_i^2\\\\\n",
    "\\sum_{i=1}^N x_i & \\sum_{i=1}^N x_i^2 & \\sum_{i=1}^N x_i^3 \\\\\n",
    "\\sum_{i=1}^N x_i^2 & \\sum_{i=1}^N x_i^3 & \\sum_{i=1}^N x_i^4\n",
    "\\end{matrix} \\right]\n",
    "\\left[ \\begin{matrix}\n",
    "a_{1}\\\\\n",
    "a_{2}\\\\\n",
    "a_{3}\n",
    "\\end{matrix} \\right]\n",
    "=\n",
    "\\left[ \\begin{matrix}\n",
    "\\sum_{i=1}^N y_i\\\\\n",
    "\\sum_{i=1}^N x_i y_i\\\\\n",
    "\\sum_{i=1}^N x_i^2 y_i\n",
    "\\end{matrix} \\right]\n",
    "$$\n"
   ]
  },
  {
   "cell_type": "code",
   "execution_count": 4,
   "metadata": {},
   "outputs": [
    {
     "data": {
      "text/plain": [
       "(array([[8.0000000e+00, 1.5640000e+04, 3.0580400e+07],\n",
       "        [1.5640000e+04, 3.0580400e+07, 5.9801104e+10],\n",
       "        [3.0580400e+07, 5.9801104e+10, 1.1695932e+14]]),\n",
       " array([1.37632000e+03, 2.69955020e+06, 5.29565097e+09]))"
      ]
     },
     "execution_count": 4,
     "metadata": {},
     "output_type": "execute_result"
    }
   ],
   "source": [
    "N = xi.shape[0]\n",
    "sum_xi = np.sum(xi)\n",
    "sum_xi2 = np.sum(xi ** 2)\n",
    "sum_xi3 = np.sum(xi ** 3)\n",
    "sum_xi4 = np.sum(xi ** 4)\n",
    "\n",
    "sum_yi = np.sum(yi)\n",
    "sum_xiyi = np.sum(xi * yi)\n",
    "sum_xi2yi = np.sum(xi ** 2 * yi)\n",
    "\n",
    "A = np.array([[N,sum_xi, sum_xi2],[sum_xi,sum_xi2,sum_xi3],[sum_xi2,sum_xi3,sum_xi4]], dtype = float)\n",
    "b = np.array([sum_yi,sum_xiyi,sum_xi2yi], dtype = float)\n",
    "A,b"
   ]
  },
  {
   "cell_type": "markdown",
   "metadata": {
    "slideshow": {
     "slide_type": "slide"
    }
   },
   "source": [
    "# resolvendo o sistema"
   ]
  },
  {
   "cell_type": "code",
   "execution_count": 5,
   "metadata": {},
   "outputs": [
    {
     "data": {
      "text/plain": [
       "array([1.37632000e+03, 2.69955020e+06, 5.29565097e+09])"
      ]
     },
     "execution_count": 5,
     "metadata": {},
     "output_type": "execute_result"
    }
   ],
   "source": [
    "x = np.linalg.solve(A,b)\n",
    "np.dot(A,x)"
   ]
  },
  {
   "cell_type": "markdown",
   "metadata": {
    "slideshow": {
     "slide_type": "slide"
    }
   },
   "source": [
    "# criando a função do polinômio"
   ]
  },
  {
   "cell_type": "code",
   "execution_count": 6,
   "metadata": {},
   "outputs": [
    {
     "data": {
      "text/plain": [
       "array([ 3.37332600e+04, -3.64448815e+01,  9.85952394e-03])"
      ]
     },
     "execution_count": 6,
     "metadata": {},
     "output_type": "execute_result"
    }
   ],
   "source": [
    "x"
   ]
  },
  {
   "cell_type": "code",
   "execution_count": 7,
   "metadata": {},
   "outputs": [],
   "source": [
    "def polinomio(x):\n",
    "    return 3.37332600e+04 -3.64448815e+01 * x + 9.85952394e-03 * x**2"
   ]
  },
  {
   "cell_type": "markdown",
   "metadata": {
    "slideshow": {
     "slide_type": "slide"
    }
   },
   "source": [
    "# traçando o gráfico"
   ]
  },
  {
   "cell_type": "code",
   "execution_count": 13,
   "metadata": {},
   "outputs": [
    {
     "data": {
      "image/png": "[encoded data removed]",
      "text/plain": [
       "<Figure size 1080x720 with 1 Axes>"
      ]
     },
     "metadata": {
      "needs_background": "light"
     },
     "output_type": "display_data"
    }
   ],
   "source": [
    "xa = np.arange(1920,2001,1)\n",
    "ya = polinomio(xa)\n",
    "\n",
    "plt.plot(xa,ya)\n",
    "plt.scatter(xi,yi,c='red',s=200)\n",
    "plt.grid(True)"
   ]
  },
  {
   "cell_type": "markdown",
   "metadata": {
    "slideshow": {
     "slide_type": "slide"
    }
   },
   "source": [
    "# testando a aproximação para o ano 2000\n",
    "\n",
    "Data|População\n",
    "-------|------\n",
    "1920|106,46\n",
    "1930|123,08\n",
    "1940|132,12\n",
    "1950|152,27\n",
    "1960|180,67\n",
    "1970|205,05\n",
    "1980|227,23\n",
    "1990|249,46\n",
    "2000|281,42"
   ]
  },
  {
   "cell_type": "code",
   "execution_count": 9,
   "metadata": {},
   "outputs": [
    {
     "data": {
      "text/plain": [
       "281.59275999999227"
      ]
     },
     "execution_count": 9,
     "metadata": {},
     "output_type": "execute_result"
    }
   ],
   "source": [
    "polinomio(2000)"
   ]
  },
  {
   "cell_type": "markdown",
   "metadata": {
    "slideshow": {
     "slide_type": "slide"
    }
   },
   "source": [
    "# now, go code!"
   ]
  }
 ],
 "metadata": {
  "celltoolbar": "Slideshow",
  "kernelspec": {
   "display_name": "Python 3",
   "language": "python",
   "name": "python3"
  },
  "language_info": {
   "codemirror_mode": {
    "name": "ipython",
    "version": 3
   },
   "file_extension": ".py",
   "mimetype": "text/x-python",
   "name": "python",
   "nbconvert_exporter": "python",
   "pygments_lexer": "ipython3",
   "version": "3.7.4"
  },
  "rise": {
   "enable_chalkboard": true
  }
 },
 "nbformat": 4,
 "nbformat_minor": 2
}
