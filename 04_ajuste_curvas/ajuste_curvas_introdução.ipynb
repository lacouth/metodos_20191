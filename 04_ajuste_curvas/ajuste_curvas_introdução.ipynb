{
 "cells": [
  {
   "cell_type": "code",
   "execution_count": 5,
   "metadata": {
    "slideshow": {
     "slide_type": "skip"
    }
   },
   "outputs": [],
   "source": [
    "import numpy as np\n",
    "import matplotlib.pyplot as plt\n",
    "plt.rcParams[\"figure.figsize\"] = (15,10) #configurando tamanho e fonte dos gráficos\n",
    "plt.rcParams.update({'font.size': 22})"
   ]
  },
  {
   "cell_type": "markdown",
   "metadata": {
    "slideshow": {
     "slide_type": "slide"
    }
   },
   "source": [
    "# Métodos Numéricos\n",
    "\n",
    "## Ajuste de curvas - método dos mínimos quadrados\n",
    "\n",
    "### Patric Lacouth"
   ]
  },
  {
   "cell_type": "code",
   "execution_count": 2,
   "metadata": {
    "slideshow": {
     "slide_type": "skip"
    }
   },
   "outputs": [],
   "source": [
    "x = np.array([1,1.5,2], dtype=float)\n",
    "y = np.array([1.2,1.3,2.3], dtype=float)"
   ]
  },
  {
   "cell_type": "code",
   "execution_count": 3,
   "metadata": {
    "slideshow": {
     "slide_type": "skip"
    }
   },
   "outputs": [],
   "source": [
    "def reta(x):\n",
    "    return -0.05 + 1.1 * x"
   ]
  },
  {
   "cell_type": "markdown",
   "metadata": {
    "slideshow": {
     "slide_type": "slide"
    }
   },
   "source": [
    "# o problema \n",
    "\n",
    "Dado os pontos, encontrar a reta que melhor se ajusta aos pontos\n",
    "\n",
    "x | y\n",
    "---|---\n",
    "1|1.2\n",
    "1.5|1.3\n",
    "2|2.3"
   ]
  },
  {
   "cell_type": "code",
   "execution_count": 6,
   "metadata": {
    "slideshow": {
     "slide_type": "slide"
    }
   },
   "outputs": [
    {
     "data": {
      "image/png": "[encoded data removed]",
      "text/plain": [
       "<Figure size 1080x720 with 1 Axes>"
      ]
     },
     "metadata": {
      "needs_background": "light"
     },
     "output_type": "display_data"
    }
   ],
   "source": [
    "xa = np.arange(0.5,2.5,0.01)\n",
    "ya = reta(xa)\n",
    "\n",
    "plt.scatter(x,y,c='red',s=200)\n",
    "plt.plot(xa,ya)\n",
    "plt.grid(True)"
   ]
  },
  {
   "cell_type": "markdown",
   "metadata": {
    "slideshow": {
     "slide_type": "slide"
    }
   },
   "source": [
    "# o resíduo\n",
    "\n",
    "$$R = \\sum_{i = 1}^N (f(x_i) - y_i)^2$$\n",
    "\n",
    "$$R(a_1,a_2) = \\sum_{i = 1}^N (a_1 + a_2x_i - y_i)^2$$"
   ]
  },
  {
   "cell_type": "markdown",
   "metadata": {
    "cell_style": "center",
    "slideshow": {
     "slide_type": "slide"
    }
   },
   "source": [
    "Observamos que  é uma forma quadrática e que seu mínimo ocorre quando suas derivadas parciais primeiras são iguais a zero, isto é,\n",
    "\n",
    "$$\\frac{\\partial R}{\\partial a_1} = \\frac{\\partial}{\\partial a_1} \\sum_{i = 1}^N (a_1 + a_2x_i - y_i)^2 = 0$$\n",
    "$$\\frac{\\partial R}{\\partial a_2} = \\frac{\\partial}{\\partial a_2} \\sum_{i = 1}^N (a_1 + a_2x_i - y_i)^2 = 0$$"
   ]
  },
  {
   "cell_type": "markdown",
   "metadata": {
    "cell_style": "split",
    "slideshow": {
     "slide_type": "fragment"
    }
   },
   "source": [
    "aplicando a regra da cadeia\n",
    "\n",
    "$$2 \\sum_{i=1}^N (a_1 + a_2x_i - y_i) \\cdot 1 = 0$$\n",
    "\n",
    "$$2 \\sum_{i=1}^N (a_1 + a_2x_i - y_i) \\cdot x_i = 0$$\n"
   ]
  },
  {
   "cell_type": "markdown",
   "metadata": {
    "cell_style": "split",
    "slideshow": {
     "slide_type": "fragment"
    }
   },
   "source": [
    "isolando as incógnitas temos\n",
    "\n",
    "$$ a_1\\sum_{i=1}^N 1 + a_2\\sum_{i=1}^N x_i = \\sum_{i=1}^N y_i $$\n",
    "$$ a_1\\sum_{i=1}^N x_i + a_2\\sum_{i=1}^N x_i^2 = \\sum_{i=1}^N x_i y_i $$"
   ]
  },
  {
   "cell_type": "markdown",
   "metadata": {
    "slideshow": {
     "slide_type": "slide"
    }
   },
   "source": [
    "Observando que $\\sum_{i=1}^N 1 = N $, o sistema linear acima pode ser escrito na forma matricial\n",
    "\n",
    "$$\\left[ \\begin{matrix}\n",
    "N & \\sum_{i=1}^N x_i \\\\\n",
    "\\sum_{i=1}^N x_i & \\sum_{i=1}^N x_i^2\n",
    "\\end{matrix} \\right]\n",
    "\\left[ \\begin{matrix}\n",
    "a_{1}\\\\\n",
    "a_{2}\n",
    "\\end{matrix} \\right]\n",
    "=\n",
    "\\left[ \\begin{matrix}\n",
    "\\sum_{i=1}^N y_i\\\\\n",
    "\\sum_{i=1}^N x_i y_i\\\\\n",
    "\\end{matrix} \\right]\n",
    "$$\n",
    "\n",
    "basta resolver o sistema para encontrar a reta $a_1 + a_2 x$ que melhor se adapta aos pontos"
   ]
  },
  {
   "cell_type": "markdown",
   "metadata": {
    "slideshow": {
     "slide_type": "slide"
    }
   },
   "source": [
    "# implementando em Python\n",
    "## importando as bibliotecas"
   ]
  },
  {
   "cell_type": "code",
   "execution_count": 1,
   "metadata": {},
   "outputs": [],
   "source": [
    "import numpy as np\n",
    "import matplotlib.pyplot as plt"
   ]
  },
  {
   "cell_type": "markdown",
   "metadata": {
    "slideshow": {
     "slide_type": "slide"
    }
   },
   "source": [
    "Dado os pontos, encontrar a reta que melhor se ajusta aos pontos\n",
    "\n",
    "x | y\n",
    "---|---\n",
    "1|1.2\n",
    "1.5|1.3\n",
    "2|2.3"
   ]
  },
  {
   "cell_type": "code",
   "execution_count": 2,
   "metadata": {},
   "outputs": [
    {
     "data": {
      "text/plain": [
       "(array([1. , 1.5, 2. ]), array([1.2, 1.3, 2.3]))"
      ]
     },
     "execution_count": 2,
     "metadata": {},
     "output_type": "execute_result"
    }
   ],
   "source": [
    "xi = np.array([1,1.5,2], dtype = float)\n",
    "yi = np.array([1.2,1.3,2.3], dtype = float)\n",
    "xi,yi"
   ]
  },
  {
   "cell_type": "markdown",
   "metadata": {
    "slideshow": {
     "slide_type": "slide"
    }
   },
   "source": [
    "## montando o sistema\n",
    "\n",
    "$$\\left[ \\begin{matrix}\n",
    "N & \\sum_{i=1}^N x_i \\\\\n",
    "\\sum_{i=1}^N x_i & \\sum_{i=1}^N x_i^2\n",
    "\\end{matrix} \\right]\n",
    "\\left[ \\begin{matrix}\n",
    "a_{1}\\\\\n",
    "a_{2}\n",
    "\\end{matrix} \\right]\n",
    "=\n",
    "\\left[ \\begin{matrix}\n",
    "\\sum_{i=1}^N y_i\\\\\n",
    "\\sum_{i=1}^N x_i y_i\\\\\n",
    "\\end{matrix} \\right]\n",
    "$$\n"
   ]
  },
  {
   "cell_type": "code",
   "execution_count": 3,
   "metadata": {},
   "outputs": [
    {
     "data": {
      "text/plain": [
       "(array([[3.  , 4.5 ],\n",
       "        [4.5 , 7.25]]), array([4.8 , 7.75]))"
      ]
     },
     "execution_count": 3,
     "metadata": {},
     "output_type": "execute_result"
    }
   ],
   "source": [
    "N = xi.shape[0]\n",
    "sum_xi = np.sum(xi)\n",
    "sum_xi2 = np.sum(xi ** 2)\n",
    "sum_yi = np.sum(yi)\n",
    "sum_xiyi = np.sum(xi * yi)\n",
    "\n",
    "A = np.array([[N,sum_xi],[sum_xi,sum_xi2]], dtype = float)\n",
    "b = np.array([sum_yi,sum_xiyi], dtype = float)\n",
    "A,b\n"
   ]
  },
  {
   "cell_type": "markdown",
   "metadata": {
    "slideshow": {
     "slide_type": "slide"
    }
   },
   "source": [
    "# resolvendo o sistema"
   ]
  },
  {
   "cell_type": "code",
   "execution_count": 6,
   "metadata": {},
   "outputs": [
    {
     "data": {
      "text/plain": [
       "array([-0.05,  1.1 ])"
      ]
     },
     "execution_count": 6,
     "metadata": {},
     "output_type": "execute_result"
    }
   ],
   "source": [
    "x = np.linalg.solve(A,b)\n",
    "x"
   ]
  },
  {
   "cell_type": "markdown",
   "metadata": {
    "slideshow": {
     "slide_type": "slide"
    }
   },
   "source": [
    "# criando a função da reta"
   ]
  },
  {
   "cell_type": "code",
   "execution_count": 7,
   "metadata": {},
   "outputs": [
    {
     "data": {
      "text/plain": [
       "array([-0.05,  1.1 ])"
      ]
     },
     "execution_count": 7,
     "metadata": {},
     "output_type": "execute_result"
    }
   ],
   "source": [
    "x"
   ]
  },
  {
   "cell_type": "code",
   "execution_count": 8,
   "metadata": {},
   "outputs": [],
   "source": [
    "def reta(x):\n",
    "    return -0.05 + 1.1 * x"
   ]
  },
  {
   "cell_type": "markdown",
   "metadata": {
    "slideshow": {
     "slide_type": "slide"
    }
   },
   "source": [
    "# traçando o gráfico"
   ]
  },
  {
   "cell_type": "code",
   "execution_count": 11,
   "metadata": {},
   "outputs": [
    {
     "data": {
      "image/png": "[encoded data removed]",
      "text/plain": [
       "<Figure size 432x288 with 1 Axes>"
      ]
     },
     "metadata": {
      "needs_background": "light"
     },
     "output_type": "display_data"
    }
   ],
   "source": [
    "xa = np.arange(0.5, 2.5, 0.1)\n",
    "ya = reta(xa)\n",
    "\n",
    "plt.plot(xa,ya)\n",
    "plt.scatter(xi,yi,c='red')\n",
    "\n",
    "plt.grid(True)"
   ]
  },
  {
   "cell_type": "markdown",
   "metadata": {
    "slideshow": {
     "slide_type": "slide"
    }
   },
   "source": [
    "# now, go code!"
   ]
  }
 ],
 "metadata": {
  "celltoolbar": "Slideshow",
  "kernelspec": {
   "display_name": "Python 3",
   "language": "python",
   "name": "python3"
  },
  "language_info": {
   "codemirror_mode": {
    "name": "ipython",
    "version": 3
   },
   "file_extension": ".py",
   "mimetype": "text/x-python",
   "name": "python",
   "nbconvert_exporter": "python",
   "pygments_lexer": "ipython3",
   "version": "3.7.4"
  },
  "rise": {
   "enable_chalkboard": true
  }
 },
 "nbformat": 4,
 "nbformat_minor": 2
}
