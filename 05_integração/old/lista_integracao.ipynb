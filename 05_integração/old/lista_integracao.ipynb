{
 "cells": [
  {
   "cell_type": "markdown",
   "metadata": {},
   "source": [
    "# Exercícios Integração\n",
    "\n",
    "1. Resolva a seguinte integral:\n",
    "\n",
    "$$\\int_{-2}^4 (1-e^{-x}) dx$$\n",
    "\n",
    "    1.1. Analiticamente\n",
    "    1.2. Aplicação simples da regra do trapézio\n",
    "    1.3. Aplicação da regra composta do trapézio com n=2 até n=8\n",
    "    1.4. Aplicação simples da regra de 1/3 de Simpson\n",
    "    1.5. Aplicação da regra composta de de Simpson de n=2 até n=8\n",
    "\n",
    "Para todos os itens o erro relativo percentual baseado em 1.1"
   ]
  },
  {
   "cell_type": "code",
   "execution_count": null,
   "metadata": {},
   "outputs": [],
   "source": []
  },
  {
   "cell_type": "markdown",
   "metadata": {},
   "source": [
    "2. Resolva numericamente a integral $I = \\int_{-3}^5(4x-3)^3dx = 2056$ "
   ]
  },
  {
   "cell_type": "code",
   "execution_count": null,
   "metadata": {},
   "outputs": [],
   "source": []
  },
  {
   "cell_type": "markdown",
   "metadata": {},
   "source": [
    "3. Resolva a integral pelo método de 1/3 de Simpson \n",
    "\n",
    "$$ I = \\int_0^{\\pi/2} (8 + 4 cos(x) dx $$  "
   ]
  },
  {
   "cell_type": "code",
   "execution_count": null,
   "metadata": {},
   "outputs": [],
   "source": []
  },
  {
   "cell_type": "markdown",
   "metadata": {},
   "source": [
    "4. Resolva a integral:\n",
    "\n",
    "$$\\int_1^\\pi \\frac{ln(x)}{(x^2-2x+2} dx$$ \n",
    "\n",
    "    4.1 Utilizando dois pontos\n",
    "    4.2 Utilizando quatro pontos\n",
    "    4.3 Utilizando cinco pontos"
   ]
  },
  {
   "cell_type": "code",
   "execution_count": null,
   "metadata": {},
   "outputs": [],
   "source": []
  },
  {
   "cell_type": "markdown",
   "metadata": {},
   "source": [
    "5. Resolva a integral abaixo para um precisão de 4 digítos\n",
    "\n",
    "$$I = \\int_0^{\\pi/2} \\frac{dx}{\\sqrt{sen(x)}}$$\n",
    "\n",
    "sendo o valor exato I = 2.62206"
   ]
  },
  {
   "cell_type": "code",
   "execution_count": null,
   "metadata": {},
   "outputs": [],
   "source": []
  }
 ],
 "metadata": {
  "kernelspec": {
   "display_name": "Python 3",
   "language": "python",
   "name": "python3"
  },
  "language_info": {
   "codemirror_mode": {
    "name": "ipython",
    "version": 3
   },
   "file_extension": ".py",
   "mimetype": "text/x-python",
   "name": "python",
   "nbconvert_exporter": "python",
   "pygments_lexer": "ipython3",
   "version": "3.7.4"
  }
 },
 "nbformat": 4,
 "nbformat_minor": 2
}
