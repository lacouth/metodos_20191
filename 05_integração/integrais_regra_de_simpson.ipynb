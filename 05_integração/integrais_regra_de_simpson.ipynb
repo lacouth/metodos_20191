{
 "cells": [
  {
   "cell_type": "markdown",
   "metadata": {
    "slideshow": {
     "slide_type": "slide"
    }
   },
   "source": [
    "# Métodos Numéricos\n",
    "\n",
    "## Integrais definidas - a regra de Simpson\n",
    "\n",
    "### Patric Lacouth"
   ]
  },
  {
   "cell_type": "markdown",
   "metadata": {
    "slideshow": {
     "slide_type": "slide"
    }
   },
   "source": [
    "## FÓRMULAS DE NEWTON-COTES\n",
    "\n",
    "As fórmulas de Newton-Cotes são os esquemas de integração numérica mais comuns. Eles são baseados na estratégia de substituir uma função complicada ou dados tabulados por um polinômio que é fácil de integrar.\n",
    "\n",
    "![](imagens/exemplo_newton_cotes.png)\n"
   ]
  },
  {
   "cell_type": "markdown",
   "metadata": {
    "cell_style": "center",
    "slideshow": {
     "slide_type": "slide"
    }
   },
   "source": [
    "### A regra de 1/3 de Simpson\n",
    "\n",
    "A regra de 1/3 de Simpson corresponde ao caso em que o polinômio, que representa a função que queremos integrar, é de segunda ordem:\n",
    "\n",
    "$$I = \\int_{x_0}^{x_2} \\left[ \\frac{(x-x_1)(x-x_2)}{(x_0-x_1)(x_0-x_2)}f(x_0) +  \\frac{(x-x_0)(x-x_2)}{(x_1-x_0)(x_1-x_2)}f(x_1) + \\frac{(x-x_0)(x-x_1)}{(x_2-x_0)(x_2-x_0)}f(x_2)\\right] dx$$\n",
    "\n",
    "onde _a_ e *b* são representados por $x_0$ e $x_2$, respectivamente.\n",
    "\n",
    "_na equação acima usamos o polinômio interpolador de Lagrange para três pontos, mas qualquer uma das regras de interpolação polinomial resulta na mesma aproximação._"
   ]
  },
  {
   "cell_type": "markdown",
   "metadata": {
    "cell_style": "center",
    "slideshow": {
     "slide_type": "slide"
    }
   },
   "source": [
    "O resultado da integração é:\n",
    "\n",
    "$$I = \\frac{h}{3}[f(x_0) + 4f(x_1) + f(x_2)]$$\n",
    "\n",
    "onde, nesse caso, $h=(b-a)/2$. Essa equação é conhecida como a regra 1/3 de Simpson.\n"
   ]
  },
  {
   "cell_type": "markdown",
   "metadata": {
    "slideshow": {
     "slide_type": "slide"
    }
   },
   "source": [
    "## Exemplo\n",
    "\n",
    "1. Usando a regra 1/3 de Simpson integre a função:\n",
    "\n",
    "$$f(x) = 0.2 +25x-200x^2+675x^3-900x^4+400x^5$$\n",
    "\n",
    "de $a=0$ a $b=0.8$. Note que o valor da integral pode ser definida analiticamente como $I = 1.640533$."
   ]
  },
  {
   "cell_type": "markdown",
   "metadata": {
    "slideshow": {
     "slide_type": "slide"
    }
   },
   "source": [
    "__solução__\n",
    "\n",
    "Para a regra de 1/3 de Simpson precisamos de três pontos o que resulta em dois intervalos de mesma largura, logo\n",
    "$n=2$ e $h=0.4$. Temos então:\n",
    "\n",
    "$f(0) = 0.2$ $f(0.4) = 2.456$ e $f(0.8) = 0.232$\n",
    "\n",
    "$$I = \\frac{0.4}{3}(0.2+4(2.456)+0.232) = 1.367$$"
   ]
  },
  {
   "cell_type": "markdown",
   "metadata": {
    "slideshow": {
     "slide_type": "slide"
    }
   },
   "source": [
    "## A regra 1/3 de Simpson composta\n",
    "\n",
    "Assim como com a regra do trapézio, a regra de Simpson pode ser melhorada dividindo o intervalo de integração em um número de segmentos de largura igual. A integral pode ser representada como:\n",
    "\n",
    "$$I = \\int_{x_0}^{x_2}f(x)dx + \\int_{x_2}^{x_4}f(x) + \\dots +\\int_{x_{n-2}}^{x_n}f(x)dx$$\n",
    "\n",
    "Substituindo a regra de 1/3 de Simpson para cada  integral e agrupando os termos obtemos:\n",
    "\n",
    "$$I = \\frac{h}{3}(f(x_0) + 4\\sum_{i=1,3,5...}^{n-1}f(x_i) + 2 \\sum_{j=2,4,6,...}^{n-2}f(x_j) + f(x_n))$$\n"
   ]
  },
  {
   "cell_type": "markdown",
   "metadata": {
    "slideshow": {
     "slide_type": "slide"
    }
   },
   "source": [
    "Observe que um número par de segmentos deve ser utilizado para implementar o método. Além disso, os coeficientes “4” e “2” na equação anterior podem parecer peculiares à primeira vista. \n",
    "\n",
    "<img src = \"imagens/simpson_1_3_composta.png\" width = 55% style = \"display: block; margin-right:auto; margin-left:auto\"/>"
   ]
  },
  {
   "cell_type": "markdown",
   "metadata": {
    "slideshow": {
     "slide_type": "slide"
    }
   },
   "source": [
    "## Implementação da regra 1/3 de Simpson\n",
    "### importando as bibliotecas"
   ]
  },
  {
   "cell_type": "code",
   "execution_count": 10,
   "metadata": {},
   "outputs": [],
   "source": [
    "import numpy as np"
   ]
  },
  {
   "cell_type": "markdown",
   "metadata": {
    "slideshow": {
     "slide_type": "slide"
    }
   },
   "source": [
    "### Definindo a função para a integração\n",
    "$$f(x) = 0.2 +25x-200x^2+675x^3-900x^4+400x^5$$"
   ]
  },
  {
   "cell_type": "code",
   "execution_count": 2,
   "metadata": {},
   "outputs": [],
   "source": [
    "def f(x):\n",
    "    return 0.2 + 25 * x - 200 * x ** 2 + 675 * x **3 - 900 * x **4 + 400 * x ** 5"
   ]
  },
  {
   "cell_type": "markdown",
   "metadata": {
    "slideshow": {
     "slide_type": "slide"
    }
   },
   "source": [
    "### criando as constantes (a,b,n e h)"
   ]
  },
  {
   "cell_type": "code",
   "execution_count": 11,
   "metadata": {},
   "outputs": [],
   "source": [
    "a = 0\n",
    "b = 0.8\n",
    "n = 4\n",
    "h = (b - a) / n"
   ]
  },
  {
   "cell_type": "markdown",
   "metadata": {
    "slideshow": {
     "slide_type": "slide"
    }
   },
   "source": [
    "### calculando os valores de f(xi)"
   ]
  },
  {
   "cell_type": "code",
   "execution_count": 12,
   "metadata": {},
   "outputs": [
    {
     "data": {
      "text/plain": [
       "array([1.288, 2.456, 3.464, 0.232])"
      ]
     },
     "execution_count": 12,
     "metadata": {},
     "output_type": "execute_result"
    }
   ],
   "source": [
    "xi = np.arange(a+h,b,h)\n",
    "fxi = f(xi)\n",
    "fxi"
   ]
  },
  {
   "cell_type": "markdown",
   "metadata": {
    "slideshow": {
     "slide_type": "slide"
    }
   },
   "source": [
    "### criando um vetor de índices"
   ]
  },
  {
   "cell_type": "code",
   "execution_count": 5,
   "metadata": {},
   "outputs": [
    {
     "data": {
      "text/plain": [
       "array([0, 1, 2, 3])"
      ]
     },
     "execution_count": 5,
     "metadata": {},
     "output_type": "execute_result"
    }
   ],
   "source": [
    "i = np.arange(len(fxi))\n",
    "i"
   ]
  },
  {
   "cell_type": "markdown",
   "metadata": {
    "slideshow": {
     "slide_type": "slide"
    }
   },
   "source": [
    "### calculando os somatórios\n",
    "$$I = \\frac{h}{3}(f(x_0) + 4\\sum_{i=1,3,5...}^{n-1}f(x_i) + 2 \\sum_{j=2,4,6,...}^{n-2}f(x_j) + f(x_n))$$"
   ]
  },
  {
   "cell_type": "code",
   "execution_count": 13,
   "metadata": {},
   "outputs": [
    {
     "data": {
      "text/plain": [
       "(4.752000000000005, 2.6880000000000566)"
      ]
     },
     "execution_count": 13,
     "metadata": {},
     "output_type": "execute_result"
    }
   ],
   "source": [
    "sum_impar = np.sum(fxi[i % 2 == 0])\n",
    "sum_par = np.sum(fxi[i % 2 == 1])\n",
    "sum_impar, sum_par"
   ]
  },
  {
   "cell_type": "markdown",
   "metadata": {
    "cell_style": "center",
    "slideshow": {
     "slide_type": "slide"
    }
   },
   "source": [
    "### Implementando a regra de Simpson\n",
    "$$I = \\frac{h}{3}(f(x_0)+4\\sum_{i=1,3,5...}^{n-1}f(x_i)+2 \\sum_{j=2,4,6,...}^{n-2}f(x_j)+f(x_n))$$\n",
    "\n",
    "$$h = \\frac{b-a}{n}$$"
   ]
  },
  {
   "cell_type": "code",
   "execution_count": 14,
   "metadata": {},
   "outputs": [
    {
     "data": {
      "text/plain": [
       "1.6544000000000125"
      ]
     },
     "execution_count": 14,
     "metadata": {},
     "output_type": "execute_result"
    }
   ],
   "source": [
    "I = h/3 * (f(a) + 4 * sum_impar + 2 * sum_par + f(b))\n",
    "I"
   ]
  },
  {
   "cell_type": "markdown",
   "metadata": {
    "slideshow": {
     "slide_type": "slide"
    }
   },
   "source": [
    "### testando outros valores de n"
   ]
  },
  {
   "cell_type": "code",
   "execution_count": 17,
   "metadata": {
    "cell_style": "center",
    "slideshow": {
     "slide_type": "-"
    }
   },
   "outputs": [
    {
     "data": {
      "text/plain": [
       "(1.6405332896426676, 1.765540026491313e-05)"
      ]
     },
     "execution_count": 17,
     "metadata": {},
     "output_type": "execute_result"
    }
   ],
   "source": [
    "a = 0.0\n",
    "b = 0.8\n",
    "n = 100\n",
    "h = (b - a) / n\n",
    "\n",
    "\n",
    "xi = np.arange(a + h,b,h)\n",
    "fxi = f(xi)\n",
    "\n",
    "i = np.arange(len(fxi))\n",
    "\n",
    "sum_impar = np.sum(fxi[i % 2 == 0])\n",
    "sum_par = np.sum(fxi[i % 2 == 1])\n",
    "\n",
    "I = h / 3 * (f(a) + 4 * sum_impar + 2 * sum_par + f(b))\n",
    "v_real = 1.640533\n",
    "erro = np.abs((v_real - I) / v_real) * 100\n",
    "I,erro"
   ]
  },
  {
   "cell_type": "markdown",
   "metadata": {
    "slideshow": {
     "slide_type": "slide"
    }
   },
   "source": [
    "# now, go code!"
   ]
  }
 ],
 "metadata": {
  "celltoolbar": "Slideshow",
  "kernelspec": {
   "display_name": "Python 3",
   "language": "python",
   "name": "python3"
  },
  "language_info": {
   "codemirror_mode": {
    "name": "ipython",
    "version": 3
   },
   "file_extension": ".py",
   "mimetype": "text/x-python",
   "name": "python",
   "nbconvert_exporter": "python",
   "pygments_lexer": "ipython3",
   "version": "3.7.4"
  },
  "rise": {
   "enable_chalkboard": true
  }
 },
 "nbformat": 4,
 "nbformat_minor": 2
}
