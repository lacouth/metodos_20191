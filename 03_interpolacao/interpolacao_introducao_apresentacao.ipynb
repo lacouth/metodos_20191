{
 "cells": [
  {
   "cell_type": "markdown",
   "metadata": {
    "colab_type": "text",
    "id": "view-in-github"
   },
   "source": [
    "<a href=\"https://colab.research.google.com/github/lacouth/metodos_numericos/blob/master/02_sistemas_lineares/SistemasLineares_introducao_apresentacao.ipynb\" target=\"_parent\"><img src=\"https://colab.research.google.com/assets/colab-badge.svg\" alt=\"Open In Colab\"/></a>"
   ]
  },
  {
   "cell_type": "code",
   "execution_count": 2,
   "metadata": {
    "colab": {},
    "colab_type": "code",
    "id": "u-ZP1jEphhLL"
   },
   "outputs": [],
   "source": [
    "import matplotlib.pyplot as plt \n",
    "import numpy as np\n",
    "import pandas as pd\n",
    "plt.rcParams[\"figure.figsize\"] = (15,10) #configurando tamanho e fonte dos gráficos\n",
    "plt.rcParams.update({'font.size': 22})"
   ]
  },
  {
   "cell_type": "markdown",
   "metadata": {
    "colab_type": "text",
    "id": "gy1nrSvghhLS",
    "slideshow": {
     "slide_type": "slide"
    }
   },
   "source": [
    "# Métodos Numéricos\n",
    "\n",
    "## Introdução a interpolação polinomial\n",
    "\n",
    "### Patric Lacouth"
   ]
  },
  {
   "cell_type": "markdown",
   "metadata": {
    "cell_style": "split",
    "colab_type": "text",
    "id": "gba3W7awhhLT",
    "slideshow": {
     "slide_type": "slide"
    }
   },
   "source": [
    "Frequentemente você terá de fazer estimativas de valores intermediários entre dados discretos. "
   ]
  },
  {
   "cell_type": "code",
   "execution_count": 5,
   "metadata": {
    "cell_style": "split"
   },
   "outputs": [
    {
     "data": {
      "text/html": [
       "<div>\n",
       "<style scoped>\n",
       "    .dataframe tbody tr th:only-of-type {\n",
       "        vertical-align: middle;\n",
       "    }\n",
       "\n",
       "    .dataframe tbody tr th {\n",
       "        vertical-align: top;\n",
       "    }\n",
       "\n",
       "    .dataframe thead th {\n",
       "        text-align: right;\n",
       "    }\n",
       "</style>\n",
       "<table border=\"1\" class=\"dataframe\">\n",
       "  <thead>\n",
       "    <tr style=\"text-align: right;\">\n",
       "      <th></th>\n",
       "      <th>Tensão</th>\n",
       "      <th>Corrente</th>\n",
       "    </tr>\n",
       "  </thead>\n",
       "  <tbody>\n",
       "    <tr>\n",
       "      <th>0</th>\n",
       "      <td>0.90</td>\n",
       "      <td>0.14</td>\n",
       "    </tr>\n",
       "    <tr>\n",
       "      <th>1</th>\n",
       "      <td>1.00</td>\n",
       "      <td>0.20</td>\n",
       "    </tr>\n",
       "    <tr>\n",
       "      <th>2</th>\n",
       "      <td>1.10</td>\n",
       "      <td>0.30</td>\n",
       "    </tr>\n",
       "    <tr>\n",
       "      <th>3</th>\n",
       "      <td>1.20</td>\n",
       "      <td>0.40</td>\n",
       "    </tr>\n",
       "    <tr>\n",
       "      <th>4</th>\n",
       "      <td>1.30</td>\n",
       "      <td>0.50</td>\n",
       "    </tr>\n",
       "    <tr>\n",
       "      <th>5</th>\n",
       "      <td>1.40</td>\n",
       "      <td>0.70</td>\n",
       "    </tr>\n",
       "    <tr>\n",
       "      <th>6</th>\n",
       "      <td>1.55</td>\n",
       "      <td>0.80</td>\n",
       "    </tr>\n",
       "    <tr>\n",
       "      <th>7</th>\n",
       "      <td>1.60</td>\n",
       "      <td>0.90</td>\n",
       "    </tr>\n",
       "    <tr>\n",
       "      <th>8</th>\n",
       "      <td>1.70</td>\n",
       "      <td>1.00</td>\n",
       "    </tr>\n",
       "    <tr>\n",
       "      <th>9</th>\n",
       "      <td>1.80</td>\n",
       "      <td>1.10</td>\n",
       "    </tr>\n",
       "    <tr>\n",
       "      <th>10</th>\n",
       "      <td>1.90</td>\n",
       "      <td>1.20</td>\n",
       "    </tr>\n",
       "    <tr>\n",
       "      <th>11</th>\n",
       "      <td>2.20</td>\n",
       "      <td>1.30</td>\n",
       "    </tr>\n",
       "    <tr>\n",
       "      <th>12</th>\n",
       "      <td>2.30</td>\n",
       "      <td>1.40</td>\n",
       "    </tr>\n",
       "    <tr>\n",
       "      <th>13</th>\n",
       "      <td>2.40</td>\n",
       "      <td>1.50</td>\n",
       "    </tr>\n",
       "    <tr>\n",
       "      <th>14</th>\n",
       "      <td>2.60</td>\n",
       "      <td>1.60</td>\n",
       "    </tr>\n",
       "    <tr>\n",
       "      <th>15</th>\n",
       "      <td>2.70</td>\n",
       "      <td>1.70</td>\n",
       "    </tr>\n",
       "    <tr>\n",
       "      <th>16</th>\n",
       "      <td>2.80</td>\n",
       "      <td>1.80</td>\n",
       "    </tr>\n",
       "  </tbody>\n",
       "</table>\n",
       "</div>"
      ],
      "text/plain": [
       "    Tensão  Corrente\n",
       "0     0.90      0.14\n",
       "1     1.00      0.20\n",
       "2     1.10      0.30\n",
       "3     1.20      0.40\n",
       "4     1.30      0.50\n",
       "5     1.40      0.70\n",
       "6     1.55      0.80\n",
       "7     1.60      0.90\n",
       "8     1.70      1.00\n",
       "9     1.80      1.10\n",
       "10    1.90      1.20\n",
       "11    2.20      1.30\n",
       "12    2.30      1.40\n",
       "13    2.40      1.50\n",
       "14    2.60      1.60\n",
       "15    2.70      1.70\n",
       "16    2.80      1.80"
      ]
     },
     "execution_count": 5,
     "metadata": {},
     "output_type": "execute_result"
    }
   ],
   "source": [
    "x = np.array([0.9,1,1.1,1.2,1.3,1.4,1.55,1.6,1.7,1.8,1.9,2.2,2.3,2.4,2.6,2.7,2.8])\n",
    "y = np.array([0.14,0.2,0.3,0.4,0.5,0.7,0.8,0.9,1,1.1,1.2,1.3,1.4,1.5,1.6,1.7,1.8])\n",
    "\n",
    "pd.DataFrame({ 'Tensão' : x, 'Corrente' : y})"
   ]
  },
  {
   "cell_type": "markdown",
   "metadata": {
    "slideshow": {
     "slide_type": "slide"
    }
   },
   "source": [
    "O método mais comum usado para esse propósito é a interpolação polinomial.\n",
    "\n",
    "$$P_{n-1}(x) = a_0 + a_1x+a_2x^2+a_3x^3 + ... + a_nx^n$$"
   ]
  },
  {
   "cell_type": "markdown",
   "metadata": {
    "colab_type": "text",
    "id": "GRHbJwpahhLT",
    "slideshow": {
     "slide_type": "slide"
    }
   },
   "source": [
    "Para $n$ pontos dados, existe um, e somente um, polinômio (n-1) que passa por todos os pontos.\n",
    "\n",
    "<img src = \"imagens/exemplo_polinomios.png\" width = 70% style = \"display:block; margin-left:auto;margin-right:auto;\"/>"
   ]
  },
  {
   "cell_type": "markdown",
   "metadata": {
    "slideshow": {
     "slide_type": "slide"
    }
   },
   "source": [
    "# Método direto\n",
    "\n",
    "* simples\n",
    "* erros de arrendodamento"
   ]
  },
  {
   "cell_type": "markdown",
   "metadata": {
    "slideshow": {
     "slide_type": "slide"
    }
   },
   "source": [
    "## Exemplo 1:\n",
    "\n",
    "Dado os pares (x,y), determine P(4):\n",
    "\n",
    "x | y\n",
    "---|---\n",
    "3|40\n",
    "5|82\n",
    "9|214\n",
    "\n",
    "para interpolação precisamos obter um polinômio com a seguinte forma:\n",
    "\n",
    "$$P_2(x) = a_0 + a_1x + a_2x^2$$"
   ]
  },
  {
   "cell_type": "markdown",
   "metadata": {
    "slideshow": {
     "slide_type": "slide"
    }
   },
   "source": [
    "utilizamos 3 pontos para criar o sistema.\n",
    "\n",
    "$$P_2(3) = a_0 + 3a_1 + 9a_2 = 40$$\n",
    "$$P_2(5) = a_0 + 5a_1 + 25a_2 = 82$$\n",
    "$$P_2(9) = a_0 + 9a_1 + 81a_2 = 214$$\n",
    "\n",
    "e montamos o sistema:\n",
    "\n",
    "$$\\begin{bmatrix}\n",
    "1 & 3 & 9\\\\\n",
    "1 & 5 & 25\\\\\n",
    "1 & 9 & 81\n",
    "\\end{bmatrix}\n",
    "\\begin{bmatrix}\n",
    "a_0\\\\\n",
    "a_1\\\\\n",
    "a_2\n",
    "\\end{bmatrix}\n",
    "=\n",
    "\\begin{bmatrix}\n",
    "40\\\\\n",
    "82\\\\\n",
    "214\n",
    "\\end{bmatrix}$$"
   ]
  },
  {
   "cell_type": "markdown",
   "metadata": {
    "slideshow": {
     "slide_type": "slide"
    }
   },
   "source": [
    "Resolvendo o sistema através do método de Gauss com pivotação parcial obtemos um novo sistema:\n",
    "\n",
    "$$\\begin{bmatrix}\n",
    "1 & 3 & 9\\\\\n",
    "0 & 6 & 72\\\\\n",
    "0 & 0 & -8\n",
    "\\end{bmatrix}\n",
    "\\begin{bmatrix}\n",
    "a_0\\\\\n",
    "a_1\\\\\n",
    "a_2\n",
    "\\end{bmatrix}\n",
    "=\n",
    "\\begin{bmatrix}\n",
    "40\\\\\n",
    "174\\\\\n",
    "-16\n",
    "\\end{bmatrix}$$"
   ]
  },
  {
   "cell_type": "markdown",
   "metadata": {
    "slideshow": {
     "slide_type": "slide"
    }
   },
   "source": [
    "Podemos então determinar os coeficientes:\n",
    "\n",
    "$$a_2 = 2$$\n",
    "\n",
    "$$a_1 = 5$$\n",
    "\n",
    "$$a_0 = 7$$\n",
    "\n",
    "O polinômio e o seu domínio:\n",
    "\n",
    "$$P_2(x) = 7 + 5x + 2x^2$$\n",
    "\n",
    "$$ D = \\{ x \\in \\mathscr{R} | 3 \\leq x \\leq 9 \\} $$\n",
    "\n",
    "$$P_2(4) = 59 $$"
   ]
  },
  {
   "cell_type": "code",
   "execution_count": 2,
   "metadata": {
    "slideshow": {
     "slide_type": "slide"
    }
   },
   "outputs": [],
   "source": [
    "def polinomio(x):\n",
    "    return 7 + 5 * x + 2 * x **2"
   ]
  },
  {
   "cell_type": "code",
   "execution_count": 4,
   "metadata": {
    "slideshow": {
     "slide_type": "slide"
    }
   },
   "outputs": [
    {
     "data": {
      "text/plain": [
       "array([ 40.,  82., 214.])"
      ]
     },
     "execution_count": 4,
     "metadata": {},
     "output_type": "execute_result"
    }
   ],
   "source": [
    "xi = np.array([3,5,9], dtype=float)\n",
    "yi = np.array([40,82,214], dtype=float)\n",
    "\n",
    "polinomio(xi)"
   ]
  },
  {
   "cell_type": "code",
   "execution_count": 6,
   "metadata": {
    "slideshow": {
     "slide_type": "slide"
    }
   },
   "outputs": [
    {
     "data": {
      "image/png": "[encoded data removed]",
      "text/plain": [
       "<Figure size 432x288 with 1 Axes>"
      ]
     },
     "metadata": {
      "needs_background": "light"
     },
     "output_type": "display_data"
    }
   ],
   "source": [
    "xa = np.arange(3,9,0.01)\n",
    "ya = polinomio(xa)\n",
    "\n",
    "plt.scatter(xi,yi)\n",
    "plt.plot(xa,ya,'k')\n",
    "plt.grid(True)"
   ]
  },
  {
   "cell_type": "markdown",
   "metadata": {
    "slideshow": {
     "slide_type": "slide"
    }
   },
   "source": [
    "## Restrições\n",
    "\n",
    "observe que a matriz de coeficientes tem sempre uma estrutura determinada:\n",
    "\n",
    "$$\\begin{bmatrix}\n",
    "1 & x_1 & x_1^2\\\\\n",
    "1 & x_2 & x_2^2\\\\\n",
    "1 & x_3 & x_3^2\n",
    "\\end{bmatrix}\n",
    "\\begin{bmatrix}\n",
    "a_0\\\\\n",
    "a_1\\\\\n",
    "a_2\n",
    "\\end{bmatrix}\n",
    "=\n",
    "\\begin{bmatrix}\n",
    "f(x_1)\\\\\n",
    "f(x_2)\\\\\n",
    "f(x_3)\n",
    "\\end{bmatrix}$$\n",
    "\n",
    "Matrizes de coeficientes dessa forma são chamadas de matrizes de [Vandermonde](https://pt.wikipedia.org/wiki/Matriz_de_Vandermonde)."
   ]
  },
  {
   "cell_type": "markdown",
   "metadata": {
    "slideshow": {
     "slide_type": "slide"
    }
   },
   "source": [
    "# now, go code!"
   ]
  }
 ],
 "metadata": {
  "celltoolbar": "Slideshow",
  "colab": {
   "include_colab_link": true,
   "name": "SistemasLineares_introducao_apresentacao.ipynb",
   "provenance": []
  },
  "kernelspec": {
   "display_name": "Python 3",
   "language": "python",
   "name": "python3"
  },
  "language_info": {
   "codemirror_mode": {
    "name": "ipython",
    "version": 3
   },
   "file_extension": ".py",
   "mimetype": "text/x-python",
   "name": "python",
   "nbconvert_exporter": "python",
   "pygments_lexer": "ipython3",
   "version": "3.7.4"
  },
  "rise": {
   "enable_chalkboard": true
  }
 },
 "nbformat": 4,
 "nbformat_minor": 1
}
