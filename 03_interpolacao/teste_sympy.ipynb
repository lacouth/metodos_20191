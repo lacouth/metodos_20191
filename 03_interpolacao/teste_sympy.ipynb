{
 "cells": [
  {
   "cell_type": "code",
   "execution_count": 1,
   "metadata": {},
   "outputs": [],
   "source": [
    "import numpy as np\n",
    "import sympy"
   ]
  },
  {
   "cell_type": "code",
   "execution_count": 3,
   "metadata": {},
   "outputs": [],
   "source": [
    "x = sympy.Symbol('x')"
   ]
  },
  {
   "cell_type": "code",
   "execution_count": 4,
   "metadata": {},
   "outputs": [],
   "source": [
    "expr = 2 ** x"
   ]
  },
  {
   "cell_type": "code",
   "execution_count": 7,
   "metadata": {},
   "outputs": [],
   "source": [
    "a = expr.subs(x,2)"
   ]
  },
  {
   "cell_type": "code",
   "execution_count": 13,
   "metadata": {},
   "outputs": [
    {
     "data": {
      "text/plain": [
       "array([x - 1, x - 2], dtype=object)"
      ]
     },
     "execution_count": 13,
     "metadata": {},
     "output_type": "execute_result"
    }
   ],
   "source": [
    "m = np.array([x - 1, x - 2])\n",
    "m"
   ]
  },
  {
   "cell_type": "code",
   "execution_count": 19,
   "metadata": {},
   "outputs": [
    {
     "data": {
      "text/latex": [
       "$\\displaystyle 0$"
      ],
      "text/plain": [
       "0"
      ]
     },
     "execution_count": 19,
     "metadata": {},
     "output_type": "execute_result"
    }
   ],
   "source": [
    "np.prod(m).subs(x,2)"
   ]
  },
  {
   "cell_type": "code",
   "execution_count": 28,
   "metadata": {},
   "outputs": [],
   "source": [
    "xi = np.array([3,5,9], dtype='float')\n",
    "yi = np.array([40,82,214], dtype='float')"
   ]
  },
  {
   "cell_type": "code",
   "execution_count": 29,
   "metadata": {},
   "outputs": [
    {
     "data": {
      "text/plain": [
       "array([[x - 3.0, -2.0, -6.0],\n",
       "       [2.0, x - 5.0, -4.0],\n",
       "       [6.0, 4.0, x - 9.0]], dtype=object)"
      ]
     },
     "execution_count": 29,
     "metadata": {},
     "output_type": "execute_result"
    }
   ],
   "source": [
    "x = sympy.Symbol('x')\n",
    "\n",
    "G = np.array([[x - xi[0], xi[0] - xi[1],xi[0] - xi[2]],\n",
    "              [xi[1] - xi[0], x - xi[1], xi[1] - xi[2]],\n",
    "              [xi[2] - xi[0], xi[2] - xi[1], x - xi[2]]])\n",
    "G    "
   ]
  },
  {
   "cell_type": "code",
   "execution_count": 30,
   "metadata": {},
   "outputs": [
    {
     "data": {
      "text/latex": [
       "$\\displaystyle \\left(x - 9.0\\right) \\left(x - 5.0\\right) \\left(x - 3.0\\right)$"
      ],
      "text/plain": [
       "(x - 9.0)*(x - 5.0)*(x - 3.0)"
      ]
     },
     "execution_count": 30,
     "metadata": {},
     "output_type": "execute_result"
    }
   ],
   "source": [
    "Gd = np.prod(np.diag(G))\n",
    "Gd"
   ]
  },
  {
   "cell_type": "code",
   "execution_count": 31,
   "metadata": {},
   "outputs": [],
   "source": [
    "G1 = np.prod(G[0])\n",
    "G2 = np.prod(G[1])\n",
    "G3 = np.prod(G[2])\n",
    "\n",
    "L1 = Gd / G1\n",
    "L2 = Gd / G2\n",
    "L3 = Gd / G3"
   ]
  },
  {
   "cell_type": "code",
   "execution_count": 32,
   "metadata": {},
   "outputs": [
    {
     "data": {
      "text/latex": [
       "$\\displaystyle \\frac{214.0 \\left(x - 9.0\\right) \\left(x - 5.0\\right) \\left(x - 3.0\\right)}{24.0 x - 216.0} + \\frac{40.0 \\left(x - 9.0\\right) \\left(x - 5.0\\right) \\left(x - 3.0\\right)}{12.0 x - 36.0} + \\frac{82.0 \\left(x - 9.0\\right) \\left(x - 5.0\\right) \\left(x - 3.0\\right)}{40.0 - 8.0 x}$"
      ],
      "text/plain": [
       "214.0*(x - 9.0)*(x - 5.0)*(x - 3.0)/(24.0*x - 216.0) + 40.0*(x - 9.0)*(x - 5.0)*(x - 3.0)/(12.0*x - 36.0) + 82.0*(x - 9.0)*(x - 5.0)*(x - 3.0)/(40.0 - 8.0*x)"
      ]
     },
     "execution_count": 32,
     "metadata": {},
     "output_type": "execute_result"
    }
   ],
   "source": [
    "px = L1 * yi[0] + L2 * yi[1] + L3 * yi[2]\n",
    "px"
   ]
  },
  {
   "cell_type": "code",
   "execution_count": 50,
   "metadata": {},
   "outputs": [],
   "source": [
    "px= sympy.simplify(px)"
   ]
  },
  {
   "cell_type": "code",
   "execution_count": 51,
   "metadata": {},
   "outputs": [
    {
     "data": {
      "text/latex": [
       "$\\displaystyle 2.0 x^{2} + 5.0 x + 7.0$"
      ],
      "text/plain": [
       "2.0*x**2 + 5.0*x + 7.0"
      ]
     },
     "execution_count": 51,
     "metadata": {},
     "output_type": "execute_result"
    }
   ],
   "source": [
    "px_s.subs(x,xi)"
   ]
  },
  {
   "cell_type": "code",
   "execution_count": 55,
   "metadata": {},
   "outputs": [
    {
     "data": {
      "text/plain": [
       "array([ 40.,  82., 214.])"
      ]
     },
     "execution_count": 55,
     "metadata": {},
     "output_type": "execute_result"
    }
   ],
   "source": [
    "f = sympy.lambdify(x , px, 'numpy')\n",
    "f(xi)"
   ]
  },
  {
   "cell_type": "code",
   "execution_count": 47,
   "metadata": {},
   "outputs": [
    {
     "data": {
      "text/latex": [
       "$\\displaystyle 2.0 x^{2} + 5.0 x + 7.0$"
      ],
      "text/plain": [
       "2.0*x**2 + 5.0*x + 7.0"
      ]
     },
     "execution_count": 47,
     "metadata": {},
     "output_type": "execute_result"
    }
   ],
   "source": [
    "lagrange(xi)"
   ]
  },
  {
   "cell_type": "code",
   "execution_count": null,
   "metadata": {},
   "outputs": [],
   "source": []
  }
 ],
 "metadata": {
  "kernelspec": {
   "display_name": "Python 3",
   "language": "python",
   "name": "python3"
  },
  "language_info": {
   "codemirror_mode": {
    "name": "ipython",
    "version": 3
   },
   "file_extension": ".py",
   "mimetype": "text/x-python",
   "name": "python",
   "nbconvert_exporter": "python",
   "pygments_lexer": "ipython3",
   "version": "3.7.4"
  }
 },
 "nbformat": 4,
 "nbformat_minor": 2
}
