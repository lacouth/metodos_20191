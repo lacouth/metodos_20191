{
 "cells": [
  {
   "cell_type": "markdown",
   "metadata": {
    "colab_type": "text",
    "id": "view-in-github"
   },
   "source": [
    "<a href=\"https://colab.research.google.com/github/lacouth/metodos_numericos/blob/master/02_sistemas_lineares/SistemasLineares_introducao_apresentacao.ipynb\" target=\"_parent\"><img src=\"https://colab.research.google.com/assets/colab-badge.svg\" alt=\"Open In Colab\"/></a>"
   ]
  },
  {
   "cell_type": "markdown",
   "metadata": {
    "colab_type": "text",
    "id": "gy1nrSvghhLS",
    "slideshow": {
     "slide_type": "slide"
    }
   },
   "source": [
    "# Métodos Numéricos\n",
    "\n",
    "## Interpolação - polinômios de Newton\n",
    "\n",
    "### Patric Lacouth"
   ]
  },
  {
   "cell_type": "markdown",
   "metadata": {
    "slideshow": {
     "slide_type": "slide"
    }
   },
   "source": [
    "# Polinômios de Newton\n",
    "\n",
    "* fácil de implementar\n",
    "* diferenças divididas\n",
    "* polinômio final precisa de simplificação"
   ]
  },
  {
   "cell_type": "markdown",
   "metadata": {
    "slideshow": {
     "slide_type": "slide"
    }
   },
   "source": [
    "# o polinômio de Newton\n",
    "\n",
    "\n",
    "$$P_3(x) = f[x_0] + f[x_1,x_0](x-x_0) + f[x_2,x_1,x_0](x-x_0)(x-x_1) + f[x_3,x_2,x_1,x_0](x-x_0)(x-x_1)(x-x_2) \\ldots$$\n"
   ]
  },
  {
   "cell_type": "markdown",
   "metadata": {
    "cell_style": "center",
    "colab_type": "text",
    "id": "gba3W7awhhLT",
    "slideshow": {
     "slide_type": "slide"
    }
   },
   "source": [
    "$$P_3(x) = f[x_0] + f[x_1,x_0](x-x_0) + f[x_2,x_1,x_0](x-x_0)(x-x_1) + f[x_3,x_2,x_1,x_0](x-x_0)(x-x_1)(x-x_2)$$\n"
   ]
  },
  {
   "cell_type": "markdown",
   "metadata": {},
   "source": [
    "$$ \\left.\\begin{matrix}\n",
    "f[x_0] &  &  &  &  & = & y_0 \\\\ \n",
    "f[x_0] & + & f[x_1,x_0](x_1 - x_0) &  &  & = & y_1 \\\\ \n",
    "f[x_0] & + & f[x_1,x_0](x_2 - x_0) & + & f[x_2,x_1,x_0](x_2 - x_1)(x_2 - x_0) & = & y_2 \n",
    "\\end{matrix}\\right.$$"
   ]
  },
  {
   "cell_type": "markdown",
   "metadata": {
    "slideshow": {
     "slide_type": "slide"
    }
   },
   "source": [
    "## as diferenças divididas - ordem 0\n",
    "$$\\left.\\begin{matrix}\n",
    "f[x_0] & = & y_0 \\\\ \n",
    "f[x_1] & = & y_1 \\\\ \n",
    "f[x_2] & = & y_2 \\\\ \n",
    "\\end{matrix}\\right.$$"
   ]
  },
  {
   "cell_type": "markdown",
   "metadata": {
    "slideshow": {
     "slide_type": "slide"
    }
   },
   "source": [
    "## as diferenças divididas - ordem 1\n",
    "$$\\left.\\begin{matrix}\n",
    "f[x_1,x_0] & =  & \\frac{y_1 - y_0}{x_1 - x_0}  \\\\ \n",
    "f[x_2,x_1] & =  & \\frac{y_2 - y_1}{x_2 - x_1}  \\\\\n",
    "f[x_3,x_2] & =  & \\frac{y_3 - y_2}{x_3 - x_2}  \\\\ \n",
    "\\end{matrix}\\right.$$"
   ]
  },
  {
   "cell_type": "markdown",
   "metadata": {
    "slideshow": {
     "slide_type": "slide"
    }
   },
   "source": [
    "## as diferenças divididas - ordem 2\n",
    "$$\\left.\\begin{matrix}\n",
    "f[x_2,x_1,x_0] &  = & \\frac{f[x_2,x_1] - f[x_1,x_0]}{x_2 - x_0}\\\\\n",
    "f[x_3,x_2,x_1] &  = & \\frac{f[x_3,x_2] - f[x_2,x_1]}{x_3 - x_1}\\\\\n",
    "f[x_4,x_3,x_2] &  = & \\frac{f[x_4,x_3] - f[x_3,x_2]}{x_4 - x_2}\\\\\n",
    "\\end{matrix}\\right.$$"
   ]
  },
  {
   "cell_type": "markdown",
   "metadata": {
    "colab_type": "text",
    "id": "GRHbJwpahhLT",
    "slideshow": {
     "slide_type": "slide"
    }
   },
   "source": [
    "Observe que as equações as diferenças divididas são recursivas - isto é, diferenças de ordem mais alta são calculadas tomando-se diferenças das diferenças de ordem mais baixa, a figura abaixo apresenta uma tabela de diferenças divididas.\n",
    "\n",
    "<img  src = \"imagens/diferencas_divididas.png\" style = \"display:block; margin-left:auto; margin-right:auto;\"/>"
   ]
  },
  {
   "cell_type": "markdown",
   "metadata": {
    "cell_style": "center",
    "slideshow": {
     "slide_type": "slide"
    }
   },
   "source": [
    "### Exemplo interpolação quadrática\n",
    "\n",
    "Dado os pares (x,y), determine P(4):\n",
    "\n",
    "x | y\n",
    "---|---\n",
    "3|40\n",
    "5|82\n",
    "9|214\n",
    "\n",
    "Usando a fórmula de Newton para interpolação quadrática:\n",
    "\n",
    "$$P_2(x) = f[x_0] + f[x_1,x_0](x-x_0) + f[x_2,x_1,x_0](x - x_0)(x - x_1)$$\n",
    "\n",
    "onde\n",
    "\n",
    "$$f[x_1,x_0] = \\frac{y_1 - y_0}{x_1 - x_0} = \\frac{82-40}{5-3} = 21$$\n"
   ]
  },
  {
   "cell_type": "markdown",
   "metadata": {
    "slideshow": {
     "slide_type": "slide"
    }
   },
   "source": [
    "\n",
    "$$f[x_2,x_1,x_0] = \\frac{\\frac{y_2 - y_1}{x_2 - x_1} - \\frac{y_1 - y_0}{x_1 - x_0}}{x_2-x_0} = \\frac{\\frac{214 - 82}{9 - 5} - \\frac{82-40}{5-3}}{9-3} = 2$$"
   ]
  },
  {
   "cell_type": "markdown",
   "metadata": {
    "slideshow": {
     "slide_type": "slide"
    }
   },
   "source": [
    "substituindo na equação original:\n",
    "\n",
    "$$P_2(x) = 40 + (x-3)21 + (x-3)(x-5)2$$\n",
    "\n",
    "obtemos:\n",
    "\n",
    "$P_2(x) = 7 + 5x + 2x^2$\n",
    "\n",
    "$P_2(4) = 59$"
   ]
  },
  {
   "cell_type": "markdown",
   "metadata": {
    "slideshow": {
     "slide_type": "slide"
    }
   },
   "source": [
    "# Implementando em Python\n",
    "## importando as bibliotecas"
   ]
  },
  {
   "cell_type": "code",
   "execution_count": 1,
   "metadata": {},
   "outputs": [],
   "source": [
    "import numpy as np\n",
    "import sympy\n",
    "import matplotlib.pyplot as plt"
   ]
  },
  {
   "cell_type": "markdown",
   "metadata": {
    "slideshow": {
     "slide_type": "slide"
    }
   },
   "source": [
    "## criando os pontos x,y\n",
    "\n",
    "x | y\n",
    "---|---\n",
    "3|40\n",
    "5|82\n",
    "9|214"
   ]
  },
  {
   "cell_type": "code",
   "execution_count": 2,
   "metadata": {},
   "outputs": [],
   "source": [
    "xi = np.array([3,5,9], dtype = float)\n",
    "yi = np.array([40,82,214], dtype = float)"
   ]
  },
  {
   "cell_type": "markdown",
   "metadata": {
    "slideshow": {
     "slide_type": "slide"
    }
   },
   "source": [
    "## criando o símbolo x"
   ]
  },
  {
   "cell_type": "code",
   "execution_count": 3,
   "metadata": {},
   "outputs": [
    {
     "data": {
      "text/latex": [
       "$\\displaystyle x$"
      ],
      "text/plain": [
       "x"
      ]
     },
     "execution_count": 3,
     "metadata": {},
     "output_type": "execute_result"
    }
   ],
   "source": [
    "x = sympy.Symbol('x')\n",
    "x"
   ]
  },
  {
   "cell_type": "markdown",
   "metadata": {
    "slideshow": {
     "slide_type": "slide"
    }
   },
   "source": [
    "## criando um função para calcular as diferenças divididas\n",
    "\n",
    "$$f[x_2,x_1,x_0] = \\frac{f[x_2,x_1] - f[x_1,x_0]}{x_2 - x_0} $$"
   ]
  },
  {
   "cell_type": "code",
   "execution_count": 4,
   "metadata": {},
   "outputs": [],
   "source": [
    "def dd(x,y):\n",
    "    if len(x) == 1:\n",
    "        return y[0]\n",
    "    else:\n",
    "        return (dd(x[1:],y[1:]) - dd(x[:-1], y[:-1])) / (x[-1] - x[0])"
   ]
  },
  {
   "cell_type": "markdown",
   "metadata": {
    "slideshow": {
     "slide_type": "slide"
    }
   },
   "source": [
    "## Criando o polinômio\n",
    "$$P_2(x) = f[x_0] + f[x_1,x_0](x-x_0) + f[x_2,x_1,x_0](x - x_0)(x - x_1)$$"
   ]
  },
  {
   "cell_type": "code",
   "execution_count": 5,
   "metadata": {},
   "outputs": [
    {
     "data": {
      "text/latex": [
       "$\\displaystyle 21.0 x + \\left(x - 5.0\\right) \\left(2.0 x - 6.0\\right) - 23.0$"
      ],
      "text/plain": [
       "21.0*x + (x - 5.0)*(2.0*x - 6.0) - 23.0"
      ]
     },
     "execution_count": 5,
     "metadata": {},
     "output_type": "execute_result"
    }
   ],
   "source": [
    "Px = yi[0] + dd(xi[0:2],yi[0:2]) * (x - xi[0]) + dd(xi,yi) * (x - xi[0]) * (x - xi[1])\n",
    "Px"
   ]
  },
  {
   "cell_type": "markdown",
   "metadata": {
    "slideshow": {
     "slide_type": "slide"
    }
   },
   "source": [
    "## simplificando o P(X)"
   ]
  },
  {
   "cell_type": "code",
   "execution_count": 6,
   "metadata": {},
   "outputs": [
    {
     "data": {
      "text/latex": [
       "$\\displaystyle 2.0 x^{2} + 5.0 x + 7.0$"
      ],
      "text/plain": [
       "2.0*x**2 + 5.0*x + 7.0"
      ]
     },
     "execution_count": 6,
     "metadata": {},
     "output_type": "execute_result"
    }
   ],
   "source": [
    "Px = sympy.simplify(Px)\n",
    "Px"
   ]
  },
  {
   "cell_type": "markdown",
   "metadata": {
    "slideshow": {
     "slide_type": "slide"
    }
   },
   "source": [
    "## criando uma função para o polinômio"
   ]
  },
  {
   "cell_type": "code",
   "execution_count": 7,
   "metadata": {},
   "outputs": [
    {
     "data": {
      "text/latex": [
       "$\\displaystyle 2.0 x^{2} + 5.0 x + 7.0$"
      ],
      "text/plain": [
       "2.0*x**2 + 5.0*x + 7.0"
      ]
     },
     "execution_count": 7,
     "metadata": {},
     "output_type": "execute_result"
    }
   ],
   "source": [
    "Px"
   ]
  },
  {
   "cell_type": "code",
   "execution_count": 8,
   "metadata": {},
   "outputs": [],
   "source": [
    "def polinomio(x):\n",
    "    return 2.0 * x ** 2 + 5.0 * x + 7.0"
   ]
  },
  {
   "cell_type": "markdown",
   "metadata": {
    "slideshow": {
     "slide_type": "slide"
    }
   },
   "source": [
    "## traçando o gráfico do polinômio"
   ]
  },
  {
   "cell_type": "code",
   "execution_count": 9,
   "metadata": {},
   "outputs": [
    {
     "data": {
      "image/png": "[encoded data removed]",
      "text/plain": [
       "<Figure size 432x288 with 1 Axes>"
      ]
     },
     "metadata": {
      "needs_background": "light"
     },
     "output_type": "display_data"
    }
   ],
   "source": [
    "xa = np.arange(3,9,0.01)\n",
    "ya = polinomio(xa)\n",
    "\n",
    "plt.plot(xa,ya)\n",
    "plt.scatter(xi,yi, c='red')\n",
    "\n",
    "plt.grid(True)"
   ]
  },
  {
   "cell_type": "markdown",
   "metadata": {
    "slideshow": {
     "slide_type": "slide"
    }
   },
   "source": [
    "# now, go code!"
   ]
  }
 ],
 "metadata": {
  "celltoolbar": "Slideshow",
  "colab": {
   "include_colab_link": true,
   "name": "SistemasLineares_introducao_apresentacao.ipynb",
   "provenance": []
  },
  "kernelspec": {
   "display_name": "Python 3",
   "language": "python",
   "name": "python3"
  },
  "language_info": {
   "codemirror_mode": {
    "name": "ipython",
    "version": 3
   },
   "file_extension": ".py",
   "mimetype": "text/x-python",
   "name": "python",
   "nbconvert_exporter": "python",
   "pygments_lexer": "ipython3",
   "version": "3.7.4"
  },
  "rise": {
   "enable_chalkboard": true
  }
 },
 "nbformat": 4,
 "nbformat_minor": 1
}
