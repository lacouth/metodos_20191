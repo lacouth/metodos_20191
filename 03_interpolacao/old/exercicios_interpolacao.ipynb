{
 "cells": [
  {
   "cell_type": "markdown",
   "metadata": {
    "colab_type": "text",
    "id": "view-in-github"
   },
   "source": [
    "<a href=\"https://colab.research.google.com/github/lacouth/metodos_20191/blob/master/interpolacao/exercicios_interpolacao.ipynb\" target=\"_parent\"><img src=\"https://colab.research.google.com/assets/colab-badge.svg\" alt=\"Open In Colab\"/></a>"
   ]
  },
  {
   "cell_type": "code",
   "execution_count": 0,
   "metadata": {
    "colab": {},
    "colab_type": "code",
    "id": "GoirnuYs8U6j"
   },
   "outputs": [],
   "source": [
    "import numpy as np"
   ]
  },
  {
   "cell_type": "markdown",
   "metadata": {
    "colab_type": "text",
    "id": "TlWb6nVv8dfZ"
   },
   "source": [
    "1. Termistores são sensores usados para medir temperatura. Os termistores são baseados em materiais que mudam a resistência elétrica de acordo com a temperatura. Para medir a temperatura, os fabricantes fornecem uma curva de temperatura $\\times$ resistência. Um fabricante fez uma série de observações e obteve a seguinte tabela: \n",
    "\n",
    "| R(ohm) | T(ºC) |\n",
    "|--------|--------|\n",
    "|1101.0|25.113\n",
    "| 911.3  | 30.131 |\n",
    "| 636.0  | 40.120 |\n",
    "| 451.1  | 50.128 |\n",
    "\n",
    "Determine a temperatura correspondente a 754.8 ohms:\n",
    "\n",
    "  a. Utilizando um polinômio de primeira ordem\n",
    "  \n",
    "  b. Utilizando um polinômio de segunda ordem\n",
    "  \n",
    "  c. Utilizando um polinômio com o maior grau possível.\n",
    "  \n",
    "  Compare os resultados utilizando o erro de aproximação $\\epsilon_a$"
   ]
  },
  {
   "cell_type": "code",
   "execution_count": 0,
   "metadata": {
    "colab": {},
    "colab_type": "code",
    "id": "ZNeHrUHe-oG7"
   },
   "outputs": [],
   "source": []
  },
  {
   "cell_type": "markdown",
   "metadata": {
    "colab_type": "text",
    "id": "bLvLhtlq-p5T"
   },
   "source": [
    "2. Um braço robótico faz a checagem de qualidade de pontos de solda em um carro. A posição de algumas soldas é dada na tabela abaixo \n",
    "\n",
    "| x(cm) | y(cm) |\n",
    "|--------|--------|\n",
    "|2.00|7.2\n",
    "| 4.25  | 7.1 |\n",
    "| 5.25  | 6.0 |\n",
    "| 7.81  | 5.0 |\n",
    "| 9.20  | 3.5 |\n",
    "|10.60| 5.0 |\n",
    "\n",
    "Encontre o valor de $y$ para $x = 4.00$\n",
    "\n",
    "a. Utilizando um polinômio de primeira ordem\n",
    "  \n",
    "  b. Utilizando um polinômio de segunda ordem\n",
    "  \n",
    "  c. Utilizando um polinômio com o maior grau possível.\n",
    "  \n",
    "   Compare os resultados utilizando o erro de aproximação $\\epsilon_a$"
   ]
  },
  {
   "cell_type": "code",
   "execution_count": 0,
   "metadata": {
    "colab": {},
    "colab_type": "code",
    "id": "NzukT4wSBJUW"
   },
   "outputs": [],
   "source": []
  },
  {
   "cell_type": "markdown",
   "metadata": {
    "colab_type": "text",
    "id": "ieHUxbrYBJ_J"
   },
   "source": [
    "3. A temperatura de um lago foi medida de acordo com a sua profundidade. Os valores obtidos são apresentados na tabela abaixo:\n",
    "\n",
    "| Temperatura, T (°C) | Profundidade,  z (m) |\n",
    "|--------|--------|\n",
    "| 19.1 | 0 |\n",
    "| 19.1 | -1|\n",
    "|19.0 | -2 |\n",
    "|18.8 | -3 |\n",
    "|18.7 | -4 |\n",
    "|18.3 | -5 |\n",
    "|18.2 | -6 |\n",
    "| 17.6| -7 |\n",
    "|11.7 | -8 |\n",
    "|  9.9 | -9  |\n",
    "|  9.1| -10 |\n",
    "\n",
    "Determine a temperatura em z = -7.5.\n",
    "\n",
    "a. Utilizando um polinômio de primeira ordem\n",
    "  \n",
    "  b. Utilizando um polinômio de segunda ordem\n",
    "  \n",
    "  c. Utilizando um polinômio com o maior grau possível.\n",
    "  \n",
    "   Compare os resultados utilizando o erro de aproximação $\\epsilon_a$"
   ]
  },
  {
   "cell_type": "code",
   "execution_count": null,
   "metadata": {
    "colab": {},
    "colab_type": "code",
    "id": "YFuEqXkQCv0y"
   },
   "outputs": [],
   "source": []
  },
  {
   "cell_type": "markdown",
   "metadata": {},
   "source": [
    "4. Um pára-quedista realizou seis saltos, saltando de alturas distintas em cada salto. Foi testada a precisão de seus saltos em relação a um alvo de raio de 5m, de acordo com a altura. A distância apresentada na tabela abaixo é relativa a circunferência.\n",
    "\n",
    "Altura (m) | Distância do Alvo (m)\n",
    "----------|--------------\n",
    "1500| 35\n",
    "1250 | 25\n",
    "1000 | 15\n",
    "750 | 10\n",
    "500 | 7\n",
    "\n",
    "Levando em consideração os dados acima, a que provável distância do alvo cairia o páraquedista se ele saltasse de uma altura de 900m?\n"
   ]
  },
  {
   "cell_type": "code",
   "execution_count": null,
   "metadata": {},
   "outputs": [],
   "source": []
  },
  {
   "cell_type": "markdown",
   "metadata": {},
   "source": [
    "5. Durante três dias consecutivos foi tomada a temperatura (em °C) numa região de uma cidade, por quatro vezes no período das 6 às 12 horas. Determine, usando todos os dados da tabela abaixo, a média das temperaturas dos três dias às 9 horas.\n",
    "\n",
    "\n",
    "Hora|Dia 1| Dia 2|Dia 3\n",
    "-----|---|---|----\n",
    "6  | 18 | 17 | 18\n",
    "8  | 20 | 20 | 21\n",
    "10 | 24 | 25 | 22\n",
    "12 | 28 | 27 | 23\n"
   ]
  },
  {
   "cell_type": "code",
   "execution_count": null,
   "metadata": {},
   "outputs": [],
   "source": []
  },
  {
   "cell_type": "markdown",
   "metadata": {},
   "source": [
    "6. Na tabela abaixo está assinalado o número de habitantes de Belo Horizonte nos censos de 1950, 1960, 1970 e 1980. Crie um script no qual seja possível estimar a população da cidade em qualquer ano do intervalo dado.\n",
    "\n",
    "Ano|1950|1960|1970|1980\n",
    "---|-|-|-|-|\n",
    "Habitantes| 352.724 | 683.908 | 1.235.030 | 1.814.990"
   ]
  },
  {
   "cell_type": "code",
   "execution_count": null,
   "metadata": {},
   "outputs": [],
   "source": []
  },
  {
   "cell_type": "markdown",
   "metadata": {},
   "source": [
    "7. Um automóvel percorreu 160 km numa rodovia que liga duas cidades e gastou, neste trajeto, 2 horas e 20 minutos. A tabela abaixo dá o tempo gasto e a distância percorrida em alguns pontos entre as duas cidades.\n",
    "\n",
    "Tempo (min) | Distância (km)\n",
    "--|--\n",
    "0|0\n",
    "10|8\n",
    "30|27\n",
    "60|58\n",
    "90|100\n",
    "120|145\n",
    "140|160\n",
    "\n",
    "Determine:\n",
    "\n",
    "a) Qual foi aproximadamente à distância percorrida pelo automóvel nos primeiros 45 minutos de viagem, considerando apenas os quatro primeiros pontos da tabela?\n",
    "\n",
    "b) Quantos minutos o automóvel gastou para chegar à metade do caminho?"
   ]
  },
  {
   "cell_type": "code",
   "execution_count": null,
   "metadata": {},
   "outputs": [],
   "source": []
  },
  {
   "cell_type": "markdown",
   "metadata": {},
   "source": [
    "8. Construa a tabela de log(x), usando 6 pontos igualmente espaçados, de tal forma que $x_0$ = 2 e $x_5$=3. Determine o valor aproximado de x tal que log(x) = 0.45."
   ]
  },
  {
   "cell_type": "code",
   "execution_count": null,
   "metadata": {},
   "outputs": [],
   "source": []
  },
  {
   "cell_type": "markdown",
   "metadata": {},
   "source": [
    "9. Um veículo de fabricação nacional, após vários testes, apresentou os resultados a seguir, quando se analisou o consumo de combustível de acordo com a velocidade média imposta ao veículo. Os testes foram realizados em rodovia em operação normal de tráfego, numa distância de 76 km.\n",
    "\n",
    "Velocidade (km/h) | Consumo (km/l)\n",
    "-|-\n",
    "55|14.08\n",
    "70|13.56\n",
    "85|13.28\n",
    "100|12.27\n",
    "120|11.30\n",
    "140|10.40\n",
    "\n",
    "a. Verifique o consumo aproximado para o caso de uma velocidade média de 80 km/h.\n",
    "\n",
    "b. Estime a velocidade média para se obter um consumo de 12 km/l."
   ]
  },
  {
   "cell_type": "code",
   "execution_count": null,
   "metadata": {},
   "outputs": [],
   "source": []
  },
  {
   "cell_type": "markdown",
   "metadata": {},
   "source": [
    "10. A tabela abaixo fornece a demanda máxima diária de energia elétrica em uma cidade\n",
    "\n",
    "Dia | Pico Demanda (Mw)\n",
    "-----|---------\n",
    "01/jan|10.5\n",
    "10/jan|15\n",
    "01/fev|20.5\n",
    "15/fev|13\n",
    "\n",
    "a. Utilizando interpolação polinomial determine o pico máximo para o dia 05 de fevereiro."
   ]
  },
  {
   "cell_type": "code",
   "execution_count": null,
   "metadata": {},
   "outputs": [],
   "source": []
  },
  {
   "cell_type": "markdown",
   "metadata": {},
   "source": [
    "11. A população em milhões dos Estados Unidos de 1920 a 2000 pode ser tabulada como\n",
    "\n",
    "Data|População\n",
    "-------|------\n",
    "1920|106,46\n",
    "1930|123,08\n",
    "1940|132,12\n",
    "1950|152,27\n",
    "1960|180,67\n",
    "1970|205,05\n",
    "1980|227,23\n",
    "1990|249,46\n",
    "2000|281,42\n",
    "\n",
    "a. Crie um script para estimar com a melhor precisão possível a população dos Estados Unidos em qualquer ano dentro do intervalo fornecido.\n",
    "\n",
    "b. Ajuste um polinômio de sétimo grau aos 8 primeiros pontos (1920 a 1990). Use-o para calcular a população em 2000 por extrapolação e compare sua previsão com o resultado real. Trace um gráfico com os pontos dados e o seu polinômio interpolador entre 1990 e 2000"
   ]
  },
  {
   "cell_type": "code",
   "execution_count": null,
   "metadata": {},
   "outputs": [],
   "source": []
  }
 ],
 "metadata": {
  "colab": {
   "include_colab_link": true,
   "name": "exercicios_interpolacao.ipynb",
   "provenance": [],
   "version": "0.3.2"
  },
  "kernelspec": {
   "display_name": "Python 3",
   "language": "python",
   "name": "python3"
  },
  "language_info": {
   "codemirror_mode": {
    "name": "ipython",
    "version": 3
   },
   "file_extension": ".py",
   "mimetype": "text/x-python",
   "name": "python",
   "nbconvert_exporter": "python",
   "pygments_lexer": "ipython3",
   "version": "3.7.4"
  }
 },
 "nbformat": 4,
 "nbformat_minor": 1
}
