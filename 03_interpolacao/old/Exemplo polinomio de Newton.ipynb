{
 "cells": [
  {
   "cell_type": "markdown",
   "metadata": {},
   "source": [
    "# Atividade prática\n",
    "\n",
    "Dados os pontos da tabela:\n",
    "\n",
    "| x | y |\n",
    "| -- | -- |\n",
    "10 | 227.04\n",
    "15 | 362.78\n",
    "20 | 517.35\n",
    "22.5 | 602.97\n",
    "\n",
    "\n",
    "2. Utilizando o método de Newton encontre os coeficientes do polinômio interpolador de ordem 3. Trace o gráfico entre 10 e 22.5 com intervalo de 0.01 entre os pontos "
   ]
  },
  {
   "cell_type": "code",
   "execution_count": 1,
   "metadata": {},
   "outputs": [],
   "source": [
    "import numpy as np\n",
    "import matplotlib.pyplot as plt"
   ]
  },
  {
   "cell_type": "code",
   "execution_count": 2,
   "metadata": {},
   "outputs": [],
   "source": [
    "x = np.array([10,15,20,22.5])\n",
    "y = np.array([227.04, 362.78, 517.35, 602.97])"
   ]
  },
  {
   "cell_type": "code",
   "execution_count": 3,
   "metadata": {},
   "outputs": [],
   "source": [
    "def ddn(x,y):\n",
    "    if x.shape[0]==1:\n",
    "        return y[0]\n",
    "    else:\n",
    "        return (ddn(x[1:],y[1:]) - ddn(x[:-1],y[:-1]))/(x[-1]-x[0])"
   ]
  },
  {
   "cell_type": "code",
   "execution_count": 4,
   "metadata": {},
   "outputs": [
    {
     "data": {
      "text/plain": [
       "0.005434666666666525"
      ]
     },
     "execution_count": 4,
     "metadata": {},
     "output_type": "execute_result"
    }
   ],
   "source": [
    "b = ddn(x,y)\n",
    "b"
   ]
  },
  {
   "cell_type": "code",
   "execution_count": 5,
   "metadata": {},
   "outputs": [],
   "source": [
    "def coeficientes(x,y):\n",
    "    coef = np.zeros(x.shape[0])\n",
    "    for i in range(len(coef)):\n",
    "        coef[i] = ddn(x[:i+1],y[:i+1])\n",
    "    return coef"
   ]
  },
  {
   "cell_type": "code",
   "execution_count": 6,
   "metadata": {},
   "outputs": [
    {
     "data": {
      "text/plain": [
       "array([2.27040000e+02, 2.71480000e+01, 3.76600000e-01, 5.43466667e-03])"
      ]
     },
     "execution_count": 6,
     "metadata": {},
     "output_type": "execute_result"
    }
   ],
   "source": [
    "b = coeficientes(x,y)\n",
    "b"
   ]
  },
  {
   "cell_type": "code",
   "execution_count": 7,
   "metadata": {},
   "outputs": [],
   "source": [
    "def polinomio(x,xo,b):\n",
    "    y = b[0]\n",
    "    for i in range(1,len(b)):\n",
    "        termos = 1\n",
    "        for j in range(i):\n",
    "            termos*=(x - xo[j])\n",
    "        y+=b[i]*termos\n",
    "    return y "
   ]
  },
  {
   "cell_type": "code",
   "execution_count": 8,
   "metadata": {},
   "outputs": [
    {
     "data": {
      "text/plain": [
       "array([227.04, 362.78, 517.35, 602.97])"
      ]
     },
     "execution_count": 8,
     "metadata": {},
     "output_type": "execute_result"
    }
   ],
   "source": [
    "yn = polinomio(x,x,b)\n",
    "yn"
   ]
  },
  {
   "cell_type": "code",
   "execution_count": 9,
   "metadata": {},
   "outputs": [
    {
     "data": {
      "image/png": "[encoded data removed]",
      "text/plain": [
       "<Figure size 432x288 with 1 Axes>"
      ]
     },
     "metadata": {
      "needs_background": "light"
     },
     "output_type": "display_data"
    }
   ],
   "source": [
    "xi = np.arange(10,22.5,0.01)\n",
    "yi = polinomio(xi,x,b)\n",
    "\n",
    "plt.plot(xi,yi,'k-',\n",
    "        x,y,'ro')\n",
    "plt.grid(True)"
   ]
  },
  {
   "cell_type": "code",
   "execution_count": null,
   "metadata": {},
   "outputs": [],
   "source": []
  }
 ],
 "metadata": {
  "kernelspec": {
   "display_name": "Python 3",
   "language": "python",
   "name": "python3"
  },
  "language_info": {
   "codemirror_mode": {
    "name": "ipython",
    "version": 3
   },
   "file_extension": ".py",
   "mimetype": "text/x-python",
   "name": "python",
   "nbconvert_exporter": "python",
   "pygments_lexer": "ipython3",
   "version": "3.7.4"
  }
 },
 "nbformat": 4,
 "nbformat_minor": 2
}
