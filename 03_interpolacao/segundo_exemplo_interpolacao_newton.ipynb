{
 "cells": [
  {
   "cell_type": "markdown",
   "metadata": {},
   "source": [
    "Termistores são sensores usados para medir temperatura. Os termistores são baseados em materiais que mudam a resistência elétrica de acordo com a temperatura. Para medir a temperatura, os fabricantes fornecem uma curva de temperatura $\\times$ resistência. Um fabricante fez uma série de observações e obteve a seguinte tabela: \n",
    "\n",
    "| R(ohm) | T(ºC) |\n",
    "|--------|--------|\n",
    "|1101.0|25.113\n",
    "| 911.3  | 30.131 |\n",
    "| 636.0  | 40.120 |\n",
    "| 451.1  | 50.128 |\n",
    "\n",
    "Determine a temperatura correspondente a 754.8 ohms:"
   ]
  },
  {
   "cell_type": "markdown",
   "metadata": {},
   "source": [
    "<img  src = \"imagens/diferencas_divididas.png\" style = \"display:block; margin-left:auto; margin-right:auto;\"/>"
   ]
  },
  {
   "cell_type": "code",
   "execution_count": 1,
   "metadata": {},
   "outputs": [],
   "source": [
    "import numpy as np\n",
    "import sympy\n",
    "import matplotlib.pyplot as plt"
   ]
  },
  {
   "cell_type": "code",
   "execution_count": 2,
   "metadata": {},
   "outputs": [
    {
     "data": {
      "text/plain": [
       "(array([ 451.1,  636. ,  911.3, 1101. ]),\n",
       " array([50.128, 40.12 , 30.131, 25.113]))"
      ]
     },
     "execution_count": 2,
     "metadata": {},
     "output_type": "execute_result"
    }
   ],
   "source": [
    "xi = np.array([451.1,636,911.3,1101],dtype = float)\n",
    "yi = np.array([50.128,40.120,30.131,25.113], dtype = float)\n",
    "xi,yi"
   ]
  },
  {
   "cell_type": "code",
   "execution_count": 3,
   "metadata": {},
   "outputs": [
    {
     "data": {
      "text/latex": [
       "$\\displaystyle x$"
      ],
      "text/plain": [
       "x"
      ]
     },
     "execution_count": 3,
     "metadata": {},
     "output_type": "execute_result"
    }
   ],
   "source": [
    "x = sympy.Symbol('x')\n",
    "x"
   ]
  },
  {
   "cell_type": "code",
   "execution_count": 4,
   "metadata": {},
   "outputs": [],
   "source": [
    "def dd(x,y):\n",
    "    if len(x) == 1:\n",
    "        return y[0]\n",
    "    else:\n",
    "        return (dd(x[1:],y[1:]) - dd(x[:-1],y[:-1])) / (x[-1] - x[0])"
   ]
  },
  {
   "cell_type": "markdown",
   "metadata": {},
   "source": [
    "# o polinômio de Newton\n",
    "\n",
    "\n",
    "$$P_3(x) = f[x_0] + f[x_1,x_0](x-x_0) + f[x_2,x_1,x_0](x-x_0)(x-x_1) + f[x_3,x_2,x_1,x_0](x-x_0)(x-x_1)(x-x_2)$$\n"
   ]
  },
  {
   "cell_type": "code",
   "execution_count": 5,
   "metadata": {},
   "outputs": [],
   "source": [
    "px = yi[0] + dd(xi[0:2],yi[0:2]) * (x - xi[0]) + dd(xi[0:3],yi[0:3]) * (x - xi[0])*(x - xi[1]) +\\\n",
    "dd(xi[0:4],yi[0:4]) * (x - xi[0]) * (x - xi[1]) * (x - xi[2])"
   ]
  },
  {
   "cell_type": "code",
   "execution_count": 6,
   "metadata": {},
   "outputs": [
    {
     "data": {
      "text/latex": [
       "$\\displaystyle - 0.0541265548945376 x + \\left(1.2235448980093 \\cdot 10^{-5} - 2.71235845269186 \\cdot 10^{-8} x\\right) \\left(x - 911.3\\right) \\left(x - 636.0\\right) + \\left(3.87711889070025 \\cdot 10^{-5} x - 0.0174896833159488\\right) \\left(x - 636.0\\right) + 74.5444889129259$"
      ],
      "text/plain": [
       "-0.0541265548945376*x + (1.2235448980093e-5 - 2.71235845269186e-8*x)*(x - 911.3)*(x - 636.0) + (3.87711889070025e-5*x - 0.0174896833159488)*(x - 636.0) + 74.5444889129259"
      ]
     },
     "execution_count": 6,
     "metadata": {},
     "output_type": "execute_result"
    }
   ],
   "source": [
    "px"
   ]
  },
  {
   "cell_type": "code",
   "execution_count": 7,
   "metadata": {},
   "outputs": [
    {
     "data": {
      "text/latex": [
       "$\\displaystyle - 2.71235845269186 \\cdot 10^{-8} x^{3} + 9.29749602255966 \\cdot 10^{-5} x^{2} - 0.130927096122724 x + 92.7594322228047$"
      ],
      "text/plain": [
       "-2.71235845269186e-8*x**3 + 9.29749602255966e-5*x**2 - 0.130927096122724*x + 92.7594322228047"
      ]
     },
     "execution_count": 7,
     "metadata": {},
     "output_type": "execute_result"
    }
   ],
   "source": [
    "px = sympy.simplify(px)\n",
    "px"
   ]
  },
  {
   "cell_type": "code",
   "execution_count": 11,
   "metadata": {},
   "outputs": [
    {
     "data": {
      "text/latex": [
       "$\\displaystyle 30.131$"
      ],
      "text/plain": [
       "30.1310000000000"
      ]
     },
     "execution_count": 11,
     "metadata": {},
     "output_type": "execute_result"
    }
   ],
   "source": [
    "px.subs(x,911.3)"
   ]
  },
  {
   "cell_type": "code",
   "execution_count": 12,
   "metadata": {},
   "outputs": [],
   "source": [
    "Px = yi[0]\n",
    "for i in range(2,len(xi) + 1):\n",
    "    termo = dd(xi[0:i],yi[0:i])\n",
    "    for j in range(i - 1):\n",
    "        termo *= (x - xi[j])\n",
    "    Px += termo"
   ]
  },
  {
   "cell_type": "code",
   "execution_count": 13,
   "metadata": {},
   "outputs": [
    {
     "data": {
      "text/latex": [
       "$\\displaystyle - 0.0541265548945376 x + \\left(1.2235448980093 \\cdot 10^{-5} - 2.71235845269186 \\cdot 10^{-8} x\\right) \\left(x - 911.3\\right) \\left(x - 636.0\\right) + \\left(3.87711889070025 \\cdot 10^{-5} x - 0.0174896833159488\\right) \\left(x - 636.0\\right) + 74.5444889129259$"
      ],
      "text/plain": [
       "-0.0541265548945376*x + (1.2235448980093e-5 - 2.71235845269186e-8*x)*(x - 911.3)*(x - 636.0) + (3.87711889070025e-5*x - 0.0174896833159488)*(x - 636.0) + 74.5444889129259"
      ]
     },
     "execution_count": 13,
     "metadata": {},
     "output_type": "execute_result"
    }
   ],
   "source": [
    "Px"
   ]
  },
  {
   "cell_type": "code",
   "execution_count": 14,
   "metadata": {},
   "outputs": [
    {
     "data": {
      "text/latex": [
       "$\\displaystyle - 2.71235845269186 \\cdot 10^{-8} x^{3} + 9.29749602255966 \\cdot 10^{-5} x^{2} - 0.130927096122724 x + 92.7594322228047$"
      ],
      "text/plain": [
       "-2.71235845269186e-8*x**3 + 9.29749602255966e-5*x**2 - 0.130927096122724*x + 92.7594322228047"
      ]
     },
     "execution_count": 14,
     "metadata": {},
     "output_type": "execute_result"
    }
   ],
   "source": [
    "Px = sympy.simplify(Px)\n",
    "Px"
   ]
  },
  {
   "cell_type": "code",
   "execution_count": 15,
   "metadata": {},
   "outputs": [
    {
     "name": "stdout",
     "output_type": "stream",
     "text": [
      "-2.71235845269186e-8*x**3 + 9.29749602255966e-5*x**2 - 0.130927096122724*x + 92.7594322228047\n"
     ]
    }
   ],
   "source": [
    "print(Px)"
   ]
  },
  {
   "cell_type": "code",
   "execution_count": 16,
   "metadata": {},
   "outputs": [],
   "source": [
    "def polinomio(x):\n",
    "    return -2.71235845269186e-8*x**3 + 9.29749602255966e-5*x**2 - 0.130927096122724*x + 92.7594322228047"
   ]
  },
  {
   "cell_type": "code",
   "execution_count": 18,
   "metadata": {},
   "outputs": [
    {
     "data": {
      "image/png": "[encoded data removed]",
      "text/plain": [
       "<Figure size 432x288 with 1 Axes>"
      ]
     },
     "metadata": {
      "needs_background": "light"
     },
     "output_type": "display_data"
    }
   ],
   "source": [
    "xa = np.arange(xi[0],xi[-1],0.01)\n",
    "ya = polinomio(xa)\n",
    "\n",
    "plt.plot(xa,ya)\n",
    "plt.scatter(xi,yi, c='red')\n",
    "\n",
    "plt.grid(True)"
   ]
  },
  {
   "cell_type": "code",
   "execution_count": 19,
   "metadata": {},
   "outputs": [
    {
     "name": "stdout",
     "output_type": "stream",
     "text": [
      "A Temperatura em 754.8 ohms é de 35.24176470974345 ºC\n"
     ]
    }
   ],
   "source": [
    "T = polinomio(754.8)\n",
    "print(f'A Temperatura em 754.8 ohms é de {T} ºC')"
   ]
  },
  {
   "cell_type": "code",
   "execution_count": null,
   "metadata": {},
   "outputs": [],
   "source": []
  }
 ],
 "metadata": {
  "kernelspec": {
   "display_name": "Python 3",
   "language": "python",
   "name": "python3"
  },
  "language_info": {
   "codemirror_mode": {
    "name": "ipython",
    "version": 3
   },
   "file_extension": ".py",
   "mimetype": "text/x-python",
   "name": "python",
   "nbconvert_exporter": "python",
   "pygments_lexer": "ipython3",
   "version": "3.7.4"
  }
 },
 "nbformat": 4,
 "nbformat_minor": 2
}
