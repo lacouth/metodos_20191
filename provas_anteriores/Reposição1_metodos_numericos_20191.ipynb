{
 "cells": [
  {
   "cell_type": "markdown",
   "metadata": {
    "colab_type": "text",
    "id": "view-in-github"
   },
   "source": [
    "<a href=\"https://colab.research.google.com/github/lacouth/metodos_20191/blob/master/Reposi%C3%A7%C3%A3o1_metodos_numericos_20191.ipynb\" target=\"_parent\"><img src=\"https://colab.research.google.com/assets/colab-badge.svg\" alt=\"Open In Colab\"/></a>"
   ]
  },
  {
   "cell_type": "code",
   "execution_count": 0,
   "metadata": {
    "colab": {},
    "colab_type": "code",
    "id": "wiSJKdIx6DkO"
   },
   "outputs": [],
   "source": [
    "import numpy as np\n",
    "from scipy.linalg import solve_triangular\n",
    "import matplotlib.pyplot as plot\n",
    "np.set_printoptions(formatter={'float': lambda x: \"{:.4f}\".format(x)})"
   ]
  },
  {
   "cell_type": "code",
   "execution_count": 0,
   "metadata": {
    "cellView": "form",
    "colab": {},
    "colab_type": "code",
    "id": "G9ct_LE4JAOe"
   },
   "outputs": [],
   "source": [
    "#@title 1ª Prova métodos numéricos 2019.1\n",
    "nome = \"\" #@param {type:\"string\"}\n",
    "matricula = \"\" #@param {type:\"string\"}"
   ]
  },
  {
   "cell_type": "markdown",
   "metadata": {
    "colab_type": "text",
    "id": "PKwVPhb8QxDG"
   },
   "source": [
    "### Formulário de entrega: https://forms.gle/uxbbqociiWd5nhYn9"
   ]
  },
  {
   "cell_type": "code",
   "execution_count": 0,
   "metadata": {
    "colab": {},
    "colab_type": "code",
    "id": "SOolasis5p_7"
   },
   "outputs": [],
   "source": [
    "print(f'{nome} - {matricula} - 1ª Prova de Métodos Numéricos 2019.1')"
   ]
  },
  {
   "cell_type": "markdown",
   "metadata": {
    "colab_type": "text",
    "id": "hauHrPz3Ktxs"
   },
   "source": [
    "---\n",
    "#### Bisseção\n",
    "$$  x_{meio} = \\frac{(x_{max}+x_{min})}{2} $$\n",
    "\n",
    "#### Newton - Raphson\n",
    "\n",
    "$$ x_{i+1} = x_i - \\frac{f(x_i)}{f'(x_i)} $$\n",
    "\n",
    "#### Secante\n",
    "\n",
    "$$ x_{i+1} = x_i - \\frac{f(x_i)(x_i-x_{i-1})}{f(x_i)-f(x_{i-1})} $$\n",
    "\n",
    "#### erro de aproximação\n",
    "\n",
    "$$ | \\varepsilon_a | = \\left | \\frac{x^{novo}_r - x^{velho}_r }{x^{novo}_r} \\right| \\times 100% $$\n",
    "\n",
    "---"
   ]
  },
  {
   "cell_type": "markdown",
   "metadata": {
    "colab_type": "text",
    "id": "l8eCAJ6wLq73"
   },
   "source": [
    "# Questões"
   ]
  },
  {
   "cell_type": "markdown",
   "metadata": {
    "colab_type": "text",
    "id": "5yuqHAJW6mRx"
   },
   "source": [
    "### 1. Encontre a raiz de \n",
    "$$ f(x) =  xlog(x) -1  $$\n",
    "\n",
    "entre x = 2 e x = 3. Utilize como critério de parada $\\epsilon_a \\leq 10^-7$. Utilize dois métodos diferentes. Justifique a escolha dos métodos"
   ]
  },
  {
   "cell_type": "code",
   "execution_count": 0,
   "metadata": {
    "colab": {},
    "colab_type": "code",
    "id": "shpbRN9a9lt8"
   },
   "outputs": [],
   "source": []
  },
  {
   "cell_type": "code",
   "execution_count": 0,
   "metadata": {
    "colab": {},
    "colab_type": "code",
    "id": "XmSFld8rKhoU"
   },
   "outputs": [],
   "source": []
  },
  {
   "cell_type": "code",
   "execution_count": 0,
   "metadata": {
    "colab": {},
    "colab_type": "code",
    "id": "oA_aO-3bKhvg"
   },
   "outputs": [],
   "source": []
  },
  {
   "cell_type": "code",
   "execution_count": 0,
   "metadata": {
    "colab": {},
    "colab_type": "code",
    "id": "beOoJ-5yKiby"
   },
   "outputs": [],
   "source": []
  },
  {
   "cell_type": "code",
   "execution_count": 0,
   "metadata": {
    "colab": {},
    "colab_type": "code",
    "id": "_c27SnyRLziH"
   },
   "outputs": [],
   "source": []
  },
  {
   "cell_type": "code",
   "execution_count": 0,
   "metadata": {
    "colab": {},
    "colab_type": "code",
    "id": "nGi5IsFqLzk4"
   },
   "outputs": [],
   "source": []
  },
  {
   "cell_type": "markdown",
   "metadata": {
    "colab_type": "text",
    "id": "5Kwa1-XT-_mx"
   },
   "source": [
    "### 2. Dado o sistema abaixo:\n",
    "\n",
    "$$\\begin{bmatrix}\n",
    "3x_1-x_2=5\\\\\n",
    "1.5x_1+4x_2=-1\\\\\n",
    "3.4x_3-1.8x_4=2\\\\\n",
    "x_3+2x_4 = 7\\\\\n",
    "5x_1+1.2x_2-2x_3+x_4 - x_5 = 4\n",
    "\\end{bmatrix}$$\n",
    "\n",
    "a. Verifique se a convergência pode ser garantida através do método de Gauss-Seidel.\n",
    "\n",
    "b. Resolva o sistema utilizando Gauss-Seidel se  a convergência for garantida, caso contrário utilize o método de Gauss com pivotação parcial."
   ]
  },
  {
   "cell_type": "code",
   "execution_count": 0,
   "metadata": {
    "colab": {},
    "colab_type": "code",
    "id": "OvL16c97BkhK"
   },
   "outputs": [],
   "source": []
  },
  {
   "cell_type": "code",
   "execution_count": 0,
   "metadata": {
    "colab": {},
    "colab_type": "code",
    "id": "SpCRYEk2Kj_E"
   },
   "outputs": [],
   "source": []
  },
  {
   "cell_type": "code",
   "execution_count": 0,
   "metadata": {
    "colab": {},
    "colab_type": "code",
    "id": "u9vKL8TxKkB5"
   },
   "outputs": [],
   "source": []
  },
  {
   "cell_type": "code",
   "execution_count": 0,
   "metadata": {
    "colab": {},
    "colab_type": "code",
    "id": "bGD8G45AU-gl"
   },
   "outputs": [],
   "source": []
  },
  {
   "cell_type": "code",
   "execution_count": 0,
   "metadata": {
    "colab": {},
    "colab_type": "code",
    "id": "BNMZ78CGKkP4"
   },
   "outputs": [],
   "source": []
  },
  {
   "cell_type": "code",
   "execution_count": 0,
   "metadata": {
    "colab": {},
    "colab_type": "code",
    "id": "C_lkv92qKlj2"
   },
   "outputs": [],
   "source": []
  },
  {
   "cell_type": "markdown",
   "metadata": {
    "colab_type": "text",
    "id": "bkVT21BVBpwZ"
   },
   "source": [
    "### 3. Considere a matriz de coeficientes abaixo:\n",
    "\n",
    "$$[A] = \\begin{bmatrix}\n",
    "0 & 3 & 5 & 1\\\\\n",
    "0.005 & 2 & 8 & 12\\\\\n",
    "12 & 6 & 14.2 & 0\\\\\n",
    "4 & 2 & 8 & 1.25\n",
    "\\end{bmatrix}$$\n",
    "\n",
    "utilizando a decomposição LU encontre a inversa de [A]. Prove que a sua resposta está correta."
   ]
  },
  {
   "cell_type": "markdown",
   "metadata": {
    "colab_type": "text",
    "id": "thlOCbdWSA3e"
   },
   "source": [
    "### Justificativa:\n",
    "\n"
   ]
  },
  {
   "cell_type": "code",
   "execution_count": 0,
   "metadata": {
    "colab": {},
    "colab_type": "code",
    "id": "TTC8eSw_KeIF"
   },
   "outputs": [],
   "source": []
  },
  {
   "cell_type": "code",
   "execution_count": 0,
   "metadata": {
    "colab": {},
    "colab_type": "code",
    "id": "wXzVBmrtKmwm"
   },
   "outputs": [],
   "source": []
  },
  {
   "cell_type": "code",
   "execution_count": 0,
   "metadata": {
    "colab": {},
    "colab_type": "code",
    "id": "htsibBelKmzR"
   },
   "outputs": [],
   "source": []
  },
  {
   "cell_type": "code",
   "execution_count": 0,
   "metadata": {
    "colab": {},
    "colab_type": "code",
    "id": "_7UnoxUuKm16"
   },
   "outputs": [],
   "source": []
  },
  {
   "cell_type": "code",
   "execution_count": 0,
   "metadata": {
    "colab": {},
    "colab_type": "code",
    "id": "knN6ZQ9iL7LA"
   },
   "outputs": [],
   "source": []
  }
 ],
 "metadata": {
  "colab": {
   "collapsed_sections": [],
   "include_colab_link": true,
   "name": "Reposição1_metodos_numericos_20191.ipynb",
   "provenance": [],
   "version": "0.3.2"
  },
  "kernelspec": {
   "display_name": "Python 3",
   "language": "python",
   "name": "python3"
  },
  "language_info": {
   "codemirror_mode": {
    "name": "ipython",
    "version": 3
   },
   "file_extension": ".py",
   "mimetype": "text/x-python",
   "name": "python",
   "nbconvert_exporter": "python",
   "pygments_lexer": "ipython3",
   "version": "3.7.4"
  }
 },
 "nbformat": 4,
 "nbformat_minor": 1
}
