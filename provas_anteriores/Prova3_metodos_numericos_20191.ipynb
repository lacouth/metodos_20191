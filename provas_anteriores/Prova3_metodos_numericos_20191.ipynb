{
 "cells": [
  {
   "cell_type": "markdown",
   "metadata": {
    "colab_type": "text",
    "id": "view-in-github"
   },
   "source": [
    "<a href=\"https://colab.research.google.com/github/lacouth/metodos_20191/blob/master/Prova3_metodos_numericos_20191.ipynb\" target=\"_parent\"><img src=\"https://colab.research.google.com/assets/colab-badge.svg\" alt=\"Open In Colab\"/></a>"
   ]
  },
  {
   "cell_type": "code",
   "execution_count": 0,
   "metadata": {
    "colab": {},
    "colab_type": "code",
    "id": "wiSJKdIx6DkO"
   },
   "outputs": [],
   "source": [
    "import numpy as np\n",
    "from scipy.linalg import solve_triangular\n",
    "import matplotlib.pyplot as plot\n",
    "np.set_printoptions(formatter={'float': lambda x: \"{:.4f}\".format(x)})"
   ]
  },
  {
   "cell_type": "code",
   "execution_count": 0,
   "metadata": {
    "cellView": "both",
    "colab": {},
    "colab_type": "code",
    "id": "G9ct_LE4JAOe"
   },
   "outputs": [],
   "source": [
    "#@title 3ª Prova métodos numéricos 2019.1\n",
    "nome = \"\" #@param {type:\"string\"}\n",
    "matricula = \"\" #@param {type:\"string\"}"
   ]
  },
  {
   "cell_type": "markdown",
   "metadata": {
    "colab_type": "text",
    "id": "PKwVPhb8QxDG"
   },
   "source": [
    "### Formulário de entrega: https://forms.gle/dW2abz429GgjDzJS7"
   ]
  },
  {
   "cell_type": "code",
   "execution_count": 2,
   "metadata": {
    "colab": {
     "base_uri": "https://localhost:8080/",
     "height": 34
    },
    "colab_type": "code",
    "id": "SOolasis5p_7",
    "outputId": "229d7dc6-31ff-47e9-83e1-9189e9d85812"
   },
   "outputs": [
    {
     "name": "stdout",
     "output_type": "stream",
     "text": [
      " -  - 3ª Prova de Métodos Numéricos 2019.1\n"
     ]
    }
   ],
   "source": [
    "print(f'{nome} - {matricula} - 3ª Prova de Métodos Numéricos 2019.1')"
   ]
  },
  {
   "cell_type": "markdown",
   "metadata": {
    "colab_type": "text",
    "id": "l8eCAJ6wLq73"
   },
   "source": [
    "# Questões"
   ]
  },
  {
   "cell_type": "markdown",
   "metadata": {
    "colab_type": "text",
    "id": "5yuqHAJW6mRx"
   },
   "source": [
    "### 1. Utilizando diferenças finitas, calcule $f'(2.36)$ e $f'(2.39)$ a partir dos seguintes dados:\n",
    "\n",
    "x|$f(x)$\n",
    "--|--\n",
    "2.36|0.85866\n",
    "2.37|0.86289\n",
    "2.38|0.86710\n",
    "2.39|0.87129"
   ]
  },
  {
   "cell_type": "code",
   "execution_count": 0,
   "metadata": {
    "colab": {},
    "colab_type": "code",
    "id": "shpbRN9a9lt8"
   },
   "outputs": [],
   "source": []
  },
  {
   "cell_type": "code",
   "execution_count": 0,
   "metadata": {
    "colab": {},
    "colab_type": "code",
    "id": "XmSFld8rKhoU"
   },
   "outputs": [],
   "source": []
  },
  {
   "cell_type": "code",
   "execution_count": 0,
   "metadata": {
    "colab": {},
    "colab_type": "code",
    "id": "oA_aO-3bKhvg"
   },
   "outputs": [],
   "source": []
  },
  {
   "cell_type": "code",
   "execution_count": 0,
   "metadata": {
    "colab": {},
    "colab_type": "code",
    "id": "beOoJ-5yKiby"
   },
   "outputs": [],
   "source": []
  },
  {
   "cell_type": "code",
   "execution_count": 0,
   "metadata": {
    "colab": {},
    "colab_type": "code",
    "id": "_c27SnyRLziH"
   },
   "outputs": [],
   "source": []
  },
  {
   "cell_type": "code",
   "execution_count": 0,
   "metadata": {
    "colab": {},
    "colab_type": "code",
    "id": "nGi5IsFqLzk4"
   },
   "outputs": [],
   "source": []
  },
  {
   "cell_type": "markdown",
   "metadata": {
    "colab_type": "text",
    "id": "5Kwa1-XT-_mx"
   },
   "source": [
    "### 2.Estime $f'(1)$ e $f''(1)$ o mais preciso possível a partir dos dados:\n",
    "\n",
    "\n",
    "x|$f(x)\n",
    "--|--\n",
    "0.97|0.85040\n",
    "1.00|0.84147\n",
    "1.05|0.82612\n",
    "\n",
    "Justifique a escolha do método."
   ]
  },
  {
   "cell_type": "code",
   "execution_count": 0,
   "metadata": {
    "colab": {},
    "colab_type": "code",
    "id": "OvL16c97BkhK"
   },
   "outputs": [],
   "source": []
  },
  {
   "cell_type": "code",
   "execution_count": 0,
   "metadata": {
    "colab": {},
    "colab_type": "code",
    "id": "SpCRYEk2Kj_E"
   },
   "outputs": [],
   "source": []
  },
  {
   "cell_type": "code",
   "execution_count": 0,
   "metadata": {
    "colab": {},
    "colab_type": "code",
    "id": "u9vKL8TxKkB5"
   },
   "outputs": [],
   "source": []
  },
  {
   "cell_type": "code",
   "execution_count": 0,
   "metadata": {
    "colab": {},
    "colab_type": "code",
    "id": "bGD8G45AU-gl"
   },
   "outputs": [],
   "source": []
  },
  {
   "cell_type": "code",
   "execution_count": 0,
   "metadata": {
    "colab": {},
    "colab_type": "code",
    "id": "BNMZ78CGKkP4"
   },
   "outputs": [],
   "source": []
  },
  {
   "cell_type": "code",
   "execution_count": 0,
   "metadata": {
    "colab": {},
    "colab_type": "code",
    "id": "C_lkv92qKlj2"
   },
   "outputs": [],
   "source": []
  },
  {
   "cell_type": "markdown",
   "metadata": {
    "colab_type": "text",
    "id": "bkVT21BVBpwZ"
   },
   "source": [
    "### 3. Calcule $f'$ e $f''$ para $x=0$\n",
    "\n",
    "x|$f(x)$\n",
    "--|--\n",
    "-2.2|15.180\n",
    "-0.3|10.962\n",
    "0.8|1.920\n",
    "0.9|-2.040\n",
    "\n",
    "Justifique a escolha do método utilizado para obter as soluções"
   ]
  },
  {
   "cell_type": "markdown",
   "metadata": {
    "colab_type": "text",
    "id": "thlOCbdWSA3e"
   },
   "source": [
    "### Justificativa:\n",
    "\n"
   ]
  },
  {
   "cell_type": "code",
   "execution_count": 0,
   "metadata": {
    "colab": {},
    "colab_type": "code",
    "id": "TTC8eSw_KeIF"
   },
   "outputs": [],
   "source": []
  },
  {
   "cell_type": "code",
   "execution_count": 0,
   "metadata": {
    "colab": {},
    "colab_type": "code",
    "id": "wXzVBmrtKmwm"
   },
   "outputs": [],
   "source": []
  },
  {
   "cell_type": "code",
   "execution_count": 0,
   "metadata": {
    "colab": {},
    "colab_type": "code",
    "id": "htsibBelKmzR"
   },
   "outputs": [],
   "source": []
  },
  {
   "cell_type": "code",
   "execution_count": 0,
   "metadata": {
    "colab": {},
    "colab_type": "code",
    "id": "_7UnoxUuKm16"
   },
   "outputs": [],
   "source": []
  },
  {
   "cell_type": "code",
   "execution_count": 0,
   "metadata": {
    "colab": {},
    "colab_type": "code",
    "id": "knN6ZQ9iL7LA"
   },
   "outputs": [],
   "source": []
  },
  {
   "cell_type": "markdown",
   "metadata": {
    "colab_type": "text",
    "id": "nytJg_BGPZ-g"
   },
   "source": [
    "### 4 Resolva numericamente a integral $I = \\int_{-3}^5(4x-3)^3dx = 2056$ "
   ]
  },
  {
   "cell_type": "code",
   "execution_count": 0,
   "metadata": {
    "colab": {},
    "colab_type": "code",
    "id": "hQaXRwZuQExz"
   },
   "outputs": [],
   "source": []
  },
  {
   "cell_type": "code",
   "execution_count": 0,
   "metadata": {
    "colab": {},
    "colab_type": "code",
    "id": "MKkosqADQGrX"
   },
   "outputs": [],
   "source": []
  },
  {
   "cell_type": "code",
   "execution_count": 0,
   "metadata": {
    "colab": {},
    "colab_type": "code",
    "id": "ZcXF9-3ZQG9H"
   },
   "outputs": [],
   "source": []
  },
  {
   "cell_type": "code",
   "execution_count": 0,
   "metadata": {
    "colab": {},
    "colab_type": "code",
    "id": "a02FbKGnQHIa"
   },
   "outputs": [],
   "source": []
  },
  {
   "cell_type": "markdown",
   "metadata": {
    "colab_type": "text",
    "id": "-JZnipy8QIZj"
   },
   "source": [
    "### 5 Usando a regra dos Trapézios e APENAS os valores da tabela mostre que é possível obter $I = \\int_0^\\pi f(x) = 2.00$\n",
    "\n",
    "x | $f(x)$\n",
    "---|---\n",
    "0|0\n",
    "$\\frac{\\pi}{4}$|0.707\n",
    "$\\frac{\\pi}{2}$|1\n",
    "$\\frac{3\\pi}{4}$|0.707\n",
    "$\\pi$|0"
   ]
  },
  {
   "cell_type": "code",
   "execution_count": 0,
   "metadata": {
    "colab": {},
    "colab_type": "code",
    "id": "QF58BvP_QuPB"
   },
   "outputs": [],
   "source": []
  },
  {
   "cell_type": "code",
   "execution_count": 0,
   "metadata": {
    "colab": {},
    "colab_type": "code",
    "id": "XJVnh7y4RExD"
   },
   "outputs": [],
   "source": []
  },
  {
   "cell_type": "code",
   "execution_count": 0,
   "metadata": {
    "colab": {},
    "colab_type": "code",
    "id": "yxpEOciNRE36"
   },
   "outputs": [],
   "source": []
  },
  {
   "cell_type": "code",
   "execution_count": 0,
   "metadata": {
    "colab": {},
    "colab_type": "code",
    "id": "cVpJW44VRFLL"
   },
   "outputs": [],
   "source": []
  },
  {
   "cell_type": "markdown",
   "metadata": {
    "colab_type": "text",
    "id": "6mUeYbY8XcDZ"
   },
   "source": [
    "### 6 Calcule a integral dupla abaixo aplicando as DUAS regras de Simpson com a mesma quantidade de intervalos\n",
    "\n",
    "$$\\int_{-2}^2\\int_{0}^4 (x^2-3y^2+xy^3)dxdy$$"
   ]
  },
  {
   "cell_type": "code",
   "execution_count": 0,
   "metadata": {
    "colab": {},
    "colab_type": "code",
    "id": "CEUx7UiaRE03"
   },
   "outputs": [],
   "source": []
  },
  {
   "cell_type": "code",
   "execution_count": 0,
   "metadata": {
    "colab": {},
    "colab_type": "code",
    "id": "Uc2vA_GEXZXS"
   },
   "outputs": [],
   "source": []
  },
  {
   "cell_type": "code",
   "execution_count": 0,
   "metadata": {
    "colab": {},
    "colab_type": "code",
    "id": "XbSspK4_XaeA"
   },
   "outputs": [],
   "source": []
  },
  {
   "cell_type": "code",
   "execution_count": 0,
   "metadata": {
    "colab": {},
    "colab_type": "code",
    "id": "OtYCxjPIXakw"
   },
   "outputs": [],
   "source": []
  },
  {
   "cell_type": "code",
   "execution_count": 0,
   "metadata": {
    "colab": {},
    "colab_type": "code",
    "id": "1jBFYUP7Xaq_"
   },
   "outputs": [],
   "source": []
  },
  {
   "cell_type": "code",
   "execution_count": 0,
   "metadata": {
    "colab": {},
    "colab_type": "code",
    "id": "xPwwdIwkXah5"
   },
   "outputs": [],
   "source": []
  },
  {
   "cell_type": "markdown",
   "metadata": {
    "colab_type": "text",
    "id": "mDtgxR30RGMe"
   },
   "source": [
    "### 7  Resolva o seguinte problema de valor inicial no intervalo de x = -1 a 1 em que y(-1) = 1/e.\n",
    "$$\\frac{dy}{dx} = e^{2x+1}+3x^2+y$$\n",
    "\n",
    "#### a. Usando um método de segunda ordem com h=0.01\n",
    "#### b. Usando RK4 com h=0.05"
   ]
  },
  {
   "cell_type": "code",
   "execution_count": 0,
   "metadata": {
    "colab": {},
    "colab_type": "code",
    "id": "zylJIwssYIM3"
   },
   "outputs": [],
   "source": []
  },
  {
   "cell_type": "code",
   "execution_count": 0,
   "metadata": {
    "colab": {},
    "colab_type": "code",
    "id": "92_cLjQQYIYV"
   },
   "outputs": [],
   "source": []
  },
  {
   "cell_type": "code",
   "execution_count": 0,
   "metadata": {
    "colab": {},
    "colab_type": "code",
    "id": "FTnTV1fUYIe7"
   },
   "outputs": [],
   "source": []
  },
  {
   "cell_type": "code",
   "execution_count": 0,
   "metadata": {
    "colab": {},
    "colab_type": "code",
    "id": "bRB8J-ucYIje"
   },
   "outputs": [],
   "source": []
  },
  {
   "cell_type": "code",
   "execution_count": 0,
   "metadata": {
    "colab": {},
    "colab_type": "code",
    "id": "GUUdv1ZKYIcF"
   },
   "outputs": [],
   "source": []
  },
  {
   "cell_type": "markdown",
   "metadata": {
    "colab_type": "text",
    "id": "XlFwv8WOYJ4n"
   },
   "source": [
    "### 8 Dado o problema de valor inicial abaixo:\n",
    "$$y'(x) = \\frac{1}{x}(2y+x+1)$$\n",
    "$$y(1) = 0.5$$\n",
    "\n",
    "### Calcule y(100) usando o método de Heun com h=0.2"
   ]
  }
 ],
 "metadata": {
  "colab": {
   "include_colab_link": true,
   "name": "Prova3_metodos_numericos_20191.ipynb",
   "provenance": [],
   "version": "0.3.2"
  },
  "kernelspec": {
   "display_name": "Python 3",
   "language": "python",
   "name": "python3"
  },
  "language_info": {
   "codemirror_mode": {
    "name": "ipython",
    "version": 3
   },
   "file_extension": ".py",
   "mimetype": "text/x-python",
   "name": "python",
   "nbconvert_exporter": "python",
   "pygments_lexer": "ipython3",
   "version": "3.7.4"
  }
 },
 "nbformat": 4,
 "nbformat_minor": 1
}
