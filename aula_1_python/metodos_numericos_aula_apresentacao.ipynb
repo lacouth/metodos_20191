{
  "nbformat": 4,
  "nbformat_minor": 0,
  "metadata": {
    "celltoolbar": "Slideshow",
    "kernelspec": {
      "display_name": "Python 3",
      "language": "python",
      "name": "python3"
    },
    "language_info": {
      "codemirror_mode": {
        "name": "ipython",
        "version": 3
      },
      "file_extension": ".py",
      "mimetype": "text/x-python",
      "name": "python",
      "nbconvert_exporter": "python",
      "pygments_lexer": "ipython3",
      "version": "3.7.2"
    },
    "colab": {
      "name": "metodos_numericos_aula_apresentacao.ipynb",
      "provenance": [],
      "include_colab_link": true
    }
  },
  "cells": [
    {
      "cell_type": "markdown",
      "metadata": {
        "id": "view-in-github",
        "colab_type": "text"
      },
      "source": [
        "<a href=\"https://colab.research.google.com/github/lacouth/metodos_numericos/blob/master/aula_1_python/metodos_numericos_aula_apresentacao.ipynb\" target=\"_parent\"><img src=\"https://colab.research.google.com/assets/colab-badge.svg\" alt=\"Open In Colab\"/></a>"
      ]
    },
    {
      "cell_type": "markdown",
      "metadata": {
        "id": "PRd8Oxmiek46",
        "colab_type": "text"
      },
      "source": [
        "# Métodos Numéricos\n",
        "## Patric Lacouth\n",
        "### patric.lacouth@academico.ifpb.edu.br"
      ]
    },
    {
      "cell_type": "markdown",
      "metadata": {
        "id": "H63n0TG6ek47",
        "colab_type": "text"
      },
      "source": [
        "# Cálculo numérico ?\n",
        "* Definição:\n",
        "\n",
        "    \" é uma metodologia para resolver problemas matemáticos por intermédio de um computador \""
      ]
    },
    {
      "cell_type": "markdown",
      "metadata": {
        "id": "7cONcq4Wek48",
        "colab_type": "text"
      },
      "source": [
        "* Durante a carreira profissional, teremos a oportunidade de usar softwares disponíveis no mercado (pacotes “prontos”);\n",
        "\n",
        "* O uso inteligente desses programas depende do conhecimento da teoria básica fundamental dos métodos;\n",
        "\n",
        "* Muitos problemas não podem ser solucionado utilizando pacotes “prontos” de software."
      ]
    },
    {
      "cell_type": "markdown",
      "metadata": {
        "id": "ZYuDxXhlek49",
        "colab_type": "text"
      },
      "source": [
        "# Conteúdos\n",
        "\n",
        "0. Python \n",
        "1. Erros\n",
        "2. Raízes de funções\n",
        "3. Sistemas lineares\n",
        "4. Interpolação\n",
        "5. Integração\n",
        "6. Equações diferenciais\n",
        "7. Ajuste de curvas\n"
      ]
    },
    {
      "cell_type": "markdown",
      "metadata": {
        "id": "VH6ESOuTek4-",
        "colab_type": "text"
      },
      "source": [
        "# Bibliografia\n",
        "\n",
        "* Métodos Numéricos Aplicados com MATLAB® para Engenheiros e Cientistas\n",
        "    * Steven C. Chapra;\n",
        "    \n",
        "* Métodos Numéricos Para Engenharia\n",
        "    * Steven C. Chapra;\n",
        "    \n",
        "* Cálculo Numérico - Com Aplicações - FORTRAN\n",
        "    * Leônidas Barroso\n",
        "    \n",
        "* Numerical Methods in Engineering with Python 3\n",
        "    * Jaan Kiusalaas\n"
      ]
    },
    {
      "cell_type": "markdown",
      "metadata": {
        "id": "IE6hXF0dek4_",
        "colab_type": "text"
      },
      "source": [
        "# Python 3\n",
        "\n",
        "* Simples\n",
        "* Gratuito\n",
        "* Mais dinâmica\n",
        "* Data Science + Deep Learning\n"
      ]
    },
    {
      "cell_type": "markdown",
      "metadata": {
        "id": "dASRta00ek5B",
        "colab_type": "text"
      },
      "source": [
        "# Python 3\n",
        "\n",
        "![](https://cdn-images-1.medium.com/max/1600/1*RJXyvc4Ce7GijI9jM_sK7g.png)\n",
        "\n",
        "Python > matlab"
      ]
    },
    {
      "cell_type": "markdown",
      "metadata": {
        "id": "IvQhI7Vdek5C",
        "colab_type": "text"
      },
      "source": [
        "# Python 3\n",
        "\n",
        "* On-line:\n",
        "    * https://colab.research.google.com/\n",
        "* Off-line:\n",
        "    * https://conda.io"
      ]
    },
    {
      "cell_type": "markdown",
      "metadata": {
        "id": "8P4YGC6Sek5D",
        "colab_type": "text"
      },
      "source": [
        "# Python Básico\n",
        "\n",
        "## Variáveis numéricas\n",
        "* Inteiros\n",
        "* Ponto flutuantes\n",
        "* Dinâmicas"
      ]
    },
    {
      "cell_type": "code",
      "metadata": {
        "id": "oOnYf8ooek5D",
        "colab_type": "code",
        "colab": {},
        "outputId": "ba234e50-0aa8-477b-c007-84fda3325ac2"
      },
      "source": [
        "b = 5\n",
        "b"
      ],
      "execution_count": 0,
      "outputs": [
        {
          "output_type": "execute_result",
          "data": {
            "text/plain": [
              "5"
            ]
          },
          "metadata": {
            "tags": []
          },
          "execution_count": 1
        }
      ]
    },
    {
      "cell_type": "code",
      "metadata": {
        "id": "2KBc5ICXek5H",
        "colab_type": "code",
        "colab": {},
        "outputId": "f3881fa1-5da6-410a-e6b1-aa3242489c35"
      },
      "source": [
        "b = b * 2.0\n",
        "b"
      ],
      "execution_count": 0,
      "outputs": [
        {
          "output_type": "execute_result",
          "data": {
            "text/plain": [
              "11.0"
            ]
          },
          "metadata": {
            "tags": []
          },
          "execution_count": 4
        }
      ]
    },
    {
      "cell_type": "markdown",
      "metadata": {
        "id": "q6HkfrSwek5K",
        "colab_type": "text"
      },
      "source": [
        "## Strings\n",
        "\n",
        "Uma string é uma sequência de caracteres entre aspas simples ou duplas. As strings são concatenadas com o operador mais (+), enquanto o slicing (:) é usado para extrair uma parte da string. Exemplos:"
      ]
    },
    {
      "cell_type": "code",
      "metadata": {
        "id": "NncbTBD9ek5M",
        "colab_type": "code",
        "colab": {},
        "outputId": "ae23bdc3-d8da-472c-a4b9-4a564f12081a"
      },
      "source": [
        "string1 = \"Oi \"\n",
        "string2 = \"mundo cruel!\"\n",
        "string1+string2"
      ],
      "execution_count": 0,
      "outputs": [
        {
          "output_type": "execute_result",
          "data": {
            "text/plain": [
              "'Oi mundo cruel!'"
            ]
          },
          "metadata": {
            "tags": []
          },
          "execution_count": 13
        }
      ]
    },
    {
      "cell_type": "code",
      "metadata": {
        "id": "NsTIxdnKek5P",
        "colab_type": "code",
        "colab": {},
        "outputId": "d03dd0ac-feaf-4acb-d5cd-2c5daf16252a"
      },
      "source": [
        "string2[6:11]"
      ],
      "execution_count": 0,
      "outputs": [
        {
          "output_type": "execute_result",
          "data": {
            "text/plain": [
              "'cruel'"
            ]
          },
          "metadata": {
            "tags": []
          },
          "execution_count": 15
        }
      ]
    },
    {
      "cell_type": "markdown",
      "metadata": {
        "id": "ZFVpW_Gdek5R",
        "colab_type": "text"
      },
      "source": [
        "Uma string pode ser dividida em suas partes componentes usando o comando split. Os componentes aparecem como elementos em uma lista. Por exemplo,"
      ]
    },
    {
      "cell_type": "code",
      "metadata": {
        "id": "a-epneZxek5S",
        "colab_type": "code",
        "colab": {},
        "outputId": "eff77fc8-d078-4fbf-ace6-a1b05f8c6376"
      },
      "source": [
        "s = \"8 8 83\"\n",
        "s.split()"
      ],
      "execution_count": 0,
      "outputs": [
        {
          "output_type": "execute_result",
          "data": {
            "text/plain": [
              "['8', '8', '83']"
            ]
          },
          "metadata": {
            "tags": []
          },
          "execution_count": 16
        }
      ]
    },
    {
      "cell_type": "markdown",
      "metadata": {
        "id": "v2LJlKA-ek5V",
        "colab_type": "text"
      },
      "source": [
        "Uma string é um objeto imutável - seus caracteres individuais não podem ser modificados com uma instrução de atribuição e ela tem um tamanho fixo."
      ]
    },
    {
      "cell_type": "code",
      "metadata": {
        "id": "mK_0s8-9ek5W",
        "colab_type": "code",
        "colab": {},
        "outputId": "b198de2c-9245-4ec3-cab9-0741b5e8a04a"
      },
      "source": [
        "s = \"oi mundo!\"\n",
        "s[0] = 'O'"
      ],
      "execution_count": 0,
      "outputs": [
        {
          "output_type": "error",
          "ename": "TypeError",
          "evalue": "'str' object does not support item assignment",
          "traceback": [
            "\u001b[0;31m---------------------------------------------------------------------------\u001b[0m",
            "\u001b[0;31mTypeError\u001b[0m                                 Traceback (most recent call last)",
            "\u001b[0;32m<ipython-input-3-40388cc099ad>\u001b[0m in \u001b[0;36m<module>\u001b[0;34m\u001b[0m\n\u001b[1;32m      1\u001b[0m \u001b[0ms\u001b[0m \u001b[0;34m=\u001b[0m \u001b[0;34m\"oi mundo!\"\u001b[0m\u001b[0;34m\u001b[0m\u001b[0m\n\u001b[0;32m----> 2\u001b[0;31m \u001b[0ms\u001b[0m\u001b[0;34m[\u001b[0m\u001b[0;36m0\u001b[0m\u001b[0;34m]\u001b[0m \u001b[0;34m=\u001b[0m \u001b[0;34m'O'\u001b[0m\u001b[0;34m\u001b[0m\u001b[0m\n\u001b[0m",
            "\u001b[0;31mTypeError\u001b[0m: 'str' object does not support item assignment"
          ]
        }
      ]
    },
    {
      "cell_type": "code",
      "metadata": {
        "id": "ripcrYDxek5Z",
        "colab_type": "code",
        "colab": {},
        "outputId": "b81c0bc0-5a96-4660-8513-1fbec8b29bf4"
      },
      "source": [
        "len(s)"
      ],
      "execution_count": 0,
      "outputs": [
        {
          "output_type": "execute_result",
          "data": {
            "text/plain": [
              "9"
            ]
          },
          "metadata": {
            "tags": []
          },
          "execution_count": 18
        }
      ]
    },
    {
      "cell_type": "markdown",
      "metadata": {
        "id": "94fEB5r3ek5c",
        "colab_type": "text"
      },
      "source": [
        "## Tuplas\n",
        "\n",
        "Uma tupla é uma sequência de objetos arbitrários separados por vírgulas e entre parênteses. Se a tupla contiver um único objeto, uma vírgula final será necessária; por exemplo, x = (2,). As tuplas suportam as mesmas operações que strings; eles também são imutáveis. Aqui está um exemplo onde a tupla rec contém outra tupla (6,23,68):"
      ]
    },
    {
      "cell_type": "code",
      "metadata": {
        "id": "s9IlhfyDek5c",
        "colab_type": "code",
        "colab": {},
        "outputId": "a0800d47-88c0-456d-cba0-767adfd1af89"
      },
      "source": [
        "rec = (\"de Tal\", \"Fulano\", (29,2,1970))\n",
        "sobrenome, nome, aniversario = rec\n",
        "nome"
      ],
      "execution_count": 0,
      "outputs": [
        {
          "output_type": "execute_result",
          "data": {
            "text/plain": [
              "'Fulano'"
            ]
          },
          "metadata": {
            "tags": []
          },
          "execution_count": 23
        }
      ]
    },
    {
      "cell_type": "code",
      "metadata": {
        "id": "s7yZDhCLek5g",
        "colab_type": "code",
        "colab": {},
        "outputId": "c39f04c7-8c07-48be-cd60-02b0cf8aa185"
      },
      "source": [
        "ano_aniversario = aniversario[2]\n",
        "ano_aniversario"
      ],
      "execution_count": 0,
      "outputs": [
        {
          "output_type": "execute_result",
          "data": {
            "text/plain": [
              "1970"
            ]
          },
          "metadata": {
            "tags": []
          },
          "execution_count": 24
        }
      ]
    },
    {
      "cell_type": "code",
      "metadata": {
        "id": "jauOHWTrek5i",
        "colab_type": "code",
        "colab": {},
        "outputId": "60042ce7-1ad4-4bff-fdcb-d0c70097fd03"
      },
      "source": [
        "nome_completo = rec[1] + ' ' + rec[0]\n",
        "nome_completo"
      ],
      "execution_count": 0,
      "outputs": [
        {
          "output_type": "execute_result",
          "data": {
            "text/plain": [
              "'Fulano de Tal'"
            ]
          },
          "metadata": {
            "tags": []
          },
          "execution_count": 25
        }
      ]
    },
    {
      "cell_type": "code",
      "metadata": {
        "id": "dbNiZA7wek5k",
        "colab_type": "code",
        "colab": {},
        "outputId": "72cb3281-3b1d-4f34-dcd6-b85b93326f98"
      },
      "source": [
        "rec[0:2]"
      ],
      "execution_count": 0,
      "outputs": [
        {
          "output_type": "execute_result",
          "data": {
            "text/plain": [
              "('de Tal', 'Fulano')"
            ]
          },
          "metadata": {
            "tags": []
          },
          "execution_count": 26
        }
      ]
    },
    {
      "cell_type": "markdown",
      "metadata": {
        "id": "p3RSJ3MFek5n",
        "colab_type": "text"
      },
      "source": [
        "## Listas\n",
        "\n",
        "Uma lista é semelhante a uma tupla, mas é mutável, de modo que seus elementos e comprimento podem ser alterados. Uma lista é identificada colocando-a entre colchetes. Aqui está uma amostra de operações que podem ser realizadas em listas:"
      ]
    },
    {
      "cell_type": "code",
      "metadata": {
        "id": "qylCBz3fek5o",
        "colab_type": "code",
        "colab": {},
        "outputId": "34849347-db0c-4909-f4e3-0344c0366f8e"
      },
      "source": [
        "a = [1.0, 2.0, 3.0] # criando uma lista\n",
        "a.append(4.0)\n",
        "a"
      ],
      "execution_count": 0,
      "outputs": [
        {
          "output_type": "execute_result",
          "data": {
            "text/plain": [
              "[1.0, 2.0, 3.0, 4.0]"
            ]
          },
          "metadata": {
            "tags": []
          },
          "execution_count": 27
        }
      ]
    },
    {
      "cell_type": "code",
      "metadata": {
        "id": "2E-Qa60Wek5r",
        "colab_type": "code",
        "colab": {}
      },
      "source": [
        "a.insert(0, 0.0) #Inserindo 0.0 na posição 0\n",
        "a"
      ],
      "execution_count": 0,
      "outputs": []
    },
    {
      "cell_type": "code",
      "metadata": {
        "id": "r65GIeaVek5t",
        "colab_type": "code",
        "colab": {},
        "outputId": "e68f60a3-c2df-45e6-f850-a8596af923bf"
      },
      "source": [
        "len(a)"
      ],
      "execution_count": 0,
      "outputs": [
        {
          "output_type": "execute_result",
          "data": {
            "text/plain": [
              "5"
            ]
          },
          "metadata": {
            "tags": []
          },
          "execution_count": 29
        }
      ]
    },
    {
      "cell_type": "code",
      "metadata": {
        "id": "raLCbiE4ek5v",
        "colab_type": "code",
        "colab": {},
        "outputId": "8c3f5566-4cd9-4cc6-b277-8616702e1fa3"
      },
      "source": [
        "a[2:4] = [1.0, 1.0, 1.0] #Modificando elementos específicos\n",
        "a"
      ],
      "execution_count": 0,
      "outputs": [
        {
          "output_type": "execute_result",
          "data": {
            "text/plain": [
              "[0.0, 1.0, 1.0, 1.0, 1.0, 4.0]"
            ]
          },
          "metadata": {
            "tags": []
          },
          "execution_count": 30
        }
      ]
    },
    {
      "cell_type": "markdown",
      "metadata": {
        "id": "Qe0pGK-mek5y",
        "colab_type": "text"
      },
      "source": [
        "Se `a`  é um objeto mutável, como uma lista, a declaração de atribuição `b = a` não resulta em um novo objeto `b` , mas simplesmente cria uma nova referência para `a`. Assim, quaisquer alterações feitas em `b` serão refletidas em `a`. Para criar uma cópia independente de uma lista `a`, use a instrução `c = a [:]`, conforme mostrado a seguir:"
      ]
    },
    {
      "cell_type": "code",
      "metadata": {
        "id": "TLN0A7v8ek5z",
        "colab_type": "code",
        "colab": {},
        "outputId": "3468a7a7-62ac-4332-acf4-a8f80873d9e2"
      },
      "source": [
        "a = [1.0, 2.0, 3.0]\n",
        "b = a\n",
        "b[0] = 5.0\n",
        "a"
      ],
      "execution_count": 0,
      "outputs": [
        {
          "output_type": "execute_result",
          "data": {
            "text/plain": [
              "[5.0, 2.0, 3.0]"
            ]
          },
          "metadata": {
            "tags": []
          },
          "execution_count": 31
        }
      ]
    },
    {
      "cell_type": "code",
      "metadata": {
        "id": "N_-viRL_ek51",
        "colab_type": "code",
        "colab": {},
        "outputId": "bb9562e3-ee2d-42dc-b645-b616344b1035"
      },
      "source": [
        "c = a[:]\n",
        "c[0] = 1.0\n",
        "a"
      ],
      "execution_count": 0,
      "outputs": [
        {
          "output_type": "execute_result",
          "data": {
            "text/plain": [
              "[5.0, 2.0, 3.0]"
            ]
          },
          "metadata": {
            "tags": []
          },
          "execution_count": 32
        }
      ]
    },
    {
      "cell_type": "code",
      "metadata": {
        "id": "VHllOslYek53",
        "colab_type": "code",
        "colab": {},
        "outputId": "302892f9-d6c0-4caa-a320-963a0bfb29f4"
      },
      "source": [
        "c"
      ],
      "execution_count": 0,
      "outputs": [
        {
          "output_type": "execute_result",
          "data": {
            "text/plain": [
              "[1.0, 2.0, 3.0]"
            ]
          },
          "metadata": {
            "tags": []
          },
          "execution_count": 33
        }
      ]
    },
    {
      "cell_type": "markdown",
      "metadata": {
        "id": "UOc0bCCyek57",
        "colab_type": "text"
      },
      "source": [
        "## Matrizes\n",
        "\n",
        "Matrizes podem ser representadas como listas aninhadas, com cada linha sendo um elemento da lista. Aqui está uma matriz 3 × 3 a sob a forma de uma lista:"
      ]
    },
    {
      "cell_type": "code",
      "metadata": {
        "id": "ZJI-CJhqek57",
        "colab_type": "code",
        "colab": {},
        "outputId": "db1bd23a-7165-42dc-a5f6-0dc1c542f1f1"
      },
      "source": [
        "a = [[1, 2, 3], \\\n",
        "     [4, 5, 6],\n",
        "     [7, 8, 9]]\n",
        "a[1] #segunda linha de a"
      ],
      "execution_count": 0,
      "outputs": [
        {
          "output_type": "execute_result",
          "data": {
            "text/plain": [
              "[4, 5, 6]"
            ]
          },
          "metadata": {
            "tags": []
          },
          "execution_count": 34
        }
      ]
    },
    {
      "cell_type": "code",
      "metadata": {
        "id": "wqQBOclCek5-",
        "colab_type": "code",
        "colab": {},
        "outputId": "c1ecbb93-701e-4111-d29f-f05bd7bc4345"
      },
      "source": [
        "a[1][2] # terceiro elemento da segunda linha"
      ],
      "execution_count": 0,
      "outputs": [
        {
          "output_type": "execute_result",
          "data": {
            "text/plain": [
              "6"
            ]
          },
          "metadata": {
            "tags": []
          },
          "execution_count": 35
        }
      ]
    },
    {
      "cell_type": "markdown",
      "metadata": {
        "id": "UTvUpxszek6B",
        "colab_type": "text"
      },
      "source": [
        "## Condicionais\n",
        "\n",
        "O bloco do `if`\n",
        "\n",
        "`if condicao:\n",
        "    comandos\n",
        "elif condicao2:\n",
        "    comandos2\n",
        "else:\n",
        "    comandos3`"
      ]
    },
    {
      "cell_type": "markdown",
      "metadata": {
        "id": "mP6U3hqbek6C",
        "colab_type": "text"
      },
      "source": [
        "## Funções\n",
        "\n",
        "A estrutura de um função em Python\n",
        "\n",
        "`def nome_da_funcao(param1, param2, ...):\n",
        "    comandos\n",
        "    return valores_retornados\n",
        " `"
      ]
    },
    {
      "cell_type": "markdown",
      "metadata": {
        "id": "IrF4wZu_ek6C",
        "colab_type": "text"
      },
      "source": [
        "## Funções\n",
        "\n",
        "Um parâmetro pode ser qualquer objeto Python, incluindo uma função. Os parâmetros podem receber valores padrão, caso em que o parâmetro na chamada de função é opcional. Se a instrução de retorno ou os valores de retorno forem omitidos, a função retornará o objeto nulo."
      ]
    },
    {
      "cell_type": "markdown",
      "metadata": {
        "id": "s_ncac2Oek6D",
        "colab_type": "text"
      },
      "source": [
        "A função `sinal_de_a()` determina se um número é positivo, negativo ou zero"
      ]
    },
    {
      "cell_type": "code",
      "metadata": {
        "id": "e3YyuYK5ek6E",
        "colab_type": "code",
        "colab": {}
      },
      "source": [
        "def sinal_de_a(a):\n",
        "    if a < 0.0:\n",
        "        sinal = 'negativo'\n",
        "    elif a > 0.0:\n",
        "        sinal = 'positivo'\n",
        "    else:\n",
        "        sinal = 'zero'\n",
        "    return sinal"
      ],
      "execution_count": 0,
      "outputs": []
    },
    {
      "cell_type": "code",
      "metadata": {
        "id": "loIjAX46ek6G",
        "colab_type": "code",
        "colab": {},
        "outputId": "6196e3cb-8a8d-4cf2-ff50-0e3d3811cb32"
      },
      "source": [
        "a = 1.5\n",
        "'a é ' + sinal_de_a(a)"
      ],
      "execution_count": 0,
      "outputs": [
        {
          "output_type": "execute_result",
          "data": {
            "text/plain": [
              "'a é positivo'"
            ]
          },
          "metadata": {
            "tags": []
          },
          "execution_count": 40
        }
      ]
    },
    {
      "cell_type": "markdown",
      "metadata": {
        "id": "AGq3v0U4ek6J",
        "colab_type": "text"
      },
      "source": [
        "A seguinte função calcula as duas primeiras derivadas de f (x) por diferenças finitas:"
      ]
    },
    {
      "cell_type": "code",
      "metadata": {
        "id": "WUyEwmjSek6K",
        "colab_type": "code",
        "colab": {}
      },
      "source": [
        "def derivadas(f,x,h=0.0001): # h tem um valor padrão\n",
        "    df = (f(x+h) - f(x-h))/(2.0*h)\n",
        "    ddf = (f(x+h) - 2.0*f(x)+f(x-h))/h**2\n",
        "    return df,ddf"
      ],
      "execution_count": 0,
      "outputs": []
    },
    {
      "cell_type": "markdown",
      "metadata": {
        "id": "SzZ6hyqGek6M",
        "colab_type": "text"
      },
      "source": [
        "Vamos agora usar esta função para determinar as duas derivadas do arctan (x) em x = 0.5:"
      ]
    },
    {
      "cell_type": "code",
      "metadata": {
        "id": "WmMlk6Jmek6N",
        "colab_type": "code",
        "colab": {},
        "outputId": "76ec0342-b473-40f8-ca94-34ca4fb04783"
      },
      "source": [
        "from math import atan\n",
        "\n",
        "primeira_derivada, segunda_derivada = derivadas(atan,0.5)\n",
        "\n",
        "print('Primeira derivada = ', primeira_derivada)\n",
        "print('Segunda derivada = ', segunda_derivada)"
      ],
      "execution_count": 0,
      "outputs": [
        {
          "output_type": "stream",
          "text": [
            "Primeira derivada =  0.7999999995730867\n",
            "Segunda derivada =  -0.6399999918915711\n"
          ],
          "name": "stdout"
        }
      ]
    },
    {
      "cell_type": "markdown",
      "metadata": {
        "id": "Ebyli_YBek6P",
        "colab_type": "text"
      },
      "source": [
        "## Loops\n",
        "\n",
        "### while\n",
        "\n",
        "`while condição: \n",
        "    comados\n",
        " `"
      ]
    },
    {
      "cell_type": "code",
      "metadata": {
        "id": "cY9Xt9nuek6Q",
        "colab_type": "code",
        "colab": {},
        "outputId": "8634b250-41a5-4675-e458-63bf90fd43ba"
      },
      "source": [
        "nMax = 5\n",
        "n = 1\n",
        "a = [] # Cria um lista vazia\n",
        "\n",
        "while n < nMax:\n",
        "    a.append(1.0/n)\n",
        "    n = n + 1\n",
        "    \n",
        "a"
      ],
      "execution_count": 0,
      "outputs": [
        {
          "output_type": "execute_result",
          "data": {
            "text/plain": [
              "[1.0, 0.5, 0.3333333333333333, 0.25]"
            ]
          },
          "metadata": {
            "tags": []
          },
          "execution_count": 46
        }
      ]
    },
    {
      "cell_type": "markdown",
      "metadata": {
        "id": "HBV7uf8Zek6T",
        "colab_type": "text"
      },
      "source": [
        "### For\n",
        "\n",
        "`for elemento in sequencia:\n",
        "    comandos `"
      ]
    },
    {
      "cell_type": "code",
      "metadata": {
        "id": "RuoWxOEyek6T",
        "colab_type": "code",
        "colab": {},
        "outputId": "0d4443ce-66f6-4fa6-ac6f-395d5288c6d2"
      },
      "source": [
        "nMax = 5\n",
        "a = []\n",
        "\n",
        "for n in range(1,nMax):\n",
        "    a. append(1.0/n)\n",
        "a"
      ],
      "execution_count": 0,
      "outputs": [
        {
          "output_type": "execute_result",
          "data": {
            "text/plain": [
              "[1.0, 0.5, 0.3333333333333333, 0.25]"
            ]
          },
          "metadata": {
            "tags": []
          },
          "execution_count": 47
        }
      ]
    },
    {
      "cell_type": "markdown",
      "metadata": {
        "id": "v9KMCCTXek6W",
        "colab_type": "text"
      },
      "source": [
        "Aqui `n` é o elemento, e o objeto range `[1, 2,. . . , nMax - 1]` (criado ao chamar a função `range`) é a sequência."
      ]
    },
    {
      "cell_type": "markdown",
      "metadata": {
        "id": "CRI8RQs1ek6W",
        "colab_type": "text"
      },
      "source": [
        "Qualquer loop pode ser terminado pelo `break`. Se houver um `else` associado ao loop, ele não será executado.\n"
      ]
    },
    {
      "cell_type": "markdown",
      "metadata": {
        "id": "O9mukQ04ek6X",
        "colab_type": "text"
      },
      "source": [
        "# `else` no loop ? WTF!"
      ]
    },
    {
      "cell_type": "markdown",
      "metadata": {
        "id": "znzzkoQXek6Y",
        "colab_type": "text"
      },
      "source": [
        "O programa a seguir, que procura por um nome em uma lista, ilustra o uso de break e em conjunto com um loop for:"
      ]
    },
    {
      "cell_type": "code",
      "metadata": {
        "id": "UMh6lJUfek6Z",
        "colab_type": "code",
        "colab": {},
        "outputId": "cf3f400b-342d-487b-9737-1906fab4b96f"
      },
      "source": [
        "lista = ['José', 'Fulano', 'Tonho', 'Davi']\n",
        "\n",
        "nome = input('Digite um nome: ')  #Entrada de dados em Python\n",
        "\n",
        "for i in range(len(lista)):\n",
        "    if lista[i] == nome:\n",
        "        print(nome, 'é o número ', i+1, ' na lista')\n",
        "        break\n",
        "else:\n",
        "    print(nome, ' não está na lista')"
      ],
      "execution_count": 0,
      "outputs": [
        {
          "output_type": "stream",
          "text": [
            "Digite um nome: José\n",
            "José é o número  1  na lista\n"
          ],
          "name": "stdout"
        }
      ]
    },
    {
      "cell_type": "markdown",
      "metadata": {
        "id": "mAVzvMEOek6b",
        "colab_type": "text"
      },
      "source": [
        "## Lendo dados\n",
        "\n",
        "A função para ler dados dos usuário em Python é:\n",
        "\n",
        "`input(mensagem)`"
      ]
    },
    {
      "cell_type": "markdown",
      "metadata": {
        "id": "Wf4dns8mek6b",
        "colab_type": "text"
      },
      "source": [
        "Ele exibe a mensagem e, em seguida, lê uma linha de entrada convertida em uma `string`. Para converter a `string` em um valor numérico, use a função: \n",
        "\n",
        "`eval(string)`"
      ]
    },
    {
      "cell_type": "markdown",
      "metadata": {
        "id": "lwLRKFtIek6c",
        "colab_type": "text"
      },
      "source": [
        "O programa a seguir ilustra o uso das funções `input` e `eval`"
      ]
    },
    {
      "cell_type": "code",
      "metadata": {
        "id": "ALQ0xJ_7ek6d",
        "colab_type": "code",
        "colab": {},
        "outputId": "cd3d497d-97d2-426d-9b8d-192fb3247820"
      },
      "source": [
        "a = input('Digite um valor: ')\n",
        "\n",
        "print(a, type(a)) #mostra a e o seu tipo\n",
        "\n",
        "b = eval(a)\n",
        "\n",
        "print(b, type(b)) #mostra b e o seu tipo"
      ],
      "execution_count": 0,
      "outputs": [
        {
          "output_type": "stream",
          "text": [
            "Digite um valor: 2.0\n",
            "2.0 <class 'str'>\n",
            "2.0 <class 'float'>\n"
          ],
          "name": "stdout"
        }
      ]
    },
    {
      "cell_type": "markdown",
      "metadata": {
        "id": "YRxIAlDVek6f",
        "colab_type": "text"
      },
      "source": [
        "## Impressão de dados\n",
        "\n",
        "Em um _python notebook_ se a última linha de uma célula for uma variável ele por padrão irá mostrar o valor da variável"
      ]
    },
    {
      "cell_type": "code",
      "metadata": {
        "id": "gMVp8Xtcek6f",
        "colab_type": "code",
        "colab": {},
        "outputId": "612c7e72-6e9e-4b7d-8f03-1a04d8e924f6"
      },
      "source": [
        "a = 3**8\n",
        "a"
      ],
      "execution_count": 0,
      "outputs": [
        {
          "output_type": "execute_result",
          "data": {
            "text/plain": [
              "6561"
            ]
          },
          "metadata": {
            "tags": []
          },
          "execution_count": 61
        }
      ]
    },
    {
      "cell_type": "markdown",
      "metadata": {
        "id": "amjcmimVek6i",
        "colab_type": "text"
      },
      "source": [
        "mas você pode usar o comando `print()` para mostrar valores ao longo do processamento da célula"
      ]
    },
    {
      "cell_type": "code",
      "metadata": {
        "id": "2l5dF8INek6j",
        "colab_type": "code",
        "colab": {},
        "outputId": "7afb804a-abce-4765-e981-ebb338108e9b"
      },
      "source": [
        "a = 3**8\n",
        "print(a)\n",
        "b = [1, 2 ,3 ,4]\n",
        "print(b)"
      ],
      "execution_count": 0,
      "outputs": [
        {
          "output_type": "stream",
          "text": [
            "6561\n",
            "[1, 2, 3, 4]\n"
          ],
          "name": "stdout"
        }
      ]
    },
    {
      "cell_type": "markdown",
      "metadata": {
        "id": "eBQfQ1Qeek6k",
        "colab_type": "text"
      },
      "source": [
        "Você pode usar o `print()` para _formatar_ os valores:"
      ]
    },
    {
      "cell_type": "code",
      "metadata": {
        "id": "GHrcbLjuek6l",
        "colab_type": "code",
        "colab": {}
      },
      "source": [
        "a = 1234.56789\n",
        "b = 9876"
      ],
      "execution_count": 0,
      "outputs": []
    },
    {
      "cell_type": "markdown",
      "metadata": {
        "id": "xFv-r2Gcek6p",
        "colab_type": "raw"
      },
      "source": [
        "mostrando um valor float com 7 dígitos e 2 casas decimais"
      ]
    },
    {
      "cell_type": "code",
      "metadata": {
        "id": "uDTu2vmZek6p",
        "colab_type": "code",
        "colab": {},
        "outputId": "1623e977-ae2c-4ef7-8b63-134c925ef549"
      },
      "source": [
        "print('{:7.2f}'.format(a))"
      ],
      "execution_count": 0,
      "outputs": [
        {
          "output_type": "stream",
          "text": [
            "1234.57\n"
          ],
          "name": "stdout"
        }
      ]
    },
    {
      "cell_type": "markdown",
      "metadata": {
        "id": "pf1Mejz6ek6s",
        "colab_type": "text"
      },
      "source": [
        "um valor inteiro com 6 dígitos (completa com espaços)"
      ]
    },
    {
      "cell_type": "code",
      "metadata": {
        "id": "TBriQqRWek6t",
        "colab_type": "code",
        "colab": {},
        "outputId": "12732754-0d66-4714-c25d-d0ff068f49c6"
      },
      "source": [
        "print('b = {:6d}'.format(b))"
      ],
      "execution_count": 0,
      "outputs": [
        {
          "output_type": "stream",
          "text": [
            "b =   9876\n"
          ],
          "name": "stdout"
        }
      ]
    },
    {
      "cell_type": "markdown",
      "metadata": {
        "id": "DsjmZx5Dek6w",
        "colab_type": "text"
      },
      "source": [
        "um valor inteiro com 6 dígitos (completa com zeros)"
      ]
    },
    {
      "cell_type": "code",
      "metadata": {
        "id": "rwpmPBiaek6w",
        "colab_type": "code",
        "colab": {},
        "outputId": "e4ae291e-ffb0-45ff-e3bf-3c3a956f72df"
      },
      "source": [
        "print('b = {:06d}'.format(b))"
      ],
      "execution_count": 0,
      "outputs": [
        {
          "output_type": "stream",
          "text": [
            "b = 009876\n"
          ],
          "name": "stdout"
        }
      ]
    },
    {
      "cell_type": "markdown",
      "metadata": {
        "id": "3xYImRImek6y",
        "colab_type": "text"
      },
      "source": [
        "mostrando um `float` em notação científica"
      ]
    },
    {
      "cell_type": "code",
      "metadata": {
        "id": "7VOV0ETQek6z",
        "colab_type": "code",
        "colab": {},
        "outputId": "e3af5ed6-a7b7-47b1-cb7b-e62947d6df56"
      },
      "source": [
        "print('a = {:12.4e} \\nb = {:06d}'.format(a,b))"
      ],
      "execution_count": 0,
      "outputs": [
        {
          "output_type": "stream",
          "text": [
            "a =   1.2346e+03 \n",
            "b = 009876\n"
          ],
          "name": "stdout"
        }
      ]
    },
    {
      "cell_type": "markdown",
      "metadata": {
        "id": "FsaAKGT0ek61",
        "colab_type": "text"
      },
      "source": [
        "# That's all folks!\n",
        "\n",
        "## resolva a 1ª lista!"
      ]
    }
  ]
}