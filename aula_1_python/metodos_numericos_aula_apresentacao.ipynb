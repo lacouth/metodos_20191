{
 "cells": [
  {
   "cell_type": "markdown",
   "metadata": {
    "slideshow": {
     "slide_type": "slide"
    }
   },
   "source": [
    "# Métodos Numéricos 2019.1\n",
    "## Patric Lacouth\n",
    "### lacouth@gmail.com"
   ]
  },
  {
   "cell_type": "markdown",
   "metadata": {
    "slideshow": {
     "slide_type": "slide"
    }
   },
   "source": [
    "# Cálculo numérico ?\n",
    "* Definição:\n",
    "\n",
    "    \" é uma metodologia para resolver problemas matemáticos por intermédio de um computador \""
   ]
  },
  {
   "cell_type": "markdown",
   "metadata": {
    "slideshow": {
     "slide_type": "subslide"
    }
   },
   "source": [
    "* Durante a carreira profissional, teremos a oportunidade de usar softwares disponíveis no mercado (pacotes “prontos”);\n",
    "\n",
    "* O uso inteligente desses programas depende do conhecimento da teoria básica fundamental dos métodos;\n",
    "\n",
    "* Muitos problemas não podem ser solucionado utilizando pacotes “prontos” de software."
   ]
  },
  {
   "cell_type": "markdown",
   "metadata": {
    "slideshow": {
     "slide_type": "subslide"
    }
   },
   "source": [
    "# Conteúdos\n",
    "\n",
    "0. Python \n",
    "1. Erros\n",
    "2. Raízes de funções\n",
    "3. Sistemas lineares\n",
    "4. Interpolação\n",
    "5. Integração\n",
    "6. Equações diferenciais\n",
    "7. Ajuste de curvas\n"
   ]
  },
  {
   "cell_type": "markdown",
   "metadata": {
    "slideshow": {
     "slide_type": "subslide"
    }
   },
   "source": [
    "# Bibliografia\n",
    "\n",
    "* Métodos Numéricos Aplicados com MATLAB® para Engenheiros e Cientistas\n",
    "    * Steven C. Chapra;\n",
    "    \n",
    "* Métodos Numéricos Para Engenharia\n",
    "    * Steven C. Chapra;\n",
    "    \n",
    "* Cálculo Numérico - Com Aplicações - FORTRAN\n",
    "    * Leônidas Barroso\n",
    "    \n",
    "* Numerical Methods in Engineering with Python 3\n",
    "    * Jaan Kiusalaas\n"
   ]
  },
  {
   "cell_type": "markdown",
   "metadata": {
    "slideshow": {
     "slide_type": "slide"
    }
   },
   "source": [
    "# Python 3\n",
    "\n",
    "* Simples\n",
    "* Gratuito\n",
    "* Mais dinâmica\n",
    "* Data Science + Deep Learning\n"
   ]
  },
  {
   "cell_type": "markdown",
   "metadata": {
    "slideshow": {
     "slide_type": "subslide"
    }
   },
   "source": [
    "# Python 3\n",
    "\n",
    "![](https://cdn-images-1.medium.com/max/1600/1*RJXyvc4Ce7GijI9jM_sK7g.png)\n",
    "\n",
    "Python > matlab"
   ]
  },
  {
   "cell_type": "markdown",
   "metadata": {
    "slideshow": {
     "slide_type": "subslide"
    }
   },
   "source": [
    "# Python 3\n",
    "\n",
    "* On-line:\n",
    "    * https://colab.research.google.com/\n",
    "* Off-line:\n",
    "    * https://conda.io"
   ]
  },
  {
   "cell_type": "markdown",
   "metadata": {
    "slideshow": {
     "slide_type": "slide"
    }
   },
   "source": [
    "# Python Básico\n",
    "\n",
    "## Variáveis numéricas\n",
    "* Inteiros\n",
    "* Ponto flutuantes\n",
    "* Dinâmicas"
   ]
  },
  {
   "cell_type": "code",
   "execution_count": 1,
   "metadata": {},
   "outputs": [
    {
     "data": {
      "text/plain": [
       "5"
      ]
     },
     "execution_count": 1,
     "metadata": {},
     "output_type": "execute_result"
    }
   ],
   "source": [
    "b = 5\n",
    "b"
   ]
  },
  {
   "cell_type": "code",
   "execution_count": 4,
   "metadata": {},
   "outputs": [
    {
     "data": {
      "text/plain": [
       "11.0"
      ]
     },
     "execution_count": 4,
     "metadata": {},
     "output_type": "execute_result"
    }
   ],
   "source": [
    "b = b * 2.0\n",
    "b"
   ]
  },
  {
   "cell_type": "markdown",
   "metadata": {
    "slideshow": {
     "slide_type": "subslide"
    }
   },
   "source": [
    "## Strings\n",
    "\n",
    "Uma string é uma sequência de caracteres entre aspas simples ou duplas. As strings são concatenadas com o operador mais (+), enquanto o slicing (:) é usado para extrair uma parte da string. Exemplos:"
   ]
  },
  {
   "cell_type": "code",
   "execution_count": 13,
   "metadata": {},
   "outputs": [
    {
     "data": {
      "text/plain": [
       "'Oi mundo cruel!'"
      ]
     },
     "execution_count": 13,
     "metadata": {},
     "output_type": "execute_result"
    }
   ],
   "source": [
    "string1 = \"Oi \"\n",
    "string2 = \"mundo cruel!\"\n",
    "string1+string2"
   ]
  },
  {
   "cell_type": "code",
   "execution_count": 15,
   "metadata": {},
   "outputs": [
    {
     "data": {
      "text/plain": [
       "'cruel'"
      ]
     },
     "execution_count": 15,
     "metadata": {},
     "output_type": "execute_result"
    }
   ],
   "source": [
    "string2[6:11]"
   ]
  },
  {
   "cell_type": "markdown",
   "metadata": {
    "slideshow": {
     "slide_type": "subslide"
    }
   },
   "source": [
    "Uma string pode ser dividida em suas partes componentes usando o comando split. Os componentes aparecem como elementos em uma lista. Por exemplo,"
   ]
  },
  {
   "cell_type": "code",
   "execution_count": 16,
   "metadata": {},
   "outputs": [
    {
     "data": {
      "text/plain": [
       "['8', '8', '83']"
      ]
     },
     "execution_count": 16,
     "metadata": {},
     "output_type": "execute_result"
    }
   ],
   "source": [
    "s = \"8 8 83\"\n",
    "s.split()"
   ]
  },
  {
   "cell_type": "markdown",
   "metadata": {
    "slideshow": {
     "slide_type": "subslide"
    }
   },
   "source": [
    "Uma string é um objeto imutável - seus caracteres individuais não podem ser modificados com uma instrução de atribuição e ela tem um tamanho fixo."
   ]
  },
  {
   "cell_type": "code",
   "execution_count": 3,
   "metadata": {},
   "outputs": [
    {
     "ename": "TypeError",
     "evalue": "'str' object does not support item assignment",
     "output_type": "error",
     "traceback": [
      "\u001b[0;31m---------------------------------------------------------------------------\u001b[0m",
      "\u001b[0;31mTypeError\u001b[0m                                 Traceback (most recent call last)",
      "\u001b[0;32m<ipython-input-3-40388cc099ad>\u001b[0m in \u001b[0;36m<module>\u001b[0;34m\u001b[0m\n\u001b[1;32m      1\u001b[0m \u001b[0ms\u001b[0m \u001b[0;34m=\u001b[0m \u001b[0;34m\"oi mundo!\"\u001b[0m\u001b[0;34m\u001b[0m\u001b[0m\n\u001b[0;32m----> 2\u001b[0;31m \u001b[0ms\u001b[0m\u001b[0;34m[\u001b[0m\u001b[0;36m0\u001b[0m\u001b[0;34m]\u001b[0m \u001b[0;34m=\u001b[0m \u001b[0;34m'O'\u001b[0m\u001b[0;34m\u001b[0m\u001b[0m\n\u001b[0m",
      "\u001b[0;31mTypeError\u001b[0m: 'str' object does not support item assignment"
     ]
    }
   ],
   "source": [
    "s = \"oi mundo!\"\n",
    "s[0] = 'O'"
   ]
  },
  {
   "cell_type": "code",
   "execution_count": 18,
   "metadata": {},
   "outputs": [
    {
     "data": {
      "text/plain": [
       "9"
      ]
     },
     "execution_count": 18,
     "metadata": {},
     "output_type": "execute_result"
    }
   ],
   "source": [
    "len(s)"
   ]
  },
  {
   "cell_type": "markdown",
   "metadata": {
    "slideshow": {
     "slide_type": "subslide"
    }
   },
   "source": [
    "## Tuplas\n",
    "\n",
    "Uma tupla é uma sequência de objetos arbitrários separados por vírgulas e entre parênteses. Se a tupla contiver um único objeto, uma vírgula final será necessária; por exemplo, x = (2,). As tuplas suportam as mesmas operações que strings; eles também são imutáveis. Aqui está um exemplo onde a tupla rec contém outra tupla (6,23,68):"
   ]
  },
  {
   "cell_type": "code",
   "execution_count": 23,
   "metadata": {},
   "outputs": [
    {
     "data": {
      "text/plain": [
       "'Fulano'"
      ]
     },
     "execution_count": 23,
     "metadata": {},
     "output_type": "execute_result"
    }
   ],
   "source": [
    "rec = (\"de Tal\", \"Fulano\", (29,2,1970))\n",
    "sobrenome, nome, aniversario = rec\n",
    "nome"
   ]
  },
  {
   "cell_type": "code",
   "execution_count": 24,
   "metadata": {},
   "outputs": [
    {
     "data": {
      "text/plain": [
       "1970"
      ]
     },
     "execution_count": 24,
     "metadata": {},
     "output_type": "execute_result"
    }
   ],
   "source": [
    "ano_aniversario = aniversario[2]\n",
    "ano_aniversario"
   ]
  },
  {
   "cell_type": "code",
   "execution_count": 25,
   "metadata": {
    "slideshow": {
     "slide_type": "subslide"
    }
   },
   "outputs": [
    {
     "data": {
      "text/plain": [
       "'Fulano de Tal'"
      ]
     },
     "execution_count": 25,
     "metadata": {},
     "output_type": "execute_result"
    }
   ],
   "source": [
    "nome_completo = rec[1] + ' ' + rec[0]\n",
    "nome_completo"
   ]
  },
  {
   "cell_type": "code",
   "execution_count": 26,
   "metadata": {},
   "outputs": [
    {
     "data": {
      "text/plain": [
       "('de Tal', 'Fulano')"
      ]
     },
     "execution_count": 26,
     "metadata": {},
     "output_type": "execute_result"
    }
   ],
   "source": [
    "rec[0:2]"
   ]
  },
  {
   "cell_type": "markdown",
   "metadata": {
    "slideshow": {
     "slide_type": "subslide"
    }
   },
   "source": [
    "## Listas\n",
    "\n",
    "Uma lista é semelhante a uma tupla, mas é mutável, de modo que seus elementos e comprimento podem ser alterados. Uma lista é identificada colocando-a entre colchetes. Aqui está uma amostra de operações que podem ser realizadas em listas:"
   ]
  },
  {
   "cell_type": "code",
   "execution_count": 27,
   "metadata": {},
   "outputs": [
    {
     "data": {
      "text/plain": [
       "[1.0, 2.0, 3.0, 4.0]"
      ]
     },
     "execution_count": 27,
     "metadata": {},
     "output_type": "execute_result"
    }
   ],
   "source": [
    "a = [1.0, 2.0, 3.0] # criando uma lista\n",
    "a.append(4.0)\n",
    "a"
   ]
  },
  {
   "cell_type": "code",
   "execution_count": 28,
   "metadata": {},
   "outputs": [],
   "source": [
    "a.insert(0, 0.0) #Inserindo 0.0 na posição 0\n",
    "a"
   ]
  },
  {
   "cell_type": "code",
   "execution_count": 29,
   "metadata": {},
   "outputs": [
    {
     "data": {
      "text/plain": [
       "5"
      ]
     },
     "execution_count": 29,
     "metadata": {},
     "output_type": "execute_result"
    }
   ],
   "source": [
    "len(a)"
   ]
  },
  {
   "cell_type": "code",
   "execution_count": 30,
   "metadata": {},
   "outputs": [
    {
     "data": {
      "text/plain": [
       "[0.0, 1.0, 1.0, 1.0, 1.0, 4.0]"
      ]
     },
     "execution_count": 30,
     "metadata": {},
     "output_type": "execute_result"
    }
   ],
   "source": [
    "a[2:4] = [1.0, 1.0, 1.0] #Modificando elementos específicos\n",
    "a"
   ]
  },
  {
   "cell_type": "markdown",
   "metadata": {
    "slideshow": {
     "slide_type": "subslide"
    }
   },
   "source": [
    "Se `a`  é um objeto mutável, como uma lista, a declaração de atribuição `b = a` não resulta em um novo objeto `b` , mas simplesmente cria uma nova referência para `a`. Assim, quaisquer alterações feitas em `b` serão refletidas em `a`. Para criar uma cópia independente de uma lista `a`, use a instrução `c = a [:]`, conforme mostrado a seguir:"
   ]
  },
  {
   "cell_type": "code",
   "execution_count": 31,
   "metadata": {},
   "outputs": [
    {
     "data": {
      "text/plain": [
       "[5.0, 2.0, 3.0]"
      ]
     },
     "execution_count": 31,
     "metadata": {},
     "output_type": "execute_result"
    }
   ],
   "source": [
    "a = [1.0, 2.0, 3.0]\n",
    "b = a\n",
    "b[0] = 5.0\n",
    "a"
   ]
  },
  {
   "cell_type": "code",
   "execution_count": 32,
   "metadata": {},
   "outputs": [
    {
     "data": {
      "text/plain": [
       "[5.0, 2.0, 3.0]"
      ]
     },
     "execution_count": 32,
     "metadata": {},
     "output_type": "execute_result"
    }
   ],
   "source": [
    "c = a[:]\n",
    "c[0] = 1.0\n",
    "a"
   ]
  },
  {
   "cell_type": "code",
   "execution_count": 33,
   "metadata": {},
   "outputs": [
    {
     "data": {
      "text/plain": [
       "[1.0, 2.0, 3.0]"
      ]
     },
     "execution_count": 33,
     "metadata": {},
     "output_type": "execute_result"
    }
   ],
   "source": [
    "c"
   ]
  },
  {
   "cell_type": "markdown",
   "metadata": {
    "slideshow": {
     "slide_type": "subslide"
    }
   },
   "source": [
    "## Matrizes\n",
    "\n",
    "Matrizes podem ser representadas como listas aninhadas, com cada linha sendo um elemento da lista. Aqui está uma matriz 3 × 3 a sob a forma de uma lista:"
   ]
  },
  {
   "cell_type": "code",
   "execution_count": 34,
   "metadata": {},
   "outputs": [
    {
     "data": {
      "text/plain": [
       "[4, 5, 6]"
      ]
     },
     "execution_count": 34,
     "metadata": {},
     "output_type": "execute_result"
    }
   ],
   "source": [
    "a = [[1, 2, 3], \\\n",
    "     [4, 5, 6],\n",
    "     [7, 8, 9]]\n",
    "a[1] #segunda linha de a"
   ]
  },
  {
   "cell_type": "code",
   "execution_count": 35,
   "metadata": {},
   "outputs": [
    {
     "data": {
      "text/plain": [
       "6"
      ]
     },
     "execution_count": 35,
     "metadata": {},
     "output_type": "execute_result"
    }
   ],
   "source": [
    "a[1][2] # terceiro elemento da segunda linha"
   ]
  },
  {
   "cell_type": "markdown",
   "metadata": {
    "slideshow": {
     "slide_type": "subslide"
    }
   },
   "source": [
    "## Condicionais\n",
    "\n",
    "O bloco do `if`\n",
    "\n",
    "`if condicao:\n",
    "    comandos\n",
    "elif condicao2:\n",
    "    comandos2\n",
    "else:\n",
    "    comandos3`"
   ]
  },
  {
   "cell_type": "markdown",
   "metadata": {
    "slideshow": {
     "slide_type": "subslide"
    }
   },
   "source": [
    "## Funções\n",
    "\n",
    "A estrutura de um função em Python\n",
    "\n",
    "`def nome_da_funcao(param1, param2, ...):\n",
    "    comandos\n",
    "    return valores_retornados\n",
    " `"
   ]
  },
  {
   "cell_type": "markdown",
   "metadata": {
    "slideshow": {
     "slide_type": "subslide"
    }
   },
   "source": [
    "## Funções\n",
    "\n",
    "Um parâmetro pode ser qualquer objeto Python, incluindo uma função. Os parâmetros podem receber valores padrão, caso em que o parâmetro na chamada de função é opcional. Se a instrução de retorno ou os valores de retorno forem omitidos, a função retornará o objeto nulo."
   ]
  },
  {
   "cell_type": "markdown",
   "metadata": {
    "slideshow": {
     "slide_type": "subslide"
    }
   },
   "source": [
    "A função `sinal_de_a()` determina se um número é positivo, negativo ou zero"
   ]
  },
  {
   "cell_type": "code",
   "execution_count": 39,
   "metadata": {
    "slideshow": {
     "slide_type": "-"
    }
   },
   "outputs": [],
   "source": [
    "def sinal_de_a(a):\n",
    "    if a < 0.0:\n",
    "        sinal = 'negativo'\n",
    "    elif a > 0.0:\n",
    "        sinal = 'positivo'\n",
    "    else:\n",
    "        sinal = 'zero'\n",
    "    return sinal"
   ]
  },
  {
   "cell_type": "code",
   "execution_count": 40,
   "metadata": {
    "slideshow": {
     "slide_type": "subslide"
    }
   },
   "outputs": [
    {
     "data": {
      "text/plain": [
       "'a é positivo'"
      ]
     },
     "execution_count": 40,
     "metadata": {},
     "output_type": "execute_result"
    }
   ],
   "source": [
    "a = 1.5\n",
    "'a é ' + sinal_de_a(a)"
   ]
  },
  {
   "cell_type": "markdown",
   "metadata": {
    "slideshow": {
     "slide_type": "subslide"
    }
   },
   "source": [
    "A seguinte função calcula as duas primeiras derivadas de f (x) por diferenças finitas:"
   ]
  },
  {
   "cell_type": "code",
   "execution_count": 43,
   "metadata": {},
   "outputs": [],
   "source": [
    "def derivadas(f,x,h=0.0001): # h tem um valor padrão\n",
    "    df = (f(x+h) - f(x-h))/(2.0*h)\n",
    "    ddf = (f(x+h) - 2.0*f(x)+f(x-h))/h**2\n",
    "    return df,ddf"
   ]
  },
  {
   "cell_type": "markdown",
   "metadata": {
    "slideshow": {
     "slide_type": "subslide"
    }
   },
   "source": [
    "Vamos agora usar esta função para determinar as duas derivadas do arctan (x) em x = 0.5:"
   ]
  },
  {
   "cell_type": "code",
   "execution_count": 45,
   "metadata": {},
   "outputs": [
    {
     "name": "stdout",
     "output_type": "stream",
     "text": [
      "Primeira derivada =  0.7999999995730867\n",
      "Segunda derivada =  -0.6399999918915711\n"
     ]
    }
   ],
   "source": [
    "from math import atan\n",
    "\n",
    "primeira_derivada, segunda_derivada = derivadas(atan,0.5)\n",
    "\n",
    "print('Primeira derivada = ', primeira_derivada)\n",
    "print('Segunda derivada = ', segunda_derivada)"
   ]
  },
  {
   "cell_type": "markdown",
   "metadata": {
    "slideshow": {
     "slide_type": "subslide"
    }
   },
   "source": [
    "## Loops\n",
    "\n",
    "### while\n",
    "\n",
    "`while condição: \n",
    "    comados\n",
    " `"
   ]
  },
  {
   "cell_type": "code",
   "execution_count": 46,
   "metadata": {},
   "outputs": [
    {
     "data": {
      "text/plain": [
       "[1.0, 0.5, 0.3333333333333333, 0.25]"
      ]
     },
     "execution_count": 46,
     "metadata": {},
     "output_type": "execute_result"
    }
   ],
   "source": [
    "nMax = 5\n",
    "n = 1\n",
    "a = [] # Cria um lista vazia\n",
    "\n",
    "while n < nMax:\n",
    "    a.append(1.0/n)\n",
    "    n = n + 1\n",
    "    \n",
    "a"
   ]
  },
  {
   "cell_type": "markdown",
   "metadata": {
    "slideshow": {
     "slide_type": "subslide"
    }
   },
   "source": [
    "### For\n",
    "\n",
    "`for elemento in sequencia:\n",
    "    comandos `"
   ]
  },
  {
   "cell_type": "code",
   "execution_count": 47,
   "metadata": {},
   "outputs": [
    {
     "data": {
      "text/plain": [
       "[1.0, 0.5, 0.3333333333333333, 0.25]"
      ]
     },
     "execution_count": 47,
     "metadata": {},
     "output_type": "execute_result"
    }
   ],
   "source": [
    "nMax = 5\n",
    "a = []\n",
    "\n",
    "for n in range(1,nMax):\n",
    "    a. append(1.0/n)\n",
    "a"
   ]
  },
  {
   "cell_type": "markdown",
   "metadata": {},
   "source": [
    "Aqui `n` é o elemento, e o objeto range `[1, 2,. . . , nMax - 1]` (criado ao chamar a função `range`) é a sequência."
   ]
  },
  {
   "cell_type": "markdown",
   "metadata": {
    "slideshow": {
     "slide_type": "subslide"
    }
   },
   "source": [
    "Qualquer loop pode ser terminado pelo `break`. Se houver um `else` associado ao loop, ele não será executado.\n"
   ]
  },
  {
   "cell_type": "markdown",
   "metadata": {},
   "source": [
    "# `else` no loop ? WTF!"
   ]
  },
  {
   "cell_type": "markdown",
   "metadata": {
    "slideshow": {
     "slide_type": "subslide"
    }
   },
   "source": [
    "O programa a seguir, que procura por um nome em uma lista, ilustra o uso de break e em conjunto com um loop for:"
   ]
  },
  {
   "cell_type": "code",
   "execution_count": 51,
   "metadata": {},
   "outputs": [
    {
     "name": "stdout",
     "output_type": "stream",
     "text": [
      "Digite um nome: José\n",
      "José é o número  1  na lista\n"
     ]
    }
   ],
   "source": [
    "lista = ['José', 'Fulano', 'Tonho', 'Davi']\n",
    "\n",
    "nome = input('Digite um nome: ')  #Entrada de dados em Python\n",
    "\n",
    "for i in range(len(lista)):\n",
    "    if lista[i] == nome:\n",
    "        print(nome, 'é o número ', i+1, ' na lista')\n",
    "        break\n",
    "else:\n",
    "    print(nome, ' não está na lista')"
   ]
  },
  {
   "cell_type": "markdown",
   "metadata": {
    "slideshow": {
     "slide_type": "subslide"
    }
   },
   "source": [
    "## Lendo dados\n",
    "\n",
    "A função para ler dados dos usuário em Python é:\n",
    "\n",
    "`input(mensagem)`"
   ]
  },
  {
   "cell_type": "markdown",
   "metadata": {},
   "source": [
    "Ele exibe a mensagem e, em seguida, lê uma linha de entrada convertida em uma `string`. Para converter a `string` em um valor numérico, use a função: \n",
    "\n",
    "`eval(string)`"
   ]
  },
  {
   "cell_type": "markdown",
   "metadata": {
    "slideshow": {
     "slide_type": "subslide"
    }
   },
   "source": [
    "O programa a seguir ilustra o uso das funções `input` e `eval`"
   ]
  },
  {
   "cell_type": "code",
   "execution_count": 60,
   "metadata": {},
   "outputs": [
    {
     "name": "stdout",
     "output_type": "stream",
     "text": [
      "Digite um valor: 2.0\n",
      "2.0 <class 'str'>\n",
      "2.0 <class 'float'>\n"
     ]
    }
   ],
   "source": [
    "a = input('Digite um valor: ')\n",
    "\n",
    "print(a, type(a)) #mostra a e o seu tipo\n",
    "\n",
    "b = eval(a)\n",
    "\n",
    "print(b, type(b)) #mostra b e o seu tipo"
   ]
  },
  {
   "cell_type": "markdown",
   "metadata": {
    "slideshow": {
     "slide_type": "subslide"
    }
   },
   "source": [
    "## Impressão de dados\n",
    "\n",
    "Em um _python notebook_ se a última linha de uma célula for uma variável ele por padrão irá mostrar o valor da variável"
   ]
  },
  {
   "cell_type": "code",
   "execution_count": 61,
   "metadata": {},
   "outputs": [
    {
     "data": {
      "text/plain": [
       "6561"
      ]
     },
     "execution_count": 61,
     "metadata": {},
     "output_type": "execute_result"
    }
   ],
   "source": [
    "a = 3**8\n",
    "a"
   ]
  },
  {
   "cell_type": "markdown",
   "metadata": {},
   "source": [
    "mas você pode usar o comando `print()` para mostrar valores ao longo do processamento da célula"
   ]
  },
  {
   "cell_type": "code",
   "execution_count": 62,
   "metadata": {},
   "outputs": [
    {
     "name": "stdout",
     "output_type": "stream",
     "text": [
      "6561\n",
      "[1, 2, 3, 4]\n"
     ]
    }
   ],
   "source": [
    "a = 3**8\n",
    "print(a)\n",
    "b = [1, 2 ,3 ,4]\n",
    "print(b)"
   ]
  },
  {
   "cell_type": "markdown",
   "metadata": {
    "slideshow": {
     "slide_type": "subslide"
    }
   },
   "source": [
    "Você pode usar o `print()` para _formatar_ os valores:"
   ]
  },
  {
   "cell_type": "code",
   "execution_count": 69,
   "metadata": {},
   "outputs": [],
   "source": [
    "a = 1234.56789\n",
    "b = 9876"
   ]
  },
  {
   "cell_type": "raw",
   "metadata": {},
   "source": [
    "mostrando um valor float com 7 dígitos e 2 casas decimais"
   ]
  },
  {
   "cell_type": "code",
   "execution_count": 70,
   "metadata": {},
   "outputs": [
    {
     "name": "stdout",
     "output_type": "stream",
     "text": [
      "1234.57\n"
     ]
    }
   ],
   "source": [
    "print('{:7.2f}'.format(a))"
   ]
  },
  {
   "cell_type": "markdown",
   "metadata": {
    "slideshow": {
     "slide_type": "subslide"
    }
   },
   "source": [
    "um valor inteiro com 6 dígitos (completa com espaços)"
   ]
  },
  {
   "cell_type": "code",
   "execution_count": 71,
   "metadata": {},
   "outputs": [
    {
     "name": "stdout",
     "output_type": "stream",
     "text": [
      "b =   9876\n"
     ]
    }
   ],
   "source": [
    "print('b = {:6d}'.format(b))"
   ]
  },
  {
   "cell_type": "markdown",
   "metadata": {},
   "source": [
    "um valor inteiro com 6 dígitos (completa com zeros)"
   ]
  },
  {
   "cell_type": "code",
   "execution_count": 72,
   "metadata": {},
   "outputs": [
    {
     "name": "stdout",
     "output_type": "stream",
     "text": [
      "b = 009876\n"
     ]
    }
   ],
   "source": [
    "print('b = {:06d}'.format(b))"
   ]
  },
  {
   "cell_type": "markdown",
   "metadata": {
    "slideshow": {
     "slide_type": "subslide"
    }
   },
   "source": [
    "mostrando um `float` em notação científica"
   ]
  },
  {
   "cell_type": "code",
   "execution_count": 73,
   "metadata": {},
   "outputs": [
    {
     "name": "stdout",
     "output_type": "stream",
     "text": [
      "a =   1.2346e+03 \n",
      "b = 009876\n"
     ]
    }
   ],
   "source": [
    "print('a = {:12.4e} \\nb = {:06d}'.format(a,b))"
   ]
  },
  {
   "cell_type": "markdown",
   "metadata": {
    "slideshow": {
     "slide_type": "slide"
    }
   },
   "source": [
    "# That's all folks!\n",
    "\n",
    "## resolva a 1ª lista!"
   ]
  }
 ],
 "metadata": {
  "celltoolbar": "Slideshow",
  "kernelspec": {
   "display_name": "Python 3",
   "language": "python",
   "name": "python3"
  },
  "language_info": {
   "codemirror_mode": {
    "name": "ipython",
    "version": 3
   },
   "file_extension": ".py",
   "mimetype": "text/x-python",
   "name": "python",
   "nbconvert_exporter": "python",
   "pygments_lexer": "ipython3",
   "version": "3.7.2"
  }
 },
 "nbformat": 4,
 "nbformat_minor": 2
}
