{
 "cells": [
  {
   "cell_type": "markdown",
   "metadata": {},
   "source": [
    "# Exercícios de revisão\n",
    "\n",
    "## Os próximos exercícios tem como objetivo familiarizar você a programar utilizando python e o Jupyter Notebook"
   ]
  },
  {
   "cell_type": "markdown",
   "metadata": {},
   "source": [
    "## 1. Na célula abaixo crie as seguintes variáveis:\n",
    "    a. Uma variável inteira chamada `nota` com valor 5;\n",
    "    b. Uma variável real chamada `media` com valor 5;\n",
    "    c. Uma variável texto chamada `resultado` com valor 5;"
   ]
  },
  {
   "cell_type": "code",
   "execution_count": null,
   "metadata": {},
   "outputs": [],
   "source": []
  },
  {
   "cell_type": "markdown",
   "metadata": {},
   "source": [
    "### Não mude nada na célula abaixo apenas execute-a, ela serve para testar as suas respostas"
   ]
  },
  {
   "cell_type": "code",
   "execution_count": null,
   "metadata": {},
   "outputs": [],
   "source": [
    "def teste_variaveis():\n",
    "    assert type(nota) is int, \"nota não é um inteiro\"\n",
    "    assert type(media) is float, \"media não é um valor real\"\n",
    "    assert type(resultado) is str, \"resultado não é um texto\"\n",
    "\n",
    "try:\n",
    "    teste_variaveis()\n",
    "    print(\"Deu tudo certo, pode continuar...\")\n",
    "except AssertionError as error:\n",
    "    print(error)"
   ]
  },
  {
   "cell_type": "markdown",
   "metadata": {},
   "source": [
    "## 2.  Crie uma função chamada multiplicar() que recebe dois valores e retorna o resultado do produto entre os dois caso os dois sejam positivos e 0 caso contrário."
   ]
  },
  {
   "cell_type": "code",
   "execution_count": null,
   "metadata": {},
   "outputs": [],
   "source": []
  },
  {
   "cell_type": "markdown",
   "metadata": {},
   "source": [
    "### Célula de teste"
   ]
  },
  {
   "cell_type": "code",
   "execution_count": null,
   "metadata": {},
   "outputs": [],
   "source": [
    "def teste_multiplicar():\n",
    "    assert multiplicar(2,2) == 4, 'não foi possível multiplicar valores positivos'\n",
    "    assert multiplicar(-1,2) == 0, 'não foi possível multiplicar quando o 1º é negativo'\n",
    "    assert multiplicar(2,-1) == 0, 'não foi possível multiplicar quando o 2º valor é negativo'\n",
    "    assert multiplicar(-1,-1) == 0, 'não foi possível multiplicar quando os dois valores são negativos'\n",
    "    \n",
    "try:\n",
    "    teste_multiplicar()\n",
    "    print(\"Deu tudo certo, pode continuar ...\")\n",
    "except AssertionError as error:\n",
    "    print(error)"
   ]
  },
  {
   "cell_type": "markdown",
   "metadata": {},
   "source": [
    "## 3. Crie uma lista chamada notas com 5 valores reais e uma função media() que calcula a média das notas"
   ]
  },
  {
   "cell_type": "code",
   "execution_count": null,
   "metadata": {},
   "outputs": [],
   "source": []
  },
  {
   "cell_type": "markdown",
   "metadata": {},
   "source": [
    "### Célula de teste"
   ]
  },
  {
   "cell_type": "code",
   "execution_count": null,
   "metadata": {},
   "outputs": [],
   "source": [
    "def teste_media():\n",
    "    assert len(notas) == 5, 'notas não contém 5 valores'\n",
    "    assert media([1,1,1,1,1]) == 1, 'a função não calcula a média corretamente'\n",
    "    \n",
    "try:\n",
    "    teste_media()\n",
    "    print(\"Deu tudo certo, pode continuar ...\")\n",
    "except AssertionError as error:\n",
    "    print(error)"
   ]
  },
  {
   "cell_type": "markdown",
   "metadata": {},
   "source": [
    "## 4. Crie uma lista chamada nomes com 3 nomes diferentes e uma função maior_nome() que recebe uma lista de nomes e retorna o maior nome"
   ]
  },
  {
   "cell_type": "code",
   "execution_count": null,
   "metadata": {},
   "outputs": [],
   "source": [
    "\n",
    "        "
   ]
  },
  {
   "cell_type": "markdown",
   "metadata": {},
   "source": [
    "### Célula de teste"
   ]
  },
  {
   "cell_type": "code",
   "execution_count": null,
   "metadata": {},
   "outputs": [],
   "source": [
    "def teste_maior():\n",
    "    assert len(nomes) == 3\n",
    "    assert maior_nome(['a', 'aa', 'aaa']) == 'aaa', 'a função não retorna o maior nome'\n",
    "\n",
    "try:\n",
    "    teste_maior()\n",
    "    print(\"Deu tudo certo, pode continuar ...\")\n",
    "except AssertionError as error:\n",
    "    print(error)    \n",
    "\n",
    "    "
   ]
  },
  {
   "cell_type": "markdown",
   "metadata": {},
   "source": [
    "## 5. Crie uma matriz 3x3 chamada matriz e função somar_matriz() que retorna a soma de todos os valores da matriz"
   ]
  },
  {
   "cell_type": "code",
   "execution_count": null,
   "metadata": {},
   "outputs": [],
   "source": []
  },
  {
   "cell_type": "markdown",
   "metadata": {},
   "source": [
    "### Célula de teste"
   ]
  },
  {
   "cell_type": "code",
   "execution_count": null,
   "metadata": {},
   "outputs": [],
   "source": [
    "def teste_somar_matriz():\n",
    "    assert len(matriz) == 3, 'a matriz não tem 3 linhas'\n",
    "    \n",
    "    for  i,linha in enumerate(matriz):\n",
    "        assert len(linha) == 3, 'a {} linha não tem 3 colunas'.format(i+1)\n",
    "        \n",
    "    assert somar_matriz([[1,1,1],[1,1,1],[1,1,1]]) == 9, 'a função não soma corretamente os valores'\n",
    "\n",
    "try:\n",
    "    teste_somar_matriz()\n",
    "    print(\"Deu tudo certo, pode continuar ...\")\n",
    "except AssertionError as error:\n",
    "    print(error)"
   ]
  },
  {
   "cell_type": "markdown",
   "metadata": {},
   "source": [
    "## 6. Crie uma função trocar_linhas() que recebe uma matriz e retorna uma nova matriz com as primeira e última linhas trocadas"
   ]
  },
  {
   "cell_type": "code",
   "execution_count": null,
   "metadata": {},
   "outputs": [],
   "source": []
  },
  {
   "cell_type": "code",
   "execution_count": null,
   "metadata": {},
   "outputs": [],
   "source": [
    "def teste_trocar_linhas():\n",
    "    assert trocar_linhas([[1,1],[2,2]]) == [[2,2],[1,1]], 'a função não troca corretamente as linhas'\n",
    "    \n",
    "try:\n",
    "    teste_trocar_linhas()\n",
    "    print(\"Deu tudo certo, pode continuar ...\")\n",
    "except AssertionError as error:\n",
    "    print(error)\n",
    "    "
   ]
  },
  {
   "cell_type": "markdown",
   "metadata": {},
   "source": [
    "## 7. Crie uma função trocar_colunas() que recebe uma matriz e retorna uma nova matriz com as primeira e última colunas trocadas"
   ]
  },
  {
   "cell_type": "code",
   "execution_count": null,
   "metadata": {},
   "outputs": [],
   "source": []
  },
  {
   "cell_type": "code",
   "execution_count": null,
   "metadata": {},
   "outputs": [],
   "source": [
    "def teste_trocar_colunas():\n",
    "    assert trocar_colunas([[1,2],[1,2]]) == [[2,1],[2,1]], 'a função não troca corretamente as colunas'\n",
    "\n",
    "try:\n",
    "    teste_trocar_colunas()\n",
    "    print(\"Deu tudo certo, pode continuar ...\")\n",
    "except AssertionError as error:\n",
    "    print(error)\n"
   ]
  }
 ],
 "metadata": {
  "kernelspec": {
   "display_name": "Python 3",
   "language": "python",
   "name": "python3"
  },
  "language_info": {
   "codemirror_mode": {
    "name": "ipython",
    "version": 3
   },
   "file_extension": ".py",
   "mimetype": "text/x-python",
   "name": "python",
   "nbconvert_exporter": "python",
   "pygments_lexer": "ipython3",
   "version": "3.6.4"
  }
 },
 "nbformat": 4,
 "nbformat_minor": 2
}
