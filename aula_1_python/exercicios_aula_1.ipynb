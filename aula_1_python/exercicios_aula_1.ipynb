{
  "nbformat": 4,
  "nbformat_minor": 0,
  "metadata": {
    "kernelspec": {
      "display_name": "Python 3",
      "language": "python",
      "name": "python3"
    },
    "language_info": {
      "codemirror_mode": {
        "name": "ipython",
        "version": 3
      },
      "file_extension": ".py",
      "mimetype": "text/x-python",
      "name": "python",
      "nbconvert_exporter": "python",
      "pygments_lexer": "ipython3",
      "version": "3.7.2"
    },
    "colab": {
      "name": "exercicios_aula_1.ipynb",
      "provenance": [],
      "include_colab_link": true
    }
  },
  "cells": [
    {
      "cell_type": "markdown",
      "metadata": {
        "id": "view-in-github",
        "colab_type": "text"
      },
      "source": [
        "<a href=\"https://colab.research.google.com/github/lacouth/metodos_numericos/blob/master/aula_1_python/exercicios_aula_1.ipynb\" target=\"_parent\"><img src=\"https://colab.research.google.com/assets/colab-badge.svg\" alt=\"Open In Colab\"/></a>"
      ]
    },
    {
      "cell_type": "markdown",
      "metadata": {
        "id": "kajbBsikhewo",
        "colab_type": "text"
      },
      "source": [
        "# Exercícios de revisão\n",
        "\n",
        "## Os próximos exercícios tem como objetivo familiarizar você a programar utilizando python e o Jupyter Notebook\n",
        "\n",
        "## Salve o notebook no formato .ipynb e envie pelo formulário do google classroom"
      ]
    },
    {
      "cell_type": "markdown",
      "metadata": {
        "id": "_GtrPGaghews",
        "colab_type": "text"
      },
      "source": [
        "## 1. Na célula abaixo crie as seguintes variáveis:\n",
        "    a. Uma variável inteira chamada `nota` com valor 5;\n",
        "    b. Uma variável real chamada `media` com valor 5;\n",
        "    c. Uma variável texto chamada `resultado` com valor 5;"
      ]
    },
    {
      "cell_type": "code",
      "metadata": {
        "id": "eNrQd8JNhewu",
        "colab_type": "code",
        "colab": {}
      },
      "source": [
        ""
      ],
      "execution_count": 0,
      "outputs": []
    },
    {
      "cell_type": "markdown",
      "metadata": {
        "id": "bGP-79VFhewz",
        "colab_type": "text"
      },
      "source": [
        "### Não mude nada na célula abaixo apenas execute-a, ela serve para testar as suas respostas"
      ]
    },
    {
      "cell_type": "code",
      "metadata": {
        "id": "B7zMoz82hew0",
        "colab_type": "code",
        "colab": {}
      },
      "source": [
        "def teste_variaveis():\n",
        "    assert type(nota) is int, \"nota não é um inteiro\"\n",
        "    assert type(media) is float, \"media não é um valor real\"\n",
        "    assert type(resultado) is str, \"resultado não é um texto\"\n",
        "\n",
        "try:\n",
        "    teste_variaveis()\n",
        "    print(\"Deu tudo certo, pode continuar...\")\n",
        "except AssertionError as error:\n",
        "    print(error)"
      ],
      "execution_count": 0,
      "outputs": []
    },
    {
      "cell_type": "markdown",
      "metadata": {
        "id": "mm6pKQ7ohew3",
        "colab_type": "text"
      },
      "source": [
        "## 2.  Crie uma função chamada multiplicar() que recebe dois valores e retorna o resultado do produto entre os dois caso os dois sejam positivos e 0 caso contrário."
      ]
    },
    {
      "cell_type": "code",
      "metadata": {
        "id": "M-WwKaELhew4",
        "colab_type": "code",
        "colab": {}
      },
      "source": [
        ""
      ],
      "execution_count": 0,
      "outputs": []
    },
    {
      "cell_type": "markdown",
      "metadata": {
        "id": "8MwkC3hGhew7",
        "colab_type": "text"
      },
      "source": [
        "### Célula de teste"
      ]
    },
    {
      "cell_type": "code",
      "metadata": {
        "id": "G5v1YUYlhew8",
        "colab_type": "code",
        "colab": {}
      },
      "source": [
        "def teste_multiplicar():\n",
        "    assert multiplicar(2,2) == 4, 'não foi possível multiplicar valores positivos'\n",
        "    assert multiplicar(-1,2) == 0, 'não foi possível multiplicar quando o 1º é negativo'\n",
        "    assert multiplicar(2,-1) == 0, 'não foi possível multiplicar quando o 2º valor é negativo'\n",
        "    assert multiplicar(-1,-1) == 0, 'não foi possível multiplicar quando os dois valores são negativos'\n",
        "    \n",
        "try:\n",
        "    teste_multiplicar()\n",
        "    print(\"Deu tudo certo, pode continuar ...\")\n",
        "except AssertionError as error:\n",
        "    print(error)"
      ],
      "execution_count": 0,
      "outputs": []
    },
    {
      "cell_type": "markdown",
      "metadata": {
        "id": "UKy3560_hew_",
        "colab_type": "text"
      },
      "source": [
        "## 3. Crie uma lista chamada notas com 5 valores reais e uma função media() que calcula a média das notas"
      ]
    },
    {
      "cell_type": "code",
      "metadata": {
        "id": "b39Wdex6hexA",
        "colab_type": "code",
        "colab": {}
      },
      "source": [
        ""
      ],
      "execution_count": 0,
      "outputs": []
    },
    {
      "cell_type": "markdown",
      "metadata": {
        "id": "KTf1RNB5hexD",
        "colab_type": "text"
      },
      "source": [
        "### Célula de teste"
      ]
    },
    {
      "cell_type": "code",
      "metadata": {
        "id": "jNwWlsHzhexE",
        "colab_type": "code",
        "colab": {}
      },
      "source": [
        "def teste_media():\n",
        "    assert len(notas) == 5, 'notas não contém 5 valores'\n",
        "    assert media([1,1,1,1,1]) == 1, 'a função não calcula a média corretamente'\n",
        "    \n",
        "try:\n",
        "    teste_media()\n",
        "    print(\"Deu tudo certo, pode continuar ...\")\n",
        "except AssertionError as error:\n",
        "    print(error)"
      ],
      "execution_count": 0,
      "outputs": []
    },
    {
      "cell_type": "markdown",
      "metadata": {
        "id": "j4rgcIJ8hexH",
        "colab_type": "text"
      },
      "source": [
        "## 4. Crie uma lista chamada nomes com 3 nomes diferentes e uma função maior_nome() que recebe uma lista de nomes e retorna o maior nome"
      ]
    },
    {
      "cell_type": "code",
      "metadata": {
        "id": "riTkg6LThexI",
        "colab_type": "code",
        "colab": {}
      },
      "source": [
        "\n",
        "        "
      ],
      "execution_count": 0,
      "outputs": []
    },
    {
      "cell_type": "markdown",
      "metadata": {
        "id": "bE_6ZTfQhexK",
        "colab_type": "text"
      },
      "source": [
        "### Célula de teste"
      ]
    },
    {
      "cell_type": "code",
      "metadata": {
        "id": "A03UFKWthexL",
        "colab_type": "code",
        "colab": {}
      },
      "source": [
        "def teste_maior():\n",
        "    assert len(nomes) == 3\n",
        "    assert maior_nome(['a', 'aa', 'aaa']) == 'aaa', 'a função não retorna o maior nome'\n",
        "\n",
        "try:\n",
        "    teste_maior()\n",
        "    print(\"Deu tudo certo, pode continuar ...\")\n",
        "except AssertionError as error:\n",
        "    print(error)    \n",
        "\n",
        "    "
      ],
      "execution_count": 0,
      "outputs": []
    },
    {
      "cell_type": "markdown",
      "metadata": {
        "id": "O0hoNZHShexO",
        "colab_type": "text"
      },
      "source": [
        "## 5. Crie uma matriz 3x3 chamada matriz e função somar_matriz() que retorna a soma de todos os valores da matriz"
      ]
    },
    {
      "cell_type": "code",
      "metadata": {
        "id": "iVKIngAPhexO",
        "colab_type": "code",
        "colab": {}
      },
      "source": [
        ""
      ],
      "execution_count": 0,
      "outputs": []
    },
    {
      "cell_type": "markdown",
      "metadata": {
        "id": "lXiFcNGhhexR",
        "colab_type": "text"
      },
      "source": [
        "### Célula de teste"
      ]
    },
    {
      "cell_type": "code",
      "metadata": {
        "id": "3UpAfIJ-hexS",
        "colab_type": "code",
        "colab": {}
      },
      "source": [
        "def teste_somar_matriz():\n",
        "    assert len(matriz) == 3, 'a matriz não tem 3 linhas'\n",
        "    \n",
        "    for  i,linha in enumerate(matriz):\n",
        "        assert len(linha) == 3, 'a {} linha não tem 3 colunas'.format(i+1)\n",
        "        \n",
        "    assert somar_matriz([[1,1,1],[1,1,1],[1,1,1]]) == 9, 'a função não soma corretamente os valores'\n",
        "\n",
        "try:\n",
        "    teste_somar_matriz()\n",
        "    print(\"Deu tudo certo, pode continuar ...\")\n",
        "except AssertionError as error:\n",
        "    print(error)"
      ],
      "execution_count": 0,
      "outputs": []
    },
    {
      "cell_type": "markdown",
      "metadata": {
        "id": "F9muhUwphexU",
        "colab_type": "text"
      },
      "source": [
        "## 6. Crie uma função trocar_linhas() que recebe uma matriz e retorna uma nova matriz com as primeira e última linhas trocadas"
      ]
    },
    {
      "cell_type": "code",
      "metadata": {
        "id": "4VgDjAoFhexV",
        "colab_type": "code",
        "colab": {}
      },
      "source": [
        ""
      ],
      "execution_count": 0,
      "outputs": []
    },
    {
      "cell_type": "code",
      "metadata": {
        "id": "20OfU96ohexY",
        "colab_type": "code",
        "colab": {}
      },
      "source": [
        "def teste_trocar_linhas():\n",
        "    assert trocar_linhas([[1,1],[2,2]]) == [[2,2],[1,1]], 'a função não troca corretamente as linhas'\n",
        "    \n",
        "try:\n",
        "    teste_trocar_linhas()\n",
        "    print(\"Deu tudo certo, pode continuar ...\")\n",
        "except AssertionError as error:\n",
        "    print(error)\n",
        "    "
      ],
      "execution_count": 0,
      "outputs": []
    },
    {
      "cell_type": "markdown",
      "metadata": {
        "id": "B804e9Smhexa",
        "colab_type": "text"
      },
      "source": [
        "## 7. Crie uma função trocar_colunas() que recebe uma matriz e retorna uma nova matriz com as primeira e última colunas trocadas"
      ]
    },
    {
      "cell_type": "code",
      "metadata": {
        "id": "s-osdRvZhexb",
        "colab_type": "code",
        "colab": {}
      },
      "source": [
        ""
      ],
      "execution_count": 0,
      "outputs": []
    },
    {
      "cell_type": "code",
      "metadata": {
        "id": "1lyPNYg2hexf",
        "colab_type": "code",
        "colab": {}
      },
      "source": [
        "def teste_trocar_colunas():\n",
        "    assert trocar_colunas([[1,2],[1,2]]) == [[2,1],[2,1]], 'a função não troca corretamente as colunas'\n",
        "\n",
        "try:\n",
        "    teste_trocar_colunas()\n",
        "    print(\"Deu tudo certo, pode continuar ...\")\n",
        "except AssertionError as error:\n",
        "    print(error)\n"
      ],
      "execution_count": 0,
      "outputs": []
    }
  ]
}