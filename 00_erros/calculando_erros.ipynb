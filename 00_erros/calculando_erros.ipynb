{
 "cells": [
  {
   "cell_type": "markdown",
   "metadata": {
    "colab": {
     "base_uri": "https://localhost:8080/"
    },
    "id": "KDuwit8uCXeX",
    "outputId": "6f13d9f8-4db2-4bd6-cb2e-21cca6e05193",
    "slideshow": {
     "slide_type": "slide"
    }
   },
   "source": [
    "# Métodos Numéricos\n",
    "\n",
    "## Erros\n",
    "\n",
    "### Patric Lacouth"
   ]
  },
  {
   "cell_type": "markdown",
   "metadata": {
    "slideshow": {
     "slide_type": "slide"
    }
   },
   "source": [
    "# Tipos de erros\n",
    "\n",
    "* Incerteza dos dados;\n",
    "* Erros de arredondamento;\n",
    "* Erros de truncamento;"
   ]
  },
  {
   "cell_type": "markdown",
   "metadata": {
    "slideshow": {
     "slide_type": "slide"
    }
   },
   "source": [
    "# o erro absoluto\n",
    "\n",
    "Seja $x$ um número real e $\\bar{x}$, sua aproximação\n",
    "\n",
    "$$erro = |x - \\bar{x}|$$"
   ]
  },
  {
   "cell_type": "markdown",
   "metadata": {
    "slideshow": {
     "slide_type": "slide"
    }
   },
   "source": [
    "# o erro absoluto\n",
    "\n",
    "Sejam x = 123456,789 e $\\bar{x} = 123000$. O erro absoluto é\n",
    "\n",
    "$$|x - \\bar{x}| = |123456,789 - 123000| = 456,789$$"
   ]
  },
  {
   "cell_type": "markdown",
   "metadata": {
    "slideshow": {
     "slide_type": "slide"
    }
   },
   "source": [
    "# o erro relativo\n",
    "\n",
    "$$erro = \\left| \\frac{x - \\bar{x}}{x} \\right| \\times 100\\%$$"
   ]
  },
  {
   "cell_type": "markdown",
   "metadata": {
    "slideshow": {
     "slide_type": "slide"
    }
   },
   "source": [
    "# o erro relativo\n",
    "Sejam x = 123456,789 e $\\bar{x} = 123000$. O erro relativo é\n",
    "\n",
    "$$\\left| \\frac{x - \\bar{x}}{x} \\right| = \\frac{456,789}{123456,789} \\approx 0,00369999 \\approx 0,36\\%$$"
   ]
  },
  {
   "cell_type": "code",
   "execution_count": null,
   "metadata": {
    "slideshow": {
     "slide_type": "slide"
    }
   },
   "outputs": [],
   "source": []
  },
  {
   "cell_type": "code",
   "execution_count": null,
   "metadata": {
    "slideshow": {
     "slide_type": "slide"
    }
   },
   "outputs": [],
   "source": []
  },
  {
   "cell_type": "code",
   "execution_count": 10,
   "metadata": {},
   "outputs": [],
   "source": [
    "import numpy as np"
   ]
  },
  {
   "cell_type": "code",
   "execution_count": 11,
   "metadata": {},
   "outputs": [
    {
     "data": {
      "text/plain": [
       "True"
      ]
     },
     "execution_count": 11,
     "metadata": {},
     "output_type": "execute_result"
    }
   ],
   "source": [
    "np.isclose(0.1 + 0.2, 0.3)"
   ]
  },
  {
   "cell_type": "markdown",
   "metadata": {
    "id": "oy3M3_MUD9EH"
   },
   "source": [
    "# Fórmula de Leibniz para $\\pi$\n",
    "\n",
    "$$ \\frac{\\pi}{4} = 1 - \\frac{1}{3} + \\frac{1}{5} - \\frac{1}{7} + \\frac{1}{9} - \\dots$$"
   ]
  },
  {
   "cell_type": "code",
   "execution_count": null,
   "metadata": {
    "id": "Cxj8pjKJCZaA"
   },
   "outputs": [],
   "source": [
    "def pi_series(n):\n",
    "    acc = 0\n",
    "    den = 1\n",
    "    for i in range(n):\n",
    "        if i % 2 == 0:\n",
    "            acc += 1 / den\n",
    "        else:\n",
    "            acc -= 1 / den\n",
    "        den+=2\n",
    "    return 4 * acc\n"
   ]
  },
  {
   "cell_type": "code",
   "execution_count": null,
   "metadata": {
    "colab": {
     "base_uri": "https://localhost:8080/"
    },
    "id": "iT4Bo0J9DAsV",
    "outputId": "94aea33b-98f0-47ce-9e68-d0c265629f5a"
   },
   "outputs": [
    {
     "data": {
      "text/plain": [
       "3.0418396189294032"
      ]
     },
     "execution_count": 15,
     "metadata": {
      "tags": []
     },
     "output_type": "execute_result"
    }
   ],
   "source": [
    "pi = pi_series(10)\n",
    "pi"
   ]
  },
  {
   "cell_type": "code",
   "execution_count": null,
   "metadata": {
    "colab": {
     "base_uri": "https://localhost:8080/"
    },
    "id": "YzQgPlMJDrsM",
    "outputId": "472b9040-ca62-4ee1-b61a-c531e84a2454"
   },
   "outputs": [
    {
     "data": {
      "text/plain": [
       "3.175237710923643"
      ]
     },
     "execution_count": 16,
     "metadata": {
      "tags": []
     },
     "output_type": "execute_result"
    }
   ],
   "source": [
    "erro_real = np.abs((np.pi - pi) / np.pi) * 100\n",
    "erro_real"
   ]
  },
  {
   "cell_type": "code",
   "execution_count": null,
   "metadata": {
    "id": "CMW54RftEx2h"
   },
   "outputs": [],
   "source": [
    "pi_10 = pi_series(10)\n",
    "pi_20 = pi_series(20)"
   ]
  },
  {
   "cell_type": "code",
   "execution_count": null,
   "metadata": {
    "colab": {
     "base_uri": "https://localhost:8080/"
    },
    "id": "tLYB6BkvF4id",
    "outputId": "10325924-8cb8-4a29-f27a-e5e8a70996f7"
   },
   "outputs": [
    {
     "data": {
      "text/plain": [
       "1.6102925469478175"
      ]
     },
     "execution_count": 29,
     "metadata": {
      "tags": []
     },
     "output_type": "execute_result"
    }
   ],
   "source": [
    "erro_aprox = np.abs((pi_20 - pi_10) / pi_20) * 100\n",
    "erro_aprox"
   ]
  },
  {
   "cell_type": "code",
   "execution_count": null,
   "metadata": {
    "colab": {
     "base_uri": "https://localhost:8080/"
    },
    "id": "ZBUEczYvGGsH",
    "outputId": "7f43950b-dc34-4587-c4fd-5646767e99de"
   },
   "outputs": [
    {
     "data": {
      "text/plain": [
       "(3.0418396189294032, 3.09162380666784)"
      ]
     },
     "execution_count": 30,
     "metadata": {
      "tags": []
     },
     "output_type": "execute_result"
    }
   ],
   "source": [
    "pi_10,pi_20"
   ]
  },
  {
   "cell_type": "code",
   "execution_count": null,
   "metadata": {
    "colab": {
     "base_uri": "https://localhost:8080/"
    },
    "id": "9tWRAZ3TGMqq",
    "outputId": "0fa5a677-bf2f-41e0-edcc-637f02f6fe23"
   },
   "outputs": [
    {
     "data": {
      "text/plain": [
       "1.5902445496633548"
      ]
     },
     "execution_count": 34,
     "metadata": {
      "tags": []
     },
     "output_type": "execute_result"
    }
   ],
   "source": []
  },
  {
   "cell_type": "code",
   "execution_count": null,
   "metadata": {
    "colab": {
     "base_uri": "https://localhost:8080/"
    },
    "id": "2RAx3p_VG-r6",
    "outputId": "e6e8d6ae-d741-43e5-cd71-09740fd80740"
   },
   "outputs": [
    {
     "name": "stdout",
     "output_type": "stream",
     "text": [
      "Erro final: 0.0004999966077506051\n",
      "Total de termos: 127325\n",
      "Valor de pi aproximado: 3.1416005075068716\n"
     ]
    }
   ],
   "source": [
    "n = 1\n",
    "valor_anterior = pi_series(n)\n",
    "erro = 10\n",
    "while erro > 0.0005:\n",
    "    n += 1\n",
    "    valor_atual = pi_series(n)\n",
    "    erro = np.abs((valor_atual - valor_anterior) / valor_atual) * 100\n",
    "    valor_anterior = valor_atual\n",
    "\n",
    "print(f'Erro final: {erro}')\n",
    "print(f'Total de termos: {n}')\n",
    "print(f'Valor de pi aproximado: {valor_atual}')"
   ]
  },
  {
   "cell_type": "code",
   "execution_count": null,
   "metadata": {
    "colab": {
     "base_uri": "https://localhost:8080/"
    },
    "id": "4w5ivkycJpTh",
    "outputId": "2ec86b1d-6875-447e-d5f9-1c585f32e4a3"
   },
   "outputs": [
    {
     "data": {
      "text/plain": [
       "3.141671177343094"
      ]
     },
     "execution_count": 64,
     "metadata": {
      "tags": []
     },
     "output_type": "execute_result"
    }
   ],
   "source": [
    "pi_series(12735)"
   ]
  },
  {
   "cell_type": "code",
   "execution_count": null,
   "metadata": {
    "colab": {
     "base_uri": "https://localhost:8080/"
    },
    "id": "mfxlV6IqKjcZ",
    "outputId": "9c76f9ff-1f3a-46f1-80ad-2d989a591b68"
   },
   "outputs": [
    {
     "data": {
      "text/plain": [
       "0.05"
      ]
     },
     "execution_count": 51,
     "metadata": {
      "tags": []
     },
     "output_type": "execute_result"
    }
   ],
   "source": [
    "5 * 10**-2"
   ]
  },
  {
   "cell_type": "code",
   "execution_count": null,
   "metadata": {
    "id": "F4mTe1h4Lckh"
   },
   "outputs": [],
   "source": []
  }
 ],
 "metadata": {
  "celltoolbar": "Slideshow",
  "colab": {
   "name": "calculando_erros.ipynb",
   "provenance": []
  },
  "kernelspec": {
   "display_name": "Python 3",
   "language": "python",
   "name": "python3"
  },
  "language_info": {
   "codemirror_mode": {
    "name": "ipython",
    "version": 3
   },
   "file_extension": ".py",
   "mimetype": "text/x-python",
   "name": "python",
   "nbconvert_exporter": "python",
   "pygments_lexer": "ipython3",
   "version": "3.9.1"
  }
 },
 "nbformat": 4,
 "nbformat_minor": 1
}
