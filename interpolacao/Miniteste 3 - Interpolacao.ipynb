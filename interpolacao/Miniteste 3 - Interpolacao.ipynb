{
  "nbformat": 4,
  "nbformat_minor": 0,
  "metadata": {
    "kernelspec": {
      "display_name": "Python 3",
      "language": "python",
      "name": "python3"
    },
    "language_info": {
      "codemirror_mode": {
        "name": "ipython",
        "version": 3
      },
      "file_extension": ".py",
      "mimetype": "text/x-python",
      "name": "python",
      "nbconvert_exporter": "python",
      "pygments_lexer": "ipython3",
      "version": "3.7.4"
    },
    "colab": {
      "name": "Miniteste 3 - Interpolacao.ipynb",
      "provenance": [],
      "include_colab_link": true
    }
  },
  "cells": [
    {
      "cell_type": "markdown",
      "metadata": {
        "id": "view-in-github",
        "colab_type": "text"
      },
      "source": [
        "<a href=\"https://colab.research.google.com/github/lacouth/metodos_numericos/blob/master/interpolacao/Miniteste%203%20-%20Interpolacao.ipynb\" target=\"_parent\"><img src=\"https://colab.research.google.com/assets/colab-badge.svg\" alt=\"Open In Colab\"/></a>"
      ]
    },
    {
      "cell_type": "code",
      "metadata": {
        "id": "lxQuau_en7Id",
        "colab_type": "code",
        "colab": {}
      },
      "source": [
        "import numpy as np\n",
        "import matplotlib.pyplot as plt"
      ],
      "execution_count": 0,
      "outputs": []
    },
    {
      "cell_type": "code",
      "metadata": {
        "id": "IgviscQKn7Ik",
        "colab_type": "code",
        "colab": {}
      },
      "source": [
        ""
      ],
      "execution_count": 0,
      "outputs": []
    },
    {
      "cell_type": "markdown",
      "metadata": {
        "id": "-s_WYkt9n7In",
        "colab_type": "text"
      },
      "source": [
        "# Miniteste 3\n",
        "\n",
        "Dados os pontos da tabela:\n",
        "\n",
        "| x | y |\n",
        "| -- | -- |\n",
        "-1 | 0.03846154\n",
        "-0.5 | 0.13793103\n",
        "0 | 1\n",
        "0.5 | 0.13793103\n",
        "1 | 0.03846154\n",
        "\n",
        "1. Utilizando **splines quadráticas** faça a interpolação da tabela acima para os pontos entre -1 e 1 com intervalo de 0.01  \n",
        "\n",
        "Compare o gráfico obtido com a resposta exata dada pela função\n",
        "\n",
        "$$f(x) = \\frac{1}{1+25x^2}$$\n",
        "\n",
        "2. Comente sobre os resultados obtidos.\n"
      ]
    },
    {
      "cell_type": "code",
      "metadata": {
        "id": "kQYL8ePcn7Io",
        "colab_type": "code",
        "colab": {},
        "outputId": "225c71fd-13e4-4c3c-ce4b-b91bf7aff5e2"
      },
      "source": [
        "x_i = np.array([-1,-0.5,0,0.5,1])\n",
        "y_i = 1/(1+25*x_i**2) \n",
        "\n",
        "x = np.arange(-1,1,0.01)\n",
        "y = 1/(1+25*x**2)\n",
        "plt.plot(x,y,'-',\n",
        "        x_i,y_i,'ro')\n",
        "plt.grid(True)"
      ],
      "execution_count": 0,
      "outputs": [
        {
          "output_type": "display_data",
          "data": {
            "image/png": "[encoded data removed]",
            "text/plain": [
              "<Figure size 432x288 with 1 Axes>"
            ]
          },
          "metadata": {
            "tags": [],
            "needs_background": "light"
          }
        }
      ]
    },
    {
      "cell_type": "code",
      "metadata": {
        "id": "WiYRkH1On7Is",
        "colab_type": "code",
        "colab": {}
      },
      "source": [
        ""
      ],
      "execution_count": 0,
      "outputs": []
    }
  ]
}