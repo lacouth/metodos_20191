{
 "cells": [
  {
   "cell_type": "code",
   "execution_count": 2,
   "metadata": {
    "graffitiCellId": "id_qmuh60j"
   },
   "outputs": [
    {
     "data": {
      "application/javascript": [
       "require(['jupytergraffiti/js/loader.js']);"
      ]
     },
     "metadata": {},
     "output_type": "display_data"
    }
   ],
   "source": [
    "import jupytergraffiti"
   ]
  },
  {
   "cell_type": "markdown",
   "metadata": {
    "graffitiCellId": "id_0z6m81h"
   },
   "source": [
    "# Extrapolação\n",
    "\n",
    "A _extrapolação_ é o processo de fazer uma estimativa de uma valor de $f(x)$ que está fora do intervalo dos pontos-base conhecidos, $x_1, x_2, \\ldots , x_n$. Como descreve a figura abaixo a natureza de extremidade aberta da extrapolação representa um passo no desconhecido, pois o processo estende a curva além da região conhecida. Dessa forma, a curva verdadeira pode facilmente divergir da previsão. Portanto, deve-se tomar cuidado quando ocorrer um caso no qual seja preciso extrapolar.\n",
    "\n",
    "![](imagens/extrapolaco.png)\n",
    "\n",
    "## Perigos da extrapolação\n",
    "\n",
    "A população em milhões dos Estados Unidos de 1920 a 2000 pode ser tabulada como\n",
    "\n",
    "Data|População\n",
    "-------|------\n",
    "1920|106,46\n",
    "1930|123,08\n",
    "1940|132,12\n",
    "1950|152,27\n",
    "1960|180,67\n",
    "1970|205,05\n",
    "1980|227,23\n",
    "1990|249,46\n",
    "2000|281,42\n",
    "\n",
    "Ajuste um polinômio de sétimo grau aos 8 primeiros pontos (1920 a 1990). Use-o para calcular a população em 2000 por extrapolação e compare sua previsão com o resultado real.\n"
   ]
  },
  {
   "cell_type": "code",
   "execution_count": 1,
   "metadata": {
    "graffitiCellId": "id_7exvwo5"
   },
   "outputs": [],
   "source": [
    "import numpy as np"
   ]
  },
  {
   "cell_type": "code",
   "execution_count": 19,
   "metadata": {
    "graffitiCellId": "id_w8b10rb"
   },
   "outputs": [],
   "source": [
    "def coeficientes_newton(x,y):\n",
    "    m = x.shape[0];\n",
    "    dd = np.zeros((m,m))\n",
    "    dd[:,0] = y.copy()\n",
    "    for j in range(1,m):\n",
    "        for i in range(m-j):\n",
    "            dd[i,j] = (dd[i+1,j-1] - dd[i,j-1])/(x[i+j] - x[i])\n",
    "    return dd[0,:]\n",
    "\n",
    "def newton_poly(x,xi,coef):\n",
    "    px = 0;\n",
    "    for i in range(len(coef)):\n",
    "        termos = 1;\n",
    "        for j in range(i):\n",
    "            termos*=(x-xi[j])\n",
    "        px += coef[i]*termos\n",
    "    return px"
   ]
  },
  {
   "cell_type": "code",
   "execution_count": 20,
   "metadata": {
    "graffitiCellId": "id_uh26tzu"
   },
   "outputs": [
    {
     "data": {
      "text/plain": [
       "176.48000000000093"
      ]
     },
     "execution_count": 20,
     "metadata": {},
     "output_type": "execute_result"
    }
   ],
   "source": [
    "x = np.array([1920,1930,1940,1950,1960,1970,1980,1990])\n",
    "y = np.array([106.46,123.08,132.12,152.27,180.65,205.05,227.23,249.46])\n",
    "\n",
    "coef = coeficientes_newton(x,y)\n",
    "yi = newton_poly(2000,x,coef)\n",
    "yi"
   ]
  },
  {
   "cell_type": "code",
   "execution_count": 18,
   "metadata": {
    "graffitiCellId": "id_v7o2tjr"
   },
   "outputs": [
    {
     "data": {
      "text/plain": [
       "array([106.46,   0.  ,   0.  ,   0.  ,   0.  ,   0.  ,   0.  ,   0.  ])"
      ]
     },
     "execution_count": 18,
     "metadata": {},
     "output_type": "execute_result"
    }
   ],
   "source": [
    "coef"
   ]
  },
  {
   "cell_type": "code",
   "execution_count": 21,
   "metadata": {
    "graffitiCellId": "id_uld8jvl"
   },
   "outputs": [],
   "source": [
    "import matplotlib.pyplot as plt\n"
   ]
  },
  {
   "cell_type": "code",
   "execution_count": 29,
   "metadata": {
    "graffitiCellId": "id_7sm93q6"
   },
   "outputs": [
    {
     "data": {
      "image/png": "[encoded data removed]",
      "text/plain": [
       "<Figure size 432x288 with 1 Axes>"
      ]
     },
     "metadata": {
      "needs_background": "light"
     },
     "output_type": "display_data"
    }
   ],
   "source": [
    "x_i = np.linspace(1920,2000,num=100);\n",
    "y_i = newton_poly(x_i,x,coef)\n",
    "\n",
    "\n",
    "plt.plot(x,y,'o',\n",
    "        x_i,y_i,'k')\n",
    "plt.grid(True)\n",
    "plt.show()"
   ]
  },
  {
   "cell_type": "code",
   "execution_count": null,
   "metadata": {
    "graffitiCellId": "id_vqaerl3"
   },
   "outputs": [],
   "source": []
  }
 ],
 "metadata": {
  "graffiti": {
   "firstAuthorId": "dev",
   "id": "id_9fop1kz",
   "language": "EN"
  },
  "kernelspec": {
   "display_name": "Python 3",
   "language": "python",
   "name": "python3"
  },
  "language_info": {
   "codemirror_mode": {
    "name": "ipython",
    "version": 3
   },
   "file_extension": ".py",
   "mimetype": "text/x-python",
   "name": "python",
   "nbconvert_exporter": "python",
   "pygments_lexer": "ipython3",
   "version": "3.7.4"
  }
 },
 "nbformat": 4,
 "nbformat_minor": 2
}
