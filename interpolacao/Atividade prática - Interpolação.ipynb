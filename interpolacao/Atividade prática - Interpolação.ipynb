{
 "cells": [
  {
   "cell_type": "markdown",
   "metadata": {},
   "source": [
    "# Atividade prática\n",
    "\n",
    "Dados os pontos da tabela:\n",
    "\n",
    "| x | y |\n",
    "| -- | -- |\n",
    "10 | 227.04\n",
    "15 | 362.78\n",
    "20 | 517.35\n",
    "22.5 | 602.97\n",
    "\n",
    "1. Utilizando o método direto encontre (manualmente) os coeficiente do polinômio interpolador de ordem 3. \n",
    "\n",
    "1. a. Trace o gráfico entre 10 e 22.5 com intervalo de 0.01 entre os pontos \n",
    "\n",
    "3. Utilizando o método de Newton encontre (manualmente) os coeficientes do polinômio interpolador de ordem 3.\n",
    "\n",
    "4. Trace o gráfico entre 10 e 22.5 com intervalo de 0.01 entre os pontos \n"
   ]
  },
  {
   "cell_type": "code",
   "execution_count": null,
   "metadata": {},
   "outputs": [],
   "source": []
  }
 ],
 "metadata": {
  "kernelspec": {
   "display_name": "Python 3",
   "language": "python",
   "name": "python3"
  },
  "language_info": {
   "codemirror_mode": {
    "name": "ipython",
    "version": 3
   },
   "file_extension": ".py",
   "mimetype": "text/x-python",
   "name": "python",
   "nbconvert_exporter": "python",
   "pygments_lexer": "ipython3",
   "version": "3.7.4"
  }
 },
 "nbformat": 4,
 "nbformat_minor": 2
}
