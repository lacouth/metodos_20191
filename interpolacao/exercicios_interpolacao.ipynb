{
 "cells": [
  {
   "cell_type": "markdown",
   "metadata": {
    "colab_type": "text",
    "id": "view-in-github"
   },
   "source": [
    "<a href=\"https://colab.research.google.com/github/lacouth/metodos_20191/blob/master/interpolacao/exercicios_interpolacao.ipynb\" target=\"_parent\"><img src=\"https://colab.research.google.com/assets/colab-badge.svg\" alt=\"Open In Colab\"/></a>"
   ]
  },
  {
   "cell_type": "code",
   "execution_count": 0,
   "metadata": {
    "colab": {},
    "colab_type": "code",
    "id": "GoirnuYs8U6j"
   },
   "outputs": [],
   "source": [
    "import numpy as np"
   ]
  },
  {
   "cell_type": "markdown",
   "metadata": {
    "colab_type": "text",
    "id": "TlWb6nVv8dfZ"
   },
   "source": [
    "1. Termistores são sensores usados para medir temperatura. Os termistores são baseados em materiais que mudam a resistência elétrica de acordo com a temperatura. Para medir a temperatura, os fabricantes fornecem uma curva de temperatura $\\times$ resistência. Um fabricante fez uma série de observações e obteve a seguinte tabela: \n",
    "\n",
    "| R(ohm) | T(ºC) |\n",
    "|--------|--------|\n",
    "|1101.0|25.113\n",
    "| 911.3  | 30.131 |\n",
    "| 636.0  | 40.120 |\n",
    "| 451.1  | 50.128 |\n",
    "\n",
    "Determine a temperatura correspondente a 754.8 ohms:\n",
    "\n",
    "  a. Utilizando um polinômio de primeira ordem\n",
    "  \n",
    "  b. Utilizando um polinômio de segunda ordem\n",
    "  \n",
    "  c. Utilizando um polinômio com o maior grau possível.\n",
    "  \n",
    "  Compare os resultados utilizando o erro de aproximação $\\epsilon_a$"
   ]
  },
  {
   "cell_type": "code",
   "execution_count": 0,
   "metadata": {
    "colab": {},
    "colab_type": "code",
    "id": "ZNeHrUHe-oG7"
   },
   "outputs": [],
   "source": []
  },
  {
   "cell_type": "markdown",
   "metadata": {
    "colab_type": "text",
    "id": "bLvLhtlq-p5T"
   },
   "source": [
    "2. Um braço robótico faz a checagem de qualidade de pontos de solda em um carro. A posição de algumas soldas é dada na tabela abaixo \n",
    "\n",
    "| x(cm) | y(cm) |\n",
    "|--------|--------|\n",
    "|2.00|7.2\n",
    "| 4.25  | 7.1 |\n",
    "| 5.25  | 6.0 |\n",
    "| 7.81  | 5.0 |\n",
    "| 9.20  | 3.5 |\n",
    "|10.60| 5.0 |\n",
    "\n",
    "Encontre o valor de $y$ para $x = 4.00$\n",
    "\n",
    "a. Utilizando um polinômio de primeira ordem\n",
    "  \n",
    "  b. Utilizando um polinômio de segunda ordem\n",
    "  \n",
    "  c. Utilizando um polinômio com o maior grau possível.\n",
    "  \n",
    "   Compare os resultados utilizando o erro de aproximação $\\epsilon_a$"
   ]
  },
  {
   "cell_type": "code",
   "execution_count": 0,
   "metadata": {
    "colab": {},
    "colab_type": "code",
    "id": "NzukT4wSBJUW"
   },
   "outputs": [],
   "source": []
  },
  {
   "cell_type": "markdown",
   "metadata": {
    "colab_type": "text",
    "id": "ieHUxbrYBJ_J"
   },
   "source": [
    "3. A temperatura de um lago foi medida de acordo com a sua profundidade. Os valores obtidos são apresentados na tabela abaixo:\n",
    "\n",
    "| Temperatura, T (°C) | Profundidade,  z (m) |\n",
    "|--------|--------|\n",
    "| 19.1 | 0 |\n",
    "| 19.1 | -1|\n",
    "|19.0 | -2 |\n",
    "|18.8 | -3 |\n",
    "|18.7 | -4 |\n",
    "|18.3 | -5 |\n",
    "|18.2 | -6 |\n",
    "| 17.6| -7 |\n",
    "|11.7 | -8 |\n",
    "|  9.9 | -9  |\n",
    "|  9.1| -10 |\n",
    "\n",
    "Determine a temperatura em z = -7.5.\n",
    "\n",
    "a. Utilizando um polinômio de primeira ordem\n",
    "  \n",
    "  b. Utilizando um polinômio de segunda ordem\n",
    "  \n",
    "  c. Utilizando um polinômio com o maior grau possível.\n",
    "  \n",
    "   Compare os resultados utilizando o erro de aproximação $\\epsilon_a$"
   ]
  },
  {
   "cell_type": "code",
   "execution_count": 0,
   "metadata": {
    "colab": {},
    "colab_type": "code",
    "id": "YFuEqXkQCv0y"
   },
   "outputs": [],
   "source": []
  }
 ],
 "metadata": {
  "colab": {
   "include_colab_link": true,
   "name": "exercicios_interpolacao.ipynb",
   "provenance": [],
   "version": "0.3.2"
  },
  "kernelspec": {
   "display_name": "Python 3",
   "language": "python",
   "name": "python3"
  },
  "language_info": {
   "codemirror_mode": {
    "name": "ipython",
    "version": 3
   },
   "file_extension": ".py",
   "mimetype": "text/x-python",
   "name": "python",
   "nbconvert_exporter": "python",
   "pygments_lexer": "ipython3",
   "version": "3.7.4"
  }
 },
 "nbformat": 4,
 "nbformat_minor": 1
}
