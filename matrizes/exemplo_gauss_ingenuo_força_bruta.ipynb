{
  "nbformat": 4,
  "nbformat_minor": 0,
  "metadata": {
    "colab": {
      "name": "exemplo_gauss_ingenuo_força_bruta.ipynb",
      "version": "0.3.2",
      "provenance": [],
      "include_colab_link": true
    },
    "kernelspec": {
      "name": "python3",
      "display_name": "Python 3"
    }
  },
  "cells": [
    {
      "cell_type": "markdown",
      "metadata": {
        "id": "view-in-github",
        "colab_type": "text"
      },
      "source": [
        "<a href=\"https://colab.research.google.com/github/lacouth/metodos_20191/blob/master/matrizes/exemplo_gauss_ingenuo_for%C3%A7a_bruta.ipynb\" target=\"_parent\"><img src=\"https://colab.research.google.com/assets/colab-badge.svg\" alt=\"Open In Colab\"/></a>"
      ]
    },
    {
      "metadata": {
        "id": "vcPiVV_FjAua",
        "colab_type": "code",
        "colab": {}
      },
      "cell_type": "code",
      "source": [
        "import numpy as np\n",
        "np.set_printoptions(formatter={'float': lambda x: \"{:.4f}\".format(x)})"
      ],
      "execution_count": 0,
      "outputs": []
    },
    {
      "metadata": {
        "id": "yqHedF9WjKed",
        "colab_type": "code",
        "colab": {
          "base_uri": "https://localhost:8080/",
          "height": 85
        },
        "outputId": "83852110-2592-49d9-945f-617586cfa4af"
      },
      "cell_type": "code",
      "source": [
        "AB = np.array([[-4,2,0,1,-100],[1,-2,1,0,0],[0,2,-3,1,0],[5,0,5,-12,0]],dtype = float)\n",
        "AB"
      ],
      "execution_count": 13,
      "outputs": [
        {
          "output_type": "execute_result",
          "data": {
            "text/plain": [
              "array([[-4.0000, 2.0000, 0.0000, 1.0000, -100.0000],\n",
              "       [1.0000, -2.0000, 1.0000, 0.0000, 0.0000],\n",
              "       [0.0000, 2.0000, -3.0000, 1.0000, 0.0000],\n",
              "       [5.0000, 0.0000, 5.0000, -12.0000, 0.0000]])"
            ]
          },
          "metadata": {
            "tags": []
          },
          "execution_count": 13
        }
      ]
    },
    {
      "metadata": {
        "id": "UiqEZ-EvkZu7",
        "colab_type": "text"
      },
      "cell_type": "markdown",
      "source": [
        "# Passo 1"
      ]
    },
    {
      "metadata": {
        "id": "yeoNShqTjlgE",
        "colab_type": "code",
        "colab": {
          "base_uri": "https://localhost:8080/",
          "height": 85
        },
        "outputId": "293aee9b-dd0b-4f99-b327-00d7c9a49894"
      },
      "cell_type": "code",
      "source": [
        "pivo = AB[0,0]\n",
        "m1 = AB[1,0]/pivo\n",
        "AB[1,:] = AB[1,:]-AB[0,:]*m1\n",
        "AB"
      ],
      "execution_count": 14,
      "outputs": [
        {
          "output_type": "execute_result",
          "data": {
            "text/plain": [
              "array([[-4.0000, 2.0000, 0.0000, 1.0000, -100.0000],\n",
              "       [0.0000, -1.5000, 1.0000, 0.2500, -25.0000],\n",
              "       [0.0000, 2.0000, -3.0000, 1.0000, 0.0000],\n",
              "       [5.0000, 0.0000, 5.0000, -12.0000, 0.0000]])"
            ]
          },
          "metadata": {
            "tags": []
          },
          "execution_count": 14
        }
      ]
    },
    {
      "metadata": {
        "id": "SxIq275slYhL",
        "colab_type": "code",
        "colab": {
          "base_uri": "https://localhost:8080/",
          "height": 85
        },
        "outputId": "0bb4a147-cc70-42c1-f670-91a379c23146"
      },
      "cell_type": "code",
      "source": [
        "m3 = AB[3,0]/pivo\n",
        "AB[3,:] = AB[3,:]-AB[0,:]*m3\n",
        "AB"
      ],
      "execution_count": 15,
      "outputs": [
        {
          "output_type": "execute_result",
          "data": {
            "text/plain": [
              "array([[-4.0000, 2.0000, 0.0000, 1.0000, -100.0000],\n",
              "       [0.0000, -1.5000, 1.0000, 0.2500, -25.0000],\n",
              "       [0.0000, 2.0000, -3.0000, 1.0000, 0.0000],\n",
              "       [0.0000, 2.5000, 5.0000, -10.7500, -125.0000]])"
            ]
          },
          "metadata": {
            "tags": []
          },
          "execution_count": 15
        }
      ]
    },
    {
      "metadata": {
        "id": "W3W4L0_hlrKr",
        "colab_type": "text"
      },
      "cell_type": "markdown",
      "source": [
        "# 2 passo"
      ]
    },
    {
      "metadata": {
        "id": "sfGkJCPhls1L",
        "colab_type": "code",
        "colab": {
          "base_uri": "https://localhost:8080/",
          "height": 85
        },
        "outputId": "92d87d6e-656f-4c34-953a-eb6df8021890"
      },
      "cell_type": "code",
      "source": [
        "pivo = AB[1,1]\n",
        "m4 = AB[2,1]/pivo\n",
        "AB[2,:] = AB[2,:] - AB[1,:]*m4\n",
        "AB"
      ],
      "execution_count": 16,
      "outputs": [
        {
          "output_type": "execute_result",
          "data": {
            "text/plain": [
              "array([[-4.0000, 2.0000, 0.0000, 1.0000, -100.0000],\n",
              "       [0.0000, -1.5000, 1.0000, 0.2500, -25.0000],\n",
              "       [0.0000, 0.0000, -1.6667, 1.3333, -33.3333],\n",
              "       [0.0000, 2.5000, 5.0000, -10.7500, -125.0000]])"
            ]
          },
          "metadata": {
            "tags": []
          },
          "execution_count": 16
        }
      ]
    },
    {
      "metadata": {
        "id": "4Dwtt1EGmAC8",
        "colab_type": "code",
        "colab": {
          "base_uri": "https://localhost:8080/",
          "height": 85
        },
        "outputId": "7913ace2-0a81-47c4-c40c-eb463a4a63ac"
      },
      "cell_type": "code",
      "source": [
        "\n",
        "m5 = AB[3,1]/pivo\n",
        "AB[3,:] = AB[3,:] - AB[1,:]*m5\n",
        "AB"
      ],
      "execution_count": 17,
      "outputs": [
        {
          "output_type": "execute_result",
          "data": {
            "text/plain": [
              "array([[-4.0000, 2.0000, 0.0000, 1.0000, -100.0000],\n",
              "       [0.0000, -1.5000, 1.0000, 0.2500, -25.0000],\n",
              "       [0.0000, 0.0000, -1.6667, 1.3333, -33.3333],\n",
              "       [0.0000, 0.0000, 6.6667, -10.3333, -166.6667]])"
            ]
          },
          "metadata": {
            "tags": []
          },
          "execution_count": 17
        }
      ]
    },
    {
      "metadata": {
        "id": "BMmhMGC-mwC9",
        "colab_type": "code",
        "colab": {
          "base_uri": "https://localhost:8080/",
          "height": 85
        },
        "outputId": "eef08382-d461-454a-d9dc-b00604ae523b"
      },
      "cell_type": "code",
      "source": [
        "pivo = AB[2,2]\n",
        "m6 = AB[3,2]/pivo\n",
        "AB[3,:] = AB[3,:] - AB[2,:]*m6\n",
        "AB"
      ],
      "execution_count": 18,
      "outputs": [
        {
          "output_type": "execute_result",
          "data": {
            "text/plain": [
              "array([[-4.0000, 2.0000, 0.0000, 1.0000, -100.0000],\n",
              "       [0.0000, -1.5000, 1.0000, 0.2500, -25.0000],\n",
              "       [0.0000, 0.0000, -1.6667, 1.3333, -33.3333],\n",
              "       [0.0000, 0.0000, 0.0000, -5.0000, -300.0000]])"
            ]
          },
          "metadata": {
            "tags": []
          },
          "execution_count": 18
        }
      ]
    },
    {
      "metadata": {
        "id": "omfSjGmxnEZt",
        "colab_type": "code",
        "colab": {
          "base_uri": "https://localhost:8080/",
          "height": 34
        },
        "outputId": "bf80cac2-ff23-4249-ffc1-2d958484b117"
      },
      "cell_type": "code",
      "source": [
        "V4 = AB[3,-1]/AB[3,-2]\n",
        "V4"
      ],
      "execution_count": 19,
      "outputs": [
        {
          "output_type": "execute_result",
          "data": {
            "text/plain": [
              "59.99999999999999"
            ]
          },
          "metadata": {
            "tags": []
          },
          "execution_count": 19
        }
      ]
    },
    {
      "metadata": {
        "id": "yS9x48OxnS0l",
        "colab_type": "code",
        "colab": {
          "base_uri": "https://localhost:8080/",
          "height": 34
        },
        "outputId": "52ac24e9-468e-4a86-8a56-614a3c32db42"
      },
      "cell_type": "code",
      "source": [
        "V3 = (AB[2,-1] - V4*AB[2,-2])/AB[2,2]\n",
        "V3"
      ],
      "execution_count": 21,
      "outputs": [
        {
          "output_type": "execute_result",
          "data": {
            "text/plain": [
              "67.99999999999999"
            ]
          },
          "metadata": {
            "tags": []
          },
          "execution_count": 21
        }
      ]
    },
    {
      "metadata": {
        "id": "E2ijY0WAniEd",
        "colab_type": "code",
        "colab": {
          "base_uri": "https://localhost:8080/",
          "height": 86
        },
        "outputId": "7ac9ee11-7162-4ec9-b600-3b4fef1414ab"
      },
      "cell_type": "code",
      "source": [
        "AB"
      ],
      "execution_count": 22,
      "outputs": [
        {
          "output_type": "execute_result",
          "data": {
            "text/plain": [
              "array([[-4.0000, 2.0000, 0.0000, 1.0000, -100.0000],\n",
              "       [0.0000, -1.5000, 1.0000, 0.2500, -25.0000],\n",
              "       [0.0000, 0.0000, -1.6667, 1.3333, -33.3333],\n",
              "       [0.0000, 0.0000, 0.0000, -5.0000, -300.0000]])"
            ]
          },
          "metadata": {
            "tags": []
          },
          "execution_count": 22
        }
      ]
    },
    {
      "metadata": {
        "id": "615PcmSOnmbd",
        "colab_type": "code",
        "colab": {
          "base_uri": "https://localhost:8080/",
          "height": 34
        },
        "outputId": "33b2e6f2-2d8c-4ade-81d4-e037438346a2"
      },
      "cell_type": "code",
      "source": [
        "V2 = (AB[1,-1] - AB[1,-2]*V4 - V3)/AB[1,1]\n",
        "V2"
      ],
      "execution_count": 30,
      "outputs": [
        {
          "output_type": "execute_result",
          "data": {
            "text/plain": [
              "71.99999999999999"
            ]
          },
          "metadata": {
            "tags": []
          },
          "execution_count": 30
        }
      ]
    },
    {
      "metadata": {
        "id": "wLONOiEAnv98",
        "colab_type": "code",
        "colab": {
          "base_uri": "https://localhost:8080/",
          "height": 34
        },
        "outputId": "9a8640a6-d191-49dd-94df-853d79692c1b"
      },
      "cell_type": "code",
      "source": [
        "V1 = (AB[0,-1] - AB[0,-2]*V4 - AB[0,-3]*V2)/AB[0,0]\n",
        "V1"
      ],
      "execution_count": 29,
      "outputs": [
        {
          "output_type": "execute_result",
          "data": {
            "text/plain": [
              "40.0"
            ]
          },
          "metadata": {
            "tags": []
          },
          "execution_count": 29
        }
      ]
    },
    {
      "metadata": {
        "id": "jZij4Sj8ofZO",
        "colab_type": "code",
        "colab": {}
      },
      "cell_type": "code",
      "source": [
        ""
      ],
      "execution_count": 0,
      "outputs": []
    }
  ]
}