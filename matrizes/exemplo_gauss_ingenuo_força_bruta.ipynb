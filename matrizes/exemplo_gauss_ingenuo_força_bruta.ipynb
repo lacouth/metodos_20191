{
 "cells": [
  {
   "cell_type": "markdown",
   "metadata": {
    "colab_type": "text",
    "id": "view-in-github"
   },
   "source": [
    "<a href=\"https://colab.research.google.com/github/lacouth/metodos_20191/blob/master/matrizes/exemplo_gauss_ingenuo_for%C3%A7a_bruta.ipynb\" target=\"_parent\"><img src=\"https://colab.research.google.com/assets/colab-badge.svg\" alt=\"Open In Colab\"/></a>"
   ]
  },
  {
   "cell_type": "code",
   "execution_count": 0,
   "metadata": {
    "colab": {},
    "colab_type": "code",
    "id": "vcPiVV_FjAua"
   },
   "outputs": [],
   "source": [
    "import numpy as np\n",
    "np.set_printoptions(formatter={'float': lambda x: \"{:.4f}\".format(x)})"
   ]
  },
  {
   "cell_type": "code",
   "execution_count": 13,
   "metadata": {
    "colab": {
     "base_uri": "https://localhost:8080/",
     "height": 85
    },
    "colab_type": "code",
    "id": "yqHedF9WjKed",
    "outputId": "83852110-2592-49d9-945f-617586cfa4af"
   },
   "outputs": [
    {
     "data": {
      "text/plain": [
       "array([[-4.0000, 2.0000, 0.0000, 1.0000, -100.0000],\n",
       "       [1.0000, -2.0000, 1.0000, 0.0000, 0.0000],\n",
       "       [0.0000, 2.0000, -3.0000, 1.0000, 0.0000],\n",
       "       [5.0000, 0.0000, 5.0000, -12.0000, 0.0000]])"
      ]
     },
     "execution_count": 13,
     "metadata": {
      "tags": []
     },
     "output_type": "execute_result"
    }
   ],
   "source": [
    "AB = np.array([[-4,2,0,1,-100],[1,-2,1,0,0],[0,2,-3,1,0],[5,0,5,-12,0]],dtype = float)\n",
    "AB"
   ]
  },
  {
   "cell_type": "markdown",
   "metadata": {
    "colab_type": "text",
    "id": "UiqEZ-EvkZu7"
   },
   "source": [
    "# Passo 1"
   ]
  },
  {
   "cell_type": "code",
   "execution_count": 14,
   "metadata": {
    "colab": {
     "base_uri": "https://localhost:8080/",
     "height": 85
    },
    "colab_type": "code",
    "id": "yeoNShqTjlgE",
    "outputId": "293aee9b-dd0b-4f99-b327-00d7c9a49894"
   },
   "outputs": [
    {
     "data": {
      "text/plain": [
       "array([[-4.0000, 2.0000, 0.0000, 1.0000, -100.0000],\n",
       "       [0.0000, -1.5000, 1.0000, 0.2500, -25.0000],\n",
       "       [0.0000, 2.0000, -3.0000, 1.0000, 0.0000],\n",
       "       [5.0000, 0.0000, 5.0000, -12.0000, 0.0000]])"
      ]
     },
     "execution_count": 14,
     "metadata": {
      "tags": []
     },
     "output_type": "execute_result"
    }
   ],
   "source": [
    "pivo = AB[0,0]\n",
    "m1 = AB[1,0]/pivo\n",
    "AB[1,:] = AB[1,:]-AB[0,:]*m1\n",
    "AB"
   ]
  },
  {
   "cell_type": "code",
   "execution_count": 15,
   "metadata": {
    "colab": {
     "base_uri": "https://localhost:8080/",
     "height": 85
    },
    "colab_type": "code",
    "id": "SxIq275slYhL",
    "outputId": "0bb4a147-cc70-42c1-f670-91a379c23146"
   },
   "outputs": [
    {
     "data": {
      "text/plain": [
       "array([[-4.0000, 2.0000, 0.0000, 1.0000, -100.0000],\n",
       "       [0.0000, -1.5000, 1.0000, 0.2500, -25.0000],\n",
       "       [0.0000, 2.0000, -3.0000, 1.0000, 0.0000],\n",
       "       [0.0000, 2.5000, 5.0000, -10.7500, -125.0000]])"
      ]
     },
     "execution_count": 15,
     "metadata": {
      "tags": []
     },
     "output_type": "execute_result"
    }
   ],
   "source": [
    "m3 = AB[3,0]/pivo\n",
    "AB[3,:] = AB[3,:]-AB[0,:]*m3\n",
    "AB"
   ]
  },
  {
   "cell_type": "markdown",
   "metadata": {
    "colab_type": "text",
    "id": "W3W4L0_hlrKr"
   },
   "source": [
    "# 2 passo"
   ]
  },
  {
   "cell_type": "code",
   "execution_count": 16,
   "metadata": {
    "colab": {
     "base_uri": "https://localhost:8080/",
     "height": 85
    },
    "colab_type": "code",
    "id": "sfGkJCPhls1L",
    "outputId": "92d87d6e-656f-4c34-953a-eb6df8021890"
   },
   "outputs": [
    {
     "data": {
      "text/plain": [
       "array([[-4.0000, 2.0000, 0.0000, 1.0000, -100.0000],\n",
       "       [0.0000, -1.5000, 1.0000, 0.2500, -25.0000],\n",
       "       [0.0000, 0.0000, -1.6667, 1.3333, -33.3333],\n",
       "       [0.0000, 2.5000, 5.0000, -10.7500, -125.0000]])"
      ]
     },
     "execution_count": 16,
     "metadata": {
      "tags": []
     },
     "output_type": "execute_result"
    }
   ],
   "source": [
    "pivo = AB[1,1]\n",
    "m4 = AB[2,1]/pivo\n",
    "AB[2,:] = AB[2,:] - AB[1,:]*m4\n",
    "AB"
   ]
  },
  {
   "cell_type": "code",
   "execution_count": 17,
   "metadata": {
    "colab": {
     "base_uri": "https://localhost:8080/",
     "height": 85
    },
    "colab_type": "code",
    "id": "4Dwtt1EGmAC8",
    "outputId": "7913ace2-0a81-47c4-c40c-eb463a4a63ac"
   },
   "outputs": [
    {
     "data": {
      "text/plain": [
       "array([[-4.0000, 2.0000, 0.0000, 1.0000, -100.0000],\n",
       "       [0.0000, -1.5000, 1.0000, 0.2500, -25.0000],\n",
       "       [0.0000, 0.0000, -1.6667, 1.3333, -33.3333],\n",
       "       [0.0000, 0.0000, 6.6667, -10.3333, -166.6667]])"
      ]
     },
     "execution_count": 17,
     "metadata": {
      "tags": []
     },
     "output_type": "execute_result"
    }
   ],
   "source": [
    "\n",
    "m5 = AB[3,1]/pivo\n",
    "AB[3,:] = AB[3,:] - AB[1,:]*m5\n",
    "AB"
   ]
  },
  {
   "cell_type": "code",
   "execution_count": 18,
   "metadata": {
    "colab": {
     "base_uri": "https://localhost:8080/",
     "height": 85
    },
    "colab_type": "code",
    "id": "BMmhMGC-mwC9",
    "outputId": "eef08382-d461-454a-d9dc-b00604ae523b"
   },
   "outputs": [
    {
     "data": {
      "text/plain": [
       "array([[-4.0000, 2.0000, 0.0000, 1.0000, -100.0000],\n",
       "       [0.0000, -1.5000, 1.0000, 0.2500, -25.0000],\n",
       "       [0.0000, 0.0000, -1.6667, 1.3333, -33.3333],\n",
       "       [0.0000, 0.0000, 0.0000, -5.0000, -300.0000]])"
      ]
     },
     "execution_count": 18,
     "metadata": {
      "tags": []
     },
     "output_type": "execute_result"
    }
   ],
   "source": [
    "pivo = AB[2,2]\n",
    "m6 = AB[3,2]/pivo\n",
    "AB[3,:] = AB[3,:] - AB[2,:]*m6\n",
    "AB"
   ]
  },
  {
   "cell_type": "code",
   "execution_count": 19,
   "metadata": {
    "colab": {
     "base_uri": "https://localhost:8080/",
     "height": 34
    },
    "colab_type": "code",
    "id": "omfSjGmxnEZt",
    "outputId": "bf80cac2-ff23-4249-ffc1-2d958484b117"
   },
   "outputs": [
    {
     "data": {
      "text/plain": [
       "59.99999999999999"
      ]
     },
     "execution_count": 19,
     "metadata": {
      "tags": []
     },
     "output_type": "execute_result"
    }
   ],
   "source": [
    "V4 = AB[3,-1]/AB[3,-2]\n",
    "V4"
   ]
  },
  {
   "cell_type": "code",
   "execution_count": 21,
   "metadata": {
    "colab": {
     "base_uri": "https://localhost:8080/",
     "height": 34
    },
    "colab_type": "code",
    "id": "yS9x48OxnS0l",
    "outputId": "52ac24e9-468e-4a86-8a56-614a3c32db42"
   },
   "outputs": [
    {
     "data": {
      "text/plain": [
       "67.99999999999999"
      ]
     },
     "execution_count": 21,
     "metadata": {
      "tags": []
     },
     "output_type": "execute_result"
    }
   ],
   "source": [
    "V3 = (AB[2,-1] - V4*AB[2,-2])/AB[2,2]\n",
    "V3"
   ]
  },
  {
   "cell_type": "code",
   "execution_count": 22,
   "metadata": {
    "colab": {
     "base_uri": "https://localhost:8080/",
     "height": 86
    },
    "colab_type": "code",
    "id": "E2ijY0WAniEd",
    "outputId": "7ac9ee11-7162-4ec9-b600-3b4fef1414ab"
   },
   "outputs": [
    {
     "data": {
      "text/plain": [
       "array([[-4.0000, 2.0000, 0.0000, 1.0000, -100.0000],\n",
       "       [0.0000, -1.5000, 1.0000, 0.2500, -25.0000],\n",
       "       [0.0000, 0.0000, -1.6667, 1.3333, -33.3333],\n",
       "       [0.0000, 0.0000, 0.0000, -5.0000, -300.0000]])"
      ]
     },
     "execution_count": 22,
     "metadata": {
      "tags": []
     },
     "output_type": "execute_result"
    }
   ],
   "source": [
    "AB"
   ]
  },
  {
   "cell_type": "code",
   "execution_count": 30,
   "metadata": {
    "colab": {
     "base_uri": "https://localhost:8080/",
     "height": 34
    },
    "colab_type": "code",
    "id": "615PcmSOnmbd",
    "outputId": "33b2e6f2-2d8c-4ade-81d4-e037438346a2"
   },
   "outputs": [
    {
     "data": {
      "text/plain": [
       "71.99999999999999"
      ]
     },
     "execution_count": 30,
     "metadata": {
      "tags": []
     },
     "output_type": "execute_result"
    }
   ],
   "source": [
    "V2 = (AB[1,-1] - AB[1,-2]*V4 - V3)/AB[1,1]\n",
    "V2"
   ]
  },
  {
   "cell_type": "code",
   "execution_count": 29,
   "metadata": {
    "colab": {
     "base_uri": "https://localhost:8080/",
     "height": 34
    },
    "colab_type": "code",
    "id": "wLONOiEAnv98",
    "outputId": "9a8640a6-d191-49dd-94df-853d79692c1b"
   },
   "outputs": [
    {
     "data": {
      "text/plain": [
       "40.0"
      ]
     },
     "execution_count": 29,
     "metadata": {
      "tags": []
     },
     "output_type": "execute_result"
    }
   ],
   "source": [
    "V1 = (AB[0,-1] - AB[0,-2]*V4 - AB[0,-3]*V2)/AB[0,0]\n",
    "V1"
   ]
  },
  {
   "cell_type": "code",
   "execution_count": 0,
   "metadata": {
    "colab": {},
    "colab_type": "code",
    "id": "jZij4Sj8ofZO"
   },
   "outputs": [],
   "source": []
  }
 ],
 "metadata": {
  "colab": {
   "include_colab_link": true,
   "name": "exemplo_gauss_ingenuo_força_bruta.ipynb",
   "provenance": [],
   "version": "0.3.2"
  },
  "kernelspec": {
   "display_name": "Python 3",
   "language": "python",
   "name": "python3"
  },
  "language_info": {
   "codemirror_mode": {
    "name": "ipython",
    "version": 3
   },
   "file_extension": ".py",
   "mimetype": "text/x-python",
   "name": "python",
   "nbconvert_exporter": "python",
   "pygments_lexer": "ipython3",
   "version": "3.7.2"
  }
 },
 "nbformat": 4,
 "nbformat_minor": 1
}
