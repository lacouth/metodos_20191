{
 "cells": [
  {
   "cell_type": "markdown",
   "metadata": {},
   "source": [
    "# Exercício de Sistemas Lineares\n",
    "\n",
    "Calcular as tensões nos nós do circuito elétrico abaixo:\n",
    "\n",
    "![](circuito.png)\n",
    "\n",
    "## Modelagem matemática\n",
    "\n",
    "Pela lei de _Kirchhoff_, a soma das correntes que passam em cada nó do circuito é nula. Pela lei de _Ohm_ a corrente elétrica que flui do nó _j_ para o nó _k_ de um circuito é \n",
    "\n",
    "$$I_{jk} = \\frac{V_j-V_k}{R_{jk}}$$\n",
    "\n",
    "sendo $V_j$ e $V_k$ as tensões nos nós $j$  e $k$, respectivamente, e $R_{jk}$ a resistência no arco _jk_. A corrente $I$ é expressa em ampères e a resistência $R$, em ohms. As duas leis combinadas permitem o cálculo da tensão em cada nó do circuito.\n",
    "\n",
    "No nó 1, pela lei de _Kirchoff_,\n",
    "\n",
    "$$I_{A1} + I_{21} + I_{31} + I_{41} = 0 $$\n",
    "\n",
    "Utilizando a lei de _Ohm_, \n",
    "\n",
    "$$ \\frac{0-V_1}{1} + \\frac{V_2-V_1}{1} + \\frac{V_3-V_1}{2} + \\frac{V_4-V_1}{2} = 0 $$\n",
    "\n",
    "simplificando:\n",
    "\n",
    "$$ -6V_1 + 2V_2 + V_3 + V_4 = 0$$\n",
    "\n",
    "\n",
    "Determinando as equações dos nós 2, 3 e 4, constrói-se um sistema de equações lineares. O vetor solução fornece a tensão em cada nó do circuito elétrico.\n",
    "\n",
    "Construa o resto do sistema e utilizando um método de resolução numérica encontre as tensões em cada um dos nós.\n"
   ]
  },
  {
   "cell_type": "code",
   "execution_count": null,
   "metadata": {},
   "outputs": [],
   "source": []
  }
 ],
 "metadata": {
  "kernelspec": {
   "display_name": "Python 3",
   "language": "python",
   "name": "python3"
  },
  "language_info": {
   "codemirror_mode": {
    "name": "ipython",
    "version": 3
   },
   "file_extension": ".py",
   "mimetype": "text/x-python",
   "name": "python",
   "nbconvert_exporter": "python",
   "pygments_lexer": "ipython3",
   "version": "3.7.2"
  }
 },
 "nbformat": 4,
 "nbformat_minor": 2
}
