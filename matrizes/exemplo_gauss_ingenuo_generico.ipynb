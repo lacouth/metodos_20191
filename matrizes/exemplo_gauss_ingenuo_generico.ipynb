{
 "cells": [
  {
   "cell_type": "markdown",
   "metadata": {
    "colab_type": "text",
    "id": "view-in-github"
   },
   "source": [
    "<a href=\"https://colab.research.google.com/github/lacouth/metodos_20191/blob/master/matrizes/exemplo_gauss_ingenuo_generico.ipynb\" target=\"_parent\"><img src=\"https://colab.research.google.com/assets/colab-badge.svg\" alt=\"Open In Colab\"/></a>"
   ]
  },
  {
   "cell_type": "code",
   "execution_count": 1,
   "metadata": {
    "colab": {},
    "colab_type": "code",
    "id": "XqDMjb_co5i4"
   },
   "outputs": [],
   "source": [
    "import numpy as np\n",
    "np.set_printoptions(formatter={'float': lambda x: \"{:.4f}\".format(x)})"
   ]
  },
  {
   "cell_type": "code",
   "execution_count": 2,
   "metadata": {
    "colab": {
     "base_uri": "https://localhost:8080/",
     "height": 85
    },
    "colab_type": "code",
    "id": "bJl8MzILo78N",
    "outputId": "b471d0c9-0911-417f-8cfa-5a9076ce85a3"
   },
   "outputs": [
    {
     "data": {
      "text/plain": [
       "array([[-4.0000, 2.0000, 0.0000, 1.0000, -100.0000],\n",
       "       [1.0000, -2.0000, 1.0000, 0.0000, 0.0000],\n",
       "       [0.0000, 2.0000, -3.0000, 1.0000, 0.0000],\n",
       "       [5.0000, 0.0000, 5.0000, -12.0000, 0.0000]])"
      ]
     },
     "execution_count": 2,
     "metadata": {},
     "output_type": "execute_result"
    }
   ],
   "source": [
    "AB = np.array([[-4,2,0,1,-100],[1,-2,1,0,0],[0,2,-3,1,0],[5,0,5,-12,0]],dtype = float)\n",
    "AB"
   ]
  },
  {
   "cell_type": "code",
   "execution_count": 3,
   "metadata": {
    "colab": {},
    "colab_type": "code",
    "id": "sw8gPvUyo-GF"
   },
   "outputs": [],
   "source": [
    "def gauss_ingenuo(AB):\n",
    "  #eliminação\n",
    "  passos = AB.shape[0]-1\n",
    "  for p in range(passos):\n",
    "    pivo = AB[p,p]\n",
    "    for i in range(p+1,AB.shape[0]):\n",
    "      m = AB[i,p]/pivo\n",
    "      AB[i,:] = AB[i,:] - AB[p,:]*m\n",
    "      \n",
    "  #substituicao\n",
    "  x = np.zeros(AB.shape[0])\n",
    "  for i in reversed(range(AB.shape[0])):\n",
    "    x[i] = AB[i,-1]\n",
    "    for j in range(AB.shape[0]):\n",
    "      if( i != j):\n",
    "        x[i]-=x[j]*AB[i,j]\n",
    "      \n",
    "    x[i]/=AB[i,i]\n",
    "    \n",
    "      \n",
    "  return x\n",
    "    "
   ]
  },
  {
   "cell_type": "code",
   "execution_count": 4,
   "metadata": {
    "colab": {
     "base_uri": "https://localhost:8080/",
     "height": 34
    },
    "colab_type": "code",
    "id": "Qf1RIYmoqSPs",
    "outputId": "080f6fbd-7789-445f-f308-9dbff0e92ad8"
   },
   "outputs": [
    {
     "data": {
      "text/plain": [
       "array([76.0000, 72.0000, 68.0000, 60.0000])"
      ]
     },
     "execution_count": 4,
     "metadata": {},
     "output_type": "execute_result"
    }
   ],
   "source": [
    "AB = np.array([[-4,2,0,1,-100],[1,-2,1,0,0],[0,2,-3,1,0],[5,0,5,-12,0]],dtype = float)\n",
    "x = gauss_ingenuo(AB)\n",
    "x"
   ]
  },
  {
   "cell_type": "code",
   "execution_count": 5,
   "metadata": {
    "colab": {
     "base_uri": "https://localhost:8080/",
     "height": 34
    },
    "colab_type": "code",
    "id": "DqsOOkfiqXt9",
    "outputId": "ecf7c0df-9843-4ba3-9522-50f2e1cb478d"
   },
   "outputs": [
    {
     "data": {
      "text/plain": [
       "-99.99999999999997"
      ]
     },
     "execution_count": 5,
     "metadata": {},
     "output_type": "execute_result"
    }
   ],
   "source": [
    "np.dot(AB[0,:-1],x)"
   ]
  },
  {
   "cell_type": "code",
   "execution_count": 0,
   "metadata": {
    "colab": {},
    "colab_type": "code",
    "id": "GW50WBGisaR2"
   },
   "outputs": [],
   "source": []
  }
 ],
 "metadata": {
  "colab": {
   "include_colab_link": true,
   "name": "exemplo_gauss_ingenuo_generico.ipynb",
   "provenance": [],
   "version": "0.3.2"
  },
  "kernelspec": {
   "display_name": "Python 3",
   "language": "python",
   "name": "python3"
  },
  "language_info": {
   "codemirror_mode": {
    "name": "ipython",
    "version": 3
   },
   "file_extension": ".py",
   "mimetype": "text/x-python",
   "name": "python",
   "nbconvert_exporter": "python",
   "pygments_lexer": "ipython3",
   "version": "3.7.2"
  }
 },
 "nbformat": 4,
 "nbformat_minor": 1
}
