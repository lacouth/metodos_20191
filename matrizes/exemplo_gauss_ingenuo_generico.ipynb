{
  "nbformat": 4,
  "nbformat_minor": 0,
  "metadata": {
    "colab": {
      "name": "exemplo_gauss_ingenuo_generico.ipynb",
      "version": "0.3.2",
      "provenance": [],
      "include_colab_link": true
    },
    "kernelspec": {
      "name": "python3",
      "display_name": "Python 3"
    }
  },
  "cells": [
    {
      "cell_type": "markdown",
      "metadata": {
        "id": "view-in-github",
        "colab_type": "text"
      },
      "source": [
        "<a href=\"https://colab.research.google.com/github/lacouth/metodos_20191/blob/master/matrizes/exemplo_gauss_ingenuo_generico.ipynb\" target=\"_parent\"><img src=\"https://colab.research.google.com/assets/colab-badge.svg\" alt=\"Open In Colab\"/></a>"
      ]
    },
    {
      "metadata": {
        "id": "XqDMjb_co5i4",
        "colab_type": "code",
        "colab": {}
      },
      "cell_type": "code",
      "source": [
        "import numpy as np\n",
        "np.set_printoptions(formatter={'float': lambda x: \"{:.4f}\".format(x)})"
      ],
      "execution_count": 0,
      "outputs": []
    },
    {
      "metadata": {
        "id": "bJl8MzILo78N",
        "colab_type": "code",
        "outputId": "b471d0c9-0911-417f-8cfa-5a9076ce85a3",
        "colab": {
          "base_uri": "https://localhost:8080/",
          "height": 85
        }
      },
      "cell_type": "code",
      "source": [
        "AB = np.array([[-4,2,0,1,-100],[1,-2,1,0,0],[0,2,-3,1,0],[5,0,5,-12,0]],dtype = float)\n",
        "AB"
      ],
      "execution_count": 0,
      "outputs": [
        {
          "output_type": "execute_result",
          "data": {
            "text/plain": [
              "array([[-4.0000, 2.0000, 0.0000, 1.0000, -100.0000],\n",
              "       [1.0000, -2.0000, 1.0000, 0.0000, 0.0000],\n",
              "       [0.0000, 2.0000, -3.0000, 1.0000, 0.0000],\n",
              "       [5.0000, 0.0000, 5.0000, -12.0000, 0.0000]])"
            ]
          },
          "metadata": {
            "tags": []
          },
          "execution_count": 2
        }
      ]
    },
    {
      "metadata": {
        "id": "sw8gPvUyo-GF",
        "colab_type": "code",
        "colab": {}
      },
      "cell_type": "code",
      "source": [
        "def gauss_ingenuo(AB):\n",
        "  #eliminação\n",
        "  passos = AB.shape[0]-1\n",
        "  for p in range(passos):\n",
        "    pivo = AB[p,p]\n",
        "    for i in range(p+1,AB.shape[0]):\n",
        "      m = AB[i,p]/pivo\n",
        "      AB[i,:] = AB[i,:] - AB[p,:]*m\n",
        "      \n",
        "  #substituicao\n",
        "  x = np.zeros(AB.shape[0])\n",
        "  for i in reversed(range(AB.shape[0])):\n",
        "    x[i] = AB[i,-1]\n",
        "    for j in range(AB.shape[0]):\n",
        "      if( i != j):\n",
        "        x[i]-=x[j]*AB[i,j]\n",
        "      \n",
        "    x[i]/=AB[i,i]\n",
        "    \n",
        "      \n",
        "  return x\n",
        "    "
      ],
      "execution_count": 0,
      "outputs": []
    },
    {
      "metadata": {
        "id": "Qf1RIYmoqSPs",
        "colab_type": "code",
        "outputId": "080f6fbd-7789-445f-f308-9dbff0e92ad8",
        "colab": {
          "base_uri": "https://localhost:8080/",
          "height": 34
        }
      },
      "cell_type": "code",
      "source": [
        "AB = np.array([[-4,2,0,1,-100],[1,-2,1,0,0],[0,2,-3,1,0],[5,0,5,-12,0]],dtype = float)\n",
        "x = gauss_ingenuo(AB)\n",
        "x"
      ],
      "execution_count": 0,
      "outputs": [
        {
          "output_type": "execute_result",
          "data": {
            "text/plain": [
              "array([76.0000, 72.0000, 68.0000, 60.0000])"
            ]
          },
          "metadata": {
            "tags": []
          },
          "execution_count": 7
        }
      ]
    },
    {
      "metadata": {
        "id": "DqsOOkfiqXt9",
        "colab_type": "code",
        "outputId": "ecf7c0df-9843-4ba3-9522-50f2e1cb478d",
        "colab": {
          "base_uri": "https://localhost:8080/",
          "height": 34
        }
      },
      "cell_type": "code",
      "source": [
        "np.dot(AB[0,:-1],x)"
      ],
      "execution_count": 0,
      "outputs": [
        {
          "output_type": "execute_result",
          "data": {
            "text/plain": [
              "-99.99999999999997"
            ]
          },
          "metadata": {
            "tags": []
          },
          "execution_count": 8
        }
      ]
    },
    {
      "metadata": {
        "id": "GW50WBGisaR2",
        "colab_type": "code",
        "colab": {}
      },
      "cell_type": "code",
      "source": [
        ""
      ],
      "execution_count": 0,
      "outputs": []
    }
  ]
}