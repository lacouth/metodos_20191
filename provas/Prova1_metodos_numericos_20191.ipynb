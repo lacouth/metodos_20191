{
  "nbformat": 4,
  "nbformat_minor": 0,
  "metadata": {
    "colab": {
      "name": "Prova1_metodos_numericos_20191.ipynb",
      "version": "0.3.2",
      "provenance": [],
      "include_colab_link": true
    },
    "kernelspec": {
      "name": "python3",
      "display_name": "Python 3"
    }
  },
  "cells": [
    {
      "cell_type": "markdown",
      "metadata": {
        "id": "view-in-github",
        "colab_type": "text"
      },
      "source": [
        "<a href=\"https://colab.research.google.com/github/lacouth/metodos_20191/blob/master/provas/Prova1_metodos_numericos_20191.ipynb\" target=\"_parent\"><img src=\"https://colab.research.google.com/assets/colab-badge.svg\" alt=\"Open In Colab\"/></a>"
      ]
    },
    {
      "cell_type": "code",
      "metadata": {
        "id": "wiSJKdIx6DkO",
        "colab_type": "code",
        "colab": {}
      },
      "source": [
        "import numpy as np\n",
        "from scipy.linalg import solve_triangular\n",
        "import matplotlib.pyplot as plot\n",
        "np.set_printoptions(formatter={'float': lambda x: \"{:.4f}\".format(x)})"
      ],
      "execution_count": 0,
      "outputs": []
    },
    {
      "cell_type": "code",
      "metadata": {
        "id": "G9ct_LE4JAOe",
        "colab_type": "code",
        "cellView": "form",
        "colab": {}
      },
      "source": [
        "#@title 1ª Prova métodos numéricos 2019.1\n",
        "nome = \"\" #@param {type:\"string\"}\n",
        "matricula = \"\" #@param {type:\"string\"}"
      ],
      "execution_count": 0,
      "outputs": []
    },
    {
      "cell_type": "markdown",
      "metadata": {
        "id": "PKwVPhb8QxDG",
        "colab_type": "text"
      },
      "source": [
        "### Formulário de entrega: https://forms.gle/YQbymZpetepXxaxy9"
      ]
    },
    {
      "cell_type": "code",
      "metadata": {
        "id": "SOolasis5p_7",
        "colab_type": "code",
        "colab": {}
      },
      "source": [
        "print(f'{nome} - {matricula} - 1ª Prova de Métodos Numéricos 2019.1')"
      ],
      "execution_count": 0,
      "outputs": []
    },
    {
      "cell_type": "markdown",
      "metadata": {
        "id": "hauHrPz3Ktxs",
        "colab_type": "text"
      },
      "source": [
        "---\n",
        "#### Bisseção\n",
        "$$  x_{meio} = \\frac{(x_{max}+x_{min})}{2} $$\n",
        "\n",
        "#### Newton - Raphson\n",
        "\n",
        "$$ x_{i+1} = x_i - \\frac{f(x_i)}{f'(x_i)} $$\n",
        "\n",
        "#### Secante\n",
        "\n",
        "$$ x_{i+1} = x_i - \\frac{f(x_i)(x_i-x_{i-1})}{f(x_i)-f(x_{i-1})} $$\n",
        "\n",
        "#### erro de aproximação\n",
        "\n",
        "$$ | \\varepsilon_a | = \\left | \\frac{x^{novo}_r - x^{velho}_r }{x^{novo}_r} \\right| \\times 100% $$\n",
        "\n",
        "---"
      ]
    },
    {
      "cell_type": "markdown",
      "metadata": {
        "id": "l8eCAJ6wLq73",
        "colab_type": "text"
      },
      "source": [
        "# Questões"
      ]
    },
    {
      "cell_type": "markdown",
      "metadata": {
        "id": "5yuqHAJW6mRx",
        "colab_type": "text"
      },
      "source": [
        "### 1. Usando os métodos da bisseção, da secante ou de Newton-Raphson calcular uma raiz das equações abaixo com $\\epsilon_a < 0.0005$ e com no máximo 2000 iterações. Utilize cada método ao menos uma vez. Crie uma célula separada para cada item.\n",
        "\n",
        "a. $f(x) = 5x^3 - 2x^2 + 8x - 10$, $[0 \\leq x \\leq 2]$\n",
        "\n",
        "b. $f(x) = 2x^3 - 5x^2 - sen(x) - 200$, $[1 \\leq x \\leq 4]$\n",
        "\n",
        "c. $f(x) = (x+1)(x-1)(x-3)^5$,$[2 \\leq x \\leq 5]$\n",
        "\n",
        "d. $f(x) = (x+2)^3\\sqrt{x^2 +1}$, $[-3 \\leq x \\leq 0]$"
      ]
    },
    {
      "cell_type": "code",
      "metadata": {
        "id": "shpbRN9a9lt8",
        "colab_type": "code",
        "colab": {}
      },
      "source": [
        ""
      ],
      "execution_count": 0,
      "outputs": []
    },
    {
      "cell_type": "code",
      "metadata": {
        "id": "XmSFld8rKhoU",
        "colab_type": "code",
        "colab": {}
      },
      "source": [
        ""
      ],
      "execution_count": 0,
      "outputs": []
    },
    {
      "cell_type": "code",
      "metadata": {
        "id": "oA_aO-3bKhvg",
        "colab_type": "code",
        "colab": {}
      },
      "source": [
        ""
      ],
      "execution_count": 0,
      "outputs": []
    },
    {
      "cell_type": "code",
      "metadata": {
        "id": "beOoJ-5yKiby",
        "colab_type": "code",
        "colab": {}
      },
      "source": [
        ""
      ],
      "execution_count": 0,
      "outputs": []
    },
    {
      "cell_type": "code",
      "metadata": {
        "id": "_c27SnyRLziH",
        "colab_type": "code",
        "colab": {}
      },
      "source": [
        ""
      ],
      "execution_count": 0,
      "outputs": []
    },
    {
      "cell_type": "code",
      "metadata": {
        "id": "nGi5IsFqLzk4",
        "colab_type": "code",
        "colab": {}
      },
      "source": [
        ""
      ],
      "execution_count": 0,
      "outputs": []
    },
    {
      "cell_type": "markdown",
      "metadata": {
        "id": "5Kwa1-XT-_mx",
        "colab_type": "text"
      },
      "source": [
        "### 2. Dado o sistema abaixo:\n",
        "\n",
        "$$\\begin{bmatrix}\n",
        "10x_1-x_2-2x_3=6\\\\\n",
        "-x_1+11x_2-x_3+3x_4=25\\\\\n",
        "2x_1-x_2+10x_3-x_4=-11\\\\\n",
        "3x_2-x_3+8x_4 = 15\n",
        "\\end{bmatrix}$$\n",
        "\n",
        "a. Verifique se a convergência pode ser garantida através do método de Gauss-Seidel.\n",
        "\n",
        "b. Resolva o sistema utilizando Gauss-Seidel se  a convergência for garantida, caso contrário utilize o método de Gauss com pivotação parcial."
      ]
    },
    {
      "cell_type": "code",
      "metadata": {
        "id": "OvL16c97BkhK",
        "colab_type": "code",
        "colab": {}
      },
      "source": [
        ""
      ],
      "execution_count": 0,
      "outputs": []
    },
    {
      "cell_type": "code",
      "metadata": {
        "id": "SpCRYEk2Kj_E",
        "colab_type": "code",
        "colab": {}
      },
      "source": [
        ""
      ],
      "execution_count": 0,
      "outputs": []
    },
    {
      "cell_type": "code",
      "metadata": {
        "id": "u9vKL8TxKkB5",
        "colab_type": "code",
        "colab": {}
      },
      "source": [
        ""
      ],
      "execution_count": 0,
      "outputs": []
    },
    {
      "cell_type": "code",
      "metadata": {
        "id": "bGD8G45AU-gl",
        "colab_type": "code",
        "colab": {}
      },
      "source": [
        ""
      ],
      "execution_count": 0,
      "outputs": []
    },
    {
      "cell_type": "code",
      "metadata": {
        "id": "BNMZ78CGKkP4",
        "colab_type": "code",
        "colab": {}
      },
      "source": [
        ""
      ],
      "execution_count": 0,
      "outputs": []
    },
    {
      "cell_type": "code",
      "metadata": {
        "id": "C_lkv92qKlj2",
        "colab_type": "code",
        "colab": {}
      },
      "source": [
        ""
      ],
      "execution_count": 0,
      "outputs": []
    },
    {
      "cell_type": "markdown",
      "metadata": {
        "id": "bkVT21BVBpwZ",
        "colab_type": "text"
      },
      "source": [
        "### 3. Considere a matriz de coeficientes abaixo:\n",
        "\n",
        "$$[A] = \\begin{bmatrix}\n",
        "3 & 2 & 6 & 12\\\\\n",
        "2 & 6 & -4 & 5\\\\\n",
        "-8 & 2 & 5 & 9\\\\\n",
        "7 & 11 & 2 & 13\n",
        "\\end{bmatrix}$$\n",
        "\n",
        "sendo a matriz parte de um sistema $[A][X] = [B]$ determine as soluções para:\n",
        "\n",
        "$$[B] = \\begin{bmatrix}\n",
        "-20\\\\\n",
        "25\\\\\n",
        "-2\\\\\n",
        "8\n",
        "\\end{bmatrix}$$\n",
        "\n",
        "e\n",
        "\n",
        "$$[B] = \\begin{bmatrix}\n",
        "0\\\\\n",
        "1\\\\\n",
        "0\\\\\n",
        "1\n",
        "\\end{bmatrix}$$.\n",
        "\n",
        "Justifique a escolha do método utilizado para obter as soluções"
      ]
    },
    {
      "cell_type": "markdown",
      "metadata": {
        "id": "thlOCbdWSA3e",
        "colab_type": "text"
      },
      "source": [
        "### Justificativa:\n",
        "\n"
      ]
    },
    {
      "cell_type": "code",
      "metadata": {
        "id": "TTC8eSw_KeIF",
        "colab_type": "code",
        "colab": {}
      },
      "source": [
        ""
      ],
      "execution_count": 0,
      "outputs": []
    },
    {
      "cell_type": "code",
      "metadata": {
        "id": "wXzVBmrtKmwm",
        "colab_type": "code",
        "colab": {}
      },
      "source": [
        ""
      ],
      "execution_count": 0,
      "outputs": []
    },
    {
      "cell_type": "code",
      "metadata": {
        "id": "htsibBelKmzR",
        "colab_type": "code",
        "colab": {}
      },
      "source": [
        ""
      ],
      "execution_count": 0,
      "outputs": []
    },
    {
      "cell_type": "code",
      "metadata": {
        "id": "_7UnoxUuKm16",
        "colab_type": "code",
        "colab": {}
      },
      "source": [
        ""
      ],
      "execution_count": 0,
      "outputs": []
    },
    {
      "cell_type": "code",
      "metadata": {
        "id": "knN6ZQ9iL7LA",
        "colab_type": "code",
        "colab": {}
      },
      "source": [
        ""
      ],
      "execution_count": 0,
      "outputs": []
    }
  ]
}