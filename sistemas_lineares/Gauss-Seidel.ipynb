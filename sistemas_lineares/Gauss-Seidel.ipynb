{
 "cells": [
  {
   "cell_type": "markdown",
   "metadata": {},
   "source": [
    "[![Binder](https://mybinder.org/badge_logo.svg)](https://mybinder.org/v2/gh/lacouth/metodos_numericos/master)"
   ]
  },
  {
   "cell_type": "code",
   "execution_count": null,
   "metadata": {
    "graffitiCellId": "id_2d3ukz6"
   },
   "outputs": [],
   "source": [
    "# NO CANTO SUPERIOR CLICK EM \"NOT TRUSTED\" PARA HABILITAR O JAVASCRIPT DO NOTEBOOK\n",
    "\n",
    "import jupytergraffiti #NÃO EXECUTAR ESSA CÉLULA NO GOOGLE COLAB"
   ]
  },
  {
   "cell_type": "markdown",
   "metadata": {
    "graffitiCellId": "id_8myykd9"
   },
   "source": [
    "# <span class=\"graffiti-highlight graffiti-id_8myykd9-id_3cbvdgm\"><i></i>Método de Gauss-Seidel para solução de sistemas de equações</span>\n",
    "\n",
    "O _método de Gauss-Seidel_ é o método iterativo mais frequentemente usado para resolução de sistemas de equações. Considere que tenhamos um conjunto de $n$ equações:\n",
    "\n",
    "$$[A][X] = [B]$$\n",
    "\n",
    "e que, para sermos concisos, nos limitemos a um conjunto de $3 \\times 3$ equações.\n",
    "\n",
    "$$\\begin{bmatrix}\n",
    "a_{11} & a_{12} & a_{13}\\\\\n",
    "a_{21} & a_{22} & a_{23}\\\\\n",
    "a_{31} & a_{32} & a_{33}\\\\\n",
    "\\end{bmatrix}\n",
    "\\begin{bmatrix}\n",
    "x_{1}\\\\\n",
    "x_{2}\\\\\n",
    "x_{3}\n",
    "\\end{bmatrix}\n",
    "=\n",
    "\\begin{bmatrix}\n",
    "b_{1}\\\\\n",
    "b_{2}\\\\\n",
    "b_{3}\n",
    "\\end{bmatrix}$$\n",
    "\n",
    "Se os elementos da diagonal forem todos não nulos, é possível isolar $x_1$ na primeira equação, $x_2$ na segunda equação e $x_3$ na terceira para obter:\n",
    "\n",
    "$$x^n_1 = \\frac{b_1 - a_{12}x_2^{n-1} - a_{13}x_3^{n-1}}{a_{11}}$$\n",
    "\n",
    "$$x^n_2 = \\frac{b_2 - a_{21}x_1^{n} - a_{23}x_3^{n-1}}{a_{22}}$$\n",
    "\n",
    "$$x^n_3 = \\frac{b_3 - a_{31}x_1^{n} - a_{32}x_2^{n}}{a_{33}}$$\n",
    "\n",
    "onde $n$ e $n-1$ representam a iteração atual e a anterior.\n",
    "\n",
    "De maneira geral podemos reescrever as equações como:\n",
    "\n",
    "$$ x^n_i = \\frac{b_i - \\sum\\limits_{\\substack{j=1 \\\\ j\\neq i }}^n a_{ij}x_j}{a_{ii}} $$\n",
    "\n",
    "Para iniciar o processo de resolução, devem ser feitas aproximações iniciais para os valores de $x$. Uma forma simples de obtê-las é supor que são todas nulas. Esses zeros podem ser substituídos na equação de $x_1$, usada para calcular um novo valor para $x_1 = b_1/a_{11}$ e substitui-se este valor de $x_1$ junto com a aproximação anterior nula para $x_3$, para obter um novo valor para $x_2$. O processo é repetido para a terceira equação, para se estimar o valor de $x_3$. Então volta-se para a primeira equação e o procedimento inteiro é repetido até que a solução convirja. A convergência é verificada usando-se o critério de que para todo $i$: \n",
    "\n",
    "$$\\epsilon_{a,i} = \\left|\\frac{x_i^j - x_i^{j-1}}{x_i^j}\\right| \\times 100\\% \\leq \\epsilon_s $$\n"
   ]
  },
  {
   "cell_type": "markdown",
   "metadata": {
    "graffitiCellId": "id_hfz9ssd"
   },
   "source": [
    "## Gauss-Seidel: Exemplo #1\n",
    "\n",
    "Use o método de Gauss-Seidel para obter a solução para\n",
    "\n",
    "$$3x_1 - 0.1x_2 - 0.2x_3 = 7.85$$\n",
    "$$0.1x_1 + 7x_2 - 0.3x_3 = -19.3$$\n",
    "$$0.3x_1 - 0.2x_2 + 10x_3 = 71.4$$\n",
    "\n",
    "Observe que a solução é $x_1 = 3$, $x_2 = -2.5$ e $x_3 = 7$\n",
    "\n",
    "**Solução**\n",
    "\n",
    "Em cada uma das equações, isole a variável na diagonal:\n",
    "\n",
    "$$x_1 = \\frac{7.85 + 0.1x_2 + 0.2x_3}{3} $$\n",
    "\n",
    "$$x_2 = \\frac{19.3 - 0.1x_1 + 0.3x_3}{7} $$\n",
    "\n",
    "$$x_3 = \\frac{71.4 - 0.3x_1 + 0.2x_2}{10} $$\n",
    "\n",
    "Considerando que $x_2$ e $x_3$ são iguais a zero, a primeira equação pode ser usada para calcular\n",
    "\n",
    "$$x_1 = \\frac{7.85 + 0.1(0) + 0.2(0)}{3} = 2.616667 $$\n",
    "\n",
    "Esse valor, junto com o valor suposto de $x_3 = 0$, pode ser substituído na equação de $x_2$ para calcular\n",
    "\n",
    "$$x_2 = \\frac{19.3 - 0.1(2.616667) + 0.3(0)}{7} = -2.794524 $$\n",
    "\n",
    "A primeira iteração é completada substituindo-se os valores calculados para $x_1$ e $x_2$ para obter\n",
    "\n",
    "$$x_3 = \\frac{71.4 - 0.3(2.616667) + 0.2(-2.794524)}{10} = 7.005610 $$\n",
    "\n",
    "Para a segunda iteração, o mesmo processo é repetido para calcular\n",
    "\n",
    "$$x_1 = \\frac{7.85 + 0.1(-2.794524) + 0.2(7.005610)}{3} = 2.990557 $$\n",
    "\n",
    "$$x_2 = \\frac{19.3 - 0.1(2.990557) + 0.3(7.005610)}{7} = -2.499625 $$\n",
    "\n",
    "$$x_3 = \\frac{71.4 - 0.3(2.990557) + 0.2(-2.499625)}{10} = 7.000291 $$\n",
    "\n",
    "O método está, portanto, convergindo para a verdadeira solução. Iterações adicionais podem ser aplicadas para melhorar a resposta; porém, em um problema real, a resposta verdadeira não seria conheciada _a priori_. Consequentemente, devemos estimar o erro. Por exemplo, para $x_1$:\n",
    "\n",
    "$$\\epsilon_{a,1} = \\left|\\frac{2.990557 - 2.616667}{2.990557}\\right| \\times 100\\% = 12.5\\% $$\n",
    "\n",
    "Para $x_2$ e $x_3$, as estimativas de erro são $\\epsilon_{a,2} = 11.8\\%$ e $\\epsilon_{a,3} = 0.0076\\%$. Quando todas as estimativas são satisfeitas, é garantido que o resultado é conhecido pelo menos dentro da tolerância especificada por $\\epsilon_s$\n"
   ]
  },
  {
   "cell_type": "markdown",
   "metadata": {
    "graffitiCellId": "id_7ks3f6t"
   },
   "source": [
    "## <span class=\"graffiti-highlight graffiti-id_7ks3f6t-id_tniz5i0\"><i></i>Convergência e dominância da diagonal</span>\n",
    "\n",
    "Observe que o método de Gauss-Seidel é similar as técnicas iterativas para encontrar raízes de uma única equação. Lembre-se de que essas técnicas às vezes eram não convergentes; isto é, à medida que as iterações avançavam, a resposta movia-se para longe do resultado correto.\n",
    "\n",
    "Embora o método de Gauss-Seidel também possa divergir, como ele é projetado para sistemas lineares, sua capacidade para convergir é muito mais previsível. Pode-se mostrar que se a condição a seguir é satisfeita, o método de Gauss-Seidel irá convergir:\n",
    "\n",
    "$$ |a_{ii} | > \\sum\\limits_{\\substack{j=1 \\\\ j\\neq i }}^n |a_{ij}| $$\n",
    "\n",
    "Isto é, o valor absoluto do coeficiente da diagonal em cada equação deve ser maior que a soma dos valores absolutos dos outros coeficientes na equação. Tais sistemas são chamados _diagonal dominantes_. Esse critério é suficiente, mas não necessário para a convergência, ou seja, embora o método possa às vezes funcionar se a condição não for satisfeita, a convergência é garantida se essa condição for satisfeira.\n",
    "\n",
    "Felizmente, muitos problemas de importância prática satisfazem tal exigência.\n"
   ]
  },
  {
   "cell_type": "markdown",
   "metadata": {
    "graffitiCellId": "id_3byltok"
   },
   "source": [
    "# <span class=\"graffiti-highlight graffiti-id_3byltok-id_6e7jf36\"><i></i>Gauss - Seidel: Implementação #1</span>"
   ]
  },
  {
   "cell_type": "markdown",
   "metadata": {
    "graffitiCellId": "id_urrog8y"
   },
   "source": [
    "1. Encontre a solução para o sistema abaixo utilizando o método de Gauss-Seidel, para um máximo de 100 iterações ou para o erro de aproximação $\\epsilon_a < 0.0001$:\n",
    "\n",
    "    $$12x_1 + 3x_2 - 5x_3 = 1 $$\n",
    "    \n",
    "    $$x_1 + 5x_2 + 3x_3 = 28 $$\n",
    "    \n",
    "    $$3x_1 + 7x_2 + 13x_3 = 76 $$"
   ]
  },
  {
   "cell_type": "code",
   "execution_count": null,
   "metadata": {
    "graffitiCellId": "id_jdwv7nw"
   },
   "outputs": [],
   "source": [
    "import numpy as np"
   ]
  },
  {
   "cell_type": "code",
   "execution_count": null,
   "metadata": {
    "graffitiCellId": "id_4b1ypz4"
   },
   "outputs": [],
   "source": []
  },
  {
   "cell_type": "markdown",
   "metadata": {
    "graffitiCellId": "id_h7k9n7o"
   },
   "source": [
    "# <span class=\"graffiti-highlight graffiti-id_h7k9n7o-id_fjyuu1m\"><i></i>Gauss - Seidel: Implementação #2</span>"
   ]
  },
  {
   "cell_type": "markdown",
   "metadata": {
    "graffitiCellId": "id_urrog8y"
   },
   "source": [
    "1. Encontre a solução para o sistema abaixo utilizando o método de Gauss-Seidel, para um máximo de 100 iterações ou para o erro de aproximação $\\epsilon_a < 0.0001$:\n",
    "\n",
    "    $$12x_1 + 3x_2 - 5x_3 = 1 $$\n",
    "    \n",
    "    $$x_1 + 5x_2 + 3x_3 = 28 $$\n",
    "    \n",
    "    $$3x_1 + 7x_2 + 13x_3 = 76 $$"
   ]
  },
  {
   "cell_type": "code",
   "execution_count": null,
   "metadata": {
    "graffitiCellId": "id_u33wra9"
   },
   "outputs": [],
   "source": []
  }
 ],
 "metadata": {
  "graffiti": {
   "firstAuthorId": "dev",
   "id": "id_4lwv4s2",
   "language": "EN"
  },
  "kernelspec": {
   "display_name": "Python 3",
   "language": "python",
   "name": "python3"
  },
  "language_info": {
   "codemirror_mode": {
    "name": "ipython",
    "version": 3
   },
   "file_extension": ".py",
   "mimetype": "text/x-python",
   "name": "python",
   "nbconvert_exporter": "python",
   "pygments_lexer": "ipython3",
   "version": "3.7.4"
  }
 },
 "nbformat": 4,
 "nbformat_minor": 2
}
