{
 "cells": [
  {
   "cell_type": "markdown",
   "metadata": {},
   "source": [
    "# Resolução de Sistemas Lineares"
   ]
  },
  {
   "cell_type": "markdown",
   "metadata": {},
   "source": [
    "## Pivotação parcial\n",
    "\n",
    "A principal razão para que o método anterior seja chamado de \"ingênuo\" é que durante tanto a fase de eliminação quanto a de substituição, é possível que ocorra uma divisão por zero. Por exemplo, se utilizarmos a eliminação de Gauss para resolver o seguinte sistema:\n",
    "\n",
    "$$25x_2 + 3x_3 = 8$$\n",
    "$$4x_1 + 6x_2 + 7x_3 = -3$$\n",
    "$$2x_1 + 3x_2 + 6x_3 = 5$$\n",
    "\n",
    "o primeiro passo da eliminação involve a divisão pelo elemento $a_{11} = 0$. Outros problemas podem ocorrer quando o elemento pivô é próximo mas não exatamente zero, pois se a magnitude do pivô é pequena comparada com outros elementos, logo erros de arredondamento podem ser introduzidos no processo.\n",
    "\n",
    "Por isso, antes da escolha de cada pivô, é importante determinar o coeficiente com o maior valor **absoluto** na coluna abaixo do pivô. As linhas podem então ser trocadas de forma que o maior elemento se torne o pivô. Essa técnica é conhecida como **pivotação parcial**.\n",
    "\n",
    "É possível a cada passo da eliminação buscar o maior elemento em **módulo** de toda a matriz para que ele seja o próximo pivô, essa técnica é conhecida como **pivotação completa**. Esse tipo de pivotação é raramente utilizada uma vez que os maiores benefícios são obtidos pela pivotação parcial. E se considerar que trocar colunas na matriz implica na ordem dos $x's$ e , consequentemente, adiciona uma maior e injustificada complexidade a implementação computacional do método.\n",
    "\n",
    "### Exemplo\n",
    "\n",
    "Utilizando a eliminação de Gauss encontre a solução do sistema:\n",
    "\n",
    "$$0.0003x_1 + 3.0000x_2 = 2.0001$$\n",
    "$$1.0000x_1 + 1.0000x_2 = 1.0000$$\n",
    "\n",
    "Note que o primeiro pivô, $a_{11}=0.0003$, é muito próximo de zero. As soluções exatas são $x_1 = 1/3$ e $x_2 = 2/3$.\n",
    "\n",
    "**Solução**\n",
    "\n",
    "Multiplicando a primeira equação por $1/(0.0003)$ leva a:\n",
    "\n",
    "$$x_1 + 10000x_2 = 6667$$\n",
    "\n",
    "que pode ser usada para eliminar $x_1$ da segunda equação obtendo:\n",
    "\n",
    "$$-9999x_2 = -6666$$\n",
    "\n",
    "resultado em $x_2 = 2/3$ que substituido na primeira equação resulta em $x_1$:\n",
    "\n",
    "$$x_1 = \\frac{2.0001 - 3(2/3)}{0.0003}$$\n",
    "\n",
    "Note como a solução para $x_1$ é altamente dependente do número de digitos significativos. Isso ocorre pois estamos subtraindo dois valores quase idênticos $2.0001 - 2$.\n",
    "\n",
    "Dígitos | $x_2$ | $x_1$ | Erro real %\n",
    "--------|-------|--------|----------\n",
    "3|0.667|-3.333| 1099\n",
    "4|0.6667|0.0000|100\n",
    "5|0.66667|0.3000|10\n",
    "6|0.666667|0.330000|1\n",
    "7|0.6666667|0.33300000|0.1\n",
    "\n",
    "Se as equações forem invertidas como na pivotação parcial teremos o seguinte sistema:\n",
    "\n",
    "$$1.0000x_1 + 1.0000x_2 = 1.0000$$\n",
    "$$0.0003x_1 + 3.0000x_2 = 2.0001$$\n",
    "\n",
    "A eliminação e a substiuição novamente obtem $x_2 = 2/3$, mas a solução de $x_1$ passa a ser:\n",
    "\n",
    "$$x_1 = \\frac{1-(2/3)}{1}$$\n",
    "\n",
    "que nesse caso é menos sensível ao número de dígitos no cálculo:\n",
    "\n",
    "\n",
    "Dígitos | $x_2$ | $x_1$ | Erro real %\n",
    "--------|-------|--------|----------\n",
    "3|0.667|0.333| 0.1\n",
    "4|0.6667|0.3333|0.01\n",
    "5|0.66667|0.33333|0.001\n",
    "6|0.666667|0.333333|0.0001\n",
    "7|0.6666667|0.33333333|0.00001\n",
    "\n",
    "Logo a estratégia da pivotação é muito mais interessante e leva a resultados mais precisos.\n",
    "\n"
   ]
  },
  {
   "cell_type": "markdown",
   "metadata": {},
   "source": [
    "# Implementação em python\n",
    "\n",
    "A implementação desse método exige apenas uma pequena modificação no método de Gauss ingênuo, que é a descoberta do elemento de maior valor absoluto em uma coluna. Dentro do numpy temos o método `argmax` que retorna o indíce com **maior** valor de um array, temos também o `abs` que retorna o módulo de um valor "
   ]
  },
  {
   "cell_type": "code",
   "execution_count": 6,
   "metadata": {},
   "outputs": [
    {
     "data": {
      "text/plain": [
       "array([[ 1,  2,  3,  4],\n",
       "       [ 5,  6,  7,  8],\n",
       "       [ 9, 10, 11, 12],\n",
       "       [13, 14, 15, 16]])"
      ]
     },
     "execution_count": 6,
     "metadata": {},
     "output_type": "execute_result"
    }
   ],
   "source": [
    "import numpy as np\n",
    "M = np.array([[1,2,3,4],[5,6,7,8],[9,10,11,12],[13,14,15,16]])\n",
    "M"
   ]
  },
  {
   "cell_type": "markdown",
   "metadata": {},
   "source": [
    "### Qual o indíce maior valor absoluto da linha 0?"
   ]
  },
  {
   "cell_type": "code",
   "execution_count": 7,
   "metadata": {},
   "outputs": [
    {
     "data": {
      "text/plain": [
       "3"
      ]
     },
     "execution_count": 7,
     "metadata": {},
     "output_type": "execute_result"
    }
   ],
   "source": [
    "np.argmax(np.abs(M[0,:]))"
   ]
  },
  {
   "cell_type": "markdown",
   "metadata": {},
   "source": [
    "### Qual o indíce maior valor absoluto da coluna 0?"
   ]
  },
  {
   "cell_type": "code",
   "execution_count": 8,
   "metadata": {},
   "outputs": [
    {
     "data": {
      "text/plain": [
       "3"
      ]
     },
     "execution_count": 8,
     "metadata": {},
     "output_type": "execute_result"
    }
   ],
   "source": [
    "np.argmax(np.abs(M[:,0]))"
   ]
  },
  {
   "cell_type": "markdown",
   "metadata": {},
   "source": [
    "### Como trocar as linhas 0 e 3 de posição dentro da matriz"
   ]
  },
  {
   "cell_type": "code",
   "execution_count": 9,
   "metadata": {},
   "outputs": [
    {
     "data": {
      "text/plain": [
       "array([[13, 14, 15, 16],\n",
       "       [ 5,  6,  7,  8],\n",
       "       [ 9, 10, 11, 12],\n",
       "       [ 1,  2,  3,  4]])"
      ]
     },
     "execution_count": 9,
     "metadata": {},
     "output_type": "execute_result"
    }
   ],
   "source": [
    "M[[0,3]]= M[[3,0]]\n",
    "M"
   ]
  },
  {
   "cell_type": "code",
   "execution_count": null,
   "metadata": {},
   "outputs": [],
   "source": []
  },
  {
   "cell_type": "markdown",
   "metadata": {},
   "source": [
    "# Exercício\n",
    "\n",
    "1. Crie uma função que receba uma matriz estendida [AB] e retorne uma matriz triangular superior, utilizando a pivotação parcial\n",
    "\n",
    "2. Crie uma função que receba uma matriz triangular superior estendida e retorne um vetor solução."
   ]
  },
  {
   "cell_type": "code",
   "execution_count": null,
   "metadata": {},
   "outputs": [],
   "source": []
  }
 ],
 "metadata": {
  "kernelspec": {
   "display_name": "Python 3",
   "language": "python",
   "name": "python3"
  },
  "language_info": {
   "codemirror_mode": {
    "name": "ipython",
    "version": 3
   },
   "file_extension": ".py",
   "mimetype": "text/x-python",
   "name": "python",
   "nbconvert_exporter": "python",
   "pygments_lexer": "ipython3",
   "version": "3.7.4"
  }
 },
 "nbformat": 4,
 "nbformat_minor": 2
}
