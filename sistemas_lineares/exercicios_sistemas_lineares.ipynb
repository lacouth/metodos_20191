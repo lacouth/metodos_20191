{
  "nbformat": 4,
  "nbformat_minor": 0,
  "metadata": {
    "kernelspec": {
      "display_name": "Python 3",
      "language": "python",
      "name": "python3"
    },
    "language_info": {
      "codemirror_mode": {
        "name": "ipython",
        "version": 3
      },
      "file_extension": ".py",
      "mimetype": "text/x-python",
      "name": "python",
      "nbconvert_exporter": "python",
      "pygments_lexer": "ipython3",
      "version": "3.7.4"
    },
    "colab": {
      "name": "exercicios_sistemas_lineares.ipynb",
      "provenance": [],
      "include_colab_link": true
    }
  },
  "cells": [
    {
      "cell_type": "markdown",
      "metadata": {
        "id": "view-in-github",
        "colab_type": "text"
      },
      "source": [
        "<a href=\"https://colab.research.google.com/github/lacouth/metodos_numericos/blob/master/sistemas_lineares/exercicios_sistemas_lineares.ipynb\" target=\"_parent\"><img src=\"https://colab.research.google.com/assets/colab-badge.svg\" alt=\"Open In Colab\"/></a>"
      ]
    },
    {
      "cell_type": "markdown",
      "metadata": {
        "id": "RmEtHuIZ8EUd",
        "colab_type": "text"
      },
      "source": [
        "# Sistemas Lineares - Exercícios"
      ]
    },
    {
      "cell_type": "code",
      "metadata": {
        "id": "DoH5eWb48EUg",
        "colab_type": "code",
        "colab": {}
      },
      "source": [
        "import numpy as np\n",
        "np.set_printoptions(formatter={'float': lambda x: \"{:.4f}\".format(x)}) # configura a impressão dos floats"
      ],
      "execution_count": 0,
      "outputs": []
    },
    {
      "cell_type": "markdown",
      "metadata": {
        "id": "TtN-vS9H8EUj",
        "colab_type": "text"
      },
      "source": [
        "## Dicas Numpy\n",
        "\n",
        "### Criar um matriz"
      ]
    },
    {
      "cell_type": "code",
      "metadata": {
        "id": "b7d2qvph8EUk",
        "colab_type": "code",
        "colab": {},
        "outputId": "cf7d08be-8b69-4214-848d-998bf33ae9bc"
      },
      "source": [
        "M = np.array([[1,2,3,4],[5,6,7,8],[9,10,11,12],[13,14,15,16]], dtype=float)\n",
        "M"
      ],
      "execution_count": 0,
      "outputs": [
        {
          "output_type": "execute_result",
          "data": {
            "text/plain": [
              "array([[1.0000, 2.0000, 3.0000, 4.0000],\n",
              "       [5.0000, 6.0000, 7.0000, 8.0000],\n",
              "       [9.0000, 10.0000, 11.0000, 12.0000],\n",
              "       [13.0000, 14.0000, 15.0000, 16.0000]])"
            ]
          },
          "metadata": {
            "tags": []
          },
          "execution_count": 2
        }
      ]
    },
    {
      "cell_type": "markdown",
      "metadata": {
        "id": "AzOerPCM8EUo",
        "colab_type": "text"
      },
      "source": [
        "### Selecionar apenas uma linha"
      ]
    },
    {
      "cell_type": "code",
      "metadata": {
        "id": "5d2ozLLN8EUp",
        "colab_type": "code",
        "colab": {},
        "outputId": "93762974-fe2f-4cb6-a019-e8e6998633ac"
      },
      "source": [
        "M[1]"
      ],
      "execution_count": 0,
      "outputs": [
        {
          "output_type": "execute_result",
          "data": {
            "text/plain": [
              "array([5.0000, 6.0000, 7.0000, 8.0000])"
            ]
          },
          "metadata": {
            "tags": []
          },
          "execution_count": 3
        }
      ]
    },
    {
      "cell_type": "markdown",
      "metadata": {
        "id": "x8Jth2x58EUr",
        "colab_type": "text"
      },
      "source": [
        "### Selecionar apenas uma coluna"
      ]
    },
    {
      "cell_type": "code",
      "metadata": {
        "id": "4sWnWIVP8EUs",
        "colab_type": "code",
        "colab": {},
        "outputId": "b398f316-b0c4-4562-c947-be299c8948fa"
      },
      "source": [
        "M[:,1]"
      ],
      "execution_count": 0,
      "outputs": [
        {
          "output_type": "execute_result",
          "data": {
            "text/plain": [
              "array([2.0000, 6.0000, 10.0000, 14.0000])"
            ]
          },
          "metadata": {
            "tags": []
          },
          "execution_count": 4
        }
      ]
    },
    {
      "cell_type": "markdown",
      "metadata": {
        "id": "MnG_wJJq8EUu",
        "colab_type": "text"
      },
      "source": [
        "### Selecionar a última linha ou coluna"
      ]
    },
    {
      "cell_type": "code",
      "metadata": {
        "id": "BdMu0kTZ8EUu",
        "colab_type": "code",
        "colab": {},
        "outputId": "a327e8ae-2a8e-47dd-bd26-8d5ea61b550a"
      },
      "source": [
        "M[-1]"
      ],
      "execution_count": 0,
      "outputs": [
        {
          "output_type": "execute_result",
          "data": {
            "text/plain": [
              "array([13.0000, 14.0000, 15.0000, 16.0000])"
            ]
          },
          "metadata": {
            "tags": []
          },
          "execution_count": 5
        }
      ]
    },
    {
      "cell_type": "code",
      "metadata": {
        "id": "g0J1dS2K8EUw",
        "colab_type": "code",
        "colab": {},
        "outputId": "b955defb-d575-49f4-a7b7-3a7a1bef9cfe"
      },
      "source": [
        "M[:,-1]"
      ],
      "execution_count": 0,
      "outputs": [
        {
          "output_type": "execute_result",
          "data": {
            "text/plain": [
              "array([4.0000, 8.0000, 12.0000, 16.0000])"
            ]
          },
          "metadata": {
            "tags": []
          },
          "execution_count": 6
        }
      ]
    },
    {
      "cell_type": "markdown",
      "metadata": {
        "id": "LcSlDdHN8EUy",
        "colab_type": "text"
      },
      "source": [
        "### Selecionar um trecho de uma linha ou coluna"
      ]
    },
    {
      "cell_type": "code",
      "metadata": {
        "id": "A3tH4-Ew8EUz",
        "colab_type": "code",
        "colab": {},
        "outputId": "e2086bca-659a-4f7b-966c-ad2ecf44f944"
      },
      "source": [
        "M"
      ],
      "execution_count": 0,
      "outputs": [
        {
          "output_type": "execute_result",
          "data": {
            "text/plain": [
              "array([[1.0000, 2.0000, 3.0000, 4.0000],\n",
              "       [5.0000, 6.0000, 7.0000, 8.0000],\n",
              "       [9.0000, 10.0000, 11.0000, 12.0000],\n",
              "       [13.0000, 14.0000, 15.0000, 16.0000]])"
            ]
          },
          "metadata": {
            "tags": []
          },
          "execution_count": 7
        }
      ]
    },
    {
      "cell_type": "code",
      "metadata": {
        "id": "rQVGq9MI8EU1",
        "colab_type": "code",
        "colab": {},
        "outputId": "bed752f4-e977-4404-d1a4-ac856222605b"
      },
      "source": [
        "M[1,1:3]"
      ],
      "execution_count": 0,
      "outputs": [
        {
          "output_type": "execute_result",
          "data": {
            "text/plain": [
              "array([6.0000, 7.0000])"
            ]
          },
          "metadata": {
            "tags": []
          },
          "execution_count": 8
        }
      ]
    },
    {
      "cell_type": "code",
      "metadata": {
        "id": "MRvh8pVp8EU3",
        "colab_type": "code",
        "colab": {},
        "outputId": "52ab848c-9dcf-4fec-95e2-4095912ab0c0"
      },
      "source": [
        "M[1:3,1]"
      ],
      "execution_count": 0,
      "outputs": [
        {
          "output_type": "execute_result",
          "data": {
            "text/plain": [
              "array([6.0000, 10.0000])"
            ]
          },
          "metadata": {
            "tags": []
          },
          "execution_count": 9
        }
      ]
    },
    {
      "cell_type": "markdown",
      "metadata": {
        "id": "1Vj6ODBL8EU5",
        "colab_type": "text"
      },
      "source": [
        "### Multiplicar uma linha por uma constante"
      ]
    },
    {
      "cell_type": "code",
      "metadata": {
        "id": "9P0DkV2b8EU5",
        "colab_type": "code",
        "colab": {},
        "outputId": "fd7bceb7-8a23-4449-c6b8-ad5d580fe223"
      },
      "source": [
        "M"
      ],
      "execution_count": 0,
      "outputs": [
        {
          "output_type": "execute_result",
          "data": {
            "text/plain": [
              "array([[1.0000, 2.0000, 3.0000, 4.0000],\n",
              "       [5.0000, 6.0000, 7.0000, 8.0000],\n",
              "       [9.0000, 10.0000, 11.0000, 12.0000],\n",
              "       [13.0000, 14.0000, 15.0000, 16.0000]])"
            ]
          },
          "metadata": {
            "tags": []
          },
          "execution_count": 10
        }
      ]
    },
    {
      "cell_type": "code",
      "metadata": {
        "id": "TqMkXiel8EU7",
        "colab_type": "code",
        "colab": {},
        "outputId": "f218bf48-4e7f-43e4-8765-1140252d2b21"
      },
      "source": [
        "l = M[0]*2\n",
        "l"
      ],
      "execution_count": 0,
      "outputs": [
        {
          "output_type": "execute_result",
          "data": {
            "text/plain": [
              "array([2.0000, 4.0000, 6.0000, 8.0000])"
            ]
          },
          "metadata": {
            "tags": []
          },
          "execution_count": 11
        }
      ]
    },
    {
      "cell_type": "code",
      "metadata": {
        "id": "aVoMRCTU8EU-",
        "colab_type": "code",
        "colab": {},
        "outputId": "caaf3cdc-5267-4c74-860c-ddfcbf0d19a7"
      },
      "source": [
        "c = M[:,0]*2\n",
        "c"
      ],
      "execution_count": 0,
      "outputs": [
        {
          "output_type": "execute_result",
          "data": {
            "text/plain": [
              "array([2.0000, 10.0000, 18.0000, 26.0000])"
            ]
          },
          "metadata": {
            "tags": []
          },
          "execution_count": 12
        }
      ]
    },
    {
      "cell_type": "markdown",
      "metadata": {
        "id": "hEh6tzKT8EVA",
        "colab_type": "text"
      },
      "source": [
        "### Subtrair um linha pela outra"
      ]
    },
    {
      "cell_type": "code",
      "metadata": {
        "id": "uG9saM5D8EVA",
        "colab_type": "code",
        "colab": {},
        "outputId": "9b385a02-2e95-4482-d7be-6e42d6ab316d"
      },
      "source": [
        "M"
      ],
      "execution_count": 0,
      "outputs": [
        {
          "output_type": "execute_result",
          "data": {
            "text/plain": [
              "array([[1.0000, 2.0000, 3.0000, 4.0000],\n",
              "       [5.0000, 6.0000, 7.0000, 8.0000],\n",
              "       [9.0000, 10.0000, 11.0000, 12.0000],\n",
              "       [13.0000, 14.0000, 15.0000, 16.0000]])"
            ]
          },
          "metadata": {
            "tags": []
          },
          "execution_count": 13
        }
      ]
    },
    {
      "cell_type": "code",
      "metadata": {
        "id": "eWCudM8j8EVC",
        "colab_type": "code",
        "colab": {},
        "outputId": "41abbc84-e3f2-40d2-ea9e-ff045eee51d4"
      },
      "source": [
        "linha = M[2]-M[1]\n",
        "linha"
      ],
      "execution_count": 0,
      "outputs": [
        {
          "output_type": "execute_result",
          "data": {
            "text/plain": [
              "array([4.0000, 4.0000, 4.0000, 4.0000])"
            ]
          },
          "metadata": {
            "tags": []
          },
          "execution_count": 14
        }
      ]
    },
    {
      "cell_type": "code",
      "metadata": {
        "id": "I0cPbdkf8EVE",
        "colab_type": "code",
        "colab": {},
        "outputId": "5a64143e-74f4-492e-b490-2c408154cb70"
      },
      "source": [
        "coluna = M[:,2]-M[:,1]\n",
        "coluna"
      ],
      "execution_count": 0,
      "outputs": [
        {
          "output_type": "execute_result",
          "data": {
            "text/plain": [
              "array([1.0000, 1.0000, 1.0000, 1.0000])"
            ]
          },
          "metadata": {
            "tags": []
          },
          "execution_count": 15
        }
      ]
    },
    {
      "cell_type": "markdown",
      "metadata": {
        "id": "M6YwtTFL8EVG",
        "colab_type": "text"
      },
      "source": [
        "### Encontrar o maior valor em uma linha/coluna"
      ]
    },
    {
      "cell_type": "code",
      "metadata": {
        "id": "mSfFx0ye8EVG",
        "colab_type": "code",
        "colab": {},
        "outputId": "82d5f1c2-e189-41ce-944d-e803518e6975"
      },
      "source": [
        "np.max(M[0])"
      ],
      "execution_count": 0,
      "outputs": [
        {
          "output_type": "execute_result",
          "data": {
            "text/plain": [
              "4.0"
            ]
          },
          "metadata": {
            "tags": []
          },
          "execution_count": 16
        }
      ]
    },
    {
      "cell_type": "code",
      "metadata": {
        "id": "rtOvQVx68EVI",
        "colab_type": "code",
        "colab": {},
        "outputId": "ae3a381f-b69e-478f-a2da-e256760d0363"
      },
      "source": [
        "np.max(M[:,0])"
      ],
      "execution_count": 0,
      "outputs": [
        {
          "output_type": "execute_result",
          "data": {
            "text/plain": [
              "13.0"
            ]
          },
          "metadata": {
            "tags": []
          },
          "execution_count": 17
        }
      ]
    },
    {
      "cell_type": "markdown",
      "metadata": {
        "id": "aogFTm-18EVJ",
        "colab_type": "text"
      },
      "source": [
        "### Encontrar o *índice* do maior elemento"
      ]
    },
    {
      "cell_type": "code",
      "metadata": {
        "id": "7r7ncCES8EVK",
        "colab_type": "code",
        "colab": {},
        "outputId": "37a49967-3901-4c3d-eb2f-272af873bd8e"
      },
      "source": [
        "M"
      ],
      "execution_count": 0,
      "outputs": [
        {
          "output_type": "execute_result",
          "data": {
            "text/plain": [
              "array([[1.0000, 2.0000, 3.0000, 4.0000],\n",
              "       [5.0000, 6.0000, 7.0000, 8.0000],\n",
              "       [9.0000, 10.0000, 11.0000, 12.0000],\n",
              "       [13.0000, 14.0000, 15.0000, 16.0000]])"
            ]
          },
          "metadata": {
            "tags": []
          },
          "execution_count": 18
        }
      ]
    },
    {
      "cell_type": "code",
      "metadata": {
        "id": "ocd_Xm_68EVO",
        "colab_type": "code",
        "colab": {},
        "outputId": "5c57629d-95a3-4f23-e456-0ec54218a55e"
      },
      "source": [
        "np.argmax(M[0])"
      ],
      "execution_count": 0,
      "outputs": [
        {
          "output_type": "execute_result",
          "data": {
            "text/plain": [
              "3"
            ]
          },
          "metadata": {
            "tags": []
          },
          "execution_count": 19
        }
      ]
    },
    {
      "cell_type": "code",
      "metadata": {
        "id": "tdTvLKJ08EVR",
        "colab_type": "code",
        "colab": {},
        "outputId": "d86a2a3f-4158-428b-8fcf-ae21645a1178"
      },
      "source": [
        "np.argmax(M[:,0])"
      ],
      "execution_count": 0,
      "outputs": [
        {
          "output_type": "execute_result",
          "data": {
            "text/plain": [
              "3"
            ]
          },
          "metadata": {
            "tags": []
          },
          "execution_count": 20
        }
      ]
    },
    {
      "cell_type": "markdown",
      "metadata": {
        "id": "TP7Bdxuv8EVS",
        "colab_type": "text"
      },
      "source": [
        "## Exercício 1\n",
        "### Encontre a solução do seguinte sistema\n",
        "\n",
        "$$ 25x_1+5x_2+x_3 = 106.8$$\n",
        "$$ 64x_1+8x_2+x_3 = 177.2$$\n",
        "$$ 144x_1+12x_2+x_3 = 279.2$$\n",
        "\n",
        "utilizando o método de Gauss ingênuo"
      ]
    },
    {
      "cell_type": "code",
      "metadata": {
        "id": "uyrLBQt48EVT",
        "colab_type": "code",
        "colab": {}
      },
      "source": [
        ""
      ],
      "execution_count": 0,
      "outputs": []
    },
    {
      "cell_type": "markdown",
      "metadata": {
        "id": "5ItHchiS8EVU",
        "colab_type": "text"
      },
      "source": [
        "## Exercício 2\n",
        "### Encontre a solução do seguinte sistema\n",
        "\n",
        "$$      2x_2+3x_3 = 8$$\n",
        "$$ 4x_1+6x_2+7x_3 = -3$$\n",
        "$$ 2x_1+3x_2+6x_3 = 5$$\n",
        "\n",
        "utilizando o método de Gauss ingênuo"
      ]
    },
    {
      "cell_type": "markdown",
      "metadata": {
        "id": "Zg_vbfqR8EVV",
        "colab_type": "text"
      },
      "source": [
        "## Exercício 3\n",
        "### Encontre a solução do seguinte sistema\n",
        "\n",
        "$$      2x_2+3x_3 = 8$$\n",
        "$$ 4x_1+6x_2+7x_3 = -3$$\n",
        "$$ 2x_1+3x_2+6x_3 = 5$$\n",
        "\n",
        "utilizando o método de Gauss com pivotação parcial"
      ]
    },
    {
      "cell_type": "code",
      "metadata": {
        "id": "jRSb2rml8EVV",
        "colab_type": "code",
        "colab": {}
      },
      "source": [
        ""
      ],
      "execution_count": 0,
      "outputs": []
    },
    {
      "cell_type": "markdown",
      "metadata": {
        "id": "l5zq1eQ48EVX",
        "colab_type": "text"
      },
      "source": [
        "## Exercício 4\n",
        "Resolva o sistema abaixo utilizando o método de Gauss e o método da pivotação parcial. Compare com a solução exata $ x = [10,1]$:\n",
        "\n",
        "$$0.003x_1 + 59.14x_2 = 59.17$$\n",
        "$$-5.291x_1 - 6.130x_2 = 49.78$$\n",
        "\n",
        "comente sobre o resultado"
      ]
    },
    {
      "cell_type": "code",
      "metadata": {
        "id": "qAO70lof8EVX",
        "colab_type": "code",
        "colab": {}
      },
      "source": [
        ""
      ],
      "execution_count": 0,
      "outputs": []
    },
    {
      "cell_type": "markdown",
      "metadata": {
        "id": "CapSYfjQ8EVZ",
        "colab_type": "text"
      },
      "source": [
        "## Exercício 5\n",
        "Resolva os sistemas utilizando um método direto e o método de Gauss-Seidel\n",
        "\n",
        "a. \n",
        "    $$8.7x_1 + 3x_2 + 9.3x_3 + 11x_4 = 16.4$$\n",
        "    $$24.5x_1 - 8.8x_2 + 11.5x_3 - 45.1x_4 = -49.7$$\n",
        "    $$52.3x_1 - 84x_2 - 23.5x_3 + 11.4x_4 = -80.8$$\n",
        "    $$21x_1 - 81x_2 - 13.2x_3 + 21.5x_4 = -106.3$$"
      ]
    },
    {
      "cell_type": "code",
      "metadata": {
        "id": "ryL3RZeG8EVZ",
        "colab_type": "code",
        "colab": {}
      },
      "source": [
        ""
      ],
      "execution_count": 0,
      "outputs": []
    },
    {
      "cell_type": "markdown",
      "metadata": {
        "id": "_Spikpre8EVa",
        "colab_type": "text"
      },
      "source": [
        "b.\n",
        "\n",
        "$$3x_1 + 7x_2 + 13x_3 = 76$$\n",
        "$$12x_1 + 3x_2 - 5x_3 = 1$$\n",
        "$$x_1 + 5x_2 + 3x_3 = 28$$"
      ]
    },
    {
      "cell_type": "code",
      "metadata": {
        "id": "1tU6stms8EVb",
        "colab_type": "code",
        "colab": {}
      },
      "source": [
        ""
      ],
      "execution_count": 0,
      "outputs": []
    },
    {
      "cell_type": "markdown",
      "metadata": {
        "id": "myhhRE2x8EVc",
        "colab_type": "text"
      },
      "source": [
        "c.\n",
        "    $$1x_2 + 3x_3 + 2x_4 + 4x_5 = 3$$\n",
        "    $$8x_1 - 2x_2 + 9x_3 - 1x_4 + 2x_5 = -5$$\n",
        "    $$5x_1 + x_2 + x_3 + 7x_4 + 2x_5 = 6$$\n",
        "    $$-2x_1 + 4x_2 + 5x_3 + 1x_4 = -1$$\n",
        "    $$7x_1 - 3x_2 + 2x_3 - 4x_4 + 1x_5 = -5$$\n"
      ]
    },
    {
      "cell_type": "code",
      "metadata": {
        "id": "V60HXhmA8EVd",
        "colab_type": "code",
        "colab": {}
      },
      "source": [
        ""
      ],
      "execution_count": 0,
      "outputs": []
    },
    {
      "cell_type": "markdown",
      "metadata": {
        "id": "CR-HIOdv8EVf",
        "colab_type": "text"
      },
      "source": [
        "## Exercício 6\n",
        "\n",
        "Uma barra linear de metal de um metro de comprimento é mantida a 0 graus Celsius em um extremo e a 128 graus Celsius no outro. Desejamos determinar a temperatura da barra a cada 20cm . Denominando de T0 = 0 a temperatura de um extremo, de T5 = 128 a temperatura no outro extremo e de T1, T2, T3 e T4 a temperatura nos pontos interiores e sabendo que a temperatura em cada ponto interior é igual a média aritmética da temperatura de seus dois pontos vizinhos.\n",
        "\n",
        "    Determine através de um método de resolução de sistemas lineares os valores de T1, T2, T3 e T4"
      ]
    },
    {
      "cell_type": "code",
      "metadata": {
        "id": "hY5kq5sO8EVf",
        "colab_type": "code",
        "colab": {}
      },
      "source": [
        ""
      ],
      "execution_count": 0,
      "outputs": []
    },
    {
      "cell_type": "markdown",
      "metadata": {
        "id": "cHW_J4y-8EVh",
        "colab_type": "text"
      },
      "source": [
        "## Exercício 7\n",
        "\n",
        "Calcule a inversa das matrizes abaixo utilizando dois métodos de resolução de sistemas lineares\n",
        "\n",
        "a.\n",
        "\n",
        "$$A = \\begin{bmatrix}\n",
        "    8 & 5 & 1 \\\\\n",
        "    3 & 7 & 4\\\\\n",
        "    2 & 3 & 9 \n",
        "\\end{bmatrix}$$"
      ]
    },
    {
      "cell_type": "code",
      "metadata": {
        "id": "IoSADFO-8EVh",
        "colab_type": "code",
        "colab": {}
      },
      "source": [
        ""
      ],
      "execution_count": 0,
      "outputs": []
    },
    {
      "cell_type": "markdown",
      "metadata": {
        "id": "a_NKbsuR8EVj",
        "colab_type": "text"
      },
      "source": [
        "b.\n",
        "$$A = \\begin{bmatrix}\n",
        "        1 & 6 & 4 \\\\\n",
        "        2 & -3 & 1\\\\\n",
        "        5 & 5 & 8 \n",
        "\\end{bmatrix}$$"
      ]
    },
    {
      "cell_type": "markdown",
      "metadata": {
        "id": "dn0qR2WY8EVk",
        "colab_type": "text"
      },
      "source": [
        "## Exercício 8\n",
        "\n",
        "Calcular as tensões nos nós do circuito elétrico abaixo:\n",
        "\n",
        "![](https://github.com/lacouth/metodos_numericos/blob/master/sistemas_lineares/circuito.png?raw=1)\n",
        "\n",
        "## Modelagem matemática\n",
        "\n",
        "Pela lei de *Kirchhoff*, a soma das correntes que passam em cada nó do circuito é nula. Pela lei de *Ohm* a corrente elétrica que flui do nó *j* para o nó *k* de um circuito é \n",
        "\n",
        "$$I_{jk} = \\frac{V_j-V_k}{R_{jk}}$$\n",
        "\n",
        "sendo $V_j$ e $V_k$ as tensões nos nós $j$  e $k$, respectivamente, e $R_{jk}$ a resistência no arco _jk_. A corrente $I$ é expressa em ampères e a resistência $R$, em ohms. As duas leis combinadas permitem o cálculo da tensão em cada nó do circuito.\n",
        "\n",
        "No nó 1, pela lei de _Kirchoff_,\n",
        "\n",
        "$$I_{A1} + I_{21} + I_{31} + I_{41} = 0 $$\n",
        "\n",
        "Utilizando a lei de _Ohm_, \n",
        "\n",
        "$$ \\frac{0-V_1}{1} + \\frac{V_2-V_1}{1} + \\frac{V_3-V_1}{2} + \\frac{V_4-V_1}{2} = 0 $$\n",
        "\n",
        "simplificando:\n",
        "\n",
        "$$ -6V_1 + 2V_2 + V_3 + V_4 = 0$$\n",
        "\n",
        "\n",
        "Determinando as equações dos nós 2, 3 e 4, constrói-se um sistema de equações lineares. O vetor solução fornece a tensão em cada nó do circuito elétrico.\n",
        "\n",
        "Construa o resto do sistema e utilizando dois métodos de resolução numérica encontre as tensões em cada um dos nós."
      ]
    },
    {
      "cell_type": "code",
      "metadata": {
        "id": "4ims2b2L8EVk",
        "colab_type": "code",
        "colab": {}
      },
      "source": [
        ""
      ],
      "execution_count": 0,
      "outputs": []
    }
  ]
}