{
 "cells": [
  {
   "cell_type": "markdown",
   "metadata": {},
   "source": [
    "# Sistemas Lineares - Exercícios"
   ]
  },
  {
   "cell_type": "code",
   "execution_count": 1,
   "metadata": {},
   "outputs": [],
   "source": [
    "import numpy as np\n",
    "np.set_printoptions(formatter={'float': lambda x: \"{:.4f}\".format(x)}) # configura a impressão dos floats"
   ]
  },
  {
   "cell_type": "markdown",
   "metadata": {},
   "source": [
    "## Dicas Numpy\n",
    "\n",
    "### Criar um matriz"
   ]
  },
  {
   "cell_type": "code",
   "execution_count": 2,
   "metadata": {},
   "outputs": [
    {
     "data": {
      "text/plain": [
       "array([[1.0000, 2.0000, 3.0000, 4.0000],\n",
       "       [5.0000, 6.0000, 7.0000, 8.0000],\n",
       "       [9.0000, 10.0000, 11.0000, 12.0000],\n",
       "       [13.0000, 14.0000, 15.0000, 16.0000]])"
      ]
     },
     "execution_count": 2,
     "metadata": {},
     "output_type": "execute_result"
    }
   ],
   "source": [
    "M = np.array([[1,2,3,4],[5,6,7,8],[9,10,11,12],[13,14,15,16]], dtype=float)\n",
    "M"
   ]
  },
  {
   "cell_type": "markdown",
   "metadata": {},
   "source": [
    "### Selecionar apenas uma linha"
   ]
  },
  {
   "cell_type": "code",
   "execution_count": 3,
   "metadata": {},
   "outputs": [
    {
     "data": {
      "text/plain": [
       "array([5.0000, 6.0000, 7.0000, 8.0000])"
      ]
     },
     "execution_count": 3,
     "metadata": {},
     "output_type": "execute_result"
    }
   ],
   "source": [
    "M[1]"
   ]
  },
  {
   "cell_type": "markdown",
   "metadata": {},
   "source": [
    "### Selecionar apenas uma coluna"
   ]
  },
  {
   "cell_type": "code",
   "execution_count": 4,
   "metadata": {},
   "outputs": [
    {
     "data": {
      "text/plain": [
       "array([2.0000, 6.0000, 10.0000, 14.0000])"
      ]
     },
     "execution_count": 4,
     "metadata": {},
     "output_type": "execute_result"
    }
   ],
   "source": [
    "M[:,1]"
   ]
  },
  {
   "cell_type": "markdown",
   "metadata": {},
   "source": [
    "### Selecionar a última linha ou coluna"
   ]
  },
  {
   "cell_type": "code",
   "execution_count": 5,
   "metadata": {},
   "outputs": [
    {
     "data": {
      "text/plain": [
       "array([13.0000, 14.0000, 15.0000, 16.0000])"
      ]
     },
     "execution_count": 5,
     "metadata": {},
     "output_type": "execute_result"
    }
   ],
   "source": [
    "M[-1]"
   ]
  },
  {
   "cell_type": "code",
   "execution_count": 6,
   "metadata": {},
   "outputs": [
    {
     "data": {
      "text/plain": [
       "array([4.0000, 8.0000, 12.0000, 16.0000])"
      ]
     },
     "execution_count": 6,
     "metadata": {},
     "output_type": "execute_result"
    }
   ],
   "source": [
    "M[:,-1]"
   ]
  },
  {
   "cell_type": "markdown",
   "metadata": {},
   "source": [
    "### Selecionar um trecho de uma linha ou coluna"
   ]
  },
  {
   "cell_type": "code",
   "execution_count": 7,
   "metadata": {},
   "outputs": [
    {
     "data": {
      "text/plain": [
       "array([[1.0000, 2.0000, 3.0000, 4.0000],\n",
       "       [5.0000, 6.0000, 7.0000, 8.0000],\n",
       "       [9.0000, 10.0000, 11.0000, 12.0000],\n",
       "       [13.0000, 14.0000, 15.0000, 16.0000]])"
      ]
     },
     "execution_count": 7,
     "metadata": {},
     "output_type": "execute_result"
    }
   ],
   "source": [
    "M"
   ]
  },
  {
   "cell_type": "code",
   "execution_count": 8,
   "metadata": {},
   "outputs": [
    {
     "data": {
      "text/plain": [
       "array([6.0000, 7.0000])"
      ]
     },
     "execution_count": 8,
     "metadata": {},
     "output_type": "execute_result"
    }
   ],
   "source": [
    "M[1,1:3]"
   ]
  },
  {
   "cell_type": "code",
   "execution_count": 9,
   "metadata": {},
   "outputs": [
    {
     "data": {
      "text/plain": [
       "array([6.0000, 10.0000])"
      ]
     },
     "execution_count": 9,
     "metadata": {},
     "output_type": "execute_result"
    }
   ],
   "source": [
    "M[1:3,1]"
   ]
  },
  {
   "cell_type": "markdown",
   "metadata": {},
   "source": [
    "### Multiplicar uma linha por uma constante"
   ]
  },
  {
   "cell_type": "code",
   "execution_count": 10,
   "metadata": {},
   "outputs": [
    {
     "data": {
      "text/plain": [
       "array([[1.0000, 2.0000, 3.0000, 4.0000],\n",
       "       [5.0000, 6.0000, 7.0000, 8.0000],\n",
       "       [9.0000, 10.0000, 11.0000, 12.0000],\n",
       "       [13.0000, 14.0000, 15.0000, 16.0000]])"
      ]
     },
     "execution_count": 10,
     "metadata": {},
     "output_type": "execute_result"
    }
   ],
   "source": [
    "M"
   ]
  },
  {
   "cell_type": "code",
   "execution_count": 11,
   "metadata": {},
   "outputs": [
    {
     "data": {
      "text/plain": [
       "array([2.0000, 4.0000, 6.0000, 8.0000])"
      ]
     },
     "execution_count": 11,
     "metadata": {},
     "output_type": "execute_result"
    }
   ],
   "source": [
    "l = M[0]*2\n",
    "l"
   ]
  },
  {
   "cell_type": "code",
   "execution_count": 12,
   "metadata": {},
   "outputs": [
    {
     "data": {
      "text/plain": [
       "array([2.0000, 10.0000, 18.0000, 26.0000])"
      ]
     },
     "execution_count": 12,
     "metadata": {},
     "output_type": "execute_result"
    }
   ],
   "source": [
    "c = M[:,0]*2\n",
    "c"
   ]
  },
  {
   "cell_type": "markdown",
   "metadata": {},
   "source": [
    "### Subtrair um linha pela outra"
   ]
  },
  {
   "cell_type": "code",
   "execution_count": 13,
   "metadata": {},
   "outputs": [
    {
     "data": {
      "text/plain": [
       "array([[1.0000, 2.0000, 3.0000, 4.0000],\n",
       "       [5.0000, 6.0000, 7.0000, 8.0000],\n",
       "       [9.0000, 10.0000, 11.0000, 12.0000],\n",
       "       [13.0000, 14.0000, 15.0000, 16.0000]])"
      ]
     },
     "execution_count": 13,
     "metadata": {},
     "output_type": "execute_result"
    }
   ],
   "source": [
    "M"
   ]
  },
  {
   "cell_type": "code",
   "execution_count": 14,
   "metadata": {},
   "outputs": [
    {
     "data": {
      "text/plain": [
       "array([4.0000, 4.0000, 4.0000, 4.0000])"
      ]
     },
     "execution_count": 14,
     "metadata": {},
     "output_type": "execute_result"
    }
   ],
   "source": [
    "linha = M[2]-M[1]\n",
    "linha"
   ]
  },
  {
   "cell_type": "code",
   "execution_count": 15,
   "metadata": {},
   "outputs": [
    {
     "data": {
      "text/plain": [
       "array([1.0000, 1.0000, 1.0000, 1.0000])"
      ]
     },
     "execution_count": 15,
     "metadata": {},
     "output_type": "execute_result"
    }
   ],
   "source": [
    "coluna = M[:,2]-M[:,1]\n",
    "coluna"
   ]
  },
  {
   "cell_type": "markdown",
   "metadata": {},
   "source": [
    "### Encontrar o maior valor em uma linha/coluna"
   ]
  },
  {
   "cell_type": "code",
   "execution_count": 16,
   "metadata": {},
   "outputs": [
    {
     "data": {
      "text/plain": [
       "4.0"
      ]
     },
     "execution_count": 16,
     "metadata": {},
     "output_type": "execute_result"
    }
   ],
   "source": [
    "np.max(M[0])"
   ]
  },
  {
   "cell_type": "code",
   "execution_count": 17,
   "metadata": {},
   "outputs": [
    {
     "data": {
      "text/plain": [
       "13.0"
      ]
     },
     "execution_count": 17,
     "metadata": {},
     "output_type": "execute_result"
    }
   ],
   "source": [
    "np.max(M[:,0])"
   ]
  },
  {
   "cell_type": "markdown",
   "metadata": {},
   "source": [
    "### Encontrar o *índice* do maior elemento"
   ]
  },
  {
   "cell_type": "code",
   "execution_count": 18,
   "metadata": {},
   "outputs": [
    {
     "data": {
      "text/plain": [
       "array([[1.0000, 2.0000, 3.0000, 4.0000],\n",
       "       [5.0000, 6.0000, 7.0000, 8.0000],\n",
       "       [9.0000, 10.0000, 11.0000, 12.0000],\n",
       "       [13.0000, 14.0000, 15.0000, 16.0000]])"
      ]
     },
     "execution_count": 18,
     "metadata": {},
     "output_type": "execute_result"
    }
   ],
   "source": [
    "M"
   ]
  },
  {
   "cell_type": "code",
   "execution_count": 19,
   "metadata": {},
   "outputs": [
    {
     "data": {
      "text/plain": [
       "3"
      ]
     },
     "execution_count": 19,
     "metadata": {},
     "output_type": "execute_result"
    }
   ],
   "source": [
    "np.argmax(M[0])"
   ]
  },
  {
   "cell_type": "code",
   "execution_count": 20,
   "metadata": {},
   "outputs": [
    {
     "data": {
      "text/plain": [
       "3"
      ]
     },
     "execution_count": 20,
     "metadata": {},
     "output_type": "execute_result"
    }
   ],
   "source": [
    "np.argmax(M[:,0])"
   ]
  },
  {
   "cell_type": "markdown",
   "metadata": {},
   "source": [
    "## Exercício 1\n",
    "### Encontre a solução do seguinte sistema\n",
    "\n",
    "$$ 25x_1+5x_2+x_3 = 106.8$$\n",
    "$$ 64x_1+8x_2+x_3 = 177.2$$\n",
    "$$ 144x_1+12x_2+x_3 = 279.2$$\n",
    "\n",
    "utilizando o método de Gauss ingênuo"
   ]
  },
  {
   "cell_type": "code",
   "execution_count": null,
   "metadata": {},
   "outputs": [],
   "source": []
  },
  {
   "cell_type": "markdown",
   "metadata": {},
   "source": [
    "## Exercício 2\n",
    "### Encontre a solução do seguinte sistema\n",
    "\n",
    "$$      2x_2+3x_3 = 8$$\n",
    "$$ 4x_1+6x_2+7x_3 = -3$$\n",
    "$$ 2x_1+3x_2+6x_3 = 5$$\n",
    "\n",
    "utilizando o método de Gauss ingênuo"
   ]
  },
  {
   "cell_type": "markdown",
   "metadata": {},
   "source": [
    "## Exercício 3\n",
    "### Encontre a solução do seguinte sistema\n",
    "\n",
    "$$      2x_2+3x_3 = 8$$\n",
    "$$ 4x_1+6x_2+7x_3 = -3$$\n",
    "$$ 2x_1+3x_2+6x_3 = 5$$\n",
    "\n",
    "utilizando o método de Gauss com pivotação parcial"
   ]
  },
  {
   "cell_type": "code",
   "execution_count": null,
   "metadata": {},
   "outputs": [],
   "source": []
  },
  {
   "cell_type": "markdown",
   "metadata": {},
   "source": [
    "## Exercício 4\n",
    "Resolva o sistema abaixo utilizando o método de Gauss e o método da pivotação parcial. Compare com a solução exata $ x = [10,1]$:\n",
    "\n",
    "$$0.003x_1 + 59.14x_2 = 59.17$$\n",
    "$$-5.291x_1 - 6.130x_2 = 49.78$$\n",
    "\n",
    "comente sobre o resultado"
   ]
  },
  {
   "cell_type": "code",
   "execution_count": null,
   "metadata": {},
   "outputs": [],
   "source": []
  },
  {
   "cell_type": "markdown",
   "metadata": {},
   "source": [
    "## Exercício 5\n",
    "Resolva os sistemas utilizando um método direto e o método de Gauss-Seidel\n",
    "\n",
    "a. \n",
    "    $$8.7x_1 + 3x_2 + 9.3x_3 + 11x_4 = 16.4$$\n",
    "    $$24.5x_1 - 8.8x_2 + 11.5x_3 - 45.1x_4 = -49.7$$\n",
    "    $$52.3x_1 - 84x_2 - 23.5x_3 + 11.4x_4 = -80.8$$\n",
    "    $$21x_1 - 81x_2 - 13.2x_3 + 21.5x_4 = -106.3$$"
   ]
  },
  {
   "cell_type": "code",
   "execution_count": null,
   "metadata": {},
   "outputs": [],
   "source": []
  },
  {
   "cell_type": "markdown",
   "metadata": {},
   "source": [
    "b.\n",
    "\n",
    "$$3x_1 + 7x_2 + 13x_3 = 76$$\n",
    "$$12x_1 + 3x_2 - 5x_3 = 1$$\n",
    "$$x_1 + 5x_2 + 3x_3 = 28$$"
   ]
  },
  {
   "cell_type": "code",
   "execution_count": null,
   "metadata": {},
   "outputs": [],
   "source": []
  },
  {
   "cell_type": "markdown",
   "metadata": {},
   "source": [
    "c.\n",
    "    $$1x_2 + 3x_3 + 2x_4 + 4x_5 = 3$$\n",
    "    $$8x_1 - 2x_2 + 9x_3 - 1x_4 + 2x_5 = -5$$\n",
    "    $$5x_1 + x_2 + x_3 + 7x_4 + 2x_5 = 6$$\n",
    "    $$-2x_1 + 4x_2 + 5x_3 + 1x_4 = -1$$\n",
    "    $$7x_1 - 3x_2 + 2x_3 - 4x_4 + 1x_5 = -5$$\n"
   ]
  },
  {
   "cell_type": "code",
   "execution_count": null,
   "metadata": {},
   "outputs": [],
   "source": []
  },
  {
   "cell_type": "markdown",
   "metadata": {},
   "source": [
    "## Exercício 6\n",
    "\n",
    "Uma barra linear de metal de um metro de comprimento é mantida a 0 graus Celsius em um extremo e a 128 graus Celsius no outro. Desejamos determinar a temperatura da barra a cada 20cm . Denominando de T0 = 0 a temperatura de um extremo, de T5 = 128 a temperatura no outro extremo e de T1, T2, T3 e T4 a temperatura nos pontos interiores e sabendo que a temperatura em cada ponto interior é igual a média aritmética da temperatura de seus dois pontos vizinhos.\n",
    "\n",
    "    Determine através de um método de resolução de sistemas lineares os valores de T1, T2, T3 e T4"
   ]
  },
  {
   "cell_type": "code",
   "execution_count": null,
   "metadata": {},
   "outputs": [],
   "source": []
  },
  {
   "cell_type": "markdown",
   "metadata": {},
   "source": [
    "## Exercício 7\n",
    "\n",
    "Calcule a inversa das matrizes abaixo utilizando dois métodos de resolução de sistemas lineares\n",
    "\n",
    "a.\n",
    "\n",
    "$$A = \\begin{bmatrix}\n",
    "    8 & 5 & 1 \\\\\n",
    "    3 & 7 & 4\\\\\n",
    "    2 & 3 & 9 \n",
    "\\end{bmatrix}$$"
   ]
  },
  {
   "cell_type": "code",
   "execution_count": null,
   "metadata": {},
   "outputs": [],
   "source": []
  },
  {
   "cell_type": "markdown",
   "metadata": {},
   "source": [
    "b.\n",
    "$$A = \\begin{bmatrix}\n",
    "        1 & 6 & 4 \\\\\n",
    "        2 & -3 & 1\\\\\n",
    "        5 & 5 & 8 \n",
    "\\end{bmatrix}$$"
   ]
  },
  {
   "cell_type": "markdown",
   "metadata": {},
   "source": [
    "## Exercício 8\n",
    "\n",
    "Calcular as tensões nos nós do circuito elétrico abaixo:\n",
    "\n",
    "![](circuito.png)\n",
    "\n",
    "## Modelagem matemática\n",
    "\n",
    "Pela lei de *Kirchhoff*, a soma das correntes que passam em cada nó do circuito é nula. Pela lei de *Ohm* a corrente elétrica que flui do nó *j* para o nó *k* de um circuito é \n",
    "\n",
    "$$I_{jk} = \\frac{V_j-V_k}{R_{jk}}$$\n",
    "\n",
    "sendo $V_j$ e $V_k$ as tensões nos nós $j$  e $k$, respectivamente, e $R_{jk}$ a resistência no arco _jk_. A corrente $I$ é expressa em ampères e a resistência $R$, em ohms. As duas leis combinadas permitem o cálculo da tensão em cada nó do circuito.\n",
    "\n",
    "No nó 1, pela lei de _Kirchoff_,\n",
    "\n",
    "$$I_{A1} + I_{21} + I_{31} + I_{41} = 0 $$\n",
    "\n",
    "Utilizando a lei de _Ohm_, \n",
    "\n",
    "$$ \\frac{0-V_1}{1} + \\frac{V_2-V_1}{1} + \\frac{V_3-V_1}{2} + \\frac{V_4-V_1}{2} = 0 $$\n",
    "\n",
    "simplificando:\n",
    "\n",
    "$$ -6V_1 + 2V_2 + V_3 + V_4 = 0$$\n",
    "\n",
    "\n",
    "Determinando as equações dos nós 2, 3 e 4, constrói-se um sistema de equações lineares. O vetor solução fornece a tensão em cada nó do circuito elétrico.\n",
    "\n",
    "Construa o resto do sistema e utilizando dois métodos de resolução numérica encontre as tensões em cada um dos nós."
   ]
  },
  {
   "cell_type": "code",
   "execution_count": null,
   "metadata": {},
   "outputs": [],
   "source": []
  }
 ],
 "metadata": {
  "kernelspec": {
   "display_name": "Python 3",
   "language": "python",
   "name": "python3"
  },
  "language_info": {
   "codemirror_mode": {
    "name": "ipython",
    "version": 3
   },
   "file_extension": ".py",
   "mimetype": "text/x-python",
   "name": "python",
   "nbconvert_exporter": "python",
   "pygments_lexer": "ipython3",
   "version": "3.7.4"
  }
 },
 "nbformat": 4,
 "nbformat_minor": 2
}
