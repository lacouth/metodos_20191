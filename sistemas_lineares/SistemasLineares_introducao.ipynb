{
 "cells": [
  {
   "cell_type": "markdown",
   "metadata": {},
   "source": [
    "# Resolução de Sistemas Lineares"
   ]
  },
  {
   "cell_type": "markdown",
   "metadata": {},
   "source": [
    "No módulo anterior, nós determinamos o valor de $x$ que satisfaz uma simples equação $f(x) = 0$. Agora, vamos tratar o caso de determinar os valores de $x_1, x_2, \\dots , x_n$ que simultaneamente satisfaça o conjunto de equações:\n",
    "\n",
    "$$f_1(x_1, x_2, \\dots , x_n) = 0$$\n",
    "$$f_2(x_1, x_2, \\dots , x_n) = 0$$\n",
    "$$\\vdots$$\n",
    "$$f_n(x_1, x_2, \\dots , x_n) = 0$$\n",
    "\n",
    "Esse conjunto de equações podem ser escritas em forma matricial de um sistema de equações lineares:\n",
    "\n",
    "$$a_{11}x_1 + a_{12}x_2 + \\dots a_{1n}x_n = b_1$$\n",
    "$$a_{21}x_1 + a_{22}x_2 + \\dots a_{2n}x_n = b_2$$\n",
    "$$ \\vdots $$\n",
    "$$a_{n1}x_1 + a_{n2}x_2 + \\dots a_{nn}x_n = b_n$$\n",
    "\n",
    "onde os $a$ são os coeficiente, os $b$ as constantes, os $x$ são as icógnitas, e $n$ o número de equações;\n",
    "\n",
    "## Representando um sistema linear na forma matricial\n",
    "\n",
    "Deve ser claro que matrizes irão prover uma forma simples de representar um sistema de equações lineares. Por exemplo, um sistema 3 $\\times$ 3:\n",
    "\n",
    "$$a_{11}x_1 + a_{12}x_2 + a_{13}x_n = b_1$$\n",
    "$$a_{21}x_1 + a_{22}x_2 + a_{23}x_n = b_2$$\n",
    "$$a_{31}x_1 + a_{32}x_2 + a_{33}x_n = b_3$$\n",
    "\n",
    "pode ser expresso como\n",
    "\n",
    "$$[A][x] = [b]$$\n",
    "\n",
    "onde $[A]$ é a matriz de coeficientes:\n",
    "\n",
    "$$[A]= \n",
    "\\left[ \\begin{matrix}\n",
    "a_{11} & a_{12} & a_{13} \\\\\n",
    "a_{21} & a_{22} & a_{23}\\\\\n",
    "a_{31} & a_{32} & a_{33}\n",
    "\\end{matrix} \\right]\n",
    "$$\n",
    "\n",
    "$[b]$ é o vetor coluna de constantes\n",
    "\n",
    "$$[b]= \n",
    "\\left[ \\begin{matrix}\n",
    "b_{1}\\\\\n",
    "b_{2}\\\\\n",
    "b_{3}\n",
    "\\end{matrix} \\right]\n",
    "$$\n",
    "\n",
    "e $[x]$ é o vetor coluna de icógnitas.\n",
    "\n",
    "$$[x]= \n",
    "\\left[ \\begin{matrix}\n",
    "x_{1}\\\\\n",
    "x_{2}\\\\\n",
    "x_{3}\n",
    "\\end{matrix} \\right]\n",
    "$$\n",
    "\n",
    "## O método de Gauss ingênuo\n",
    "\n",
    "O método de Gauss ingênuo é dividido em duas etapas:\n",
    "\n",
    "1. **Eliminação**: essa fase é projetada para reduzir o conjunto de equações a um sistema triangular superior equivalente ao sistema original.\n",
    "\n",
    "2. **Substituição**: com um sistema triangular agora é possível fazer uma série de substituições diretas para obter as icógnitas do sistema.\n",
    "\n",
    "A figura abaixo ilustra os dois passos\n",
    "\n",
    "![](gauss_steps.png)\n",
    "\n",
    "# Exemplo\n",
    "\n",
    "Dadas as equações abaixo encontre as icógnitas que satisfazem o sistema:\n",
    "\n",
    "$$25x_1 + 5x_2 + x_3 = 106.8$$\n",
    "$$64x_1 + 8x_2 + x_3 = 177.2$$\n",
    "$$144x_1 + 12x_2 + x_3 = 279.2$$\n",
    "\n",
    "representando matricialmente:\n",
    "\n",
    "$$\\left[ \\begin{matrix}\n",
    "25 & 5 & 1 \\\\\n",
    "64 & 8 & 1\\\\\n",
    "144 & 12 & 1\n",
    "\\end{matrix} \\right]\n",
    "\\left[ \\begin{matrix}\n",
    "x_{1}\\\\\n",
    "x_{2}\\\\\n",
    "x_{3}\n",
    "\\end{matrix} \\right]\n",
    "=\n",
    "\\left[ \\begin{matrix}\n",
    "106.8\\\\\n",
    "177.2\\\\\n",
    "279.2\n",
    "\\end{matrix} \\right]\n",
    "$$\n",
    "\n",
    "como vamos fazer operações com as matrizes $[A]$ e $[b]$ no python podemos representar as duas matrizes através de uma matriz estendida que contém todos os valores\n",
    "\n",
    "$$[AB] = \\left[ \\begin{matrix}\n",
    "25 & 5 & 1 & | & 106.8\\\\\n",
    "64 & 8 & 1 & | & 177.2\\\\\n",
    "144 & 12 & 1 & | & 279.2\n",
    "\\end{matrix} \\right]$$\n",
    "\n",
    "## Representando o sistema no python\n",
    "\n"
   ]
  },
  {
   "cell_type": "code",
   "execution_count": 1,
   "metadata": {},
   "outputs": [],
   "source": [
    "import numpy as np\n",
    "np.set_printoptions(formatter={'float': lambda x: \"{:.2f}\".format(x)})"
   ]
  },
  {
   "cell_type": "code",
   "execution_count": 3,
   "metadata": {},
   "outputs": [
    {
     "data": {
      "text/plain": [
       "array([[25.00, 5.00, 1.00, 106.80],\n",
       "       [64.00, 8.00, 1.00, 177.20],\n",
       "       [144.00, 12.00, 1.00, 279.20]])"
      ]
     },
     "execution_count": 3,
     "metadata": {},
     "output_type": "execute_result"
    }
   ],
   "source": [
    "AB = np.array([[25,5,1,106.8],[64,8,1,177.2],[144,12,1,279.2]])\n",
    "AB"
   ]
  },
  {
   "cell_type": "markdown",
   "metadata": {},
   "source": [
    "### Eliminação: Selecionando o primeiro pivô\n",
    "\n",
    "Precisamos \"zerar\" os elementos abaixo do primeiro elemento da primeira coluna, para isso escolhemos o elemento $a_{11}$ como sendo o pivô que irá gerar o multiplicadores"
   ]
  },
  {
   "cell_type": "code",
   "execution_count": 4,
   "metadata": {},
   "outputs": [
    {
     "data": {
      "text/plain": [
       "25.0"
      ]
     },
     "execution_count": 4,
     "metadata": {},
     "output_type": "execute_result"
    }
   ],
   "source": [
    "pivo = AB[0,0]\n",
    "pivo"
   ]
  },
  {
   "cell_type": "markdown",
   "metadata": {},
   "source": [
    "Determinamos o primeiro multiplicador m1 como sendo o elemento que queremos zerar dividido pelo nosso pivô"
   ]
  },
  {
   "cell_type": "code",
   "execution_count": 5,
   "metadata": {},
   "outputs": [
    {
     "data": {
      "text/plain": [
       "2.56"
      ]
     },
     "execution_count": 5,
     "metadata": {},
     "output_type": "execute_result"
    }
   ],
   "source": [
    "m1 = AB[1,0]/pivo\n",
    "m1"
   ]
  },
  {
   "cell_type": "markdown",
   "metadata": {},
   "source": [
    "Para zerar o elemento abaixo do pivô iremos subtrair a sua linha pela linha do pivô multiplicada por m1"
   ]
  },
  {
   "cell_type": "code",
   "execution_count": 6,
   "metadata": {},
   "outputs": [
    {
     "data": {
      "text/plain": [
       "array([[25.00, 5.00, 1.00, 106.80],\n",
       "       [0.00, -4.80, -1.56, -96.21],\n",
       "       [144.00, 12.00, 1.00, 279.20]])"
      ]
     },
     "execution_count": 6,
     "metadata": {},
     "output_type": "execute_result"
    }
   ],
   "source": [
    "AB[1,:] = AB[1,:] - AB[0,:]*m1\n",
    "AB"
   ]
  },
  {
   "cell_type": "markdown",
   "metadata": {},
   "source": [
    "Para zerar o próximo elemento da coluna, precisamos de um novo multiplicador, m2, que será o próprio elemento dividido pelo pivô"
   ]
  },
  {
   "cell_type": "code",
   "execution_count": 7,
   "metadata": {},
   "outputs": [
    {
     "data": {
      "text/plain": [
       "5.76"
      ]
     },
     "execution_count": 7,
     "metadata": {},
     "output_type": "execute_result"
    }
   ],
   "source": [
    "m2 = AB[2,0]/pivo\n",
    "m2"
   ]
  },
  {
   "cell_type": "markdown",
   "metadata": {},
   "source": [
    "Repetimos o processo de subtrair a linha na qual desejamos zerar o elemento pela linha do pivô multiplicada por m2"
   ]
  },
  {
   "cell_type": "code",
   "execution_count": 8,
   "metadata": {},
   "outputs": [
    {
     "data": {
      "text/plain": [
       "array([[25.00, 5.00, 1.00, 106.80],\n",
       "       [0.00, -4.80, -1.56, -96.21],\n",
       "       [0.00, -16.80, -4.76, -335.97]])"
      ]
     },
     "execution_count": 8,
     "metadata": {},
     "output_type": "execute_result"
    }
   ],
   "source": [
    "AB[2,:] = AB[2,:] - AB[0,:]*m2\n",
    "AB"
   ]
  },
  {
   "cell_type": "markdown",
   "metadata": {},
   "source": [
    "## Eliminação: selecionando o segundo pivô\n",
    "\n",
    "Depois de \"eliminar\" os elementos da primeira coluna temos que continuar a eliminação na segunda coluna. O pivô agora passa a ser o elemento $a_{22}$ "
   ]
  },
  {
   "cell_type": "code",
   "execution_count": 9,
   "metadata": {},
   "outputs": [
    {
     "data": {
      "text/plain": [
       "-4.800000000000001"
      ]
     },
     "execution_count": 9,
     "metadata": {},
     "output_type": "execute_result"
    }
   ],
   "source": [
    "pivo = AB[1,1]\n",
    "pivo"
   ]
  },
  {
   "cell_type": "markdown",
   "metadata": {},
   "source": [
    "Nesta coluna temos que realizar apenas a eliminação de um elemento abaixo do pivô, repetimos o mesmo processo anterior, calculamos um multiplicador m3 a partir da divisão do elemento a ser zerado pelo pivô"
   ]
  },
  {
   "cell_type": "code",
   "execution_count": 10,
   "metadata": {},
   "outputs": [
    {
     "data": {
      "text/plain": [
       "3.499999999999999"
      ]
     },
     "execution_count": 10,
     "metadata": {},
     "output_type": "execute_result"
    }
   ],
   "source": [
    "m3 = AB[2,1]/pivo\n",
    "m3"
   ]
  },
  {
   "cell_type": "markdown",
   "metadata": {},
   "source": [
    "Com o multiplicador realizamos a operação na linha a ser modificada"
   ]
  },
  {
   "cell_type": "code",
   "execution_count": 11,
   "metadata": {},
   "outputs": [
    {
     "data": {
      "text/plain": [
       "array([[25.00, 5.00, 1.00, 106.80],\n",
       "       [0.00, -4.80, -1.56, -96.21],\n",
       "       [0.00, 0.00, 0.70, 0.76]])"
      ]
     },
     "execution_count": 11,
     "metadata": {},
     "output_type": "execute_result"
    }
   ],
   "source": [
    "AB[2,:] = AB[2,:] - AB[1,:]*m3\n",
    "AB"
   ]
  },
  {
   "cell_type": "markdown",
   "metadata": {},
   "source": [
    "Obtemos assim um sistema triangular superior que pode ser resolvido com substituições diretas"
   ]
  },
  {
   "cell_type": "markdown",
   "metadata": {},
   "source": [
    "## Substituição: encontrando x3\n",
    "\n",
    "Para encontrar $x_3$ precisamos apenas resolver a equação representada pela última linha do sistema"
   ]
  },
  {
   "cell_type": "code",
   "execution_count": 12,
   "metadata": {},
   "outputs": [
    {
     "data": {
      "text/plain": [
       "array([0.00, 0.00, 0.00])"
      ]
     },
     "execution_count": 12,
     "metadata": {},
     "output_type": "execute_result"
    }
   ],
   "source": [
    "x = np.zeros(3)\n",
    "x"
   ]
  },
  {
   "cell_type": "code",
   "execution_count": 14,
   "metadata": {},
   "outputs": [
    {
     "data": {
      "text/plain": [
       "array([0.00, 0.00, 1.09])"
      ]
     },
     "execution_count": 14,
     "metadata": {},
     "output_type": "execute_result"
    }
   ],
   "source": [
    "x[2] = AB[2,3]/AB[2,2]\n",
    "x"
   ]
  },
  {
   "cell_type": "markdown",
   "metadata": {},
   "source": [
    "Com o valor de $x_3$ definido podemos encontrar $x_2$"
   ]
  },
  {
   "cell_type": "code",
   "execution_count": 15,
   "metadata": {},
   "outputs": [
    {
     "data": {
      "text/plain": [
       "array([0.00, 19.69, 1.09])"
      ]
     },
     "execution_count": 15,
     "metadata": {},
     "output_type": "execute_result"
    }
   ],
   "source": [
    "x[1] = (AB[1,3] - AB[1,2]*x[2])/AB[1,1]\n",
    "x"
   ]
  },
  {
   "cell_type": "markdown",
   "metadata": {},
   "source": [
    "Agora com os dois valores de x podemos encontrar $x_1$"
   ]
  },
  {
   "cell_type": "code",
   "execution_count": 18,
   "metadata": {},
   "outputs": [
    {
     "data": {
      "text/plain": [
       "array([0.29, 19.69, 1.09])"
      ]
     },
     "execution_count": 18,
     "metadata": {},
     "output_type": "execute_result"
    }
   ],
   "source": [
    "x[0] = (AB[0,3] - AB[0,2]*x[2] - AB[0,1]*x[1])/AB[0,0]\n",
    "x"
   ]
  },
  {
   "cell_type": "markdown",
   "metadata": {},
   "source": [
    "## Verificando a resposta\n",
    "\n",
    "Uma forma de testar se a resposta obtida está correta é fazer o produto de cada linha da matriz de coeficientes com o vetor de icógnitas e verificar se o resultado é igual ao vetor de constantes. \n",
    "\n",
    "**Primeira linha**"
   ]
  },
  {
   "cell_type": "code",
   "execution_count": 25,
   "metadata": {},
   "outputs": [
    {
     "data": {
      "text/plain": [
       "array([[25.00, 5.00, 1.00],\n",
       "       [64.00, 8.00, 1.00],\n",
       "       [144.00, 12.00, 1.00]])"
      ]
     },
     "execution_count": 25,
     "metadata": {},
     "output_type": "execute_result"
    }
   ],
   "source": [
    "M = np.array([[25,5,1.],[64,8,1],[144,12,1]])\n",
    "C = np.array([106.8, 177,2, 279.2])\n",
    "M"
   ]
  },
  {
   "cell_type": "code",
   "execution_count": 27,
   "metadata": {},
   "outputs": [
    {
     "data": {
      "text/plain": [
       "106.8"
      ]
     },
     "execution_count": 27,
     "metadata": {},
     "output_type": "execute_result"
    }
   ],
   "source": [
    "np.dot(M[0,:],x)"
   ]
  },
  {
   "cell_type": "markdown",
   "metadata": {},
   "source": [
    "**Segunda linha**"
   ]
  },
  {
   "cell_type": "code",
   "execution_count": 28,
   "metadata": {},
   "outputs": [
    {
     "data": {
      "text/plain": [
       "177.19999999999996"
      ]
     },
     "execution_count": 28,
     "metadata": {},
     "output_type": "execute_result"
    }
   ],
   "source": [
    "np.dot(M[1,:],x)"
   ]
  },
  {
   "cell_type": "markdown",
   "metadata": {},
   "source": [
    "**Terceira Linha**"
   ]
  },
  {
   "cell_type": "code",
   "execution_count": 29,
   "metadata": {},
   "outputs": [
    {
     "data": {
      "text/plain": [
       "279.19999999999993"
      ]
     },
     "execution_count": 29,
     "metadata": {},
     "output_type": "execute_result"
    }
   ],
   "source": [
    "np.dot(M[2,:],x)"
   ]
  },
  {
   "cell_type": "markdown",
   "metadata": {},
   "source": [
    "# Exercício\n",
    "\n",
    "1. Crie uma função que receba uma matriz estendida [AB] e retorne uma matriz triangular superior\n",
    "\n",
    "2. Crie uma função que receba uma matriz triangular superior estendida e retorne um vetor solução."
   ]
  },
  {
   "cell_type": "code",
   "execution_count": null,
   "metadata": {},
   "outputs": [],
   "source": []
  }
 ],
 "metadata": {
  "kernelspec": {
   "display_name": "Python 3",
   "language": "python",
   "name": "python3"
  },
  "language_info": {
   "codemirror_mode": {
    "name": "ipython",
    "version": 3
   },
   "file_extension": ".py",
   "mimetype": "text/x-python",
   "name": "python",
   "nbconvert_exporter": "python",
   "pygments_lexer": "ipython3",
   "version": "3.7.4"
  }
 },
 "nbformat": 4,
 "nbformat_minor": 2
}
