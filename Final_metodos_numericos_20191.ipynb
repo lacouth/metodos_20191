{
  "nbformat": 4,
  "nbformat_minor": 0,
  "metadata": {
    "colab": {
      "name": "Final_metodos_numericos_20191.ipynb",
      "version": "0.3.2",
      "provenance": [],
      "collapsed_sections": [],
      "include_colab_link": true
    },
    "kernelspec": {
      "name": "python3",
      "display_name": "Python 3"
    }
  },
  "cells": [
    {
      "cell_type": "markdown",
      "metadata": {
        "id": "view-in-github",
        "colab_type": "text"
      },
      "source": [
        "<a href=\"https://colab.research.google.com/github/lacouth/metodos_20191/blob/master/Final_metodos_numericos_20191.ipynb\" target=\"_parent\"><img src=\"https://colab.research.google.com/assets/colab-badge.svg\" alt=\"Open In Colab\"/></a>"
      ]
    },
    {
      "cell_type": "code",
      "metadata": {
        "id": "wiSJKdIx6DkO",
        "colab_type": "code",
        "colab": {}
      },
      "source": [
        "import numpy as np\n",
        "from scipy.linalg import solve_triangular\n",
        "import matplotlib.pyplot as plot\n",
        "np.set_printoptions(formatter={'float': lambda x: \"{:.4f}\".format(x)})"
      ],
      "execution_count": 0,
      "outputs": []
    },
    {
      "cell_type": "code",
      "metadata": {
        "id": "G9ct_LE4JAOe",
        "colab_type": "code",
        "cellView": "both",
        "colab": {}
      },
      "source": [
        "#@title Final métodos numéricos 2019.1\n",
        "nome = \"\" #@param {type:\"string\"}\n",
        "matricula = \"\" #@param {type:\"string\"}"
      ],
      "execution_count": 0,
      "outputs": []
    },
    {
      "cell_type": "markdown",
      "metadata": {
        "id": "PKwVPhb8QxDG",
        "colab_type": "text"
      },
      "source": [
        "### Formulário de entrega: https://forms.gle/uxbbqociiWd5nhYn9"
      ]
    },
    {
      "cell_type": "code",
      "metadata": {
        "id": "SOolasis5p_7",
        "colab_type": "code",
        "colab": {}
      },
      "source": [
        "print(f'{nome} - {matricula} - Final de Métodos Numéricos 2019.1')"
      ],
      "execution_count": 0,
      "outputs": []
    },
    {
      "cell_type": "markdown",
      "metadata": {
        "id": "l8eCAJ6wLq73",
        "colab_type": "text"
      },
      "source": [
        "# Questões"
      ]
    },
    {
      "cell_type": "markdown",
      "metadata": {
        "id": "vHhGZ25VBQds",
        "colab_type": "text"
      },
      "source": [
        "### 1. Usando os métodos da bisseção, da secante ou de Newton-Raphson calcular uma raiz das equações abaixo com $\\epsilon_a < 0.0005$ e com no máximo 2000 iterações. Utilize cada método ao menos uma vez. Crie uma célula separada para cada item.\n",
        "\n",
        "a. $f(x) = 5x^3 - 2x^2 + 8x - 10$, $[0 \\leq x \\leq 2]$\n",
        "\n",
        "b. $f(x) = 2x^3 - 5x^2 - sen(x) - 200$, $[1 \\leq x \\leq 4]$\n",
        "\n",
        "c. $f(x) = (x+1)(x-1)(x-3)^5$,$[2 \\leq x \\leq 5]$\n",
        "\n",
        "d. $f(x) = (x+2)^3\\sqrt{x^2 +1}$, $[-3 \\leq x \\leq 0]$ \n",
        "\n",
        "### Mostre que a sua resposta está correta para cada item"
      ]
    },
    {
      "cell_type": "code",
      "metadata": {
        "id": "FP1GazbLBbA7",
        "colab_type": "code",
        "colab": {}
      },
      "source": [
        ""
      ],
      "execution_count": 0,
      "outputs": []
    },
    {
      "cell_type": "code",
      "metadata": {
        "id": "R43YeDCuBbJq",
        "colab_type": "code",
        "colab": {}
      },
      "source": [
        ""
      ],
      "execution_count": 0,
      "outputs": []
    },
    {
      "cell_type": "code",
      "metadata": {
        "id": "WdMlqwHGBbNM",
        "colab_type": "code",
        "colab": {}
      },
      "source": [
        ""
      ],
      "execution_count": 0,
      "outputs": []
    },
    {
      "cell_type": "code",
      "metadata": {
        "id": "-c-qIDCnBbQa",
        "colab_type": "code",
        "colab": {}
      },
      "source": [
        ""
      ],
      "execution_count": 0,
      "outputs": []
    },
    {
      "cell_type": "markdown",
      "metadata": {
        "id": "llQHpGdyCXI5",
        "colab_type": "text"
      },
      "source": [
        "### 2. A tabela abaixo fornece a demanda máxima diária de energia elétrica em uma cidade\n",
        "\n",
        "Dia | Pico Demanda (Mw)\n",
        "-----|---------\n",
        "01/jan|10.5\n",
        "10/jan|15\n",
        "01/fev|20.5\n",
        "15/fev|13\n",
        "\n",
        "a. Através de regressão linear encontre o pico máximo para o dia 05 de fevereiro.\n",
        "\n",
        "b. Utilizando interpolação polinomial determine o pico máximo para o dia 05 de fevereiro.\n",
        "\n",
        "c. Justifique a diferença entre os resultados e qual a melhor escolha para esse caso. "
      ]
    },
    {
      "cell_type": "code",
      "metadata": {
        "id": "7el0bqZhCZ8M",
        "colab_type": "code",
        "colab": {}
      },
      "source": [
        ""
      ],
      "execution_count": 0,
      "outputs": []
    },
    {
      "cell_type": "code",
      "metadata": {
        "id": "A4awXvxsCZ_u",
        "colab_type": "code",
        "colab": {}
      },
      "source": [
        ""
      ],
      "execution_count": 0,
      "outputs": []
    },
    {
      "cell_type": "code",
      "metadata": {
        "id": "2l4ahvmVCaHx",
        "colab_type": "code",
        "colab": {}
      },
      "source": [
        ""
      ],
      "execution_count": 0,
      "outputs": []
    },
    {
      "cell_type": "code",
      "metadata": {
        "id": "26og7oqhCaLh",
        "colab_type": "code",
        "colab": {}
      },
      "source": [
        ""
      ],
      "execution_count": 0,
      "outputs": []
    },
    {
      "cell_type": "code",
      "metadata": {
        "id": "Q-Z3qV8VCaGM",
        "colab_type": "code",
        "colab": {}
      },
      "source": [
        ""
      ],
      "execution_count": 0,
      "outputs": []
    },
    {
      "cell_type": "code",
      "metadata": {
        "id": "W4pWRXhICaEu",
        "colab_type": "code",
        "colab": {}
      },
      "source": [
        ""
      ],
      "execution_count": 0,
      "outputs": []
    },
    {
      "cell_type": "markdown",
      "metadata": {
        "id": "bkVT21BVBpwZ",
        "colab_type": "text"
      },
      "source": [
        "### 3 Calcule a integral\n",
        "\n",
        "$$I = \\int_{-\\pi}^{\\pi}x sen(x^2)dx$$\n",
        "\n",
        "### Resolva utilizando dois métodos diferentes mas com o mesmo número de intervalos."
      ]
    },
    {
      "cell_type": "markdown",
      "metadata": {
        "id": "thlOCbdWSA3e",
        "colab_type": "text"
      },
      "source": [
        "### Justificativa:\n",
        "\n"
      ]
    },
    {
      "cell_type": "code",
      "metadata": {
        "id": "TTC8eSw_KeIF",
        "colab_type": "code",
        "colab": {}
      },
      "source": [
        ""
      ],
      "execution_count": 0,
      "outputs": []
    },
    {
      "cell_type": "code",
      "metadata": {
        "id": "wXzVBmrtKmwm",
        "colab_type": "code",
        "colab": {}
      },
      "source": [
        ""
      ],
      "execution_count": 0,
      "outputs": []
    },
    {
      "cell_type": "code",
      "metadata": {
        "id": "htsibBelKmzR",
        "colab_type": "code",
        "colab": {}
      },
      "source": [
        ""
      ],
      "execution_count": 0,
      "outputs": []
    },
    {
      "cell_type": "code",
      "metadata": {
        "id": "_7UnoxUuKm16",
        "colab_type": "code",
        "colab": {}
      },
      "source": [
        ""
      ],
      "execution_count": 0,
      "outputs": []
    },
    {
      "cell_type": "code",
      "metadata": {
        "id": "knN6ZQ9iL7LA",
        "colab_type": "code",
        "colab": {}
      },
      "source": [
        ""
      ],
      "execution_count": 0,
      "outputs": []
    }
  ]
}