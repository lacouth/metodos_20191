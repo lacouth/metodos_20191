{
 "cells": [
  {
   "cell_type": "markdown",
   "metadata": {},
   "source": [
    "4. Determine a raiz de $f(x) = x^3-6x^2+11x-6.1$, considerando sempre $\\varepsilon = 0.01 \\%$ :\n",
    "\n",
    "    a. Graficamente\n",
    "\n",
    "    b. Usando o método da bisseção, [-2.5, 10]\n",
    "    \n",
    "    c. Usando o método das cordas, [-2.5, 10]\n",
    "    \n",
    "    d. Usando o método de Newton-Raphson, $x_i = 3.5$\n",
    "    \n",
    "    e. Usando o método da secante, $x_{i-1} = 2.5$ e $x_i = 3.5$\n",
    "    \n",
    "    f. De acordo com os resultados qual método você considera o mais eficiente?"
   ]
  },
  {
   "cell_type": "code",
   "execution_count": 1,
   "metadata": {},
   "outputs": [],
   "source": [
    "import numpy as np\n",
    "import matplotlib.pyplot as plt"
   ]
  },
  {
   "cell_type": "code",
   "execution_count": 7,
   "metadata": {},
   "outputs": [],
   "source": [
    "def poli(x):\n",
    "    return x**3 - 6 * x** 2 + 11*x - 6.1"
   ]
  },
  {
   "cell_type": "code",
   "execution_count": 24,
   "metadata": {},
   "outputs": [],
   "source": [
    "x = np.arange(-2.5,10,0.01)\n",
    "y = poli(x)"
   ]
  },
  {
   "cell_type": "code",
   "execution_count": 25,
   "metadata": {},
   "outputs": [
    {
     "data": {
      "image/png": "[encoded data removed]",
      "text/plain": [
       "<Figure size 432x288 with 1 Axes>"
      ]
     },
     "metadata": {
      "needs_background": "light"
     },
     "output_type": "display_data"
    }
   ],
   "source": [
    "plt.plot(x,y)\n",
    "plt.grid(True)"
   ]
  },
  {
   "cell_type": "code",
   "execution_count": 6,
   "metadata": {},
   "outputs": [
    {
     "data": {
      "text/plain": [
       "-6.1"
      ]
     },
     "execution_count": 6,
     "metadata": {},
     "output_type": "execute_result"
    }
   ],
   "source": [
    "f(0)"
   ]
  },
  {
   "cell_type": "code",
   "execution_count": 21,
   "metadata": {},
   "outputs": [],
   "source": [
    "def bissecao(f,xmin,xmax,tol,max_it):\n",
    "    raizes = []\n",
    "    erros = []\n",
    "    i = 0\n",
    "    for i in range(max_it):\n",
    "        xi = (xmin + xmax) / 2\n",
    "        if f(xmin) * f(xi) < 0 :\n",
    "            xmax = xi\n",
    "        else:\n",
    "            xmin = xi\n",
    "        raizes.append(xi)\n",
    "        if i > 0:\n",
    "            erro = np.abs((raizes[-1] - raizes[-2]) / raizes[-1]) * 100\n",
    "            erros.append(erro)\n",
    "            if erro < tol :\n",
    "                return raizes,erros\n",
    "    return raizes,erros"
   ]
  },
  {
   "cell_type": "code",
   "execution_count": 27,
   "metadata": {},
   "outputs": [],
   "source": [
    "r,e = bissecao(poli,-2.5,10,0.000001,100)"
   ]
  },
  {
   "cell_type": "code",
   "execution_count": 28,
   "metadata": {},
   "outputs": [
    {
     "data": {
      "text/plain": [
       "[3.75,\n",
       " 0.625,\n",
       " 2.1875,\n",
       " 2.96875,\n",
       " 3.359375,\n",
       " 3.1640625,\n",
       " 3.06640625,\n",
       " 3.017578125,\n",
       " 3.0419921875,\n",
       " 3.05419921875,\n",
       " 3.048095703125,\n",
       " 3.0450439453125,\n",
       " 3.04656982421875,\n",
       " 3.047332763671875,\n",
       " 3.0469512939453125,\n",
       " 3.0467605590820312,\n",
       " 3.0466651916503906,\n",
       " 3.046712875366211,\n",
       " 3.046689033508301,\n",
       " 3.0466771125793457,\n",
       " 3.0466830730438232,\n",
       " 3.0466800928115845,\n",
       " 3.046681582927704,\n",
       " 3.046680837869644,\n",
       " 3.0466804653406143,\n",
       " 3.0466806516051292,\n",
       " 3.046680558472872,\n",
       " 3.046680511906743,\n",
       " 3.0466805351898074]"
      ]
     },
     "execution_count": 28,
     "metadata": {},
     "output_type": "execute_result"
    }
   ],
   "source": [
    "r"
   ]
  },
  {
   "cell_type": "code",
   "execution_count": 29,
   "metadata": {},
   "outputs": [
    {
     "data": {
      "text/plain": [
       "7.740679208723122e-09"
      ]
     },
     "execution_count": 29,
     "metadata": {},
     "output_type": "execute_result"
    }
   ],
   "source": [
    "raiz_final = r[-1]\n",
    "poli(raiz_final)"
   ]
  },
  {
   "cell_type": "code",
   "execution_count": 31,
   "metadata": {},
   "outputs": [
    {
     "data": {
      "image/png": "[encoded data removed]",
      "text/plain": [
       "<Figure size 432x288 with 1 Axes>"
      ]
     },
     "metadata": {
      "needs_background": "light"
     },
     "output_type": "display_data"
    }
   ],
   "source": [
    "plt.plot(e)\n",
    "plt.grid(True)"
   ]
  },
  {
   "cell_type": "code",
   "execution_count": 32,
   "metadata": {},
   "outputs": [
    {
     "data": {
      "text/plain": [
       "28"
      ]
     },
     "execution_count": 32,
     "metadata": {},
     "output_type": "execute_result"
    }
   ],
   "source": [
    "len(e)"
   ]
  },
  {
   "cell_type": "code",
   "execution_count": null,
   "metadata": {},
   "outputs": [],
   "source": []
  }
 ],
 "metadata": {
  "kernelspec": {
   "display_name": "Python 3",
   "language": "python",
   "name": "python3"
  },
  "language_info": {
   "codemirror_mode": {
    "name": "ipython",
    "version": 3
   },
   "file_extension": ".py",
   "mimetype": "text/x-python",
   "name": "python",
   "nbconvert_exporter": "python",
   "pygments_lexer": "ipython3",
   "version": "3.7.4"
  }
 },
 "nbformat": 4,
 "nbformat_minor": 2
}
