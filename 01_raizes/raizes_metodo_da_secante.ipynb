{
 "cells": [
  {
   "cell_type": "markdown",
   "metadata": {
    "colab_type": "text",
    "id": "view-in-github"
   },
   "source": [
    "<a href=\"https://colab.research.google.com/github/lacouth/metodos_numericos/blob/master/raizes/raizes_introducao.ipynb\" target=\"_parent\"><img src=\"https://colab.research.google.com/assets/colab-badge.svg\" alt=\"Open In Colab\"/></a>"
   ]
  },
  {
   "cell_type": "markdown",
   "metadata": {
    "colab_type": "text",
    "id": "VgbyyIidTmhT",
    "slideshow": {
     "slide_type": "slide"
    }
   },
   "source": [
    "# Métodos Numéricos\n",
    "\n",
    "## Raízes: Método da Secante\n",
    "\n",
    "### Patric Lacouth"
   ]
  },
  {
   "cell_type": "markdown",
   "metadata": {
    "cell_style": "center",
    "colab_type": "text",
    "id": "e5VyVf3BTmiP",
    "slideshow": {
     "slide_type": "slide"
    }
   },
   "source": [
    "# Método da Secante\n",
    "\n",
    "* É um método aberto"
   ]
  },
  {
   "cell_type": "markdown",
   "metadata": {
    "colab_type": "text",
    "id": "e5VyVf3BTmiP",
    "slideshow": {
     "slide_type": "fragment"
    }
   },
   "source": [
    "\n",
    "* É um método **iterativo**\n"
   ]
  },
  {
   "cell_type": "markdown",
   "metadata": {
    "cell_style": "center",
    "slideshow": {
     "slide_type": "slide"
    }
   },
   "source": [
    "<img src = \"imagens/intervalar_vs_aberto.png\" width = 50% style = \"display:block;margin-left:auto;margin-right:auto;\" />"
   ]
  },
  {
   "cell_type": "markdown",
   "metadata": {
    "cell_style": "split",
    "slideshow": {
     "slide_type": "slide"
    }
   },
   "source": [
    "### O Algoritmo \n",
    "\n",
    "<img src = \"imagens/newton.png\" width = 50% style = \"display:block;margin-left:auto;margin-right:auto;\" />"
   ]
  },
  {
   "cell_type": "markdown",
   "metadata": {
    "cell_style": "split",
    "slideshow": {
     "slide_type": "-"
    }
   },
   "source": [
    "### Equação de atualização\n",
    "\n",
    "$$x_{i+1} = x_i - \\frac{f(x_i)}{f'(x_i)}$$\n",
    "\n",
    "$$f'(x) = lim_{\\Delta x \\rightarrow 0}\\frac{f(x + \\Delta x) - f(x)}{\\Delta x}$$\n",
    "\n",
    "$$f'(x_i) \\approx \\frac{f(x_{i-1}) - f(x_i)}{x_{i-1} - x_i}$$\n",
    "\n",
    "$$ x_{i+1} = x_i - \\frac{f(x_i)(x_{i-1} - x_i)}{f(x_{i-1})-f(x_i)} $$\n"
   ]
  },
  {
   "cell_type": "markdown",
   "metadata": {
    "colab_type": "text",
    "id": "WsxW_la5TmiV",
    "slideshow": {
     "slide_type": "slide"
    }
   },
   "source": [
    "# Critérios de parada\n",
    "\n",
    "* Número de iterações\n",
    "* Estimativa do erro de aproximação"
   ]
  },
  {
   "cell_type": "markdown",
   "metadata": {
    "colab_type": "text",
    "id": "SdFBBgliTmiW",
    "slideshow": {
     "slide_type": "slide"
    }
   },
   "source": [
    "### Erro de aproximação\n",
    "\n",
    "$$ | \\varepsilon_a | = \\left | \\frac{x^{novo}_r - x^{velho}_r }{x^{novo}_r} \\right| 100% $$\n"
   ]
  },
  {
   "cell_type": "markdown",
   "metadata": {
    "slideshow": {
     "slide_type": "slide"
    }
   },
   "source": [
    "### Sempre melhor?"
   ]
  },
  {
   "cell_type": "markdown",
   "metadata": {
    "slideshow": {
     "slide_type": "slide"
    }
   },
   "source": [
    "\n",
    "<img src = \"imagens/newton_convergencia.png\" width = 30% style = \"display:block;margin-left:auto;margin-right:auto;\"/>"
   ]
  },
  {
   "cell_type": "markdown",
   "metadata": {
    "slideshow": {
     "slide_type": "slide"
    }
   },
   "source": [
    "# Exemplo 1\n",
    "\n",
    " Encontrar a raiz da função $f(x) = x^3 - 20$ utilizando $x_0 = 0$ e $x_1 = 1$"
   ]
  },
  {
   "cell_type": "markdown",
   "metadata": {
    "slideshow": {
     "slide_type": "slide"
    }
   },
   "source": [
    "### Importar as bibliotecas"
   ]
  },
  {
   "cell_type": "code",
   "execution_count": 1,
   "metadata": {},
   "outputs": [],
   "source": [
    "import numpy as np\n",
    "import matplotlib.pyplot as plt"
   ]
  },
  {
   "cell_type": "markdown",
   "metadata": {
    "slideshow": {
     "slide_type": "slide"
    }
   },
   "source": [
    "### Definir a função $f(x) = x^3 - 20$"
   ]
  },
  {
   "cell_type": "code",
   "execution_count": 2,
   "metadata": {},
   "outputs": [],
   "source": [
    "def f(x):\n",
    "    return x**3 - 20"
   ]
  },
  {
   "cell_type": "code",
   "execution_count": 3,
   "metadata": {},
   "outputs": [
    {
     "data": {
      "text/plain": [
       "-19"
      ]
     },
     "execution_count": 3,
     "metadata": {},
     "output_type": "execute_result"
    }
   ],
   "source": [
    "f(1)"
   ]
  },
  {
   "cell_type": "markdown",
   "metadata": {
    "slideshow": {
     "slide_type": "slide"
    }
   },
   "source": [
    "### Traçar o gráfico da função"
   ]
  },
  {
   "cell_type": "code",
   "execution_count": 4,
   "metadata": {},
   "outputs": [
    {
     "data": {
      "image/png": "[encoded data removed]",
      "text/plain": [
       "<Figure size 432x288 with 1 Axes>"
      ]
     },
     "metadata": {
      "needs_background": "light"
     },
     "output_type": "display_data"
    }
   ],
   "source": [
    "x = np.arange(0,5,0.01)\n",
    "fx = f(x)\n",
    "plt.plot(x,fx)\n",
    "plt.grid(True)"
   ]
  },
  {
   "cell_type": "markdown",
   "metadata": {
    "colab_type": "text",
    "id": "QsTuwf_QTmiX",
    "slideshow": {
     "slide_type": "slide"
    }
   },
   "source": [
    "#### Implementar a função secante"
   ]
  },
  {
   "cell_type": "markdown",
   "metadata": {
    "slideshow": {
     "slide_type": "slide"
    }
   },
   "source": [
    "$$ x_{i+1} = x_i - \\frac{f(x_i)(x_{i-1} - x_i)}{f(x_{i-1})-f(x_i)} $$"
   ]
  },
  {
   "cell_type": "code",
   "execution_count": 5,
   "metadata": {
    "cell_style": "center",
    "colab": {},
    "colab_type": "code",
    "id": "QRprypsmTmiZ",
    "slideshow": {
     "slide_type": "-"
    }
   },
   "outputs": [],
   "source": [
    "def secante(funcao,x0,x1,tol,max_it):\n",
    "    raizes = [x0,x1]\n",
    "    erros = []\n",
    "    for i in range(max_it):\n",
    "#         x_novo = raizes[-1] - funcao(raizes[-1]) / derivada(raizes[-1]) método de Newton\n",
    "        x_novo = raizes[-1] - (funcao(raizes[-1]) * (raizes[-2] - raizes[-1])) / (funcao(raizes[-2]) - funcao(raizes[-1]))\n",
    "        raizes.append(x_novo)\n",
    "        erro = np.abs((raizes[-1] - raizes[-2]) / raizes[-1]) * 100\n",
    "        erros.append(erro)\n",
    "        if erro < tol:\n",
    "            return raizes,erros\n",
    "        \n",
    "    return raizes,erros\n",
    "        "
   ]
  },
  {
   "cell_type": "markdown",
   "metadata": {
    "slideshow": {
     "slide_type": "slide"
    }
   },
   "source": [
    "### Utilizado a função secante"
   ]
  },
  {
   "cell_type": "code",
   "execution_count": 7,
   "metadata": {},
   "outputs": [
    {
     "data": {
      "text/plain": [
       "4.990162949525256e-09"
      ]
     },
     "execution_count": 7,
     "metadata": {},
     "output_type": "execute_result"
    }
   ],
   "source": [
    "raizes,erros = secante(f,0,1,0.0001,100)\n",
    "x_raiz = raizes[-1]\n",
    "f(x_raiz)"
   ]
  },
  {
   "cell_type": "code",
   "execution_count": 8,
   "metadata": {},
   "outputs": [
    {
     "data": {
      "text/plain": [
       "15"
      ]
     },
     "execution_count": 8,
     "metadata": {},
     "output_type": "execute_result"
    }
   ],
   "source": [
    "len(raizes)"
   ]
  },
  {
   "cell_type": "markdown",
   "metadata": {
    "slideshow": {
     "slide_type": "slide"
    }
   },
   "source": [
    "### Mostrando a evolução do erro de aproximação"
   ]
  },
  {
   "cell_type": "code",
   "execution_count": 9,
   "metadata": {},
   "outputs": [
    {
     "data": {
      "image/png": "[encoded data removed]",
      "text/plain": [
       "<Figure size 432x288 with 1 Axes>"
      ]
     },
     "metadata": {
      "needs_background": "light"
     },
     "output_type": "display_data"
    }
   ],
   "source": [
    "plt.plot(erros)\n",
    "plt.grid(True)"
   ]
  },
  {
   "cell_type": "markdown",
   "metadata": {
    "colab_type": "text",
    "id": "IhfKwaQJTmid",
    "slideshow": {
     "slide_type": "slide"
    }
   },
   "source": [
    "# Now, go code!"
   ]
  }
 ],
 "metadata": {
  "celltoolbar": "Slideshow",
  "colab": {
   "include_colab_link": true,
   "name": "raizes_introducao.ipynb",
   "provenance": []
  },
  "kernelspec": {
   "display_name": "Python 3",
   "language": "python",
   "name": "python3"
  },
  "language_info": {
   "codemirror_mode": {
    "name": "ipython",
    "version": 3
   },
   "file_extension": ".py",
   "mimetype": "text/x-python",
   "name": "python",
   "nbconvert_exporter": "python",
   "pygments_lexer": "ipython3",
   "version": "3.7.4"
  },
  "rise": {
   "enable_chalkboard": true
  }
 },
 "nbformat": 4,
 "nbformat_minor": 1
}
