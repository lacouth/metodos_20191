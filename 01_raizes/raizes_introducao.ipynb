{
 "cells": [
  {
   "cell_type": "markdown",
   "metadata": {
    "colab_type": "text",
    "id": "view-in-github",
    "slideshow": {
     "slide_type": "skip"
    }
   },
   "source": [
    "<a href=\"https://colab.research.google.com/github/lacouth/metodos_numericos/blob/master/raizes/raizes_introducao.ipynb\" target=\"_parent\"><img src=\"https://colab.research.google.com/assets/colab-badge.svg\" alt=\"Open In Colab\"/></a>"
   ]
  },
  {
   "cell_type": "markdown",
   "metadata": {
    "colab_type": "text",
    "id": "VgbyyIidTmhT",
    "slideshow": {
     "slide_type": "slide"
    }
   },
   "source": [
    "# Métodos Numéricos\n",
    "\n",
    "## Raízes de equações\n",
    "\n",
    "### Patric Lacouth"
   ]
  },
  {
   "cell_type": "markdown",
   "metadata": {
    "colab_type": "text",
    "id": "t-WPWBbzTmhV",
    "slideshow": {
     "slide_type": "slide"
    }
   },
   "source": [
    "## Raízes\n",
    "\n",
    "Há muito tempo,  você aprendeu a usar a fórmula quadrática\n",
    "\n",
    "$$ x = \\frac{-b \\pm \\sqrt{b^2 - 4ac}}{2a} $$\n",
    "\n",
    "para resolver\n",
    "\n",
    "$$ f(x) = ax^2 + bx + c = 0 $$\n",
    "\n",
    "Os valores calculados na primeira equação são chamados \"raízes\" e representam os valores de x que tornam a segunda  igual a zero."
   ]
  },
  {
   "cell_type": "markdown",
   "metadata": {
    "slideshow": {
     "slide_type": "slide"
    }
   },
   "source": [
    "# Raízes e otimização\n",
    "<img src = \"imagens/exemplo_raizes.png\" width = 60% style = \"display:block; margin-left:auto;margin-right:auto;\"/>"
   ]
  },
  {
   "cell_type": "markdown",
   "metadata": {
    "colab_type": "text",
    "id": "HUSnz9muTmhX",
    "slideshow": {
     "slide_type": "slide"
    }
   },
   "source": [
    "## Objetivos\n",
    "\n",
    "* Encontrar o valor aproximado de raízes de funções contínuas\n"
   ]
  },
  {
   "cell_type": "markdown",
   "metadata": {
    "colab_type": "text",
    "id": "HUSnz9muTmhX",
    "slideshow": {
     "slide_type": "notes"
    }
   },
   "source": [
    "\n",
    "* Encontrar raízes dentro de intervalos.\n",
    "   "
   ]
  },
  {
   "cell_type": "markdown",
   "metadata": {
    "colab_type": "text",
    "id": "HUSnz9muTmhX",
    "slideshow": {
     "slide_type": "fragment"
    }
   },
   "source": [
    " * Métodos intervalares: Bisseção e Falsa Posição"
   ]
  },
  {
   "cell_type": "markdown",
   "metadata": {
    "colab_type": "text",
    "id": "HUSnz9muTmhX",
    "slideshow": {
     "slide_type": "fragment"
    }
   },
   "source": [
    "* Encontrar raízes sem a necessidade de intervalos."
   ]
  },
  {
   "cell_type": "markdown",
   "metadata": {
    "colab_type": "text",
    "id": "HUSnz9muTmhX",
    "slideshow": {
     "slide_type": "fragment"
    }
   },
   "source": [
    " * Métodos abertos: Newton e Secante "
   ]
  },
  {
   "cell_type": "markdown",
   "metadata": {
    "colab_type": "text",
    "id": "0e1fjDqUTmhZ",
    "slideshow": {
     "slide_type": "slide"
    }
   },
   "source": [
    "# Pré - requisitos\n",
    "\n",
    "1. Definir funções em Python"
   ]
  },
  {
   "cell_type": "code",
   "execution_count": 2,
   "metadata": {
    "slideshow": {
     "slide_type": "fragment"
    }
   },
   "outputs": [],
   "source": [
    "def f(x):\n",
    "    return 3 * x**2 + 5 * x + 1"
   ]
  },
  {
   "cell_type": "markdown",
   "metadata": {
    "colab": {},
    "colab_type": "code",
    "id": "2-FgPNLmTmha",
    "slideshow": {
     "slide_type": "slide"
    }
   },
   "source": [
    "# Pré-requisitos\n",
    "\n",
    "2. Gerar gráficos com o matplotlib"
   ]
  },
  {
   "cell_type": "code",
   "execution_count": 4,
   "metadata": {
    "colab": {},
    "colab_type": "code",
    "id": "f1Om0Uk-Tmhh",
    "outputId": "cb07acf9-522e-4fd6-84c5-54b11c11bca7",
    "slideshow": {
     "slide_type": "skip"
    }
   },
   "outputs": [
    {
     "data": {
      "text/plain": [
       "<Figure size 200x200 with 0 Axes>"
      ]
     },
     "execution_count": 4,
     "metadata": {},
     "output_type": "execute_result"
    },
    {
     "data": {
      "text/plain": [
       "<Figure size 200x200 with 0 Axes>"
      ]
     },
     "metadata": {},
     "output_type": "display_data"
    }
   ],
   "source": [
    "import numpy as np\n",
    "import matplotlib.pyplot as plt\n",
    "%matplotlib inline\n",
    "\n",
    "\n",
    "x = np.arange(-2.5,2.5,0.1) # de -10 até 10 com incremento de 0.1\n",
    "fx = f(x)\n",
    "plt.figure(num=None, figsize=(2,2), dpi=100, facecolor='w', edgecolor='k')"
   ]
  },
  {
   "cell_type": "code",
   "execution_count": 5,
   "metadata": {
    "colab": {},
    "colab_type": "code",
    "id": "ovLooUHiTmht",
    "outputId": "dc8a4294-61be-4817-95f9-4bb01b47757e",
    "scrolled": true,
    "slideshow": {
     "slide_type": "fragment"
    }
   },
   "outputs": [
    {
     "data": {
      "image/png": "[encoded data removed]",
      "text/plain": [
       "<Figure size 432x288 with 1 Axes>"
      ]
     },
     "metadata": {
      "needs_background": "light"
     },
     "output_type": "display_data"
    }
   ],
   "source": [
    "plt.plot(x,fx)\n",
    "plt.grid(True)"
   ]
  },
  {
   "cell_type": "markdown",
   "metadata": {
    "colab_type": "text",
    "id": "IhfKwaQJTmid",
    "slideshow": {
     "slide_type": "slide"
    }
   },
   "source": [
    "# Now, go code!"
   ]
  }
 ],
 "metadata": {
  "celltoolbar": "Slideshow",
  "colab": {
   "include_colab_link": true,
   "name": "raizes_introducao.ipynb",
   "provenance": []
  },
  "kernelspec": {
   "display_name": "Python 3",
   "language": "python",
   "name": "python3"
  },
  "language_info": {
   "codemirror_mode": {
    "name": "ipython",
    "version": 3
   },
   "file_extension": ".py",
   "mimetype": "text/x-python",
   "name": "python",
   "nbconvert_exporter": "python",
   "pygments_lexer": "ipython3",
   "version": "3.7.4"
  },
  "rise": {
   "enable_chalkboard": true
  }
 },
 "nbformat": 4,
 "nbformat_minor": 1
}
