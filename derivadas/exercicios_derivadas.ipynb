{
 "cells": [
  {
   "cell_type": "markdown",
   "metadata": {},
   "source": [
    "# Exercícios diferenciação\n",
    "\n",
    "Dada a função $f(x) = 2e^{1.5x}$\n",
    "\n",
    "1. Calcular $f'(x)$ para $x=3$ utilizando $h = 0.1, 0.05, 0.025$ através usando diferença finita para frente. Calcule o erro real, sabendo que o resultado analítico é $f'(3) = 270.05$"
   ]
  },
  {
   "cell_type": "code",
   "execution_count": null,
   "metadata": {},
   "outputs": [],
   "source": []
  },
  {
   "cell_type": "markdown",
   "metadata": {},
   "source": [
    "2. Repita o exercício anterior aplicando agora a diferença finita regressiva e a diferença finita central, analise o erro real e compare os resultados entre as implementações."
   ]
  },
  {
   "cell_type": "code",
   "execution_count": null,
   "metadata": {},
   "outputs": [],
   "source": []
  },
  {
   "cell_type": "markdown",
   "metadata": {},
   "source": [
    "3. Dada a função $f(x) = 2e^{1.5x}$ calcule a $f''(x)$ para x = 3."
   ]
  },
  {
   "cell_type": "code",
   "execution_count": null,
   "metadata": {},
   "outputs": [],
   "source": []
  },
  {
   "cell_type": "markdown",
   "metadata": {},
   "source": [
    "4. As posições exatas de um avião na pista de pouso são dadas em função do tempo através da tabela abaixo:\n",
    "\n",
    "t(s)|x(m)\n",
    "---|---\n",
    "0|20\n",
    "0.4|1\n",
    "1|110\n",
    "1.75|161\n",
    "2.5|178\n",
    "\n",
    "estime a velocidade inicial (t=0), a velocidade final (t=2.5) e a velocidade no tempo t=1.75"
   ]
  },
  {
   "cell_type": "code",
   "execution_count": null,
   "metadata": {},
   "outputs": [],
   "source": []
  },
  {
   "cell_type": "markdown",
   "metadata": {},
   "source": [
    "5. Calcule as diferenças progressivas, regressivas e centrais da primeira derivada de $f(x) = cos x$ para $x = \\pi/4 $ utilizando $h = \\pi/12$. Estime o erro real relativo $\\epsilon_r$ para cada aproximação"
   ]
  },
  {
   "cell_type": "code",
   "execution_count": null,
   "metadata": {},
   "outputs": [],
   "source": []
  },
  {
   "cell_type": "markdown",
   "metadata": {},
   "source": [
    "6. Os dados abaixo representam a relação distância versus tempo de um foguete:\n",
    "\n",
    "t(s) | y (km)\n",
    "--|--\n",
    "0|0\n",
    "25|32\n",
    "50|58\n",
    "75|78\n",
    "100|92\n",
    "125|100\n",
    "\n",
    "Estime a velocidade e aceleração do foguete para cada valor de tempo"
   ]
  },
  {
   "cell_type": "code",
   "execution_count": null,
   "metadata": {},
   "outputs": [],
   "source": []
  },
  {
   "cell_type": "markdown",
   "metadata": {},
   "source": [
    "7. A Lei de Faraday caracteriza a queda de tensão em um indutor como:\n",
    "\n",
    "$$V_L = L \\frac{d_i}{d_t}$$\n",
    "\n",
    "onde $V_L = $ queda de tensão, $L$ = indutância (em Henrys), $i = corrente (A)$, e $t = tempo$. Determine a queda de tensão para cada valor de tempo a partir dos dados abaixo e para um indutância de 4H\n",
    "\n",
    "t|i\n",
    "--|--\n",
    "0|0\n",
    "0.1|0.16\n",
    "0.2|0.32\n",
    "0.3|0.56\n",
    "0.5|0.84\n",
    "0.7|2.0"
   ]
  },
  {
   "cell_type": "code",
   "execution_count": null,
   "metadata": {},
   "outputs": [],
   "source": []
  },
  {
   "cell_type": "markdown",
   "metadata": {},
   "source": [
    "8. A taxa de resfriamento de um corpo pode ser expressada como:\n",
    "\n",
    "$$\\frac{dT}{dt} = -k(T - T_a)$$\n",
    "\n",
    "onde $T = $ temperatura do corpo (ºC), $T_a = $ temperatura do meio (ºC), e $k=$ constante de proporcionalidade (por minuto). Logo, essa equação especifica que a taxa de resfriamento é proporcional a diferença de temperaturas de um corpo e do meio que o envolve. Se uma bola de metal aquecida até a temperatura de 80ºC é colocada dentro de um balde com água a uma temperatura constante de $T_a$ = 20ºC, a temperatura da bola muda de acordo com a tabela abaixo:\n",
    "\n",
    "Tempo, min | T ºC\n",
    "--|--\n",
    "0|80\n",
    "5|44.5\n",
    "10|30.0\n",
    "15|24.1\n",
    "20|21.7\n",
    "25|20.7\n",
    "\n",
    "Utilizando diferenciação numérica determine $dT/dt$ para cada valor de tempo. Trace o gráfico $dT/dt$ versus $T - T_a$ e empregue regressão linear para encontrar $k$"
   ]
  },
  {
   "cell_type": "code",
   "execution_count": null,
   "metadata": {},
   "outputs": [],
   "source": []
  },
  {
   "cell_type": "markdown",
   "metadata": {},
   "source": [
    "9. Utilizando diferenças finitas, calcule $f'(2.36)$ e $f'(2.39)$ a partir dos seguintes dados:\n",
    "\n",
    "x|$f(x)$\n",
    "--|--\n",
    "2.36|0.85866\n",
    "2.37|0.86289\n",
    "2.38|0.86710\n",
    "2.39|0.87129"
   ]
  },
  {
   "cell_type": "code",
   "execution_count": null,
   "metadata": {},
   "outputs": [],
   "source": []
  },
  {
   "cell_type": "markdown",
   "metadata": {},
   "source": [
    "10. Estime $f'(1)$ e $f''(1)$ o mais preciso possível a partir dos dados:\n",
    "\n",
    "\n",
    "x|$f(x)\n",
    "--|--\n",
    "0.97|0.85040\n",
    "1.00|0.84147\n",
    "1.05|0.82612\n",
    "\n",
    "Justifique a escolha do método."
   ]
  },
  {
   "cell_type": "code",
   "execution_count": null,
   "metadata": {},
   "outputs": [],
   "source": []
  },
  {
   "cell_type": "markdown",
   "metadata": {},
   "source": [
    "11. Calcule $f'$ e $f''$ para $x=0$\n",
    "\n",
    "x|$f(x)$\n",
    "--|--\n",
    "-2.2|15.180\n",
    "-0.3|10.962\n",
    "0.8|1.920\n",
    "0.9|-2.040\n",
    "\n",
    "Justifique a escolha do método utilizado para obter as soluções"
   ]
  },
  {
   "cell_type": "code",
   "execution_count": null,
   "metadata": {},
   "outputs": [],
   "source": []
  }
 ],
 "metadata": {
  "kernelspec": {
   "display_name": "Python 3",
   "language": "python",
   "name": "python3"
  },
  "language_info": {
   "codemirror_mode": {
    "name": "ipython",
    "version": 3
   },
   "file_extension": ".py",
   "mimetype": "text/x-python",
   "name": "python",
   "nbconvert_exporter": "python",
   "pygments_lexer": "ipython3",
   "version": "3.7.4"
  }
 },
 "nbformat": 4,
 "nbformat_minor": 2
}
