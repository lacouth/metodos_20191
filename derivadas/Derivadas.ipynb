{
 "cells": [
  {
   "cell_type": "markdown",
   "metadata": {},
   "source": [
    "# Diferenciação Numérica\n",
    "\n",
    "A diferenciação numérica lida com o seguinte problema: Dada a função $y = f (x)$ e desejamos obter uma de suas derivadas no ponto $x = x_k$. O termo \"dado\" significa que temos um algoritmo para computar a função ou possuímos um conjunto de pontos de dados discretos $(x_i, y_i), i = 0, 1,. . . n.$ Em ambos os casos, temos acesso a um número finito de pares (x, y) a partir dos quais calcular a derivada. Se você suspeitar que a diferenciação numérica está relacionada à interpolação, você está correto - um meio de encontrar a derivada é aproximar a função localmente por um polinômio e depois diferenciá-la.\n",
    "\n",
    "A diferenciação numérica não é um processo particularmente preciso. Ela sofre de um conflito entre erros de arredondamento (causados pela precisão limitada da máquina) e erros inerentes à interpolação. Por esse motivo, uma derivada de uma função nunca pode ser calculada com a mesma precisão da forma analítica.\n",
    "\n",
    "## Aproximações de Diferenças Finitas\n",
    "\n",
    "A derivação das aproximações de diferenças finitas para as derivadas de $f (x)$ é baseada em expansões de  [séries de Taylor](https://pt.wikipedia.org/wiki/S%C3%A9rie_de_Taylor) para frente e para trás de f (x) sobre x, tal como:\n",
    "\n",
    "$$f(x+h) = f(x) + hf'(x) + \\frac{h^2}{2!}f''(x) + \\frac{h^3}{3!}f'''(x) + \\frac{h^4}{4!}f''''(x) + \\dots$$\n",
    "\n",
    "$$f(x-h) = f(x) - hf'(x) + \\frac{h^2}{2!}f''(x) - \\frac{h^3}{3!}f'''(x) + \\frac{h^4}{4!}f''''(x) + \\dots$$\n",
    "\n",
    "Também calculamos as somas e diferenças da série:\n",
    "\n",
    "$$f(x+h) + f(x-h) = 2f(x) + h^2f''(x) + \\frac{h^4}{12}f^{(4)}(x) + \\dots $$\n",
    "\n",
    "$$f(x+h) - f(x-h) = 2hf'(x) + \\frac{h^3}{3}f'''(x) + \\dots $$\n",
    "\n",
    "Observe que as somas contêm apenas as derivadas pares, enquanto as diferenças retêm apenas as derivadas ímpares.\n",
    "\n",
    "\n",
    "## Aproximação por diferenças finitas\n",
    "\n",
    "### Diferença central\n",
    "\n",
    "\n",
    "A solução da segunda equação $f(x+h) - f(x-h) = 2hf'(x) + \\frac{h^3}{3}f'''(x) + \\dots $ para $f'(x)$ é:\n",
    "\n",
    "$$ f'(x) = \\frac{f(x+h) - f(x-h)}{2h} - \\frac{h^2}{6}f'''(x) - \\dots $$\n",
    "\n",
    "ou\n",
    "\n",
    "$$f'(x) = \\frac{f(x+h) - f(x-h)}{2h} + \\mathcal{O}(h^2)$$\n",
    "\n",
    "O termo $\\mathcal{O}(h^2)$ nos lembra que o erro de truncamento se comporta como $h^2$\n",
    "\n",
    "Similarmente, a primeira equação:\n",
    "\n",
    "$$f(x+h) + f(x-h) = 2f(x) + h^2f''(x) + \\frac{h^4}{12}f^{(4)}(x) + \\dots$$ \n",
    "\n",
    "leva a uma aproximação para $f''(x)$\n",
    "\n",
    "$$f''(x) = \\frac{f(x+h) - 2f(x) + f(x-h)}{h^2} + \\frac{h^2}{12}f^{(4)}(x) + \\dots$$\n",
    "\n",
    "$$f''(x) = \\frac{f(x+h) - 2f(x) + f(x-h)}{h^2} +  \\mathcal{O}(h^2)$$\n",
    "\n",
    "### Diferença para frente e para trás\n",
    "\n",
    "As aproximações centrais de diferenças finitas nem sempre são utilizáveis. Por exemplo, considere a situação em que a função é dada em $n$ pontos discretos $x_0, x_1, \\dots x_n$. Como as diferenças centrais usam valores da função em cada lado de x, não poderíamos calcular as derivadas em $x_0$ e $x_n$. Claramente, há uma necessidade de expressões de diferenças finitas que requerem avaliações da função apenas em um lado de x. Essas expressões são chamadas de aproximações de diferenças finitas para frente e para trás.\n",
    "\n",
    "Diferenças finitas não-centrais podem ser obtidas de expansões da série de Taylor como :\n",
    "\n",
    "$$f(x+h) = f(x) + hf'(x) + \\frac{h^2}{2!}f''(x) + \\frac{h^3}{3!}f'''(x) + \\frac{h^4}{4!}f''''(x) + \\dots$$\n",
    "\n",
    "resolvendo para $f'(x)$ obtemos:\n",
    "\n",
    "$$f'(x) = \\frac{f(x+h) - f(x)}{h} - \\frac{h}{2}f''(x) - \\frac{h^2}{6}f'''(x) \\dots  $$\n",
    "\n",
    "Mantendo apenas o primeiro termo do lado direito temos a primeira aproximação de diferença para frente:\n",
    "\n",
    "$$f'(x) = \\frac{f(x+h) - f(x)}{h} + \\mathcal{O}(h)$$\n",
    "\n",
    "Da mesma forma, a equação:\n",
    "\n",
    "$$f(x-h) = f(x) - hf'(x) + \\frac{h^2}{2!}f''(x) - \\frac{h^3}{3!}f'''(x) + \\frac{h^4}{4!}f''''(x) + \\dots$$\n",
    "\n",
    "produz a primeira aproximação de diferença para trás:\n",
    "\n",
    "$$f'(x) = \\frac{f(x) - f(x-h)}{h} + \\mathcal{O}(h)$$\n",
    "\n",
    "Observe que o erro de truncamento agora é $\\mathcal{O}(h)$, o que não é tão bom quanto  $\\mathcal{O}(h^2)$ nas aproximações de diferença centrais.\n",
    "\n"
   ]
  },
  {
   "cell_type": "code",
   "execution_count": 1,
   "metadata": {},
   "outputs": [],
   "source": [
    "import numpy as np\n",
    "import matplotlib.pyplot as plot"
   ]
  },
  {
   "cell_type": "markdown",
   "metadata": {},
   "source": [
    "## Exemplo\n",
    "\n",
    "Dada a função $f(x) = 2e^{1.5x}$\n",
    "\n",
    "1. Calcular $f'(x)$ para $x=3$ utilizando $h = 0.1, 0.05, 0.025$ através usando diferença finita para frente. Calcule o erro real, sabendo que o resultado analítico é $f'(3) = 270.05$\n"
   ]
  },
  {
   "cell_type": "markdown",
   "metadata": {},
   "source": [
    "__Definindo a função__ $f(x)$"
   ]
  },
  {
   "cell_type": "code",
   "execution_count": 8,
   "metadata": {},
   "outputs": [],
   "source": [
    "def fx(x):\n",
    "    return 2*np.exp(1.5*x)"
   ]
  },
  {
   "cell_type": "markdown",
   "metadata": {},
   "source": [
    "__Definindo uma função para calcular a diferença finita para frente__"
   ]
  },
  {
   "cell_type": "code",
   "execution_count": 9,
   "metadata": {},
   "outputs": [],
   "source": [
    "def dff(foo,x,h):\n",
    "    return (foo(x+h) - foo(x))/h"
   ]
  },
  {
   "cell_type": "markdown",
   "metadata": {},
   "source": [
    "__Definindo valores do problema__"
   ]
  },
  {
   "cell_type": "code",
   "execution_count": 13,
   "metadata": {},
   "outputs": [
    {
     "data": {
      "text/plain": [
       "array([291.35708553, 280.43631346, 275.17874869])"
      ]
     },
     "execution_count": 13,
     "metadata": {},
     "output_type": "execute_result"
    }
   ],
   "source": [
    "x = 3\n",
    "h = np.array([0.1,0.05,0.025])\n",
    "derivada_f = dff(fx,3,h)\n",
    "derivada_f"
   ]
  },
  {
   "cell_type": "markdown",
   "metadata": {},
   "source": [
    "__Calculando o erro real__"
   ]
  },
  {
   "cell_type": "code",
   "execution_count": 14,
   "metadata": {},
   "outputs": [
    {
     "data": {
      "text/plain": [
       "array([7.89005204, 3.84607053, 1.89918485])"
      ]
     },
     "execution_count": 14,
     "metadata": {},
     "output_type": "execute_result"
    }
   ],
   "source": [
    "real = 270.05\n",
    "erro_r = np.abs(derivada_f - real)/real * 100\n",
    "erro_r"
   ]
  },
  {
   "cell_type": "markdown",
   "metadata": {},
   "source": [
    "__Criando uma tabela de comparação__\n",
    "\n",
    "|h|$f'(x)$|$\\epsilon_r$ %|\n",
    "--|-------|------------|\n",
    "0.1|291.3570|7.890\n",
    "0.05|280.436|3.846\n",
    "0.025|275.1787|1.899\n",
    "\n",
    "Analisando os resultados podemos perceber que o erro cai aproximadamente na mesma proporção da diminuição do $h$, ou seja dividindo o $h$ pela metade o erro diminui aproximadamente pela metade\n"
   ]
  },
  {
   "cell_type": "markdown",
   "metadata": {},
   "source": [
    "## Exercícios\n",
    "\n",
    "1. Repita o exemplo anterior aplicando agora a diferença finita para trás e a diferença finita central, analise o erro real e compare os resultados entre as implementações.\n",
    "\n",
    "2. Calcule a $f''(x)$ para x = 3."
   ]
  },
  {
   "cell_type": "markdown",
   "metadata": {},
   "source": [
    "# Derivadas por interpolação\n",
    "\n",
    "\n",
    "Se $f(x)$ é dado como um conjunto de pontos discretos, a interpolação pode ser um meio muito eficaz de calcular suas derivadas. A ideia é aproximar a derivada de $f(x)$ pela derivada do interpolante. Este método é particularmente útil se os pontos de dados estiverem localizados em intervalos irregulares de x, quando as aproximações de diferenças finitas listadas não forem aplicáveis.\n",
    "\n",
    "## Polinômio Interpolante\n",
    "\n",
    "A ideia aqui é simples: Determine um polinômio de grau $n$:\n",
    "\n",
    "$$P_{n-1}(x) = a_0 + a_1x+a_2x^2 + \\dots + a_nx^n$$\n",
    "\n",
    "através de n + 1 pontos de dados e, em seguida, avaliar suas derivadas no ponto $x$. Como já discutimos, é geralmente aconselhável limitar o grau do polinômio a menos de quatro, a fim de evitar oscilações espúrias do interpolante. Como essas oscilações são ampliadas com cada diferenciação, seu efeito pode ser devastador.\n",
    "\n",
    "Em vista desta limitação, a interpolação é geralmente local, envolvendo não mais que alguns pontos de dados de vizinhos mais próximos.\n",
    "\n",
    "Para pontos de dados uniformemente espaçados, interpolação polinomial e aproximações de diferenças finitas produzem resultados similares. \n",
    "\n",
    "## Utilizando regressão polinomial\n",
    "\n",
    "Muitos dados são obtidos com _ruído_ o que pode levar a erros indesejados. Uma forma de reduzir esse problema é utilizar regressão polinomial para ajustar curvas que sofram menos efeitos de pontos espúrios.\n",
    "\n",
    "### Exemplo\n",
    "\n",
    "1. Dados os pontos:\n",
    "\n",
    "x|$f(x)$\n",
    "--|--\n",
    "1.5|1.0628\n",
    "1.9|1.3961\n",
    "2.1|1.5432\n",
    "2.4|1.7349\n",
    "2.6|1.8423\n",
    "3.1|2.0397\n",
    "\n",
    "calcule $f'(2)$ e $f''(2)$ utilizando interpolação polinomial utilizando os três pontos mais próximos.\n",
    "\n",
    "__Solução__\n",
    "\n",
    "O polinômio interpolador é $P_2(x) = a_0 + a_1x + a_2x^2$ passando pelos pontos 1.9, 2.1 e 2.4. O sistema de equações para determinar os coeficientes é dado por:\n",
    "\n",
    "$$\\begin{bmatrix}\n",
    "n & \\sum x_i & \\sum x_i^2 \\\\\n",
    "\\sum x_i & \\sum x_i^2 & \\sum x_i^3 \\\\\n",
    "\\sum x_i^2 & \\sum x_i^3 & \\sum x_i^4 \n",
    "\\end{bmatrix}\n",
    "\\begin{bmatrix}\n",
    "a_0\\\\\n",
    "a_1\\\\\n",
    "a_2\n",
    "\\end{bmatrix}\n",
    "=\n",
    "\\begin{bmatrix}\n",
    "\\sum y_i\\\\\n",
    "\\sum y_i x_i\\\\\n",
    "\\sum y_i x_i^2\n",
    "\\end{bmatrix}\n",
    "$$\n",
    "\n",
    "Depois de substituir os dados, obtemos:\n",
    "$$\\begin{bmatrix}\n",
    "3 & 6.4 & 13.78 \\\\\n",
    "6.4 & 13.78 & 29.944 \\\\\n",
    "13.78 & 29.944 & 65.6578 \n",
    "\\end{bmatrix}\n",
    "\\begin{bmatrix}\n",
    "a_0\\\\\n",
    "a_1\\\\\n",
    "a_2\n",
    "\\end{bmatrix}\n",
    "=\n",
    "\\begin{bmatrix}\n",
    "4.6742\\\\\n",
    "10.0571\\\\\n",
    "21.8385\n",
    "\\end{bmatrix}\n",
    "$$\n",
    "\n",
    "resolvendo o sistema\n",
    "\n",
    "$$\n",
    "a=\n",
    "\\begin{bmatrix}\n",
    "-0.7714\\\\\n",
    "1.5075\\\\\n",
    "-0.1930\n",
    "\\end{bmatrix}\n",
    "$$\n",
    "\n",
    "As derivadas do polinômio são $P'_2(x) = a_1+2a_2x$ e $P''_2(x) = 2a_2$, logo:\n",
    "\n",
    "$$f'(2) \\approx P'_2(x) = 1.5075+2(-0.1930)(2) = 0.7355$$\n",
    "\n",
    "$$f''(2) \\approx P''_2(x) = 2(-0.1930) = -0.3860$$\n"
   ]
  },
  {
   "cell_type": "markdown",
   "metadata": {},
   "source": [
    "## Exercício\n",
    "\n",
    "1. Determine $f'(0)$ e $f'(1)$ a partir dos seguintes dados com ruído:\n",
    "\n",
    "x|f(x)\n",
    "---|---\n",
    "0  | 1.9934\n",
    "0.2| 2.1465\n",
    "0.4| 2.2129\n",
    "0.6| 2.1790\n",
    "0.8| 2.0683\n",
    "1.0| 1.9448\n",
    "1.2| 1.7655\n",
    "1.4| 1.5891\n",
    "\n",
    "__Dica 1:__ Utilize um polinômio de ordem 3 para aproximar os dados.\n",
    "\n",
    "__Dica 2:__ Neste problema, os dados representam $f(x) = (x+2)/cosh(x)$ somado a um ruído aleatório. Logo as derivadas \"corretas\" são $f'(0) = 1.000$ e $f'(1) = -0.833$"
   ]
  },
  {
   "cell_type": "code",
   "execution_count": null,
   "metadata": {},
   "outputs": [],
   "source": []
  }
 ],
 "metadata": {
  "kernelspec": {
   "display_name": "Python 3",
   "language": "python",
   "name": "python3"
  },
  "language_info": {
   "codemirror_mode": {
    "name": "ipython",
    "version": 3
   },
   "file_extension": ".py",
   "mimetype": "text/x-python",
   "name": "python",
   "nbconvert_exporter": "python",
   "pygments_lexer": "ipython3",
   "version": "3.7.2"
  }
 },
 "nbformat": 4,
 "nbformat_minor": 2
}
