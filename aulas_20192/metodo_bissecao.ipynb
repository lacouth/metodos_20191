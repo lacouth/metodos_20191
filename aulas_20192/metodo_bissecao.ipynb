{
  "nbformat": 4,
  "nbformat_minor": 0,
  "metadata": {
    "colab": {
      "name": "Untitled14.ipynb",
      "version": "0.3.2",
      "provenance": [],
      "include_colab_link": true
    },
    "kernelspec": {
      "name": "python3",
      "display_name": "Python 3"
    }
  },
  "cells": [
    {
      "cell_type": "markdown",
      "metadata": {
        "id": "view-in-github",
        "colab_type": "text"
      },
      "source": [
        "<a href=\"https://colab.research.google.com/github/lacouth/metodos_numericos/blob/master/aulas_20192/metodo_bissecao.ipynb\" target=\"_parent\"><img src=\"https://colab.research.google.com/assets/colab-badge.svg\" alt=\"Open In Colab\"/></a>"
      ]
    },
    {
      "cell_type": "code",
      "metadata": {
        "id": "hiP9dlZq-Al4",
        "colab_type": "code",
        "colab": {}
      },
      "source": [
        "import matplotlib.pyplot as plt\n",
        "import numpy as np"
      ],
      "execution_count": 0,
      "outputs": []
    },
    {
      "cell_type": "code",
      "metadata": {
        "id": "giqNVVSI-t6Y",
        "colab_type": "code",
        "colab": {}
      },
      "source": [
        "x = np.arange(0,10,0.1)"
      ],
      "execution_count": 0,
      "outputs": []
    },
    {
      "cell_type": "code",
      "metadata": {
        "id": "3ah6I2MO_cty",
        "colab_type": "code",
        "colab": {
          "base_uri": "https://localhost:8080/",
          "height": 121
        },
        "outputId": "ef31d157-ef8c-4cfa-8002-96b6470fed0d"
      },
      "source": [
        "print(x)"
      ],
      "execution_count": 4,
      "outputs": [
        {
          "output_type": "stream",
          "text": [
            "[0.  0.1 0.2 0.3 0.4 0.5 0.6 0.7 0.8 0.9 1.  1.1 1.2 1.3 1.4 1.5 1.6 1.7\n",
            " 1.8 1.9 2.  2.1 2.2 2.3 2.4 2.5 2.6 2.7 2.8 2.9 3.  3.1 3.2 3.3 3.4 3.5\n",
            " 3.6 3.7 3.8 3.9 4.  4.1 4.2 4.3 4.4 4.5 4.6 4.7 4.8 4.9 5.  5.1 5.2 5.3\n",
            " 5.4 5.5 5.6 5.7 5.8 5.9 6.  6.1 6.2 6.3 6.4 6.5 6.6 6.7 6.8 6.9 7.  7.1\n",
            " 7.2 7.3 7.4 7.5 7.6 7.7 7.8 7.9 8.  8.1 8.2 8.3 8.4 8.5 8.6 8.7 8.8 8.9\n",
            " 9.  9.1 9.2 9.3 9.4 9.5 9.6 9.7 9.8 9.9]\n"
          ],
          "name": "stdout"
        }
      ]
    },
    {
      "cell_type": "code",
      "metadata": {
        "id": "whK3Crh-_fLh",
        "colab_type": "code",
        "colab": {
          "base_uri": "https://localhost:8080/",
          "height": 442
        },
        "outputId": "68b86bcc-68af-4a7e-f469-b117b029782e"
      },
      "source": [
        "y = x**3-20\n",
        "y"
      ],
      "execution_count": 5,
      "outputs": [
        {
          "output_type": "execute_result",
          "data": {
            "text/plain": [
              "array([-2.00000e+01, -1.99990e+01, -1.99920e+01, -1.99730e+01,\n",
              "       -1.99360e+01, -1.98750e+01, -1.97840e+01, -1.96570e+01,\n",
              "       -1.94880e+01, -1.92710e+01, -1.90000e+01, -1.86690e+01,\n",
              "       -1.82720e+01, -1.78030e+01, -1.72560e+01, -1.66250e+01,\n",
              "       -1.59040e+01, -1.50870e+01, -1.41680e+01, -1.31410e+01,\n",
              "       -1.20000e+01, -1.07390e+01, -9.35200e+00, -7.83300e+00,\n",
              "       -6.17600e+00, -4.37500e+00, -2.42400e+00, -3.17000e-01,\n",
              "        1.95200e+00,  4.38900e+00,  7.00000e+00,  9.79100e+00,\n",
              "        1.27680e+01,  1.59370e+01,  1.93040e+01,  2.28750e+01,\n",
              "        2.66560e+01,  3.06530e+01,  3.48720e+01,  3.93190e+01,\n",
              "        4.40000e+01,  4.89210e+01,  5.40880e+01,  5.95070e+01,\n",
              "        6.51840e+01,  7.11250e+01,  7.73360e+01,  8.38230e+01,\n",
              "        9.05920e+01,  9.76490e+01,  1.05000e+02,  1.12651e+02,\n",
              "        1.20608e+02,  1.28877e+02,  1.37464e+02,  1.46375e+02,\n",
              "        1.55616e+02,  1.65193e+02,  1.75112e+02,  1.85379e+02,\n",
              "        1.96000e+02,  2.06981e+02,  2.18328e+02,  2.30047e+02,\n",
              "        2.42144e+02,  2.54625e+02,  2.67496e+02,  2.80763e+02,\n",
              "        2.94432e+02,  3.08509e+02,  3.23000e+02,  3.37911e+02,\n",
              "        3.53248e+02,  3.69017e+02,  3.85224e+02,  4.01875e+02,\n",
              "        4.18976e+02,  4.36533e+02,  4.54552e+02,  4.73039e+02,\n",
              "        4.92000e+02,  5.11441e+02,  5.31368e+02,  5.51787e+02,\n",
              "        5.72704e+02,  5.94125e+02,  6.16056e+02,  6.38503e+02,\n",
              "        6.61472e+02,  6.84969e+02,  7.09000e+02,  7.33571e+02,\n",
              "        7.58688e+02,  7.84357e+02,  8.10584e+02,  8.37375e+02,\n",
              "        8.64736e+02,  8.92673e+02,  9.21192e+02,  9.50299e+02])"
            ]
          },
          "metadata": {
            "tags": []
          },
          "execution_count": 5
        }
      ]
    },
    {
      "cell_type": "code",
      "metadata": {
        "id": "GnQ72XMa_8KM",
        "colab_type": "code",
        "colab": {
          "base_uri": "https://localhost:8080/",
          "height": 270
        },
        "outputId": "ace15f4a-adde-47b6-8865-12afd4b7f621"
      },
      "source": [
        "plt.plot(x,y)\n",
        "plt.grid(True)\n",
        "plt.show()"
      ],
      "execution_count": 7,
      "outputs": [
        {
          "output_type": "display_data",
          "data": {
            "image/png": "[encoded data removed]",
            "text/plain": [
              "<Figure size 432x288 with 1 Axes>"
            ]
          },
          "metadata": {
            "tags": []
          }
        }
      ]
    },
    {
      "cell_type": "code",
      "metadata": {
        "id": "z3EBBamqAQs1",
        "colab_type": "code",
        "colab": {}
      },
      "source": [
        "def f(x):\n",
        "    return x**3-20"
      ],
      "execution_count": 0,
      "outputs": []
    },
    {
      "cell_type": "code",
      "metadata": {
        "id": "rjYPcj82BHn6",
        "colab_type": "code",
        "colab": {
          "base_uri": "https://localhost:8080/",
          "height": 221
        },
        "outputId": "1473a6b9-44ad-429a-97fe-818298b1359b"
      },
      "source": [
        "a = 1\n",
        "b = 4\n",
        "max_it = 100\n",
        "xm = []\n",
        "erro = []\n",
        "es = 0.05\n",
        "\n",
        "for i in range(max_it):\n",
        "    if f(a)*f(b) < 0:\n",
        "        xm.append((a+b)/2)\n",
        "        if f(a)*f(xm[i]) < 0:\n",
        "            b = xm[i]\n",
        "        else:\n",
        "            a = xm[i]\n",
        "        if i != 0:\n",
        "            erro.append(np.abs(((xm[i]-xm[i-1])/xm[i])*100))\n",
        "            if erro[-1] < es:\n",
        "                break\n",
        "xm"
      ],
      "execution_count": 12,
      "outputs": [
        {
          "output_type": "execute_result",
          "data": {
            "text/plain": [
              "[2.5,\n",
              " 3.25,\n",
              " 2.875,\n",
              " 2.6875,\n",
              " 2.78125,\n",
              " 2.734375,\n",
              " 2.7109375,\n",
              " 2.72265625,\n",
              " 2.716796875,\n",
              " 2.7138671875,\n",
              " 2.71533203125,\n",
              " 2.714599609375]"
            ]
          },
          "metadata": {
            "tags": []
          },
          "execution_count": 12
        }
      ]
    },
    {
      "cell_type": "code",
      "metadata": {
        "id": "rD2AiEvyDKKj",
        "colab_type": "code",
        "colab": {
          "base_uri": "https://localhost:8080/",
          "height": 204
        },
        "outputId": "8b3e4c3c-31e0-4df0-8f6b-730e08090e3c"
      },
      "source": [
        "erro"
      ],
      "execution_count": 13,
      "outputs": [
        {
          "output_type": "execute_result",
          "data": {
            "text/plain": [
              "[23.076923076923077,\n",
              " 13.043478260869565,\n",
              " 6.976744186046512,\n",
              " 3.3707865168539324,\n",
              " 1.7142857142857144,\n",
              " 0.8645533141210375,\n",
              " 0.430416068866571,\n",
              " 0.2156721782890007,\n",
              " 0.10795250089960418,\n",
              " 0.053947131810825395,\n",
              " 0.026980843601043258]"
            ]
          },
          "metadata": {
            "tags": []
          },
          "execution_count": 13
        }
      ]
    },
    {
      "cell_type": "code",
      "metadata": {
        "id": "75P95Cx5DgwV",
        "colab_type": "code",
        "colab": {
          "base_uri": "https://localhost:8080/",
          "height": 269
        },
        "outputId": "18b86f82-54c7-48a4-edff-028dc9240725"
      },
      "source": [
        "plt.plot(erro)\n",
        "plt.grid(True)\n",
        "plt.show()"
      ],
      "execution_count": 14,
      "outputs": [
        {
          "output_type": "display_data",
          "data": {
            "image/png": "[encoded data removed]",
            "text/plain": [
              "<Figure size 432x288 with 1 Axes>"
            ]
          },
          "metadata": {
            "tags": []
          }
        }
      ]
    },
    {
      "cell_type": "code",
      "metadata": {
        "id": "_R5kSTB0D1o_",
        "colab_type": "code",
        "colab": {}
      },
      "source": [
        ""
      ],
      "execution_count": 0,
      "outputs": []
    }
  ]
}