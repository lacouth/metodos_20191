{
 "cells": [
  {
   "cell_type": "markdown",
   "metadata": {
    "slideshow": {
     "slide_type": "slide"
    }
   },
   "source": [
    "# Métodos Numéricos 2019.1\n",
    "## Patric Lacouth\n",
    "### lacouth@gmail.com"
   ]
  },
  {
   "cell_type": "markdown",
   "metadata": {
    "slideshow": {
     "slide_type": "slide"
    }
   },
   "source": [
    "\n",
    "![alt text](matrix.png)"
   ]
  },
  {
   "cell_type": "markdown",
   "metadata": {
    "slideshow": {
     "slide_type": "slide"
    }
   },
   "source": [
    "* O cálculo numérico envolve muita matemática matricial e é importante que você entenda o básico antes de mergulhar na construção dos seus algoritmos.\n",
    "\n",
    "* Essas lições fornecem uma breve atualização sobre o que você precisa saber para este curso, além de algumas orientações sobre como usar a biblioteca NumPy para trabalhar de forma eficiente com matrizes no Python.\n",
    "\n",
    "* Link para a página da [NumPy](http://www.numpy.org/)"
   ]
  },
  {
   "cell_type": "markdown",
   "metadata": {
    "slideshow": {
     "slide_type": "slide"
    }
   },
   "source": [
    "# Dimensões\n",
    "\n",
    "* nós vamos fazer muitas contas com muitos dados.\n",
    "\n",
    "* primeiro temos que entender como representamos esses dados.\n",
    "\n",
    "\n"
   ]
  },
  {
   "cell_type": "markdown",
   "metadata": {
    "slideshow": {
     "slide_type": "slide"
    }
   },
   "source": [
    "# As formas que os dados podem assumir\n",
    "\n",
    "* um número representando a altura de uma pessoa em centímetros.\n",
    "\n",
    "![](altura.png)"
   ]
  },
  {
   "cell_type": "markdown",
   "metadata": {
    "slideshow": {
     "slide_type": "subslide"
    }
   },
   "source": [
    "# As formas que os dados podem assumir\n",
    "\n",
    "* Ou uma série de números representando várias características dessa pessoa, como altura, peso e idade.\n",
    "\n",
    "![](girl_vector.png)"
   ]
  },
  {
   "cell_type": "markdown",
   "metadata": {
    "slideshow": {
     "slide_type": "subslide"
    }
   },
   "source": [
    "# As formas que os dados podem assumir\n",
    "\n",
    "* Ou talvez uma imagem dessa pessoa representada como uma grade, com linhas e colunas de pixels individuais.\n",
    "\n",
    "![](girl_photo.png)"
   ]
  },
  {
   "cell_type": "markdown",
   "metadata": {
    "slideshow": {
     "slide_type": "subslide"
    }
   },
   "source": [
    "# As formas que os dados podem assumir\n",
    "\n",
    "* Uma forma possível de representar um pixel nessa imagem pode usar 3 números, um para cada um dos canais de cor, vermelho, azul e verde.\n",
    "\n",
    "![](girl_pixel.png)"
   ]
  },
  {
   "cell_type": "markdown",
   "metadata": {
    "slideshow": {
     "slide_type": "subslide"
    }
   },
   "source": [
    "# Escalares\n",
    "\n",
    "## <pre> 1      2.4        -0.3 </pre>\n",
    "\n",
    "### escalares têm dimensão zero"
   ]
  },
  {
   "cell_type": "markdown",
   "metadata": {
    "slideshow": {
     "slide_type": "subslide"
    }
   },
   "source": [
    "# Vetores\n",
    "\n",
    "![](vetor_linha_coluna.png)\n",
    "\n",
    "* vetores têm uma dimensão: comprimento (length)"
   ]
  },
  {
   "cell_type": "markdown",
   "metadata": {
    "slideshow": {
     "slide_type": "subslide"
    }
   },
   "source": [
    "# Vetores\n",
    "\n",
    "* o valores da altura, peso e idade podem ser representado através de vetor linha\n",
    "\n",
    "![](girl_row_vector.png)"
   ]
  },
  {
   "cell_type": "markdown",
   "metadata": {
    "slideshow": {
     "slide_type": "subslide"
    }
   },
   "source": [
    "# Matrizes\n",
    "\n",
    "* Descrevemos a forma de uma matriz de acordo com seu número de linhas e colunas.\n",
    "\n",
    "![](girl_matrix.png)"
   ]
  },
  {
   "cell_type": "markdown",
   "metadata": {
    "slideshow": {
     "slide_type": "subslide"
    }
   },
   "source": [
    "# Tensores\n",
    "\n",
    "* O termo tensor pode se referir a qualquer conjunto de valores n-dimensionais.\n",
    "\n",
    "![](tensor.png)"
   ]
  },
  {
   "cell_type": "markdown",
   "metadata": {
    "slideshow": {
     "slide_type": "subslide"
    }
   },
   "source": [
    "# Tensores \n",
    "\n",
    "* O problema é que dados com dimensões mais altas podem ser difíceis de visualizar.\n",
    "\n",
    "![](3d_matrix.png)\n",
    "\n",
    "* Para 3 dimensões, pensamos em uma pilha de matrizes,"
   ]
  },
  {
   "cell_type": "markdown",
   "metadata": {},
   "source": [
    "# Tensores\n",
    "\n",
    "* Podemos então representar uma imagem RGB como um tensor de três dimensões.\n",
    "\n",
    "![](girl_3d.png)"
   ]
  },
  {
   "cell_type": "markdown",
   "metadata": {
    "slideshow": {
     "slide_type": "subslide"
    }
   },
   "source": [
    "# Tensores \n",
    "\n",
    "* O problema é que dados com dimensões mais altas podem ser difíceis de visualizar.\n",
    "\n",
    "![](4d_matrix.png)\n",
    "\n",
    "* E, para 4 dimensões, pensamos em uma matriz em que cada uma das entradas é uma matriz,\n"
   ]
  },
  {
   "cell_type": "markdown",
   "metadata": {
    "slideshow": {
     "slide_type": "subslide"
    }
   },
   "source": [
    "# Simplificando\n",
    "\n",
    "* Na maioria dos casos vamos considerar que tudo pode ser representado como uma matriz.\n",
    "\n",
    "![](matrixes.png)"
   ]
  },
  {
   "cell_type": "markdown",
   "metadata": {
    "slideshow": {
     "slide_type": "subslide"
    }
   },
   "source": [
    "# Matrizes e índices\n",
    "\n",
    "* Para utilizar os elementos de uma matriz precisamos saber os seus índices\n",
    "\n",
    "![](matrix_indices.png)"
   ]
  },
  {
   "cell_type": "markdown",
   "metadata": {
    "slideshow": {
     "slide_type": "subslide"
    }
   },
   "source": [
    "# Matrizes e índices\n",
    "\n",
    "* Mas temos que lembrar que computacionalmente começamos a contar do ZERO.\n",
    "\n",
    "![](matrix_indices_zero.png)"
   ]
  },
  {
   "cell_type": "markdown",
   "metadata": {
    "slideshow": {
     "slide_type": "slide"
    }
   },
   "source": [
    "# Introdução ao NumPy\n",
    "\n",
    "* O Python é conveniente, mas também pode ser lento. No entanto, ele permite que você acesse bibliotecas que executam códigos mais rápidos escritos em linguagens como C.\n",
    "\n",
    "* A NumPy é uma dessas bibliotecas: fornece alternativas rápidas para operações matemáticas em Python e foi projetada para funcionar eficientemente com grupos de números - como matrizes.\n",
    "\n",
    "* NumPy é uma biblioteca enorme e vamos apenas arranhar a superfície dela aqui."
   ]
  },
  {
   "cell_type": "markdown",
   "metadata": {
    "slideshow": {
     "slide_type": "subslide"
    }
   },
   "source": [
    "# Importando NumPy\n",
    "\n",
    "* Ao importar a biblioteca NumPy, a convenção que você verá usada com mais freqüência - incluindo aqui - é nomear np, assim:"
   ]
  },
  {
   "cell_type": "code",
   "execution_count": 1,
   "metadata": {},
   "outputs": [],
   "source": [
    "import numpy as np "
   ]
  },
  {
   "cell_type": "markdown",
   "metadata": {},
   "source": []
  }
 ],
 "metadata": {
  "celltoolbar": "Slideshow",
  "kernelspec": {
   "display_name": "Python 3",
   "language": "python",
   "name": "python3"
  },
  "language_info": {
   "codemirror_mode": {
    "name": "ipython",
    "version": 3
   },
   "file_extension": ".py",
   "mimetype": "text/x-python",
   "name": "python",
   "nbconvert_exporter": "python",
   "pygments_lexer": "ipython3",
   "version": "3.7.2"
  }
 },
 "nbformat": 4,
 "nbformat_minor": 2
}
