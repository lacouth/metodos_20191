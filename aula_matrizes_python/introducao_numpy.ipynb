{
  "nbformat": 4,
  "nbformat_minor": 0,
  "metadata": {
    "celltoolbar": "Slideshow",
    "kernelspec": {
      "display_name": "Python 3",
      "language": "python",
      "name": "python3"
    },
    "language_info": {
      "codemirror_mode": {
        "name": "ipython",
        "version": 3
      },
      "file_extension": ".py",
      "mimetype": "text/x-python",
      "name": "python",
      "nbconvert_exporter": "python",
      "pygments_lexer": "ipython3",
      "version": "3.7.4"
    },
    "colab": {
      "name": "introducao_numpy.ipynb",
      "provenance": [],
      "include_colab_link": true
    }
  },
  "cells": [
    {
      "cell_type": "markdown",
      "metadata": {
        "id": "view-in-github",
        "colab_type": "text"
      },
      "source": [
        "<a href=\"https://colab.research.google.com/github/lacouth/metodos_numericos/blob/master/aula_matrizes_python/introducao_numpy.ipynb\" target=\"_parent\"><img src=\"https://colab.research.google.com/assets/colab-badge.svg\" alt=\"Open In Colab\"/></a>"
      ]
    },
    {
      "cell_type": "markdown",
      "metadata": {
        "id": "R89_eKg7k0SJ",
        "colab_type": "text"
      },
      "source": [
        "# Métodos Numéricos\n",
        "## Patric Lacouth"
      ]
    },
    {
      "cell_type": "markdown",
      "metadata": {
        "id": "aEYP3YLXk0SN",
        "colab_type": "text"
      },
      "source": [
        "## NumPy\n",
        "\n",
        "* O cálculo numérico envolve muita matemática matricial e é importante que você entenda o básico antes de mergulhar na construção dos seus algoritmos.\n",
        "\n",
        "* Essas lições fornecem uma breve atualização sobre o que você precisa saber para este curso, além de algumas orientações sobre como usar a biblioteca NumPy para trabalhar de forma eficiente com matrizes no Python.\n",
        "\n",
        "* Link para a página da [NumPy](http://www.numpy.org/)"
      ]
    },
    {
      "cell_type": "markdown",
      "metadata": {
        "id": "cTwgSGUnk0SP",
        "colab_type": "text"
      },
      "source": [
        "# Dimensões\n",
        "\n",
        "* nós vamos fazer muitas contas com muitos dados.\n",
        "\n",
        "* primeiro temos que entender como representamos esses dados.\n",
        "\n",
        "\n"
      ]
    },
    {
      "cell_type": "markdown",
      "metadata": {
        "id": "Fr2ooUFJk0SQ",
        "colab_type": "text"
      },
      "source": [
        "# As formas que os dados podem assumir\n",
        "\n",
        "* um número representando a altura de uma pessoa em centímetros.\n",
        "\n",
        "![](https://github.com/lacouth/metodos_numericos/blob/master/aula_matrizes_python/altura.png?raw=1)"
      ]
    },
    {
      "cell_type": "markdown",
      "metadata": {
        "id": "fK0LDNIEk0SS",
        "colab_type": "text"
      },
      "source": [
        "# As formas que os dados podem assumir\n",
        "\n",
        "* Ou uma série de números representando várias características dessa pessoa, como altura, peso e idade.\n",
        "\n",
        "![](https://github.com/lacouth/metodos_numericos/blob/master/aula_matrizes_python/girl_vector.png?raw=1)"
      ]
    },
    {
      "cell_type": "markdown",
      "metadata": {
        "id": "knzUTIL5k0ST",
        "colab_type": "text"
      },
      "source": [
        "# As formas que os dados podem assumir\n",
        "\n",
        "* Ou talvez uma imagem dessa pessoa representada como uma grade, com linhas e colunas de pixels individuais.\n",
        "\n",
        "![](https://github.com/lacouth/metodos_numericos/blob/master/aula_matrizes_python/girl_photo.png?raw=1)"
      ]
    },
    {
      "cell_type": "markdown",
      "metadata": {
        "id": "a7euAZnHk0SU",
        "colab_type": "text"
      },
      "source": [
        "# As formas que os dados podem assumir\n",
        "\n",
        "* Uma forma possível de representar um pixel nessa imagem pode usar 3 números, um para cada um dos canais de cor, vermelho, azul e verde.\n",
        "\n",
        "![](https://github.com/lacouth/metodos_numericos/blob/master/aula_matrizes_python/girl_pixel.png?raw=1)"
      ]
    },
    {
      "cell_type": "markdown",
      "metadata": {
        "id": "aSNi3M-Pk0SV",
        "colab_type": "text"
      },
      "source": [
        "# Escalares\n",
        "\n",
        "## <pre> 1      2.4        -0.3 </pre>\n",
        "\n",
        "### escalares têm dimensão zero"
      ]
    },
    {
      "cell_type": "markdown",
      "metadata": {
        "id": "Hjr6kBGkk0SW",
        "colab_type": "text"
      },
      "source": [
        "# Vetores\n",
        "\n",
        "![](https://github.com/lacouth/metodos_numericos/blob/master/aula_matrizes_python/vetor_linha_coluna.png?raw=1)\n",
        "\n",
        "* vetores têm uma dimensão: comprimento (length)"
      ]
    },
    {
      "cell_type": "markdown",
      "metadata": {
        "id": "94FEooJ-k0SY",
        "colab_type": "text"
      },
      "source": [
        "# Vetores\n",
        "\n",
        "* o valores da altura, peso e idade podem ser representado através de vetor linha\n",
        "\n",
        "![](https://github.com/lacouth/metodos_numericos/blob/master/aula_matrizes_python/girl_row_vector.png?raw=1)"
      ]
    },
    {
      "cell_type": "markdown",
      "metadata": {
        "id": "J1eGC8hwk0SZ",
        "colab_type": "text"
      },
      "source": [
        "# Matrizes\n",
        "\n",
        "* Descrevemos a forma de uma matriz de acordo com seu número de linhas e colunas.\n",
        "\n",
        "![](https://github.com/lacouth/metodos_numericos/blob/master/aula_matrizes_python/girl_matrix.png?raw=1)"
      ]
    },
    {
      "cell_type": "markdown",
      "metadata": {
        "id": "w4eFd-Ldk0Sa",
        "colab_type": "text"
      },
      "source": [
        "# Tensores\n",
        "\n",
        "* O termo tensor pode se referir a qualquer conjunto de valores n-dimensionais.\n",
        "\n",
        "![](https://github.com/lacouth/metodos_numericos/blob/master/aula_matrizes_python/tensor.png?raw=1)"
      ]
    },
    {
      "cell_type": "markdown",
      "metadata": {
        "id": "g9KD1ehAk0Sb",
        "colab_type": "text"
      },
      "source": [
        "# Tensores \n",
        "\n",
        "* O problema é que dados com dimensões mais altas podem ser difíceis de visualizar.\n",
        "\n",
        "![](https://github.com/lacouth/metodos_numericos/blob/master/aula_matrizes_python/3d_matrix.png?raw=1)\n",
        "\n",
        "* Para 3 dimensões, pensamos em uma pilha de matrizes,"
      ]
    },
    {
      "cell_type": "markdown",
      "metadata": {
        "id": "s28gWMv6k0Sc",
        "colab_type": "text"
      },
      "source": [
        "# Tensores\n",
        "\n",
        "* Podemos então representar uma imagem RGB como um tensor de três dimensões.\n",
        "\n",
        "![](https://github.com/lacouth/metodos_numericos/blob/master/aula_matrizes_python/girl_3d.png?raw=1)"
      ]
    },
    {
      "cell_type": "markdown",
      "metadata": {
        "id": "bA3GISH1k0Sd",
        "colab_type": "text"
      },
      "source": [
        "# Tensores \n",
        "\n",
        "* O problema é que dados com dimensões mais altas podem ser difíceis de visualizar.\n",
        "\n",
        "![](https://github.com/lacouth/metodos_numericos/blob/master/aula_matrizes_python/4d_matrix.png?raw=1)\n",
        "\n",
        "* E, para 4 dimensões, pensamos em uma matriz em que cada uma das entradas é uma matriz,\n"
      ]
    },
    {
      "cell_type": "markdown",
      "metadata": {
        "id": "M5s3QRonk0Se",
        "colab_type": "text"
      },
      "source": [
        "# Simplificando\n",
        "\n",
        "* Na maioria dos casos vamos considerar que tudo pode ser representado como uma matriz.\n",
        "\n",
        "![](https://github.com/lacouth/metodos_numericos/blob/master/aula_matrizes_python/matrixes.png?raw=1)"
      ]
    },
    {
      "cell_type": "markdown",
      "metadata": {
        "id": "6CcQsYcEk0Sf",
        "colab_type": "text"
      },
      "source": [
        "# Matrizes e índices\n",
        "\n",
        "* Para utilizar os elementos de uma matriz precisamos saber os seus índices\n",
        "\n",
        "![](https://github.com/lacouth/metodos_numericos/blob/master/aula_matrizes_python/matrix_indices.png?raw=1)"
      ]
    },
    {
      "cell_type": "markdown",
      "metadata": {
        "id": "SfdiYR5bk0Sf",
        "colab_type": "text"
      },
      "source": [
        "# Matrizes e índices\n",
        "\n",
        "* Mas temos que lembrar que computacionalmente começamos a contar do ZERO.\n",
        "\n",
        "![](https://github.com/lacouth/metodos_numericos/blob/master/aula_matrizes_python/matrix_indices_zero.png?raw=1)"
      ]
    },
    {
      "cell_type": "markdown",
      "metadata": {
        "id": "adOA7HGnk0Sg",
        "colab_type": "text"
      },
      "source": [
        "# Introdução ao NumPy\n",
        "\n",
        "* O Python é conveniente, mas também pode ser lento. No entanto, ele permite que você acesse bibliotecas que executam códigos mais rápidos escritos em linguagens como C.\n",
        "\n",
        "* A NumPy é uma dessas bibliotecas: fornece alternativas rápidas para operações matemáticas em Python e foi projetada para funcionar eficientemente com grupos de números - como matrizes.\n",
        "\n",
        "* NumPy é uma biblioteca enorme e vamos apenas arranhar a superfície dela aqui."
      ]
    },
    {
      "cell_type": "markdown",
      "metadata": {
        "id": "rpBf1C_dk0Sh",
        "colab_type": "text"
      },
      "source": [
        "# Importando NumPy\n",
        "\n",
        "* Ao importar a biblioteca NumPy, a convenção que você verá usada com mais freqüência - incluindo aqui - é nomear np, assim:"
      ]
    },
    {
      "cell_type": "code",
      "metadata": {
        "id": "oeJT6ZlLk0Si",
        "colab_type": "code",
        "colab": {}
      },
      "source": [
        "import numpy as np "
      ],
      "execution_count": 0,
      "outputs": []
    },
    {
      "cell_type": "markdown",
      "metadata": {
        "id": "9D6Nx6UOk0Sm",
        "colab_type": "text"
      },
      "source": [
        "Agora você pode usar a biblioteca prefixando os nomes de funções e tipos com `np`"
      ]
    },
    {
      "cell_type": "markdown",
      "metadata": {
        "id": "bs5kXNGtk0Sn",
        "colab_type": "text"
      },
      "source": [
        "O conjunto completo de funções em numpy é muito longo para ser impresso em sua totalidade.\n",
        "A lista a seguir está limitada às funções mais usadas."
      ]
    },
    {
      "cell_type": "markdown",
      "metadata": {
        "id": "M2_T_Awwk0Sn",
        "colab_type": "text"
      },
      "source": [
        "`[’complex’, ’float’, ’abs’, ’append’, arccos’,\n",
        "’arccosh’, ’arcsin’, ’arcsinh’, ’arctan’, ’arctan2’,\n",
        "’arctanh’, ’argmax’, ’argmin’, ’cos’, ’cosh’, ’diag’,\n",
        "’diagonal’, ’dot’, ’e’, ’exp’, ’floor’, ’identity’,\n",
        "’inner, ’inv’, ’log’, ’log10’, ’max’, ’min’,\n",
        "’ones’, ’outer’, ’pi’, ’prod’ ’sin’, ’sinh’, ’size’,\n",
        "’solve’, ’sqrt’, ’sum’, ’tan’, ’tanh’, ’trace’,\n",
        "’transpose’, ’vectorize’,’zeros’]`"
      ]
    },
    {
      "cell_type": "markdown",
      "metadata": {
        "collapsed": true,
        "id": "2IUuCmock0So",
        "colab_type": "text"
      },
      "source": [
        "# Tipos e formas de dados\n",
        "\n",
        "* A maneira mais comum de trabalhar com números no NumPy é através de objetos ndarray. \n",
        "* Eles são semelhantes às listas do Python, mas podem ter qualquer número de dimensões. \n",
        "* Além disso, o ndarray suporta operações matemáticas rápidas, o que é exatamente o que queremos."
      ]
    },
    {
      "cell_type": "markdown",
      "metadata": {
        "id": "Y1tEjSGCk0Sp",
        "colab_type": "text"
      },
      "source": [
        "# Escalares\n",
        "\n",
        "* Os escalares no NumPy estão um pouco mais desenvolvidos do que no Python. \n",
        "\n",
        "* Em vez dos tipos básicos do Python, como int, float, etc., o NumPy permite especificar tipos com tamanhos diferentes. Então, em vez do `int` do Python, você tem acesso a tipos como `uint8`, `int8`, `uint16`, `int16` e assim por diante. \n",
        "\n",
        "* [Tipos NumPy](https://docs.scipy.org/doc/numpy-1.13.0/user/basics.types.html)\n"
      ]
    },
    {
      "cell_type": "markdown",
      "metadata": {
        "id": "RBH-FTXek0Sq",
        "colab_type": "text"
      },
      "source": [
        "# Escalares\n",
        "\n",
        "* E quando você criar um array NumPy, você pode especificar o tipo - mas cada item no array devem ter o mesmo tipo. \n",
        "\n",
        "* A este respeito, os arrays Numpy são mais como arrays C/C++ do que listas de Python."
      ]
    },
    {
      "cell_type": "code",
      "metadata": {
        "id": "GDNnS1n5k0Sq",
        "colab_type": "code",
        "colab": {},
        "outputId": "2ba29da2-50c7-4be8-e72f-5f387b1f0d74"
      },
      "source": [
        "s = np.array([[1,2],[2,2]])\n",
        "s[0][0]"
      ],
      "execution_count": 0,
      "outputs": [
        {
          "output_type": "execute_result",
          "data": {
            "text/plain": [
              "1"
            ]
          },
          "metadata": {
            "tags": []
          },
          "execution_count": 5
        }
      ]
    },
    {
      "cell_type": "code",
      "metadata": {
        "id": "v3dC7mcsk0Su",
        "colab_type": "code",
        "colab": {},
        "outputId": "123f47f2-6d99-45ad-bcd0-540766556212"
      },
      "source": [
        "x = s + 3\n",
        "x"
      ],
      "execution_count": 0,
      "outputs": [
        {
          "output_type": "execute_result",
          "data": {
            "text/plain": [
              "8"
            ]
          },
          "metadata": {
            "tags": []
          },
          "execution_count": 14
        }
      ]
    },
    {
      "cell_type": "markdown",
      "metadata": {
        "id": "0i5kDnQfk0Sw",
        "colab_type": "text"
      },
      "source": [
        "# Vetores\n",
        "\n",
        "Para criar um vetor, você passaria uma lista do Python para a função `array`, assim:"
      ]
    },
    {
      "cell_type": "code",
      "metadata": {
        "id": "veELnQ0gk0Sx",
        "colab_type": "code",
        "colab": {},
        "outputId": "3f6dbebf-8956-4367-e900-05bdf4f3820a"
      },
      "source": [
        "v = np.array([1,2,3])\n",
        "v"
      ],
      "execution_count": 0,
      "outputs": [
        {
          "output_type": "execute_result",
          "data": {
            "text/plain": [
              "array([1, 2, 3])"
            ]
          },
          "metadata": {
            "tags": []
          },
          "execution_count": 12
        }
      ]
    },
    {
      "cell_type": "code",
      "metadata": {
        "id": "flWTOYx1k0Sz",
        "colab_type": "code",
        "colab": {},
        "outputId": "67b39f09-315e-4a00-ab4f-7bd4dd5a9291"
      },
      "source": [
        "v.shape"
      ],
      "execution_count": 0,
      "outputs": [
        {
          "output_type": "execute_result",
          "data": {
            "text/plain": [
              "(3,)"
            ]
          },
          "metadata": {
            "tags": []
          },
          "execution_count": 13
        }
      ]
    },
    {
      "cell_type": "code",
      "metadata": {
        "id": "F_ez8PeEk0S2",
        "colab_type": "code",
        "colab": {},
        "outputId": "70daf1a6-b502-4c76-cdd8-385018e77ffb"
      },
      "source": [
        "v[1]"
      ],
      "execution_count": 0,
      "outputs": [
        {
          "output_type": "execute_result",
          "data": {
            "text/plain": [
              "2"
            ]
          },
          "metadata": {
            "tags": []
          },
          "execution_count": 19
        }
      ]
    },
    {
      "cell_type": "code",
      "metadata": {
        "id": "kxqlMiUsk0S4",
        "colab_type": "code",
        "colab": {},
        "outputId": "fa4c4bd7-d4c4-4859-836f-d5d2bac2308e"
      },
      "source": [
        "v[1:]"
      ],
      "execution_count": 0,
      "outputs": [
        {
          "output_type": "execute_result",
          "data": {
            "text/plain": [
              "array([2, 3])"
            ]
          },
          "metadata": {
            "tags": []
          },
          "execution_count": 20
        }
      ]
    },
    {
      "cell_type": "code",
      "metadata": {
        "id": "tyyutrpqk0S7",
        "colab_type": "code",
        "colab": {},
        "outputId": "f4abab97-24ce-46e2-ded6-e0f7869e0897"
      },
      "source": [
        "v[-1]"
      ],
      "execution_count": 0,
      "outputs": [
        {
          "output_type": "execute_result",
          "data": {
            "text/plain": [
              "3"
            ]
          },
          "metadata": {
            "tags": []
          },
          "execution_count": 21
        }
      ]
    },
    {
      "cell_type": "markdown",
      "metadata": {
        "id": "v2IKBZeZk0S9",
        "colab_type": "text"
      },
      "source": [
        "Agora que há um número, você pode ver que a forma é uma tupla com os tamanhos de cada uma das dimensões do ndarray. Para escalares era apenas uma tupla vazia, mas os vetores têm uma dimensão, então a tupla inclui um número e uma vírgula. (O Python não entende (3) como uma tupla com um item, por isso requer a vírgula. Você pode ler mais sobre as tuplas [aqui](https://docs.python.org/3/tutorial/datastructures.html#tuples-and-sequences))"
      ]
    },
    {
      "cell_type": "markdown",
      "metadata": {
        "id": "-_EM3YB6k0S-",
        "colab_type": "text"
      },
      "source": [
        "# Matrizes\n",
        "\n",
        "Você cria matrizes usando a função array do NumPy, da mesma forma que vocês fez para vetores. No entanto, em vez de apenas passar em uma lista, você precisa fornecer uma lista de listas, onde cada lista representa uma linha. Então, para criar uma matriz 3x3 contendo os números de um a nove, você poderia fazer isso:"
      ]
    },
    {
      "cell_type": "code",
      "metadata": {
        "id": "OdNbsIHpk0S_",
        "colab_type": "code",
        "colab": {},
        "outputId": "0607565d-028e-4282-9686-a8ecdb9bd285"
      },
      "source": [
        "m = np.array([[1,2,3], [4,5,6], [7,8,9]])\n",
        "m"
      ],
      "execution_count": 0,
      "outputs": [
        {
          "output_type": "execute_result",
          "data": {
            "text/plain": [
              "array([[1, 2, 3],\n",
              "       [4, 5, 6],\n",
              "       [7, 8, 9]])"
            ]
          },
          "metadata": {
            "tags": []
          },
          "execution_count": 7
        }
      ]
    },
    {
      "cell_type": "code",
      "metadata": {
        "id": "hnH2py5zk0TB",
        "colab_type": "code",
        "colab": {},
        "outputId": "34180a75-5dac-417c-8d12-43a94111f95d"
      },
      "source": [
        "m.shape"
      ],
      "execution_count": 0,
      "outputs": [
        {
          "output_type": "execute_result",
          "data": {
            "text/plain": [
              "(3, 3)"
            ]
          },
          "metadata": {
            "tags": []
          },
          "execution_count": 9
        }
      ]
    },
    {
      "cell_type": "markdown",
      "metadata": {
        "id": "sU3Uox2Ok0TG",
        "colab_type": "text"
      },
      "source": [
        "# Operações com elementos (Element-wise)\n",
        "> Tratar os itens na matriz individualmente e execute a operação em cada um deles.\n",
        "\n"
      ]
    },
    {
      "cell_type": "markdown",
      "metadata": {
        "id": "ZGTzm0i7k0TG",
        "colab_type": "text"
      },
      "source": [
        "# Aplicação real\n",
        "\n",
        "* Suponha que você precise mudar a escala do canal vermelho de uma imagem\n",
        "    * Transformar os valores de 0 - 255 para 0 - 1"
      ]
    },
    {
      "cell_type": "markdown",
      "metadata": {
        "id": "kL9JmVYgk0TH",
        "colab_type": "text"
      },
      "source": [
        "# Aplicação real (Normalizar)\n",
        "\n",
        "![red_channel](https://github.com/lacouth/metodos_numericos/blob/master/aula_matrizes_python/red_channel.png?raw=1)"
      ]
    },
    {
      "cell_type": "markdown",
      "metadata": {
        "id": "_UwE1v_Ik0TI",
        "colab_type": "text"
      },
      "source": [
        "# Aplicação real\n",
        "\n",
        "![red_channel2](https://github.com/lacouth/metodos_numericos/blob/master/aula_matrizes_python/red_channel_2.png?raw=1)"
      ]
    },
    {
      "cell_type": "markdown",
      "metadata": {
        "id": "ac9EitFYk0TJ",
        "colab_type": "text"
      },
      "source": [
        "# Operações com elementos (Element-wise)\n",
        "\n",
        "Suponha que você tenha uma lista de números e queira adicionar 5 a todos os itens da lista. Sem o NumPy, você pode fazer algo assim:"
      ]
    },
    {
      "cell_type": "code",
      "metadata": {
        "id": "-U-onenEk0TJ",
        "colab_type": "code",
        "colab": {},
        "outputId": "01097d23-b0b3-44a8-d920-769bd091abb0"
      },
      "source": [
        "vetor = [1,2,3,4,5]\n",
        "for i in range(len(vetor)):\n",
        "    vetor[i] += 5\n",
        "\n",
        "vetor"
      ],
      "execution_count": 0,
      "outputs": [
        {
          "output_type": "execute_result",
          "data": {
            "text/plain": [
              "[6, 7, 8, 9, 10]"
            ]
          },
          "metadata": {
            "tags": []
          },
          "execution_count": 31
        }
      ]
    },
    {
      "cell_type": "markdown",
      "metadata": {
        "id": "JDmMQFsmk0TM",
        "colab_type": "text"
      },
      "source": [
        "### Com o NumPy"
      ]
    },
    {
      "cell_type": "code",
      "metadata": {
        "id": "WQJQYapbk0TM",
        "colab_type": "code",
        "colab": {},
        "outputId": "80b5bda6-42b8-4d80-ad08-3b2c4259b900"
      },
      "source": [
        "vetor = [1,2,3,4,5]\n",
        "vetor = np.array(vetor)\n",
        "vetor += 5\n",
        "vetor"
      ],
      "execution_count": 0,
      "outputs": [
        {
          "output_type": "execute_result",
          "data": {
            "text/plain": [
              "array([ 6,  7,  8,  9, 10])"
            ]
          },
          "metadata": {
            "tags": []
          },
          "execution_count": 28
        }
      ]
    },
    {
      "cell_type": "markdown",
      "metadata": {
        "id": "3r1YD5jJk0TP",
        "colab_type": "text"
      },
      "source": [
        "# Operações com elementos (Element-wise)\n",
        "\n",
        "> As mesmas funções e operadores que trabalham com escalares e matrizes também funcionam com outras dimensões. Você só precisa se certificar de que os itens em que você realiza a operação tenham formas compatíveis."
      ]
    },
    {
      "cell_type": "markdown",
      "metadata": {
        "id": "24pdM4GGk0TP",
        "colab_type": "text"
      },
      "source": [
        "![matrix_sum](https://github.com/lacouth/metodos_numericos/blob/master/aula_matrizes_python/matriz_sum.png?raw=1)"
      ]
    },
    {
      "cell_type": "markdown",
      "metadata": {
        "id": "VJmbKEh8k0TQ",
        "colab_type": "text"
      },
      "source": [
        "![matriz_sum2](https://github.com/lacouth/metodos_numericos/blob/master/aula_matrizes_python/matrix_sum2.png?raw=1)"
      ]
    },
    {
      "cell_type": "markdown",
      "metadata": {
        "id": "JQ_cyy2Ik0TR",
        "colab_type": "text"
      },
      "source": [
        "## Com o NumPy"
      ]
    },
    {
      "cell_type": "code",
      "metadata": {
        "id": "Xq1vimDUk0TS",
        "colab_type": "code",
        "colab": {},
        "outputId": "38d1cb24-9f15-4c09-ce22-8151230c630a"
      },
      "source": [
        "a = np.array([[1,3],[5,7]])\n",
        "a"
      ],
      "execution_count": 0,
      "outputs": [
        {
          "output_type": "execute_result",
          "data": {
            "text/plain": [
              "array([[1, 3],\n",
              "       [5, 7]])"
            ]
          },
          "metadata": {
            "tags": []
          },
          "execution_count": 32
        }
      ]
    },
    {
      "cell_type": "code",
      "metadata": {
        "id": "jDKWnFAck0TU",
        "colab_type": "code",
        "colab": {},
        "outputId": "30fa8067-ad1d-4eb0-e6c8-1a7b8d8932c1"
      },
      "source": [
        "b = np.array([[2,4],[6,8]])\n",
        "b"
      ],
      "execution_count": 0,
      "outputs": [
        {
          "output_type": "execute_result",
          "data": {
            "text/plain": [
              "array([[2, 4],\n",
              "       [6, 8]])"
            ]
          },
          "metadata": {
            "tags": []
          },
          "execution_count": 33
        }
      ]
    },
    {
      "cell_type": "code",
      "metadata": {
        "id": "cxb2gdQtk0TW",
        "colab_type": "code",
        "colab": {},
        "outputId": "f283b662-e473-4b0a-f5ec-75bb568b3bd2"
      },
      "source": [
        "a + b"
      ],
      "execution_count": 0,
      "outputs": [
        {
          "output_type": "execute_result",
          "data": {
            "text/plain": [
              "array([[ 3,  7],\n",
              "       [11, 15]])"
            ]
          },
          "metadata": {
            "tags": []
          },
          "execution_count": 34
        }
      ]
    },
    {
      "cell_type": "markdown",
      "metadata": {
        "id": "2znuUCBok0TZ",
        "colab_type": "text"
      },
      "source": [
        "E se você tentar trabalhar com formas incompatíveis,"
      ]
    },
    {
      "cell_type": "code",
      "metadata": {
        "id": "OjNIgTcfk0Ta",
        "colab_type": "code",
        "colab": {},
        "outputId": "2c708b4f-bfe0-4d08-d894-20241e81f4ba"
      },
      "source": [
        "a = np.array([[1,3],[5,7]])\n",
        "a"
      ],
      "execution_count": 0,
      "outputs": [
        {
          "output_type": "execute_result",
          "data": {
            "text/plain": [
              "array([[1, 3],\n",
              "       [5, 7]])"
            ]
          },
          "metadata": {
            "tags": []
          },
          "execution_count": 35
        }
      ]
    },
    {
      "cell_type": "code",
      "metadata": {
        "id": "ynwjz5Hak0Td",
        "colab_type": "code",
        "colab": {},
        "outputId": "feaa3802-bade-42e8-db5a-548eace2a7ab"
      },
      "source": [
        "c = np.array([[2,3,6],[4,5,9],[1,8,7]])\n",
        "c"
      ],
      "execution_count": 0,
      "outputs": [
        {
          "output_type": "execute_result",
          "data": {
            "text/plain": [
              "array([[2, 3, 6],\n",
              "       [4, 5, 9],\n",
              "       [1, 8, 7]])"
            ]
          },
          "metadata": {
            "tags": []
          },
          "execution_count": 36
        }
      ]
    },
    {
      "cell_type": "code",
      "metadata": {
        "id": "xsWwIlEyk0Tf",
        "colab_type": "code",
        "colab": {},
        "outputId": "f5d437dc-92ba-4640-8b20-efd13d184fbb"
      },
      "source": [
        "a.shape"
      ],
      "execution_count": 0,
      "outputs": [
        {
          "output_type": "execute_result",
          "data": {
            "text/plain": [
              "(2, 2)"
            ]
          },
          "metadata": {
            "tags": []
          },
          "execution_count": 37
        }
      ]
    },
    {
      "cell_type": "code",
      "metadata": {
        "id": "kkO6mxIak0Ti",
        "colab_type": "code",
        "colab": {},
        "outputId": "ea1c0c23-0f53-457e-c8e4-dd9f751f33dd"
      },
      "source": [
        "c.shape"
      ],
      "execution_count": 0,
      "outputs": [
        {
          "output_type": "execute_result",
          "data": {
            "text/plain": [
              "(3, 3)"
            ]
          },
          "metadata": {
            "tags": []
          },
          "execution_count": 38
        }
      ]
    },
    {
      "cell_type": "code",
      "metadata": {
        "id": "__39pvJGk0Tk",
        "colab_type": "code",
        "colab": {},
        "outputId": "6d0f904f-957c-4e76-cc85-63be097ff1d9"
      },
      "source": [
        "a + c"
      ],
      "execution_count": 0,
      "outputs": [
        {
          "output_type": "error",
          "ename": "ValueError",
          "evalue": "operands could not be broadcast together with shapes (2,2) (3,3) ",
          "traceback": [
            "\u001b[0;31m---------------------------------------------------------------------------\u001b[0m",
            "\u001b[0;31mValueError\u001b[0m                                Traceback (most recent call last)",
            "\u001b[0;32m<ipython-input-39-e81e582b6fa9>\u001b[0m in \u001b[0;36m<module>\u001b[0;34m\u001b[0m\n\u001b[0;32m----> 1\u001b[0;31m \u001b[0ma\u001b[0m \u001b[0;34m+\u001b[0m \u001b[0mc\u001b[0m\u001b[0;34m\u001b[0m\u001b[0;34m\u001b[0m\u001b[0m\n\u001b[0m",
            "\u001b[0;31mValueError\u001b[0m: operands could not be broadcast together with shapes (2,2) (3,3) "
          ]
        }
      ]
    },
    {
      "cell_type": "markdown",
      "metadata": {
        "id": "ugx-X2Ifk0Tm",
        "colab_type": "text"
      },
      "source": [
        "# O produto de matrizes\n",
        "\n",
        "\n",
        "$$\n",
        "\\left[ \\begin{matrix}\n",
        "1 & 2 & 3 \\\\\n",
        "4 & 5 & 6 \\\\\n",
        "7 & 8 & 9 \n",
        "\\end{matrix} \\right]\n",
        "%\n",
        "\\dot\n",
        "%\n",
        "\\left[ \\begin{matrix}\n",
        "1 & 2 & 3 \\\\\n",
        "4 & 5 & 6 \\\\\n",
        "7 & 8 & 9 \n",
        "\\end{matrix} \\right]\n",
        "%\n",
        "=\n",
        "%\n",
        "\\left[ \\begin{matrix}\n",
        "30 & 36 & 42 \\\\\n",
        "66 & 81 & 96 \\\\\n",
        "102 & 126 & 150 \n",
        "\\end{matrix} \\right]\n",
        "$$\n"
      ]
    },
    {
      "cell_type": "markdown",
      "metadata": {
        "id": "LsUJHzwKk0Tn",
        "colab_type": "text"
      },
      "source": [
        "## Lembretes importantes sobre a multiplicação de matrizes\n",
        "\n",
        "* O número de colunas na matriz esquerda deve ser igual ao número de linhas na matriz direita.\n"
      ]
    },
    {
      "cell_type": "code",
      "metadata": {
        "id": "SUu_vpa3k0To",
        "colab_type": "code",
        "colab": {},
        "outputId": "d701a4e7-83e4-4144-af02-0b88b191fa87"
      },
      "source": [
        "a = np.array([[1,2,3],[4,5,6]])\n",
        "a.shape"
      ],
      "execution_count": 0,
      "outputs": [
        {
          "output_type": "execute_result",
          "data": {
            "text/plain": [
              "(2, 3)"
            ]
          },
          "metadata": {
            "tags": []
          },
          "execution_count": 44
        }
      ]
    },
    {
      "cell_type": "code",
      "metadata": {
        "id": "3pUDmehnk0Tr",
        "colab_type": "code",
        "colab": {},
        "outputId": "f38a58bb-6348-4b05-8fb9-2f47b40a12b4"
      },
      "source": [
        "b = np.array([[1,2],[3,4],[5,6]])\n",
        "b.shape"
      ],
      "execution_count": 0,
      "outputs": [
        {
          "output_type": "execute_result",
          "data": {
            "text/plain": [
              "(3, 2)"
            ]
          },
          "metadata": {
            "tags": []
          },
          "execution_count": 45
        }
      ]
    },
    {
      "cell_type": "markdown",
      "metadata": {
        "id": "85TJHycVk0Tt",
        "colab_type": "text"
      },
      "source": [
        "* A ordem é importante. Multiplicar A • B não é o mesmo que multiplicar B • A.\n",
        "* A matriz de respostas sempre tem o mesmo número de linhas que a matriz da esquerda e o mesmo número de colunas que a matriz da direita."
      ]
    },
    {
      "cell_type": "markdown",
      "metadata": {
        "id": "CAyX0wkRk0Tt",
        "colab_type": "text"
      },
      "source": [
        "# O Produto de matrizes no NumPy\n",
        "\n",
        "Para encontrar o produto da matriz, use a função `matmul` do NumPy.\n",
        "\n",
        "Se você tem dimensões compatíveis, então é simples assim:"
      ]
    },
    {
      "cell_type": "code",
      "metadata": {
        "id": "YYq6ITWzk0Tu",
        "colab_type": "code",
        "colab": {},
        "outputId": "ff1afff4-6179-46fc-f5d6-712e386a1000"
      },
      "source": [
        "a = np.array([[1,2,3,4],[5,6,7,8]])\n",
        "a"
      ],
      "execution_count": 0,
      "outputs": [
        {
          "output_type": "execute_result",
          "data": {
            "text/plain": [
              "array([[1, 2, 3, 4],\n",
              "       [5, 6, 7, 8]])"
            ]
          },
          "metadata": {
            "tags": []
          },
          "execution_count": 51
        }
      ]
    },
    {
      "cell_type": "code",
      "metadata": {
        "id": "Wll3W8Fzk0Tw",
        "colab_type": "code",
        "colab": {},
        "outputId": "2e63847a-c460-4877-e813-5ec5ff4e709b"
      },
      "source": [
        "b = np.array([[1,2,3],[4,5,6],[7,8,9],[10,11,12]])\n",
        "b"
      ],
      "execution_count": 0,
      "outputs": [
        {
          "output_type": "execute_result",
          "data": {
            "text/plain": [
              "array([[ 1,  2,  3],\n",
              "       [ 4,  5,  6],\n",
              "       [ 7,  8,  9],\n",
              "       [10, 11, 12]])"
            ]
          },
          "metadata": {
            "tags": []
          },
          "execution_count": 52
        }
      ]
    },
    {
      "cell_type": "code",
      "metadata": {
        "id": "ZmrBY6MKk0Tz",
        "colab_type": "code",
        "colab": {},
        "outputId": "ddfe5e4b-7d0c-4536-82b6-9fd798c23654"
      },
      "source": [
        "c = np.matmul(a, b)\n",
        "c"
      ],
      "execution_count": 0,
      "outputs": [
        {
          "output_type": "execute_result",
          "data": {
            "text/plain": [
              "array([[ 70,  80,  90],\n",
              "       [158, 184, 210]])"
            ]
          },
          "metadata": {
            "tags": []
          },
          "execution_count": 53
        }
      ]
    },
    {
      "cell_type": "markdown",
      "metadata": {
        "id": "lz5dzMGwk0T1",
        "colab_type": "text"
      },
      "source": [
        "## Matriz Transposta\n",
        "\n",
        "Obter a transposição de uma matriz é realmente fácil no NumPy. Basta acessar seu atributo T. Há também uma função transpose () que retorna a mesma coisa, mas você raramente verá isso em qualquer lugar porque digitar T é muito mais fácil. :)"
      ]
    },
    {
      "cell_type": "code",
      "metadata": {
        "id": "aQfARLP7k0T1",
        "colab_type": "code",
        "colab": {},
        "outputId": "67549f2e-b71d-4d93-966d-900b8fae7d47"
      },
      "source": [
        "m = np.array([[1,2,3,4], [5,6,7,8], [9,10,11,12]])\n",
        "m"
      ],
      "execution_count": 0,
      "outputs": [
        {
          "output_type": "execute_result",
          "data": {
            "text/plain": [
              "array([[ 1,  2,  3,  4],\n",
              "       [ 5,  6,  7,  8],\n",
              "       [ 9, 10, 11, 12]])"
            ]
          },
          "metadata": {
            "tags": []
          },
          "execution_count": 46
        }
      ]
    },
    {
      "cell_type": "code",
      "metadata": {
        "id": "oTGHXrOZk0T4",
        "colab_type": "code",
        "colab": {},
        "outputId": "46d6388d-ab7d-4eb5-a667-01817a7e1676"
      },
      "source": [
        "m.T"
      ],
      "execution_count": 0,
      "outputs": [
        {
          "output_type": "execute_result",
          "data": {
            "text/plain": [
              "array([[ 1,  5,  9],\n",
              "       [ 2,  6, 10],\n",
              "       [ 3,  7, 11],\n",
              "       [ 4,  8, 12]])"
            ]
          },
          "metadata": {
            "tags": []
          },
          "execution_count": 47
        }
      ]
    },
    {
      "cell_type": "markdown",
      "metadata": {
        "id": "wblf_ceIk0T7",
        "colab_type": "text"
      },
      "source": [
        "O NumPy faz isso sem realmente mover nenhum dado na memória - ele simplesmente altera a maneira como indexa a matriz original - por isso é bastante eficiente."
      ]
    },
    {
      "cell_type": "code",
      "metadata": {
        "id": "IPNgr7K3k0T7",
        "colab_type": "code",
        "colab": {},
        "outputId": "4c205688-4dde-40b3-b196-eee6218ff0c7"
      },
      "source": [
        "m_t = m.T\n",
        "m_t[3][1] = 200\n",
        "m_t"
      ],
      "execution_count": 0,
      "outputs": [
        {
          "output_type": "execute_result",
          "data": {
            "text/plain": [
              "array([[  1,   5,   9],\n",
              "       [  2,   6,  10],\n",
              "       [  3,   7,  11],\n",
              "       [  4, 200,  12]])"
            ]
          },
          "metadata": {
            "tags": []
          },
          "execution_count": 49
        }
      ]
    },
    {
      "cell_type": "code",
      "metadata": {
        "id": "TeninMqVk0T_",
        "colab_type": "code",
        "colab": {},
        "outputId": "7b0b40cc-f336-4739-d56f-e6c0ca9c8fdc"
      },
      "source": [
        "m"
      ],
      "execution_count": 0,
      "outputs": [
        {
          "output_type": "execute_result",
          "data": {
            "text/plain": [
              "array([[  1,   2,   3,   4],\n",
              "       [  5,   6,   7, 200],\n",
              "       [  9,  10,  11,  12]])"
            ]
          },
          "metadata": {
            "tags": []
          },
          "execution_count": 50
        }
      ]
    },
    {
      "cell_type": "markdown",
      "metadata": {
        "id": "OazlRvrnk0UC",
        "colab_type": "text"
      },
      "source": [
        "# That's all for now!"
      ]
    }
  ]
}