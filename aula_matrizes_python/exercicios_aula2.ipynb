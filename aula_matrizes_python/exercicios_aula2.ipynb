{
 "cells": [
  {
   "cell_type": "markdown",
   "metadata": {},
   "source": [
    "# Exercícios de revisão\n",
    "\n",
    "## NumPy e matrizes"
   ]
  },
  {
   "cell_type": "markdown",
   "metadata": {},
   "source": [
    "Não esqueça de importar o `NumPy`"
   ]
  },
  {
   "cell_type": "code",
   "execution_count": null,
   "metadata": {},
   "outputs": [],
   "source": [
    "import numpy as np"
   ]
  },
  {
   "cell_type": "markdown",
   "metadata": {},
   "source": [
    "### 1.  Faça uma função `preparar_dados(input)` que dada uma `lista` em Python, retorne um `array NumPy`"
   ]
  },
  {
   "cell_type": "code",
   "execution_count": null,
   "metadata": {},
   "outputs": [],
   "source": []
  },
  {
   "cell_type": "markdown",
   "metadata": {},
   "source": [
    "### Teste"
   ]
  },
  {
   "cell_type": "code",
   "execution_count": null,
   "metadata": {},
   "outputs": [],
   "source": [
    "def teste_dados():\n",
    "    assert type(preparar_dados([1,2,3])) is np.ndarray, \"a função não retornou um np.array\"\n",
    "\n",
    "try:\n",
    "    teste_dados()\n",
    "    print(\"Deu tudo certo, pode continuar...\")\n",
    "except AssertionError as error:\n",
    "    print(error)"
   ]
  },
  {
   "cell_type": "markdown",
   "metadata": {},
   "source": [
    "### 2. Faça uma função `media(input)` que retorna a média de uma dada lista"
   ]
  },
  {
   "cell_type": "code",
   "execution_count": null,
   "metadata": {},
   "outputs": [],
   "source": []
  },
  {
   "cell_type": "code",
   "execution_count": null,
   "metadata": {},
   "outputs": [],
   "source": [
    "def teste_media():\n",
    "    assert type(media([1,2,3])) is not np.ndarray, \"a função retornou um np.array\"\n",
    "    assert media([1,1,1,1,1]) == 1 , \"a função não retornou a média correta\"\n",
    "\n",
    "try:\n",
    "    teste_media()\n",
    "    print(\"Deu tudo certo, pode continuar...\")\n",
    "except AssertionError as error:\n",
    "    print(error)"
   ]
  },
  {
   "cell_type": "markdown",
   "metadata": {},
   "source": [
    "### 3. Faça uma função `menos_min(input)` que recebe uma lista e retorna um `ndarray` com os valores da lista original subtraidos pelo menor valor encontrado na lista"
   ]
  },
  {
   "cell_type": "code",
   "execution_count": null,
   "metadata": {},
   "outputs": [],
   "source": []
  },
  {
   "cell_type": "code",
   "execution_count": null,
   "metadata": {},
   "outputs": [],
   "source": [
    "def teste_menos():\n",
    "    assert type(menos_min([1,2,3])) is np.ndarray, \"a função não retornou um np.array\"\n",
    "    assert (menos_min([1,2,3]) == [0,1,2]).all() , \"a função não retornou o array correto\"\n",
    "\n",
    "try:\n",
    "    teste_menos()\n",
    "    print(\"Deu tudo certo, pode continuar...\")\n",
    "except AssertionError as error:\n",
    "    print(error)"
   ]
  },
  {
   "cell_type": "markdown",
   "metadata": {},
   "source": [
    "### 4. Faça um função `dividir_max(input)` que recebe uma lista e retorna um `ndarray` com os valores da lista original divididos pelo maior valor encontrado na lista"
   ]
  },
  {
   "cell_type": "code",
   "execution_count": null,
   "metadata": {},
   "outputs": [],
   "source": []
  },
  {
   "cell_type": "code",
   "execution_count": null,
   "metadata": {},
   "outputs": [],
   "source": [
    "def teste_max():\n",
    "    assert type(dividir_max([1,2,3])) is np.ndarray, \"a função não retornou um np.array\"\n",
    "    assert (dividir_max([1,2,3]) == [1/3,2/3,3/3]).all() , \"a função não retornou o array correto\"\n",
    "\n",
    "try:\n",
    "    teste_max()\n",
    "    print(\"Deu tudo certo, pode continuar...\")\n",
    "except AssertionError as error:\n",
    "    print(error)"
   ]
  },
  {
   "cell_type": "markdown",
   "metadata": {},
   "source": [
    "### 5. Faça uma função `multiplicar_matrizes(m1, m2)` que recebe duas matrizes e retorna o resultado do produto entre matrizes ou retorna `False` caso não seja possível multiplicar as duas matrizes."
   ]
  },
  {
   "cell_type": "code",
   "execution_count": null,
   "metadata": {},
   "outputs": [],
   "source": []
  },
  {
   "cell_type": "code",
   "execution_count": null,
   "metadata": {},
   "outputs": [],
   "source": [
    "def teste_multiplicar():\n",
    "    assert type(multiplicar_matrizes([[1,1],[2,2]], [[1,1],[2,2]])) is np.ndarray, \\\n",
    "    \"a função não retornou um np.array\"\n",
    "    \n",
    "    assert not multiplicar_matrizes([[1,1,1],[1,1,1],[1,1,1]],[[1,1],[1,1]]), \\\n",
    "    \"não retornou False para a diferença entre linhas e colunas das matrizes\"\n",
    "    \n",
    "    assert (multiplicar_matrizes([[1,1],[2,2]], [[1,1],[2,2]]) == [[3,3],[6,6]]).all(), \\\n",
    "    \"a função não retornou a matriz correta\"\n",
    "\n",
    "try:\n",
    "    teste_multiplicar()\n",
    "    print(\"Deu tudo certo, pode continuar...\")\n",
    "except AssertionError as error:\n",
    "    print(error)"
   ]
  }
 ],
 "metadata": {
  "kernelspec": {
   "display_name": "Python 3",
   "language": "python",
   "name": "python3"
  },
  "language_info": {
   "codemirror_mode": {
    "name": "ipython",
    "version": 3
   },
   "file_extension": ".py",
   "mimetype": "text/x-python",
   "name": "python",
   "nbconvert_exporter": "python",
   "pygments_lexer": "ipython3",
   "version": "3.7.2"
  }
 },
 "nbformat": 4,
 "nbformat_minor": 2
}
