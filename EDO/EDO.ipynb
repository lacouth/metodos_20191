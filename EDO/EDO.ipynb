{
 "cells": [
  {
   "cell_type": "markdown",
   "metadata": {},
   "source": [
    "# EDO\n",
    "\n",
    "## Equações diferenciais ordinárias\n",
    "\n",
    "As equações diferenciais são aquelas equações que relacionam uma função a uma ou mais de suas derivadas. Isso significa que a solução delas é uma função. Por exemplo:\n",
    "\n",
    "$$y'' + 2y' = 3y$$\n",
    "\n",
    "onde uma das soluções possíveis é: $y = e^{-3x}$,pois \n",
    "\n",
    "$$9e^{-3x}-6e^{-3x} = 3e^{-3x}$$\n",
    "\n",
    "outras funções, ou mesmo uma classe de funções, podem satisfazer uma EDO.\n",
    "\n",
    "## O Método de Euler\n",
    "\n",
    "Numericamente o objetivo passa a ser reconstruir ponto a ponto a função de interesse. Para isso precisamos que ao menos um ponto inicial seja conhecido, por isso esse tipo de problema também é conhecido como **Problema de Valor Inicial** (PVI).\n",
    "\n",
    "O método de Euler é conceitualmente simples, sua base é a série de Taylor truncada :\n",
    "\n",
    "$$f(x+h) = f(x) + hf'(x)$$\n",
    "\n",
    "Como o método prediz a função em $x+h$ a partir da informação disponível em $x$, ela pode ser usada para mover a solução em passos de largura $h$. A figura abaixo ilustra esse conceito.\n",
    "\n",
    "![](exemplo_euler.png)\n",
    "\n",
    "### Exemplo:\n",
    "\n",
    "1. Dada a seguinte equação diferencial:\n",
    "\n",
    "$$\\frac{dy}{dx} + 0.4y(x) = 3e^{-x}$$\n",
    "\n",
    "sabendo que y(0) = 5, encontre y(3).\n",
    "\n",
    "**solução**\n",
    "\n",
    "Considerando por simplicidade:\n",
    "\n",
    "$$\\frac{dy}{dx} = f(x,y(x)) = f(x,y)$$\n",
    "\n",
    "temos\n",
    "\n",
    "$$f(x,y) + 0.4y(x) = 3e^{-x}$$\n",
    "\n",
    "O primeiro passo é reescrever a equação isolando $f(x,y)$.\n",
    "\n",
    "$$f(x,y) = 3e^{-x} - 0.4y(x)$$\n",
    "\n",
    "Utilizando $h=3$ partindo de $x=0$, através do método de Euler temos que:\n",
    "\n",
    "$y(x+h) = y(x)+hf(x,y)$\n",
    "\n",
    "$y(0+3) = f(0) +3(f(0,5))$\n",
    "\n",
    "$y(3) = 5 + 3(3e^{-0} - 0.4y(0))$\n",
    "\n",
    "$y(3) = 5 + 3(3 - 0.4(5))$\n",
    "\n",
    "$y(3) = 8 $\n",
    "\n",
    "A solução exata é $y(3) = 2.7563$, o que resulta em um erro real $|\\epsilon_r| = 190\\%$.\n",
    "\n",
    "**solução 2**\n",
    "\n",
    "Para melhorar o resultado podemos diminuir o intervalo $h$.\n",
    "\n",
    "Utilizando $h=1.5$ teremos que fazer duas iterações do método para chegar no ponto $x=3$\n",
    "\n",
    "$$0 \\implies 1.5 \\implies 3$$\n",
    "\n",
    "**1ª iteração**\n",
    "\n",
    "$0 \\implies 1.5$\n",
    "\n",
    "$y(0+1.5) = y(0) + 1.5(f(0,y(0))$\n",
    "\n",
    "$y(1.5) = 5 + 1.5(3e^{-0} - 0.4y(0))$\n",
    "\n",
    "$y(1.5) = 6.5$\n",
    "\n",
    "**2ª iteração**\n",
    "\n",
    "$1.5 \\implies 3$\n",
    "\n",
    "$y(1.5+1.5) = y(1.5) + 1.5(f(1.5,y(1.5))$\n",
    "\n",
    "$y(3) = 6.5 + 1.5(3e^{-0} - 0.4y(1.5))$\n",
    "\n",
    "$y(3) = 3.604$\n",
    "\n",
    "A solução exata é $y(3) = 2.7563$, o que resulta em um erro real $|\\epsilon_r| = 30.44\\%$.\n",
    "\n",
    "**solução 3 (Implementando em python)**\n"
   ]
  },
  {
   "cell_type": "code",
   "execution_count": 1,
   "metadata": {},
   "outputs": [],
   "source": [
    "import numpy as np\n",
    "\n",
    "## definindo a dx/dy =f(x,y) do problema\n",
    "def fxy(x,y):\n",
    "    return 3*np.exp(-x)-0.4*y "
   ]
  },
  {
   "cell_type": "code",
   "execution_count": 29,
   "metadata": {},
   "outputs": [],
   "source": [
    "#implementando o método de Euler\n",
    "# a função recebe: \n",
    "# dx/dy = f(x,y), \n",
    "# o valor inicial y0,\n",
    "# o valor inicial de x0,\n",
    "# o valor final de xf a ser calculado\n",
    "# o passo entre cada iteração h\n",
    "\n",
    "def euler(fxy, y0, x0,xf, h):\n",
    "    it = int((xf - x0)/h) # calcula quantas iterações são necessárias para chegar a xf\n",
    "    y = np.zeros(it+1)\n",
    "    y[0] = y0\n",
    "    for i in range(it):\n",
    "        y[i+1] = y[i]+h*fxy(x0+i*h,y[i])\n",
    "    return y\n",
    "        "
   ]
  },
  {
   "cell_type": "code",
   "execution_count": 35,
   "metadata": {},
   "outputs": [
    {
     "data": {
      "text/plain": [
       "array([5., 8.])"
      ]
     },
     "execution_count": 35,
     "metadata": {},
     "output_type": "execute_result"
    }
   ],
   "source": [
    "euler(fxy,y0=5,x0=0,xf=3,h=3) # 1 iteração"
   ]
  },
  {
   "cell_type": "code",
   "execution_count": 36,
   "metadata": {},
   "outputs": [
    {
     "data": {
      "text/plain": [
       "array([5.        , 6.5       , 3.60408572])"
      ]
     },
     "execution_count": 36,
     "metadata": {},
     "output_type": "execute_result"
    }
   ],
   "source": [
    "euler(fxy,y0=5,x0=0,xf=3,h=1.5) # 2 iterações"
   ]
  },
  {
   "cell_type": "code",
   "execution_count": 45,
   "metadata": {},
   "outputs": [
    {
     "data": {
      "text/plain": [
       "array([5.        , 5.3       , 5.3307364 , 5.1849785 , 4.92869378,\n",
       "       4.60832531, 4.25614342, 3.89417521, 3.53708497, 3.19428093,\n",
       "       2.87145218])"
      ]
     },
     "execution_count": 45,
     "metadata": {},
     "output_type": "execute_result"
    }
   ],
   "source": [
    "y_3 = euler(fxy,y0=5,x0=0,xf=3,h=0.3) # 10 iterações\n",
    "y_3"
   ]
  },
  {
   "cell_type": "code",
   "execution_count": 46,
   "metadata": {},
   "outputs": [
    {
     "data": {
      "text/plain": [
       "4.177781122947298"
      ]
     },
     "execution_count": 46,
     "metadata": {},
     "output_type": "execute_result"
    }
   ],
   "source": [
    "# calculando o erro real para 10 iterações\n",
    "\n",
    "erro = np.abs((2.7563 - y_3[-1])/2.7563)*100\n",
    "erro"
   ]
  },
  {
   "cell_type": "markdown",
   "metadata": {},
   "source": [
    "# Os métodos de Runge-Kutta\n",
    "\n",
    "O método de Euler é classificado como um método de primeira ordem porque sua base foi a série de Taylor truncada. A precisão numérica pode ser melhorada, mantendo mais termos da série. Assim, um método de enésima ordem usaria a série truncada de Taylor até o enésimo termo.\n",
    "\n",
    "$$f(x+h) = f(x) + hf'(x) + \\frac{h^2}{2!}f''(x) + \\dots + \\frac{h^n}{n!}f^n(x)$$\n",
    "\n",
    "Mas agora teriamos que derivar expressões para $f''(x)$, $f'''(x)$, ... $f^{n}(x)$ e escrever subrotinas para calcular elas. Esse trabalho extra pode ser evitado pelo uso dos métodos de Runge-Kutta que são baseados na série de Taylo truncada mas não requerem o cálculo de derivas de alta ordem.\n",
    "\n",
    "## Runge-Kutta de 2ª Ordem\n",
    "\n",
    "Para chegar ao método Runge-Kutta de segunda ordem, assumimos que a fórmula:\n",
    "\n",
    "$y_{i+1} = y_i + (a_1k_1 + a_2k_2)h$\n",
    "\n",
    "onde\n",
    "\n",
    "$k_1 = f(x_i,y_i)$\n",
    "\n",
    "$k_2 = f(x_i+p_1h, y_i+q_{11}k_1h)$\n",
    "\n",
    "é igual a série de Taylor de segunda ordem:\n",
    "\n",
    "$y_{i+1} = y_i + (a_1k_1 + a_2k_2)h = y_i + hf(x_i,y_i) + \\frac{h^2}{2!}f'(x_i,y_i)$\n",
    "\n",
    "Fazendo isso, um sistema de três equações pode ser derivado para encontrar as quatro constantes desconhecidas. As três equações são:\n",
    "\n",
    "$a_1 + a_2 = 1$\n",
    "\n",
    "$a_2p_1 = 1/2$\n",
    "\n",
    "$a_2q_{11} = 1/2$\n",
    "\n",
    "Como temos três equações com quatro incógnitas, essas equações são consideradas indeterminadas. Nós, portanto, devemos assumir (**chutar**) um valor de uma das constantes para determinar os outros três. Suponha que especificamos um valor para $a_2$. Então as equações podem ser resolvidas como:\n",
    "\n",
    "$a_1 = 1 - a_2$\n",
    "\n",
    "$p_1=q_{11}=\\frac{1}{2a_2}$\n",
    "\n",
    "Como podemos escolher um número infinito de valores para $a_2$, há um número infinito de métodos RK de segunda ordem. Três das versões mais usadas e preferidas são apresentadas a seguir:\n",
    "\n",
    "## Método de Heun ( $a_2 = \\frac{1}{2} $ )\n",
    "\n",
    "Se $a_2 = \\frac{1}{2}$ obtemos\n",
    "\n",
    "$a_1 = 1 - a_2$\n",
    "\n",
    "$a_1 = \\frac{1}{2}$\n",
    "\n",
    "e\n",
    "\n",
    "$p_1=q_{11}=\\frac{1}{2a_2}$\n",
    "\n",
    "$p_1=q_{11}=1$\n",
    "\n",
    "logo a equação de atualização de Runge-Kutta passa a ser:\n",
    "\n",
    "$y_{i+1} = y_i + \\left(\\frac{1}{2}k_1 + \\frac{1}{2}k_2\\right)h$\n",
    "\n",
    "onde\n",
    "\n",
    "$k_1 = f(x_i,y_i)$\n",
    "\n",
    "$k_2 = f(x_i+h, y_i + k_1h)$\n",
    "\n",
    "\n",
    "## Método do ponto médio ($a_2 = 1$)\n",
    "\n",
    "Temos como chute $a_2 = 1$, logo\n",
    "\n",
    "$a_1 = 0$\n",
    "\n",
    "$p_1 = q_{11} = \\frac{1}{2}$\n",
    "\n",
    "logo\n",
    "\n",
    "$y_{i+1} = y_i + k_2h$\n",
    "\n",
    "onde\n",
    "\n",
    "$k_1 = f(x_i,y_i)$\n",
    "\n",
    "$k_2 = f(x_i+\\frac{1}{2}h, y_i + \\frac{1}{2}k_1h)$\n",
    "\n",
    "## Método de Ralston  ($ a_2 = \\frac{2}{3} $)\n",
    "\n",
    "$a_1 = \\frac{1}{3}$\n",
    "\n",
    "$p_1 = q_{11} = \\frac{3}{4}$\n",
    "\n",
    "logo a equação de atualização de Runge-Kutta passa a ser:\n",
    "\n",
    "$y_{i+1} = y_i + \\left(\\frac{1}{3}k_1 + \\frac{2}{3}k_2\\right)h$\n",
    "\n",
    "onde\n",
    "\n",
    "$k_1 = f(x_i,y_i)$\n",
    "\n",
    "$k_2 = f(x_i+\\frac{3}{4}h, y_i + \\frac{3}{4}k_1h)$\n",
    "\n",
    "## Exemplo \n",
    "\n",
    "1. Dada a seguinte equação diferencial:\n",
    "\n",
    "$$\\frac{dy}{dx} + 0.4y(x) = 3e^{-x}$$\n",
    "\n",
    "sabendo que y(0) = 5, encontre y(3), utilizando $h = 1.5$.\n",
    "\n",
    "**solução**\n",
    "\n",
    "Primeiro obtemos $f(x,y)$:\n",
    "\n",
    "$f(x,y) = 3e^{-x}-0.4y$\n",
    "\n",
    "Depois utilizando o método de Heun\n",
    "\n",
    "Para a primeira iteração $i=0$, temos $y(0) = y_0 = 5$ e \n",
    "\n",
    "$k_1 = f(x_0, y_0) = 3e^{-0} - 0.4(5) = 1$\n",
    "\n",
    "$k_2 = f(x_0+h, y_0 + k_1h) = f(1.5,6.5) = 3e{-1.5} - 0.4(6.5) = -1.9306$\n",
    "\n",
    "logo\n",
    "\n",
    "$y_1 = y_0 + \\left(\\frac{1}{2}k_1+\\frac{1}{2}k_2\\right)h$\n",
    "\n",
    "$y_1 = 5 + \\left(\\frac{1}{2}(1)+\\frac{1}{2}(-1.9306)\\right)(1.5) = 4.302$\n",
    "\n",
    "$y_1 = y(1.5) = 4.302$\n",
    "\n",
    "Na segunda iteração $i=1$, temos $x_1 = 1.5$ e $y_1 = 4.302$\n",
    "\n",
    "$k_1 = f(x_1, y_1) = 3e^{-1.5} - 0.4(4.302) = -1.0519$\n",
    "\n",
    "$k_2 = f(x_0+h, y_0 + k_1h) = f(3,2.7206) = 3e{-3} - 0.4(2.7206) = -0.9406$\n",
    "\n",
    "logo\n",
    "\n",
    "$y_2 = y_1 + \\left(\\frac{1}{2}k_1+\\frac{1}{2}k_2\\right)h$\n",
    "\n",
    "$y_2 = 4.302 + \\left(\\frac{1}{2}(-1.0519)+\\frac{1}{2}(-0.9406)\\right)(1.5) = 2.808$\n",
    "\n",
    "$y_2 = y(3) = 2.808$\n",
    "\n",
    "O erro real $|\\epsilon_r| = 1.63\\%$\n",
    "\n",
    "**solução 2 (Implementando em python)**\n"
   ]
  },
  {
   "cell_type": "code",
   "execution_count": 47,
   "metadata": {},
   "outputs": [],
   "source": [
    "import numpy as np\n",
    "\n",
    "def fxy(x,y):\n",
    "    return 3*np.exp(-x)-0.4*y"
   ]
  },
  {
   "cell_type": "code",
   "execution_count": 52,
   "metadata": {},
   "outputs": [],
   "source": [
    "def metodo_heun(fxy, x0, y0, xf, h):\n",
    "    it = int((xf-x0)/h)\n",
    "    y = np.zeros(it+1)\n",
    "    y[0] = y0\n",
    "    for i in range(it):\n",
    "        xi = x0+i*h\n",
    "        k1 = fxy(xi,y[i])\n",
    "        k2 = fxy(xi+h,y[i]+h*k1)\n",
    "        y[i+1] = y[i] + (k1+k2)*h/2\n",
    "    return y"
   ]
  },
  {
   "cell_type": "code",
   "execution_count": 53,
   "metadata": {},
   "outputs": [
    {
     "data": {
      "text/plain": [
       "array([5.        , 4.30204286, 2.80802291])"
      ]
     },
     "execution_count": 53,
     "metadata": {},
     "output_type": "execute_result"
    }
   ],
   "source": [
    "y_3 = metodo_heun(fxy,0,5,3,1.5) # Método de Heun com 2 iterações\n",
    "y_3"
   ]
  },
  {
   "cell_type": "code",
   "execution_count": 54,
   "metadata": {},
   "outputs": [
    {
     "data": {
      "text/plain": [
       "array([5.        , 4.85181916, 3.83333145, 2.80314774])"
      ]
     },
     "execution_count": 54,
     "metadata": {},
     "output_type": "execute_result"
    }
   ],
   "source": [
    "y_3 = metodo_heun(fxy,0,5,3,1) # Método de Heun com 3 iterações\n",
    "y_3"
   ]
  },
  {
   "cell_type": "code",
   "execution_count": 55,
   "metadata": {},
   "outputs": [
    {
     "data": {
      "text/plain": [
       "array([5.        , 5.1653682 , 5.12304392, 4.94545032, 4.6841425 ,\n",
       "       4.37545271, 4.04464569, 3.70897341, 3.37991703, 3.06482918,\n",
       "       2.76813401])"
      ]
     },
     "execution_count": 55,
     "metadata": {},
     "output_type": "execute_result"
    }
   ],
   "source": [
    "y_3 = metodo_heun(fxy,0,5,3,0.3) # Método de Heun com 10 iterações\n",
    "y_3"
   ]
  },
  {
   "cell_type": "code",
   "execution_count": 56,
   "metadata": {},
   "outputs": [
    {
     "data": {
      "text/plain": [
       "0.18581294544428179"
      ]
     },
     "execution_count": 56,
     "metadata": {},
     "output_type": "execute_result"
    }
   ],
   "source": [
    "# calculando o erro real para 10 iterações\n",
    "erro_real = np.abs((2.763 - y_3[-1])/2.763)*100\n",
    "erro_real"
   ]
  },
  {
   "cell_type": "markdown",
   "metadata": {},
   "source": [
    "# Exercício\n",
    "\n",
    "Resolva o problema anterior utilizando as equações de atualização dos métodos do ponto médio e do método de Ralston. **Dica: nenhum deles obtém melhor resultado do que o de Heun com os mesmos parâmetros**"
   ]
  },
  {
   "cell_type": "markdown",
   "metadata": {},
   "source": [
    "# Método Runge-Kutta de Quarta Ordem\n",
    "\n",
    "Os métodos RK mais populares são os de quarta ordem. Assim como nas abordagens de segunda ordem, há um número infinito de versões. O seguinte é a forma mais comumente usada e, portanto, a chamamos de método RK de quarta ordem clássico:\n",
    "\n",
    "$$y_{i+1} = y_i + \\frac{1}{6}(k_1 + 2k_2 + 2k_3 + k_4)h$$\n",
    "\n",
    "onde, \n",
    "\n",
    "$k_1 = f(x_i,y_i)$\n",
    "\n",
    "$k_2 = f(x_i + \\frac{h}{2}, y_i+\\frac{h}{2}k_1)$\n",
    "\n",
    "$k_3 = f(x_i + \\frac{h}{2}, y_i+\\frac{h}{2}k_2)$\n",
    "\n",
    "$k_4 = f(x_i + h, y_i+hk_3)$\n",
    "\n",
    "## Exercício\n",
    "\n",
    "1. Dada a seguinte equação diferencial:\n",
    "\n",
    "$$\\frac{dy}{dx} + 0.4y(x) = 3e^{-x}$$\n",
    "\n",
    "sabendo que y(0) = 5, encontre y(3), com $h = 1.5$. Utilize o método RK4 clássico.\n",
    "\n",
    "**Resposta**\n",
    "\n",
    "$y(3) \\approx 2.7588$"
   ]
  },
  {
   "cell_type": "code",
   "execution_count": null,
   "metadata": {},
   "outputs": [],
   "source": []
  }
 ],
 "metadata": {
  "kernelspec": {
   "display_name": "Python 3",
   "language": "python",
   "name": "python3"
  },
  "language_info": {
   "codemirror_mode": {
    "name": "ipython",
    "version": 3
   },
   "file_extension": ".py",
   "mimetype": "text/x-python",
   "name": "python",
   "nbconvert_exporter": "python",
   "pygments_lexer": "ipython3",
   "version": "3.7.4"
  }
 },
 "nbformat": 4,
 "nbformat_minor": 2
}
