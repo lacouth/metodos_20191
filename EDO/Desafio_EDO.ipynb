{
 "cells": [
  {
   "cell_type": "markdown",
   "metadata": {},
   "source": [
    "# Desafio EDO\n",
    "\n",
    "O crescimento populacional de organismo tem muitas aplicações em engenharia e na ciência. Um dos modelos mais simples assume que a taxa de mudança da população $p$ é proporcional a população existente em qualquer tempo $t$:\n",
    "\n",
    "$$\\frac{dp}{dt} = k_g p$$\n",
    "\n",
    "onde $k_g$ =  taxa de crescimento. A população mundial em milhões de 1950 a 2000 foi:\n",
    "\n",
    "t|p\n",
    "--|--\n",
    "1950|2560\n",
    "1955|2780\n",
    "1960|3040\n",
    "1965|3350\n",
    "1970|3710\n",
    "1975|4090\n",
    "1980|4450\n",
    "1985|4850\n",
    "1990|5280\n",
    "1995|5690\n",
    "2000|6080\n",
    "\n",
    "1. Utilize os dados de 1950 a 1970 para estimar $k_g$\n",
    "\n",
    "2. Utilize o método de RK4 junto com a estimativa de $k_g$ para estimar a população de 1950 a 2050 com intervalo de 5 anos entre cada estimativa. Mostre os dados da simulação em um gráfico."
   ]
  },
  {
   "cell_type": "code",
   "execution_count": null,
   "metadata": {},
   "outputs": [],
   "source": []
  }
 ],
 "metadata": {
  "kernelspec": {
   "display_name": "Python 3",
   "language": "python",
   "name": "python3"
  },
  "language_info": {
   "codemirror_mode": {
    "name": "ipython",
    "version": 3
   },
   "file_extension": ".py",
   "mimetype": "text/x-python",
   "name": "python",
   "nbconvert_exporter": "python",
   "pygments_lexer": "ipython3",
   "version": "3.7.4"
  }
 },
 "nbformat": 4,
 "nbformat_minor": 2
}
