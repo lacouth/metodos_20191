{
 "cells": [
  {
   "cell_type": "markdown",
   "metadata": {},
   "source": [
    "# Lista EDO \n",
    "\n",
    "1. Dada a seguinte equação diferencial:\n",
    "\n",
    "$$\\frac{dy}{dx} + 0.4y(x) = 3e^{-x}$$\n",
    "\n",
    "sabendo que y(0) = 5, encontre y(3), com $h = 1.5$. \n",
    "\n",
    "    1.1 Utilize o método de Euler clássico.\n",
    "    1.2 Utilize os métodos de RK2.\n",
    "    1.3 Utilize o método de RK4\n",
    "\n",
    "**Resposta**\n",
    "\n",
    "$y(3) \\approx 2.7588$"
   ]
  },
  {
   "cell_type": "markdown",
   "metadata": {},
   "source": [
    "\n",
    "\n",
    "2. Resolva o PVI (problema de valor inicial) no intervalo de t=0 a 2, sendo $y(0) = 1$. Mostre todos resultados em um mesmo gráfico\n",
    "\n",
    "$$\\frac{dy}{dt} = yt^3 - 1.5y$$\n",
    "\n",
    "    2.1 Utilizando o método de Euler com h = 0.5 e 0.25\n",
    "    2.2 Utilizando o método do ponto médio com h = 0.5\n",
    "    2.3 Utilizando RK4 com h = 0.5"
   ]
  },
  {
   "cell_type": "code",
   "execution_count": null,
   "metadata": {},
   "outputs": [],
   "source": []
  },
  {
   "cell_type": "markdown",
   "metadata": {},
   "source": [
    "3. Resolva o PVI no intervalo de x = 0 a 1 utilizando h = 0.25. Mostre todos os resultados em um mesmo gráfico.\n",
    "\n",
    "$$\\frac{dy}{dx} = (1+4x)\\sqrt{y}$$\n",
    "\n",
    "    3.1 Utilizando o método de Euler\n",
    "    3.2 Utilizando o método de Heun\n",
    "    3.3 Utilizando o método de Ralston\n",
    "    3.4 Utilizando RK4"
   ]
  },
  {
   "cell_type": "code",
   "execution_count": null,
   "metadata": {},
   "outputs": [],
   "source": []
  },
  {
   "cell_type": "markdown",
   "metadata": {},
   "source": [
    "4.  Resolva o seguinte problema de valor inicial no intervalo de x = -1 a 1 em que y(-1) = 1/e.\n",
    "$$\\frac{dy}{dx} = e^{2x+1}+3x^2+y$$\n",
    "\n",
    "    4.1. Usando um método de segunda ordem com h=0.01\n",
    "    \n",
    "    4.2 Usando RK4 com h=0.05"
   ]
  },
  {
   "cell_type": "code",
   "execution_count": null,
   "metadata": {},
   "outputs": [],
   "source": []
  },
  {
   "cell_type": "markdown",
   "metadata": {},
   "source": [
    "5. Dado o problema de valor inicial abaixo:\n",
    "$$y'(x) = \\frac{1}{x}(2y+x+1)$$\n",
    "$$y(1) = 0.5$$\n",
    "\n",
    "Calcule y(100) usando o método de Heun com h=0.2"
   ]
  },
  {
   "cell_type": "code",
   "execution_count": null,
   "metadata": {},
   "outputs": [],
   "source": []
  },
  {
   "cell_type": "code",
   "execution_count": null,
   "metadata": {},
   "outputs": [],
   "source": []
  }
 ],
 "metadata": {
  "kernelspec": {
   "display_name": "Python 3",
   "language": "python",
   "name": "python3"
  },
  "language_info": {
   "codemirror_mode": {
    "name": "ipython",
    "version": 3
   },
   "file_extension": ".py",
   "mimetype": "text/x-python",
   "name": "python",
   "nbconvert_exporter": "python",
   "pygments_lexer": "ipython3",
   "version": "3.7.4"
  }
 },
 "nbformat": 4,
 "nbformat_minor": 2
}
