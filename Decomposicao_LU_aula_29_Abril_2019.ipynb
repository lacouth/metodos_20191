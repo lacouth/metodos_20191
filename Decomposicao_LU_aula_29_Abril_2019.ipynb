{
  "nbformat": 4,
  "nbformat_minor": 0,
  "metadata": {
    "colab": {
      "name": "Copy of Decomposicao_LU.ipynb",
      "version": "0.3.2",
      "provenance": [],
      "include_colab_link": true
    },
    "language_info": {
      "codemirror_mode": {
        "name": "ipython",
        "version": 3
      },
      "file_extension": ".py",
      "mimetype": "text/x-python",
      "name": "python",
      "nbconvert_exporter": "python",
      "pygments_lexer": "ipython3",
      "version": "3.7.1"
    },
    "kernelspec": {
      "display_name": "Python 3",
      "language": "python",
      "name": "python3"
    }
  },
  "cells": [
    {
      "cell_type": "markdown",
      "metadata": {
        "id": "view-in-github",
        "colab_type": "text"
      },
      "source": [
        "<a href=\"https://colab.research.google.com/github/lacouth/metodos_20191/blob/master/Decomposicao_LU_aula_29_Abril_2019.ipynb\" target=\"_parent\"><img src=\"https://colab.research.google.com/assets/colab-badge.svg\" alt=\"Open In Colab\"/></a>"
      ]
    },
    {
      "metadata": {
        "graffitiCellId": "id_qe1qyfb",
        "id": "3eumRZLOXgLs",
        "colab_type": "text"
      },
      "cell_type": "markdown",
      "source": [
        "[![Binder](https://mybinder.org/badge_logo.svg)](https://mybinder.org/v2/gh/lacouth/metodos_20191/master)"
      ]
    },
    {
      "metadata": {
        "graffitiCellId": "id_5xhujfj",
        "id": "417ZbeI6XgLv",
        "colab_type": "code",
        "colab": {}
      },
      "cell_type": "code",
      "source": [
        "# NO CANTO SUPERIOR CLICK EM \"NOT TRUSTED\" PARA HABILITAR OS JS DO NOTEBOOK\n",
        "\n",
        "import jupytergraffiti #NÃO EXECUTAR ESSA CÉLULA NO GOOGLE COLAB"
      ],
      "execution_count": 0,
      "outputs": []
    },
    {
      "metadata": {
        "graffitiCellId": "id_rh7iqpp",
        "id": "6c7ji3tpXgL0",
        "colab_type": "text"
      },
      "cell_type": "markdown",
      "source": [
        "# <span class=\"graffiti-highlight graffiti-id_rh7iqpp-id_fydf14x\"><i></i>A Decomposição LU</span>"
      ]
    },
    {
      "metadata": {
        "graffitiCellId": "id_r5gwm3l",
        "id": "E-mdVWXpXgL1",
        "colab_type": "text"
      },
      "cell_type": "markdown",
      "source": [
        "## Teoria"
      ]
    },
    {
      "metadata": {
        "graffitiCellId": "id_n853e3j",
        "id": "UcW5am4vXgL2",
        "colab_type": "text"
      },
      "cell_type": "markdown",
      "source": [
        "Um sistema de equações lineares pode ser escrito como: \n",
        "\n",
        "$$ [A]_{n \\times n} [X]_{n \\times 1} = [B]_{n \\times 1} $$\n",
        "\n",
        "Podemos decompor $[A]$ como:\n",
        "\n",
        "$$ [A] = [L][U] $$\n",
        "\n",
        "onde $[L]$ é uma matriz triangular inferior e $[U]$ é uma matriz triangular superior.\n",
        "\n",
        "Teremos então:\n",
        "\n",
        "$$ [L][U][X] = [B] $$\n",
        "\n",
        "multiplicando os dois lados por $[L]^{-1}$ obtemos:\n",
        "\n",
        "$$ [L]^{-1} [L][U][X] = [L]^{-1}[B] $$\n",
        "\n",
        "Sabemos que qualquer matriz multiplicada pela sua inversa é igual a matriz identidade, logo:\n",
        "\n",
        "$$ [I][U][X] = [L]^{-1}[B] $$\n",
        "\n",
        "sabemos também que qualquer matriz multiplicada pela matriz identidade é a própria matriz, então:\n",
        "\n",
        "$$ [U][X] = [L]^{-1}[B] $$\n",
        "\n",
        "fazendo $[Z] = [L]^{-1}[B] $, temos:\n",
        "\n",
        "$$ [U][X] = [Z] $$\n",
        "\n",
        "Sabemos que $ [L]^{-1}[B] = [Z] $, multiplicamos os dos lados da equação por $[L]$ para obter:\n",
        "\n",
        "$$ [L][L]^{-1}[B] = [L] [Z] $$\n",
        "$$ [I][B] = [L][Z] $$\n",
        "$$ [B] = [L][Z] $$\n",
        "\n",
        "Ficamos com dois sistemas:\n",
        "\n",
        "$$ [L][Z] = [B] $$\n",
        "$$ [U][X] = [Z] $$\n",
        "\n",
        "Expandindo: \n",
        "\n",
        "$$\\begin{bmatrix}\\times & 0 & 0\\\\\n",
        "\\times &\\times  & 0\\\\\n",
        "\\times &\\times  &\\times\n",
        "\\end{bmatrix}\n",
        "\\begin{bmatrix}\n",
        "z_1\\\\\n",
        "z_2\\\\\n",
        "z_3\n",
        "\\end{bmatrix}\n",
        "=\n",
        "\\begin{bmatrix}\n",
        "b_1\\\\\n",
        "b_2\\\\\n",
        "b_3\n",
        "\\end{bmatrix}$$\n",
        "\n",
        "$$\\begin{bmatrix}\n",
        "\\times & \\times & \\times \\\\ \n",
        "0 &\\times  & \\times\\\\ \n",
        "0 &0  &\\times \n",
        "\\end{bmatrix}\n",
        "\\begin{bmatrix}\n",
        "x_1\\\\\n",
        "x_2\\\\\n",
        "x_3\n",
        "\\end{bmatrix}\n",
        "=\n",
        "\\begin{bmatrix}\n",
        "z_1\\\\\n",
        "z_2\\\\\n",
        "z_3\n",
        "\\end{bmatrix}$$"
      ]
    },
    {
      "metadata": {
        "graffitiCellId": "id_mntiqbu",
        "id": "vxra3lgCXgL3",
        "colab_type": "text"
      },
      "cell_type": "markdown",
      "source": [
        "## <span class=\"graffiti-highlight graffiti-id_mntiqbu-id_0pn8c4m\"><i></i>A Decomposição LU : Decompondo a matriz [A]</span>\n",
        "\n",
        "$$ [A] = \\begin{bmatrix}25 & 5 & 1\\\\\n",
        "64 & 8  & 1\\\\\n",
        "144 & 12  & 1\n",
        "\\end{bmatrix}$$\n",
        "\n",
        "$$ [A] = [L][U] $$"
      ]
    },
    {
      "metadata": {
        "graffitiCellId": "id_k0rba6z",
        "id": "duAbV7AbXgL8",
        "colab_type": "code",
        "colab": {}
      },
      "cell_type": "code",
      "source": [
        "import numpy as np\n",
        "np.set_printoptions(formatter={'float': lambda x: \"{:.3f}\".format(x)})"
      ],
      "execution_count": 0,
      "outputs": []
    },
    {
      "metadata": {
        "graffitiCellId": "id_ij1a8ww",
        "id": "_X-yDyEoXgMB",
        "colab_type": "code",
        "outputId": "d3a1e921-7b5d-4de7-932e-196918a9080e",
        "colab": {
          "base_uri": "https://localhost:8080/",
          "height": 69
        }
      },
      "cell_type": "code",
      "source": [
        "A = np.array([[25,5,1],[64,8,1],[144,12,1]],dtype = float)\n",
        "A"
      ],
      "execution_count": 0,
      "outputs": [
        {
          "output_type": "execute_result",
          "data": {
            "text/plain": [
              "array([[25.000, 5.000, 1.000],\n",
              "       [64.000, 8.000, 1.000],\n",
              "       [144.000, 12.000, 1.000]])"
            ]
          },
          "metadata": {
            "tags": []
          },
          "execution_count": 3
        }
      ]
    },
    {
      "metadata": {
        "id": "lEyu3yerdWps",
        "colab_type": "code",
        "colab": {}
      },
      "cell_type": "code",
      "source": [
        "def decompor_matriz(M):\n",
        "  U = M.copy()\n",
        "  L = np.identity(M.shape[0])\n",
        "  passos = M.shape[0]-1\n",
        "  for p in range(passos):\n",
        "    pivo = U[p,p]\n",
        "    for i in range(p+1,M.shape[0]):\n",
        "      m = U[i,p]/pivo\n",
        "      L[i,p] = m\n",
        "      U[i] = U[i] - U[p]*m\n",
        "  \n",
        "  return L,U"
      ],
      "execution_count": 0,
      "outputs": []
    },
    {
      "metadata": {
        "id": "icvT4JSqfNKp",
        "colab_type": "code",
        "outputId": "7d40dcc4-9ce0-4e0d-b978-02ff87881096",
        "colab": {
          "base_uri": "https://localhost:8080/",
          "height": 69
        }
      },
      "cell_type": "code",
      "source": [
        "L,U = decompor_matriz(A)\n",
        "L"
      ],
      "execution_count": 0,
      "outputs": [
        {
          "output_type": "execute_result",
          "data": {
            "text/plain": [
              "array([[1.000, 0.000, 0.000],\n",
              "       [2.560, 1.000, 0.000],\n",
              "       [5.760, 3.500, 1.000]])"
            ]
          },
          "metadata": {
            "tags": []
          },
          "execution_count": 5
        }
      ]
    },
    {
      "metadata": {
        "id": "SCOUCCmvfR4Z",
        "colab_type": "code",
        "outputId": "fed75c54-31c6-492b-a338-86cd9766b818",
        "colab": {
          "base_uri": "https://localhost:8080/",
          "height": 69
        }
      },
      "cell_type": "code",
      "source": [
        "U"
      ],
      "execution_count": 0,
      "outputs": [
        {
          "output_type": "execute_result",
          "data": {
            "text/plain": [
              "array([[25.000, 5.000, 1.000],\n",
              "       [0.000, -4.800, -1.560],\n",
              "       [0.000, 0.000, 0.700]])"
            ]
          },
          "metadata": {
            "tags": []
          },
          "execution_count": 6
        }
      ]
    },
    {
      "metadata": {
        "id": "T0Sh_ilwfYvZ",
        "colab_type": "code",
        "outputId": "b7b22c9f-eb5f-4ae8-a570-c92a79ed619e",
        "colab": {
          "base_uri": "https://localhost:8080/",
          "height": 69
        }
      },
      "cell_type": "code",
      "source": [
        "np.dot(L,U)"
      ],
      "execution_count": 0,
      "outputs": [
        {
          "output_type": "execute_result",
          "data": {
            "text/plain": [
              "array([[25.000, 5.000, 1.000],\n",
              "       [64.000, 8.000, 1.000],\n",
              "       [144.000, 12.000, 1.000]])"
            ]
          },
          "metadata": {
            "tags": []
          },
          "execution_count": 7
        }
      ]
    },
    {
      "metadata": {
        "graffitiCellId": "id_12xb54z",
        "id": "L1NogPqzXgMG",
        "colab_type": "text"
      },
      "cell_type": "markdown",
      "source": [
        "# <span class=\"graffiti-highlight graffiti-id_12xb54z-id_uoiiol1\"><i></i>Encontrando a matriz inversa : Teoria</span>"
      ]
    },
    {
      "metadata": {
        "graffitiCellId": "id_nkrtf84",
        "id": "4PczR-XpXgMI",
        "colab_type": "text"
      },
      "cell_type": "markdown",
      "source": [
        "Vamos supor que alguém pede para você encontrar a inversa de uma matriz quadrada $[A]_{n\\times n}$. O que você basicamente tem que encontrar é uma matriz de mesma ordem que multiplicada pela matriz $[A]$ resulte em uma matriz identidade:\n",
        "\n",
        "$$[A]_{n\\times n} [X]_{n\\times n} = [I]_{n\\times n} $$\n",
        "\n",
        "$$\\begin{bmatrix}\n",
        "a_{11} & a_{12} & a_{13} & \\ldots & a_{1n} \\\\\n",
        "a_{21} & a_{22} & a_{23} & \\ldots & a_{2n} \\\\\n",
        "\\vdots & &\\ddots & & \\vdots \\\\\n",
        "a_{n1} & a_{n2} & a_{n3} & \\ldots & a_{nn} \\\\\n",
        "\\end{bmatrix}\n",
        "\\begin{bmatrix}\n",
        "x_{11} & x_{12} & x_{13} & \\ldots & x_{1n} \\\\\n",
        "x_{21} & x_{22} & x_{23} & \\ldots & x_{2n} \\\\\n",
        "\\vdots & &\\ddots & &\\vdots \\\\\n",
        "x_{n1} & x_{n2} & x_{n3} & \\ldots & x_{nn} \\\\\n",
        "\\end{bmatrix}\n",
        "=\n",
        "\\begin{bmatrix}\n",
        "1 & 0 & 0 & \\ldots & 0 \\\\\n",
        "0 & 1 & 0 & \\ldots & 0 \\\\\n",
        "\\vdots & &\\ddots & &\\vdots \\\\\n",
        "0 & 0 & 0 & \\ldots & 1 \\\\\n",
        "\\end{bmatrix}\n",
        "$$\n",
        "\n",
        "Essa relação resulta em uma série de sistemas lineares. Por exemplo, para encontrar a primeira coluna da matriz $[X]$ você pode resolver o seguinte sistema:\n",
        "\n",
        "$$\\begin{bmatrix}\n",
        "a_{11} & a_{12} & a_{13} & \\ldots & a_{1n} \\\\\n",
        "a_{21} & a_{22} & a_{23} & \\ldots & a_{2n} \\\\\n",
        "\\vdots & &\\ddots & & \\vdots \\\\\n",
        "a_{n1} & a_{n2} & a_{n3} & \\ldots & a_{nn} \\\\\n",
        "\\end{bmatrix}\n",
        "\\begin{bmatrix}\n",
        "x_{11}\\\\\n",
        "x_{21}\\\\\n",
        "x_{31}\\\\\n",
        "\\vdots\\\\\n",
        "x_{n1}\n",
        "\\end{bmatrix}\n",
        "=\n",
        "\\begin{bmatrix}\n",
        "1\\\\\n",
        "0\\\\\n",
        "0\\\\\n",
        "\\vdots\\\\\n",
        "0\n",
        "\\end{bmatrix}$$\n",
        "\n",
        "Para encontrar a segunda coluna da matriz $[X]$ então resolvemos o sistema agora para a segunda coluna da matriz identidade:\n",
        "\n",
        "$$\\begin{bmatrix}\n",
        "a_{11} & a_{12} & a_{13} & \\ldots & a_{1n} \\\\\n",
        "a_{21} & a_{22} & a_{23} & \\ldots & a_{2n} \\\\\n",
        "\\vdots & &\\ddots & & \\vdots \\\\\n",
        "a_{n1} & a_{n2} & a_{n3} & \\ldots & a_{nn} \\\\\n",
        "\\end{bmatrix}\n",
        "\\begin{bmatrix}\n",
        "x_{12}\\\\\n",
        "x_{22}\\\\\n",
        "x_{32}\\\\\n",
        "\\vdots\\\\\n",
        "x_{n2}\n",
        "\\end{bmatrix}\n",
        "=\n",
        "\\begin{bmatrix}\n",
        "0\\\\\n",
        "1\\\\\n",
        "0\\\\\n",
        "\\vdots\\\\\n",
        "0\n",
        "\\end{bmatrix}$$\n",
        "\n",
        "Montamos sucessivos sistemas até a coluna $n$:\n",
        "\n",
        "$$\\begin{bmatrix}\n",
        "a_{11} & a_{12} & a_{13} & \\ldots & a_{1n} \\\\\n",
        "a_{21} & a_{22} & a_{23} & \\ldots & a_{2n} \\\\\n",
        "\\vdots & &\\ddots & & \\vdots \\\\\n",
        "a_{n1} & a_{n2} & a_{n3} & \\ldots & a_{nn} \\\\\n",
        "\\end{bmatrix}\n",
        "\\begin{bmatrix}\n",
        "x_{1n}\\\\\n",
        "x_{2n}\\\\\n",
        "x_{3n}\\\\\n",
        "\\vdots\\\\\n",
        "x_{nn}\n",
        "\\end{bmatrix}\n",
        "=\n",
        "\\begin{bmatrix}\n",
        "0\\\\\n",
        "0\\\\\n",
        "0\\\\\n",
        "\\vdots\\\\\n",
        "n\n",
        "\\end{bmatrix}$$\n",
        "\n",
        "## <span class=\"graffiti-highlight graffiti-id_nkrtf84-id_43iyt1v\"><i></i>Utilizando a decomposição LU</span>\n",
        "\n",
        "Para evitar ter que aplicar o passo da eliminação de Gauss em todos os sistemas, podemos decompor $[A]$ em duas matrizes $[L][U]$ e para cada sistema resolver apenas os passos de substituição.\n",
        "\n",
        "Então para encontrar a primeira coluna da matriz inversa, fazemos primeiro:\n",
        "\n",
        "$$\\begin{bmatrix}\n",
        "\\times & 0 & 0\\\\\n",
        "\\times &\\times & 0\\\\\n",
        "\\times &\\times & \\times\n",
        "\\end{bmatrix}\n",
        "\\begin{bmatrix}\n",
        "z_{1}\\\\\n",
        "z_{2}\\\\\n",
        "z_{3}\\\\\n",
        "\\end{bmatrix}\n",
        "=\n",
        "\\begin{bmatrix}\n",
        "1\\\\\n",
        "0\\\\\n",
        "0\n",
        "\\end{bmatrix}$$\n",
        "\n",
        "e depois com os valores de $[Z]$ resolvemos:\n",
        "\n",
        "$$\\begin{bmatrix}\n",
        "\\times & \\times & \\times \\\\ \n",
        "0 &\\times  & \\times\\\\ \n",
        "0 &0  &\\times \n",
        "\\end{bmatrix}\n",
        "\\begin{bmatrix}\n",
        "x_{11}\\\\\n",
        "x_{21}\\\\\n",
        "x_{31}\n",
        "\\end{bmatrix}\n",
        "=\n",
        "\\begin{bmatrix}\n",
        "z_{1}\\\\\n",
        "z_{2}\\\\\n",
        "z_{3}\\\\\n",
        "\\end{bmatrix}$$\n",
        "\n",
        "Agora para encontrar a segunda coluna apenas trocamos a matriz de termos independentes do primeiro sistema:\n",
        "\n",
        "$$\\begin{bmatrix}\n",
        "\\times & 0 & 0\\\\\n",
        "\\times &\\times & 0\\\\\n",
        "\\times &\\times & \\times\n",
        "\\end{bmatrix}\n",
        "\\begin{bmatrix}\n",
        "z_{1}\\\\\n",
        "z_{2}\\\\\n",
        "z_{3}\\\\\n",
        "\\end{bmatrix}\n",
        "=\n",
        "\\begin{bmatrix}\n",
        "0\\\\\n",
        "1\\\\\n",
        "0\n",
        "\\end{bmatrix}$$\n",
        "\n",
        "e depois com os valores de $[Z]$ resolvemos:\n",
        "\n",
        "$$\\begin{bmatrix}\n",
        "\\times & \\times & \\times \\\\ \n",
        "0 &\\times  & \\times\\\\ \n",
        "0 &0  &\\times \n",
        "\\end{bmatrix}\n",
        "\\begin{bmatrix}\n",
        "x_{12}\\\\\n",
        "x_{22}\\\\\n",
        "x_{32}\n",
        "\\end{bmatrix}\n",
        "=\n",
        "\\begin{bmatrix}\n",
        "z_{1}\\\\\n",
        "z_{2}\\\\\n",
        "z_{3}\\\\\n",
        "\\end{bmatrix}$$\n",
        "\n",
        "Resolvemos da mesma maneira até a coluna $n$ de $[X]$ mas apenas realizando as substituições diretas e reversas dos sistemas sem a necessidade dos passos de eliminação:\n",
        "\n",
        "$$[L]\n",
        "\\begin{bmatrix}\n",
        "z_{1}\\\\\n",
        "z_{2}\\\\\n",
        "z_{3}\\\\\n",
        "\\vdots\\\\\n",
        "z_{n1}\n",
        "\\end{bmatrix}\n",
        "=\n",
        "\\begin{bmatrix}\n",
        "0\\\\\n",
        "0\\\\\n",
        "0\\\\\n",
        "\\vdots\\\\\n",
        "1\n",
        "\\end{bmatrix}$$\n",
        "\n",
        "e depois com os valores de $[Z]$ resolvemos:\n",
        "\n",
        "$$[U]\n",
        "\\begin{bmatrix}\n",
        "x_{1n}\\\\\n",
        "x_{2n}\\\\\n",
        "x_{3n}\\\\\n",
        "\\vdots\\\\\n",
        "x_{nn}\n",
        "\\end{bmatrix}\n",
        "=\n",
        "\\begin{bmatrix}\n",
        "z_{1}\\\\\n",
        "z_{2}\\\\\n",
        "z_{3}\\\\\n",
        "\\vdots\\\\\n",
        "z_{n1}\n",
        "\\end{bmatrix}$$\n",
        "\n",
        "Dessa forma evitamos o passo mais complicado que é a eliminação de Gauss."
      ]
    },
    {
      "metadata": {
        "graffitiCellId": "id_uoot1cg",
        "id": "MJQl-VMOXgMJ",
        "colab_type": "text"
      },
      "cell_type": "markdown",
      "source": [
        "# <span class=\"graffiti-highlight graffiti-id_uoot1cg-id_37o8gx8\"><i></i>Decomposição LU: Exemplo</span>\n",
        "\n",
        "Encontrar a matriz inversa de:\n",
        "$$ [A] = \\begin{bmatrix}25 & 5 & 1\\\\\n",
        "64 & 8  & 1\\\\\n",
        "144 & 12  & 1\n",
        "\\end{bmatrix}$$\n",
        "\n",
        "sabendo que:\n",
        "\n",
        "$$[A][A]^{-1} = [I]$$\n"
      ]
    },
    {
      "metadata": {
        "graffitiCellId": "id_mx5jm2s",
        "id": "LmDc1D-oXgMK",
        "colab_type": "code",
        "colab": {}
      },
      "cell_type": "code",
      "source": [
        "from scipy.linalg import solve_triangular\n",
        "import numpy as np\n",
        "np.set_printoptions(formatter={'float': lambda x: \"{:.3f}\".format(x)})"
      ],
      "execution_count": 0,
      "outputs": []
    },
    {
      "metadata": {
        "graffitiCellId": "id_wwv0hyt",
        "id": "__4IIdJcXgMM",
        "colab_type": "code",
        "outputId": "f494f095-57fc-4c71-c193-e55a3c6399ff",
        "colab": {
          "base_uri": "https://localhost:8080/",
          "height": 69
        }
      },
      "cell_type": "code",
      "source": [
        "A = np.array([[25,5,1],[64,8,1],[144,12,1]],dtype = float)\n",
        "A"
      ],
      "execution_count": 0,
      "outputs": [
        {
          "output_type": "execute_result",
          "data": {
            "text/plain": [
              "array([[25.000, 5.000, 1.000],\n",
              "       [64.000, 8.000, 1.000],\n",
              "       [144.000, 12.000, 1.000]])"
            ]
          },
          "metadata": {
            "tags": []
          },
          "execution_count": 11
        }
      ]
    },
    {
      "metadata": {
        "id": "5_GmEynChF5y",
        "colab_type": "code",
        "colab": {}
      },
      "cell_type": "code",
      "source": [
        "I = np.identity(A.shape[0])\n",
        "Z = np.zeros(A.shape[0])\n",
        "A_inv = np.zeros(A.shape)\n"
      ],
      "execution_count": 0,
      "outputs": []
    },
    {
      "metadata": {
        "id": "MnF6bc1mhpGa",
        "colab_type": "code",
        "outputId": "3636c566-b7c0-4ec3-a71c-06998c114f54",
        "colab": {
          "base_uri": "https://localhost:8080/",
          "height": 69
        }
      },
      "cell_type": "code",
      "source": [
        "L,U = decompor_matriz(A)\n",
        "\n",
        "Z = solve_triangular(L,I[:,0], lower=True)\n",
        "A_inv[:,0] = solve_triangular(U,Z)\n",
        "A_inv"
      ],
      "execution_count": 0,
      "outputs": [
        {
          "output_type": "execute_result",
          "data": {
            "text/plain": [
              "array([[0.048, 0.000, 0.000],\n",
              "       [-0.952, 0.000, 0.000],\n",
              "       [4.571, 0.000, 0.000]])"
            ]
          },
          "metadata": {
            "tags": []
          },
          "execution_count": 15
        }
      ]
    },
    {
      "metadata": {
        "id": "xXoxU2lhib2G",
        "colab_type": "code",
        "outputId": "a5d326c0-b845-4876-c84c-80b5b12377ef",
        "colab": {
          "base_uri": "https://localhost:8080/",
          "height": 69
        }
      },
      "cell_type": "code",
      "source": [
        "Z = solve_triangular(L, I[:,1], lower=True)\n",
        "A_inv[:,1] = solve_triangular(U,Z)\n",
        "\n",
        "Z = solve_triangular(L, I[:,2], lower=True)\n",
        "A_inv[:,2] = solve_triangular(U,Z)\n",
        "A_inv"
      ],
      "execution_count": 0,
      "outputs": [
        {
          "output_type": "execute_result",
          "data": {
            "text/plain": [
              "array([[0.048, -0.083, 0.036],\n",
              "       [-0.952, 1.417, -0.464],\n",
              "       [4.571, -5.000, 1.429]])"
            ]
          },
          "metadata": {
            "tags": []
          },
          "execution_count": 16
        }
      ]
    },
    {
      "metadata": {
        "id": "0nN5n4xii1tW",
        "colab_type": "code",
        "outputId": "6efbbb84-436d-4930-a5b7-89222dd7be3d",
        "colab": {
          "base_uri": "https://localhost:8080/",
          "height": 69
        }
      },
      "cell_type": "code",
      "source": [
        "np.dot(A,A_inv)"
      ],
      "execution_count": 0,
      "outputs": [
        {
          "output_type": "execute_result",
          "data": {
            "text/plain": [
              "array([[1.000, 0.000, 0.000],\n",
              "       [0.000, 1.000, 0.000],\n",
              "       [0.000, -0.000, 1.000]])"
            ]
          },
          "metadata": {
            "tags": []
          },
          "execution_count": 17
        }
      ]
    },
    {
      "metadata": {
        "graffitiCellId": "id_yma0rts",
        "id": "sxw0N6P0XgMQ",
        "colab_type": "text"
      },
      "cell_type": "markdown",
      "source": [
        "# Exercícios\n",
        "\n",
        "1. Calcule a decomposição LU de cada uma das matrizes abaixo:\n",
        "\n",
        "    a. \n",
        "$$ A = \\begin{bmatrix}2 & 1 \\\\-4 & -6\\end{bmatrix}$$\n",
        "    b.\n",
        "$$ A = \\begin{bmatrix}2 & 1 & -4 \\\\2 & 2 & -2\\\\6&3&-11\\end{bmatrix}$$\n",
        "    c.\n",
        "$$ A = \\begin{bmatrix}1 & 3 & 2 \\\\2 & 8 & 5\\\\1&11&4\\end{bmatrix}$$\n",
        "\n",
        "2. Encontre as matrizes inversas de cada um dos itens anteriores"
      ]
    },
    {
      "metadata": {
        "graffitiCellId": "id_796j0nm",
        "id": "TaEJNEZ3XgMR",
        "colab_type": "code",
        "colab": {}
      },
      "cell_type": "code",
      "source": [
        ""
      ],
      "execution_count": 0,
      "outputs": []
    }
  ]
}